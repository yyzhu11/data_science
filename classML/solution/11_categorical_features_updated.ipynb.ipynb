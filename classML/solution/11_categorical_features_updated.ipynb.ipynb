{
 "cells": [
  {
   "cell_type": "code",
   "execution_count": null,
   "metadata": {
    "id": "UTsOaHDhj8jP"
   },
   "outputs": [],
   "source": [
    "import pandas as pd"
   ]
  },
  {
   "cell_type": "code",
   "execution_count": null,
   "metadata": {
    "id": "psvyS50Fj8jT"
   },
   "outputs": [],
   "source": [
    "# df = pd.read_csv('../data/sales.csv')\n",
    "df = pd.read_csv('sales.csv')"
   ]
  },
  {
   "cell_type": "code",
   "execution_count": null,
   "metadata": {
    "id": "QWHQQLTjj8jU"
   },
   "outputs": [],
   "source": [
    "df.dropna(subset=['price'], inplace=True)"
   ]
  },
  {
   "cell_type": "code",
   "execution_count": null,
   "metadata": {
    "id": "RbF-6i60j8jU",
    "outputId": "f5bcc271-9fe2-47a5-f2fd-9d24b80b0eb3"
   },
   "outputs": [
    {
     "data": {
      "text/html": [
       "<div>\n",
       "<style scoped>\n",
       "    .dataframe tbody tr th:only-of-type {\n",
       "        vertical-align: middle;\n",
       "    }\n",
       "\n",
       "    .dataframe tbody tr th {\n",
       "        vertical-align: top;\n",
       "    }\n",
       "\n",
       "    .dataframe thead th {\n",
       "        text-align: right;\n",
       "    }\n",
       "</style>\n",
       "<table border=\"1\" class=\"dataframe\">\n",
       "  <thead>\n",
       "    <tr style=\"text-align: right;\">\n",
       "      <th></th>\n",
       "      <th>cost</th>\n",
       "      <th>price</th>\n",
       "      <th>weight</th>\n",
       "      <th>purchase_date</th>\n",
       "      <th>product_type</th>\n",
       "      <th>product_level</th>\n",
       "      <th>maker</th>\n",
       "      <th>ingredient</th>\n",
       "      <th>height</th>\n",
       "      <th>width</th>\n",
       "      <th>depth</th>\n",
       "    </tr>\n",
       "  </thead>\n",
       "  <tbody>\n",
       "    <tr>\n",
       "      <th>0</th>\n",
       "      <td>$333k</td>\n",
       "      <td>$300,492</td>\n",
       "      <td>3 Ton 90 Kg</td>\n",
       "      <td>Dec 19 2008</td>\n",
       "      <td>Q,B</td>\n",
       "      <td>advanced</td>\n",
       "      <td>M14122</td>\n",
       "      <td>IN732052,IN732053</td>\n",
       "      <td>2.76 meters</td>\n",
       "      <td>97 cm</td>\n",
       "      <td>26 cm</td>\n",
       "    </tr>\n",
       "    <tr>\n",
       "      <th>1</th>\n",
       "      <td>NaN</td>\n",
       "      <td>$430,570</td>\n",
       "      <td>3 Ton 30 Kg</td>\n",
       "      <td>Sep 10 1997</td>\n",
       "      <td>J,D</td>\n",
       "      <td>basic</td>\n",
       "      <td>NaN</td>\n",
       "      <td>IN732054,IN732055,IN732056,IN732057,IN732058</td>\n",
       "      <td>2.67 meters</td>\n",
       "      <td>98 cm</td>\n",
       "      <td>26 cm</td>\n",
       "    </tr>\n",
       "    <tr>\n",
       "      <th>2</th>\n",
       "      <td>$270k</td>\n",
       "      <td>$213,070</td>\n",
       "      <td>3 Ton 40 Kg</td>\n",
       "      <td>Sep 05 2001</td>\n",
       "      <td>J,D</td>\n",
       "      <td>basic</td>\n",
       "      <td>NaN</td>\n",
       "      <td>IN732054,IN732059,IN732060</td>\n",
       "      <td>3.0 meters</td>\n",
       "      <td>93 cm</td>\n",
       "      <td>24 cm</td>\n",
       "    </tr>\n",
       "    <tr>\n",
       "      <th>3</th>\n",
       "      <td>NaN</td>\n",
       "      <td>$229,174</td>\n",
       "      <td>3 Ton 50 Kg</td>\n",
       "      <td>Dec 23 2016</td>\n",
       "      <td>U</td>\n",
       "      <td>advanced</td>\n",
       "      <td>M14123</td>\n",
       "      <td>IN732061,IN732062,IN732063</td>\n",
       "      <td>2.5 meters</td>\n",
       "      <td>102 cm</td>\n",
       "      <td>27 cm</td>\n",
       "    </tr>\n",
       "    <tr>\n",
       "      <th>4</th>\n",
       "      <td>$97k</td>\n",
       "      <td>$122,659</td>\n",
       "      <td>2 Ton 970 Kg</td>\n",
       "      <td>Jan 12 2000</td>\n",
       "      <td>D,R</td>\n",
       "      <td>advanced</td>\n",
       "      <td>NaN</td>\n",
       "      <td>IN732064,IN732065,IN732066</td>\n",
       "      <td>2.47 meters</td>\n",
       "      <td>101 cm</td>\n",
       "      <td>26 cm</td>\n",
       "    </tr>\n",
       "  </tbody>\n",
       "</table>\n",
       "</div>"
      ],
      "text/plain": [
       "    cost     price        weight purchase_date product_type product_level  \\\n",
       "0  $333k  $300,492   3 Ton 90 Kg   Dec 19 2008          Q,B      advanced   \n",
       "1    NaN  $430,570   3 Ton 30 Kg   Sep 10 1997          J,D         basic   \n",
       "2  $270k  $213,070   3 Ton 40 Kg   Sep 05 2001          J,D         basic   \n",
       "3    NaN  $229,174   3 Ton 50 Kg   Dec 23 2016            U      advanced   \n",
       "4   $97k  $122,659  2 Ton 970 Kg   Jan 12 2000          D,R      advanced   \n",
       "\n",
       "    maker                                    ingredient       height   width  \\\n",
       "0  M14122                             IN732052,IN732053  2.76 meters   97 cm   \n",
       "1     NaN  IN732054,IN732055,IN732056,IN732057,IN732058  2.67 meters   98 cm   \n",
       "2     NaN                    IN732054,IN732059,IN732060   3.0 meters   93 cm   \n",
       "3  M14123                    IN732061,IN732062,IN732063   2.5 meters  102 cm   \n",
       "4     NaN                    IN732064,IN732065,IN732066  2.47 meters  101 cm   \n",
       "\n",
       "   depth  \n",
       "0  26 cm  \n",
       "1  26 cm  \n",
       "2  24 cm  \n",
       "3  27 cm  \n",
       "4  26 cm  "
      ]
     },
     "execution_count": 4,
     "metadata": {},
     "output_type": "execute_result"
    }
   ],
   "source": [
    "df.head()"
   ]
  },
  {
   "cell_type": "code",
   "execution_count": null,
   "metadata": {
    "id": "hjkJKgDHj8jW"
   },
   "outputs": [],
   "source": [
    "df['year'] = pd.to_datetime(df.purchase_date).dt.year\n",
    "\n",
    "train_raw = df[df.year < 2015].reset_index(drop=True)\n",
    "test_raw = df[df.year >= 2015].reset_index(drop=True)"
   ]
  },
  {
   "cell_type": "markdown",
   "metadata": {
    "id": "6jzLtEngj8jW"
   },
   "source": [
    "# 1. Dummy Transformer"
   ]
  },
  {
   "cell_type": "markdown",
   "metadata": {
    "id": "wT60UNX5j8jX"
   },
   "source": [
    "<font color='red'>Question:</font> What are dummy variables?"
   ]
  },
  {
   "cell_type": "markdown",
   "metadata": {
    "id": "-1qq_C8Yj8jY"
   },
   "source": [
    "**ANS:**\n",
    "<br>Dummy variables are numeical variables (0 or 1) that represent categorical data. **One-hot encoding**"
   ]
  },
  {
   "cell_type": "markdown",
   "metadata": {
    "id": "c_Lgf4usj8jZ"
   },
   "source": [
    "**Example:** Class to transform **product_level** to dummy variables. "
   ]
  },
  {
   "cell_type": "code",
   "execution_count": null,
   "metadata": {
    "id": "CeKXVzF1j8ja"
   },
   "outputs": [],
   "source": [
    "class Dummy_Transformer(object):\n",
    "    \n",
    "    def fit(self, X, y=None):\n",
    "        self.keys = set(X)\n",
    "    \n",
    "    def transform(self, X, y=None):\n",
    "        res = {}\n",
    "        for key in self.keys:\n",
    "            res[key] = [0]*len(X)    \n",
    "        for i, item in enumerate(X):\n",
    "            if item in self.keys:\n",
    "                res[item][i] = 1\n",
    "        return pd.DataFrame(res)\n",
    "    \n",
    "    def fit_transform(self, X, y=None):\n",
    "        self.fit(X)\n",
    "        return self.transform(X)        "
   ]
  },
  {
   "cell_type": "code",
   "execution_count": null,
   "metadata": {
    "id": "8wY7hAC2j8jb"
   },
   "outputs": [],
   "source": [
    "dummytf = Dummy_Transformer()"
   ]
  },
  {
   "cell_type": "code",
   "execution_count": null,
   "metadata": {
    "id": "InS55PGDj8jb",
    "outputId": "eb2b51eb-e23b-478a-ebf8-590c4de308d7"
   },
   "outputs": [
    {
     "data": {
      "text/html": [
       "<div>\n",
       "<style scoped>\n",
       "    .dataframe tbody tr th:only-of-type {\n",
       "        vertical-align: middle;\n",
       "    }\n",
       "\n",
       "    .dataframe tbody tr th {\n",
       "        vertical-align: top;\n",
       "    }\n",
       "\n",
       "    .dataframe thead th {\n",
       "        text-align: right;\n",
       "    }\n",
       "</style>\n",
       "<table border=\"1\" class=\"dataframe\">\n",
       "  <thead>\n",
       "    <tr style=\"text-align: right;\">\n",
       "      <th></th>\n",
       "      <th>basic</th>\n",
       "      <th>super advanced</th>\n",
       "      <th>advanced</th>\n",
       "      <th>intermediate</th>\n",
       "      <th>unrated</th>\n",
       "    </tr>\n",
       "  </thead>\n",
       "  <tbody>\n",
       "    <tr>\n",
       "      <th>0</th>\n",
       "      <td>0</td>\n",
       "      <td>0</td>\n",
       "      <td>1</td>\n",
       "      <td>0</td>\n",
       "      <td>0</td>\n",
       "    </tr>\n",
       "    <tr>\n",
       "      <th>1</th>\n",
       "      <td>1</td>\n",
       "      <td>0</td>\n",
       "      <td>0</td>\n",
       "      <td>0</td>\n",
       "      <td>0</td>\n",
       "    </tr>\n",
       "    <tr>\n",
       "      <th>2</th>\n",
       "      <td>1</td>\n",
       "      <td>0</td>\n",
       "      <td>0</td>\n",
       "      <td>0</td>\n",
       "      <td>0</td>\n",
       "    </tr>\n",
       "    <tr>\n",
       "      <th>3</th>\n",
       "      <td>0</td>\n",
       "      <td>0</td>\n",
       "      <td>1</td>\n",
       "      <td>0</td>\n",
       "      <td>0</td>\n",
       "    </tr>\n",
       "    <tr>\n",
       "      <th>4</th>\n",
       "      <td>0</td>\n",
       "      <td>0</td>\n",
       "      <td>1</td>\n",
       "      <td>0</td>\n",
       "      <td>0</td>\n",
       "    </tr>\n",
       "  </tbody>\n",
       "</table>\n",
       "</div>"
      ],
      "text/plain": [
       "   basic  super advanced  advanced  intermediate  unrated\n",
       "0      0               0         1             0        0\n",
       "1      1               0         0             0        0\n",
       "2      1               0         0             0        0\n",
       "3      0               0         1             0        0\n",
       "4      0               0         1             0        0"
      ]
     },
     "execution_count": 8,
     "metadata": {},
     "output_type": "execute_result"
    }
   ],
   "source": [
    "dummytf.fit_transform(df.product_level).head()"
   ]
  },
  {
   "cell_type": "markdown",
   "metadata": {
    "id": "C92_X3vEj8jc"
   },
   "source": [
    "##### <font color='red'>Question:</font> any potential issues with this method?"
   ]
  },
  {
   "cell_type": "markdown",
   "metadata": {
    "id": "urcj9Uh2j8jc"
   },
   "source": [
    "<font color='red'>Assignment:</font> Wrap up the above dummy transformer with LinearRegression as pipeline to predict **price**. "
   ]
  },
  {
   "cell_type": "code",
   "execution_count": null,
   "metadata": {
    "colab": {
     "base_uri": "https://localhost:8080/",
     "height": 235
    },
    "executionInfo": {
     "elapsed": 1542,
     "status": "error",
     "timestamp": 1652543585171,
     "user": {
      "displayName": "Michael zhang",
      "userId": "03005446934086017333"
     },
     "user_tz": 300
    },
    "id": "p3HXT0EBj8jd",
    "outputId": "75f9c630-b5fe-4a9e-8eaa-cfbc072b8131"
   },
   "outputs": [
    {
     "ename": "NameError",
     "evalue": "ignored",
     "output_type": "error",
     "traceback": [
      "\u001b[0;31m---------------------------------------------------------------------------\u001b[0m",
      "\u001b[0;31mNameError\u001b[0m                                 Traceback (most recent call last)",
      "\u001b[0;32m<ipython-input-1-1c9a34572ff2>\u001b[0m in \u001b[0;36m<module>\u001b[0;34m()\u001b[0m\n\u001b[1;32m     10\u001b[0m     \u001b[0;32mreturn\u001b[0m \u001b[0mfloat\u001b[0m\u001b[0;34m(\u001b[0m\u001b[0mx\u001b[0m\u001b[0;34m)\u001b[0m\u001b[0;34m\u001b[0m\u001b[0;34m\u001b[0m\u001b[0m\n\u001b[1;32m     11\u001b[0m \u001b[0;34m\u001b[0m\u001b[0m\n\u001b[0;32m---> 12\u001b[0;31m \u001b[0mX_train\u001b[0m \u001b[0;34m=\u001b[0m \u001b[0mtrain_raw\u001b[0m\u001b[0;34m[\u001b[0m\u001b[0mfeature\u001b[0m\u001b[0;34m]\u001b[0m\u001b[0;34m\u001b[0m\u001b[0;34m\u001b[0m\u001b[0m\n\u001b[0m\u001b[1;32m     13\u001b[0m \u001b[0my_train\u001b[0m \u001b[0;34m=\u001b[0m \u001b[0mtrain_raw\u001b[0m\u001b[0;34m[\u001b[0m\u001b[0mtarget\u001b[0m\u001b[0;34m]\u001b[0m\u001b[0;34m.\u001b[0m\u001b[0mmap\u001b[0m\u001b[0;34m(\u001b[0m\u001b[0mprice2num\u001b[0m\u001b[0;34m)\u001b[0m\u001b[0;34m\u001b[0m\u001b[0;34m\u001b[0m\u001b[0m\n\u001b[1;32m     14\u001b[0m \u001b[0;34m\u001b[0m\u001b[0m\n",
      "\u001b[0;31mNameError\u001b[0m: name 'train_raw' is not defined"
     ]
    }
   ],
   "source": [
    "from sklearn.linear_model import LinearRegression\n",
    "from sklearn.pipeline import Pipeline\n",
    "\n",
    "feature = \"product_level\"\n",
    "target = \"price\"\n",
    "\n",
    "def price2num(x):\n",
    "    if isinstance(x, str):\n",
    "        x = x.strip(\"$\").replace(\",\",\"\")\n",
    "    return float(x)\n",
    "\n",
    "X_train = train_raw[feature]\n",
    "y_train = train_raw[target].map(price2num)\n",
    "\n",
    "X_test = test_raw[feature]\n",
    "y_test = test_raw[target].map(price2num)\n",
    "\n",
    "steps = [(\"dtf\", Dummy_Transformer()), (\"lr\", LinearRegression())]\n",
    "\n",
    "model = Pipeline(steps)\n",
    "model = model.fit(X_train, y_train)"
   ]
  },
  {
   "cell_type": "code",
   "execution_count": null,
   "metadata": {
    "id": "I9OaFAEMj8jd"
   },
   "outputs": [],
   "source": [
    "'''Train data visualization'''\n",
    "import matplotlib.pylab as plt\n",
    "%matplotlib inline\n",
    "\n",
    "y_train_pred = model.predict(X_train)\n",
    "\n",
    "plt.scatter(y_train, y_train_pred, alpha=0.3)\n"
   ]
  },
  {
   "cell_type": "code",
   "execution_count": null,
   "metadata": {
    "id": "0xfTQw_Uj8je"
   },
   "outputs": [],
   "source": [
    "'''Test data visualization'''\n",
    "\n",
    "y_test_pred = model.predict(X_test)\n",
    "\n",
    "plt.scatter(y_test, y_test_pred, alpha=0.3)"
   ]
  },
  {
   "cell_type": "markdown",
   "metadata": {
    "id": "ZuyjV6Kzj8je"
   },
   "source": [
    "# 2. Frequence Transformer"
   ]
  },
  {
   "cell_type": "markdown",
   "metadata": {
    "id": "I8ObVvG5j8je"
   },
   "source": [
    "<font color='red'>Assignment:</font> Write a class to replace the categorical values in **product_level** with their frequencies."
   ]
  },
  {
   "cell_type": "markdown",
   "metadata": {
    "id": "Jq6ACZnbj8jf"
   },
   "source": [
    "**steps**\n",
    "1. calculate the count/frequency of each product_level\n",
    "2. replace the original product_level by the fequecny of that product_level"
   ]
  },
  {
   "cell_type": "code",
   "execution_count": null,
   "metadata": {
    "id": "jq6Dj0Uuj8jf"
   },
   "outputs": [],
   "source": [
    "class Freq_Transformer():\n",
    "    \n",
    "    def fit(self, X, y=None):\n",
    "        self.keys = set(X)\n",
    "        \n",
    "    def transform(self, X, y=None):\n",
    "        freq = {key: 0 for key in self.keys}\n",
    "        ans = {\"product_level\": [0]*len(X)}\n",
    "        for item in X:\n",
    "            freq[item] += 1\n",
    "        for idx in range(len(X)):\n",
    "            ans[\"product_level\"][idx] = freq[X[idx]]\n",
    "        return pd.DataFrame(ans)\n",
    "        \n",
    "    def fit_transform(self, X, y=None):\n",
    "        self.fit(X, y)\n",
    "        return self.transform(X, y)"
   ]
  },
  {
   "cell_type": "code",
   "execution_count": null,
   "metadata": {
    "id": "zsNDg3cKj8jf",
    "outputId": "78185a67-2d80-47af-e2d5-c8a06a1f0cc6"
   },
   "outputs": [
    {
     "data": {
      "text/html": [
       "<div>\n",
       "<style scoped>\n",
       "    .dataframe tbody tr th:only-of-type {\n",
       "        vertical-align: middle;\n",
       "    }\n",
       "\n",
       "    .dataframe tbody tr th {\n",
       "        vertical-align: top;\n",
       "    }\n",
       "\n",
       "    .dataframe thead th {\n",
       "        text-align: right;\n",
       "    }\n",
       "</style>\n",
       "<table border=\"1\" class=\"dataframe\">\n",
       "  <thead>\n",
       "    <tr style=\"text-align: right;\">\n",
       "      <th></th>\n",
       "      <th>product_level</th>\n",
       "    </tr>\n",
       "  </thead>\n",
       "  <tbody>\n",
       "    <tr>\n",
       "      <th>0</th>\n",
       "      <td>1139</td>\n",
       "    </tr>\n",
       "    <tr>\n",
       "      <th>1</th>\n",
       "      <td>107</td>\n",
       "    </tr>\n",
       "    <tr>\n",
       "      <th>2</th>\n",
       "      <td>107</td>\n",
       "    </tr>\n",
       "    <tr>\n",
       "      <th>3</th>\n",
       "      <td>1139</td>\n",
       "    </tr>\n",
       "    <tr>\n",
       "      <th>4</th>\n",
       "      <td>1050</td>\n",
       "    </tr>\n",
       "    <tr>\n",
       "      <th>...</th>\n",
       "      <td>...</td>\n",
       "    </tr>\n",
       "    <tr>\n",
       "      <th>2752</th>\n",
       "      <td>460</td>\n",
       "    </tr>\n",
       "    <tr>\n",
       "      <th>2753</th>\n",
       "      <td>1139</td>\n",
       "    </tr>\n",
       "    <tr>\n",
       "      <th>2754</th>\n",
       "      <td>460</td>\n",
       "    </tr>\n",
       "    <tr>\n",
       "      <th>2755</th>\n",
       "      <td>1139</td>\n",
       "    </tr>\n",
       "    <tr>\n",
       "      <th>2756</th>\n",
       "      <td>1050</td>\n",
       "    </tr>\n",
       "  </tbody>\n",
       "</table>\n",
       "<p>2757 rows × 1 columns</p>\n",
       "</div>"
      ],
      "text/plain": [
       "      product_level\n",
       "0              1139\n",
       "1               107\n",
       "2               107\n",
       "3              1139\n",
       "4              1050\n",
       "...             ...\n",
       "2752            460\n",
       "2753           1139\n",
       "2754            460\n",
       "2755           1139\n",
       "2756           1050\n",
       "\n",
       "[2757 rows x 1 columns]"
      ]
     },
     "execution_count": 13,
     "metadata": {},
     "output_type": "execute_result"
    }
   ],
   "source": [
    "ctf = Freq_Transformer()\n",
    "ctf.fit_transform(X_train)"
   ]
  },
  {
   "cell_type": "markdown",
   "metadata": {
    "id": "IWCQGjIqj8jg"
   },
   "source": [
    "<font color='red'>Assignment:</font> Plot the relationship between **product_level** frequencies and **price**."
   ]
  },
  {
   "cell_type": "code",
   "execution_count": null,
   "metadata": {
    "id": "59Sp7Gh_j8jg",
    "outputId": "b5bda493-e039-45dc-fc2f-7b7a542fdec7"
   },
   "outputs": [
    {
     "data": {
      "text/plain": [
       "<matplotlib.collections.PathCollection at 0x2a146f984c8>"
      ]
     },
     "execution_count": 14,
     "metadata": {},
     "output_type": "execute_result"
    },
    {
     "data": {
      "image/png": "[encoded data removed]",
      "text/plain": [
       "<Figure size 432x288 with 1 Axes>"
      ]
     },
     "metadata": {
      "needs_background": "light"
     },
     "output_type": "display_data"
    }
   ],
   "source": [
    "plt.scatter(ctf.fit_transform(X_train), y_train)"
   ]
  },
  {
   "cell_type": "markdown",
   "metadata": {
    "id": "1K4FFgEIj8jg"
   },
   "source": [
    "# 3. Ordinal Transformer"
   ]
  },
  {
   "cell_type": "markdown",
   "metadata": {
    "id": "h08IcwlZj8jh"
   },
   "source": [
    "<font color='red'>Assignment:</font> The relationships between the values in **product_level** can be represented by ordinal numbers. Write a class to replace the level values with their ordinal numbers."
   ]
  },
  {
   "cell_type": "code",
   "execution_count": null,
   "metadata": {
    "id": "LAikcHy2j8jh"
   },
   "outputs": [],
   "source": [
    "class Ordinal_Transformer():\n",
    "    \n",
    "    def fit(self, X, y=None):\n",
    "        self.convert = {\"unrated\": 0, \"basic\": 1, \"intermediate\": 2, \"advanced\": 3, \"super advanced\": 4}\n",
    "        \n",
    "    def transform(self, X, y=None):\n",
    "        ans = {\"product_level\": [0]*len(X)}\n",
    "        for idx in range(len(X)):\n",
    "            ans[\"product_level\"][idx] = self.convert[X[idx]]\n",
    "        return pd.DataFrame(ans)\n",
    "        \n",
    "    def fit_transform(self, X, y=None):\n",
    "        self.fit(X, y)\n",
    "        return self.transform(X, y)"
   ]
  },
  {
   "cell_type": "markdown",
   "metadata": {
    "id": "osTh4sQDj8jh"
   },
   "source": [
    "##### <font color='red'>Questions:</font>\n",
    "1. how to determine the ordinal?\n",
    "2. does it matter how you determine the ordinal?"
   ]
  },
  {
   "cell_type": "code",
   "execution_count": null,
   "metadata": {
    "id": "IZ5wlKnwj8jh",
    "outputId": "9ad14887-6c75-40ff-e8b2-c3723413fb68"
   },
   "outputs": [
    {
     "data": {
      "text/html": [
       "<div>\n",
       "<style scoped>\n",
       "    .dataframe tbody tr th:only-of-type {\n",
       "        vertical-align: middle;\n",
       "    }\n",
       "\n",
       "    .dataframe tbody tr th {\n",
       "        vertical-align: top;\n",
       "    }\n",
       "\n",
       "    .dataframe thead th {\n",
       "        text-align: right;\n",
       "    }\n",
       "</style>\n",
       "<table border=\"1\" class=\"dataframe\">\n",
       "  <thead>\n",
       "    <tr style=\"text-align: right;\">\n",
       "      <th></th>\n",
       "      <th>product_level</th>\n",
       "    </tr>\n",
       "  </thead>\n",
       "  <tbody>\n",
       "    <tr>\n",
       "      <th>0</th>\n",
       "      <td>3</td>\n",
       "    </tr>\n",
       "    <tr>\n",
       "      <th>1</th>\n",
       "      <td>1</td>\n",
       "    </tr>\n",
       "    <tr>\n",
       "      <th>2</th>\n",
       "      <td>1</td>\n",
       "    </tr>\n",
       "    <tr>\n",
       "      <th>3</th>\n",
       "      <td>3</td>\n",
       "    </tr>\n",
       "    <tr>\n",
       "      <th>4</th>\n",
       "      <td>4</td>\n",
       "    </tr>\n",
       "    <tr>\n",
       "      <th>...</th>\n",
       "      <td>...</td>\n",
       "    </tr>\n",
       "    <tr>\n",
       "      <th>2752</th>\n",
       "      <td>2</td>\n",
       "    </tr>\n",
       "    <tr>\n",
       "      <th>2753</th>\n",
       "      <td>3</td>\n",
       "    </tr>\n",
       "    <tr>\n",
       "      <th>2754</th>\n",
       "      <td>2</td>\n",
       "    </tr>\n",
       "    <tr>\n",
       "      <th>2755</th>\n",
       "      <td>3</td>\n",
       "    </tr>\n",
       "    <tr>\n",
       "      <th>2756</th>\n",
       "      <td>4</td>\n",
       "    </tr>\n",
       "  </tbody>\n",
       "</table>\n",
       "<p>2757 rows × 1 columns</p>\n",
       "</div>"
      ],
      "text/plain": [
       "      product_level\n",
       "0                 3\n",
       "1                 1\n",
       "2                 1\n",
       "3                 3\n",
       "4                 4\n",
       "...             ...\n",
       "2752              2\n",
       "2753              3\n",
       "2754              2\n",
       "2755              3\n",
       "2756              4\n",
       "\n",
       "[2757 rows x 1 columns]"
      ]
     },
     "execution_count": 16,
     "metadata": {},
     "output_type": "execute_result"
    }
   ],
   "source": [
    "otf = Ordinal_Transformer()\n",
    "otf.fit_transform(X_train)"
   ]
  },
  {
   "cell_type": "markdown",
   "metadata": {
    "id": "0WelrgSZj8ji"
   },
   "source": [
    "<font color='red'>Assignment:</font> Plot the relationship between **product_level** ordinal numbers and **price**."
   ]
  },
  {
   "cell_type": "code",
   "execution_count": null,
   "metadata": {
    "id": "VyEk7wvSj8ji",
    "outputId": "e7d31d97-2d3b-4ef2-8785-2d92b9fbf282"
   },
   "outputs": [
    {
     "data": {
      "text/plain": [
       "<matplotlib.collections.PathCollection at 0x2a1470785c8>"
      ]
     },
     "execution_count": 17,
     "metadata": {},
     "output_type": "execute_result"
    },
    {
     "data": {
      "image/png": "[encoded data removed]",
      "text/plain": [
       "<Figure size 432x288 with 1 Axes>"
      ]
     },
     "metadata": {
      "needs_background": "light"
     },
     "output_type": "display_data"
    }
   ],
   "source": [
    "plt.scatter(otf.fit_transform(X_train), y_train)"
   ]
  },
  {
   "cell_type": "markdown",
   "metadata": {
    "id": "tGwr_zb2j8ji"
   },
   "source": [
    "# 4. Text Vectorization"
   ]
  },
  {
   "cell_type": "markdown",
   "metadata": {
    "id": "5MDiAbeAj8ji"
   },
   "source": [
    "Column **ingredient** is more complex. There are missing values. And also many rows contains multiple ingredients."
   ]
  },
  {
   "cell_type": "markdown",
   "metadata": {
    "id": "OOkMSY2Cj8ji"
   },
   "source": [
    "## 4.1 Missing values"
   ]
  },
  {
   "cell_type": "markdown",
   "metadata": {
    "id": "6cbOFUnjj8ji"
   },
   "source": [
    "<font color='red'>Assignment:</font> In **train_raw**, impute the missing values in **ingredient** as **unknown_ingredient**, and assign the imputed **ingredient** to a variable **train_imputed_ingredient**."
   ]
  },
  {
   "cell_type": "code",
   "execution_count": null,
   "metadata": {
    "id": "o7QerZBMj8jj"
   },
   "outputs": [],
   "source": [
    "train_imputed_ingredient = train_raw[\"ingredient\"].fillna(\"unknown_ingredient\")"
   ]
  },
  {
   "cell_type": "markdown",
   "metadata": {
    "id": "VtBQlmNUj8jj"
   },
   "source": [
    "<font color='red'>Questions:</font> What are other ways to impute or handle missing categorical values? What are the good ways to handle different amounts of missing categorical values, like a few lines, a small fraction (say 2%), a considerable fraction (say 30%), and majority (say 95%)?"
   ]
  },
  {
   "cell_type": "markdown",
   "metadata": {
    "id": "CRfe38hdj8jj"
   },
   "source": [
    "**ANS:**\n",
    "<br>Handle missing categorical values:\n",
    "<br>1. Ignor there missing values\n",
    "<br>2. Replace with most frequent value\n",
    "<br>3. Replace using an algorithm like KNN using the neighbours\n",
    "<br>4. Predict the observation using a multiclass predictor.\n",
    "<br>\n",
    "<br>A few line: drop the missing values\n",
    "<br>A small fraction: replace with most frequent value\n",
    "<br>A considerable fraction: build a model to predict the value\n",
    "<br>Majority: if the NaN means 0 or has obvious meaning, then imput. Otherwise, ignor the variable"
   ]
  },
  {
   "cell_type": "markdown",
   "metadata": {
    "id": "MRBFfp-xj8jj"
   },
   "source": [
    "## 4.2 Countvectorizer"
   ]
  },
  {
   "cell_type": "markdown",
   "metadata": {
    "id": "y2ZwHcz6j8jj"
   },
   "source": [
    "**Example:** Import **CountVectorizer**"
   ]
  },
  {
   "cell_type": "code",
   "execution_count": null,
   "metadata": {
    "id": "6xYZPKg2j8jj"
   },
   "outputs": [],
   "source": [
    "from sklearn.feature_extraction.text import CountVectorizer"
   ]
  },
  {
   "cell_type": "markdown",
   "metadata": {
    "id": "TKCO-OVij8jk"
   },
   "source": [
    "<font color='red'>Assignment:</font> Fit and transform **train_imputed_ingredient** using **CountVectorizer**. Assign the output to **X_train**."
   ]
  },
  {
   "cell_type": "code",
   "execution_count": null,
   "metadata": {
    "id": "JvE5fWPSj8jk"
   },
   "outputs": [],
   "source": [
    "cv = CountVectorizer()\n",
    "X_train = cv.fit_transform(train_imputed_ingredient)"
   ]
  },
  {
   "cell_type": "markdown",
   "metadata": {
    "id": "gVVkJUI7j8jk"
   },
   "source": [
    "<font color='red'>Assignment:</font> Get the type and shape of **X_train**. "
   ]
  },
  {
   "cell_type": "code",
   "execution_count": null,
   "metadata": {
    "id": "e6I6qw4xj8jk",
    "outputId": "d4190a37-3267-4557-d5b2-67afc77c1cae"
   },
   "outputs": [
    {
     "name": "stdout",
     "output_type": "stream",
     "text": [
      "Type: <class 'scipy.sparse.csr.csr_matrix'>\n",
      "Shape: (2757, 1858)\n"
     ]
    }
   ],
   "source": [
    "print(\"Type:\", type(X_train))\n",
    "print(\"Shape:\", X_train.shape)"
   ]
  },
  {
   "cell_type": "code",
   "execution_count": null,
   "metadata": {
    "id": "avotCA75j8jk",
    "outputId": "cc2e716e-e94c-4134-cfa3-f462bc0e5edb"
   },
   "outputs": [
    {
     "data": {
      "text/plain": [
       "<429x1858 sparse matrix of type '<class 'numpy.int64'>'\n",
       "\twith 1954 stored elements in Compressed Sparse Row format>"
      ]
     },
     "execution_count": 34,
     "metadata": {},
     "output_type": "execute_result"
    }
   ],
   "source": [
    "cv.transform(X_test)"
   ]
  },
  {
   "cell_type": "markdown",
   "metadata": {
    "id": "NlYBBSMkj8jl"
   },
   "source": [
    "<font color='red'>Question:</font> What is a sparse matrix?"
   ]
  },
  {
   "cell_type": "markdown",
   "metadata": {
    "id": "YBePpYZ8j8jl"
   },
   "source": [
    "**ANS:**\n",
    "<br>A sparse matrix is a matrix in which most of the elements are zero."
   ]
  },
  {
   "cell_type": "markdown",
   "metadata": {
    "id": "tS0Z4ThTj8jl"
   },
   "source": [
    "**Example**: Assign the output of **ingredient** generated with **CountVectorizer** to a DataFrame named **train_ingredient_df**, name the columns with features. "
   ]
  },
  {
   "cell_type": "code",
   "execution_count": null,
   "metadata": {
    "id": "uNJxfm4Cj8jl",
    "outputId": "403bbf55-a1fe-4c62-81ff-df38c2b555a2"
   },
   "outputs": [
    {
     "data": {
      "text/html": [
       "<div>\n",
       "<style scoped>\n",
       "    .dataframe tbody tr th:only-of-type {\n",
       "        vertical-align: middle;\n",
       "    }\n",
       "\n",
       "    .dataframe tbody tr th {\n",
       "        vertical-align: top;\n",
       "    }\n",
       "\n",
       "    .dataframe thead th {\n",
       "        text-align: right;\n",
       "    }\n",
       "</style>\n",
       "<table border=\"1\" class=\"dataframe\">\n",
       "  <thead>\n",
       "    <tr style=\"text-align: right;\">\n",
       "      <th></th>\n",
       "      <th>in732052</th>\n",
       "      <th>in732053</th>\n",
       "      <th>in732054</th>\n",
       "      <th>in732055</th>\n",
       "      <th>in732056</th>\n",
       "      <th>in732057</th>\n",
       "      <th>in732058</th>\n",
       "      <th>in732059</th>\n",
       "      <th>in732060</th>\n",
       "      <th>in732061</th>\n",
       "      <th>...</th>\n",
       "      <th>in734073</th>\n",
       "      <th>in734074</th>\n",
       "      <th>in734075</th>\n",
       "      <th>in734076</th>\n",
       "      <th>in734079</th>\n",
       "      <th>in734080</th>\n",
       "      <th>in734081</th>\n",
       "      <th>in734086</th>\n",
       "      <th>in734087</th>\n",
       "      <th>unknown_ingredient</th>\n",
       "    </tr>\n",
       "  </thead>\n",
       "  <tbody>\n",
       "    <tr>\n",
       "      <th>0</th>\n",
       "      <td>1</td>\n",
       "      <td>1</td>\n",
       "      <td>0</td>\n",
       "      <td>0</td>\n",
       "      <td>0</td>\n",
       "      <td>0</td>\n",
       "      <td>0</td>\n",
       "      <td>0</td>\n",
       "      <td>0</td>\n",
       "      <td>0</td>\n",
       "      <td>...</td>\n",
       "      <td>0</td>\n",
       "      <td>0</td>\n",
       "      <td>0</td>\n",
       "      <td>0</td>\n",
       "      <td>0</td>\n",
       "      <td>0</td>\n",
       "      <td>0</td>\n",
       "      <td>0</td>\n",
       "      <td>0</td>\n",
       "      <td>0</td>\n",
       "    </tr>\n",
       "    <tr>\n",
       "      <th>1</th>\n",
       "      <td>0</td>\n",
       "      <td>0</td>\n",
       "      <td>1</td>\n",
       "      <td>1</td>\n",
       "      <td>1</td>\n",
       "      <td>1</td>\n",
       "      <td>1</td>\n",
       "      <td>0</td>\n",
       "      <td>0</td>\n",
       "      <td>0</td>\n",
       "      <td>...</td>\n",
       "      <td>0</td>\n",
       "      <td>0</td>\n",
       "      <td>0</td>\n",
       "      <td>0</td>\n",
       "      <td>0</td>\n",
       "      <td>0</td>\n",
       "      <td>0</td>\n",
       "      <td>0</td>\n",
       "      <td>0</td>\n",
       "      <td>0</td>\n",
       "    </tr>\n",
       "    <tr>\n",
       "      <th>2</th>\n",
       "      <td>0</td>\n",
       "      <td>0</td>\n",
       "      <td>1</td>\n",
       "      <td>0</td>\n",
       "      <td>0</td>\n",
       "      <td>0</td>\n",
       "      <td>0</td>\n",
       "      <td>1</td>\n",
       "      <td>1</td>\n",
       "      <td>0</td>\n",
       "      <td>...</td>\n",
       "      <td>0</td>\n",
       "      <td>0</td>\n",
       "      <td>0</td>\n",
       "      <td>0</td>\n",
       "      <td>0</td>\n",
       "      <td>0</td>\n",
       "      <td>0</td>\n",
       "      <td>0</td>\n",
       "      <td>0</td>\n",
       "      <td>0</td>\n",
       "    </tr>\n",
       "    <tr>\n",
       "      <th>3</th>\n",
       "      <td>0</td>\n",
       "      <td>0</td>\n",
       "      <td>0</td>\n",
       "      <td>0</td>\n",
       "      <td>0</td>\n",
       "      <td>0</td>\n",
       "      <td>0</td>\n",
       "      <td>0</td>\n",
       "      <td>0</td>\n",
       "      <td>0</td>\n",
       "      <td>...</td>\n",
       "      <td>0</td>\n",
       "      <td>0</td>\n",
       "      <td>0</td>\n",
       "      <td>0</td>\n",
       "      <td>0</td>\n",
       "      <td>0</td>\n",
       "      <td>0</td>\n",
       "      <td>0</td>\n",
       "      <td>0</td>\n",
       "      <td>0</td>\n",
       "    </tr>\n",
       "    <tr>\n",
       "      <th>4</th>\n",
       "      <td>0</td>\n",
       "      <td>0</td>\n",
       "      <td>0</td>\n",
       "      <td>0</td>\n",
       "      <td>0</td>\n",
       "      <td>0</td>\n",
       "      <td>0</td>\n",
       "      <td>0</td>\n",
       "      <td>0</td>\n",
       "      <td>0</td>\n",
       "      <td>...</td>\n",
       "      <td>0</td>\n",
       "      <td>0</td>\n",
       "      <td>0</td>\n",
       "      <td>0</td>\n",
       "      <td>0</td>\n",
       "      <td>0</td>\n",
       "      <td>0</td>\n",
       "      <td>0</td>\n",
       "      <td>0</td>\n",
       "      <td>0</td>\n",
       "    </tr>\n",
       "  </tbody>\n",
       "</table>\n",
       "<p>5 rows × 1858 columns</p>\n",
       "</div>"
      ],
      "text/plain": [
       "   in732052  in732053  in732054  in732055  in732056  in732057  in732058  \\\n",
       "0         1         1         0         0         0         0         0   \n",
       "1         0         0         1         1         1         1         1   \n",
       "2         0         0         1         0         0         0         0   \n",
       "3         0         0         0         0         0         0         0   \n",
       "4         0         0         0         0         0         0         0   \n",
       "\n",
       "   in732059  in732060  in732061  ...  in734073  in734074  in734075  in734076  \\\n",
       "0         0         0         0  ...         0         0         0         0   \n",
       "1         0         0         0  ...         0         0         0         0   \n",
       "2         1         1         0  ...         0         0         0         0   \n",
       "3         0         0         0  ...         0         0         0         0   \n",
       "4         0         0         0  ...         0         0         0         0   \n",
       "\n",
       "   in734079  in734080  in734081  in734086  in734087  unknown_ingredient  \n",
       "0         0         0         0         0         0                   0  \n",
       "1         0         0         0         0         0                   0  \n",
       "2         0         0         0         0         0                   0  \n",
       "3         0         0         0         0         0                   0  \n",
       "4         0         0         0         0         0                   0  \n",
       "\n",
       "[5 rows x 1858 columns]"
      ]
     },
     "execution_count": 25,
     "metadata": {},
     "output_type": "execute_result"
    }
   ],
   "source": [
    "train_ingredient_df = pd.DataFrame(X_train.todense())\n",
    "train_ingredient_df = train_ingredient_df.rename(columns={v: k for k, v in cv.vocabulary_.items()})\n",
    "train_ingredient_df.head()"
   ]
  },
  {
   "cell_type": "markdown",
   "metadata": {
    "id": "vDkZg2P0j8jl"
   },
   "source": [
    "\n",
    "<font color='red'>Assignment:</font> Train a new model using **Pipeline** to wrap up **CountVectorizer** and **LinearRegression** to predict **price**, and get both the train and test scores."
   ]
  },
  {
   "cell_type": "code",
   "execution_count": null,
   "metadata": {
    "id": "LxWS-2w0j8jl"
   },
   "outputs": [],
   "source": [
    "from sklearn.metrics import mean_absolute_error, mean_squared_error, r2_score\n",
    "\n",
    "X_train = train_raw[\"ingredient\"].fillna(\"unknown_ingredient\")\n",
    "y_train = train_raw[\"price\"].map(price2num)\n",
    "\n",
    "X_test = test_raw[\"ingredient\"].fillna(\"unknown_ingredient\")\n",
    "y_test = test_raw[\"price\"].map(price2num)\n",
    "\n",
    "steps = [(\"cv\", CountVectorizer()), (\"lr\", LinearRegression())]\n",
    "\n",
    "model = Pipeline(steps)\n",
    "model = model.fit(X_train, y_train)"
   ]
  },
  {
   "cell_type": "code",
   "execution_count": null,
   "metadata": {
    "id": "2LxW8RL9j8jm",
    "outputId": "39b728fd-6325-47d2-93d9-d8286dfcaef1"
   },
   "outputs": [
    {
     "name": "stdout",
     "output_type": "stream",
     "text": [
      "Train MAE: 5.22e+04\n",
      "Train MSE: 6.94e+09\n",
      "Train R2 score: 0.837\n"
     ]
    }
   ],
   "source": [
    "'''Train'''\n",
    "\n",
    "y_train_pred = model.predict(X_train)\n",
    "\n",
    "print(\"Train MAE: {0:0.2e}\".format(mean_absolute_error(y_train, y_train_pred)))\n",
    "print(\"Train MSE: {0:0.2e}\".format(mean_squared_error(y_train, y_train_pred)))\n",
    "print(\"Train R2 score: {0:0.3f}\".format(r2_score(y_train, y_train_pred)))"
   ]
  },
  {
   "cell_type": "code",
   "execution_count": null,
   "metadata": {
    "id": "b5ge2soKj8jm",
    "outputId": "ae590b34-81ba-40f7-d2a5-e0f64ed0f37d"
   },
   "outputs": [
    {
     "name": "stdout",
     "output_type": "stream",
     "text": [
      "Test MAE: 4.65e+05\n",
      "Test MSE: 5.47e+11\n",
      "Test R2 score: -5.347\n"
     ]
    }
   ],
   "source": [
    "'''Test'''\n",
    "\n",
    "y_test_pred = model.predict(X_test)\n",
    "\n",
    "print(\"Test MAE: {0:0.2e}\".format(mean_absolute_error(y_test, y_test_pred)))\n",
    "print(\"Test MSE: {0:0.2e}\".format(mean_squared_error(y_test, y_test_pred)))\n",
    "print(\"Test R2 score: {0:0.3f}\".format(r2_score(y_test, y_test_pred)))"
   ]
  },
  {
   "cell_type": "markdown",
   "metadata": {
    "id": "0E29-aRcj8jm"
   },
   "source": [
    "##### <font color = 'blue'> Is this test result strange? </font>"
   ]
  },
  {
   "cell_type": "markdown",
   "metadata": {
    "id": "wEF8pXIzj8jm"
   },
   "source": [
    "##### dont't fit on test data"
   ]
  }
 ],
 "metadata": {
  "colab": {
   "name": "11_categorical_features_updated.ipynb",
   "provenance": []
  },
  "kernelspec": {
   "display_name": "Python 3 (ipykernel)",
   "language": "python",
   "name": "python3"
  },
  "language_info": {
   "codemirror_mode": {
    "name": "ipython",
    "version": 3
   },
   "file_extension": ".py",
   "mimetype": "text/x-python",
   "name": "python",
   "nbconvert_exporter": "python",
   "pygments_lexer": "ipython3",
   "version": "3.9.12"
  },
  "toc": {
   "base_numbering": 1,
   "nav_menu": {},
   "number_sections": true,
   "sideBar": true,
   "skip_h1_title": false,
   "title_cell": "Table of Contents",
   "title_sidebar": "Contents",
   "toc_cell": false,
   "toc_position": {},
   "toc_section_display": true,
   "toc_window_display": false
  }
 },
 "nbformat": 4,
 "nbformat_minor": 1
}

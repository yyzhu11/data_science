{
 "cells": [
  {
   "cell_type": "code",
   "execution_count": 1,
   "metadata": {
    "id": "FdQ3RWKka5n4"
   },
   "outputs": [],
   "source": [
    "import pandas as pd\n",
    "\n",
    "# df = pd.read_csv('../data/sales.csv')\n",
    "df = pd.read_csv('sales.csv')\n",
    "df.dropna(subset=['price'], inplace=True)"
   ]
  },
  {
   "cell_type": "code",
   "execution_count": 2,
   "metadata": {
    "id": "hl1FzV8Aa5n_",
    "outputId": "96fe3149-da35-40c3-aa66-ca75b78dd8d8"
   },
   "outputs": [
    {
     "data": {
      "text/html": [
       "<div>\n",
       "<style scoped>\n",
       "    .dataframe tbody tr th:only-of-type {\n",
       "        vertical-align: middle;\n",
       "    }\n",
       "\n",
       "    .dataframe tbody tr th {\n",
       "        vertical-align: top;\n",
       "    }\n",
       "\n",
       "    .dataframe thead th {\n",
       "        text-align: right;\n",
       "    }\n",
       "</style>\n",
       "<table border=\"1\" class=\"dataframe\">\n",
       "  <thead>\n",
       "    <tr style=\"text-align: right;\">\n",
       "      <th></th>\n",
       "      <th>cost</th>\n",
       "      <th>price</th>\n",
       "      <th>weight</th>\n",
       "      <th>purchase_date</th>\n",
       "      <th>product_type</th>\n",
       "      <th>product_level</th>\n",
       "      <th>maker</th>\n",
       "      <th>ingredient</th>\n",
       "      <th>height</th>\n",
       "      <th>width</th>\n",
       "      <th>depth</th>\n",
       "    </tr>\n",
       "  </thead>\n",
       "  <tbody>\n",
       "    <tr>\n",
       "      <th>0</th>\n",
       "      <td>$333k</td>\n",
       "      <td>$300,492</td>\n",
       "      <td>3 Ton 90 Kg</td>\n",
       "      <td>Dec 19 2008</td>\n",
       "      <td>Q,B</td>\n",
       "      <td>advanced</td>\n",
       "      <td>M14122</td>\n",
       "      <td>IN732052,IN732053</td>\n",
       "      <td>2.76 meters</td>\n",
       "      <td>97 cm</td>\n",
       "      <td>26 cm</td>\n",
       "    </tr>\n",
       "    <tr>\n",
       "      <th>1</th>\n",
       "      <td>NaN</td>\n",
       "      <td>$430,570</td>\n",
       "      <td>3 Ton 30 Kg</td>\n",
       "      <td>Sep 10 1997</td>\n",
       "      <td>J,D</td>\n",
       "      <td>basic</td>\n",
       "      <td>NaN</td>\n",
       "      <td>IN732054,IN732055,IN732056,IN732057,IN732058</td>\n",
       "      <td>2.67 meters</td>\n",
       "      <td>98 cm</td>\n",
       "      <td>26 cm</td>\n",
       "    </tr>\n",
       "    <tr>\n",
       "      <th>2</th>\n",
       "      <td>$270k</td>\n",
       "      <td>$213,070</td>\n",
       "      <td>3 Ton 40 Kg</td>\n",
       "      <td>Sep 05 2001</td>\n",
       "      <td>J,D</td>\n",
       "      <td>basic</td>\n",
       "      <td>NaN</td>\n",
       "      <td>IN732054,IN732059,IN732060</td>\n",
       "      <td>3.0 meters</td>\n",
       "      <td>93 cm</td>\n",
       "      <td>24 cm</td>\n",
       "    </tr>\n",
       "    <tr>\n",
       "      <th>3</th>\n",
       "      <td>NaN</td>\n",
       "      <td>$229,174</td>\n",
       "      <td>3 Ton 50 Kg</td>\n",
       "      <td>Dec 23 2016</td>\n",
       "      <td>U</td>\n",
       "      <td>advanced</td>\n",
       "      <td>M14123</td>\n",
       "      <td>IN732061,IN732062,IN732063</td>\n",
       "      <td>2.5 meters</td>\n",
       "      <td>102 cm</td>\n",
       "      <td>27 cm</td>\n",
       "    </tr>\n",
       "    <tr>\n",
       "      <th>4</th>\n",
       "      <td>$97k</td>\n",
       "      <td>$122,659</td>\n",
       "      <td>2 Ton 970 Kg</td>\n",
       "      <td>Jan 12 2000</td>\n",
       "      <td>D,R</td>\n",
       "      <td>advanced</td>\n",
       "      <td>NaN</td>\n",
       "      <td>IN732064,IN732065,IN732066</td>\n",
       "      <td>2.47 meters</td>\n",
       "      <td>101 cm</td>\n",
       "      <td>26 cm</td>\n",
       "    </tr>\n",
       "  </tbody>\n",
       "</table>\n",
       "</div>"
      ],
      "text/plain": [
       "    cost     price        weight purchase_date product_type product_level  \\\n",
       "0  $333k  $300,492   3 Ton 90 Kg   Dec 19 2008          Q,B      advanced   \n",
       "1    NaN  $430,570   3 Ton 30 Kg   Sep 10 1997          J,D         basic   \n",
       "2  $270k  $213,070   3 Ton 40 Kg   Sep 05 2001          J,D         basic   \n",
       "3    NaN  $229,174   3 Ton 50 Kg   Dec 23 2016            U      advanced   \n",
       "4   $97k  $122,659  2 Ton 970 Kg   Jan 12 2000          D,R      advanced   \n",
       "\n",
       "    maker                                    ingredient       height   width  \\\n",
       "0  M14122                             IN732052,IN732053  2.76 meters   97 cm   \n",
       "1     NaN  IN732054,IN732055,IN732056,IN732057,IN732058  2.67 meters   98 cm   \n",
       "2     NaN                    IN732054,IN732059,IN732060   3.0 meters   93 cm   \n",
       "3  M14123                    IN732061,IN732062,IN732063   2.5 meters  102 cm   \n",
       "4     NaN                    IN732064,IN732065,IN732066  2.47 meters  101 cm   \n",
       "\n",
       "   depth  \n",
       "0  26 cm  \n",
       "1  26 cm  \n",
       "2  24 cm  \n",
       "3  27 cm  \n",
       "4  26 cm  "
      ]
     },
     "execution_count": 2,
     "metadata": {},
     "output_type": "execute_result"
    }
   ],
   "source": [
    "df.head()"
   ]
  },
  {
   "cell_type": "code",
   "execution_count": 3,
   "metadata": {
    "id": "Ni1Ljvapa5oC"
   },
   "outputs": [],
   "source": [
    "df['year'] = pd.to_datetime(df.purchase_date).dt.year\n",
    "train_raw = df[df.year < 2015].reset_index(drop=True)\n",
    "test_raw = df[df.year >= 2015].reset_index(drop=True)"
   ]
  },
  {
   "cell_type": "markdown",
   "metadata": {
    "id": "RGuLIaTxa5oD"
   },
   "source": [
    "# 1. Cost Transformation Class"
   ]
  },
  {
   "cell_type": "markdown",
   "metadata": {
    "id": "NzynqZ82a5oE"
   },
   "source": [
    "**Example:** Cost Transformer. Because we need to use it with **Pipeline**, we need both X and y in the functions **fit**, **transform**, and **fit_transform**."
   ]
  },
  {
   "cell_type": "markdown",
   "metadata": {
    "id": "i3Dwp3-_a5oE"
   },
   "source": [
    "**bold text**![image.png](attachment:image.png)"
   ]
  },
  {
   "cell_type": "markdown",
   "metadata": {
    "id": "GXiL-iUFa5oF"
   },
   "source": [
    "##### <font color='red'>*</font> Cost_Transformer  \n",
    "1. the input to Cost_Transformer must be a dataframe and must have a 'cost' column\n",
    "2. output of the this transfomer is a dataframe with only one column 'cost'"
   ]
  },
  {
   "cell_type": "code",
   "execution_count": 4,
   "metadata": {
    "id": "QCVgzEBja5oF"
   },
   "outputs": [],
   "source": [
    "class Cost_Transformer(object):\n",
    "    \n",
    "    def fit(self, X, y=None):\n",
    "        df = pd.DataFrame()\n",
    "        df['cost'] = X.cost.map(self.cost2num) # X must be a dataframe with column 'cost'\n",
    "        self.mean = df.mean()\n",
    "        \n",
    "    def transform(self, X, y=None):\n",
    "        df = pd.DataFrame()\n",
    "        df['cost'] = X.cost.map(self.cost2num)\n",
    "        return df.fillna(self.mean) # output of the this transfomer is a dataframe with only one column 'cost'\n",
    "    \n",
    "    def fit_transform(self, X, y=None):\n",
    "        self.fit(X)\n",
    "        return self.transform(X)\n",
    "\n",
    "    def cost2num(self, x):\n",
    "        if type(x) == str: \n",
    "            x = x.strip('$').strip('k')\n",
    "            return float(x)*1000\n",
    "        else:\n",
    "            return x"
   ]
  },
  {
   "cell_type": "code",
   "execution_count": 5,
   "metadata": {
    "id": "huJ6h7zTa5oG"
   },
   "outputs": [],
   "source": [
    "ctf = Cost_Transformer()"
   ]
  },
  {
   "cell_type": "code",
   "execution_count": 6,
   "metadata": {
    "id": "pTRai43Pa5oG",
    "outputId": "50a2c7f2-c315-468e-c765-81d972e73a03"
   },
   "outputs": [
    {
     "data": {
      "text/html": [
       "<div>\n",
       "<style scoped>\n",
       "    .dataframe tbody tr th:only-of-type {\n",
       "        vertical-align: middle;\n",
       "    }\n",
       "\n",
       "    .dataframe tbody tr th {\n",
       "        vertical-align: top;\n",
       "    }\n",
       "\n",
       "    .dataframe thead th {\n",
       "        text-align: right;\n",
       "    }\n",
       "</style>\n",
       "<table border=\"1\" class=\"dataframe\">\n",
       "  <thead>\n",
       "    <tr style=\"text-align: right;\">\n",
       "      <th></th>\n",
       "      <th>cost</th>\n",
       "    </tr>\n",
       "  </thead>\n",
       "  <tbody>\n",
       "    <tr>\n",
       "      <th>0</th>\n",
       "      <td>333000.000000</td>\n",
       "    </tr>\n",
       "    <tr>\n",
       "      <th>1</th>\n",
       "      <td>166184.183143</td>\n",
       "    </tr>\n",
       "    <tr>\n",
       "      <th>2</th>\n",
       "      <td>270000.000000</td>\n",
       "    </tr>\n",
       "    <tr>\n",
       "      <th>3</th>\n",
       "      <td>97000.000000</td>\n",
       "    </tr>\n",
       "    <tr>\n",
       "      <th>4</th>\n",
       "      <td>59000.000000</td>\n",
       "    </tr>\n",
       "  </tbody>\n",
       "</table>\n",
       "</div>"
      ],
      "text/plain": [
       "            cost\n",
       "0  333000.000000\n",
       "1  166184.183143\n",
       "2  270000.000000\n",
       "3   97000.000000\n",
       "4   59000.000000"
      ]
     },
     "execution_count": 6,
     "metadata": {},
     "output_type": "execute_result"
    }
   ],
   "source": [
    "ctf.fit_transform(train_raw).head()"
   ]
  },
  {
   "cell_type": "code",
   "execution_count": 7,
   "metadata": {
    "id": "voXR7o03a5oH",
    "outputId": "69b38f61-50f1-4b70-8ac9-5e44909ce0cf"
   },
   "outputs": [
    {
     "data": {
      "text/html": [
       "<div>\n",
       "<style scoped>\n",
       "    .dataframe tbody tr th:only-of-type {\n",
       "        vertical-align: middle;\n",
       "    }\n",
       "\n",
       "    .dataframe tbody tr th {\n",
       "        vertical-align: top;\n",
       "    }\n",
       "\n",
       "    .dataframe thead th {\n",
       "        text-align: right;\n",
       "    }\n",
       "</style>\n",
       "<table border=\"1\" class=\"dataframe\">\n",
       "  <thead>\n",
       "    <tr style=\"text-align: right;\">\n",
       "      <th></th>\n",
       "      <th>cost</th>\n",
       "    </tr>\n",
       "  </thead>\n",
       "  <tbody>\n",
       "    <tr>\n",
       "      <th>0</th>\n",
       "      <td>166184.183143</td>\n",
       "    </tr>\n",
       "    <tr>\n",
       "      <th>1</th>\n",
       "      <td>160000.000000</td>\n",
       "    </tr>\n",
       "    <tr>\n",
       "      <th>2</th>\n",
       "      <td>160000.000000</td>\n",
       "    </tr>\n",
       "    <tr>\n",
       "      <th>3</th>\n",
       "      <td>166184.183143</td>\n",
       "    </tr>\n",
       "    <tr>\n",
       "      <th>4</th>\n",
       "      <td>18000.000000</td>\n",
       "    </tr>\n",
       "  </tbody>\n",
       "</table>\n",
       "</div>"
      ],
      "text/plain": [
       "            cost\n",
       "0  166184.183143\n",
       "1  160000.000000\n",
       "2  160000.000000\n",
       "3  166184.183143\n",
       "4   18000.000000"
      ]
     },
     "execution_count": 7,
     "metadata": {},
     "output_type": "execute_result"
    }
   ],
   "source": [
    "ctf.transform(test_raw).head()"
   ]
  },
  {
   "cell_type": "markdown",
   "metadata": {
    "id": "JzQmgxYYa5oH"
   },
   "source": [
    "# 2. End-to-end solution"
   ]
  },
  {
   "cell_type": "markdown",
   "metadata": {
    "id": "rIsUVpGha5oI"
   },
   "source": [
    "**Knowledge:** Wrapping up the feature engineering modules together with modeling modules provides an end-to-end solution to get scores from raw data."
   ]
  },
  {
   "cell_type": "code",
   "execution_count": 8,
   "metadata": {
    "id": "L1iRfTJPa5oI"
   },
   "outputs": [],
   "source": [
    "features = list(train_raw.columns)\n",
    "target = 'price'\n",
    "features.remove(target)"
   ]
  },
  {
   "cell_type": "code",
   "execution_count": 9,
   "metadata": {
    "id": "PPaJZpOGa5oJ"
   },
   "outputs": [],
   "source": [
    "def price2num(x):\n",
    "    if type(x) == str: \n",
    "        x = x.strip('$').replace(',', '')\n",
    "    return float(x)"
   ]
  },
  {
   "cell_type": "code",
   "execution_count": 10,
   "metadata": {
    "id": "e_OBrcTxa5oJ"
   },
   "outputs": [],
   "source": [
    "X_train = train_raw[features]\n",
    "y_train = train_raw[target].map(price2num)\n",
    "\n",
    "X_test = test_raw[features]\n",
    "y_test = test_raw[target].map(price2num)"
   ]
  },
  {
   "cell_type": "code",
   "execution_count": 11,
   "metadata": {
    "id": "NaaVJo9Ua5oJ"
   },
   "outputs": [],
   "source": [
    "from sklearn.pipeline import Pipeline\n",
    "from sklearn.linear_model import LinearRegression\n",
    "from sklearn.preprocessing import PolynomialFeatures\n",
    "from sklearn.preprocessing import MinMaxScaler\n",
    "from sklearn.metrics import mean_absolute_error, mean_squared_error, r2_score"
   ]
  },
  {
   "cell_type": "code",
   "execution_count": 12,
   "metadata": {
    "id": "PUZ9ZygZa5oK"
   },
   "outputs": [],
   "source": [
    "steps = [('ctf', Cost_Transformer()),\n",
    "         ('poly', PolynomialFeatures(degree = 30)),\n",
    "         ('rescale', MinMaxScaler()),\n",
    "         ('lr', LinearRegression())]\n",
    "model = Pipeline(steps)\n",
    "model = model.fit(X_train, y_train)"
   ]
  },
  {
   "cell_type": "markdown",
   "metadata": {
    "id": "ECQs2xFVa5oK"
   },
   "source": [
    "<font color='red'>Assignment:</font> Calculate train and test loss; visualize relationship between **cost** and **price**."
   ]
  },
  {
   "cell_type": "markdown",
   "metadata": {
    "id": "I9GgWlPpa5oL"
   },
   "source": [
    "### <font color='red'>*</font> I have a question: cost data should be the raw numeric data (i.e., before fillna), right?"
   ]
  },
  {
   "cell_type": "code",
   "execution_count": 13,
   "metadata": {
    "colab": {
     "base_uri": "https://localhost:8080/",
     "height": 166
    },
    "executionInfo": {
     "elapsed": 57,
     "status": "error",
     "timestamp": 1641689052780,
     "user": {
      "displayName": "Zoey He",
      "photoUrl": "https://lh3.googleusercontent.com/a/default-user=s64",
      "userId": "15531607692958354289"
     },
     "user_tz": 300
    },
    "id": "3FM4SV9wa5oL",
    "outputId": "11ae8805-87dd-4ec8-eff9-58cbedccb41a"
   },
   "outputs": [],
   "source": [
    "y_train_pred = model.predict(X_train)"
   ]
  },
  {
   "cell_type": "code",
   "execution_count": 14,
   "metadata": {
    "executionInfo": {
     "elapsed": 28,
     "status": "aborted",
     "timestamp": 1641689052766,
     "user": {
      "displayName": "Zoey He",
      "photoUrl": "https://lh3.googleusercontent.com/a/default-user=s64",
      "userId": "15531607692958354289"
     },
     "user_tz": 300
    },
    "id": "bjIIfKdFa5oL"
   },
   "outputs": [
    {
     "name": "stdout",
     "output_type": "stream",
     "text": [
      "train MAE: 1.06e+05\n",
      "train MSE: 2.68e+10\n",
      "train R2: 0.370\n"
     ]
    }
   ],
   "source": [
    "print('train MAE: {0:.2e}'.format(mean_absolute_error(y_train, y_train_pred)))\n",
    "print('train MSE: {0:.2e}'.format(mean_squared_error(y_train, y_train_pred)))\n",
    "print('train R2: {0:.3f}'.format(r2_score(y_train, y_train_pred)))"
   ]
  },
  {
   "cell_type": "code",
   "execution_count": 15,
   "metadata": {
    "executionInfo": {
     "elapsed": 29,
     "status": "aborted",
     "timestamp": 1641689052770,
     "user": {
      "displayName": "Zoey He",
      "photoUrl": "https://lh3.googleusercontent.com/a/default-user=s64",
      "userId": "15531607692958354289"
     },
     "user_tz": 300
    },
    "id": "M9Ho574sa5oM"
   },
   "outputs": [],
   "source": [
    "y_test_pred = model.predict(X_test)"
   ]
  },
  {
   "cell_type": "code",
   "execution_count": 16,
   "metadata": {
    "executionInfo": {
     "elapsed": 29,
     "status": "aborted",
     "timestamp": 1641689052772,
     "user": {
      "displayName": "Zoey He",
      "photoUrl": "https://lh3.googleusercontent.com/a/default-user=s64",
      "userId": "15531607692958354289"
     },
     "user_tz": 300
    },
    "id": "1PjBSpGTa5oM"
   },
   "outputs": [
    {
     "name": "stdout",
     "output_type": "stream",
     "text": [
      "test MAE: 1.44e+05\n",
      "test MSE: 1.28e+11\n",
      "test R2: -0.488\n"
     ]
    }
   ],
   "source": [
    "print('test MAE: {0:.2e}'.format(mean_absolute_error(y_test, y_test_pred)))\n",
    "print('test MSE: {0:.2e}'.format(mean_squared_error(y_test, y_test_pred)))\n",
    "print('test R2: {0:.3f}'.format(r2_score(y_test, y_test_pred)))"
   ]
  },
  {
   "cell_type": "code",
   "execution_count": 17,
   "metadata": {
    "executionInfo": {
     "elapsed": 30,
     "status": "aborted",
     "timestamp": 1641689052774,
     "user": {
      "displayName": "Zoey He",
      "photoUrl": "https://lh3.googleusercontent.com/a/default-user=s64",
      "userId": "15531607692958354289"
     },
     "user_tz": 300
    },
    "id": "P1LSfmqRa5oM"
   },
   "outputs": [],
   "source": [
    "import matplotlib.pylab as plt\n",
    "%matplotlib inline"
   ]
  },
  {
   "cell_type": "code",
   "execution_count": 29,
   "metadata": {
    "executionInfo": {
     "elapsed": 29,
     "status": "aborted",
     "timestamp": 1641689052776,
     "user": {
      "displayName": "Zoey He",
      "photoUrl": "https://lh3.googleusercontent.com/a/default-user=s64",
      "userId": "15531607692958354289"
     },
     "user_tz": 300
    },
    "id": "M_cckzJTa5oN"
   },
   "outputs": [],
   "source": [
    "import numpy as np\n",
    "\n",
    "def plot_cost_price(cost, price, model):\n",
    "    plt.scatter(cost, price, alpha=0.3)\n",
    "    x = pd.DataFrame() \n",
    "    x['cost'] = np.linspace(0, 1e6) # x is a dataframe with column 'cost'\n",
    "    y = model.predict(x)\n",
    "    plt.plot(x.cost, y, color='r')\n",
    "    plt.xlabel('cost')\n",
    "    plt.ylabel('price')\n",
    "    plt.xlim([0,1e6])\n",
    "    plt.ylim([0,2e6])\n",
    "    plt.show()"
   ]
  },
  {
   "cell_type": "code",
   "execution_count": 30,
   "metadata": {
    "executionInfo": {
     "elapsed": 29,
     "status": "aborted",
     "timestamp": 1641689052777,
     "user": {
      "displayName": "Zoey He",
      "photoUrl": "https://lh3.googleusercontent.com/a/default-user=s64",
      "userId": "15531607692958354289"
     },
     "user_tz": 300
    },
    "id": "BtAkAjYqa5oN"
   },
   "outputs": [
    {
     "data": {
      "image/png": "[encoded data removed]",
      "text/plain": [
       "<Figure size 432x288 with 1 Axes>"
      ]
     },
     "metadata": {
      "needs_background": "light"
     },
     "output_type": "display_data"
    }
   ],
   "source": [
    "plot_cost_price(model.steps[0][1].fit_transform(X_train).cost, y_train, model)"
   ]
  },
  {
   "cell_type": "markdown",
   "metadata": {
    "id": "ORfs1Mm3a5oO"
   },
   "source": [
    "### Note: This plot is probably the definition of overfitting LOL."
   ]
  },
  {
   "cell_type": "markdown",
   "metadata": {
    "id": "E5NHq7qLa5oO"
   },
   "source": [
    "# 2. Lasso"
   ]
  },
  {
   "cell_type": "markdown",
   "metadata": {
    "id": "AOFYOj0Na5oO"
   },
   "source": [
    "<font color='red'>Assignment:</font> Use **Lasso** instead of **LinearRegression** in **Pipeline** and redo the above steps. Tune **alpha** in **Lasso**, and find the answers to following questions."
   ]
  },
  {
   "cell_type": "code",
   "execution_count": 32,
   "metadata": {
    "id": "IG6ujf8ca5oP"
   },
   "outputs": [],
   "source": [
    "from sklearn.linear_model import Lasso"
   ]
  },
  {
   "cell_type": "markdown",
   "metadata": {
    "id": "kCm1KpJQa5oP"
   },
   "source": [
    "##### <font color='red'>*</font> ConvergenceWarning\n",
    "1. increase max_iter\n",
    "2. increase tol (not suggested)"
   ]
  },
  {
   "cell_type": "code",
   "execution_count": 33,
   "metadata": {
    "id": "Akfw87-5a5oP",
    "outputId": "a1638941-2731-48e1-b0f0-029f89615fbf",
    "scrolled": false
   },
   "outputs": [
    {
     "name": "stderr",
     "output_type": "stream",
     "text": [
      "C:\\Users\\zhuy\\Anaconda3\\lib\\site-packages\\sklearn\\pipeline.py:394: UserWarning: With alpha=0, this algorithm does not converge well. You are advised to use the LinearRegression estimator\n",
      "  self._final_estimator.fit(Xt, y, **fit_params_last_step)\n",
      "C:\\Users\\zhuy\\Anaconda3\\lib\\site-packages\\sklearn\\linear_model\\_coordinate_descent.py:647: UserWarning: Coordinate descent with no regularization may lead to unexpected results and is discouraged.\n",
      "  model = cd_fast.enet_coordinate_descent(\n",
      "C:\\Users\\zhuy\\Anaconda3\\lib\\site-packages\\sklearn\\linear_model\\_coordinate_descent.py:647: ConvergenceWarning: Objective did not converge. You might want to increase the number of iterations, check the scale of the features or consider increasing regularisation. Duality gap: 3.877e+13, tolerance: 1.175e+10 Linear regression models with null weight for the l1 regularization term are more efficiently fitted using one of the solvers implemented in sklearn.linear_model.Ridge/RidgeCV instead.\n",
      "  model = cd_fast.enet_coordinate_descent(\n"
     ]
    }
   ],
   "source": [
    "# hide warning message\n",
    "import warnings\n",
    "warnings.filterwarnings(\"once\")\n",
    "\n",
    "steps_l = [('ctf', Cost_Transformer()),\n",
    "         ('poly', PolynomialFeatures(degree = 30)),\n",
    "         ('rescale', MinMaxScaler()),\n",
    "#          ('lasso', Lasso(alpha = 0.5))]\n",
    "#          ('lasso', Lasso(alpha = 0.5, max_iter=100000))]\n",
    "         ('lasso', Lasso(alpha = 0))]\n",
    "\n",
    "\n",
    "model_l = Pipeline(steps_l)\n",
    "model_l = model_l.fit(X_train, y_train)"
   ]
  },
  {
   "cell_type": "code",
   "execution_count": 34,
   "metadata": {
    "id": "fWd1Lejua5oQ"
   },
   "outputs": [],
   "source": [
    "y_train_pred_l = model_l.predict(X_train)"
   ]
  },
  {
   "cell_type": "code",
   "execution_count": 35,
   "metadata": {
    "id": "5m_oouiva5oQ",
    "outputId": "031e3fe4-3f6e-4531-e07e-e6157785b535"
   },
   "outputs": [
    {
     "name": "stdout",
     "output_type": "stream",
     "text": [
      "train MAE: 1.10e+05\n",
      "train MSE: 2.81e+10\n",
      "train R2: 0.340\n"
     ]
    }
   ],
   "source": [
    "print('train MAE: {0:.2e}'.format(mean_absolute_error(y_train, y_train_pred_l)))\n",
    "print('train MSE: {0:.2e}'.format(mean_squared_error(y_train, y_train_pred_l)))\n",
    "print('train R2: {0:.3f}'.format(r2_score(y_train, y_train_pred_l)))"
   ]
  },
  {
   "cell_type": "code",
   "execution_count": 36,
   "metadata": {
    "id": "01eemWKVa5oR"
   },
   "outputs": [],
   "source": [
    "y_test_pred_l = model_l.predict(X_test)"
   ]
  },
  {
   "cell_type": "code",
   "execution_count": 37,
   "metadata": {
    "id": "K892kFH_a5oR",
    "outputId": "407f92ca-c589-4f28-a8fc-fb8963b91f2c"
   },
   "outputs": [
    {
     "name": "stdout",
     "output_type": "stream",
     "text": [
      "test MAE: 1.35e+05\n",
      "test MSE: 5.32e+10\n",
      "test R2: 0.383\n"
     ]
    }
   ],
   "source": [
    "print('test MAE: {0:.2e}'.format(mean_absolute_error(y_test, y_test_pred_l)))\n",
    "print('test MSE: {0:.2e}'.format(mean_squared_error(y_test, y_test_pred_l)))\n",
    "print('test R2: {0:.3f}'.format(r2_score(y_test, y_test_pred_l)))"
   ]
  },
  {
   "cell_type": "code",
   "execution_count": 38,
   "metadata": {
    "id": "JHqfAHAfa5oR",
    "outputId": "5d5c1951-bd5d-4d02-cacb-113ce7bde05e"
   },
   "outputs": [
    {
     "data": {
      "image/png": "[encoded data removed]",
      "text/plain": [
       "<Figure size 432x288 with 1 Axes>"
      ]
     },
     "metadata": {
      "needs_background": "light"
     },
     "output_type": "display_data"
    }
   ],
   "source": [
    "plot_cost_price(model_l.steps[0][1].fit_transform(X_train).cost, y_train, model_l)"
   ]
  },
  {
   "cell_type": "markdown",
   "metadata": {
    "id": "9k6908WJa5oR"
   },
   "source": [
    "### <font color='red'>*</font> I have a question: Why does the fitting using Lasso without regularization (alpha = 0) look so different from that using linear regression? I thought Lasso without regularization is similar to linear regression?\n",
    "\n",
    "### * Not converging"
   ]
  },
  {
   "cell_type": "markdown",
   "metadata": {
    "id": "JUtE0AH3a5oS"
   },
   "source": [
    "<font color='red'>Question:</font> **Alpha** is a hyper parameter. What is hyper parameter? How is it different from parameter?"
   ]
  },
  {
   "cell_type": "markdown",
   "metadata": {
    "id": "KDyZ4qXca5oS"
   },
   "source": [
    "### A model hyperparameter is a configuration that is external to the model and whose value cannot be estimated from data, while a model parameter is a configuration variable that is internal to the model and whose value can be estimated from data."
   ]
  },
  {
   "cell_type": "markdown",
   "metadata": {
    "id": "cJtWrWhxa5oS"
   },
   "source": [
    "<font color='red'>Question:</font> How does **alpha** affect the train/test loss and variance/bias?"
   ]
  },
  {
   "cell_type": "code",
   "execution_count": null,
   "metadata": {
    "id": "a_XEtAnva5oS"
   },
   "outputs": [],
   "source": [
    "def steps(alpha):\n",
    "    steps_alpha = [('ctf', Cost_Transformer()),\n",
    "         ('poly', PolynomialFeatures(degree = 30)),\n",
    "         ('rescale', MinMaxScaler()),\n",
    "         ('lasso', Lasso(alpha = alpha))]\n",
    "    model_alpha = Pipeline(steps_alpha)\n",
    "    model_alpha = model_alpha.fit(X_train, y_train)\n",
    "    return model_alpha"
   ]
  },
  {
   "cell_type": "code",
   "execution_count": null,
   "metadata": {
    "id": "05W3FjY7a5oT"
   },
   "outputs": [],
   "source": [
    "alpha_list = [0.1, 0.2, 0.3, 0.4, 0.5, 0.6, 0.7, 0.8, 0.9, 1]            "
   ]
  },
  {
   "cell_type": "code",
   "execution_count": null,
   "metadata": {
    "id": "oehkB5FYa5oT"
   },
   "outputs": [],
   "source": [
    "MAE_train = []\n",
    "MAE_test = []\n",
    "for alpha in alpha_list:\n",
    "    model_alpha = steps(alpha)\n",
    "    y_train_pred_alpha = model_alpha.predict(X_train)\n",
    "    MAE_train.append(mean_absolute_error(y_train, y_train_pred_alpha))\n",
    "    y_test_pred_alpha = model_alpha.predict(X_test)\n",
    "    MAE_test.append(mean_absolute_error(y_test, y_test_pred_alpha))"
   ]
  },
  {
   "cell_type": "code",
   "execution_count": null,
   "metadata": {
    "id": "ADSXtxMJa5oT",
    "outputId": "cfb8201a-873e-48ea-d4d6-98cb8eab5fd2"
   },
   "outputs": [
    {
     "data": {
      "text/plain": [
       "[<matplotlib.lines.Line2D at 0x1a1f861ac08>]"
      ]
     },
     "execution_count": 30,
     "metadata": {
      "tags": []
     },
     "output_type": "execute_result"
    },
    {
     "data": {
      "image/png": "[encoded data removed]",
      "text/plain": [
       "<Figure size 432x288 with 1 Axes>"
      ]
     },
     "metadata": {
      "needs_background": "light",
      "tags": []
     },
     "output_type": "display_data"
    }
   ],
   "source": [
    "plt.plot(MAE_train)"
   ]
  },
  {
   "cell_type": "code",
   "execution_count": null,
   "metadata": {
    "id": "_CtxSRHNa5oU",
    "outputId": "cad52e6c-8678-44a8-ce21-f736a81fc302"
   },
   "outputs": [
    {
     "data": {
      "text/plain": [
       "[<matplotlib.lines.Line2D at 0x1a1f8677988>]"
      ]
     },
     "execution_count": 31,
     "metadata": {
      "tags": []
     },
     "output_type": "execute_result"
    },
    {
     "data": {
      "image/png": "[encoded data removed]",
      "text/plain": [
       "<Figure size 432x288 with 1 Axes>"
      ]
     },
     "metadata": {
      "needs_background": "light",
      "tags": []
     },
     "output_type": "display_data"
    }
   ],
   "source": [
    "plt.plot(MAE_test)"
   ]
  },
  {
   "cell_type": "markdown",
   "metadata": {
    "id": "oOcTb21ka5oU"
   },
   "source": [
    "### Since the degree of the polynomial is 30, we have quite high variance and low bias. The goal of regularization is to lower the variance but as a consequence, bias will rise. As alpha increases, the training error decreases at first then increase after certain point. This happens when alpha gets big and the regularization term dominates the fitting. However, the test error keeps decreasing as designed, since our ultimate goal is to decrease the test error when predicting future price."
   ]
  },
  {
   "cell_type": "markdown",
   "metadata": {
    "id": "XIIuXmKpa5oU"
   },
   "source": [
    "### <font color='red'>*</font> the MAE - alpha relationship is always not linear, thus we need to do hyperparamter tunning (train data) to find the best alpha"
   ]
  },
  {
   "cell_type": "markdown",
   "metadata": {
    "id": "dnjxLPzza5oV"
   },
   "source": [
    "<font color='red'>Question:</font> How dose **alpha** affect the relationship between **price** and **cost**? How does **alpha** affect model complexity?"
   ]
  },
  {
   "cell_type": "markdown",
   "metadata": {
    "id": "QFO-n0nma5oV"
   },
   "source": [
    "### Increasing alpha will smooth the relation bwteen price and cost (reduing bumps and peaks in the curve)."
   ]
  },
  {
   "cell_type": "markdown",
   "metadata": {
    "id": "4WrwS7JSa5oV"
   },
   "source": [
    "### Alpha has reduced the model complexity as we can see from the smooth Lasso curve.  "
   ]
  },
  {
   "cell_type": "markdown",
   "metadata": {
    "id": "Z6Ow31lCa5oV"
   },
   "source": [
    "<font color='red'>Question:</font> How does **alpha** affect the coefficient values?"
   ]
  },
  {
   "cell_type": "markdown",
   "metadata": {
    "id": "FTj5Jq3qa5oW"
   },
   "source": [
    "### Larger alpha, more shrinkage on the coefficient"
   ]
  },
  {
   "cell_type": "markdown",
   "metadata": {
    "id": "4lJXOoZga5oW"
   },
   "source": [
    "### As we increase the value of alpha, more and more coefficients should become 0. This is why the model complexity has decreased and the curve becomes smooth. In fact, Lasso not only helps in reducing overfitting but it can help us in feature selection."
   ]
  },
  {
   "cell_type": "markdown",
   "metadata": {
    "id": "wZrLrXRRa5oW"
   },
   "source": [
    "### L1 regularization can be used for feature selection"
   ]
  },
  {
   "cell_type": "markdown",
   "metadata": {
    "id": "4dmccNMfa5oW"
   },
   "source": [
    "# 2. Ridge"
   ]
  },
  {
   "cell_type": "markdown",
   "metadata": {
    "id": "n0Oa_T5ra5oW"
   },
   "source": [
    "<font color='red'>Assignment:</font> Try **Ridge** instead of **Lasso**."
   ]
  },
  {
   "cell_type": "code",
   "execution_count": null,
   "metadata": {
    "id": "ic6crhFQa5oX"
   },
   "outputs": [],
   "source": [
    "from sklearn.linear_model import Ridge"
   ]
  },
  {
   "cell_type": "code",
   "execution_count": null,
   "metadata": {
    "id": "RozDmPSla5oX"
   },
   "outputs": [],
   "source": [
    "steps_r = [('ctf', Cost_Transformer()),\n",
    "         ('poly', PolynomialFeatures(degree = 30)),\n",
    "         ('rescale', MinMaxScaler()),\n",
    "         ('ridge', Ridge(alpha = 0.5))]\n",
    "model_r = Pipeline(steps_r)\n",
    "model_r = model_r.fit(X_train, y_train)"
   ]
  },
  {
   "cell_type": "markdown",
   "metadata": {
    "id": "IPjJvjgXa5oX"
   },
   "source": [
    "### <font color='red'>Q:</font> why we always rescale before regularization?"
   ]
  },
  {
   "cell_type": "code",
   "execution_count": null,
   "metadata": {
    "id": "rJR_YiVwa5oX"
   },
   "outputs": [],
   "source": [
    "y_train_pred_r = model_r.predict(X_train)"
   ]
  },
  {
   "cell_type": "code",
   "execution_count": null,
   "metadata": {
    "id": "gv60b58Ua5oX",
    "outputId": "a1a629fb-92fc-4ef1-ecae-427db302892c"
   },
   "outputs": [
    {
     "name": "stdout",
     "output_type": "stream",
     "text": [
      "train MAE: 1.11e+05\n",
      "train MSE: 2.85e+10\n",
      "train R2: 0.331\n"
     ]
    }
   ],
   "source": [
    "print('train MAE: {0:.2e}'.format(mean_absolute_error(y_train, y_train_pred_r)))\n",
    "print('train MSE: {0:.2e}'.format(mean_squared_error(y_train, y_train_pred_r)))\n",
    "print('train R2: {0:.3f}'.format(r2_score(y_train, y_train_pred_r)))"
   ]
  },
  {
   "cell_type": "code",
   "execution_count": null,
   "metadata": {
    "id": "Kby5_O1Aa5oY"
   },
   "outputs": [],
   "source": [
    "y_test_pred_r = model_r.predict(X_test)"
   ]
  },
  {
   "cell_type": "code",
   "execution_count": null,
   "metadata": {
    "id": "Hk_Bu6Mea5oY",
    "outputId": "1ced13cc-0706-4109-f619-f9bd331b715d"
   },
   "outputs": [
    {
     "name": "stdout",
     "output_type": "stream",
     "text": [
      "test MAE: 1.36e+05\n",
      "test MSE: 5.31e+10\n",
      "test R2: 0.384\n"
     ]
    }
   ],
   "source": [
    "print('test MAE: {0:.2e}'.format(mean_absolute_error(y_test, y_test_pred_r)))\n",
    "print('test MSE: {0:.2e}'.format(mean_squared_error(y_test, y_test_pred_r)))\n",
    "print('test R2: {0:.3f}'.format(r2_score(y_test, y_test_pred_r)))"
   ]
  },
  {
   "cell_type": "code",
   "execution_count": null,
   "metadata": {
    "id": "ZN9nKZzHa5oZ",
    "outputId": "4d6ba8e3-475d-4970-a726-9686742e43fb"
   },
   "outputs": [
    {
     "data": {
      "image/png": "[encoded data removed]",
      "text/plain": [
       "<Figure size 432x288 with 1 Axes>"
      ]
     },
     "metadata": {
      "needs_background": "light",
      "tags": []
     },
     "output_type": "display_data"
    }
   ],
   "source": [
    "plot_cost_price(model_r.steps[0][1].fit_transform(X_train).cost, y_train, model_r)"
   ]
  },
  {
   "cell_type": "markdown",
   "metadata": {
    "id": "12dfrmIba5oZ"
   },
   "source": [
    "<font color='red'>Question:</font> What is regularization?"
   ]
  },
  {
   "cell_type": "markdown",
   "metadata": {
    "id": "adlYjZuwa5oZ"
   },
   "source": [
    "### Regularization is a technique used in Statistics to solve overfitting problems. It is also widely used in optimization to solve inverse problems. "
   ]
  },
  {
   "cell_type": "markdown",
   "metadata": {
    "id": "kPV8INHja5oa"
   },
   "source": [
    "<font color='red'>Question:</font> How does regularization work?"
   ]
  },
  {
   "cell_type": "markdown",
   "metadata": {
    "id": "1p8cDHUda5oa"
   },
   "source": [
    "### Add penalty terms to constrain the coefficient"
   ]
  },
  {
   "cell_type": "markdown",
   "metadata": {
    "id": "Yt6FIYNNa5oa"
   },
   "source": [
    "### Regularization adds more information to the original model fitting by a penalty term. The level of renalty is controled by the parameter alpha. Depends on the application, there are different choices of penalty terms to be added to the objective function."
   ]
  },
  {
   "cell_type": "markdown",
   "metadata": {
    "id": "gMkj18uha5ob"
   },
   "source": [
    "<font color='red'>Question:</font> What are \"L1\" and \"L2\" regularizations, respectively? How do they relate to **Ridge** and **Lasso**?"
   ]
  },
  {
   "cell_type": "markdown",
   "metadata": {
    "id": "En-IG5qva5ob"
   },
   "source": [
    "### L1 regularization, adds the L1 norm term $\\alpha ||w||_{1}$ to the objective function, which is known as Lasso in Stats. L2 regularization, adds the L2 norm term $\\alpha ||w||_{2}$ to the objective function, which is known as Ridge in Stats and Tikhonov regularization in optimization."
   ]
  },
  {
   "cell_type": "markdown",
   "metadata": {
    "id": "DAtsuWoGa5ob"
   },
   "source": [
    "<font color='red'>Question:</font> What are the differeces between \"L1\" and \"L2\"? Why the difference between their effects on coefficient values?"
   ]
  },
  {
   "cell_type": "markdown",
   "metadata": {
    "id": "VZSo-4UCa5oc"
   },
   "source": [
    "### L1 introduces sparsity to the solution. By reducing some coefficients to zero, it enables feature selection. L1 is robust to outliers. L1 regularization generates simple and easy to interprete models however, L1 cannot learn complex patterns.\n",
    "### L2 does not provide sparse solutions, it cannot reduce coefficients to zero, therefore no feature selection. L2 is not robust to outliers because the square effect will make outliers even more different. L2 gives a better prediction when the variables are on similar levels. L2 regularization is able to learn complex patterns."
   ]
  },
  {
   "cell_type": "markdown",
   "metadata": {
    "id": "3zasuaE6a5oc"
   },
   "source": [
    "### Difference between L1 and L2\n",
    "https://medium.datadriveninvestor.com/l1-l2-regularization-7f1b4fe948f2"
   ]
  },
  {
   "cell_type": "markdown",
   "metadata": {
    "id": "qFm0HSN9a5oc"
   },
   "source": [
    "![image.png](attachment:image.png)"
   ]
  },
  {
   "cell_type": "markdown",
   "metadata": {
    "id": "532FP3xra5od"
   },
   "source": [
    "![image.png](attachment:image.png)"
   ]
  },
  {
   "cell_type": "markdown",
   "metadata": {
    "id": "tzRk8kFka5od"
   },
   "source": [
    "### From Lin's homework\n",
    "![image.png](attachment:image.png)"
   ]
  },
  {
   "cell_type": "markdown",
   "metadata": {
    "id": "MjEpqpRza5od"
   },
   "source": [
    "* Visualization\n",
    "1. https://explained.ai/regularization/L1vsL2.html\n",
    "2. https://towardsdatascience.com/regularization-in-machine-learning-76441ddcf99a"
   ]
  },
  {
   "cell_type": "markdown",
   "metadata": {
    "id": "2ThuiW7Ra5od"
   },
   "source": [
    "![image.png](attachment:image.png)"
   ]
  },
  {
   "cell_type": "markdown",
   "metadata": {
    "id": "1Ri3lDSta5od"
   },
   "source": [
    "* Math https://stats.stackexchange.com/questions/74542/why-does-the-lasso-provide-variable-selection"
   ]
  },
  {
   "cell_type": "markdown",
   "metadata": {
    "id": "Ixq-5Umba5od"
   },
   "source": [
    "### <font color='red'>*</font> I have a question: why does L2 work better when you have collinear/codependent features?\n",
    "\n",
    "\n",
    "### L1 tends to randomly select one feature, while L2 takes use of all features with even weight"
   ]
  }
 ],
 "metadata": {
  "colab": {
   "name": "07_regularization_updated.ipynb",
   "provenance": []
  },
  "kernelspec": {
   "display_name": "Python 3 (ipykernel)",
   "language": "python",
   "name": "python3"
  },
  "language_info": {
   "codemirror_mode": {
    "name": "ipython",
    "version": 3
   },
   "file_extension": ".py",
   "mimetype": "text/x-python",
   "name": "python",
   "nbconvert_exporter": "python",
   "pygments_lexer": "ipython3",
   "version": "3.9.12"
  }
 },
 "nbformat": 4,
 "nbformat_minor": 1
}

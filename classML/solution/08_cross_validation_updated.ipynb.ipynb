{
 "cells": [
  {
   "cell_type": "code",
   "execution_count": null,
   "metadata": {
    "id": "VL3f9hYwgjaL"
   },
   "outputs": [],
   "source": [
    "import pandas as pd\n",
    "\n",
    "# df = pd.read_csv('../data/sales.csv')\n",
    "df = pd.read_csv('sales.csv')\n",
    "df.dropna(subset=['price'], inplace=True)"
   ]
  },
  {
   "cell_type": "code",
   "execution_count": null,
   "metadata": {
    "id": "pMU9_vGQgjaR"
   },
   "outputs": [],
   "source": [
    "df['year'] = pd.to_datetime(df.purchase_date).dt.year \n",
    "train_raw = df[df.year < 2015].reset_index(drop=True)\n",
    "test_raw = df[df.year >= 2015].reset_index(drop=True)"
   ]
  },
  {
   "cell_type": "code",
   "execution_count": null,
   "metadata": {
    "id": "I6qkXsSsgjaT"
   },
   "outputs": [],
   "source": [
    "class Cost_Transformer(object):\n",
    "    \n",
    "    def fit(self, X, y=None):\n",
    "        df = pd.DataFrame()\n",
    "        df['cost'] = X.cost.map(self.cost2num)\n",
    "        self.mean = df.mean()\n",
    "        \n",
    "    def transform(self, X, y=None):\n",
    "        df = pd.DataFrame()\n",
    "        df['cost'] = X.cost.map(self.cost2num)\n",
    "        return df.fillna(self.mean)\n",
    "    \n",
    "    def fit_transform(self, X, y=None):\n",
    "        self.fit(X)\n",
    "        return self.transform(X)\n",
    "\n",
    "    def cost2num(self, x):\n",
    "        if type(x) == str: \n",
    "            x = x.strip('$').strip('k')\n",
    "            return float(x)*1000\n",
    "        else:\n",
    "            return x"
   ]
  },
  {
   "cell_type": "code",
   "execution_count": null,
   "metadata": {
    "id": "kiRNoakbgjaU"
   },
   "outputs": [],
   "source": [
    "features = list(train_raw.columns)\n",
    "target = 'price'\n",
    "features.remove(target)"
   ]
  },
  {
   "cell_type": "code",
   "execution_count": null,
   "metadata": {
    "id": "aRSCaVUzgjaV"
   },
   "outputs": [],
   "source": [
    "def price2num(x):\n",
    "    if type(x) == str: \n",
    "        x = x.strip('$').replace(',', '')\n",
    "    return float(x)"
   ]
  },
  {
   "cell_type": "code",
   "execution_count": null,
   "metadata": {
    "id": "dLKZZnVbgjaW"
   },
   "outputs": [],
   "source": [
    "X = train_raw[features]\n",
    "y = train_raw[target].map(price2num)\n",
    "\n",
    "X_test = test_raw[features]\n",
    "y_test = test_raw[target].map(price2num)"
   ]
  },
  {
   "cell_type": "markdown",
   "metadata": {
    "id": "Zp_MaADsgjaX"
   },
   "source": [
    "# 1. train_test_split"
   ]
  },
  {
   "cell_type": "code",
   "execution_count": null,
   "metadata": {
    "id": "B8YPtEuwgjaY"
   },
   "outputs": [],
   "source": [
    "from sklearn.model_selection import train_test_split"
   ]
  },
  {
   "cell_type": "markdown",
   "metadata": {
    "id": "0aA7d49LgjaZ"
   },
   "source": [
    "**Example:** Split training data in to new training data and validation data."
   ]
  },
  {
   "cell_type": "code",
   "execution_count": null,
   "metadata": {
    "id": "2Db3nlSsgjaZ"
   },
   "outputs": [],
   "source": [
    "X_train, X_valid, y_train, y_valid = train_test_split(X, \n",
    "                                                      y, \n",
    "                                                      test_size=0.2, \n",
    "                                                      random_state=2019)"
   ]
  },
  {
   "cell_type": "markdown",
   "metadata": {
    "id": "OewqAvPXm_1I"
   },
   "source": [
    "### random_state: the seed of the pseudo random generator. Please do define it whenever you have a random process, to make your results reproducible."
   ]
  },
  {
   "cell_type": "markdown",
   "metadata": {
    "id": "Tuzm9hzdgjaa"
   },
   "source": [
    "**Example:** Find the best **alpha** for Lasso using **validation score**."
   ]
  },
  {
   "cell_type": "code",
   "execution_count": null,
   "metadata": {
    "id": "d4LUIF9ggjaa"
   },
   "outputs": [],
   "source": [
    "from sklearn.pipeline import Pipeline\n",
    "from sklearn.linear_model import Lasso\n",
    "from sklearn.preprocessing import PolynomialFeatures, MinMaxScaler\n",
    "from sklearn.metrics import mean_squared_error"
   ]
  },
  {
   "cell_type": "code",
   "execution_count": null,
   "metadata": {
    "id": "0s6o3L2Zgjab"
   },
   "outputs": [],
   "source": [
    "alphas = range(1, 30)\n",
    "# alphas = [0.1, 0.3, 0.5, 0.8, 1, 2, 3, 4, 5, 6]\n",
    "mse = []\n",
    "for alpha in alphas:\n",
    "    steps = [('ctf', Cost_Transformer()),\n",
    "             ('poly', PolynomialFeatures(degree=30)),\n",
    "             ('rescale', MinMaxScaler()),\n",
    "             ('lr', Lasso(alpha=alpha, max_iter=100000))]\n",
    "    model = Pipeline(steps)\n",
    "    model = model.fit(X_train, y_train)\n",
    "    mse.append(mean_squared_error(y_valid, model.predict(X_valid)))"
   ]
  },
  {
   "cell_type": "code",
   "execution_count": null,
   "metadata": {
    "id": "USYgFVzXgjab"
   },
   "outputs": [],
   "source": [
    "import matplotlib.pylab as plt\n",
    "%matplotlib inline"
   ]
  },
  {
   "cell_type": "code",
   "execution_count": null,
   "metadata": {
    "id": "VcJYIqQ-gjac",
    "outputId": "1fe37085-867e-44bf-a3c4-f4401437a70a"
   },
   "outputs": [
    {
     "data": {
      "text/plain": [
       "[<matplotlib.lines.Line2D at 0x2bf2dda6808>]"
      ]
     },
     "execution_count": 16,
     "metadata": {
      "tags": []
     },
     "output_type": "execute_result"
    },
    {
     "data": {
      "image/png": "[encoded data removed]",
      "text/plain": [
       "<Figure size 432x288 with 1 Axes>"
      ]
     },
     "metadata": {
      "needs_background": "light",
      "tags": []
     },
     "output_type": "display_data"
    }
   ],
   "source": [
    "plt.plot(alphas, mse)"
   ]
  },
  {
   "cell_type": "markdown",
   "metadata": {
    "id": "_bCU9xgSgjad"
   },
   "source": [
    "<font color='red'>Question:</font> What are training, validation, and testing data for? Why don't we directly use testing score/loss to find the best **alpha**?"
   ]
  },
  {
   "cell_type": "markdown",
   "metadata": {
    "id": "hh_VLf1Ygjad"
   },
   "source": [
    "### <font color = 'blue'> Is it ok that I changed the range of alpha? </font>"
   ]
  },
  {
   "cell_type": "markdown",
   "metadata": {
    "id": "cddpmYy7gjad"
   },
   "source": [
    "### Training data: The set of data we use to fit the model.\n",
    "### Validation data: The data set used to evaluate a model fit on the training set while tuning model hyperparameters. \n",
    "### Test data: The data set used to evaluate a final model fit on the training dataset.\n",
    "### If we use the test set to find the best alpha then evaulate the model on the same test set, our result will be too optimistic. We should only use the test set once for the final evaluation."
   ]
  },
  {
   "cell_type": "markdown",
   "metadata": {
    "id": "ZSzOZpMCgjae"
   },
   "source": [
    "# 2. K-fold Cross Validation"
   ]
  },
  {
   "cell_type": "markdown",
   "metadata": {
    "id": "e2Jx6wV8gjae"
   },
   "source": [
    "<font color='red'>Assignment:</font> Use **KFold** instead of **train_test_split** to find the best **alpha**. Please note that X is a DataFrame rather than Numpy Array. Our solution will be a little different from the example in Sklearn tutorial. You will need **iloc** here."
   ]
  },
  {
   "cell_type": "code",
   "execution_count": null,
   "metadata": {
    "id": "45pBjlMdgjaf"
   },
   "outputs": [],
   "source": [
    "from sklearn.model_selection import KFold"
   ]
  },
  {
   "cell_type": "code",
   "execution_count": null,
   "metadata": {
    "id": "17G2NW5igjaf"
   },
   "outputs": [],
   "source": [
    "kf = KFold(n_splits = 5)"
   ]
  },
  {
   "cell_type": "markdown",
   "metadata": {
    "id": "NZ_xjckQm_1M"
   },
   "source": [
    "### how is the splits looks like?"
   ]
  },
  {
   "cell_type": "code",
   "execution_count": null,
   "metadata": {
    "id": "CPmhwXsKm_1M",
    "outputId": "20f54d3c-6ede-40c5-a9e1-9ef31cc3c23f"
   },
   "outputs": [
    {
     "name": "stdout",
     "output_type": "stream",
     "text": [
      "Split 1\n",
      "[ 552  553  554 ... 2754 2755 2756]\n",
      "[  0   1   2   3   4   5   6   7   8   9  10  11  12  13  14  15  16  17\n",
      "  18  19  20  21  22  23  24  25  26  27  28  29  30  31  32  33  34  35\n",
      "  36  37  38  39  40  41  42  43  44  45  46  47  48  49  50  51  52  53\n",
      "  54  55  56  57  58  59  60  61  62  63  64  65  66  67  68  69  70  71\n",
      "  72  73  74  75  76  77  78  79  80  81  82  83  84  85  86  87  88  89\n",
      "  90  91  92  93  94  95  96  97  98  99 100 101 102 103 104 105 106 107\n",
      " 108 109 110 111 112 113 114 115 116 117 118 119 120 121 122 123 124 125\n",
      " 126 127 128 129 130 131 132 133 134 135 136 137 138 139 140 141 142 143\n",
      " 144 145 146 147 148 149 150 151 152 153 154 155 156 157 158 159 160 161\n",
      " 162 163 164 165 166 167 168 169 170 171 172 173 174 175 176 177 178 179\n",
      " 180 181 182 183 184 185 186 187 188 189 190 191 192 193 194 195 196 197\n",
      " 198 199 200 201 202 203 204 205 206 207 208 209 210 211 212 213 214 215\n",
      " 216 217 218 219 220 221 222 223 224 225 226 227 228 229 230 231 232 233\n",
      " 234 235 236 237 238 239 240 241 242 243 244 245 246 247 248 249 250 251\n",
      " 252 253 254 255 256 257 258 259 260 261 262 263 264 265 266 267 268 269\n",
      " 270 271 272 273 274 275 276 277 278 279 280 281 282 283 284 285 286 287\n",
      " 288 289 290 291 292 293 294 295 296 297 298 299 300 301 302 303 304 305\n",
      " 306 307 308 309 310 311 312 313 314 315 316 317 318 319 320 321 322 323\n",
      " 324 325 326 327 328 329 330 331 332 333 334 335 336 337 338 339 340 341\n",
      " 342 343 344 345 346 347 348 349 350 351 352 353 354 355 356 357 358 359\n",
      " 360 361 362 363 364 365 366 367 368 369 370 371 372 373 374 375 376 377\n",
      " 378 379 380 381 382 383 384 385 386 387 388 389 390 391 392 393 394 395\n",
      " 396 397 398 399 400 401 402 403 404 405 406 407 408 409 410 411 412 413\n",
      " 414 415 416 417 418 419 420 421 422 423 424 425 426 427 428 429 430 431\n",
      " 432 433 434 435 436 437 438 439 440 441 442 443 444 445 446 447 448 449\n",
      " 450 451 452 453 454 455 456 457 458 459 460 461 462 463 464 465 466 467\n",
      " 468 469 470 471 472 473 474 475 476 477 478 479 480 481 482 483 484 485\n",
      " 486 487 488 489 490 491 492 493 494 495 496 497 498 499 500 501 502 503\n",
      " 504 505 506 507 508 509 510 511 512 513 514 515 516 517 518 519 520 521\n",
      " 522 523 524 525 526 527 528 529 530 531 532 533 534 535 536 537 538 539\n",
      " 540 541 542 543 544 545 546 547 548 549 550 551]\n",
      "Split 2\n",
      "[   0    1    2 ... 2754 2755 2756]\n",
      "[ 552  553  554  555  556  557  558  559  560  561  562  563  564  565\n",
      "  566  567  568  569  570  571  572  573  574  575  576  577  578  579\n",
      "  580  581  582  583  584  585  586  587  588  589  590  591  592  593\n",
      "  594  595  596  597  598  599  600  601  602  603  604  605  606  607\n",
      "  608  609  610  611  612  613  614  615  616  617  618  619  620  621\n",
      "  622  623  624  625  626  627  628  629  630  631  632  633  634  635\n",
      "  636  637  638  639  640  641  642  643  644  645  646  647  648  649\n",
      "  650  651  652  653  654  655  656  657  658  659  660  661  662  663\n",
      "  664  665  666  667  668  669  670  671  672  673  674  675  676  677\n",
      "  678  679  680  681  682  683  684  685  686  687  688  689  690  691\n",
      "  692  693  694  695  696  697  698  699  700  701  702  703  704  705\n",
      "  706  707  708  709  710  711  712  713  714  715  716  717  718  719\n",
      "  720  721  722  723  724  725  726  727  728  729  730  731  732  733\n",
      "  734  735  736  737  738  739  740  741  742  743  744  745  746  747\n",
      "  748  749  750  751  752  753  754  755  756  757  758  759  760  761\n",
      "  762  763  764  765  766  767  768  769  770  771  772  773  774  775\n",
      "  776  777  778  779  780  781  782  783  784  785  786  787  788  789\n",
      "  790  791  792  793  794  795  796  797  798  799  800  801  802  803\n",
      "  804  805  806  807  808  809  810  811  812  813  814  815  816  817\n",
      "  818  819  820  821  822  823  824  825  826  827  828  829  830  831\n",
      "  832  833  834  835  836  837  838  839  840  841  842  843  844  845\n",
      "  846  847  848  849  850  851  852  853  854  855  856  857  858  859\n",
      "  860  861  862  863  864  865  866  867  868  869  870  871  872  873\n",
      "  874  875  876  877  878  879  880  881  882  883  884  885  886  887\n",
      "  888  889  890  891  892  893  894  895  896  897  898  899  900  901\n",
      "  902  903  904  905  906  907  908  909  910  911  912  913  914  915\n",
      "  916  917  918  919  920  921  922  923  924  925  926  927  928  929\n",
      "  930  931  932  933  934  935  936  937  938  939  940  941  942  943\n",
      "  944  945  946  947  948  949  950  951  952  953  954  955  956  957\n",
      "  958  959  960  961  962  963  964  965  966  967  968  969  970  971\n",
      "  972  973  974  975  976  977  978  979  980  981  982  983  984  985\n",
      "  986  987  988  989  990  991  992  993  994  995  996  997  998  999\n",
      " 1000 1001 1002 1003 1004 1005 1006 1007 1008 1009 1010 1011 1012 1013\n",
      " 1014 1015 1016 1017 1018 1019 1020 1021 1022 1023 1024 1025 1026 1027\n",
      " 1028 1029 1030 1031 1032 1033 1034 1035 1036 1037 1038 1039 1040 1041\n",
      " 1042 1043 1044 1045 1046 1047 1048 1049 1050 1051 1052 1053 1054 1055\n",
      " 1056 1057 1058 1059 1060 1061 1062 1063 1064 1065 1066 1067 1068 1069\n",
      " 1070 1071 1072 1073 1074 1075 1076 1077 1078 1079 1080 1081 1082 1083\n",
      " 1084 1085 1086 1087 1088 1089 1090 1091 1092 1093 1094 1095 1096 1097\n",
      " 1098 1099 1100 1101 1102 1103]\n",
      "Split 3\n",
      "[   0    1    2 ... 2754 2755 2756]\n",
      "[1104 1105 1106 1107 1108 1109 1110 1111 1112 1113 1114 1115 1116 1117\n",
      " 1118 1119 1120 1121 1122 1123 1124 1125 1126 1127 1128 1129 1130 1131\n",
      " 1132 1133 1134 1135 1136 1137 1138 1139 1140 1141 1142 1143 1144 1145\n",
      " 1146 1147 1148 1149 1150 1151 1152 1153 1154 1155 1156 1157 1158 1159\n",
      " 1160 1161 1162 1163 1164 1165 1166 1167 1168 1169 1170 1171 1172 1173\n",
      " 1174 1175 1176 1177 1178 1179 1180 1181 1182 1183 1184 1185 1186 1187\n",
      " 1188 1189 1190 1191 1192 1193 1194 1195 1196 1197 1198 1199 1200 1201\n",
      " 1202 1203 1204 1205 1206 1207 1208 1209 1210 1211 1212 1213 1214 1215\n",
      " 1216 1217 1218 1219 1220 1221 1222 1223 1224 1225 1226 1227 1228 1229\n",
      " 1230 1231 1232 1233 1234 1235 1236 1237 1238 1239 1240 1241 1242 1243\n",
      " 1244 1245 1246 1247 1248 1249 1250 1251 1252 1253 1254 1255 1256 1257\n",
      " 1258 1259 1260 1261 1262 1263 1264 1265 1266 1267 1268 1269 1270 1271\n",
      " 1272 1273 1274 1275 1276 1277 1278 1279 1280 1281 1282 1283 1284 1285\n",
      " 1286 1287 1288 1289 1290 1291 1292 1293 1294 1295 1296 1297 1298 1299\n",
      " 1300 1301 1302 1303 1304 1305 1306 1307 1308 1309 1310 1311 1312 1313\n",
      " 1314 1315 1316 1317 1318 1319 1320 1321 1322 1323 1324 1325 1326 1327\n",
      " 1328 1329 1330 1331 1332 1333 1334 1335 1336 1337 1338 1339 1340 1341\n",
      " 1342 1343 1344 1345 1346 1347 1348 1349 1350 1351 1352 1353 1354 1355\n",
      " 1356 1357 1358 1359 1360 1361 1362 1363 1364 1365 1366 1367 1368 1369\n",
      " 1370 1371 1372 1373 1374 1375 1376 1377 1378 1379 1380 1381 1382 1383\n",
      " 1384 1385 1386 1387 1388 1389 1390 1391 1392 1393 1394 1395 1396 1397\n",
      " 1398 1399 1400 1401 1402 1403 1404 1405 1406 1407 1408 1409 1410 1411\n",
      " 1412 1413 1414 1415 1416 1417 1418 1419 1420 1421 1422 1423 1424 1425\n",
      " 1426 1427 1428 1429 1430 1431 1432 1433 1434 1435 1436 1437 1438 1439\n",
      " 1440 1441 1442 1443 1444 1445 1446 1447 1448 1449 1450 1451 1452 1453\n",
      " 1454 1455 1456 1457 1458 1459 1460 1461 1462 1463 1464 1465 1466 1467\n",
      " 1468 1469 1470 1471 1472 1473 1474 1475 1476 1477 1478 1479 1480 1481\n",
      " 1482 1483 1484 1485 1486 1487 1488 1489 1490 1491 1492 1493 1494 1495\n",
      " 1496 1497 1498 1499 1500 1501 1502 1503 1504 1505 1506 1507 1508 1509\n",
      " 1510 1511 1512 1513 1514 1515 1516 1517 1518 1519 1520 1521 1522 1523\n",
      " 1524 1525 1526 1527 1528 1529 1530 1531 1532 1533 1534 1535 1536 1537\n",
      " 1538 1539 1540 1541 1542 1543 1544 1545 1546 1547 1548 1549 1550 1551\n",
      " 1552 1553 1554 1555 1556 1557 1558 1559 1560 1561 1562 1563 1564 1565\n",
      " 1566 1567 1568 1569 1570 1571 1572 1573 1574 1575 1576 1577 1578 1579\n",
      " 1580 1581 1582 1583 1584 1585 1586 1587 1588 1589 1590 1591 1592 1593\n",
      " 1594 1595 1596 1597 1598 1599 1600 1601 1602 1603 1604 1605 1606 1607\n",
      " 1608 1609 1610 1611 1612 1613 1614 1615 1616 1617 1618 1619 1620 1621\n",
      " 1622 1623 1624 1625 1626 1627 1628 1629 1630 1631 1632 1633 1634 1635\n",
      " 1636 1637 1638 1639 1640 1641 1642 1643 1644 1645 1646 1647 1648 1649\n",
      " 1650 1651 1652 1653 1654]\n",
      "Split 4\n",
      "[   0    1    2 ... 2754 2755 2756]\n",
      "[1655 1656 1657 1658 1659 1660 1661 1662 1663 1664 1665 1666 1667 1668\n",
      " 1669 1670 1671 1672 1673 1674 1675 1676 1677 1678 1679 1680 1681 1682\n",
      " 1683 1684 1685 1686 1687 1688 1689 1690 1691 1692 1693 1694 1695 1696\n",
      " 1697 1698 1699 1700 1701 1702 1703 1704 1705 1706 1707 1708 1709 1710\n",
      " 1711 1712 1713 1714 1715 1716 1717 1718 1719 1720 1721 1722 1723 1724\n",
      " 1725 1726 1727 1728 1729 1730 1731 1732 1733 1734 1735 1736 1737 1738\n",
      " 1739 1740 1741 1742 1743 1744 1745 1746 1747 1748 1749 1750 1751 1752\n",
      " 1753 1754 1755 1756 1757 1758 1759 1760 1761 1762 1763 1764 1765 1766\n",
      " 1767 1768 1769 1770 1771 1772 1773 1774 1775 1776 1777 1778 1779 1780\n",
      " 1781 1782 1783 1784 1785 1786 1787 1788 1789 1790 1791 1792 1793 1794\n",
      " 1795 1796 1797 1798 1799 1800 1801 1802 1803 1804 1805 1806 1807 1808\n",
      " 1809 1810 1811 1812 1813 1814 1815 1816 1817 1818 1819 1820 1821 1822\n",
      " 1823 1824 1825 1826 1827 1828 1829 1830 1831 1832 1833 1834 1835 1836\n",
      " 1837 1838 1839 1840 1841 1842 1843 1844 1845 1846 1847 1848 1849 1850\n",
      " 1851 1852 1853 1854 1855 1856 1857 1858 1859 1860 1861 1862 1863 1864\n",
      " 1865 1866 1867 1868 1869 1870 1871 1872 1873 1874 1875 1876 1877 1878\n",
      " 1879 1880 1881 1882 1883 1884 1885 1886 1887 1888 1889 1890 1891 1892\n",
      " 1893 1894 1895 1896 1897 1898 1899 1900 1901 1902 1903 1904 1905 1906\n",
      " 1907 1908 1909 1910 1911 1912 1913 1914 1915 1916 1917 1918 1919 1920\n",
      " 1921 1922 1923 1924 1925 1926 1927 1928 1929 1930 1931 1932 1933 1934\n",
      " 1935 1936 1937 1938 1939 1940 1941 1942 1943 1944 1945 1946 1947 1948\n",
      " 1949 1950 1951 1952 1953 1954 1955 1956 1957 1958 1959 1960 1961 1962\n",
      " 1963 1964 1965 1966 1967 1968 1969 1970 1971 1972 1973 1974 1975 1976\n",
      " 1977 1978 1979 1980 1981 1982 1983 1984 1985 1986 1987 1988 1989 1990\n",
      " 1991 1992 1993 1994 1995 1996 1997 1998 1999 2000 2001 2002 2003 2004\n",
      " 2005 2006 2007 2008 2009 2010 2011 2012 2013 2014 2015 2016 2017 2018\n",
      " 2019 2020 2021 2022 2023 2024 2025 2026 2027 2028 2029 2030 2031 2032\n",
      " 2033 2034 2035 2036 2037 2038 2039 2040 2041 2042 2043 2044 2045 2046\n",
      " 2047 2048 2049 2050 2051 2052 2053 2054 2055 2056 2057 2058 2059 2060\n",
      " 2061 2062 2063 2064 2065 2066 2067 2068 2069 2070 2071 2072 2073 2074\n",
      " 2075 2076 2077 2078 2079 2080 2081 2082 2083 2084 2085 2086 2087 2088\n",
      " 2089 2090 2091 2092 2093 2094 2095 2096 2097 2098 2099 2100 2101 2102\n",
      " 2103 2104 2105 2106 2107 2108 2109 2110 2111 2112 2113 2114 2115 2116\n",
      " 2117 2118 2119 2120 2121 2122 2123 2124 2125 2126 2127 2128 2129 2130\n",
      " 2131 2132 2133 2134 2135 2136 2137 2138 2139 2140 2141 2142 2143 2144\n",
      " 2145 2146 2147 2148 2149 2150 2151 2152 2153 2154 2155 2156 2157 2158\n",
      " 2159 2160 2161 2162 2163 2164 2165 2166 2167 2168 2169 2170 2171 2172\n",
      " 2173 2174 2175 2176 2177 2178 2179 2180 2181 2182 2183 2184 2185 2186\n",
      " 2187 2188 2189 2190 2191 2192 2193 2194 2195 2196 2197 2198 2199 2200\n",
      " 2201 2202 2203 2204 2205]\n",
      "Split 5\n",
      "[   0    1    2 ... 2203 2204 2205]\n",
      "[2206 2207 2208 2209 2210 2211 2212 2213 2214 2215 2216 2217 2218 2219\n",
      " 2220 2221 2222 2223 2224 2225 2226 2227 2228 2229 2230 2231 2232 2233\n",
      " 2234 2235 2236 2237 2238 2239 2240 2241 2242 2243 2244 2245 2246 2247\n",
      " 2248 2249 2250 2251 2252 2253 2254 2255 2256 2257 2258 2259 2260 2261\n",
      " 2262 2263 2264 2265 2266 2267 2268 2269 2270 2271 2272 2273 2274 2275\n",
      " 2276 2277 2278 2279 2280 2281 2282 2283 2284 2285 2286 2287 2288 2289\n",
      " 2290 2291 2292 2293 2294 2295 2296 2297 2298 2299 2300 2301 2302 2303\n",
      " 2304 2305 2306 2307 2308 2309 2310 2311 2312 2313 2314 2315 2316 2317\n",
      " 2318 2319 2320 2321 2322 2323 2324 2325 2326 2327 2328 2329 2330 2331\n",
      " 2332 2333 2334 2335 2336 2337 2338 2339 2340 2341 2342 2343 2344 2345\n",
      " 2346 2347 2348 2349 2350 2351 2352 2353 2354 2355 2356 2357 2358 2359\n",
      " 2360 2361 2362 2363 2364 2365 2366 2367 2368 2369 2370 2371 2372 2373\n",
      " 2374 2375 2376 2377 2378 2379 2380 2381 2382 2383 2384 2385 2386 2387\n",
      " 2388 2389 2390 2391 2392 2393 2394 2395 2396 2397 2398 2399 2400 2401\n",
      " 2402 2403 2404 2405 2406 2407 2408 2409 2410 2411 2412 2413 2414 2415\n",
      " 2416 2417 2418 2419 2420 2421 2422 2423 2424 2425 2426 2427 2428 2429\n",
      " 2430 2431 2432 2433 2434 2435 2436 2437 2438 2439 2440 2441 2442 2443\n",
      " 2444 2445 2446 2447 2448 2449 2450 2451 2452 2453 2454 2455 2456 2457\n",
      " 2458 2459 2460 2461 2462 2463 2464 2465 2466 2467 2468 2469 2470 2471\n",
      " 2472 2473 2474 2475 2476 2477 2478 2479 2480 2481 2482 2483 2484 2485\n",
      " 2486 2487 2488 2489 2490 2491 2492 2493 2494 2495 2496 2497 2498 2499\n",
      " 2500 2501 2502 2503 2504 2505 2506 2507 2508 2509 2510 2511 2512 2513\n",
      " 2514 2515 2516 2517 2518 2519 2520 2521 2522 2523 2524 2525 2526 2527\n",
      " 2528 2529 2530 2531 2532 2533 2534 2535 2536 2537 2538 2539 2540 2541\n",
      " 2542 2543 2544 2545 2546 2547 2548 2549 2550 2551 2552 2553 2554 2555\n",
      " 2556 2557 2558 2559 2560 2561 2562 2563 2564 2565 2566 2567 2568 2569\n",
      " 2570 2571 2572 2573 2574 2575 2576 2577 2578 2579 2580 2581 2582 2583\n",
      " 2584 2585 2586 2587 2588 2589 2590 2591 2592 2593 2594 2595 2596 2597\n",
      " 2598 2599 2600 2601 2602 2603 2604 2605 2606 2607 2608 2609 2610 2611\n",
      " 2612 2613 2614 2615 2616 2617 2618 2619 2620 2621 2622 2623 2624 2625\n",
      " 2626 2627 2628 2629 2630 2631 2632 2633 2634 2635 2636 2637 2638 2639\n",
      " 2640 2641 2642 2643 2644 2645 2646 2647 2648 2649 2650 2651 2652 2653\n",
      " 2654 2655 2656 2657 2658 2659 2660 2661 2662 2663 2664 2665 2666 2667\n",
      " 2668 2669 2670 2671 2672 2673 2674 2675 2676 2677 2678 2679 2680 2681\n",
      " 2682 2683 2684 2685 2686 2687 2688 2689 2690 2691 2692 2693 2694 2695\n",
      " 2696 2697 2698 2699 2700 2701 2702 2703 2704 2705 2706 2707 2708 2709\n",
      " 2710 2711 2712 2713 2714 2715 2716 2717 2718 2719 2720 2721 2722 2723\n",
      " 2724 2725 2726 2727 2728 2729 2730 2731 2732 2733 2734 2735 2736 2737\n",
      " 2738 2739 2740 2741 2742 2743 2744 2745 2746 2747 2748 2749 2750 2751\n",
      " 2752 2753 2754 2755 2756]\n"
     ]
    }
   ],
   "source": [
    "# by default: no shuffle\n",
    "i = 1\n",
    "for train_index, valid_index in kf.split(X): # generator\n",
    "    print('Split {}'.format(i), train_index, valid_index, sep='\\n')\n",
    "    i += 1"
   ]
  },
  {
   "cell_type": "code",
   "execution_count": null,
   "metadata": {
    "id": "n-0Wv05cgjaf"
   },
   "outputs": [],
   "source": [
    "import numpy as np\n",
    "\n",
    "alphas = range(1, 30)\n",
    "# alphas = [0.1, 0.3, 0.5, 0.8, 1, 2, 3, 4, 5, 6]\n",
    "err_alphas = []\n",
    "for alpha in alphas:\n",
    "    steps = [('ctf', Cost_Transformer()),\n",
    "             ('poly', PolynomialFeatures(degree = 30)),\n",
    "             ('rescale', MinMaxScaler()),\n",
    "             ('lr', Lasso(alpha = alpha, max_iter = 100000))]\n",
    "    mse_kf = []\n",
    "    for train_index, valid_index in kf.split(X):\n",
    "        X_train, X_valid = X.iloc[train_index], X.iloc[valid_index]\n",
    "        y_train, y_valid = y[train_index], y[valid_index]\n",
    "        model_kf = Pipeline(steps)\n",
    "        model_kf = model_kf.fit(X_train, y_train)\n",
    "        mse_kf.append(mean_squared_error(y_valid, model_kf.predict(X_valid)))\n",
    "    err_alphas.append(np.mean(mse_kf))"
   ]
  },
  {
   "cell_type": "code",
   "execution_count": null,
   "metadata": {
    "id": "VE4_3RFVgjag",
    "outputId": "0e3e61d2-9b53-4e47-d93a-d3e32a85fe04"
   },
   "outputs": [
    {
     "data": {
      "text/plain": [
       "[<matplotlib.lines.Line2D at 0x23ee905a160>]"
      ]
     },
     "execution_count": 23,
     "metadata": {
      "tags": []
     },
     "output_type": "execute_result"
    },
    {
     "data": {
      "image/png": "[encoded data removed]",
      "text/plain": [
       "<Figure size 432x288 with 1 Axes>"
      ]
     },
     "metadata": {
      "needs_background": "light",
      "tags": []
     },
     "output_type": "display_data"
    }
   ],
   "source": [
    "plt.plot(err_alphas)"
   ]
  },
  {
   "cell_type": "markdown",
   "metadata": {
    "id": "vEP7T9cFgjag"
   },
   "source": [
    "<font color='red'>Question:</font> What is the difference between **KFold** and **train_test_split**? What is the advantages and disadvanteges of k-fold cross validation?"
   ]
  },
  {
   "cell_type": "markdown",
   "metadata": {
    "id": "v3q3mauagjah"
   },
   "source": [
    "### train_test_split introduces bias since you are not using all of your data, while KFold uses all the data.\n",
    "### train_test_split: pros: (1) Fully independent data (2) only needs to run once therefore low computational cost. cons: Introduces bias\n",
    "### KFold: pros: <font color='red'>Less bias</font>. cons: needs to run K times, therefore high computational cost."
   ]
  },
  {
   "cell_type": "markdown",
   "metadata": {
    "id": "g4-AeVadm_1P"
   },
   "source": [
    "<font color='red'>Some answers:</font> train_test_split splits 2-fold, while Kfold can split more\n",
    "\n",
    "<font color='red'>k = 2, still different from train_test_split</font>"
   ]
  },
  {
   "cell_type": "markdown",
   "metadata": {
    "id": "vYLuyo3Sm_1P"
   },
   "source": [
    "### <font color='red'>Q:</font> some more questions\n",
    "1. what is the best alpha?\n",
    "2. will the best alpha change, if you change k in kFold?\n",
    "3. how to determine k?"
   ]
  },
  {
   "cell_type": "code",
   "execution_count": null,
   "metadata": {
    "id": "gl8P4K9pm_1Q"
   },
   "outputs": [],
   "source": [
    "full data \n",
    "[data cal, data ten]"
   ]
  },
  {
   "cell_type": "markdown",
   "metadata": {
    "id": "4B8QqqFQm_1Q"
   },
   "source": [
    "### <font color='red'>Q:</font> high standard diviation of MSE with CV?\n",
    "![image.png](attachment:image.png)"
   ]
  },
  {
   "cell_type": "markdown",
   "metadata": {
    "id": "bZETraAngjai"
   },
   "source": [
    "# 3. GridSearchCV"
   ]
  },
  {
   "cell_type": "markdown",
   "metadata": {
    "id": "Oe4XXimcgjai"
   },
   "source": [
    "<font color='red'>Assignment:</font> By now, we have only tuned the value of **alpha**. Actually, **degree** in **PolynomialFeatures** is also a hyper parameter. Can we find the best values for both of them? You can try to use **GridSearchCV**, and also **make_scorer**."
   ]
  },
  {
   "cell_type": "markdown",
   "metadata": {
    "id": "DoN08YpAm_1R"
   },
   "source": [
    "### if not sure how to use GridSearchCV, go read the examples in the sklearn documentation"
   ]
  },
  {
   "cell_type": "code",
   "execution_count": null,
   "metadata": {
    "id": "gVOqfa9Ogjai"
   },
   "outputs": [],
   "source": [
    "from sklearn.model_selection import GridSearchCV\n",
    "from sklearn.metrics import make_scorer"
   ]
  },
  {
   "cell_type": "markdown",
   "metadata": {
    "id": "u83sK0GNm_1R"
   },
   "source": [
    "#### step 1: define the hyperparameters to tune"
   ]
  },
  {
   "cell_type": "code",
   "execution_count": null,
   "metadata": {
    "id": "ri3pGxLkgjaj"
   },
   "outputs": [],
   "source": [
    "parameters = {'lasso__alpha': range(1,10), 'poly__degree': range(1,10)}"
   ]
  },
  {
   "cell_type": "markdown",
   "metadata": {
    "id": "0c7SK6-Hm_1S"
   },
   "source": [
    "#### step 2: define the scorer"
   ]
  },
  {
   "cell_type": "markdown",
   "metadata": {
    "id": "etKNjC4sm_1S"
   },
   "source": [
    "<font color='red'>Don't forget to set greater_is_better = False</font>"
   ]
  },
  {
   "cell_type": "code",
   "execution_count": null,
   "metadata": {
    "id": "cXzqRauJgjaj"
   },
   "outputs": [],
   "source": [
    "scorer = make_scorer(mean_squared_error, greater_is_better = False)"
   ]
  },
  {
   "cell_type": "markdown",
   "metadata": {
    "id": "gGu-YUoRm_1T"
   },
   "source": [
    "#### step 3: create model/pipeline"
   ]
  },
  {
   "cell_type": "code",
   "execution_count": null,
   "metadata": {
    "id": "o0tQAmu4gjaj"
   },
   "outputs": [],
   "source": [
    "steps = [('ctf', Cost_Transformer()),\n",
    "        ('poly', PolynomialFeatures()),\n",
    "        ('rescale', MinMaxScaler()),\n",
    "        ('lasso', Lasso())]\n",
    "pipe = Pipeline(steps)"
   ]
  },
  {
   "cell_type": "markdown",
   "metadata": {
    "id": "BBtpX_kpm_1U"
   },
   "source": [
    "#### step 4: define a gridsearch process"
   ]
  },
  {
   "cell_type": "code",
   "execution_count": null,
   "metadata": {
    "id": "6KpRFBIJgjak"
   },
   "outputs": [],
   "source": [
    "model_gsv = GridSearchCV(pipe, parameters, cv = 5, scoring = scorer)"
   ]
  },
  {
   "cell_type": "code",
   "execution_count": null,
   "metadata": {
    "id": "l4jwFtbWgjak",
    "outputId": "2bcaf152-9b70-4736-9ecb-48024b06a8b0"
   },
   "outputs": [
    {
     "data": {
      "text/plain": [
       "GridSearchCV(cv=5,\n",
       "             estimator=Pipeline(steps=[('ctf',\n",
       "                                        <__main__.Cost_Transformer object at 0x0000023EE9216490>),\n",
       "                                       ('poly', PolynomialFeatures()),\n",
       "                                       ('rescale', MinMaxScaler()),\n",
       "                                       ('lasso', Lasso())]),\n",
       "             param_grid={'lasso__alpha': range(1, 10),\n",
       "                         'poly__degree': range(1, 10)},\n",
       "             scoring=make_scorer(mean_squared_error, greater_is_better=False))"
      ]
     },
     "execution_count": 47,
     "metadata": {
      "tags": []
     },
     "output_type": "execute_result"
    }
   ],
   "source": [
    "model_gsv"
   ]
  },
  {
   "cell_type": "markdown",
   "metadata": {
    "id": "PdnOHIj-m_1U"
   },
   "source": [
    "#### step 5: search"
   ]
  },
  {
   "cell_type": "code",
   "execution_count": null,
   "metadata": {
    "id": "baxblEDOgjal",
    "scrolled": true
   },
   "outputs": [],
   "source": [
    "import warnings\n",
    "warnings.filterwarnings(\"ignore\")\n",
    "\n",
    "model_gsv = model_gsv.fit(X, y)"
   ]
  },
  {
   "cell_type": "code",
   "execution_count": null,
   "metadata": {
    "id": "24HxjvbFgjal",
    "outputId": "f23c27ff-b6c8-4312-b11e-41dcd2099de3",
    "scrolled": true
   },
   "outputs": [
    {
     "data": {
      "text/plain": [
       "{'lasso__alpha': 1, 'poly__degree': 6}"
      ]
     },
     "execution_count": 49,
     "metadata": {
      "tags": []
     },
     "output_type": "execute_result"
    }
   ],
   "source": [
    "model_gsv.best_params_"
   ]
  },
  {
   "cell_type": "markdown",
   "metadata": {
    "id": "9K_wpOOzgjam"
   },
   "source": [
    "### <font color = 'blue'> Need discussion about this notebook. </font>"
   ]
  },
  {
   "cell_type": "code",
   "execution_count": null,
   "metadata": {
    "id": "dlSU8jUngjam",
    "outputId": "bf93495e-50c5-41e3-de98-997d9a15e578"
   },
   "outputs": [
    {
     "data": {
      "text/plain": [
       "GridSearchCV(cv=5,\n",
       "             estimator=Pipeline(steps=[('ctf',\n",
       "                                        <__main__.Cost_Transformer object at 0x0000023EE9216490>),\n",
       "                                       ('poly', PolynomialFeatures()),\n",
       "                                       ('rescale', MinMaxScaler()),\n",
       "                                       ('lasso', Lasso())]),\n",
       "             param_grid={'lasso__alpha': range(1, 10),\n",
       "                         'poly__degree': range(1, 10)},\n",
       "             scoring=make_scorer(mean_squared_error, greater_is_better=False))"
      ]
     },
     "execution_count": 50,
     "metadata": {
      "tags": []
     },
     "output_type": "execute_result"
    }
   ],
   "source": [
    "model_gsv"
   ]
  },
  {
   "cell_type": "code",
   "execution_count": null,
   "metadata": {
    "id": "D1A0JY8xgjam",
    "outputId": "1a907cc7-10c4-4113-d98d-e7d9069949b8",
    "scrolled": true
   },
   "outputs": [
    {
     "data": {
      "text/plain": [
       "{'mean_fit_time': array([0.00819907, 0.00719967, 0.01039867, 0.01099839, 0.01179786,\n",
       "        0.01239858, 0.01819911, 0.01739969, 0.01959982, 0.00779982,\n",
       "        0.0087996 , 0.01159978, 0.01140008, 0.01180005, 0.01219826,\n",
       "        0.01658893, 0.01859999, 0.01819916, 0.00860014, 0.00799942,\n",
       "        0.01220045, 0.01100049, 0.0117991 , 0.01219249, 0.01739888,\n",
       "        0.01660781, 0.01979933, 0.00859222, 0.01100016, 0.01199837,\n",
       "        0.01279902, 0.0127996 , 0.01419911, 0.02259851, 0.02020011,\n",
       "        0.02059894, 0.0093998 , 0.00799947, 0.01199994, 0.01099968,\n",
       "        0.01299934, 0.0141994 , 0.02000122, 0.01599798, 0.01800051,\n",
       "        0.01059976, 0.01140008, 0.01079969, 0.01179838, 0.01319227,\n",
       "        0.01420693, 0.01859131, 0.01820011, 0.02219877, 0.00919943,\n",
       "        0.00880041, 0.01280222, 0.01139874, 0.01239762, 0.01719837,\n",
       "        0.01520028, 0.01559148, 0.01639891, 0.00959897, 0.00979967,\n",
       "        0.0119998 , 0.01220021, 0.01199923, 0.0137991 , 0.01459913,\n",
       "        0.01499887, 0.0160007 , 0.00899887, 0.00959992, 0.0117981 ,\n",
       "        0.01099863, 0.0115983 , 0.01299772, 0.01439853, 0.01619997,\n",
       "        0.01839938]),\n",
       " 'std_fit_time': array([1.93899057e-03, 4.00233990e-04, 8.00824256e-04, 8.20381667e-07,\n",
       "        4.00520262e-04, 4.89901452e-04, 3.54261192e-03, 3.00967901e-03,\n",
       "        1.74314360e-03, 1.59909737e-03, 3.99137295e-04, 1.20031858e-03,\n",
       "        7.99846806e-04, 4.00665185e-04, 3.99808590e-04, 2.06480373e-03,\n",
       "        1.96128030e-03, 1.94057946e-03, 1.02016965e-03, 6.32334599e-04,\n",
       "        1.16681753e-03, 7.77697870e-07, 7.48328705e-04, 4.04260394e-04,\n",
       "        1.35601094e-03, 1.50450757e-03, 4.31023556e-03, 7.96096745e-04,\n",
       "        1.78968445e-03, 1.78925826e-03, 1.59931185e-03, 3.98447640e-04,\n",
       "        9.80330366e-04, 4.40667700e-03, 1.32617393e-03, 1.85529900e-03,\n",
       "        4.89862696e-04, 1.26485727e-03, 1.09558358e-03, 5.22348936e-07,\n",
       "        1.01601008e-06, 2.39925396e-03, 2.75795932e-03, 1.41549367e-03,\n",
       "        1.26504570e-03, 1.35564396e-03, 8.00204595e-04, 1.16680155e-03,\n",
       "        3.99367133e-04, 1.17370967e-03, 1.93320744e-03, 1.36009050e-03,\n",
       "        1.32648193e-03, 3.42972415e-03, 1.16662189e-03, 7.49067430e-04,\n",
       "        2.99381802e-03, 4.89435248e-04, 7.98654635e-04, 5.30502581e-03,\n",
       "        1.16627765e-03, 2.24377734e-03, 1.62325969e-03, 1.35426705e-03,\n",
       "        2.13520822e-03, 1.41451574e-03, 3.98833212e-04, 6.33166288e-04,\n",
       "        1.47028210e-03, 1.74315096e-03, 2.60655959e-03, 3.68659372e-03,\n",
       "        8.95005982e-04, 7.99776167e-04, 1.46814781e-03, 1.09318952e-03,\n",
       "        1.35453353e-03, 1.09480083e-03, 1.35593211e-03, 1.16578699e-03,\n",
       "        1.74392558e-03]),\n",
       " 'mean_score_time': array([0.00300431, 0.00200005, 0.00260124, 0.0030014 , 0.00280194,\n",
       "        0.00240126, 0.0039999 , 0.00340023, 0.00380015, 0.00259953,\n",
       "        0.00340004, 0.00320005, 0.00279989, 0.00240049, 0.00260124,\n",
       "        0.00321016, 0.00359893, 0.00300202, 0.00279999, 0.00280042,\n",
       "        0.00299988, 0.00239983, 0.00280771, 0.00220022, 0.0036006 ,\n",
       "        0.00319195, 0.00440807, 0.00280051, 0.00319972, 0.00320148,\n",
       "        0.00320134, 0.00299997, 0.00360003, 0.00460043, 0.00440288,\n",
       "        0.00400038, 0.00340028, 0.00280023, 0.00280008, 0.0026    ,\n",
       "        0.00260038, 0.00300016, 0.00419936, 0.00380139, 0.00339904,\n",
       "        0.00340004, 0.00359917, 0.00340085, 0.00280013, 0.0032001 ,\n",
       "        0.00300136, 0.00400066, 0.00339985, 0.0047998 , 0.0034009 ,\n",
       "        0.00339985, 0.00359778, 0.00260162, 0.00260172, 0.00360227,\n",
       "        0.00380049, 0.00320091, 0.00320182, 0.00299988, 0.00339994,\n",
       "        0.00260019, 0.00300078, 0.00320029, 0.00300055, 0.00320001,\n",
       "        0.00320072, 0.00320067, 0.00299931, 0.00340033, 0.00320134,\n",
       "        0.00260158, 0.00260091, 0.00300117, 0.0033998 , 0.00300016,\n",
       "        0.00360212]),\n",
       " 'std_score_time': array([6.34320594e-04, 4.37028474e-07, 4.89571095e-04, 8.71451706e-07,\n",
       "        3.99495110e-04, 4.89570608e-04, 8.94952039e-04, 4.90351443e-04,\n",
       "        7.48455792e-04, 4.89824003e-04, 4.90407820e-04, 3.99947291e-04,\n",
       "        7.48239137e-04, 4.90680162e-04, 4.90252202e-04, 3.97380038e-04,\n",
       "        4.89109309e-04, 6.34447000e-04, 3.99828142e-04, 7.48252504e-04,\n",
       "        6.33616249e-04, 4.89668060e-04, 3.85451446e-04, 3.99899607e-04,\n",
       "        8.00133220e-04, 9.64653191e-04, 7.96304511e-04, 7.49615849e-04,\n",
       "        3.99994946e-04, 4.01139978e-04, 3.98476086e-04, 1.52587891e-06,\n",
       "        8.00562551e-04, 4.88150139e-04, 8.05086116e-04, 6.32863288e-04,\n",
       "        4.90699689e-04, 3.99947433e-04, 7.47971569e-04, 4.90505060e-04,\n",
       "        4.89940455e-04, 3.87384339e-07, 7.48495460e-04, 7.48471139e-04,\n",
       "        4.89570515e-04, 4.89629490e-04, 7.99894539e-04, 4.89552327e-04,\n",
       "        4.00018820e-04, 9.79414358e-04, 6.22066460e-04, 6.32862275e-04,\n",
       "        8.00013661e-04, 4.00045699e-04, 4.90582819e-04, 7.99894511e-04,\n",
       "        7.98383612e-04, 4.89785603e-04, 4.90446746e-04, 7.98886022e-04,\n",
       "        7.48609290e-04, 4.00592103e-04, 7.49516644e-04, 6.31731327e-04,\n",
       "        1.01942156e-03, 4.89979312e-04, 6.30605151e-04, 3.98397460e-04,\n",
       "        1.12234137e-06, 7.48533078e-04, 9.79629052e-04, 7.47398486e-04,\n",
       "        8.93297129e-04, 4.89395749e-04, 3.99664261e-04, 4.90817393e-04,\n",
       "        4.88911047e-04, 6.10649513e-07, 4.89823562e-04, 6.32258932e-04,\n",
       "        7.99410728e-04]),\n",
       " 'param_lasso__alpha': masked_array(data=[1, 1, 1, 1, 1, 1, 1, 1, 1, 2, 2, 2, 2, 2, 2, 2, 2, 2,\n",
       "                    3, 3, 3, 3, 3, 3, 3, 3, 3, 4, 4, 4, 4, 4, 4, 4, 4, 4,\n",
       "                    5, 5, 5, 5, 5, 5, 5, 5, 5, 6, 6, 6, 6, 6, 6, 6, 6, 6,\n",
       "                    7, 7, 7, 7, 7, 7, 7, 7, 7, 8, 8, 8, 8, 8, 8, 8, 8, 8,\n",
       "                    9, 9, 9, 9, 9, 9, 9, 9, 9],\n",
       "              mask=[False, False, False, False, False, False, False, False,\n",
       "                    False, False, False, False, False, False, False, False,\n",
       "                    False, False, False, False, False, False, False, False,\n",
       "                    False, False, False, False, False, False, False, False,\n",
       "                    False, False, False, False, False, False, False, False,\n",
       "                    False, False, False, False, False, False, False, False,\n",
       "                    False, False, False, False, False, False, False, False,\n",
       "                    False, False, False, False, False, False, False, False,\n",
       "                    False, False, False, False, False, False, False, False,\n",
       "                    False, False, False, False, False, False, False, False,\n",
       "                    False],\n",
       "        fill_value='?',\n",
       "             dtype=object),\n",
       " 'param_poly__degree': masked_array(data=[1, 2, 3, 4, 5, 6, 7, 8, 9, 1, 2, 3, 4, 5, 6, 7, 8, 9,\n",
       "                    1, 2, 3, 4, 5, 6, 7, 8, 9, 1, 2, 3, 4, 5, 6, 7, 8, 9,\n",
       "                    1, 2, 3, 4, 5, 6, 7, 8, 9, 1, 2, 3, 4, 5, 6, 7, 8, 9,\n",
       "                    1, 2, 3, 4, 5, 6, 7, 8, 9, 1, 2, 3, 4, 5, 6, 7, 8, 9,\n",
       "                    1, 2, 3, 4, 5, 6, 7, 8, 9],\n",
       "              mask=[False, False, False, False, False, False, False, False,\n",
       "                    False, False, False, False, False, False, False, False,\n",
       "                    False, False, False, False, False, False, False, False,\n",
       "                    False, False, False, False, False, False, False, False,\n",
       "                    False, False, False, False, False, False, False, False,\n",
       "                    False, False, False, False, False, False, False, False,\n",
       "                    False, False, False, False, False, False, False, False,\n",
       "                    False, False, False, False, False, False, False, False,\n",
       "                    False, False, False, False, False, False, False, False,\n",
       "                    False, False, False, False, False, False, False, False,\n",
       "                    False],\n",
       "        fill_value='?',\n",
       "             dtype=object),\n",
       " 'params': [{'lasso__alpha': 1, 'poly__degree': 1},\n",
       "  {'lasso__alpha': 1, 'poly__degree': 2},\n",
       "  {'lasso__alpha': 1, 'poly__degree': 3},\n",
       "  {'lasso__alpha': 1, 'poly__degree': 4},\n",
       "  {'lasso__alpha': 1, 'poly__degree': 5},\n",
       "  {'lasso__alpha': 1, 'poly__degree': 6},\n",
       "  {'lasso__alpha': 1, 'poly__degree': 7},\n",
       "  {'lasso__alpha': 1, 'poly__degree': 8},\n",
       "  {'lasso__alpha': 1, 'poly__degree': 9},\n",
       "  {'lasso__alpha': 2, 'poly__degree': 1},\n",
       "  {'lasso__alpha': 2, 'poly__degree': 2},\n",
       "  {'lasso__alpha': 2, 'poly__degree': 3},\n",
       "  {'lasso__alpha': 2, 'poly__degree': 4},\n",
       "  {'lasso__alpha': 2, 'poly__degree': 5},\n",
       "  {'lasso__alpha': 2, 'poly__degree': 6},\n",
       "  {'lasso__alpha': 2, 'poly__degree': 7},\n",
       "  {'lasso__alpha': 2, 'poly__degree': 8},\n",
       "  {'lasso__alpha': 2, 'poly__degree': 9},\n",
       "  {'lasso__alpha': 3, 'poly__degree': 1},\n",
       "  {'lasso__alpha': 3, 'poly__degree': 2},\n",
       "  {'lasso__alpha': 3, 'poly__degree': 3},\n",
       "  {'lasso__alpha': 3, 'poly__degree': 4},\n",
       "  {'lasso__alpha': 3, 'poly__degree': 5},\n",
       "  {'lasso__alpha': 3, 'poly__degree': 6},\n",
       "  {'lasso__alpha': 3, 'poly__degree': 7},\n",
       "  {'lasso__alpha': 3, 'poly__degree': 8},\n",
       "  {'lasso__alpha': 3, 'poly__degree': 9},\n",
       "  {'lasso__alpha': 4, 'poly__degree': 1},\n",
       "  {'lasso__alpha': 4, 'poly__degree': 2},\n",
       "  {'lasso__alpha': 4, 'poly__degree': 3},\n",
       "  {'lasso__alpha': 4, 'poly__degree': 4},\n",
       "  {'lasso__alpha': 4, 'poly__degree': 5},\n",
       "  {'lasso__alpha': 4, 'poly__degree': 6},\n",
       "  {'lasso__alpha': 4, 'poly__degree': 7},\n",
       "  {'lasso__alpha': 4, 'poly__degree': 8},\n",
       "  {'lasso__alpha': 4, 'poly__degree': 9},\n",
       "  {'lasso__alpha': 5, 'poly__degree': 1},\n",
       "  {'lasso__alpha': 5, 'poly__degree': 2},\n",
       "  {'lasso__alpha': 5, 'poly__degree': 3},\n",
       "  {'lasso__alpha': 5, 'poly__degree': 4},\n",
       "  {'lasso__alpha': 5, 'poly__degree': 5},\n",
       "  {'lasso__alpha': 5, 'poly__degree': 6},\n",
       "  {'lasso__alpha': 5, 'poly__degree': 7},\n",
       "  {'lasso__alpha': 5, 'poly__degree': 8},\n",
       "  {'lasso__alpha': 5, 'poly__degree': 9},\n",
       "  {'lasso__alpha': 6, 'poly__degree': 1},\n",
       "  {'lasso__alpha': 6, 'poly__degree': 2},\n",
       "  {'lasso__alpha': 6, 'poly__degree': 3},\n",
       "  {'lasso__alpha': 6, 'poly__degree': 4},\n",
       "  {'lasso__alpha': 6, 'poly__degree': 5},\n",
       "  {'lasso__alpha': 6, 'poly__degree': 6},\n",
       "  {'lasso__alpha': 6, 'poly__degree': 7},\n",
       "  {'lasso__alpha': 6, 'poly__degree': 8},\n",
       "  {'lasso__alpha': 6, 'poly__degree': 9},\n",
       "  {'lasso__alpha': 7, 'poly__degree': 1},\n",
       "  {'lasso__alpha': 7, 'poly__degree': 2},\n",
       "  {'lasso__alpha': 7, 'poly__degree': 3},\n",
       "  {'lasso__alpha': 7, 'poly__degree': 4},\n",
       "  {'lasso__alpha': 7, 'poly__degree': 5},\n",
       "  {'lasso__alpha': 7, 'poly__degree': 6},\n",
       "  {'lasso__alpha': 7, 'poly__degree': 7},\n",
       "  {'lasso__alpha': 7, 'poly__degree': 8},\n",
       "  {'lasso__alpha': 7, 'poly__degree': 9},\n",
       "  {'lasso__alpha': 8, 'poly__degree': 1},\n",
       "  {'lasso__alpha': 8, 'poly__degree': 2},\n",
       "  {'lasso__alpha': 8, 'poly__degree': 3},\n",
       "  {'lasso__alpha': 8, 'poly__degree': 4},\n",
       "  {'lasso__alpha': 8, 'poly__degree': 5},\n",
       "  {'lasso__alpha': 8, 'poly__degree': 6},\n",
       "  {'lasso__alpha': 8, 'poly__degree': 7},\n",
       "  {'lasso__alpha': 8, 'poly__degree': 8},\n",
       "  {'lasso__alpha': 8, 'poly__degree': 9},\n",
       "  {'lasso__alpha': 9, 'poly__degree': 1},\n",
       "  {'lasso__alpha': 9, 'poly__degree': 2},\n",
       "  {'lasso__alpha': 9, 'poly__degree': 3},\n",
       "  {'lasso__alpha': 9, 'poly__degree': 4},\n",
       "  {'lasso__alpha': 9, 'poly__degree': 5},\n",
       "  {'lasso__alpha': 9, 'poly__degree': 6},\n",
       "  {'lasso__alpha': 9, 'poly__degree': 7},\n",
       "  {'lasso__alpha': 9, 'poly__degree': 8},\n",
       "  {'lasso__alpha': 9, 'poly__degree': 9}],\n",
       " 'split0_test_score': array([-2.98385531e+10, -2.91865909e+10, -2.97069056e+10, -2.96518701e+10,\n",
       "        -2.96469725e+10, -2.96755146e+10, -2.96799212e+10, -2.96751773e+10,\n",
       "        -2.96705827e+10, -2.98381199e+10, -2.91863263e+10, -2.96963862e+10,\n",
       "        -2.96499803e+10, -2.96431512e+10, -2.96681450e+10, -2.96789939e+10,\n",
       "        -2.96789048e+10, -2.96747346e+10, -2.98376868e+10, -2.91860618e+10,\n",
       "        -2.96859887e+10, -2.96474637e+10, -2.96405619e+10, -2.96612110e+10,\n",
       "        -2.96744497e+10, -2.96805050e+10, -2.96795791e+10, -2.98372538e+10,\n",
       "        -2.91857976e+10, -2.96757167e+10, -2.96451395e+10, -2.96391959e+10,\n",
       "        -2.96548519e+10, -2.96686674e+10, -2.96782508e+10, -2.96824617e+10,\n",
       "        -2.98368209e+10, -2.91855335e+10, -2.96655673e+10, -2.96430138e+10,\n",
       "        -2.96390563e+10, -2.96490888e+10, -2.96630617e+10, -2.96731735e+10,\n",
       "        -2.96811289e+10, -2.98363881e+10, -2.91852697e+10, -2.96555420e+10,\n",
       "        -2.96410826e+10, -2.96401480e+10, -2.96439397e+10, -2.96574858e+10,\n",
       "        -2.96677324e+10, -2.96762380e+10, -2.98359554e+10, -2.91850060e+10,\n",
       "        -2.96456356e+10, -2.96393418e+10, -2.96389910e+10, -2.96394561e+10,\n",
       "        -2.96527289e+10, -2.96622224e+10, -2.96709340e+10, -2.98355228e+10,\n",
       "        -2.91847425e+10, -2.96358587e+10, -2.96377964e+10, -2.96369208e+10,\n",
       "        -2.96356937e+10, -2.96480563e+10, -2.96592288e+10, -2.96683720e+10,\n",
       "        -2.98350903e+10, -2.91844793e+10, -2.96262020e+10, -2.96364567e+10,\n",
       "        -2.96354280e+10, -2.96325607e+10, -2.96437290e+10, -2.96550536e+10,\n",
       "        -2.96645323e+10]),\n",
       " 'split1_test_score': array([-2.61147442e+10, -2.60264675e+10, -2.47184201e+10, -2.47718489e+10,\n",
       "        -2.46918956e+10, -2.46692830e+10, -2.46746789e+10, -2.47169500e+10,\n",
       "        -2.47319013e+10, -2.61150439e+10, -2.60265257e+10, -2.47319376e+10,\n",
       "        -2.47924151e+10, -2.47454222e+10, -2.47053389e+10, -2.47081322e+10,\n",
       "        -2.47071287e+10, -2.47250888e+10, -2.61153438e+10, -2.60265842e+10,\n",
       "        -2.47455907e+10, -2.48133173e+10, -2.47996041e+10, -2.47460641e+10,\n",
       "        -2.47505005e+10, -2.47504786e+10, -2.47504773e+10, -2.61156438e+10,\n",
       "        -2.60266431e+10, -2.47593795e+10, -2.48344809e+10, -2.48259695e+10,\n",
       "        -2.47873710e+10, -2.47801262e+10, -2.47802204e+10, -2.47802102e+10,\n",
       "        -2.61159438e+10, -2.60267024e+10, -2.47733096e+10, -2.48559859e+10,\n",
       "        -2.48463173e+10, -2.48293021e+10, -2.48120746e+10, -2.48145951e+10,\n",
       "        -2.48145447e+10, -2.61162440e+10, -2.60267620e+10, -2.47873686e+10,\n",
       "        -2.48777058e+10, -2.48670502e+10, -2.48662420e+10, -2.48444611e+10,\n",
       "        -2.48412512e+10, -2.48414554e+10, -2.61165444e+10, -2.60268220e+10,\n",
       "        -2.48015672e+10, -2.48997268e+10, -2.48881138e+10, -2.48868696e+10,\n",
       "        -2.48772778e+10, -2.48686184e+10, -2.48673576e+10, -2.61168448e+10,\n",
       "        -2.60268824e+10, -2.48159101e+10, -2.49220245e+10, -2.49108896e+10,\n",
       "        -2.49091053e+10, -2.49098746e+10, -2.48979477e+10, -2.48933749e+10,\n",
       "        -2.61171454e+10, -2.60269431e+10, -2.48303741e+10, -2.49399820e+10,\n",
       "        -2.49245150e+10, -2.49245247e+10, -2.49245128e+10, -2.49235169e+10,\n",
       "        -2.49168800e+10]),\n",
       " 'split2_test_score': array([-2.42259297e+10, -2.29817272e+10, -2.29620684e+10, -2.29641075e+10,\n",
       "        -2.27303942e+10, -2.26846242e+10, -2.26916824e+10, -2.26876857e+10,\n",
       "        -2.27436571e+10, -2.42258558e+10, -2.29816751e+10, -2.29474960e+10,\n",
       "        -2.29785154e+10, -2.27688881e+10, -2.26850961e+10, -2.26948796e+10,\n",
       "        -2.26907968e+10, -2.26896815e+10, -2.42257819e+10, -2.29816236e+10,\n",
       "        -2.29332489e+10, -2.29934061e+10, -2.28159333e+10, -2.26922624e+10,\n",
       "        -2.26948396e+10, -2.26912053e+10, -2.26906051e+10, -2.42257082e+10,\n",
       "        -2.29815726e+10, -2.29193202e+10, -2.30087148e+10, -2.28713249e+10,\n",
       "        -2.27061740e+10, -2.26935094e+10, -2.26941338e+10, -2.26938504e+10,\n",
       "        -2.42256346e+10, -2.29815221e+10, -2.29057199e+10, -2.30245689e+10,\n",
       "        -2.29346522e+10, -2.27268044e+10, -2.26952299e+10, -2.26956817e+10,\n",
       "        -2.26953703e+10, -2.42255612e+10, -2.29814722e+10, -2.28924355e+10,\n",
       "        -2.30408667e+10, -2.30050799e+10, -2.27536404e+10, -2.27012219e+10,\n",
       "        -2.26973066e+10, -2.26975593e+10, -2.42254879e+10, -2.29814228e+10,\n",
       "        -2.28794734e+10, -2.30575583e+10, -2.30415763e+10, -2.27863091e+10,\n",
       "        -2.27115197e+10, -2.26992121e+10, -2.27011217e+10, -2.42254147e+10,\n",
       "        -2.29813740e+10, -2.28668320e+10, -2.30747773e+10, -2.30572970e+10,\n",
       "        -2.28250206e+10, -2.27261097e+10, -2.27030354e+10, -2.27054703e+10,\n",
       "        -2.42253416e+10, -2.29813257e+10, -2.28545152e+10, -2.30925169e+10,\n",
       "        -2.30736139e+10, -2.28696167e+10, -2.27449996e+10, -2.27099432e+10,\n",
       "        -2.27066896e+10]),\n",
       " 'split3_test_score': array([-3.47313609e+10, -3.43474013e+10, -3.32814892e+10, -3.32852861e+10,\n",
       "        -3.32278688e+10, -3.32194912e+10, -3.32303116e+10, -3.32300883e+10,\n",
       "        -3.32292843e+10, -3.47313571e+10, -3.43468348e+10, -3.32863952e+10,\n",
       "        -3.32925168e+10, -3.32465283e+10, -3.32306903e+10, -3.32381601e+10,\n",
       "        -3.32424490e+10, -3.32395516e+10, -3.47313534e+10, -3.43462692e+10,\n",
       "        -3.32915495e+10, -3.32973425e+10, -3.32672065e+10, -3.32428800e+10,\n",
       "        -3.32476264e+10, -3.32531697e+10, -3.32540965e+10, -3.47313499e+10,\n",
       "        -3.43457046e+10, -3.32969529e+10, -3.33083957e+10, -3.32898840e+10,\n",
       "        -3.32560580e+10, -3.32571306e+10, -3.32637055e+10, -3.32687910e+10,\n",
       "        -3.47313466e+10, -3.43451410e+10, -3.33026017e+10, -3.33239522e+10,\n",
       "        -3.33144938e+10, -3.32702127e+10, -3.32672360e+10, -3.32721409e+10,\n",
       "        -3.32780030e+10, -3.47313434e+10, -3.43445784e+10, -3.33085026e+10,\n",
       "        -3.33343278e+10, -3.33313239e+10, -3.32853383e+10, -3.32779132e+10,\n",
       "        -3.32809917e+10, -3.32860494e+10, -3.47313404e+10, -3.43440167e+10,\n",
       "        -3.33146504e+10, -3.33450427e+10, -3.33415695e+10, -3.33014381e+10,\n",
       "        -3.32894053e+10, -3.32906184e+10, -3.32946561e+10, -3.47313376e+10,\n",
       "        -3.43434560e+10, -3.33210452e+10, -3.33561024e+10, -3.33522380e+10,\n",
       "        -3.33185061e+10, -3.33016909e+10, -3.33002884e+10, -3.33028649e+10,\n",
       "        -3.47313349e+10, -3.43428962e+10, -3.33276892e+10, -3.33674342e+10,\n",
       "        -3.33632257e+10, -3.33365393e+10, -3.33140367e+10, -3.33101259e+10,\n",
       "        -3.33122122e+10]),\n",
       " 'split4_test_score': array([-3.35910515e+10, -3.25945446e+10, -3.21373694e+10, -3.21785186e+10,\n",
       "        -3.23049093e+10, -3.23411302e+10, -3.23183421e+10, -3.23164120e+10,\n",
       "        -3.23200517e+10, -3.35912985e+10, -3.25951668e+10, -3.21380354e+10,\n",
       "        -3.21687943e+10, -3.22806714e+10, -3.23251947e+10, -3.23102842e+10,\n",
       "        -3.23099571e+10, -3.23084013e+10, -3.35915455e+10, -3.25957893e+10,\n",
       "        -3.21388316e+10, -3.21599797e+10, -3.22577113e+10, -3.23088988e+10,\n",
       "        -3.23006800e+10, -3.22967064e+10, -3.22993986e+10, -3.35917927e+10,\n",
       "        -3.25964121e+10, -3.21397579e+10, -3.21522680e+10, -3.22360404e+10,\n",
       "        -3.22931955e+10, -3.22907325e+10, -3.22802212e+10, -3.22824713e+10,\n",
       "        -3.35920400e+10, -3.25970351e+10, -3.21408142e+10, -3.21460659e+10,\n",
       "        -3.22156524e+10, -3.22780884e+10, -3.22803313e+10, -3.22711367e+10,\n",
       "        -3.22739781e+10, -3.35922874e+10, -3.25976583e+10, -3.21420005e+10,\n",
       "        -3.21426842e+10, -3.21965488e+10, -3.22635801e+10, -3.22702552e+10,\n",
       "        -3.22617977e+10, -3.22649079e+10, -3.35925349e+10, -3.25982818e+10,\n",
       "        -3.21433162e+10, -3.21450050e+10, -3.21787442e+10, -3.22496741e+10,\n",
       "        -3.22605153e+10, -3.22526262e+10, -3.22543831e+10, -3.35927826e+10,\n",
       "        -3.25989056e+10, -3.21447628e+10, -3.21500109e+10, -3.21622553e+10,\n",
       "        -3.22363736e+10, -3.22509893e+10, -3.22453776e+10, -3.22420185e+10,\n",
       "        -3.35930304e+10, -3.25995296e+10, -3.21463385e+10, -3.21496083e+10,\n",
       "        -3.21498902e+10, -3.22236995e+10, -3.22416536e+10, -3.22382064e+10,\n",
       "        -3.22329009e+10]),\n",
       " 'mean_test_score': array([-2.97003279e+10, -2.90273463e+10, -2.85612505e+10, -2.85703262e+10,\n",
       "        -2.85204081e+10, -2.85180087e+10, -2.85189872e+10, -2.85252627e+10,\n",
       "        -2.85390954e+10, -2.97003350e+10, -2.90273057e+10, -2.85600501e+10,\n",
       "        -2.85764444e+10, -2.85369323e+10, -2.85228930e+10, -2.85260900e+10,\n",
       "        -2.85258473e+10, -2.85274915e+10, -2.97003423e+10, -2.90272656e+10,\n",
       "        -2.85590419e+10, -2.85823018e+10, -2.85562034e+10, -2.85302632e+10,\n",
       "        -2.85336193e+10, -2.85344130e+10, -2.85348313e+10, -2.97003497e+10,\n",
       "        -2.90272260e+10, -2.85582254e+10, -2.85897998e+10, -2.85724830e+10,\n",
       "        -2.85395301e+10, -2.85380332e+10, -2.85393064e+10, -2.85415569e+10,\n",
       "        -2.97003572e+10, -2.90271868e+10, -2.85576025e+10, -2.85987174e+10,\n",
       "        -2.85900344e+10, -2.85506993e+10, -2.85435867e+10, -2.85453456e+10,\n",
       "        -2.85486050e+10, -2.97003648e+10, -2.90271481e+10, -2.85571698e+10,\n",
       "        -2.86073334e+10, -2.86080302e+10, -2.85625481e+10, -2.85502674e+10,\n",
       "        -2.85498159e+10, -2.85532420e+10, -2.97003726e+10, -2.90271099e+10,\n",
       "        -2.85569285e+10, -2.86173349e+10, -2.86177990e+10, -2.85727494e+10,\n",
       "        -2.85582894e+10, -2.85546595e+10, -2.85576905e+10, -2.97003805e+10,\n",
       "        -2.90270721e+10, -2.85568817e+10, -2.86281423e+10, -2.86239201e+10,\n",
       "        -2.85849398e+10, -2.85673442e+10, -2.85611756e+10, -2.85624201e+10,\n",
       "        -2.97003885e+10, -2.90270348e+10, -2.85570238e+10, -2.86371996e+10,\n",
       "        -2.86293346e+10, -2.85973882e+10, -2.85737864e+10, -2.85673692e+10,\n",
       "        -2.85666430e+10]),\n",
       " 'std_test_score': array([4.08150892e+09, 4.16192338e+09, 4.06201900e+09, 4.05654421e+09,\n",
       "        4.14568573e+09, 4.16895863e+09, 4.16450790e+09, 4.15718778e+09,\n",
       "        4.13897567e+09, 4.08151931e+09, 4.16188995e+09, 4.06415516e+09,\n",
       "        4.04856723e+09, 4.12469344e+09, 4.16139515e+09, 4.15770933e+09,\n",
       "        4.15994678e+09, 4.15579710e+09, 4.08152972e+09, 4.16185664e+09,\n",
       "        4.06628794e+09, 4.03997418e+09, 4.10203082e+09, 4.15134446e+09,\n",
       "        4.15011904e+09, 4.15201829e+09, 4.15283503e+09, 4.08154016e+09,\n",
       "        4.16182344e+09, 4.06841938e+09, 4.03288975e+09, 4.08296383e+09,\n",
       "        4.13971795e+09, 4.14514873e+09, 4.14507790e+09, 4.14695664e+09,\n",
       "        4.08155063e+09, 4.16179037e+09, 4.07054444e+09, 4.02694054e+09,\n",
       "        4.06361500e+09, 4.12650566e+09, 4.13900487e+09, 4.13843389e+09,\n",
       "        4.14081596e+09, 4.08156112e+09, 4.16175741e+09, 4.07267018e+09,\n",
       "        4.02013662e+09, 4.04079744e+09, 4.11285498e+09, 4.13180856e+09,\n",
       "        4.13322847e+09, 4.13529756e+09, 4.08157164e+09, 4.16172458e+09,\n",
       "        4.07479111e+09, 4.01427208e+09, 4.02596530e+09, 4.10089590e+09,\n",
       "        4.12364630e+09, 4.12805340e+09, 4.12944658e+09, 4.08158218e+09,\n",
       "        4.16169186e+09, 4.07690742e+09, 4.00878381e+09, 4.01688598e+09,\n",
       "        4.08734954e+09, 4.11456738e+09, 4.12250653e+09, 4.12310913e+09,\n",
       "        4.08159275e+09, 4.16165926e+09, 4.07902176e+09, 4.00308814e+09,\n",
       "        4.01018656e+09, 4.07378352e+09, 4.10755287e+09, 4.11676920e+09,\n",
       "        4.11890905e+09]),\n",
       " 'rank_test_score': array([73, 72, 39, 45,  3,  1,  2,  5, 15, 74, 71, 37, 49, 13,  4,  7,  6,\n",
       "         8, 75, 70, 36, 50, 27,  9, 10, 11, 12, 76, 69, 34, 52, 46, 17, 14,\n",
       "        16, 18, 77, 68, 32, 55, 53, 24, 19, 20, 21, 78, 67, 31, 56, 57, 41,\n",
       "        23, 22, 25, 79, 66, 29, 58, 59, 47, 35, 26, 33, 80, 65, 28, 61, 60,\n",
       "        51, 43, 38, 40, 81, 64, 30, 63, 62, 54, 48, 44, 42])}"
      ]
     },
     "execution_count": 51,
     "metadata": {
      "tags": []
     },
     "output_type": "execute_result"
    }
   ],
   "source": [
    "model_gsv.cv_results_"
   ]
  },
  {
   "cell_type": "markdown",
   "metadata": {
    "id": "yL9lDMxEm_1W"
   },
   "source": [
    "### show useful info. of the search results "
   ]
  },
  {
   "cell_type": "code",
   "execution_count": null,
   "metadata": {
    "id": "-FeCmI9Vgjan",
    "outputId": "67c80621-efa4-49c6-a58b-b6c846dde908"
   },
   "outputs": [
    {
     "data": {
      "text/html": [
       "<div>\n",
       "<style scoped>\n",
       "    .dataframe tbody tr th:only-of-type {\n",
       "        vertical-align: middle;\n",
       "    }\n",
       "\n",
       "    .dataframe tbody tr th {\n",
       "        vertical-align: top;\n",
       "    }\n",
       "\n",
       "    .dataframe thead th {\n",
       "        text-align: right;\n",
       "    }\n",
       "</style>\n",
       "<table border=\"1\" class=\"dataframe\">\n",
       "  <thead>\n",
       "    <tr style=\"text-align: right;\">\n",
       "      <th></th>\n",
       "      <th>param_lasso__alpha</th>\n",
       "      <th>param_poly__degree</th>\n",
       "      <th>mean_test_score</th>\n",
       "      <th>rank_test_score</th>\n",
       "    </tr>\n",
       "  </thead>\n",
       "  <tbody>\n",
       "    <tr>\n",
       "      <th>0</th>\n",
       "      <td>1</td>\n",
       "      <td>1</td>\n",
       "      <td>-2.970033e+10</td>\n",
       "      <td>73</td>\n",
       "    </tr>\n",
       "    <tr>\n",
       "      <th>1</th>\n",
       "      <td>1</td>\n",
       "      <td>2</td>\n",
       "      <td>-2.902735e+10</td>\n",
       "      <td>72</td>\n",
       "    </tr>\n",
       "    <tr>\n",
       "      <th>2</th>\n",
       "      <td>1</td>\n",
       "      <td>3</td>\n",
       "      <td>-2.856125e+10</td>\n",
       "      <td>39</td>\n",
       "    </tr>\n",
       "    <tr>\n",
       "      <th>3</th>\n",
       "      <td>1</td>\n",
       "      <td>4</td>\n",
       "      <td>-2.857033e+10</td>\n",
       "      <td>45</td>\n",
       "    </tr>\n",
       "    <tr>\n",
       "      <th>4</th>\n",
       "      <td>1</td>\n",
       "      <td>5</td>\n",
       "      <td>-2.852041e+10</td>\n",
       "      <td>3</td>\n",
       "    </tr>\n",
       "    <tr>\n",
       "      <th>...</th>\n",
       "      <td>...</td>\n",
       "      <td>...</td>\n",
       "      <td>...</td>\n",
       "      <td>...</td>\n",
       "    </tr>\n",
       "    <tr>\n",
       "      <th>76</th>\n",
       "      <td>9</td>\n",
       "      <td>5</td>\n",
       "      <td>-2.862933e+10</td>\n",
       "      <td>62</td>\n",
       "    </tr>\n",
       "    <tr>\n",
       "      <th>77</th>\n",
       "      <td>9</td>\n",
       "      <td>6</td>\n",
       "      <td>-2.859739e+10</td>\n",
       "      <td>54</td>\n",
       "    </tr>\n",
       "    <tr>\n",
       "      <th>78</th>\n",
       "      <td>9</td>\n",
       "      <td>7</td>\n",
       "      <td>-2.857379e+10</td>\n",
       "      <td>48</td>\n",
       "    </tr>\n",
       "    <tr>\n",
       "      <th>79</th>\n",
       "      <td>9</td>\n",
       "      <td>8</td>\n",
       "      <td>-2.856737e+10</td>\n",
       "      <td>44</td>\n",
       "    </tr>\n",
       "    <tr>\n",
       "      <th>80</th>\n",
       "      <td>9</td>\n",
       "      <td>9</td>\n",
       "      <td>-2.856664e+10</td>\n",
       "      <td>42</td>\n",
       "    </tr>\n",
       "  </tbody>\n",
       "</table>\n",
       "<p>81 rows × 4 columns</p>\n",
       "</div>"
      ],
      "text/plain": [
       "   param_lasso__alpha param_poly__degree  mean_test_score  rank_test_score\n",
       "0                   1                  1    -2.970033e+10               73\n",
       "1                   1                  2    -2.902735e+10               72\n",
       "2                   1                  3    -2.856125e+10               39\n",
       "3                   1                  4    -2.857033e+10               45\n",
       "4                   1                  5    -2.852041e+10                3\n",
       "..                ...                ...              ...              ...\n",
       "76                  9                  5    -2.862933e+10               62\n",
       "77                  9                  6    -2.859739e+10               54\n",
       "78                  9                  7    -2.857379e+10               48\n",
       "79                  9                  8    -2.856737e+10               44\n",
       "80                  9                  9    -2.856664e+10               42\n",
       "\n",
       "[81 rows x 4 columns]"
      ]
     },
     "execution_count": 52,
     "metadata": {
      "tags": []
     },
     "output_type": "execute_result"
    }
   ],
   "source": [
    "result = model_gsv.cv_results_\n",
    "pd.DataFrame(result)[['param_lasso__alpha', 'param_poly__degree', 'mean_test_score', 'rank_test_score']]"
   ]
  },
  {
   "cell_type": "markdown",
   "metadata": {
    "id": "cNiFhDqBm_1W"
   },
   "source": [
    "### <font color='red'>Q:</font> why is the score negative?\n",
    "\n",
    "### GridSearchCV always tries to maximize its score"
   ]
  },
  {
   "cell_type": "markdown",
   "metadata": {
    "id": "Wnr2XLrRm_1X"
   },
   "source": [
    "### <font color='red'>Q:</font> no much improvement after grid seach?"
   ]
  },
  {
   "cell_type": "markdown",
   "metadata": {
    "id": "RwP7bVzAm_1X"
   },
   "source": [
    "### <font color='red'>Q:</font> what if different metrics give different best params?"
   ]
  }
 ],
 "metadata": {
  "colab": {
   "name": "08_cross_validation_updated.ipynb",
   "provenance": []
  },
  "kernelspec": {
   "display_name": "Python 3 (ipykernel)",
   "language": "python",
   "name": "python3"
  },
  "language_info": {
   "codemirror_mode": {
    "name": "ipython",
    "version": 3
   },
   "file_extension": ".py",
   "mimetype": "text/x-python",
   "name": "python",
   "nbconvert_exporter": "python",
   "pygments_lexer": "ipython3",
   "version": "3.8.15"
  }
 },
 "nbformat": 4,
 "nbformat_minor": 1
}

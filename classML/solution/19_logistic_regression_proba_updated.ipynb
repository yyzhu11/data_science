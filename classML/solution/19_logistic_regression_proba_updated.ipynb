{
 "cells": [
  {
   "cell_type": "code",
   "execution_count": 1,
   "metadata": {
    "ExecuteTime": {
     "end_time": "2021-06-12T14:18:55.527389Z",
     "start_time": "2021-06-12T14:18:55.525405Z"
    },
    "id": "OnfQAjpSrRXi"
   },
   "outputs": [],
   "source": [
    "import pandas as pd"
   ]
  },
  {
   "cell_type": "code",
   "execution_count": 2,
   "metadata": {
    "ExecuteTime": {
     "end_time": "2021-06-12T14:18:55.790589Z",
     "start_time": "2021-06-12T14:18:55.773473Z"
    },
    "id": "v70ZzrhirRXi"
   },
   "outputs": [],
   "source": [
    "# df = pd.read_csv('../data/sales.csv')\n",
    "df = pd.read_csv('sales.csv')\n",
    "df.dropna(subset=['price'], inplace=True)"
   ]
  },
  {
   "cell_type": "code",
   "execution_count": 3,
   "metadata": {
    "ExecuteTime": {
     "end_time": "2021-06-12T14:18:56.017588Z",
     "start_time": "2021-06-12T14:18:56.004587Z"
    },
    "id": "z8EDNnCerRXi",
    "outputId": "09386bd2-e2a4-4bd7-f54a-26b87bdd2f66"
   },
   "outputs": [
    {
     "data": {
      "text/html": [
       "<div>\n",
       "<style scoped>\n",
       "    .dataframe tbody tr th:only-of-type {\n",
       "        vertical-align: middle;\n",
       "    }\n",
       "\n",
       "    .dataframe tbody tr th {\n",
       "        vertical-align: top;\n",
       "    }\n",
       "\n",
       "    .dataframe thead th {\n",
       "        text-align: right;\n",
       "    }\n",
       "</style>\n",
       "<table border=\"1\" class=\"dataframe\">\n",
       "  <thead>\n",
       "    <tr style=\"text-align: right;\">\n",
       "      <th></th>\n",
       "      <th>cost</th>\n",
       "      <th>price</th>\n",
       "      <th>weight</th>\n",
       "      <th>purchase_date</th>\n",
       "      <th>product_type</th>\n",
       "      <th>product_level</th>\n",
       "      <th>maker</th>\n",
       "      <th>ingredient</th>\n",
       "      <th>height</th>\n",
       "      <th>width</th>\n",
       "      <th>depth</th>\n",
       "    </tr>\n",
       "  </thead>\n",
       "  <tbody>\n",
       "    <tr>\n",
       "      <th>0</th>\n",
       "      <td>$333k</td>\n",
       "      <td>$300,492</td>\n",
       "      <td>3 Ton 90 Kg</td>\n",
       "      <td>Dec 19 2008</td>\n",
       "      <td>Q,B</td>\n",
       "      <td>advanced</td>\n",
       "      <td>M14122</td>\n",
       "      <td>IN732052,IN732053</td>\n",
       "      <td>2.76 meters</td>\n",
       "      <td>97 cm</td>\n",
       "      <td>26 cm</td>\n",
       "    </tr>\n",
       "    <tr>\n",
       "      <th>1</th>\n",
       "      <td>NaN</td>\n",
       "      <td>$430,570</td>\n",
       "      <td>3 Ton 30 Kg</td>\n",
       "      <td>Sep 10 1997</td>\n",
       "      <td>J,D</td>\n",
       "      <td>basic</td>\n",
       "      <td>NaN</td>\n",
       "      <td>IN732054,IN732055,IN732056,IN732057,IN732058</td>\n",
       "      <td>2.67 meters</td>\n",
       "      <td>98 cm</td>\n",
       "      <td>26 cm</td>\n",
       "    </tr>\n",
       "    <tr>\n",
       "      <th>2</th>\n",
       "      <td>$270k</td>\n",
       "      <td>$213,070</td>\n",
       "      <td>3 Ton 40 Kg</td>\n",
       "      <td>Sep 05 2001</td>\n",
       "      <td>J,D</td>\n",
       "      <td>basic</td>\n",
       "      <td>NaN</td>\n",
       "      <td>IN732054,IN732059,IN732060</td>\n",
       "      <td>3.0 meters</td>\n",
       "      <td>93 cm</td>\n",
       "      <td>24 cm</td>\n",
       "    </tr>\n",
       "    <tr>\n",
       "      <th>3</th>\n",
       "      <td>NaN</td>\n",
       "      <td>$229,174</td>\n",
       "      <td>3 Ton 50 Kg</td>\n",
       "      <td>Dec 23 2016</td>\n",
       "      <td>U</td>\n",
       "      <td>advanced</td>\n",
       "      <td>M14123</td>\n",
       "      <td>IN732061,IN732062,IN732063</td>\n",
       "      <td>2.5 meters</td>\n",
       "      <td>102 cm</td>\n",
       "      <td>27 cm</td>\n",
       "    </tr>\n",
       "    <tr>\n",
       "      <th>4</th>\n",
       "      <td>$97k</td>\n",
       "      <td>$122,659</td>\n",
       "      <td>2 Ton 970 Kg</td>\n",
       "      <td>Jan 12 2000</td>\n",
       "      <td>D,R</td>\n",
       "      <td>advanced</td>\n",
       "      <td>NaN</td>\n",
       "      <td>IN732064,IN732065,IN732066</td>\n",
       "      <td>2.47 meters</td>\n",
       "      <td>101 cm</td>\n",
       "      <td>26 cm</td>\n",
       "    </tr>\n",
       "  </tbody>\n",
       "</table>\n",
       "</div>"
      ],
      "text/plain": [
       "    cost     price        weight purchase_date product_type product_level  \\\n",
       "0  $333k  $300,492   3 Ton 90 Kg   Dec 19 2008          Q,B      advanced   \n",
       "1    NaN  $430,570   3 Ton 30 Kg   Sep 10 1997          J,D         basic   \n",
       "2  $270k  $213,070   3 Ton 40 Kg   Sep 05 2001          J,D         basic   \n",
       "3    NaN  $229,174   3 Ton 50 Kg   Dec 23 2016            U      advanced   \n",
       "4   $97k  $122,659  2 Ton 970 Kg   Jan 12 2000          D,R      advanced   \n",
       "\n",
       "    maker                                    ingredient       height   width  \\\n",
       "0  M14122                             IN732052,IN732053  2.76 meters   97 cm   \n",
       "1     NaN  IN732054,IN732055,IN732056,IN732057,IN732058  2.67 meters   98 cm   \n",
       "2     NaN                    IN732054,IN732059,IN732060   3.0 meters   93 cm   \n",
       "3  M14123                    IN732061,IN732062,IN732063   2.5 meters  102 cm   \n",
       "4     NaN                    IN732064,IN732065,IN732066  2.47 meters  101 cm   \n",
       "\n",
       "   depth  \n",
       "0  26 cm  \n",
       "1  26 cm  \n",
       "2  24 cm  \n",
       "3  27 cm  \n",
       "4  26 cm  "
      ]
     },
     "execution_count": 3,
     "metadata": {},
     "output_type": "execute_result"
    }
   ],
   "source": [
    "df.head()"
   ]
  },
  {
   "cell_type": "code",
   "execution_count": 4,
   "metadata": {
    "ExecuteTime": {
     "end_time": "2021-06-12T14:18:56.485510Z",
     "start_time": "2021-06-12T14:18:56.231399Z"
    },
    "id": "2fnCpywSrRXi"
   },
   "outputs": [],
   "source": [
    "df['year'] = pd.to_datetime(df.purchase_date).dt.year\n",
    "train_raw = df[df.year < 2015]\n",
    "test_raw = df[df.year >= 2015]"
   ]
  },
  {
   "cell_type": "markdown",
   "metadata": {
    "id": "Aa1NsP9prRXj"
   },
   "source": [
    "# 1. Model building"
   ]
  },
  {
   "cell_type": "markdown",
   "metadata": {
    "id": "jTO_kU4LrRXj"
   },
   "source": [
    "<font color='red'>Assignment:</font> Get **luxury** (**price** higher than 500k dollars) as targets, and build a end-to-end model to predict wheather a product is **luxury** using **cost** values."
   ]
  },
  {
   "cell_type": "code",
   "execution_count": null,
   "metadata": {
    "ExecuteTime": {
     "end_time": "2021-06-12T14:18:56.707508Z",
     "start_time": "2021-06-12T14:18:56.705512Z"
    },
    "id": "tfOt9qh0rRXj"
   },
   "outputs": [],
   "source": [
    "# train_raw['price'] = train_raw['price'].map(lambda x: x if type(x) is float else float(x.strip('$').replace(',', '')))\n",
    "# test_raw['price'] = test_raw['price'].map(lambda x: x if type(x) is float else float(x.strip('$').replace(',', '')))"
   ]
  },
  {
   "cell_type": "code",
   "execution_count": null,
   "metadata": {
    "ExecuteTime": {
     "end_time": "2021-06-12T14:18:56.950511Z",
     "start_time": "2021-06-12T14:18:56.948509Z"
    },
    "id": "o_B00DOcrRXj"
   },
   "outputs": [],
   "source": [
    "# train_raw['luxury'] = ''\n",
    "# test_raw['luxury'] = ''\n",
    "# train_raw['luxury'].values[:] = 0\n",
    "# test_raw['luxury'].values[:] = 0\n",
    "# train_raw['luxury'][train_raw[train_raw.price > 500000].index] = 1\n",
    "# test_raw['luxury'][test_raw[test_raw.price > 500000].index] = 1"
   ]
  },
  {
   "cell_type": "code",
   "execution_count": null,
   "metadata": {
    "ExecuteTime": {
     "end_time": "2021-06-12T14:18:57.169648Z",
     "start_time": "2021-06-12T14:18:57.167649Z"
    },
    "id": "P2g_AJUhrRXj"
   },
   "outputs": [],
   "source": [
    "# y_train = train_raw.luxury\n",
    "# y_test = test_raw.luxury"
   ]
  },
  {
   "cell_type": "code",
   "execution_count": 5,
   "metadata": {
    "ExecuteTime": {
     "end_time": "2021-06-12T14:18:57.396683Z",
     "start_time": "2021-06-12T14:18:57.386683Z"
    },
    "id": "aUCSM-xbrRXj"
   },
   "outputs": [],
   "source": [
    "# Train and test data\n",
    "\n",
    "features = list(df.columns)\n",
    "target = [\"price\", \"luxury\"]\n",
    "features = [fea for fea in features if fea not in target]\n",
    "\n",
    "X_train = train_raw[features]\n",
    "X_test = test_raw[features]\n",
    "\n",
    "y_train = train_raw[\"price\"].map(lambda x: 1 if float(x.strip(\"$\").replace(\",\", \"\")) > 500000 else 0)\n",
    "y_test = test_raw[\"price\"].map(lambda x: 1 if float(x.strip(\"$\").replace(\",\", \"\")) > 500000 else 0)"
   ]
  },
  {
   "cell_type": "code",
   "execution_count": 6,
   "metadata": {
    "ExecuteTime": {
     "end_time": "2021-06-12T14:18:57.600689Z",
     "start_time": "2021-06-12T14:18:57.595690Z"
    },
    "id": "pgBDgkBlrRXk"
   },
   "outputs": [],
   "source": [
    "class Cost_Transformer(object):\n",
    "    \n",
    "    def fit(self, X, y=None):\n",
    "        df = pd.DataFrame()\n",
    "        df['cost'] = X.cost.map(self.cost2num)\n",
    "        self.mean = df.mean()\n",
    "        \n",
    "    def transform(self, X, y=None):\n",
    "        df = pd.DataFrame()\n",
    "        df['cost'] = X.cost.map(self.cost2num)\n",
    "        return df.fillna(self.mean)\n",
    "    \n",
    "    def fit_transform(self, X, y=None):\n",
    "        self.fit(X)\n",
    "        return self.transform(X)\n",
    "\n",
    "    def cost2num(self, x):\n",
    "        if type(x) == str: \n",
    "            x = x.strip('$').strip('k')\n",
    "            return float(x)*1000\n",
    "        else:\n",
    "            return x"
   ]
  },
  {
   "cell_type": "code",
   "execution_count": 7,
   "metadata": {
    "ExecuteTime": {
     "end_time": "2021-06-12T14:18:57.819333Z",
     "start_time": "2021-06-12T14:18:57.816325Z"
    },
    "id": "WfJHb0cKrRXk"
   },
   "outputs": [],
   "source": [
    "from sklearn.pipeline import Pipeline\n",
    "from sklearn.linear_model import LogisticRegression\n",
    "from sklearn.preprocessing import MinMaxScaler"
   ]
  },
  {
   "cell_type": "code",
   "execution_count": null,
   "metadata": {
    "ExecuteTime": {
     "end_time": "2021-06-12T14:18:58.047403Z",
     "start_time": "2021-06-12T14:18:58.029402Z"
    },
    "id": "CyKoAFbHrRXk"
   },
   "outputs": [],
   "source": [
    "steps = [('ctf', Cost_Transformer()),\n",
    "         ('rescale', MinMaxScaler()),\n",
    "         ('logr', LogisticRegression(class_weight='balanced'))]\n",
    "model = Pipeline(steps)\n",
    "model = model.fit(train_raw, y_train)"
   ]
  },
  {
   "cell_type": "code",
   "execution_count": null,
   "metadata": {
    "ExecuteTime": {
     "end_time": "2021-06-12T14:18:58.278425Z",
     "start_time": "2021-06-12T14:18:58.265424Z"
    },
    "id": "rhleFkpTrRXk"
   },
   "outputs": [],
   "source": [
    "y_train_pred = model.predict(train_raw)\n",
    "y_test_pred = model.predict(test_raw)"
   ]
  },
  {
   "cell_type": "code",
   "execution_count": null,
   "metadata": {
    "ExecuteTime": {
     "end_time": "2021-06-12T14:18:58.285427Z",
     "start_time": "2021-06-12T14:18:58.279424Z"
    },
    "id": "z33C2g_HrRXk",
    "outputId": "3be1b841-582a-4c5f-a533-fd10ffff5834"
   },
   "outputs": [
    {
     "name": "stdout",
     "output_type": "stream",
     "text": [
      "0       $333k\n",
      "1         NaN\n",
      "2       $270k\n",
      "4        $97k\n",
      "5        $59k\n",
      "        ...  \n",
      "3190    $254k\n",
      "3191     $91k\n",
      "3193      NaN\n",
      "3195     $44k\n",
      "3196    $128k\n",
      "Name: cost, Length: 2757, dtype: object\n"
     ]
    }
   ],
   "source": [
    "print(train_raw.cost)"
   ]
  },
  {
   "cell_type": "markdown",
   "metadata": {
    "id": "un2eez0jrRXk"
   },
   "source": [
    "# 2. Probability"
   ]
  },
  {
   "cell_type": "markdown",
   "metadata": {
    "id": "dL8tTe84rRXk"
   },
   "source": [
    "## 2.1 Predict_proba"
   ]
  },
  {
   "cell_type": "markdown",
   "metadata": {
    "id": "OoDF1sODrRXl"
   },
   "source": [
    "<font color='red'>Assignment:</font> Use the **predict_proba** function of the model to make predictions for the training and testing sets and assign the outputs to variables **y_train_proba** and **y_test_proba**."
   ]
  },
  {
   "cell_type": "code",
   "execution_count": null,
   "metadata": {
    "ExecuteTime": {
     "end_time": "2021-06-12T14:18:58.727434Z",
     "start_time": "2021-06-12T14:18:58.719454Z"
    },
    "id": "43BC1H_brRXl"
   },
   "outputs": [],
   "source": [
    "y_train_proba = model.predict_proba(train_raw)"
   ]
  },
  {
   "cell_type": "code",
   "execution_count": null,
   "metadata": {
    "ExecuteTime": {
     "end_time": "2021-06-12T14:18:58.945434Z",
     "start_time": "2021-06-12T14:18:58.940455Z"
    },
    "id": "GkHdlhJYrRXl"
   },
   "outputs": [],
   "source": [
    "y_test_proba = model.predict_proba(test_raw)"
   ]
  },
  {
   "cell_type": "markdown",
   "metadata": {
    "id": "cmIYv2dJrRXl"
   },
   "source": [
    "<font color='red'>Question:</font> What are the shapes of **y_train_proba** and **y_test_proba**? Why are they different from the outputs obtained with the **predict** function? Which parts of **y_train_proba** and **y_test_proba** should we care about in this case? "
   ]
  },
  {
   "cell_type": "code",
   "execution_count": null,
   "metadata": {
    "ExecuteTime": {
     "end_time": "2021-06-12T14:18:59.161772Z",
     "start_time": "2021-06-12T14:18:59.157772Z"
    },
    "id": "AB2IIvEZrRXl",
    "outputId": "dc633be4-2dc0-44a5-cbd9-9d6c708d14e6"
   },
   "outputs": [
    {
     "data": {
      "text/plain": [
       "(2757, 2)"
      ]
     },
     "execution_count": 72,
     "metadata": {
      "tags": []
     },
     "output_type": "execute_result"
    }
   ],
   "source": [
    "y_train_proba.shape"
   ]
  },
  {
   "cell_type": "code",
   "execution_count": null,
   "metadata": {
    "ExecuteTime": {
     "end_time": "2021-06-12T14:18:59.382810Z",
     "start_time": "2021-06-12T14:18:59.378810Z"
    },
    "id": "hQwo5MtCrRXl",
    "outputId": "84b8a8e0-44c8-4b4c-d041-df8670e9db75"
   },
   "outputs": [
    {
     "data": {
      "text/plain": [
       "(429, 2)"
      ]
     },
     "execution_count": 73,
     "metadata": {
      "tags": []
     },
     "output_type": "execute_result"
    }
   ],
   "source": [
    "y_test_proba.shape"
   ]
  },
  {
   "cell_type": "code",
   "execution_count": null,
   "metadata": {
    "ExecuteTime": {
     "end_time": "2021-06-12T14:18:59.603927Z",
     "start_time": "2021-06-12T14:18:59.592925Z"
    },
    "id": "PNK1N0mkrRXl",
    "outputId": "61a9f4cc-a961-4821-d5ac-9ff5a6835ad7",
    "scrolled": true
   },
   "outputs": [
    {
     "data": {
      "text/plain": [
       "array([[0.66162999, 0.33837001],\n",
       "       [0.67508952, 0.32491048],\n",
       "       [0.67508952, 0.32491048],\n",
       "       [0.66162999, 0.33837001],\n",
       "       [0.89338056, 0.10661944],\n",
       "       [0.88365903, 0.11634097],\n",
       "       [0.89615435, 0.10384565],\n",
       "       [0.73991718, 0.26008282],\n",
       "       [0.83948254, 0.16051746],\n",
       "       [0.66162999, 0.33837001],\n",
       "       [0.80358939, 0.19641061],\n",
       "       [0.66162999, 0.33837001],\n",
       "       [0.66162999, 0.33837001],\n",
       "       [0.80358939, 0.19641061],\n",
       "       [0.04875918, 0.95124082],\n",
       "       [0.41364604, 0.58635396],\n",
       "       [0.85227839, 0.14772161],\n",
       "       [0.75656138, 0.24343862],\n",
       "       [0.66162999, 0.33837001],\n",
       "       [0.66162999, 0.33837001],\n",
       "       [0.61447294, 0.38552706],\n",
       "       [0.80358939, 0.19641061],\n",
       "       [0.66162999, 0.33837001],\n",
       "       [0.88861252, 0.11138748],\n",
       "       [0.56703201, 0.43296799],\n",
       "       [0.15013482, 0.84986518],\n",
       "       [0.69624844, 0.30375156],\n",
       "       [0.66162999, 0.33837001],\n",
       "       [0.1713027 , 0.8286973 ],\n",
       "       [0.00433921, 0.99566079],\n",
       "       [0.83948254, 0.16051746],\n",
       "       [0.81421306, 0.18578694],\n",
       "       [0.66162999, 0.33837001],\n",
       "       [0.00433921, 0.99566079],\n",
       "       [0.66162999, 0.33837001],\n",
       "       [0.66162999, 0.33837001],\n",
       "       [0.66162999, 0.33837001],\n",
       "       [0.66162999, 0.33837001],\n",
       "       [0.30779319, 0.69220681],\n",
       "       [0.88665364, 0.11334636],\n",
       "       [0.66162999, 0.33837001],\n",
       "       [0.05658552, 0.94341448],\n",
       "       [0.66162999, 0.33837001],\n",
       "       [0.84853073, 0.15146927],\n",
       "       [0.65541209, 0.34458791],\n",
       "       [0.88059594, 0.11940406],\n",
       "       [0.52812795, 0.47187205],\n",
       "       [0.89338056, 0.10661944],\n",
       "       [0.88958081, 0.11041919],\n",
       "       [0.73991718, 0.26008282],\n",
       "       [0.83948254, 0.16051746],\n",
       "       [0.89615435, 0.10384565],\n",
       "       [0.80358939, 0.19641061],\n",
       "       [0.73991718, 0.26008282],\n",
       "       [0.76724849, 0.23275151],\n",
       "       [0.66162999, 0.33837001],\n",
       "       [0.83948254, 0.16051746],\n",
       "       [0.66162999, 0.33837001],\n",
       "       [0.00433921, 0.99566079],\n",
       "       [0.04875918, 0.95124082],\n",
       "       [0.66162999, 0.33837001],\n",
       "       [0.66162999, 0.33837001],\n",
       "       [0.67508952, 0.32491048],\n",
       "       [0.66162999, 0.33837001],\n",
       "       [0.68151782, 0.31848218],\n",
       "       [0.66162999, 0.33837001],\n",
       "       [0.3422383 , 0.6577617 ],\n",
       "       [0.76194617, 0.23805383],\n",
       "       [0.76724849, 0.23275151],\n",
       "       [0.76724849, 0.23275151],\n",
       "       [0.66162999, 0.33837001],\n",
       "       [0.63972583, 0.36027417],\n",
       "       [0.66162999, 0.33837001],\n",
       "       [0.8774634 , 0.1225366 ],\n",
       "       [0.04875918, 0.95124082],\n",
       "       [0.61911503, 0.38088497],\n",
       "       [0.2469624 , 0.7530376 ],\n",
       "       [0.79412318, 0.20587682],\n",
       "       [0.66162999, 0.33837001],\n",
       "       [0.66162999, 0.33837001],\n",
       "       [0.66162999, 0.33837001],\n",
       "       [0.41364604, 0.58635396],\n",
       "       [0.66162999, 0.33837001],\n",
       "       [0.05658552, 0.94341448],\n",
       "       [0.76194617, 0.23805383],\n",
       "       [0.8774634 , 0.1225366 ],\n",
       "       [0.88665364, 0.11334636],\n",
       "       [0.52812795, 0.47187205],\n",
       "       [0.66162999, 0.33837001],\n",
       "       [0.73991718, 0.26008282],\n",
       "       [0.86650741, 0.13349259],\n",
       "       [0.82721295, 0.17278705],\n",
       "       [0.0385541 , 0.9614459 ],\n",
       "       [0.79412318, 0.20587682],\n",
       "       [0.63972583, 0.36027417],\n",
       "       [0.85954358, 0.14045642],\n",
       "       [0.11427623, 0.88572377],\n",
       "       [0.66162999, 0.33837001],\n",
       "       [0.03642846, 0.96357154],\n",
       "       [0.19323559, 0.80676441],\n",
       "       [0.66162999, 0.33837001],\n",
       "       [0.82296148, 0.17703852],\n",
       "       [0.66162999, 0.33837001],\n",
       "       [0.73991718, 0.26008282],\n",
       "       [0.66162999, 0.33837001],\n",
       "       [0.66162999, 0.33837001],\n",
       "       [0.67508952, 0.32491048],\n",
       "       [0.66162999, 0.33837001],\n",
       "       [0.66162999, 0.33837001],\n",
       "       [0.67508952, 0.32491048],\n",
       "       [0.02686918, 0.97313082],\n",
       "       [0.54521892, 0.45478108],\n",
       "       [0.73991718, 0.26008282],\n",
       "       [0.66162999, 0.33837001],\n",
       "       [0.1028799 , 0.8971201 ],\n",
       "       [0.66162999, 0.33837001],\n",
       "       [0.90151101, 0.09848899],\n",
       "       [0.66162999, 0.33837001],\n",
       "       [0.11427623, 0.88572377],\n",
       "       [0.06558146, 0.93441854],\n",
       "       [0.59806594, 0.40193406],\n",
       "       [0.61911503, 0.38088497],\n",
       "       [0.90494408, 0.09505592],\n",
       "       [0.66162999, 0.33837001],\n",
       "       [0.04875918, 0.95124082],\n",
       "       [0.66162999, 0.33837001],\n",
       "       [0.83138325, 0.16861675],\n",
       "       [0.66162999, 0.33837001],\n",
       "       [0.66162999, 0.33837001],\n",
       "       [0.870986  , 0.129014  ],\n",
       "       [0.870986  , 0.129014  ],\n",
       "       [0.66162999, 0.33837001],\n",
       "       [0.30779319, 0.69220681],\n",
       "       [0.66162999, 0.33837001],\n",
       "       [0.66162999, 0.33837001],\n",
       "       [0.76724849, 0.23275151],\n",
       "       [0.13116863, 0.86883137],\n",
       "       [0.72647232, 0.27352768],\n",
       "       [0.76724849, 0.23275151],\n",
       "       [0.86306273, 0.13693727],\n",
       "       [0.45219851, 0.54780149],\n",
       "       [0.75109458, 0.24890542],\n",
       "       [0.10019248, 0.89980752],\n",
       "       [0.66162999, 0.33837001],\n",
       "       [0.27536354, 0.72463646],\n",
       "       [0.87426041, 0.12573959],\n",
       "       [0.30779319, 0.69220681],\n",
       "       [0.89338056, 0.10661944],\n",
       "       [0.05658552, 0.94341448],\n",
       "       [0.49133325, 0.50866675],\n",
       "       [0.66162999, 0.33837001],\n",
       "       [0.04236375, 0.95763625],\n",
       "       [0.8774634 , 0.1225366 ],\n",
       "       [0.05658552, 0.94341448],\n",
       "       [0.67508952, 0.32491048],\n",
       "       [0.67508952, 0.32491048],\n",
       "       [0.66162999, 0.33837001],\n",
       "       [0.66162999, 0.33837001],\n",
       "       [0.60512677, 0.39487323],\n",
       "       [0.66162999, 0.33837001],\n",
       "       [0.19323559, 0.80676441],\n",
       "       [0.89338056, 0.10661944],\n",
       "       [0.73991718, 0.26008282],\n",
       "       [0.83948254, 0.16051746],\n",
       "       [0.60512677, 0.39487323],\n",
       "       [0.04079852, 0.95920148],\n",
       "       [0.08689035, 0.91310965],\n",
       "       [0.85954358, 0.14045642],\n",
       "       [0.73991718, 0.26008282],\n",
       "       [0.8774634 , 0.1225366 ],\n",
       "       [0.44491155, 0.55508845],\n",
       "       [0.85954358, 0.14045642],\n",
       "       [0.60512677, 0.39487323],\n",
       "       [0.66162999, 0.33837001],\n",
       "       [0.85594908, 0.14405092],\n",
       "       [0.52812795, 0.47187205],\n",
       "       [0.85227839, 0.14772161],\n",
       "       [0.89338056, 0.10661944],\n",
       "       [0.66162999, 0.33837001],\n",
       "       [0.60512677, 0.39487323],\n",
       "       [0.66162999, 0.33837001],\n",
       "       [0.66162999, 0.33837001],\n",
       "       [0.85227839, 0.14772161],\n",
       "       [0.73991718, 0.26008282],\n",
       "       [0.08689035, 0.91310965],\n",
       "       [0.86072496, 0.13927504],\n",
       "       [0.66162999, 0.33837001],\n",
       "       [0.03642846, 0.96357154],\n",
       "       [0.66162999, 0.33837001],\n",
       "       [0.83948254, 0.16051746],\n",
       "       [0.66162999, 0.33837001],\n",
       "       [0.59806594, 0.40193406],\n",
       "       [0.66162999, 0.33837001],\n",
       "       [0.83948254, 0.16051746],\n",
       "       [0.88365903, 0.11634097],\n",
       "       [0.66162999, 0.33837001],\n",
       "       [0.66162999, 0.33837001],\n",
       "       [0.66162999, 0.33837001],\n",
       "       [0.88264566, 0.11735434],\n",
       "       [0.77929795, 0.22070205],\n",
       "       [0.81862833, 0.18137167],\n",
       "       [0.49869744, 0.50130256],\n",
       "       [0.86650741, 0.13349259],\n",
       "       [0.2469624 , 0.7530376 ],\n",
       "       [0.08689035, 0.91310965],\n",
       "       [0.89338056, 0.10661944],\n",
       "       [0.80819765, 0.19180235],\n",
       "       [0.66162999, 0.33837001],\n",
       "       [0.88365903, 0.11634097],\n",
       "       [0.60512677, 0.39487323],\n",
       "       [0.81862833, 0.18137167],\n",
       "       [0.66162999, 0.33837001],\n",
       "       [0.67508952, 0.32491048],\n",
       "       [0.66162999, 0.33837001],\n",
       "       [0.66162999, 0.33837001],\n",
       "       [0.84853073, 0.15146927],\n",
       "       [0.66162999, 0.33837001],\n",
       "       [0.66162999, 0.33837001],\n",
       "       [0.16176371, 0.83823629],\n",
       "       [0.88264566, 0.11735434],\n",
       "       [0.66162999, 0.33837001],\n",
       "       [0.66162999, 0.33837001],\n",
       "       [0.86650741, 0.13349259],\n",
       "       [0.1713027 , 0.8286973 ],\n",
       "       [0.66162999, 0.33837001],\n",
       "       [0.66162999, 0.33837001],\n",
       "       [0.66162999, 0.33837001],\n",
       "       [0.89338056, 0.10661944],\n",
       "       [0.70856336, 0.29143664],\n",
       "       [0.89338056, 0.10661944],\n",
       "       [0.88059594, 0.11940406],\n",
       "       [0.80358939, 0.19641061],\n",
       "       [0.63972583, 0.36027417],\n",
       "       [0.08689035, 0.91310965],\n",
       "       [0.870986  , 0.129014  ],\n",
       "       [0.8774634 , 0.1225366 ],\n",
       "       [0.79412318, 0.20587682],\n",
       "       [0.66162999, 0.33837001],\n",
       "       [0.14277084, 0.85722916],\n",
       "       [0.66162999, 0.33837001],\n",
       "       [0.56703201, 0.43296799],\n",
       "       [0.79889796, 0.20110204],\n",
       "       [0.39238602, 0.60761398],\n",
       "       [0.67508952, 0.32491048],\n",
       "       [0.27536354, 0.72463646],\n",
       "       [0.76724849, 0.23275151],\n",
       "       [0.66162999, 0.33837001],\n",
       "       [0.80358939, 0.19641061],\n",
       "       [0.870986  , 0.129014  ],\n",
       "       [0.85954358, 0.14045642],\n",
       "       [0.66162999, 0.33837001],\n",
       "       [0.66162999, 0.33837001],\n",
       "       [0.84853073, 0.15146927],\n",
       "       [0.73991718, 0.26008282],\n",
       "       [0.28928948, 0.71071052],\n",
       "       [0.83948254, 0.16051746],\n",
       "       [0.66162999, 0.33837001],\n",
       "       [0.66162999, 0.33837001],\n",
       "       [0.81862833, 0.18137167],\n",
       "       [0.67508952, 0.32491048],\n",
       "       [0.66162999, 0.33837001],\n",
       "       [0.2469624 , 0.7530376 ],\n",
       "       [0.84470531, 0.15529469],\n",
       "       [0.66162999, 0.33837001],\n",
       "       [0.85954358, 0.14045642],\n",
       "       [0.81421306, 0.18578694],\n",
       "       [0.83948254, 0.16051746],\n",
       "       [0.3422383 , 0.6577617 ],\n",
       "       [0.73991718, 0.26008282],\n",
       "       [0.66162999, 0.33837001],\n",
       "       [0.66162999, 0.33837001],\n",
       "       [0.79412318, 0.20587682],\n",
       "       [0.8774634 , 0.1225366 ],\n",
       "       [0.79412318, 0.20587682],\n",
       "       [0.73991718, 0.26008282],\n",
       "       [0.79412318, 0.20587682],\n",
       "       [0.66162999, 0.33837001],\n",
       "       [0.00507373, 0.99492627],\n",
       "       [0.66162999, 0.33837001],\n",
       "       [0.56703201, 0.43296799],\n",
       "       [0.66162999, 0.33837001],\n",
       "       [0.03129755, 0.96870245],\n",
       "       [0.00507373, 0.99492627],\n",
       "       [0.66162999, 0.33837001],\n",
       "       [0.79412318, 0.20587682],\n",
       "       [0.89338056, 0.10661944],\n",
       "       [0.52812795, 0.47187205],\n",
       "       [0.80358939, 0.19641061],\n",
       "       [0.66162999, 0.33837001],\n",
       "       [0.04236375, 0.95763625],\n",
       "       [0.60512677, 0.39487323],\n",
       "       [0.66162999, 0.33837001],\n",
       "       [0.68787773, 0.31212227],\n",
       "       [0.83948254, 0.16051746],\n",
       "       [0.54521892, 0.45478108],\n",
       "       [0.1713027 , 0.8286973 ],\n",
       "       [0.13116863, 0.86883137],\n",
       "       [0.07520668, 0.92479332],\n",
       "       [0.66162999, 0.33837001],\n",
       "       [0.75109458, 0.24890542],\n",
       "       [0.71460936, 0.28539064],\n",
       "       [0.66162999, 0.33837001],\n",
       "       [0.66162999, 0.33837001],\n",
       "       [0.5060622 , 0.4939378 ],\n",
       "       [0.11427623, 0.88572377],\n",
       "       [0.81421306, 0.18578694],\n",
       "       [0.80358939, 0.19641061],\n",
       "       [0.88264566, 0.11735434],\n",
       "       [0.67508952, 0.32491048],\n",
       "       [0.79889796, 0.20110204],\n",
       "       [0.66162999, 0.33837001],\n",
       "       [0.60512677, 0.39487323],\n",
       "       [0.8774634 , 0.1225366 ],\n",
       "       [0.89615435, 0.10384565],\n",
       "       [0.66162999, 0.33837001],\n",
       "       [0.66162999, 0.33837001],\n",
       "       [0.66162999, 0.33837001],\n",
       "       [0.73991718, 0.26008282],\n",
       "       [0.88264566, 0.11735434],\n",
       "       [0.66162999, 0.33837001],\n",
       "       [0.66162999, 0.33837001],\n",
       "       [0.66162999, 0.33837001],\n",
       "       [0.66162999, 0.33837001],\n",
       "       [0.85954358, 0.14045642],\n",
       "       [0.66162999, 0.33837001],\n",
       "       [0.2469624 , 0.7530376 ],\n",
       "       [0.86876293, 0.13123707],\n",
       "       [0.88059594, 0.11940406],\n",
       "       [0.63972583, 0.36027417],\n",
       "       [0.66162999, 0.33837001],\n",
       "       [0.870986  , 0.129014  ],\n",
       "       [0.66162999, 0.33837001],\n",
       "       [0.8774634 , 0.1225366 ],\n",
       "       [0.90662014, 0.09337986],\n",
       "       [0.81862833, 0.18137167],\n",
       "       [0.89338056, 0.10661944],\n",
       "       [0.70856336, 0.29143664],\n",
       "       [0.81862833, 0.18137167],\n",
       "       [0.66162999, 0.33837001],\n",
       "       [0.89338056, 0.10661944],\n",
       "       [0.73991718, 0.26008282],\n",
       "       [0.71460936, 0.28539064],\n",
       "       [0.66162999, 0.33837001],\n",
       "       [0.83138325, 0.16861675],\n",
       "       [0.06558146, 0.93441854],\n",
       "       [0.21891502, 0.78108498],\n",
       "       [0.66162999, 0.33837001],\n",
       "       [0.66162999, 0.33837001],\n",
       "       [0.66162999, 0.33837001],\n",
       "       [0.76724849, 0.23275151],\n",
       "       [0.67508952, 0.32491048],\n",
       "       [0.04236375, 0.95763625],\n",
       "       [0.37843077, 0.62156923],\n",
       "       [0.89796793, 0.10203207],\n",
       "       [0.03642846, 0.96357154],\n",
       "       [0.66162999, 0.33837001],\n",
       "       [0.83948254, 0.16051746],\n",
       "       [0.66162999, 0.33837001],\n",
       "       [0.77246797, 0.22753203],\n",
       "       [0.37843077, 0.62156923],\n",
       "       [0.49133325, 0.50866675],\n",
       "       [0.25808253, 0.74191747],\n",
       "       [0.77246797, 0.22753203],\n",
       "       [0.66162999, 0.33837001],\n",
       "       [0.66162999, 0.33837001],\n",
       "       [0.81862833, 0.18137167],\n",
       "       [0.66162999, 0.33837001],\n",
       "       [0.73991718, 0.26008282],\n",
       "       [0.31410517, 0.68589483],\n",
       "       [0.870986  , 0.129014  ],\n",
       "       [0.66162999, 0.33837001],\n",
       "       [0.88059594, 0.11940406],\n",
       "       [0.8774634 , 0.1225366 ],\n",
       "       [0.66162999, 0.33837001],\n",
       "       [0.66162999, 0.33837001],\n",
       "       [0.66162999, 0.33837001],\n",
       "       [0.66162999, 0.33837001],\n",
       "       [0.13116863, 0.86883137],\n",
       "       [0.870986  , 0.129014  ],\n",
       "       [0.8774634 , 0.1225366 ],\n",
       "       [0.49133325, 0.50866675],\n",
       "       [0.84211147, 0.15788853],\n",
       "       [0.85227839, 0.14772161],\n",
       "       [0.49869744, 0.50130256],\n",
       "       [0.85954358, 0.14045642],\n",
       "       [0.66162999, 0.33837001],\n",
       "       [0.89338056, 0.10661944],\n",
       "       [0.76724849, 0.23275151],\n",
       "       [0.82721295, 0.17278705],\n",
       "       [0.66162999, 0.33837001],\n",
       "       [0.66162999, 0.33837001],\n",
       "       [0.66162999, 0.33837001],\n",
       "       [0.66162999, 0.33837001],\n",
       "       [0.82296148, 0.17703852],\n",
       "       [0.84080141, 0.15919859],\n",
       "       [0.02686918, 0.97313082],\n",
       "       [0.66162999, 0.33837001],\n",
       "       [0.76724849, 0.23275151],\n",
       "       [0.30779319, 0.69220681],\n",
       "       [0.01479758, 0.98520242],\n",
       "       [0.66162999, 0.33837001],\n",
       "       [0.1713027 , 0.8286973 ],\n",
       "       [0.66162999, 0.33837001],\n",
       "       [0.66162999, 0.33837001],\n",
       "       [0.66162999, 0.33837001],\n",
       "       [0.66162999, 0.33837001],\n",
       "       [0.89244156, 0.10755844],\n",
       "       [0.56703201, 0.43296799],\n",
       "       [0.76724849, 0.23275151],\n",
       "       [0.90409598, 0.09590402],\n",
       "       [0.78926494, 0.21073506],\n",
       "       [0.66162999, 0.33837001],\n",
       "       [0.66162999, 0.33837001],\n",
       "       [0.89886415, 0.10113585],\n",
       "       [0.06558146, 0.93441854],\n",
       "       [0.66162999, 0.33837001],\n",
       "       [0.66162999, 0.33837001],\n",
       "       [0.8774634 , 0.1225366 ],\n",
       "       [0.85954358, 0.14045642],\n",
       "       [0.66162999, 0.33837001],\n",
       "       [0.76724849, 0.23275151],\n",
       "       [0.75109458, 0.24890542],\n",
       "       [0.66162999, 0.33837001],\n",
       "       [0.66162999, 0.33837001],\n",
       "       [0.87426041, 0.12573959],\n",
       "       [0.66162999, 0.33837001],\n",
       "       [0.0385541 , 0.9614459 ],\n",
       "       [0.66162999, 0.33837001],\n",
       "       [0.66162999, 0.33837001]])"
      ]
     },
     "execution_count": 74,
     "metadata": {
      "tags": []
     },
     "output_type": "execute_result"
    }
   ],
   "source": [
    "y_test_proba"
   ]
  },
  {
   "cell_type": "markdown",
   "metadata": {
    "id": "kCaBGUNirRXl"
   },
   "source": [
    "### The output from predict is the values of 0 or 1 while the output of predict_prob has two columns: the first column is the probability of predicting 0, the second column is the probability of predicting 1.\n",
    "### In this case, we should care about the second column, probability of 1."
   ]
  },
  {
   "cell_type": "markdown",
   "metadata": {
    "id": "AyQzjpaVrRXl"
   },
   "source": [
    "<font color='red'>Question:</font> What is the range of the values in **y_train_proba** and **y_test_proba**? What do the values mean?"
   ]
  },
  {
   "cell_type": "code",
   "execution_count": null,
   "metadata": {
    "ExecuteTime": {
     "end_time": "2021-06-12T14:18:59.827007Z",
     "start_time": "2021-06-12T14:18:59.823002Z"
    },
    "id": "4n8m_NrJrRXm",
    "outputId": "712f74be-d1e9-4980-a422-41d010fa569e"
   },
   "outputs": [
    {
     "name": "stdout",
     "output_type": "stream",
     "text": [
      "The range of y_train_proba is: ( 0.0009317947071890709 , 0.9990682052928109 )\n"
     ]
    }
   ],
   "source": [
    "import numpy as np\n",
    "\n",
    "print('The range of y_train_proba is: (', np.min(y_train_proba), ',', np.max(y_train_proba), ')')"
   ]
  },
  {
   "cell_type": "code",
   "execution_count": null,
   "metadata": {
    "ExecuteTime": {
     "end_time": "2021-06-12T14:19:00.056007Z",
     "start_time": "2021-06-12T14:19:00.052007Z"
    },
    "id": "ob9H-nDmrRXm",
    "outputId": "371053eb-72c7-454c-fc64-47d800d1d93b"
   },
   "outputs": [
    {
     "name": "stdout",
     "output_type": "stream",
     "text": [
      "The range of y_train_proba is: ( 0.09337985566062995 , 0.9990682052928109 )\n"
     ]
    }
   ],
   "source": [
    "# correct way\n",
    "print('The range of y_train_proba is: (', np.min(y_train_proba[:,1]), ',', np.max(y_train_proba[:,1]), ')')"
   ]
  },
  {
   "cell_type": "code",
   "execution_count": null,
   "metadata": {
    "ExecuteTime": {
     "end_time": "2021-06-12T14:19:00.286009Z",
     "start_time": "2021-06-12T14:19:00.282011Z"
    },
    "id": "znxXaXSkrRXm",
    "outputId": "65b02027-ec48-4266-e32a-e7f223d09e6f"
   },
   "outputs": [
    {
     "name": "stdout",
     "output_type": "stream",
     "text": [
      "The range of y_test_proba is: ( 0.004339213460594404 , 0.9956607865394056 )\n"
     ]
    }
   ],
   "source": [
    "print('The range of y_test_proba is: (', np.min(y_test_proba), ',', np.max(y_test_proba), ')')"
   ]
  },
  {
   "cell_type": "code",
   "execution_count": null,
   "metadata": {
    "ExecuteTime": {
     "end_time": "2021-06-12T14:19:01.569840Z",
     "start_time": "2021-06-12T14:19:01.565834Z"
    },
    "id": "WBuOl6borRXm",
    "outputId": "4f54065b-a31f-457f-c8b0-e20d063448e5"
   },
   "outputs": [
    {
     "name": "stdout",
     "output_type": "stream",
     "text": [
      "The range of y_train_proba is: ( 0.09337985566062995 , 0.9956607865394056 )\n"
     ]
    }
   ],
   "source": [
    "# correct way\n",
    "print('The range of y_train_proba is: (', np.min(y_test_proba[:,1]), ',', np.max(y_test_proba[:,1]), ')')"
   ]
  },
  {
   "cell_type": "markdown",
   "metadata": {
    "id": "k7sOwLtfrRXn"
   },
   "source": [
    "## 2.2 Threshold"
   ]
  },
  {
   "cell_type": "markdown",
   "metadata": {
    "id": "17vUgOefrRXn"
   },
   "source": [
    "<font color='red'>Assignment:</font> Plot **y_test_proba** versus **cost** and compare it with the plot of **y_test** versus **cost**."
   ]
  },
  {
   "cell_type": "code",
   "execution_count": null,
   "metadata": {
    "ExecuteTime": {
     "end_time": "2021-06-12T14:19:02.689835Z",
     "start_time": "2021-06-12T14:19:02.685861Z"
    },
    "id": "3dyYsPTdrRXn"
   },
   "outputs": [],
   "source": [
    "import matplotlib.pylab as plt\n",
    "%matplotlib inline"
   ]
  },
  {
   "cell_type": "code",
   "execution_count": null,
   "metadata": {
    "ExecuteTime": {
     "end_time": "2021-06-12T14:19:03.096345Z",
     "start_time": "2021-06-12T14:19:03.094345Z"
    },
    "id": "MjqnPuBBrRXn"
   },
   "outputs": [],
   "source": [
    "costtrans = Cost_Transformer()"
   ]
  },
  {
   "cell_type": "code",
   "execution_count": null,
   "metadata": {
    "ExecuteTime": {
     "end_time": "2021-06-12T14:19:03.485407Z",
     "start_time": "2021-06-12T14:19:03.479406Z"
    },
    "id": "dFOlIa66rRXn"
   },
   "outputs": [],
   "source": [
    "cost = costtrans.fit_transform(test_raw)"
   ]
  },
  {
   "cell_type": "code",
   "execution_count": null,
   "metadata": {
    "ExecuteTime": {
     "end_time": "2021-06-12T14:19:04.194954Z",
     "start_time": "2021-06-12T14:19:04.062938Z"
    },
    "id": "pWo_2dynrRXn",
    "outputId": "dee666d5-ccea-4e32-cb34-8fe6e3a98990"
   },
   "outputs": [
    {
     "data": {
      "text/plain": [
       "<matplotlib.collections.PathCollection at 0x279be8ff488>"
      ]
     },
     "execution_count": 82,
     "metadata": {
      "tags": []
     },
     "output_type": "execute_result"
    },
    {
     "data": {
      "image/png": "[encoded data removed]",
      "text/plain": [
       "<Figure size 432x288 with 1 Axes>"
      ]
     },
     "metadata": {
      "needs_background": "light",
      "tags": []
     },
     "output_type": "display_data"
    }
   ],
   "source": [
    "plt.scatter(cost, y_test)\n",
    "plt.scatter(cost, y_test_proba[:, 1])"
   ]
  },
  {
   "cell_type": "markdown",
   "metadata": {
    "id": "Dne0kOIgrRXn"
   },
   "source": [
    "<font color='red'>Assignment:</font> Calculate **y_test_pred** using **predict** function. Plot **y_test_proba** versus **cost** and compare it with the plot of **y_test_pred** versus **cost**."
   ]
  },
  {
   "cell_type": "code",
   "execution_count": null,
   "metadata": {
    "ExecuteTime": {
     "end_time": "2021-06-12T14:19:04.586064Z",
     "start_time": "2021-06-12T14:19:04.420028Z"
    },
    "id": "xsF-74XQrRXn",
    "outputId": "d40384bd-de30-4c2f-f78c-bd8ebabd8d07"
   },
   "outputs": [
    {
     "data": {
      "text/plain": [
       "<matplotlib.collections.PathCollection at 0x279be977a48>"
      ]
     },
     "execution_count": 83,
     "metadata": {
      "tags": []
     },
     "output_type": "execute_result"
    },
    {
     "data": {
      "image/png": "[encoded data removed]",
      "text/plain": [
       "<Figure size 432x288 with 1 Axes>"
      ]
     },
     "metadata": {
      "needs_background": "light",
      "tags": []
     },
     "output_type": "display_data"
    }
   ],
   "source": [
    "plt.scatter(cost, y_test_pred)\n",
    "plt.scatter(cost, y_test_proba[:, 1])"
   ]
  },
  {
   "cell_type": "markdown",
   "metadata": {
    "id": "mVOpvujhrRXn"
   },
   "source": [
    "<font color='red'>Question:</font> How can we transform **y_test_proba** to **y_test_pred**? What is the default threshold?"
   ]
  },
  {
   "cell_type": "markdown",
   "metadata": {
    "id": "PG-cOrK8rRXn"
   },
   "source": [
    "### If the proba value is larger than certain threshold, we set pred to be 1, otherwise 0. The default threshold is 0.5"
   ]
  },
  {
   "cell_type": "markdown",
   "metadata": {
    "id": "-jLgo_DCrRXn"
   },
   "source": [
    "<font color='red'>Assignment:</font> Change the threshold value applied in the transformation from **y_test_proba** to **y_test_pred**, and visualize how the threshold value changes **precision**, **recall**, and **f1 score**. "
   ]
  },
  {
   "cell_type": "code",
   "execution_count": null,
   "metadata": {
    "ExecuteTime": {
     "end_time": "2021-06-12T14:19:05.776752Z",
     "start_time": "2021-06-12T14:19:05.774752Z"
    },
    "id": "Fymb1eS9rRXo"
   },
   "outputs": [],
   "source": [
    "# y_test_pred_new = (y_test_proba[:, 1] >= 0.6).astype(int)"
   ]
  },
  {
   "cell_type": "code",
   "execution_count": null,
   "metadata": {
    "ExecuteTime": {
     "end_time": "2021-06-12T14:19:06.025902Z",
     "start_time": "2021-06-12T14:19:06.022903Z"
    },
    "id": "IYseCXk1rRXo"
   },
   "outputs": [],
   "source": [
    "# plt.scatter(cost, y_test_pred_new)"
   ]
  },
  {
   "cell_type": "code",
   "execution_count": null,
   "metadata": {
    "ExecuteTime": {
     "end_time": "2021-06-12T14:19:06.258584Z",
     "start_time": "2021-06-12T14:19:06.255620Z"
    },
    "id": "SAVEY3ZgrRXo"
   },
   "outputs": [],
   "source": [
    "# thresh = [0.1*i for i in range(0, 11)]"
   ]
  },
  {
   "cell_type": "code",
   "execution_count": null,
   "metadata": {
    "ExecuteTime": {
     "end_time": "2021-06-12T14:19:06.509599Z",
     "start_time": "2021-06-12T14:19:06.506589Z"
    },
    "id": "uAKYeVyKrRXo"
   },
   "outputs": [],
   "source": [
    "# from sklearn.metrics import precision_recall_fscore_support\n",
    "\n",
    "# precision = []\n",
    "# recall = []\n",
    "# f1 = []\n",
    "# for i in thresh:\n",
    "#     y_test_pred_i = (y_test_proba[:, 1] >= i).astype(int)\n",
    "#     result = precision_recall_fscore_support(y_test, y_test_pred_i, average='weighted')\n",
    "#     precision.append(result[0])\n",
    "#     recall.append(result[1])\n",
    "#     f1.append(result[2])"
   ]
  },
  {
   "cell_type": "code",
   "execution_count": null,
   "metadata": {
    "ExecuteTime": {
     "end_time": "2021-06-12T14:19:06.831659Z",
     "start_time": "2021-06-12T14:19:06.829658Z"
    },
    "id": "MItTwsv1rRXo"
   },
   "outputs": [],
   "source": [
    "# plt.scatter(thresh, precision)"
   ]
  },
  {
   "cell_type": "code",
   "execution_count": null,
   "metadata": {
    "ExecuteTime": {
     "end_time": "2021-06-12T14:19:07.087759Z",
     "start_time": "2021-06-12T14:19:07.084752Z"
    },
    "id": "rHZ82ki9rRXo"
   },
   "outputs": [],
   "source": [
    "# plt.scatter(thresh, recall)"
   ]
  },
  {
   "cell_type": "code",
   "execution_count": null,
   "metadata": {
    "ExecuteTime": {
     "end_time": "2021-06-12T14:19:07.384757Z",
     "start_time": "2021-06-12T14:19:07.382755Z"
    },
    "id": "tFcRSE62rRXo"
   },
   "outputs": [],
   "source": [
    "# plt.scatter(thresh, f1)"
   ]
  },
  {
   "cell_type": "code",
   "execution_count": null,
   "metadata": {
    "ExecuteTime": {
     "end_time": "2021-06-12T14:20:21.648528Z",
     "start_time": "2021-06-12T14:20:21.502532Z"
    },
    "id": "q4JvfU-ArRXo",
    "outputId": "e7d83c7b-7e33-4f0a-af66-261e08b66984"
   },
   "outputs": [
    {
     "name": "stderr",
     "output_type": "stream",
     "text": [
      "C:\\Users\\logos\\Anaconda3\\lib\\site-packages\\sklearn\\metrics\\_classification.py:1221: UndefinedMetricWarning: Precision is ill-defined and being set to 0.0 due to no predicted samples. Use `zero_division` parameter to control this behavior.\n",
      "  _warn_prf(average, modifier, msg_start, len(result))\n"
     ]
    },
    {
     "data": {
      "image/png": "[encoded data removed]",
      "text/plain": [
       "<Figure size 432x288 with 1 Axes>"
      ]
     },
     "metadata": {
      "needs_background": "light",
      "tags": []
     },
     "output_type": "display_data"
    }
   ],
   "source": [
    "# Plot metrics scores v.s. threshold\n",
    "from sklearn.metrics import precision_score, recall_score, f1_score\n",
    "\n",
    "thresholds = np.linspace(0, 1, 10)\n",
    "precisions = []\n",
    "recalls = []\n",
    "f1s = []\n",
    "ave = \"binary\"\n",
    "\n",
    "for cut in thresholds:\n",
    "    y_test_predic = (y_test_proba[:, 1] > cut).astype(int)\n",
    "    precisions.append(precision_score(y_test, y_test_predic, average=ave))\n",
    "    recalls.append(recall_score(y_test, y_test_predic, average=ave))\n",
    "    f1s.append(f1_score(y_test, y_test_predic, average=ave))\n",
    "\n",
    "plt.plot(thresholds, precisions, color=\"red\", label=\"precision\")\n",
    "plt.plot(thresholds, recalls, color=\"blue\", label=\"recall\")\n",
    "plt.plot(thresholds, f1s, color=\"black\", label=\"f1\")\n",
    "plt.xlabel(\"Threshold\")\n",
    "plt.ylabel(\"Score\")\n",
    "plt.legend(loc=\"best\")\n",
    "plt.show()"
   ]
  },
  {
   "cell_type": "markdown",
   "metadata": {
    "id": "1HC8q67urRXo"
   },
   "source": [
    "<font color='red'>Question:</font> What threshold value would you like to choose? How do we decide which threshold to choose? Could you provide some examples?"
   ]
  },
  {
   "cell_type": "markdown",
   "metadata": {
    "id": "O-rg9gperRXo"
   },
   "source": [
    "### <font color = 'blue'> I would choose 0.3. It's the optimal choice based on all three scores. </font>"
   ]
  },
  {
   "cell_type": "markdown",
   "metadata": {
    "id": "k4zrXPp8rRXo"
   },
   "source": [
    "<font color='red'>Question:</font> Is the threshold a hyper parameter? What kind of dataset should we use to find the threshold?"
   ]
  },
  {
   "cell_type": "markdown",
   "metadata": {
    "id": "vyUjzA04rRXp"
   },
   "source": [
    "### The threshold is not a hyper parament. It does not change the result of the prediction. It only changes how to define yes or no. \n",
    "### <font color = 'blue'> What datasets? </font> Train data"
   ]
  },
  {
   "cell_type": "markdown",
   "metadata": {
    "id": "F5IIswfZrRXp"
   },
   "source": [
    "## 2.3 ROC AUC"
   ]
  },
  {
   "cell_type": "markdown",
   "metadata": {
    "id": "VC19HpNnrRXp"
   },
   "source": [
    "<font color='red'>Assignment:</font> Calculate the train and test **roc_auc_score**s. "
   ]
  },
  {
   "cell_type": "code",
   "execution_count": null,
   "metadata": {
    "ExecuteTime": {
     "end_time": "2021-06-11T18:57:55.113728Z",
     "start_time": "2021-06-11T18:57:55.106745Z"
    },
    "id": "dg679S52rRXp",
    "outputId": "9c8eb61a-742f-4762-e7e0-da3a16736bba"
   },
   "outputs": [
    {
     "data": {
      "text/plain": [
       "0.8540709119789114"
      ]
     },
     "execution_count": 36,
     "metadata": {
      "tags": []
     },
     "output_type": "execute_result"
    }
   ],
   "source": [
    "from sklearn.metrics import roc_auc_score\n",
    "\n",
    "roc_auc_score(y_train, y_train_proba[:, 1])"
   ]
  },
  {
   "cell_type": "code",
   "execution_count": null,
   "metadata": {
    "ExecuteTime": {
     "end_time": "2021-06-11T18:57:55.731765Z",
     "start_time": "2021-06-11T18:57:55.725765Z"
    },
    "id": "nNCbdS4PrRXp",
    "outputId": "4ffb5a09-e75a-4395-8a58-360f53839d12"
   },
   "outputs": [
    {
     "data": {
      "text/plain": [
       "0.8788454989215575"
      ]
     },
     "execution_count": 37,
     "metadata": {
      "tags": []
     },
     "output_type": "execute_result"
    }
   ],
   "source": [
    "roc_auc_score(y_test, y_test_proba[:, 1])"
   ]
  },
  {
   "cell_type": "markdown",
   "metadata": {
    "id": "7GWq8i58rRXp"
   },
   "source": [
    "<font color='red'>Question:</font> What do **ROC** and **AUC** stand for? "
   ]
  },
  {
   "cell_type": "markdown",
   "metadata": {
    "id": "l5wIkZTIrRXp"
   },
   "source": [
    "### ROC stands for Receiver Operating Characteristics and AUC stands Area Under Curve."
   ]
  },
  {
   "cell_type": "markdown",
   "metadata": {
    "id": "4LFUU20krRXp"
   },
   "source": [
    "<font color='red'>Assignment:</font> Plot the ROC curve of test scores, use the **roc_curve** module in sklearn to obtain relevant data. "
   ]
  },
  {
   "cell_type": "code",
   "execution_count": null,
   "metadata": {
    "ExecuteTime": {
     "end_time": "2021-06-11T18:58:07.426553Z",
     "start_time": "2021-06-11T18:58:07.421579Z"
    },
    "id": "-pLsfNXZrRXp"
   },
   "outputs": [],
   "source": [
    "from sklearn import metrics\n",
    "\n",
    "fpr, tpr, threshold = metrics.roc_curve(y_test, y_test_proba[:, 1])"
   ]
  },
  {
   "cell_type": "code",
   "execution_count": null,
   "metadata": {
    "ExecuteTime": {
     "end_time": "2021-06-11T18:58:07.887961Z",
     "start_time": "2021-06-11T18:58:07.772976Z"
    },
    "id": "fwV420qrrRXq",
    "outputId": "db0c274b-941c-4a7d-86e0-3a72bcc76003"
   },
   "outputs": [
    {
     "data": {
      "text/plain": [
       "[<matplotlib.lines.Line2D at 0x279be5487c8>]"
      ]
     },
     "execution_count": 39,
     "metadata": {
      "tags": []
     },
     "output_type": "execute_result"
    },
    {
     "data": {
      "image/png": "[encoded data removed]",
      "text/plain": [
       "<Figure size 432x288 with 1 Axes>"
      ]
     },
     "metadata": {
      "needs_background": "light",
      "tags": []
     },
     "output_type": "display_data"
    }
   ],
   "source": [
    "plt.plot(fpr,tpr)"
   ]
  },
  {
   "cell_type": "markdown",
   "metadata": {
    "id": "cTyElmKtrRXq"
   },
   "source": [
    "#### <font color='red'>Note:</font> find the best threshold: top left point"
   ]
  },
  {
   "cell_type": "markdown",
   "metadata": {
    "id": "Gg3AMrA5rRXq"
   },
   "source": [
    "<font color='red'>Question:</font> What are the x and y axes? "
   ]
  },
  {
   "cell_type": "markdown",
   "metadata": {
    "id": "J_Irad16rRXq"
   },
   "source": [
    "### The x axes is the false positive rate (recall or sensitivity) and the y axes is the true positive rate."
   ]
  },
  {
   "cell_type": "markdown",
   "metadata": {
    "id": "cgYo_ppQrRXq"
   },
   "source": [
    "<font color='red'>Question:</font> What is the range of **roc_auc_score**? What does it mean when **roc_auc_score** is greater than, equal to, or less than 0.5?"
   ]
  },
  {
   "cell_type": "markdown",
   "metadata": {
    "id": "9og_6Z3trRXq"
   },
   "source": [
    "### The range is between 0 and 1. \n",
    "### When the score is 0, it means the classifier is perfectly incorrect, it is predicting the incorrect choice 100% of the time. If the score is 1, it means the classifier is perfectly correct. If the score is 0.5, it means the predictor makes random guesses."
   ]
  },
  {
   "cell_type": "markdown",
   "metadata": {
    "id": "_2ks7X1SrRXq"
   },
   "source": [
    "## 2.4 Log Loss"
   ]
  },
  {
   "cell_type": "markdown",
   "metadata": {
    "id": "Y42XV4cJrRXq"
   },
   "source": [
    "**Knowledge:** The loss function for logistic regression is called **log loss** or **cross entropy**."
   ]
  },
  {
   "cell_type": "markdown",
   "metadata": {
    "id": "7TqXS2jUrRXq"
   },
   "source": [
    "### Binary classification\n",
    "y is the target, p is the probability of the positive class\n",
    "![image.png](attachment:image.png)"
   ]
  },
  {
   "cell_type": "markdown",
   "metadata": {
    "id": "LQsrxhm-rRXq"
   },
   "source": [
    "<font color='red'>Assignment:</font> Calculate the train and test log loss."
   ]
  },
  {
   "cell_type": "code",
   "execution_count": 1,
   "metadata": {
    "ExecuteTime": {
     "end_time": "2021-06-11T18:58:54.595936Z",
     "start_time": "2021-06-11T18:58:54.588934Z"
    },
    "colab": {
     "base_uri": "https://localhost:8080/",
     "height": 201
    },
    "executionInfo": {
     "elapsed": 668,
     "status": "error",
     "timestamp": 1642556987266,
     "user": {
      "displayName": "ruixuan han",
      "photoUrl": "https://lh3.googleusercontent.com/a-/AOh14GhBX5IWvyMy_4swEdbKIRckIdzgzct44P17cte31aA=s64",
      "userId": "18183294241759953446"
     },
     "user_tz": 360
    },
    "id": "UeSpm-XYrRXr",
    "outputId": "6cc9041b-59df-4579-d1ff-a2798d072f75"
   },
   "outputs": [
    {
     "ename": "NameError",
     "evalue": "ignored",
     "output_type": "error",
     "traceback": [
      "\u001b[0;31m---------------------------------------------------------------------------\u001b[0m",
      "\u001b[0;31mNameError\u001b[0m                                 Traceback (most recent call last)",
      "\u001b[0;32m<ipython-input-1-41af7c13060d>\u001b[0m in \u001b[0;36m<module>\u001b[0;34m()\u001b[0m\n\u001b[1;32m      1\u001b[0m \u001b[0;32mfrom\u001b[0m \u001b[0msklearn\u001b[0m\u001b[0;34m.\u001b[0m\u001b[0mmetrics\u001b[0m \u001b[0;32mimport\u001b[0m \u001b[0mlog_loss\u001b[0m\u001b[0;34m\u001b[0m\u001b[0;34m\u001b[0m\u001b[0m\n\u001b[1;32m      2\u001b[0m \u001b[0;34m\u001b[0m\u001b[0m\n\u001b[0;32m----> 3\u001b[0;31m \u001b[0mlog_loss\u001b[0m\u001b[0;34m(\u001b[0m\u001b[0my_train\u001b[0m\u001b[0;34m,\u001b[0m \u001b[0my_train_proba\u001b[0m\u001b[0;34m)\u001b[0m\u001b[0;34m\u001b[0m\u001b[0;34m\u001b[0m\u001b[0m\n\u001b[0m",
      "\u001b[0;31mNameError\u001b[0m: name 'y_train' is not defined"
     ]
    }
   ],
   "source": [
    "from sklearn.metrics import log_loss\n",
    "\n",
    "log_loss(y_train, y_train_proba)"
   ]
  },
  {
   "cell_type": "code",
   "execution_count": null,
   "metadata": {
    "ExecuteTime": {
     "end_time": "2021-06-11T18:58:55.690750Z",
     "start_time": "2021-06-11T18:58:55.684750Z"
    },
    "executionInfo": {
     "elapsed": 5,
     "status": "aborted",
     "timestamp": 1642556987264,
     "user": {
      "displayName": "ruixuan han",
      "photoUrl": "https://lh3.googleusercontent.com/a-/AOh14GhBX5IWvyMy_4swEdbKIRckIdzgzct44P17cte31aA=s64",
      "userId": "18183294241759953446"
     },
     "user_tz": 360
    },
    "id": "xgH8thlyrRXr"
   },
   "outputs": [],
   "source": [
    "log_loss(y_test, y_test_proba)"
   ]
  },
  {
   "cell_type": "markdown",
   "metadata": {
    "id": "mkdHvzKzrRXr"
   },
   "source": [
    "<font color='red'>Question:</font> Which of these following terms are sensitive to base rates: **log loss**, **ROC AUC**, and **threshold**?"
   ]
  },
  {
   "cell_type": "markdown",
   "metadata": {
    "id": "jweAOntzrRXr"
   },
   "source": [
    "### <font color = 'blue'> ROC AUC (wrong!) and threshold are sensitive to base rate. </font>\n",
    "\n",
    "### log loss (contribution/penalty from the minority class is low, thus need to balance class_weight) and threshold"
   ]
  },
  {
   "cell_type": "markdown",
   "metadata": {
    "id": "GIZW4kmDrRXr"
   },
   "source": [
    "<font color='red'>Question:</font> If you are assigned to build a classification model to help increasing the response rate in direct mail marketing, what will be the target for you model? Which metrics will you use to evaluate the performance of your model?"
   ]
  },
  {
   "cell_type": "markdown",
   "metadata": {
    "id": "cL-7tk5crRXr"
   },
   "source": [
    "### Target: The probability of whether or not the customer will respond.\n",
    "### <font color = 'blue'> I will use ROC AUC. </font>"
   ]
  },
  {
   "cell_type": "markdown",
   "metadata": {
    "id": "ag-UMgoprRXr"
   },
   "source": [
    "![image-2.png](attachment:image-2.png)"
   ]
  },
  {
   "cell_type": "markdown",
   "metadata": {
    "id": "95QGNNAFrRXr"
   },
   "source": [
    "# 3. Correlation between features and target"
   ]
  },
  {
   "cell_type": "markdown",
   "metadata": {
    "id": "vqpA6Bx1rRXs"
   },
   "source": [
    "<font color='red'>Assignment:</font> Plot the distributions of **cost** values for positive and negative **luxury** items, respectively, in one figure. Use the data in the training set."
   ]
  },
  {
   "cell_type": "code",
   "execution_count": null,
   "metadata": {
    "ExecuteTime": {
     "end_time": "2021-06-11T19:02:33.809659Z",
     "start_time": "2021-06-11T19:02:33.806654Z"
    },
    "id": "_cTGz0fsrRXs"
   },
   "outputs": [],
   "source": [
    "# costtrans = Cost_Transformer()"
   ]
  },
  {
   "cell_type": "code",
   "execution_count": null,
   "metadata": {
    "ExecuteTime": {
     "end_time": "2021-06-11T19:02:43.167816Z",
     "start_time": "2021-06-11T19:02:43.164813Z"
    },
    "id": "tjFuJN7DrRXs"
   },
   "outputs": [],
   "source": [
    "# cost = costtrans.fit_transform(train_raw)"
   ]
  },
  {
   "cell_type": "code",
   "execution_count": null,
   "metadata": {
    "ExecuteTime": {
     "end_time": "2021-06-11T19:02:45.730206Z",
     "start_time": "2021-06-11T19:02:45.727191Z"
    },
    "id": "ltOeb0SJrRXs"
   },
   "outputs": [],
   "source": [
    "# ind_1 = np.where(y_train == 1)"
   ]
  },
  {
   "cell_type": "code",
   "execution_count": null,
   "metadata": {
    "ExecuteTime": {
     "end_time": "2021-06-11T19:02:47.984318Z",
     "start_time": "2021-06-11T19:02:47.981311Z"
    },
    "id": "NWLYsoG1rRXs"
   },
   "outputs": [],
   "source": [
    "# ind_0 = np.where(y_train == 0)"
   ]
  },
  {
   "cell_type": "code",
   "execution_count": null,
   "metadata": {
    "ExecuteTime": {
     "end_time": "2021-06-11T19:02:54.577918Z",
     "start_time": "2021-06-11T19:02:54.574924Z"
    },
    "id": "rL_FM6vYrRXs"
   },
   "outputs": [],
   "source": [
    "# plt.scatter(np.ones(len(ind_1[0])), [cost.values[i] for i in ind_1])\n",
    "# plt.scatter(np.zeros(len(ind_0[0])), [cost.values[i] for i in ind_0])"
   ]
  },
  {
   "cell_type": "code",
   "execution_count": null,
   "metadata": {
    "ExecuteTime": {
     "end_time": "2021-06-11T19:03:03.627669Z",
     "start_time": "2021-06-11T19:03:03.616668Z"
    },
    "id": "xt1KcHO3rRXs"
   },
   "outputs": [],
   "source": [
    "# Plot cost distribution\n",
    "\n",
    "data = {\n",
    "    \"cost\": model[0].transform(X_train)[\"cost\"],\n",
    "    \"luxury\": train_raw[\"price\"].map(lambda x: 1 if float(x.strip(\"$\").replace(\",\", \"\")) > 500000 else 0)\n",
    "}\n",
    "cost_by_lux = pd.DataFrame(data).groupby(\"luxury\")"
   ]
  },
  {
   "cell_type": "code",
   "execution_count": null,
   "metadata": {
    "ExecuteTime": {
     "end_time": "2021-06-11T19:03:04.851328Z",
     "start_time": "2021-06-11T19:03:04.120852Z"
    },
    "id": "XjdkJOf9rRXs",
    "outputId": "b5bab5eb-b96d-4411-eeb5-a572fa135f67"
   },
   "outputs": [
    {
     "data": {
      "image/png": "[encoded data removed]",
      "text/plain": [
       "<Figure size 432x288 with 1 Axes>"
      ]
     },
     "metadata": {
      "needs_background": "light",
      "tags": []
     },
     "output_type": "display_data"
    }
   ],
   "source": [
    "len_0 = len(cost_by_lux.get_group(0))\n",
    "len_1 = len(cost_by_lux.get_group(1))\n",
    "n_bins_0 = 1 + int(np.log2(len_0))\n",
    "n_bins_1= 1 + int(np.log2(len_1))\n",
    "\n",
    "plt.hist(cost_by_lux.get_group(0)[\"cost\"], log=True, label=\"Not luxury\", bins=n_bins_0)\n",
    "plt.hist(cost_by_lux.get_group(1)[\"cost\"], log=True, label=\"Luxury\", bins=n_bins_1)\n",
    "plt.xlabel(\"Cost\")\n",
    "plt.ylabel(\"Frequency\")\n",
    "plt.title(\"Log Distribution of Cost\")\n",
    "plt.legend(loc=\"best\")\n",
    "plt.show()"
   ]
  },
  {
   "cell_type": "markdown",
   "metadata": {
    "id": "vZwY1K3_rRXt"
   },
   "source": [
    "#### <font color='red'>Note:</font> luxury defined by price, not cost"
   ]
  },
  {
   "cell_type": "markdown",
   "metadata": {
    "id": "qR3vzyrsrRXt"
   },
   "source": [
    "<font color='red'>Question:</font> From the above figure, can you tell how good **cost** is a predictor for luxury?"
   ]
  },
  {
   "cell_type": "markdown",
   "metadata": {
    "id": "2d1e4ktFrRXt"
   },
   "source": [
    "### <font color = 'blue'> It looks like cost is not a great predictor for luxury. It does well with true negative predictions, but it is not as great in predicting true positive. ???</font>"
   ]
  },
  {
   "cell_type": "markdown",
   "metadata": {
    "id": "n7aMBrgArRXt"
   },
   "source": [
    "### As the cost ditribution of non-luxury samples is skewed to low cost, while cost of luxury samples is centered at medium cost. These two classes are decently seperated by cost, thus cost is a good predictor for luxury."
   ]
  },
  {
   "cell_type": "markdown",
   "metadata": {
    "id": "rFmbVJv5rRXt"
   },
   "source": [
    "#### <font color='red'>Note:</font> this is a very good analysis for classification problems, to check if a feature is a good indicator or not"
   ]
  },
  {
   "cell_type": "markdown",
   "metadata": {
    "id": "klb_eyTrrRXt"
   },
   "source": [
    "**Example:** Mannualy calculate the ROC AUC score of cost predictor. We can use this method to estimate the importance of a feature, before we use it in a model."
   ]
  },
  {
   "cell_type": "code",
   "execution_count": null,
   "metadata": {
    "ExecuteTime": {
     "end_time": "2021-06-11T19:06:49.051595Z",
     "start_time": "2021-06-11T19:06:49.035617Z"
    },
    "id": "2ViCWHofrRXt",
    "outputId": "f737c6c6-b17a-4fd9-c3f8-eecad731504e"
   },
   "outputs": [
    {
     "data": {
      "text/html": [
       "<div>\n",
       "<style scoped>\n",
       "    .dataframe tbody tr th:only-of-type {\n",
       "        vertical-align: middle;\n",
       "    }\n",
       "\n",
       "    .dataframe tbody tr th {\n",
       "        vertical-align: top;\n",
       "    }\n",
       "\n",
       "    .dataframe thead th {\n",
       "        text-align: right;\n",
       "    }\n",
       "</style>\n",
       "<table border=\"1\" class=\"dataframe\">\n",
       "  <thead>\n",
       "    <tr style=\"text-align: right;\">\n",
       "      <th></th>\n",
       "      <th>cost</th>\n",
       "      <th>price</th>\n",
       "    </tr>\n",
       "  </thead>\n",
       "  <tbody>\n",
       "    <tr>\n",
       "      <th>0</th>\n",
       "      <td>333000.000000</td>\n",
       "      <td>0</td>\n",
       "    </tr>\n",
       "    <tr>\n",
       "      <th>1</th>\n",
       "      <td>166184.183143</td>\n",
       "      <td>0</td>\n",
       "    </tr>\n",
       "    <tr>\n",
       "      <th>2</th>\n",
       "      <td>270000.000000</td>\n",
       "      <td>0</td>\n",
       "    </tr>\n",
       "    <tr>\n",
       "      <th>4</th>\n",
       "      <td>97000.000000</td>\n",
       "      <td>0</td>\n",
       "    </tr>\n",
       "    <tr>\n",
       "      <th>5</th>\n",
       "      <td>59000.000000</td>\n",
       "      <td>0</td>\n",
       "    </tr>\n",
       "  </tbody>\n",
       "</table>\n",
       "</div>"
      ],
      "text/plain": [
       "            cost  price\n",
       "0  333000.000000      0\n",
       "1  166184.183143      0\n",
       "2  270000.000000      0\n",
       "4   97000.000000      0\n",
       "5   59000.000000      0"
      ]
     },
     "execution_count": 49,
     "metadata": {
      "tags": []
     },
     "output_type": "execute_result"
    }
   ],
   "source": [
    "# preparation\n",
    "train = Cost_Transformer().fit_transform(train_raw)\n",
    "train['price'] = y_train\n",
    "train.head()"
   ]
  },
  {
   "cell_type": "code",
   "execution_count": null,
   "metadata": {
    "ExecuteTime": {
     "end_time": "2021-06-11T19:06:54.110493Z",
     "start_time": "2021-06-11T19:06:54.103502Z"
    },
    "id": "conv_v38rRXt"
   },
   "outputs": [],
   "source": [
    "# number of positive data points\n",
    "num_pos = sum(train.price)\n",
    "# number of negative data points\n",
    "num_neg = len(train) - num_pos\n",
    "# thresholds\n",
    "ths = sorted(list(train.cost.unique()))"
   ]
  },
  {
   "cell_type": "code",
   "execution_count": null,
   "metadata": {
    "ExecuteTime": {
     "end_time": "2021-06-11T19:06:54.999294Z",
     "start_time": "2021-06-11T19:06:54.810180Z"
    },
    "id": "MM3CKiGTrRXt"
   },
   "outputs": [],
   "source": [
    "tprs = []\n",
    "fprs = []\n",
    "auc = 0.0\n",
    "tpr0 = 1.0\n",
    "fpr0 = 1.0\n",
    "for th in ths:\n",
    "    # true positive rates\n",
    "    true_pos = sum(train[train['cost'] >= th]['price'])\n",
    "    tpr = true_pos / num_pos\n",
    "    tprs.append(tpr)\n",
    "    \n",
    "    # false positive rates\n",
    "    false_pos = sum(train['cost'] >= th) - true_pos\n",
    "    fpr = false_pos / num_neg\n",
    "    fprs.append(fpr)\n",
    "    \n",
    "    # area under curve\n",
    "    auc += (fpr0 - fpr) * (tpr0 + tpr)/2.0\n",
    "    fpr0 = fpr\n",
    "    tpr0 = tpr\n",
    "    "
   ]
  },
  {
   "cell_type": "code",
   "execution_count": null,
   "metadata": {
    "ExecuteTime": {
     "end_time": "2021-06-11T19:06:56.073198Z",
     "start_time": "2021-06-11T19:06:55.926957Z"
    },
    "id": "XK8SBupyrRXt",
    "outputId": "2545626c-909c-4ed7-fb33-619dde9aaea0"
   },
   "outputs": [
    {
     "data": {
      "text/plain": [
       "Text(0, 0.5, 'true positive rate')"
      ]
     },
     "execution_count": 52,
     "metadata": {
      "tags": []
     },
     "output_type": "execute_result"
    },
    {
     "data": {
      "image/png": "[encoded data removed]",
      "text/plain": [
       "<Figure size 432x288 with 1 Axes>"
      ]
     },
     "metadata": {
      "needs_background": "light",
      "tags": []
     },
     "output_type": "display_data"
    }
   ],
   "source": [
    "plt.plot(fprs, tprs)\n",
    "plt.text(0.8, 0.2, 'auc={0:.2f}'.format(auc))\n",
    "plt.xlabel('false positive rate')\n",
    "plt.ylabel('true positive rate')"
   ]
  },
  {
   "cell_type": "code",
   "execution_count": null,
   "metadata": {
    "id": "_BhWk_wTrRXt"
   },
   "outputs": [],
   "source": []
  }
 ],
 "metadata": {
  "colab": {
   "name": "19_logistic_regression_proba_updated.ipynb",
   "provenance": []
  },
  "kernelspec": {
   "display_name": "Python 3 (ipykernel)",
   "language": "python",
   "name": "python3"
  },
  "language_info": {
   "codemirror_mode": {
    "name": "ipython",
    "version": 3
   },
   "file_extension": ".py",
   "mimetype": "text/x-python",
   "name": "python",
   "nbconvert_exporter": "python",
   "pygments_lexer": "ipython3",
   "version": "3.9.12"
  },
  "varInspector": {
   "cols": {
    "lenName": 16,
    "lenType": 16,
    "lenVar": 40
   },
   "kernels_config": {
    "python": {
     "delete_cmd_postfix": "",
     "delete_cmd_prefix": "del ",
     "library": "var_list.py",
     "varRefreshCmd": "print(var_dic_list())"
    },
    "r": {
     "delete_cmd_postfix": ") ",
     "delete_cmd_prefix": "rm(",
     "library": "var_list.r",
     "varRefreshCmd": "cat(var_dic_list()) "
    }
   },
   "types_to_exclude": [
    "module",
    "function",
    "builtin_function_or_method",
    "instance",
    "_Feature"
   ],
   "window_display": false
  }
 },
 "nbformat": 4,
 "nbformat_minor": 1
}

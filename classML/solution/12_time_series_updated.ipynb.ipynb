{
 "cells": [
  {
   "cell_type": "code",
   "execution_count": 1,
   "metadata": {
    "id": "UdBl5583hyI1"
   },
   "outputs": [],
   "source": [
    "import pandas as pd"
   ]
  },
  {
   "cell_type": "code",
   "execution_count": 2,
   "metadata": {
    "id": "E6A6K2JEhyI5"
   },
   "outputs": [],
   "source": [
    "# df = pd.read_csv('../data/sales.csv')\n",
    "df = pd.read_csv('sales.csv')"
   ]
  },
  {
   "cell_type": "code",
   "execution_count": 3,
   "metadata": {
    "id": "eEWv2Ud2hyI6"
   },
   "outputs": [],
   "source": [
    "df.dropna(subset=['price'], inplace=True)"
   ]
  },
  {
   "cell_type": "code",
   "execution_count": 4,
   "metadata": {
    "id": "u8U339MMhyI6",
    "outputId": "2ce4a65a-9ade-4018-eac4-01a8fa30e1cb"
   },
   "outputs": [
    {
     "data": {
      "text/html": [
       "<div>\n",
       "<style scoped>\n",
       "    .dataframe tbody tr th:only-of-type {\n",
       "        vertical-align: middle;\n",
       "    }\n",
       "\n",
       "    .dataframe tbody tr th {\n",
       "        vertical-align: top;\n",
       "    }\n",
       "\n",
       "    .dataframe thead th {\n",
       "        text-align: right;\n",
       "    }\n",
       "</style>\n",
       "<table border=\"1\" class=\"dataframe\">\n",
       "  <thead>\n",
       "    <tr style=\"text-align: right;\">\n",
       "      <th></th>\n",
       "      <th>cost</th>\n",
       "      <th>price</th>\n",
       "      <th>weight</th>\n",
       "      <th>purchase_date</th>\n",
       "      <th>product_type</th>\n",
       "      <th>product_level</th>\n",
       "      <th>maker</th>\n",
       "      <th>ingredient</th>\n",
       "      <th>height</th>\n",
       "      <th>width</th>\n",
       "      <th>depth</th>\n",
       "    </tr>\n",
       "  </thead>\n",
       "  <tbody>\n",
       "    <tr>\n",
       "      <th>0</th>\n",
       "      <td>$333k</td>\n",
       "      <td>$300,492</td>\n",
       "      <td>3 Ton 90 Kg</td>\n",
       "      <td>Dec 19 2008</td>\n",
       "      <td>Q,B</td>\n",
       "      <td>advanced</td>\n",
       "      <td>M14122</td>\n",
       "      <td>IN732052,IN732053</td>\n",
       "      <td>2.76 meters</td>\n",
       "      <td>97 cm</td>\n",
       "      <td>26 cm</td>\n",
       "    </tr>\n",
       "    <tr>\n",
       "      <th>1</th>\n",
       "      <td>NaN</td>\n",
       "      <td>$430,570</td>\n",
       "      <td>3 Ton 30 Kg</td>\n",
       "      <td>Sep 10 1997</td>\n",
       "      <td>J,D</td>\n",
       "      <td>basic</td>\n",
       "      <td>NaN</td>\n",
       "      <td>IN732054,IN732055,IN732056,IN732057,IN732058</td>\n",
       "      <td>2.67 meters</td>\n",
       "      <td>98 cm</td>\n",
       "      <td>26 cm</td>\n",
       "    </tr>\n",
       "    <tr>\n",
       "      <th>2</th>\n",
       "      <td>$270k</td>\n",
       "      <td>$213,070</td>\n",
       "      <td>3 Ton 40 Kg</td>\n",
       "      <td>Sep 05 2001</td>\n",
       "      <td>J,D</td>\n",
       "      <td>basic</td>\n",
       "      <td>NaN</td>\n",
       "      <td>IN732054,IN732059,IN732060</td>\n",
       "      <td>3.0 meters</td>\n",
       "      <td>93 cm</td>\n",
       "      <td>24 cm</td>\n",
       "    </tr>\n",
       "    <tr>\n",
       "      <th>3</th>\n",
       "      <td>NaN</td>\n",
       "      <td>$229,174</td>\n",
       "      <td>3 Ton 50 Kg</td>\n",
       "      <td>Dec 23 2016</td>\n",
       "      <td>U</td>\n",
       "      <td>advanced</td>\n",
       "      <td>M14123</td>\n",
       "      <td>IN732061,IN732062,IN732063</td>\n",
       "      <td>2.5 meters</td>\n",
       "      <td>102 cm</td>\n",
       "      <td>27 cm</td>\n",
       "    </tr>\n",
       "    <tr>\n",
       "      <th>4</th>\n",
       "      <td>$97k</td>\n",
       "      <td>$122,659</td>\n",
       "      <td>2 Ton 970 Kg</td>\n",
       "      <td>Jan 12 2000</td>\n",
       "      <td>D,R</td>\n",
       "      <td>advanced</td>\n",
       "      <td>NaN</td>\n",
       "      <td>IN732064,IN732065,IN732066</td>\n",
       "      <td>2.47 meters</td>\n",
       "      <td>101 cm</td>\n",
       "      <td>26 cm</td>\n",
       "    </tr>\n",
       "  </tbody>\n",
       "</table>\n",
       "</div>"
      ],
      "text/plain": [
       "    cost     price        weight purchase_date product_type product_level  \\\n",
       "0  $333k  $300,492   3 Ton 90 Kg   Dec 19 2008          Q,B      advanced   \n",
       "1    NaN  $430,570   3 Ton 30 Kg   Sep 10 1997          J,D         basic   \n",
       "2  $270k  $213,070   3 Ton 40 Kg   Sep 05 2001          J,D         basic   \n",
       "3    NaN  $229,174   3 Ton 50 Kg   Dec 23 2016            U      advanced   \n",
       "4   $97k  $122,659  2 Ton 970 Kg   Jan 12 2000          D,R      advanced   \n",
       "\n",
       "    maker                                    ingredient       height   width  \\\n",
       "0  M14122                             IN732052,IN732053  2.76 meters   97 cm   \n",
       "1     NaN  IN732054,IN732055,IN732056,IN732057,IN732058  2.67 meters   98 cm   \n",
       "2     NaN                    IN732054,IN732059,IN732060   3.0 meters   93 cm   \n",
       "3  M14123                    IN732061,IN732062,IN732063   2.5 meters  102 cm   \n",
       "4     NaN                    IN732064,IN732065,IN732066  2.47 meters  101 cm   \n",
       "\n",
       "   depth  \n",
       "0  26 cm  \n",
       "1  26 cm  \n",
       "2  24 cm  \n",
       "3  27 cm  \n",
       "4  26 cm  "
      ]
     },
     "execution_count": 4,
     "metadata": {},
     "output_type": "execute_result"
    }
   ],
   "source": [
    "df.head()"
   ]
  },
  {
   "cell_type": "code",
   "execution_count": 5,
   "metadata": {
    "id": "gFPv3eYahyI7"
   },
   "outputs": [],
   "source": [
    "df['year'] = pd.to_datetime(df.purchase_date).dt.year"
   ]
  },
  {
   "cell_type": "code",
   "execution_count": 6,
   "metadata": {
    "id": "7gPLvDkOhyI8"
   },
   "outputs": [],
   "source": [
    "train_raw = df[df.year < 2015].reset_index(drop=True)\n",
    "test_raw = df[df.year >= 2015].reset_index(drop=True)"
   ]
  },
  {
   "cell_type": "markdown",
   "metadata": {
    "id": "aRHOyc93hyI8"
   },
   "source": [
    "# Timestamp Features"
   ]
  },
  {
   "cell_type": "markdown",
   "metadata": {
    "id": "deYAdfINhyI-"
   },
   "source": [
    "<font color='red'>Assignment:</font> Build a class to transform **purchase_date** into numerical features include **year**, **month**, **weekday**, and **day**."
   ]
  },
  {
   "cell_type": "code",
   "execution_count": 7,
   "metadata": {
    "id": "ZMnRaEtThyI_"
   },
   "outputs": [],
   "source": [
    "class DT_Transformer(object):\n",
    "    \n",
    "    def fit(self, X, y=None):\n",
    "        pass\n",
    "        \n",
    "    def transform(self, X, y=None):\n",
    "        df = pd.DataFrame()\n",
    "        df['year'] = pd.to_datetime(X.purchase_date).dt.year\n",
    "        df['month'] = pd.to_datetime(X.purchase_date).dt.month\n",
    "        df['weekday'] = pd.to_datetime(X.purchase_date).dt.weekday\n",
    "        df['day'] = pd.to_datetime(X.purchase_date).dt.day\n",
    "        return df\n",
    "    \n",
    "    def fit_transform(self, X, y=None):\n",
    "        return self.transform(X)"
   ]
  },
  {
   "cell_type": "markdown",
   "metadata": {
    "id": "KxyRHrVAhyJA"
   },
   "source": [
    "<font color='red'>Assignment:</font> Wrap up the above transformer and linear regression as a pipeline to predict **price** using these features."
   ]
  },
  {
   "cell_type": "code",
   "execution_count": 8,
   "metadata": {
    "id": "1N8XD61bhyJB"
   },
   "outputs": [],
   "source": [
    "from sklearn.linear_model import LinearRegression\n",
    "from sklearn.pipeline import Pipeline\n",
    "from sklearn.metrics import mean_absolute_error, mean_squared_error, r2_score\n",
    "\n",
    "def price2num(x):\n",
    "    if isinstance(x, str):\n",
    "        x = x.strip(\"$\").replace(\",\", \"\")\n",
    "    return float(x)\n",
    "\n",
    "X_train = train_raw[[\"purchase_date\"]]\n",
    "y_train = train_raw[\"price\"].map(price2num)\n",
    "\n",
    "X_test = test_raw[[\"purchase_date\"]]\n",
    "y_test = test_raw[\"price\"].map(price2num)\n",
    "\n",
    "steps = [(\"dttf\", DT_Transformer()), (\"lr\", LinearRegression())]\n",
    "\n",
    "model = Pipeline(steps)\n",
    "model = model.fit(X_train, y_train)"
   ]
  },
  {
   "cell_type": "code",
   "execution_count": 9,
   "metadata": {
    "id": "bvL-iBo3hyJB"
   },
   "outputs": [],
   "source": [
    "def loss(data, X, y_true, model):\n",
    "    '''Calculate the MAE, MSE and R2 of data (str) between true and prediction with model'''\n",
    "    y_pred = model.predict(X)\n",
    "    print(data, \"MAE: {0:.2e}\".format(mean_absolute_error(y_true, y_pred)))\n",
    "    print(data, \"MSE: {0:.2e}\".format(mean_squared_error(y_true, y_pred)))\n",
    "    print(data, \"R2 score : {0:.3f}\".format(r2_score(y_true, y_pred)))"
   ]
  },
  {
   "cell_type": "code",
   "execution_count": 10,
   "metadata": {
    "id": "fvTAwui9hyJC",
    "outputId": "663f73ad-d9c3-47f8-dfd3-8983f2981940"
   },
   "outputs": [
    {
     "name": "stdout",
     "output_type": "stream",
     "text": [
      "train MAE: 1.34e+05\n",
      "train MSE: 4.10e+10\n",
      "train R2 score : 0.039\n"
     ]
    }
   ],
   "source": [
    "'''Train loss'''\n",
    "\n",
    "loss(\"train\", X_train, y_train, model)"
   ]
  },
  {
   "cell_type": "code",
   "execution_count": 11,
   "metadata": {
    "id": "TuJyCdWuhyJC",
    "outputId": "744aab90-8e2a-435b-fad8-e16ea9c6da1a"
   },
   "outputs": [
    {
     "name": "stdout",
     "output_type": "stream",
     "text": [
      "test MAE: 1.90e+05\n",
      "test MSE: 8.67e+10\n",
      "test R2 score : -0.005\n"
     ]
    }
   ],
   "source": [
    "'''Test loss'''\n",
    "\n",
    "loss(\"test\", X_test, y_test, model)"
   ]
  },
  {
   "cell_type": "code",
   "execution_count": 12,
   "metadata": {
    "id": "R50gB7-6hyJD"
   },
   "outputs": [],
   "source": [
    "import matplotlib.pylab as plt\n",
    "%matplotlib inline"
   ]
  },
  {
   "cell_type": "code",
   "execution_count": 13,
   "metadata": {
    "id": "N7KD2nWUhyJD",
    "outputId": "d7d79d5f-a078-4872-9c57-0ca5f626e46f"
   },
   "outputs": [
    {
     "data": {
      "text/plain": [
       "Text(0, 0.5, 'y_test_pred')"
      ]
     },
     "execution_count": 13,
     "metadata": {},
     "output_type": "execute_result"
    },
    {
     "data": {
      "image/png": "[encoded data removed]",
      "text/plain": [
       "<Figure size 640x480 with 1 Axes>"
      ]
     },
     "metadata": {},
     "output_type": "display_data"
    }
   ],
   "source": [
    "plt.scatter(y_test, model.predict(X_test), alpha = 0.3)\n",
    "plt.xlabel('y_test')\n",
    "plt.ylabel('y_test_pred')"
   ]
  },
  {
   "cell_type": "markdown",
   "metadata": {
    "id": "N2AOcBxehyJD"
   },
   "source": [
    "# ARIMA"
   ]
  },
  {
   "cell_type": "markdown",
   "metadata": {
    "id": "1X0JohOZhyJE"
   },
   "source": [
    "<font color='red'>Assignment:</font> Creat a new DataFrame named **new_df** containing numerical **price** and **year** of the purchase. "
   ]
  },
  {
   "cell_type": "code",
   "execution_count": 14,
   "metadata": {
    "id": "wE8-dl-ThyJE",
    "outputId": "90f7e868-2bc8-4c28-cb0c-3aacbd0f48d9"
   },
   "outputs": [
    {
     "data": {
      "text/html": [
       "<div>\n",
       "<style scoped>\n",
       "    .dataframe tbody tr th:only-of-type {\n",
       "        vertical-align: middle;\n",
       "    }\n",
       "\n",
       "    .dataframe tbody tr th {\n",
       "        vertical-align: top;\n",
       "    }\n",
       "\n",
       "    .dataframe thead th {\n",
       "        text-align: right;\n",
       "    }\n",
       "</style>\n",
       "<table border=\"1\" class=\"dataframe\">\n",
       "  <thead>\n",
       "    <tr style=\"text-align: right;\">\n",
       "      <th></th>\n",
       "      <th>price</th>\n",
       "      <th>year</th>\n",
       "    </tr>\n",
       "  </thead>\n",
       "  <tbody>\n",
       "    <tr>\n",
       "      <th>0</th>\n",
       "      <td>300492.0</td>\n",
       "      <td>2008</td>\n",
       "    </tr>\n",
       "    <tr>\n",
       "      <th>1</th>\n",
       "      <td>430570.0</td>\n",
       "      <td>1997</td>\n",
       "    </tr>\n",
       "    <tr>\n",
       "      <th>2</th>\n",
       "      <td>213070.0</td>\n",
       "      <td>2001</td>\n",
       "    </tr>\n",
       "    <tr>\n",
       "      <th>3</th>\n",
       "      <td>229174.0</td>\n",
       "      <td>2016</td>\n",
       "    </tr>\n",
       "    <tr>\n",
       "      <th>4</th>\n",
       "      <td>122659.0</td>\n",
       "      <td>2000</td>\n",
       "    </tr>\n",
       "    <tr>\n",
       "      <th>...</th>\n",
       "      <td>...</td>\n",
       "      <td>...</td>\n",
       "    </tr>\n",
       "    <tr>\n",
       "      <th>3192</th>\n",
       "      <td>93349.0</td>\n",
       "      <td>2016</td>\n",
       "    </tr>\n",
       "    <tr>\n",
       "      <th>3193</th>\n",
       "      <td>40384.0</td>\n",
       "      <td>2007</td>\n",
       "    </tr>\n",
       "    <tr>\n",
       "      <th>3194</th>\n",
       "      <td>1074844.0</td>\n",
       "      <td>2016</td>\n",
       "    </tr>\n",
       "    <tr>\n",
       "      <th>3195</th>\n",
       "      <td>55931.0</td>\n",
       "      <td>2002</td>\n",
       "    </tr>\n",
       "    <tr>\n",
       "      <th>3196</th>\n",
       "      <td>44370.0</td>\n",
       "      <td>2003</td>\n",
       "    </tr>\n",
       "  </tbody>\n",
       "</table>\n",
       "<p>3186 rows × 2 columns</p>\n",
       "</div>"
      ],
      "text/plain": [
       "          price  year\n",
       "0      300492.0  2008\n",
       "1      430570.0  1997\n",
       "2      213070.0  2001\n",
       "3      229174.0  2016\n",
       "4      122659.0  2000\n",
       "...         ...   ...\n",
       "3192    93349.0  2016\n",
       "3193    40384.0  2007\n",
       "3194  1074844.0  2016\n",
       "3195    55931.0  2002\n",
       "3196    44370.0  2003\n",
       "\n",
       "[3186 rows x 2 columns]"
      ]
     },
     "execution_count": 14,
     "metadata": {},
     "output_type": "execute_result"
    }
   ],
   "source": [
    "new_data = {\n",
    "    \"price\": df[\"price\"].map(price2num),\n",
    "    \"year\": pd.to_datetime(df[\"purchase_date\"]).dt.year.astype(int)\n",
    "}\n",
    "new_df = pd.DataFrame(new_data)\n",
    "new_df"
   ]
  },
  {
   "cell_type": "code",
   "execution_count": null,
   "metadata": {},
   "outputs": [],
   "source": []
  },
  {
   "cell_type": "markdown",
   "metadata": {
    "id": "BLU_9Tj3hyJE"
   },
   "source": [
    "<font color='red'>Assignment:</font> Get the averaged price for each year. Hint: use **groupby**. "
   ]
  },
  {
   "cell_type": "code",
   "execution_count": 15,
   "metadata": {
    "id": "jDOfJ3WnhyJF",
    "outputId": "172cfc41-d665-44ea-95f4-5a0c3075a42c"
   },
   "outputs": [
    {
     "data": {
      "text/html": [
       "<div>\n",
       "<style scoped>\n",
       "    .dataframe tbody tr th:only-of-type {\n",
       "        vertical-align: middle;\n",
       "    }\n",
       "\n",
       "    .dataframe tbody tr th {\n",
       "        vertical-align: top;\n",
       "    }\n",
       "\n",
       "    .dataframe thead th {\n",
       "        text-align: right;\n",
       "    }\n",
       "</style>\n",
       "<table border=\"1\" class=\"dataframe\">\n",
       "  <thead>\n",
       "    <tr style=\"text-align: right;\">\n",
       "      <th></th>\n",
       "      <th>price</th>\n",
       "    </tr>\n",
       "    <tr>\n",
       "      <th>year</th>\n",
       "      <th></th>\n",
       "    </tr>\n",
       "  </thead>\n",
       "  <tbody>\n",
       "    <tr>\n",
       "      <th>1996</th>\n",
       "      <td>92974.589744</td>\n",
       "    </tr>\n",
       "    <tr>\n",
       "      <th>1997</th>\n",
       "      <td>119849.041667</td>\n",
       "    </tr>\n",
       "    <tr>\n",
       "      <th>1998</th>\n",
       "      <td>143776.348993</td>\n",
       "    </tr>\n",
       "    <tr>\n",
       "      <th>1999</th>\n",
       "      <td>142815.307143</td>\n",
       "    </tr>\n",
       "    <tr>\n",
       "      <th>2000</th>\n",
       "      <td>151443.718310</td>\n",
       "    </tr>\n",
       "    <tr>\n",
       "      <th>2001</th>\n",
       "      <td>161605.382979</td>\n",
       "    </tr>\n",
       "    <tr>\n",
       "      <th>2002</th>\n",
       "      <td>180232.475177</td>\n",
       "    </tr>\n",
       "    <tr>\n",
       "      <th>2003</th>\n",
       "      <td>173716.346667</td>\n",
       "    </tr>\n",
       "    <tr>\n",
       "      <th>2004</th>\n",
       "      <td>192375.952703</td>\n",
       "    </tr>\n",
       "    <tr>\n",
       "      <th>2005</th>\n",
       "      <td>184252.047297</td>\n",
       "    </tr>\n",
       "    <tr>\n",
       "      <th>2006</th>\n",
       "      <td>164600.365854</td>\n",
       "    </tr>\n",
       "    <tr>\n",
       "      <th>2007</th>\n",
       "      <td>160255.994253</td>\n",
       "    </tr>\n",
       "    <tr>\n",
       "      <th>2008</th>\n",
       "      <td>160471.598930</td>\n",
       "    </tr>\n",
       "    <tr>\n",
       "      <th>2009</th>\n",
       "      <td>184239.804878</td>\n",
       "    </tr>\n",
       "    <tr>\n",
       "      <th>2010</th>\n",
       "      <td>222372.947020</td>\n",
       "    </tr>\n",
       "    <tr>\n",
       "      <th>2011</th>\n",
       "      <td>226314.683824</td>\n",
       "    </tr>\n",
       "    <tr>\n",
       "      <th>2012</th>\n",
       "      <td>208741.081081</td>\n",
       "    </tr>\n",
       "    <tr>\n",
       "      <th>2013</th>\n",
       "      <td>218481.289655</td>\n",
       "    </tr>\n",
       "    <tr>\n",
       "      <th>2014</th>\n",
       "      <td>236485.390411</td>\n",
       "    </tr>\n",
       "    <tr>\n",
       "      <th>2015</th>\n",
       "      <td>202109.211921</td>\n",
       "    </tr>\n",
       "    <tr>\n",
       "      <th>2016</th>\n",
       "      <td>220901.759259</td>\n",
       "    </tr>\n",
       "    <tr>\n",
       "      <th>2017</th>\n",
       "      <td>208584.629310</td>\n",
       "    </tr>\n",
       "  </tbody>\n",
       "</table>\n",
       "</div>"
      ],
      "text/plain": [
       "              price\n",
       "year               \n",
       "1996   92974.589744\n",
       "1997  119849.041667\n",
       "1998  143776.348993\n",
       "1999  142815.307143\n",
       "2000  151443.718310\n",
       "2001  161605.382979\n",
       "2002  180232.475177\n",
       "2003  173716.346667\n",
       "2004  192375.952703\n",
       "2005  184252.047297\n",
       "2006  164600.365854\n",
       "2007  160255.994253\n",
       "2008  160471.598930\n",
       "2009  184239.804878\n",
       "2010  222372.947020\n",
       "2011  226314.683824\n",
       "2012  208741.081081\n",
       "2013  218481.289655\n",
       "2014  236485.390411\n",
       "2015  202109.211921\n",
       "2016  220901.759259\n",
       "2017  208584.629310"
      ]
     },
     "execution_count": 15,
     "metadata": {},
     "output_type": "execute_result"
    }
   ],
   "source": [
    "new_df.groupby(\"year\").mean()"
   ]
  },
  {
   "cell_type": "code",
   "execution_count": 16,
   "metadata": {
    "id": "yD0RsC_UhyJF",
    "outputId": "1ebf40f4-35ae-47f0-b371-7a7e8fc0ce29"
   },
   "outputs": [
    {
     "data": {
      "text/plain": [
       "[<matplotlib.lines.Line2D at 0x173ebbe7580>]"
      ]
     },
     "execution_count": 16,
     "metadata": {},
     "output_type": "execute_result"
    },
    {
     "data": {
      "image/png": "[encoded data removed]",
      "text/plain": [
       "<Figure size 640x480 with 1 Axes>"
      ]
     },
     "metadata": {},
     "output_type": "display_data"
    }
   ],
   "source": [
    "import matplotlib.pylab as plt\n",
    "%matplotlib inline\n",
    "\n",
    "plt.plot(new_df.groupby(\"year\").mean())"
   ]
  },
  {
   "cell_type": "markdown",
   "metadata": {
    "id": "CKmUTI1vhyJF"
   },
   "source": [
    "<font color='red'>Assignment:</font> Build a LinearRegression model to predict the yearly averaged price using averaged prices in the past three years. For example, to predict the averaged price in 2015 with the averaged price in 2014, 2013, and 2012. (Hint: use **shift** and you can discard the rows containing nan values.) Get the training and testing scores."
   ]
  },
  {
   "cell_type": "code",
   "execution_count": 17,
   "metadata": {
    "id": "swkfgu6WhyJG",
    "scrolled": true
   },
   "outputs": [],
   "source": [
    "'''linear regression model to predict the yearly average price'''\n",
    "from sklearn.model_selection import train_test_split\n",
    "\n",
    "temp = new_df.groupby(\"year\").mean()\n",
    "lr_data = {\n",
    "    \"price year-3\": temp.shift(3)[\"price\"],\n",
    "    \"price year-2\": temp.shift(2)[\"price\"],\n",
    "    \"price year-1\": temp.shift(1)[\"price\"],\n",
    "    \"price\": temp[\"price\"]\n",
    "}\n",
    "lr_df = pd.DataFrame(lr_data).dropna()\n",
    "\n",
    "df_train = lr_df[lr_df.index < 2013]\n",
    "df_test = lr_df[lr_df.index >= 2013]\n",
    "\n",
    "X_train, y_train = df_train.iloc[:, :3], df_train[\"price\"]\n",
    "X_test, y_test = df_test.iloc[:, :3], df_test[\"price\"]"
   ]
  },
  {
   "cell_type": "code",
   "execution_count": 18,
   "metadata": {
    "id": "zIbFUqXphyJG",
    "outputId": "5abb38d0-1009-4959-a206-bbf4846152f9",
    "scrolled": true
   },
   "outputs": [
    {
     "data": {
      "text/html": [
       "<div>\n",
       "<style scoped>\n",
       "    .dataframe tbody tr th:only-of-type {\n",
       "        vertical-align: middle;\n",
       "    }\n",
       "\n",
       "    .dataframe tbody tr th {\n",
       "        vertical-align: top;\n",
       "    }\n",
       "\n",
       "    .dataframe thead th {\n",
       "        text-align: right;\n",
       "    }\n",
       "</style>\n",
       "<table border=\"1\" class=\"dataframe\">\n",
       "  <thead>\n",
       "    <tr style=\"text-align: right;\">\n",
       "      <th></th>\n",
       "      <th>price year-3</th>\n",
       "      <th>price year-2</th>\n",
       "      <th>price year-1</th>\n",
       "      <th>price</th>\n",
       "    </tr>\n",
       "    <tr>\n",
       "      <th>year</th>\n",
       "      <th></th>\n",
       "      <th></th>\n",
       "      <th></th>\n",
       "      <th></th>\n",
       "    </tr>\n",
       "  </thead>\n",
       "  <tbody>\n",
       "    <tr>\n",
       "      <th>1999</th>\n",
       "      <td>92974.589744</td>\n",
       "      <td>119849.041667</td>\n",
       "      <td>143776.348993</td>\n",
       "      <td>142815.307143</td>\n",
       "    </tr>\n",
       "    <tr>\n",
       "      <th>2000</th>\n",
       "      <td>119849.041667</td>\n",
       "      <td>143776.348993</td>\n",
       "      <td>142815.307143</td>\n",
       "      <td>151443.718310</td>\n",
       "    </tr>\n",
       "    <tr>\n",
       "      <th>2001</th>\n",
       "      <td>143776.348993</td>\n",
       "      <td>142815.307143</td>\n",
       "      <td>151443.718310</td>\n",
       "      <td>161605.382979</td>\n",
       "    </tr>\n",
       "    <tr>\n",
       "      <th>2002</th>\n",
       "      <td>142815.307143</td>\n",
       "      <td>151443.718310</td>\n",
       "      <td>161605.382979</td>\n",
       "      <td>180232.475177</td>\n",
       "    </tr>\n",
       "    <tr>\n",
       "      <th>2003</th>\n",
       "      <td>151443.718310</td>\n",
       "      <td>161605.382979</td>\n",
       "      <td>180232.475177</td>\n",
       "      <td>173716.346667</td>\n",
       "    </tr>\n",
       "  </tbody>\n",
       "</table>\n",
       "</div>"
      ],
      "text/plain": [
       "       price year-3   price year-2   price year-1          price\n",
       "year                                                            \n",
       "1999   92974.589744  119849.041667  143776.348993  142815.307143\n",
       "2000  119849.041667  143776.348993  142815.307143  151443.718310\n",
       "2001  143776.348993  142815.307143  151443.718310  161605.382979\n",
       "2002  142815.307143  151443.718310  161605.382979  180232.475177\n",
       "2003  151443.718310  161605.382979  180232.475177  173716.346667"
      ]
     },
     "execution_count": 18,
     "metadata": {},
     "output_type": "execute_result"
    }
   ],
   "source": [
    "lr_df.head()"
   ]
  },
  {
   "cell_type": "code",
   "execution_count": 19,
   "metadata": {
    "id": "ltNaJgeghyJG",
    "outputId": "ab491ad6-b384-4909-d99f-c63d73c9fbf3"
   },
   "outputs": [
    {
     "data": {
      "text/html": [
       "<div>\n",
       "<style scoped>\n",
       "    .dataframe tbody tr th:only-of-type {\n",
       "        vertical-align: middle;\n",
       "    }\n",
       "\n",
       "    .dataframe tbody tr th {\n",
       "        vertical-align: top;\n",
       "    }\n",
       "\n",
       "    .dataframe thead th {\n",
       "        text-align: right;\n",
       "    }\n",
       "</style>\n",
       "<table border=\"1\" class=\"dataframe\">\n",
       "  <thead>\n",
       "    <tr style=\"text-align: right;\">\n",
       "      <th></th>\n",
       "      <th>price year-3</th>\n",
       "      <th>price year-2</th>\n",
       "      <th>price year-1</th>\n",
       "      <th>price</th>\n",
       "    </tr>\n",
       "    <tr>\n",
       "      <th>year</th>\n",
       "      <th></th>\n",
       "      <th></th>\n",
       "      <th></th>\n",
       "      <th></th>\n",
       "    </tr>\n",
       "  </thead>\n",
       "  <tbody>\n",
       "    <tr>\n",
       "      <th>1999</th>\n",
       "      <td>92974.589744</td>\n",
       "      <td>119849.041667</td>\n",
       "      <td>143776.348993</td>\n",
       "      <td>142815.307143</td>\n",
       "    </tr>\n",
       "    <tr>\n",
       "      <th>2000</th>\n",
       "      <td>119849.041667</td>\n",
       "      <td>143776.348993</td>\n",
       "      <td>142815.307143</td>\n",
       "      <td>151443.718310</td>\n",
       "    </tr>\n",
       "    <tr>\n",
       "      <th>2001</th>\n",
       "      <td>143776.348993</td>\n",
       "      <td>142815.307143</td>\n",
       "      <td>151443.718310</td>\n",
       "      <td>161605.382979</td>\n",
       "    </tr>\n",
       "    <tr>\n",
       "      <th>2002</th>\n",
       "      <td>142815.307143</td>\n",
       "      <td>151443.718310</td>\n",
       "      <td>161605.382979</td>\n",
       "      <td>180232.475177</td>\n",
       "    </tr>\n",
       "    <tr>\n",
       "      <th>2003</th>\n",
       "      <td>151443.718310</td>\n",
       "      <td>161605.382979</td>\n",
       "      <td>180232.475177</td>\n",
       "      <td>173716.346667</td>\n",
       "    </tr>\n",
       "    <tr>\n",
       "      <th>2004</th>\n",
       "      <td>161605.382979</td>\n",
       "      <td>180232.475177</td>\n",
       "      <td>173716.346667</td>\n",
       "      <td>192375.952703</td>\n",
       "    </tr>\n",
       "    <tr>\n",
       "      <th>2005</th>\n",
       "      <td>180232.475177</td>\n",
       "      <td>173716.346667</td>\n",
       "      <td>192375.952703</td>\n",
       "      <td>184252.047297</td>\n",
       "    </tr>\n",
       "    <tr>\n",
       "      <th>2006</th>\n",
       "      <td>173716.346667</td>\n",
       "      <td>192375.952703</td>\n",
       "      <td>184252.047297</td>\n",
       "      <td>164600.365854</td>\n",
       "    </tr>\n",
       "    <tr>\n",
       "      <th>2007</th>\n",
       "      <td>192375.952703</td>\n",
       "      <td>184252.047297</td>\n",
       "      <td>164600.365854</td>\n",
       "      <td>160255.994253</td>\n",
       "    </tr>\n",
       "    <tr>\n",
       "      <th>2008</th>\n",
       "      <td>184252.047297</td>\n",
       "      <td>164600.365854</td>\n",
       "      <td>160255.994253</td>\n",
       "      <td>160471.598930</td>\n",
       "    </tr>\n",
       "    <tr>\n",
       "      <th>2009</th>\n",
       "      <td>164600.365854</td>\n",
       "      <td>160255.994253</td>\n",
       "      <td>160471.598930</td>\n",
       "      <td>184239.804878</td>\n",
       "    </tr>\n",
       "    <tr>\n",
       "      <th>2010</th>\n",
       "      <td>160255.994253</td>\n",
       "      <td>160471.598930</td>\n",
       "      <td>184239.804878</td>\n",
       "      <td>222372.947020</td>\n",
       "    </tr>\n",
       "    <tr>\n",
       "      <th>2011</th>\n",
       "      <td>160471.598930</td>\n",
       "      <td>184239.804878</td>\n",
       "      <td>222372.947020</td>\n",
       "      <td>226314.683824</td>\n",
       "    </tr>\n",
       "    <tr>\n",
       "      <th>2012</th>\n",
       "      <td>184239.804878</td>\n",
       "      <td>222372.947020</td>\n",
       "      <td>226314.683824</td>\n",
       "      <td>208741.081081</td>\n",
       "    </tr>\n",
       "  </tbody>\n",
       "</table>\n",
       "</div>"
      ],
      "text/plain": [
       "       price year-3   price year-2   price year-1          price\n",
       "year                                                            \n",
       "1999   92974.589744  119849.041667  143776.348993  142815.307143\n",
       "2000  119849.041667  143776.348993  142815.307143  151443.718310\n",
       "2001  143776.348993  142815.307143  151443.718310  161605.382979\n",
       "2002  142815.307143  151443.718310  161605.382979  180232.475177\n",
       "2003  151443.718310  161605.382979  180232.475177  173716.346667\n",
       "2004  161605.382979  180232.475177  173716.346667  192375.952703\n",
       "2005  180232.475177  173716.346667  192375.952703  184252.047297\n",
       "2006  173716.346667  192375.952703  184252.047297  164600.365854\n",
       "2007  192375.952703  184252.047297  164600.365854  160255.994253\n",
       "2008  184252.047297  164600.365854  160255.994253  160471.598930\n",
       "2009  164600.365854  160255.994253  160471.598930  184239.804878\n",
       "2010  160255.994253  160471.598930  184239.804878  222372.947020\n",
       "2011  160471.598930  184239.804878  222372.947020  226314.683824\n",
       "2012  184239.804878  222372.947020  226314.683824  208741.081081"
      ]
     },
     "execution_count": 19,
     "metadata": {},
     "output_type": "execute_result"
    }
   ],
   "source": [
    "df_train"
   ]
  },
  {
   "cell_type": "code",
   "execution_count": 20,
   "metadata": {
    "id": "DXNp1M3ZhyJH",
    "outputId": "919d05bb-554b-48be-a91f-08c2533f7a36"
   },
   "outputs": [
    {
     "data": {
      "text/html": [
       "<div>\n",
       "<style scoped>\n",
       "    .dataframe tbody tr th:only-of-type {\n",
       "        vertical-align: middle;\n",
       "    }\n",
       "\n",
       "    .dataframe tbody tr th {\n",
       "        vertical-align: top;\n",
       "    }\n",
       "\n",
       "    .dataframe thead th {\n",
       "        text-align: right;\n",
       "    }\n",
       "</style>\n",
       "<table border=\"1\" class=\"dataframe\">\n",
       "  <thead>\n",
       "    <tr style=\"text-align: right;\">\n",
       "      <th></th>\n",
       "      <th>price year-3</th>\n",
       "      <th>price year-2</th>\n",
       "      <th>price year-1</th>\n",
       "      <th>price</th>\n",
       "    </tr>\n",
       "    <tr>\n",
       "      <th>year</th>\n",
       "      <th></th>\n",
       "      <th></th>\n",
       "      <th></th>\n",
       "      <th></th>\n",
       "    </tr>\n",
       "  </thead>\n",
       "  <tbody>\n",
       "    <tr>\n",
       "      <th>2013</th>\n",
       "      <td>222372.947020</td>\n",
       "      <td>226314.683824</td>\n",
       "      <td>208741.081081</td>\n",
       "      <td>218481.289655</td>\n",
       "    </tr>\n",
       "    <tr>\n",
       "      <th>2014</th>\n",
       "      <td>226314.683824</td>\n",
       "      <td>208741.081081</td>\n",
       "      <td>218481.289655</td>\n",
       "      <td>236485.390411</td>\n",
       "    </tr>\n",
       "    <tr>\n",
       "      <th>2015</th>\n",
       "      <td>208741.081081</td>\n",
       "      <td>218481.289655</td>\n",
       "      <td>236485.390411</td>\n",
       "      <td>202109.211921</td>\n",
       "    </tr>\n",
       "    <tr>\n",
       "      <th>2016</th>\n",
       "      <td>218481.289655</td>\n",
       "      <td>236485.390411</td>\n",
       "      <td>202109.211921</td>\n",
       "      <td>220901.759259</td>\n",
       "    </tr>\n",
       "    <tr>\n",
       "      <th>2017</th>\n",
       "      <td>236485.390411</td>\n",
       "      <td>202109.211921</td>\n",
       "      <td>220901.759259</td>\n",
       "      <td>208584.629310</td>\n",
       "    </tr>\n",
       "  </tbody>\n",
       "</table>\n",
       "</div>"
      ],
      "text/plain": [
       "       price year-3   price year-2   price year-1          price\n",
       "year                                                            \n",
       "2013  222372.947020  226314.683824  208741.081081  218481.289655\n",
       "2014  226314.683824  208741.081081  218481.289655  236485.390411\n",
       "2015  208741.081081  218481.289655  236485.390411  202109.211921\n",
       "2016  218481.289655  236485.390411  202109.211921  220901.759259\n",
       "2017  236485.390411  202109.211921  220901.759259  208584.629310"
      ]
     },
     "execution_count": 20,
     "metadata": {},
     "output_type": "execute_result"
    }
   ],
   "source": [
    "df_test"
   ]
  },
  {
   "cell_type": "code",
   "execution_count": 21,
   "metadata": {},
   "outputs": [
    {
     "data": {
      "text/html": [
       "<div>\n",
       "<style scoped>\n",
       "    .dataframe tbody tr th:only-of-type {\n",
       "        vertical-align: middle;\n",
       "    }\n",
       "\n",
       "    .dataframe tbody tr th {\n",
       "        vertical-align: top;\n",
       "    }\n",
       "\n",
       "    .dataframe thead th {\n",
       "        text-align: right;\n",
       "    }\n",
       "</style>\n",
       "<table border=\"1\" class=\"dataframe\">\n",
       "  <thead>\n",
       "    <tr style=\"text-align: right;\">\n",
       "      <th></th>\n",
       "      <th>price year-3</th>\n",
       "      <th>price year-2</th>\n",
       "      <th>price year-1</th>\n",
       "    </tr>\n",
       "    <tr>\n",
       "      <th>year</th>\n",
       "      <th></th>\n",
       "      <th></th>\n",
       "      <th></th>\n",
       "    </tr>\n",
       "  </thead>\n",
       "  <tbody>\n",
       "    <tr>\n",
       "      <th>1999</th>\n",
       "      <td>92974.589744</td>\n",
       "      <td>119849.041667</td>\n",
       "      <td>143776.348993</td>\n",
       "    </tr>\n",
       "    <tr>\n",
       "      <th>2000</th>\n",
       "      <td>119849.041667</td>\n",
       "      <td>143776.348993</td>\n",
       "      <td>142815.307143</td>\n",
       "    </tr>\n",
       "    <tr>\n",
       "      <th>2001</th>\n",
       "      <td>143776.348993</td>\n",
       "      <td>142815.307143</td>\n",
       "      <td>151443.718310</td>\n",
       "    </tr>\n",
       "    <tr>\n",
       "      <th>2002</th>\n",
       "      <td>142815.307143</td>\n",
       "      <td>151443.718310</td>\n",
       "      <td>161605.382979</td>\n",
       "    </tr>\n",
       "    <tr>\n",
       "      <th>2003</th>\n",
       "      <td>151443.718310</td>\n",
       "      <td>161605.382979</td>\n",
       "      <td>180232.475177</td>\n",
       "    </tr>\n",
       "    <tr>\n",
       "      <th>2004</th>\n",
       "      <td>161605.382979</td>\n",
       "      <td>180232.475177</td>\n",
       "      <td>173716.346667</td>\n",
       "    </tr>\n",
       "    <tr>\n",
       "      <th>2005</th>\n",
       "      <td>180232.475177</td>\n",
       "      <td>173716.346667</td>\n",
       "      <td>192375.952703</td>\n",
       "    </tr>\n",
       "    <tr>\n",
       "      <th>2006</th>\n",
       "      <td>173716.346667</td>\n",
       "      <td>192375.952703</td>\n",
       "      <td>184252.047297</td>\n",
       "    </tr>\n",
       "    <tr>\n",
       "      <th>2007</th>\n",
       "      <td>192375.952703</td>\n",
       "      <td>184252.047297</td>\n",
       "      <td>164600.365854</td>\n",
       "    </tr>\n",
       "    <tr>\n",
       "      <th>2008</th>\n",
       "      <td>184252.047297</td>\n",
       "      <td>164600.365854</td>\n",
       "      <td>160255.994253</td>\n",
       "    </tr>\n",
       "    <tr>\n",
       "      <th>2009</th>\n",
       "      <td>164600.365854</td>\n",
       "      <td>160255.994253</td>\n",
       "      <td>160471.598930</td>\n",
       "    </tr>\n",
       "    <tr>\n",
       "      <th>2010</th>\n",
       "      <td>160255.994253</td>\n",
       "      <td>160471.598930</td>\n",
       "      <td>184239.804878</td>\n",
       "    </tr>\n",
       "    <tr>\n",
       "      <th>2011</th>\n",
       "      <td>160471.598930</td>\n",
       "      <td>184239.804878</td>\n",
       "      <td>222372.947020</td>\n",
       "    </tr>\n",
       "    <tr>\n",
       "      <th>2012</th>\n",
       "      <td>184239.804878</td>\n",
       "      <td>222372.947020</td>\n",
       "      <td>226314.683824</td>\n",
       "    </tr>\n",
       "  </tbody>\n",
       "</table>\n",
       "</div>"
      ],
      "text/plain": [
       "       price year-3   price year-2   price year-1\n",
       "year                                             \n",
       "1999   92974.589744  119849.041667  143776.348993\n",
       "2000  119849.041667  143776.348993  142815.307143\n",
       "2001  143776.348993  142815.307143  151443.718310\n",
       "2002  142815.307143  151443.718310  161605.382979\n",
       "2003  151443.718310  161605.382979  180232.475177\n",
       "2004  161605.382979  180232.475177  173716.346667\n",
       "2005  180232.475177  173716.346667  192375.952703\n",
       "2006  173716.346667  192375.952703  184252.047297\n",
       "2007  192375.952703  184252.047297  164600.365854\n",
       "2008  184252.047297  164600.365854  160255.994253\n",
       "2009  164600.365854  160255.994253  160471.598930\n",
       "2010  160255.994253  160471.598930  184239.804878\n",
       "2011  160471.598930  184239.804878  222372.947020\n",
       "2012  184239.804878  222372.947020  226314.683824"
      ]
     },
     "execution_count": 21,
     "metadata": {},
     "output_type": "execute_result"
    }
   ],
   "source": [
    "X_train"
   ]
  },
  {
   "cell_type": "code",
   "execution_count": 22,
   "metadata": {
    "id": "Fl8IGUn8hyJH"
   },
   "outputs": [],
   "source": [
    "# train the model\n",
    "\n",
    "lr_model = LinearRegression()\n",
    "lr_model = lr_model.fit(X_train, y_train)"
   ]
  },
  {
   "cell_type": "code",
   "execution_count": 23,
   "metadata": {
    "id": "wzUdEmX0hyJH",
    "outputId": "c2261891-5d73-434b-c48e-c1503a38fe50",
    "scrolled": true
   },
   "outputs": [
    {
     "name": "stdout",
     "output_type": "stream",
     "text": [
      "train MAE: 1.13e+04\n",
      "train MSE: 1.84e+08\n",
      "train R2 score : 0.698\n"
     ]
    }
   ],
   "source": [
    "'''Train loss'''\n",
    "loss(\"train\", X_train, y_train, lr_model)"
   ]
  },
  {
   "cell_type": "code",
   "execution_count": 24,
   "metadata": {
    "id": "L1K3sbpyhyJH",
    "outputId": "fe8f380e-a1c5-464c-a475-d7ab1b42969c"
   },
   "outputs": [
    {
     "name": "stdout",
     "output_type": "stream",
     "text": [
      "test MAE: 2.50e+04\n",
      "test MSE: 6.85e+08\n",
      "test R2 score : -3.968\n"
     ]
    }
   ],
   "source": [
    "'''Test loss'''\n",
    "loss(\"test\", X_test, y_test, lr_model)"
   ]
  },
  {
   "cell_type": "code",
   "execution_count": 25,
   "metadata": {
    "id": "ZpVwjb5bhyJI"
   },
   "outputs": [],
   "source": [
    "# train the model\n",
    "from sklearn.linear_model import Ridge, Lasso\n",
    "from sklearn.preprocessing import MinMaxScaler\n",
    "\n",
    "steps = [('rescale', MinMaxScaler()),\n",
    "         ('Ridge', Ridge(alpha = 1))]\n",
    "l2_model = Pipeline(steps)\n",
    "l2_model = l2_model.fit(X_train, y_train)"
   ]
  },
  {
   "cell_type": "code",
   "execution_count": 26,
   "metadata": {
    "id": "UR82bkMnhyJI",
    "outputId": "8321ba3c-e57f-486b-a5b7-843026e4202a",
    "scrolled": true
   },
   "outputs": [
    {
     "name": "stdout",
     "output_type": "stream",
     "text": [
      "train MAE: 1.44e+04\n",
      "train MSE: 2.98e+08\n",
      "train R2 score : 0.511\n"
     ]
    }
   ],
   "source": [
    "'''Train loss'''\n",
    "loss(\"train\", X_train, y_train, l2_model)"
   ]
  },
  {
   "cell_type": "code",
   "execution_count": 27,
   "metadata": {
    "id": "FqXzwMsKhyJI",
    "outputId": "fb9e007f-a5a5-4869-9eaf-60ac475214f1"
   },
   "outputs": [
    {
     "name": "stdout",
     "output_type": "stream",
     "text": [
      "test MAE: 1.71e+04\n",
      "test MSE: 3.99e+08\n",
      "test R2 score : -1.892\n"
     ]
    }
   ],
   "source": [
    "'''Test loss'''\n",
    "loss(\"test\", X_test, y_test, l2_model)"
   ]
  },
  {
   "cell_type": "markdown",
   "metadata": {
    "id": "Unul3gpXhyJJ"
   },
   "source": [
    "##### not asking you to use average as prediction, but build a linear regression model please!"
   ]
  },
  {
   "cell_type": "markdown",
   "metadata": {
    "id": "-chC86G2hyJJ"
   },
   "source": [
    "<font color='red'>Assignment:</font> Plot the prediction and ground truth of yearly averaged **price** against time. "
   ]
  },
  {
   "cell_type": "code",
   "execution_count": 28,
   "metadata": {
    "id": "C05Acez_hyJJ",
    "outputId": "41128616-22ae-4f26-df94-b81ea21944cf"
   },
   "outputs": [
    {
     "data": {
      "text/plain": [
       "<matplotlib.legend.Legend at 0x173ebc6f8e0>"
      ]
     },
     "execution_count": 28,
     "metadata": {},
     "output_type": "execute_result"
    },
    {
     "data": {
      "image/png": "[encoded data removed]",
      "text/plain": [
       "<Figure size 640x480 with 1 Axes>"
      ]
     },
     "metadata": {},
     "output_type": "display_data"
    }
   ],
   "source": [
    "'''Train'''\n",
    "\n",
    "plt.scatter(X_train.index, y_train, color=\"b\", label=\"truth\")\n",
    "plt.scatter(X_train.index, l2_model.predict(X_train), color=\"r\", label=\"prediction\")\n",
    "plt.xlabel(\"Year\")\n",
    "plt.ylabel(\"Ave Price\")\n",
    "plt.title(\"Train Data\")\n",
    "plt.legend()"
   ]
  },
  {
   "cell_type": "code",
   "execution_count": 29,
   "metadata": {
    "id": "Vij8ZNgthyJJ",
    "outputId": "edb8ecee-c67c-4a03-f1a0-d85aaf2647aa"
   },
   "outputs": [
    {
     "data": {
      "text/plain": [
       "<matplotlib.legend.Legend at 0x173ebca5b20>"
      ]
     },
     "execution_count": 29,
     "metadata": {},
     "output_type": "execute_result"
    },
    {
     "data": {
      "image/png": "[encoded data removed]",
      "text/plain": [
       "<Figure size 640x480 with 1 Axes>"
      ]
     },
     "metadata": {},
     "output_type": "display_data"
    }
   ],
   "source": [
    "'''Test'''\n",
    "\n",
    "plt.scatter(X_test.index, y_test, color=\"b\", label=\"truth\")\n",
    "plt.scatter(X_test.index, l2_model.predict(X_test), color=\"r\", label=\"prediction\")\n",
    "plt.xlabel(\"Year\")\n",
    "plt.ylabel(\"Ave Price\")\n",
    "plt.title(\"Test Data\")\n",
    "plt.legend()"
   ]
  },
  {
   "cell_type": "markdown",
   "metadata": {
    "id": "yZP3K5GLhyJK"
   },
   "source": [
    "<font color='red'>Question:</font> What is ARIMA?"
   ]
  },
  {
   "cell_type": "markdown",
   "metadata": {
    "id": "_5Q_qSq2hyJK"
   },
   "source": [
    "**ANS:**\n",
    "<br>ARIMA stands for Autoregressive Integrated Moving Average. It is a statiscal analysis model that uses time series data to either better understand the data set ot to predict future trends."
   ]
  },
  {
   "cell_type": "markdown",
   "metadata": {
    "id": "PiQpj8UehyJK"
   },
   "source": [
    "##### An example of using ARIMA"
   ]
  },
  {
   "cell_type": "code",
   "execution_count": null,
   "metadata": {
    "id": "NmhDXpwWhyJK"
   },
   "outputs": [],
   "source": [
    "temp = new_df.groupby(\"year\").mean()\n",
    "\n",
    "df_train = temp[temp.index < 2013]\n",
    "df_test = temp[temp.index >= 2013]"
   ]
  },
  {
   "cell_type": "markdown",
   "metadata": {
    "id": "7VMIJuQZhyJK"
   },
   "source": [
    "##### 1. Dicky-Fuller test"
   ]
  },
  {
   "cell_type": "code",
   "execution_count": null,
   "metadata": {
    "id": "-LxKumPyhyJK",
    "outputId": "b8883955-a06a-4029-bc15-5c0648640fe3"
   },
   "outputs": [
    {
     "name": "stdout",
     "output_type": "stream",
     "text": [
      "ADF Statistic: -2.539526\n",
      "p-value: 0.106151\n",
      "Critical Values:\n",
      "\t1%: -3.788\n",
      "\t5%: -3.013\n",
      "\t10%: -2.646\n"
     ]
    }
   ],
   "source": [
    "from statsmodels.tsa.stattools import adfuller\n",
    "\n",
    "result = adfuller(new_df.groupby(\"year\").mean())\n",
    "print('ADF Statistic: %f' % result[0]) # the more negative the better\n",
    "print('p-value: %f' % result[1]) # cut-off at 5%\n",
    "print('Critical Values:')\n",
    "for key, value in result[4].items():\n",
    "    print('\\t%s: %.3f' % (key, value))\n",
    "    \n",
    "# our time series data is not stationary !!! differencing needed d > 0"
   ]
  },
  {
   "cell_type": "markdown",
   "metadata": {
    "id": "stpT3HgAhyJK"
   },
   "source": [
    "##### 2. find p, q"
   ]
  },
  {
   "cell_type": "code",
   "execution_count": null,
   "metadata": {
    "id": "4uQ2T2qEhyJL"
   },
   "outputs": [],
   "source": [
    "from statsmodels.graphics.tsaplots import plot_acf, plot_pacf"
   ]
  },
  {
   "cell_type": "code",
   "execution_count": null,
   "metadata": {
    "id": "G7UHPRNIhyJL",
    "outputId": "a5fb25d3-86c7-4b90-acf7-0130f42b762b"
   },
   "outputs": [
    {
     "name": "stderr",
     "output_type": "stream",
     "text": [
      "C:\\Users\\logos\\Anaconda3\\lib\\site-packages\\statsmodels\\regression\\linear_model.py:1406: RuntimeWarning: invalid value encountered in sqrt\n",
      "  return rho, np.sqrt(sigmasq)\n"
     ]
    },
    {
     "data": {
      "image/png": "[encoded data removed]",
      "text/plain": [
       "<Figure size 432x288 with 1 Axes>"
      ]
     },
     "metadata": {
      "needs_background": "light"
     },
     "output_type": "display_data"
    }
   ],
   "source": [
    "# pacf plot to determine p for AR\n",
    "\n",
    "plot_pacf(df_train)\n",
    "plt.show()\n",
    "\n",
    "# sharp cut after one lag, p = 1"
   ]
  },
  {
   "cell_type": "code",
   "execution_count": null,
   "metadata": {
    "id": "SSYT40knhyJL",
    "outputId": "f5ba5cdb-7b6d-4004-cdce-818fa1e8ffff"
   },
   "outputs": [
    {
     "data": {
      "image/png": "[encoded data removed]",
      "text/plain": [
       "<Figure size 432x288 with 1 Axes>"
      ]
     },
     "metadata": {
      "needs_background": "light"
     },
     "output_type": "display_data"
    }
   ],
   "source": [
    "# acf plot to determine q for MA\n",
    "\n",
    "plot_acf(df_train)\n",
    "plt.show()\n",
    "\n",
    "# no sharp cut, q = 0"
   ]
  },
  {
   "cell_type": "markdown",
   "metadata": {
    "id": "s07AIEvqhyJL"
   },
   "source": [
    "##### 3. build ARIMA model"
   ]
  },
  {
   "cell_type": "code",
   "execution_count": null,
   "metadata": {
    "id": "Gyx87XU2hyJL",
    "outputId": "f130cc01-a9f8-4370-e590-8727dd9f86c6",
    "scrolled": false
   },
   "outputs": [
    {
     "name": "stderr",
     "output_type": "stream",
     "text": [
      "C:\\Users\\logos\\Anaconda3\\lib\\site-packages\\statsmodels\\tsa\\base\\tsa_model.py:214: ValueWarning: An unsupported index was provided and will be ignored when e.g. forecasting.\n",
      "  ' ignored when e.g. forecasting.', ValueWarning)\n",
      "C:\\Users\\logos\\Anaconda3\\lib\\site-packages\\statsmodels\\tsa\\base\\tsa_model.py:214: ValueWarning: An unsupported index was provided and will be ignored when e.g. forecasting.\n",
      "  ' ignored when e.g. forecasting.', ValueWarning)\n"
     ]
    }
   ],
   "source": [
    "from statsmodels.tsa.arima_model import ARIMA\n",
    "import numpy as np\n",
    "\n",
    "# fit model\n",
    "model_arima = ARIMA(df_train, order=(1,1,0)) # order = (p, d, q)\n",
    "model_arima = model_arima.fit(disp=-1)"
   ]
  },
  {
   "cell_type": "code",
   "execution_count": null,
   "metadata": {
    "id": "kegH0zgthyJL",
    "outputId": "0ced3a06-a4ba-446b-de76-8bdc69309734",
    "scrolled": false
   },
   "outputs": [
    {
     "name": "stderr",
     "output_type": "stream",
     "text": [
      "C:\\Users\\logos\\Anaconda3\\lib\\site-packages\\statsmodels\\tsa\\base\\tsa_model.py:583: ValueWarning: No supported index is available. Prediction results will be given with an integer index beginning at `start`.\n",
      "  ValueWarning)\n",
      "C:\\Users\\logos\\Anaconda3\\lib\\site-packages\\statsmodels\\tsa\\base\\tsa_model.py:583: ValueWarning: No supported index is available. Prediction results will be given with an integer index beginning at `start`.\n",
      "  ValueWarning)\n",
      "C:\\Users\\logos\\Anaconda3\\lib\\site-packages\\statsmodels\\tsa\\base\\tsa_model.py:583: ValueWarning: No supported index is available. Prediction results will be given with an integer index beginning at `start`.\n",
      "  ValueWarning)\n"
     ]
    },
    {
     "data": {
      "image/png": "[encoded data removed]",
      "text/plain": [
       "<Figure size 432x288 with 1 Axes>"
      ]
     },
     "metadata": {
      "needs_background": "light"
     },
     "output_type": "display_data"
    }
   ],
   "source": [
    "# compare prediction with truth\n",
    "model_arima.plot_predict(1, len(temp), plot_insample=False)\n",
    "plt.plot(temp.values, label='truth')\n",
    "plt.xticks(np.arange(len(temp)+1), temp.index, rotation=90)\n",
    "plt.legend()\n",
    "plt.show()"
   ]
  },
  {
   "cell_type": "markdown",
   "metadata": {
    "id": "9yATwk6ehyJM"
   },
   "source": [
    "# Use time features and historical price to predict price (Example)"
   ]
  },
  {
   "cell_type": "code",
   "execution_count": null,
   "metadata": {
    "id": "7h_TmdH7hyJM"
   },
   "outputs": [],
   "source": [
    "import numpy as np\n",
    "from sklearn.pipeline import Pipeline\n",
    "from sklearn.preprocessing import MinMaxScaler\n",
    "from sklearn.linear_model import LinearRegression\n",
    "from sklearn.metrics import mean_squared_error, r2_score"
   ]
  },
  {
   "cell_type": "code",
   "execution_count": null,
   "metadata": {
    "id": "tsuRJ9EWhyJM"
   },
   "outputs": [],
   "source": [
    "df['year'] = pd.to_datetime(df.purchase_date).dt.year"
   ]
  },
  {
   "cell_type": "code",
   "execution_count": null,
   "metadata": {
    "id": "1CHWqEklhyJM"
   },
   "outputs": [],
   "source": [
    "train_raw = df[df.year < 2015].reset_index(drop=True)\n",
    "test_raw = df[df.year >= 2015].reset_index(drop=True)"
   ]
  },
  {
   "cell_type": "code",
   "execution_count": null,
   "metadata": {
    "id": "qYDQ0_GVhyJM"
   },
   "outputs": [],
   "source": [
    "class Historical_Transformer(object):\n",
    "    \n",
    "    def fit(self, X, y):\n",
    "        self.datetime = pd.to_datetime(X)\n",
    "        self.year_avg = pd.DataFrame({'year': self.datetime.dt.year, \n",
    "                                      'price': y}).groupby('year').mean()\n",
    "        test = pd.DataFrame({'price': [0, 0, 0]}, index=[2015, 2016, 2017])\n",
    "        self.year_avg = self.year_avg.append(test)\n",
    "        self.year_avg['shift_3'] = self.year_avg.price.shift(3)\n",
    "        self.year_avg['shift_4'] = self.year_avg.price.shift(4)\n",
    "        self.year_avg['shift_5'] = self.year_avg.price.shift(5)\n",
    "        self.year_avg.drop('price', inplace=True, axis=1)\n",
    "        self.year_avg.dropna(inplace=True)\n",
    "        self.year_avg['year'] = self.year_avg.index\n",
    "    \n",
    "    def transform(self, X, y=None):\n",
    "        df = pd.DataFrame()\n",
    "        df['year'] = pd.to_datetime(X).dt.year\n",
    "        df['month'] = pd.to_datetime(X).dt.month\n",
    "        df['weekday'] = pd.to_datetime(X).dt.weekday\n",
    "        df['day'] = pd.to_datetime(X).dt.day\n",
    "        df = df.merge(self.year_avg, how='left', on='year')\n",
    "        if y is None:\n",
    "            return np.array(df)\n",
    "        else:\n",
    "            df['price'] = y\n",
    "            df.dropna(inplace=True)\n",
    "            features = list(df.columns)\n",
    "            target = 'price'\n",
    "            features.remove(target)\n",
    "            return np.array(df[features]), np.array(df[target])\n",
    "    \n",
    "    def fit_transform(self, X, y):\n",
    "        self.fit(X, y)\n",
    "        X = self.transform(X, y)\n",
    "        return X  "
   ]
  },
  {
   "cell_type": "code",
   "execution_count": null,
   "metadata": {
    "id": "fS_jatFshyJM"
   },
   "outputs": [],
   "source": [
    "htf = Historical_Transformer()"
   ]
  },
  {
   "cell_type": "code",
   "execution_count": null,
   "metadata": {
    "id": "qdCBxTBKhyJN"
   },
   "outputs": [],
   "source": [
    "X_train = train_raw.purchase_date\n",
    "y_train = train_raw.price.map(lambda x: float(x.strip('$').replace(',','')))"
   ]
  },
  {
   "cell_type": "code",
   "execution_count": null,
   "metadata": {
    "id": "Kn0LQYxkhyJN"
   },
   "outputs": [],
   "source": [
    "X_train, y_train = htf.fit_transform(X_train, y_train)"
   ]
  },
  {
   "cell_type": "code",
   "execution_count": null,
   "metadata": {
    "id": "rsUgC4QThyJN",
    "outputId": "e105dee1-993a-4d41-d8da-e8f551eb3d7a"
   },
   "outputs": [
    {
     "name": "stdout",
     "output_type": "stream",
     "text": [
      "MSE: 45471752703.38063\n",
      "R2: 0.029897521925833725\n"
     ]
    }
   ],
   "source": [
    "model = Pipeline(steps=[('rescale', MinMaxScaler()),\n",
    "                        ('lr', LinearRegression())])\n",
    "model = model.fit(X_train, y_train)\n",
    "print('MSE:', mean_squared_error(y_train, model.predict(X_train)))\n",
    "print('R2:', r2_score(y_train, model.predict(X_train)))"
   ]
  },
  {
   "cell_type": "code",
   "execution_count": null,
   "metadata": {
    "id": "hGSm9B-DhyJN"
   },
   "outputs": [],
   "source": [
    "X_test = htf.transform(test_raw.purchase_date)\n",
    "y_test = test_raw.price.map(lambda x: float(x.strip('$').replace(',', '')))"
   ]
  },
  {
   "cell_type": "code",
   "execution_count": null,
   "metadata": {
    "id": "30BaXLmahyJN",
    "outputId": "97ddef32-e00d-4947-8705-8fa41ff3f9cf"
   },
   "outputs": [
    {
     "name": "stdout",
     "output_type": "stream",
     "text": [
      "MSE: 86065523759.54526\n",
      "R2 0.0016885676594956545\n"
     ]
    }
   ],
   "source": [
    "print('MSE:', mean_squared_error(y_test, model.predict(X_test)))\n",
    "print('R2', r2_score(y_test, model.predict(X_test)))"
   ]
  },
  {
   "cell_type": "markdown",
   "metadata": {
    "id": "6zVnshzmhyJO"
   },
   "source": [
    "##### sklearn pipeline not supporting transformer changing sample size, do it out of the pipeline"
   ]
  },
  {
   "cell_type": "markdown",
   "metadata": {
    "id": "3F-qMMgchyJO"
   },
   "source": [
    "# you can use TimeSeriesSplit to split the train/test and do cross_validation"
   ]
  },
  {
   "cell_type": "code",
   "execution_count": null,
   "metadata": {
    "id": "e2IzFAJJhyJO"
   },
   "outputs": [],
   "source": [
    "from sklearn.model_selection import TimeSeriesSplit\n",
    "tscv = TimeSeriesSplit()"
   ]
  },
  {
   "cell_type": "code",
   "execution_count": null,
   "metadata": {
    "id": "L3Un9jyOhyJO",
    "outputId": "b71580e8-2255-4586-ca54-d4d8007edfd5"
   },
   "outputs": [
    {
     "data": {
      "text/html": [
       "<div>\n",
       "<style scoped>\n",
       "    .dataframe tbody tr th:only-of-type {\n",
       "        vertical-align: middle;\n",
       "    }\n",
       "\n",
       "    .dataframe tbody tr th {\n",
       "        vertical-align: top;\n",
       "    }\n",
       "\n",
       "    .dataframe thead th {\n",
       "        text-align: right;\n",
       "    }\n",
       "</style>\n",
       "<table border=\"1\" class=\"dataframe\">\n",
       "  <thead>\n",
       "    <tr style=\"text-align: right;\">\n",
       "      <th></th>\n",
       "      <th>price year-3</th>\n",
       "      <th>price year-2</th>\n",
       "      <th>price year-1</th>\n",
       "      <th>price</th>\n",
       "    </tr>\n",
       "    <tr>\n",
       "      <th>year</th>\n",
       "      <th></th>\n",
       "      <th></th>\n",
       "      <th></th>\n",
       "      <th></th>\n",
       "    </tr>\n",
       "  </thead>\n",
       "  <tbody>\n",
       "    <tr>\n",
       "      <th>1999</th>\n",
       "      <td>92974.589744</td>\n",
       "      <td>119849.041667</td>\n",
       "      <td>143776.348993</td>\n",
       "      <td>142815.307143</td>\n",
       "    </tr>\n",
       "    <tr>\n",
       "      <th>2000</th>\n",
       "      <td>119849.041667</td>\n",
       "      <td>143776.348993</td>\n",
       "      <td>142815.307143</td>\n",
       "      <td>151443.718310</td>\n",
       "    </tr>\n",
       "    <tr>\n",
       "      <th>2001</th>\n",
       "      <td>143776.348993</td>\n",
       "      <td>142815.307143</td>\n",
       "      <td>151443.718310</td>\n",
       "      <td>161605.382979</td>\n",
       "    </tr>\n",
       "    <tr>\n",
       "      <th>2002</th>\n",
       "      <td>142815.307143</td>\n",
       "      <td>151443.718310</td>\n",
       "      <td>161605.382979</td>\n",
       "      <td>180232.475177</td>\n",
       "    </tr>\n",
       "    <tr>\n",
       "      <th>2003</th>\n",
       "      <td>151443.718310</td>\n",
       "      <td>161605.382979</td>\n",
       "      <td>180232.475177</td>\n",
       "      <td>173716.346667</td>\n",
       "    </tr>\n",
       "  </tbody>\n",
       "</table>\n",
       "</div>"
      ],
      "text/plain": [
       "       price year-3   price year-2   price year-1          price\n",
       "year                                                            \n",
       "1999   92974.589744  119849.041667  143776.348993  142815.307143\n",
       "2000  119849.041667  143776.348993  142815.307143  151443.718310\n",
       "2001  143776.348993  142815.307143  151443.718310  161605.382979\n",
       "2002  142815.307143  151443.718310  161605.382979  180232.475177\n",
       "2003  151443.718310  161605.382979  180232.475177  173716.346667"
      ]
     },
     "execution_count": 68,
     "metadata": {},
     "output_type": "execute_result"
    }
   ],
   "source": [
    "lr_df.head()"
   ]
  },
  {
   "cell_type": "code",
   "execution_count": null,
   "metadata": {
    "id": "WOQWIktahyJO",
    "outputId": "230d2e82-5d37-4afc-d4c9-a04640637b29"
   },
   "outputs": [
    {
     "name": "stdout",
     "output_type": "stream",
     "text": [
      "TRAIN: [0 1 2 3] TEST: [4 5 6]\n",
      "TRAIN: [0 1 2 3 4 5 6] TEST: [7 8 9]\n",
      "TRAIN: [0 1 2 3 4 5 6 7 8 9] TEST: [10 11 12]\n",
      "TRAIN: [ 0  1  2  3  4  5  6  7  8  9 10 11 12] TEST: [13 14 15]\n",
      "TRAIN: [ 0  1  2  3  4  5  6  7  8  9 10 11 12 13 14 15] TEST: [16 17 18]\n"
     ]
    }
   ],
   "source": [
    "#hyper parameter tuning\n",
    "for train_index, test_index in tscv.split(lr_df):\n",
    "    print(\"TRAIN:\", train_index, \"TEST:\", test_index)\n",
    "    X_train, X_test = lr_df.iloc[train_index,1:4], lr_df.iloc[test_index,1:4]\n",
    "    y_train, y_test = lr_df.iloc[train_index,0], lr_df.iloc[test_index,0]\n",
    "    model = LinearRegression().fit(X_train, y_train)\n",
    "#take average model performance metric"
   ]
  },
  {
   "cell_type": "code",
   "execution_count": null,
   "metadata": {
    "id": "Zavh9cJHhyJO"
   },
   "outputs": [],
   "source": []
  }
 ],
 "metadata": {
  "colab": {
   "name": "12_time_series_updated.ipynb",
   "provenance": []
  },
  "kernelspec": {
   "display_name": "Python 3 (ipykernel)",
   "language": "python",
   "name": "python3"
  },
  "language_info": {
   "codemirror_mode": {
    "name": "ipython",
    "version": 3
   },
   "file_extension": ".py",
   "mimetype": "text/x-python",
   "name": "python",
   "nbconvert_exporter": "python",
   "pygments_lexer": "ipython3",
   "version": "3.8.15"
  },
  "toc": {
   "base_numbering": 1,
   "nav_menu": {},
   "number_sections": true,
   "sideBar": true,
   "skip_h1_title": false,
   "title_cell": "Table of Contents",
   "title_sidebar": "Contents",
   "toc_cell": false,
   "toc_position": {},
   "toc_section_display": true,
   "toc_window_display": false
  }
 },
 "nbformat": 4,
 "nbformat_minor": 1
}

{
 "cells": [
  {
   "cell_type": "code",
   "execution_count": 1,
   "metadata": {
    "id": "BktKealIAEEF"
   },
   "outputs": [],
   "source": [
    "import pandas as pd"
   ]
  },
  {
   "cell_type": "code",
   "execution_count": 2,
   "metadata": {
    "id": "pS_hgbwoAEEM"
   },
   "outputs": [],
   "source": [
    "# df = pd.read_csv('../data/sales.csv')\n",
    "df = pd.read_csv('sales.csv')"
   ]
  },
  {
   "cell_type": "code",
   "execution_count": 3,
   "metadata": {
    "id": "z3AHKFZQAEEO"
   },
   "outputs": [],
   "source": [
    "df.dropna(subset=['price'], inplace=True)"
   ]
  },
  {
   "cell_type": "code",
   "execution_count": 4,
   "metadata": {
    "id": "zInmH7RcAEEP",
    "outputId": "53e295de-3223-45ef-c643-2fa81ba35832"
   },
   "outputs": [
    {
     "data": {
      "text/html": [
       "<div>\n",
       "<style scoped>\n",
       "    .dataframe tbody tr th:only-of-type {\n",
       "        vertical-align: middle;\n",
       "    }\n",
       "\n",
       "    .dataframe tbody tr th {\n",
       "        vertical-align: top;\n",
       "    }\n",
       "\n",
       "    .dataframe thead th {\n",
       "        text-align: right;\n",
       "    }\n",
       "</style>\n",
       "<table border=\"1\" class=\"dataframe\">\n",
       "  <thead>\n",
       "    <tr style=\"text-align: right;\">\n",
       "      <th></th>\n",
       "      <th>cost</th>\n",
       "      <th>price</th>\n",
       "      <th>weight</th>\n",
       "      <th>purchase_date</th>\n",
       "      <th>product_type</th>\n",
       "      <th>product_level</th>\n",
       "      <th>maker</th>\n",
       "      <th>ingredient</th>\n",
       "      <th>height</th>\n",
       "      <th>width</th>\n",
       "      <th>depth</th>\n",
       "    </tr>\n",
       "  </thead>\n",
       "  <tbody>\n",
       "    <tr>\n",
       "      <th>0</th>\n",
       "      <td>$333k</td>\n",
       "      <td>$300,492</td>\n",
       "      <td>3 Ton 90 Kg</td>\n",
       "      <td>Dec 19 2008</td>\n",
       "      <td>Q,B</td>\n",
       "      <td>advanced</td>\n",
       "      <td>M14122</td>\n",
       "      <td>IN732052,IN732053</td>\n",
       "      <td>2.76 meters</td>\n",
       "      <td>97 cm</td>\n",
       "      <td>26 cm</td>\n",
       "    </tr>\n",
       "    <tr>\n",
       "      <th>1</th>\n",
       "      <td>NaN</td>\n",
       "      <td>$430,570</td>\n",
       "      <td>3 Ton 30 Kg</td>\n",
       "      <td>Sep 10 1997</td>\n",
       "      <td>J,D</td>\n",
       "      <td>basic</td>\n",
       "      <td>NaN</td>\n",
       "      <td>IN732054,IN732055,IN732056,IN732057,IN732058</td>\n",
       "      <td>2.67 meters</td>\n",
       "      <td>98 cm</td>\n",
       "      <td>26 cm</td>\n",
       "    </tr>\n",
       "    <tr>\n",
       "      <th>2</th>\n",
       "      <td>$270k</td>\n",
       "      <td>$213,070</td>\n",
       "      <td>3 Ton 40 Kg</td>\n",
       "      <td>Sep 05 2001</td>\n",
       "      <td>J,D</td>\n",
       "      <td>basic</td>\n",
       "      <td>NaN</td>\n",
       "      <td>IN732054,IN732059,IN732060</td>\n",
       "      <td>3.0 meters</td>\n",
       "      <td>93 cm</td>\n",
       "      <td>24 cm</td>\n",
       "    </tr>\n",
       "    <tr>\n",
       "      <th>3</th>\n",
       "      <td>NaN</td>\n",
       "      <td>$229,174</td>\n",
       "      <td>3 Ton 50 Kg</td>\n",
       "      <td>Dec 23 2016</td>\n",
       "      <td>U</td>\n",
       "      <td>advanced</td>\n",
       "      <td>M14123</td>\n",
       "      <td>IN732061,IN732062,IN732063</td>\n",
       "      <td>2.5 meters</td>\n",
       "      <td>102 cm</td>\n",
       "      <td>27 cm</td>\n",
       "    </tr>\n",
       "    <tr>\n",
       "      <th>4</th>\n",
       "      <td>$97k</td>\n",
       "      <td>$122,659</td>\n",
       "      <td>2 Ton 970 Kg</td>\n",
       "      <td>Jan 12 2000</td>\n",
       "      <td>D,R</td>\n",
       "      <td>advanced</td>\n",
       "      <td>NaN</td>\n",
       "      <td>IN732064,IN732065,IN732066</td>\n",
       "      <td>2.47 meters</td>\n",
       "      <td>101 cm</td>\n",
       "      <td>26 cm</td>\n",
       "    </tr>\n",
       "  </tbody>\n",
       "</table>\n",
       "</div>"
      ],
      "text/plain": [
       "    cost     price        weight purchase_date product_type product_level  \\\n",
       "0  $333k  $300,492   3 Ton 90 Kg   Dec 19 2008          Q,B      advanced   \n",
       "1    NaN  $430,570   3 Ton 30 Kg   Sep 10 1997          J,D         basic   \n",
       "2  $270k  $213,070   3 Ton 40 Kg   Sep 05 2001          J,D         basic   \n",
       "3    NaN  $229,174   3 Ton 50 Kg   Dec 23 2016            U      advanced   \n",
       "4   $97k  $122,659  2 Ton 970 Kg   Jan 12 2000          D,R      advanced   \n",
       "\n",
       "    maker                                    ingredient       height   width  \\\n",
       "0  M14122                             IN732052,IN732053  2.76 meters   97 cm   \n",
       "1     NaN  IN732054,IN732055,IN732056,IN732057,IN732058  2.67 meters   98 cm   \n",
       "2     NaN                    IN732054,IN732059,IN732060   3.0 meters   93 cm   \n",
       "3  M14123                    IN732061,IN732062,IN732063   2.5 meters  102 cm   \n",
       "4     NaN                    IN732064,IN732065,IN732066  2.47 meters  101 cm   \n",
       "\n",
       "   depth  \n",
       "0  26 cm  \n",
       "1  26 cm  \n",
       "2  24 cm  \n",
       "3  27 cm  \n",
       "4  26 cm  "
      ]
     },
     "execution_count": 4,
     "metadata": {},
     "output_type": "execute_result"
    }
   ],
   "source": [
    "df.head()"
   ]
  },
  {
   "cell_type": "code",
   "execution_count": 5,
   "metadata": {
    "id": "KdQJH-X4AEES"
   },
   "outputs": [],
   "source": [
    "df['year'] = pd.to_datetime(df.purchase_date).dt.year\n",
    "\n",
    "train_raw = df[df.year < 2015]\n",
    "test_raw = df[df.year >= 2015]"
   ]
  },
  {
   "cell_type": "markdown",
   "metadata": {
    "id": "7g_K4kYgAEET"
   },
   "source": [
    "# 1. Data Transformation"
   ]
  },
  {
   "cell_type": "markdown",
   "metadata": {
    "id": "q78RU8fJAEEX"
   },
   "source": [
    "<font color='red'>Assignment:</font> Build a transformer class to extract numerical features (**cost**, **weight**, **height**, **width**, and **depth**) and replace the missing values with the averages in train_raw."
   ]
  },
  {
   "cell_type": "code",
   "execution_count": 6,
   "metadata": {
    "id": "t6elvIoRAEEZ"
   },
   "outputs": [],
   "source": [
    "'''Transformer class to extract numerical features'''\n",
    "\n",
    "class Transformer():\n",
    "    \n",
    "    def fit(self, X, y=None):\n",
    "        df = pd.DataFrame()\n",
    "        df[\"cost\"] = X[\"cost\"].map(self.cost2num)\n",
    "        df[\"weight\"] = X[\"weight\"].map(self.weight2num)\n",
    "        df[\"height\"] = X[\"height\"].map(self.dim2num)\n",
    "        df[\"width\"] = X[\"width\"].map(self.dim2num)\n",
    "        df[\"depth\"] = X[\"depth\"].map(self.dim2num)\n",
    "        self.mean = df.mean()\n",
    "        \n",
    "    def transform(self, X, y=None):\n",
    "        df = pd.DataFrame()\n",
    "        df[\"cost\"] = X[\"cost\"].map(self.cost2num)\n",
    "        df[\"weight\"] = X[\"weight\"].map(self.weight2num)\n",
    "        df[\"height\"] = X[\"height\"].map(self.dim2num)\n",
    "        df[\"width\"] = X[\"width\"].map(self.dim2num)\n",
    "        df[\"depth\"] = X[\"depth\"].map(self.dim2num)\n",
    "        return df.fillna(self.mean)\n",
    "        \n",
    "    def fit_transform(self, X, y=None):\n",
    "        self.fit(X, y)\n",
    "        return self.transform(X, y)\n",
    "    \n",
    "    def cost2num(self, x):\n",
    "        if isinstance(x, str):\n",
    "            x = x.strip(\"$\").strip(\"k\")\n",
    "        return float(x) * 1000\n",
    "    \n",
    "    def weight2num(self, x):\n",
    "        if isinstance(x, str):\n",
    "            x = x.strip(\" Kg\").replace(\" Ton \", \" \").split()\n",
    "            return float(x[0]) * 1000 + float(x[1])\n",
    "        return float(x)\n",
    "    \n",
    "    def dim2num(self, x):\n",
    "        if isinstance(x, str):\n",
    "            x = x.strip(\" meters\").strip(\" cm\")\n",
    "        return float(x)\n",
    "    "
   ]
  },
  {
   "cell_type": "markdown",
   "metadata": {
    "id": "qBugy6xvAEEc"
   },
   "source": [
    "<font color='red'>Assignment:</font> Wrap up the numerical transformer and MinMaxScaler as a pipeline for data transformation.  \n",
    "**Note:** we don't need linear regression at this time."
   ]
  },
  {
   "cell_type": "code",
   "execution_count": 7,
   "metadata": {
    "id": "-pg1evh5AEEd"
   },
   "outputs": [],
   "source": [
    "from sklearn.preprocessing import MinMaxScaler\n",
    "from sklearn.pipeline import Pipeline\n",
    "\n",
    "steps = [(\"ctf\", Transformer()), \n",
    "         (\"rescale\", MinMaxScaler())]\n",
    "\n",
    "model = Pipeline(steps)"
   ]
  },
  {
   "cell_type": "markdown",
   "metadata": {
    "id": "1OEToLJKAEEe"
   },
   "source": [
    "<font color='red'>Assignment:</font> Transform **train_raw** and assign the output to a variable **X_train**."
   ]
  },
  {
   "cell_type": "code",
   "execution_count": 8,
   "metadata": {
    "id": "_5ipCghOAEEf",
    "outputId": "812b2e00-27d6-4e0a-ddb0-896b2cc3bfaa",
    "scrolled": true
   },
   "outputs": [
    {
     "data": {
      "text/plain": [
       "array([[0.35031847, 0.30872483, 0.58888889, 0.30434783, 0.33333333],\n",
       "       [0.17323162, 0.26845638, 0.53888889, 0.32608696, 0.33333333],\n",
       "       [0.28343949, 0.27516779, 0.72222222, 0.2173913 , 0.16666667],\n",
       "       ...,\n",
       "       [0.17323162, 0.13422819, 0.25      , 0.5       , 0.5       ],\n",
       "       [0.04352442, 0.2147651 , 0.45555556, 0.36956522, 0.33333333],\n",
       "       [0.13269639, 0.23489933, 0.7       , 0.19565217, 0.16666667]])"
      ]
     },
     "execution_count": 8,
     "metadata": {},
     "output_type": "execute_result"
    }
   ],
   "source": [
    "'''Assign X_train'''\n",
    "\n",
    "X_train = model.fit_transform(train_raw)\n",
    "X_train"
   ]
  },
  {
   "cell_type": "markdown",
   "metadata": {
    "id": "tv9azkYKAEEg"
   },
   "source": [
    "**Example:** import PCA from sklearn."
   ]
  },
  {
   "cell_type": "code",
   "execution_count": 9,
   "metadata": {
    "id": "zPwc7ksKAEEg"
   },
   "outputs": [],
   "source": [
    "from sklearn.decomposition import PCA"
   ]
  },
  {
   "cell_type": "markdown",
   "metadata": {
    "id": "YfGTILimAEEh"
   },
   "source": [
    "<font color='red'>Question:</font> What is PCA?"
   ]
  },
  {
   "cell_type": "markdown",
   "metadata": {
    "id": "VfD2QLUIAEEi"
   },
   "source": [
    "**ANS:**\n",
    "<br>PCA is a statistical procedure that uses an orthogonal transfomration which converts a set of correlated variabals to a set of uncorrelated variables."
   ]
  },
  {
   "cell_type": "markdown",
   "metadata": {
    "id": "lvy7MBYwAEEi"
   },
   "source": [
    "<font color='red'>Assignment:</font> Transform **X_train** using **PCA**. Assign the output to a variable **X_train_pca**."
   ]
  },
  {
   "cell_type": "code",
   "execution_count": 10,
   "metadata": {
    "id": "TjbQdNhAAEEj",
    "outputId": "bab58e0c-bc72-42ba-8791-d62f33511837"
   },
   "outputs": [
    {
     "data": {
      "text/plain": [
       "array([[-0.07753272,  0.13375021,  0.1241135 ,  0.03158385, -0.01474293],\n",
       "       [-0.04446052, -0.01610647,  0.01391936,  0.01654666, -0.00889212],\n",
       "       [-0.30553848,  0.08810955,  0.08349599, -0.01402625,  0.01552426],\n",
       "       ...,\n",
       "       [ 0.30699703, -0.17310172,  0.11872353,  0.02157023,  0.00895305],\n",
       "       [ 0.02121666, -0.1560476 , -0.04567689, -0.01470167,  0.00189363],\n",
       "       [-0.31249657, -0.04096333, -0.00775299, -0.00542039,  0.0012839 ]])"
      ]
     },
     "execution_count": 10,
     "metadata": {},
     "output_type": "execute_result"
    }
   ],
   "source": [
    "'''Perform PCA on X_train'''\n",
    "\n",
    "pca = PCA()\n",
    "X_train_pca = pca.fit_transform(X_train)\n",
    "X_train_pca\n"
   ]
  },
  {
   "cell_type": "markdown",
   "metadata": {
    "id": "ZVRnDSGrAEEk"
   },
   "source": [
    "# 2. Variance"
   ]
  },
  {
   "cell_type": "markdown",
   "metadata": {
    "id": "gMp0J8hsAEEk"
   },
   "source": [
    "<font color='red'>Assignment:</font> Plot **explained_variance_ratio_** in a bar chart."
   ]
  },
  {
   "cell_type": "code",
   "execution_count": 11,
   "metadata": {
    "id": "VvjF4o9uAEEl",
    "outputId": "691d55b6-1a70-4737-a132-e0eacdd2b439"
   },
   "outputs": [
    {
     "data": {
      "text/plain": [
       "<BarContainer object of 5 artists>"
      ]
     },
     "execution_count": 11,
     "metadata": {},
     "output_type": "execute_result"
    },
    {
     "data": {
      "image/png": "[encoded data removed]",
      "text/plain": [
       "<Figure size 432x288 with 1 Axes>"
      ]
     },
     "metadata": {
      "needs_background": "light"
     },
     "output_type": "display_data"
    }
   ],
   "source": [
    "import matplotlib.pylab as plt\n",
    "%matplotlib inline\n",
    "\n",
    "x = [i for i in range(1, pca.n_components_ + 1)]\n",
    "y = pca.explained_variance_ratio_\n",
    "plt.bar(x, y)"
   ]
  },
  {
   "cell_type": "markdown",
   "metadata": {
    "id": "FEosCLZQAEEl"
   },
   "source": [
    "##### <font color='red'>Question:</font> why the following result?"
   ]
  },
  {
   "cell_type": "markdown",
   "metadata": {
    "id": "rcK7Ch82AEEl"
   },
   "source": [
    "<font color='red'>Question:</font> How principal components are ranked?"
   ]
  },
  {
   "cell_type": "markdown",
   "metadata": {
    "id": "w4nrFXPKAEEm"
   },
   "source": [
    "**ANS:**\n",
    "<br>Principle components are ranked by their singular value or explained variance from high to low."
   ]
  },
  {
   "cell_type": "markdown",
   "metadata": {
    "id": "NN71xMnpAEEm"
   },
   "source": [
    "<font color='red'>Question:</font> What percentage of variance is kept in the first principle component?"
   ]
  },
  {
   "cell_type": "markdown",
   "metadata": {
    "id": "pgSsW8rSAEEn"
   },
   "source": [
    "**ANS:**\n",
    "<br>58.77%"
   ]
  },
  {
   "cell_type": "markdown",
   "metadata": {
    "id": "8VMdsGmQAEEn"
   },
   "source": [
    "<font color='red'>Question:</font> How do the original features contribute to the first principle component?"
   ]
  },
  {
   "cell_type": "code",
   "execution_count": 12,
   "metadata": {
    "id": "v4LlP35lAEEn",
    "outputId": "289ac433-589f-4f4e-b163-6366d0014223"
   },
   "outputs": [
    {
     "name": "stdout",
     "output_type": "stream",
     "text": [
      "Feature contribution to the first principle component\n",
      "cost: 0.03\n",
      "weight: 0.11\n",
      "height: -0.63\n",
      "width: 0.54\n",
      "depth: 0.55\n"
     ]
    }
   ],
   "source": [
    "pc1 = pca.components_[0]\n",
    "features = [\"cost\", \"weight\", \"height\", \"width\", \"depth\"]\n",
    "print(\"Feature contribution to the first principle component\")\n",
    "for idx in range(len(pc1)):\n",
    "    print(\"{0}: {1:.2f}\".format(features[idx], pc1[idx]))"
   ]
  },
  {
   "cell_type": "markdown",
   "metadata": {
    "id": "UyyOnfPoAEEo"
   },
   "source": [
    "##### <font color = 'blue'> Is there some mistakes here? Weight is supposed to contribute more than the dimensions... </font>"
   ]
  },
  {
   "cell_type": "markdown",
   "metadata": {
    "id": "4RmBq18YAEEo"
   },
   "source": [
    "<font color='red'>Question:</font> What is the relationship between the principal components and original features? Is PCA a linear function?"
   ]
  },
  {
   "cell_type": "markdown",
   "metadata": {
    "id": "uCx7kOHvAEEo"
   },
   "source": [
    "**ANS:**\n",
    "<br>Each priciple component is a linear combination of the original features."
   ]
  },
  {
   "cell_type": "markdown",
   "metadata": {
    "id": "ij-GYPFVAEEp"
   },
   "source": [
    "<font color='red'>Assignment:</font> Plot the Variance versus the number of chosen principle components."
   ]
  },
  {
   "cell_type": "code",
   "execution_count": 13,
   "metadata": {
    "colab": {
     "base_uri": "https://localhost:8080/",
     "height": 217
    },
    "executionInfo": {
     "elapsed": 218,
     "status": "error",
     "timestamp": 1652539909884,
     "user": {
      "displayName": "Michael zhang",
      "userId": "03005446934086017333"
     },
     "user_tz": 300
    },
    "id": "kICW_oQaAEEp",
    "outputId": "6a981df7-0080-40fd-a894-d1c5e9f08778"
   },
   "outputs": [
    {
     "data": {
      "text/plain": [
       "<BarContainer object of 5 artists>"
      ]
     },
     "execution_count": 13,
     "metadata": {},
     "output_type": "execute_result"
    },
    {
     "data": {
      "image/png": "[encoded data removed]",
      "text/plain": [
       "<Figure size 432x288 with 1 Axes>"
      ]
     },
     "metadata": {
      "needs_background": "light"
     },
     "output_type": "display_data"
    }
   ],
   "source": [
    "variance = pca.explained_variance_\n",
    "num = [i+1 for i in range(len(variance))]\n",
    "y = [sum(variance[:i+1]) for i in range(len(variance))]\n",
    "plt.bar(num, y)"
   ]
  },
  {
   "cell_type": "markdown",
   "metadata": {
    "id": "5Bz2raKLAEEp"
   },
   "source": [
    "<font color='red'>Question:</font> How many principle components would you like to keep?"
   ]
  },
  {
   "cell_type": "markdown",
   "metadata": {
    "id": "w3vsYtL1AEEq"
   },
   "source": [
    "**ANS:**\n",
    "<br>3 principle components"
   ]
  },
  {
   "cell_type": "markdown",
   "metadata": {
    "id": "Kk7kbIWZAEEq"
   },
   "source": [
    "bold text##### <font color='red'>Elbow method</font>"
   ]
  },
  {
   "cell_type": "markdown",
   "metadata": {
    "id": "2cTJuzLbAEEq"
   },
   "source": [
    "# 3. PCA Pipeline"
   ]
  },
  {
   "cell_type": "markdown",
   "metadata": {
    "id": "6FiO0--IAEEq"
   },
   "source": [
    "<font color='red'>Assignment:</font> Build a pipeline to wrap up **Numerical Transformer**, **MinMaxScaler**, **PCA**, and **LinearRegression** to predict **price**. Find the best **n_components** for **PCA**."
   ]
  },
  {
   "cell_type": "code",
   "execution_count": null,
   "metadata": {
    "id": "XELAEi8EAEEr",
    "outputId": "5e54ee44-f316-42c5-f917-f202d734d88c"
   },
   "outputs": [
    {
     "data": {
      "text/plain": [
       "{'pca__n_components': 3}"
      ]
     },
     "execution_count": 19,
     "metadata": {},
     "output_type": "execute_result"
    }
   ],
   "source": [
    "from sklearn.linear_model import LinearRegression\n",
    "from sklearn.model_selection import GridSearchCV\n",
    "from sklearn.metrics import make_scorer, mean_absolute_error, mean_squared_error, r2_score\n",
    "\n",
    "features = list(train_raw.columns)\n",
    "target = \"price\"\n",
    "features.remove(target)\n",
    "\n",
    "def price2num(x):\n",
    "    if isinstance(x, str):\n",
    "        x = x.strip(\"$\").replace(\",\", \"\")\n",
    "    return float(x)\n",
    "\n",
    "X_train = train_raw[features]\n",
    "y_train = train_raw[target].map(price2num)\n",
    "\n",
    "X_test = test_raw[features]\n",
    "y_test = test_raw[target].map(price2num)\n",
    "\n",
    "steps = [(\"ctf\", Transformer()), \n",
    "         (\"scaler\", MinMaxScaler()), \n",
    "         (\"pca\", PCA()),\n",
    "         (\"lr\", LinearRegression())]\n",
    "\n",
    "model = Pipeline(steps)\n",
    "model = model.fit(X_train, y_train)\n",
    "\n",
    "params = {\"pca__n_components\": range(1, 6)}\n",
    "scorer = make_scorer(mean_squared_error, greater_is_better=False)\n",
    "\n",
    "clf = GridSearchCV(model, params, scoring=scorer)\n",
    "clf.fit(X_train, y_train)\n",
    "clf.best_params_"
   ]
  },
  {
   "cell_type": "code",
   "execution_count": null,
   "metadata": {
    "id": "6JPnO7w1AEEr"
   },
   "outputs": [],
   "source": [
    "steps = [(\"ctf\", Transformer()), \n",
    "         (\"scaler\", MinMaxScaler()), \n",
    "         (\"pca\", PCA(n_components=3)),\n",
    "         (\"lr\", LinearRegression())]\n",
    "\n",
    "model = Pipeline(steps)\n",
    "model = model.fit(X_train, y_train)"
   ]
  },
  {
   "cell_type": "code",
   "execution_count": null,
   "metadata": {
    "id": "yu4VVNrBAEEs",
    "outputId": "93f8d066-a85d-4e70-8da5-39507575fd0f"
   },
   "outputs": [
    {
     "data": {
      "text/plain": [
       "<matplotlib.collections.PathCollection at 0x1a2b02ac5c8>"
      ]
     },
     "execution_count": 21,
     "metadata": {},
     "output_type": "execute_result"
    },
    {
     "data": {
      "image/png": "[encoded data removed]",
      "text/plain": [
       "<Figure size 432x288 with 1 Axes>"
      ]
     },
     "metadata": {
      "needs_background": "light"
     },
     "output_type": "display_data"
    }
   ],
   "source": [
    "'''Train'''\n",
    "\n",
    "y_train_pred = model.predict(X_train)\n",
    "plt.scatter(y_train, y_train_pred, alpha=0.3)"
   ]
  },
  {
   "cell_type": "code",
   "execution_count": null,
   "metadata": {
    "id": "vicpVasBAEEs",
    "outputId": "e47ab9ca-9f7c-495a-f635-7d58996def5b"
   },
   "outputs": [
    {
     "name": "stdout",
     "output_type": "stream",
     "text": [
      "train MAE: 1.14e+05\n",
      "train MSE: 2.87e+10\n",
      "train R2: 0.326\n"
     ]
    }
   ],
   "source": [
    "print('train MAE: {0:.2e}'.format(mean_absolute_error(y_train, y_train_pred)))\n",
    "print('train MSE: {0:.2e}'.format(mean_squared_error(y_train, y_train_pred)))\n",
    "print('train R2: {0:.3f}'.format(r2_score(y_train, y_train_pred)))"
   ]
  },
  {
   "cell_type": "code",
   "execution_count": null,
   "metadata": {
    "id": "f2xsA6noAEEt",
    "outputId": "1c81bb78-7a89-47c0-e525-9a6a195424d9"
   },
   "outputs": [
    {
     "data": {
      "text/plain": [
       "<matplotlib.collections.PathCollection at 0x1a2b030a7c8>"
      ]
     },
     "execution_count": 23,
     "metadata": {},
     "output_type": "execute_result"
    },
    {
     "data": {
      "image/png": "[encoded data removed]",
      "text/plain": [
       "<Figure size 432x288 with 1 Axes>"
      ]
     },
     "metadata": {
      "needs_background": "light"
     },
     "output_type": "display_data"
    }
   ],
   "source": [
    "'''Test'''\n",
    "\n",
    "y_test_pred = model.predict(X_test)\n",
    "plt.scatter(y_test, y_test_pred, alpha=0.3)"
   ]
  },
  {
   "cell_type": "code",
   "execution_count": null,
   "metadata": {
    "id": "_ynB4FYiAEEt",
    "outputId": "ae2f4e9a-04ff-4798-fc3c-32b9e75342f3"
   },
   "outputs": [
    {
     "name": "stdout",
     "output_type": "stream",
     "text": [
      "test MAE: 1.43e+05\n",
      "test MSE: 5.58e+10\n",
      "test R2: 0.352\n"
     ]
    }
   ],
   "source": [
    "print('test MAE: {0:.2e}'.format(mean_absolute_error(y_test, y_test_pred)))\n",
    "print('test MSE: {0:.2e}'.format(mean_squared_error(y_test, y_test_pred)))\n",
    "print('test R2: {0:.3f}'.format(r2_score(y_test, y_test_pred)))"
   ]
  },
  {
   "cell_type": "markdown",
   "metadata": {
    "id": "RJRXm_zYAEEu"
   },
   "source": [
    "<font color='red'>Question:</font> What is the difference between PCA and SVD?"
   ]
  },
  {
   "cell_type": "markdown",
   "metadata": {
    "id": "xv24peY1AEEu"
   },
   "source": [
    "**ANS:**\n",
    "<br>PCA first calculates the covariance matrix and then do eigen-decomposition, while SVD directly do singular value decomposition of the centered data matrix.\n",
    "<br>PCA is faster but less accurate, while SVD is slower but mathematically more precise."
   ]
  },
  {
   "cell_type": "markdown",
   "metadata": {
    "id": "NAQzkQgWAEEu"
   },
   "source": [
    "##### <font color='red'>Question:</font> why in some cases the model performance drops after picking top PCs?"
   ]
  }
 ],
 "metadata": {
  "colab": {
   "collapsed_sections": [],
   "name": "10_pca_updated.ipynb",
   "provenance": []
  },
  "kernelspec": {
   "display_name": "Python 3 (ipykernel)",
   "language": "python",
   "name": "python3"
  },
  "language_info": {
   "codemirror_mode": {
    "name": "ipython",
    "version": 3
   },
   "file_extension": ".py",
   "mimetype": "text/x-python",
   "name": "python",
   "nbconvert_exporter": "python",
   "pygments_lexer": "ipython3",
   "version": "3.9.12"
  },
  "toc": {
   "base_numbering": 1,
   "nav_menu": {},
   "number_sections": true,
   "sideBar": true,
   "skip_h1_title": false,
   "title_cell": "Table of Contents",
   "title_sidebar": "Contents",
   "toc_cell": false,
   "toc_position": {},
   "toc_section_display": true,
   "toc_window_display": false
  }
 },
 "nbformat": 4,
 "nbformat_minor": 1
}

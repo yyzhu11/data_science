{
 "cells": [
  {
   "cell_type": "code",
   "execution_count": 1,
   "metadata": {
    "id": "k33G1s8e4mNH"
   },
   "outputs": [],
   "source": [
    "import pandas as pd"
   ]
  },
  {
   "cell_type": "code",
   "execution_count": 2,
   "metadata": {
    "id": "wWCV_ono4mNV"
   },
   "outputs": [],
   "source": [
    "#df = pd.read_csv('../data/sales.csv')\n",
    "df = pd.read_csv('sales.csv')"
   ]
  },
  {
   "cell_type": "code",
   "execution_count": 3,
   "metadata": {
    "id": "yI5sfDCG4mNW",
    "outputId": "00514ddf-46cf-4101-ebe9-5ded8fa2e04b"
   },
   "outputs": [
    {
     "data": {
      "text/html": [
       "<div>\n",
       "<style scoped>\n",
       "    .dataframe tbody tr th:only-of-type {\n",
       "        vertical-align: middle;\n",
       "    }\n",
       "\n",
       "    .dataframe tbody tr th {\n",
       "        vertical-align: top;\n",
       "    }\n",
       "\n",
       "    .dataframe thead th {\n",
       "        text-align: right;\n",
       "    }\n",
       "</style>\n",
       "<table border=\"1\" class=\"dataframe\">\n",
       "  <thead>\n",
       "    <tr style=\"text-align: right;\">\n",
       "      <th></th>\n",
       "      <th>cost</th>\n",
       "      <th>price</th>\n",
       "      <th>weight</th>\n",
       "      <th>purchase_date</th>\n",
       "      <th>product_type</th>\n",
       "      <th>product_level</th>\n",
       "      <th>maker</th>\n",
       "      <th>ingredient</th>\n",
       "      <th>height</th>\n",
       "      <th>width</th>\n",
       "      <th>depth</th>\n",
       "    </tr>\n",
       "  </thead>\n",
       "  <tbody>\n",
       "    <tr>\n",
       "      <th>0</th>\n",
       "      <td>$333k</td>\n",
       "      <td>$300,492</td>\n",
       "      <td>3 Ton 90 Kg</td>\n",
       "      <td>Dec 19 2008</td>\n",
       "      <td>Q,B</td>\n",
       "      <td>advanced</td>\n",
       "      <td>M14122</td>\n",
       "      <td>IN732052,IN732053</td>\n",
       "      <td>2.76 meters</td>\n",
       "      <td>97 cm</td>\n",
       "      <td>26 cm</td>\n",
       "    </tr>\n",
       "    <tr>\n",
       "      <th>1</th>\n",
       "      <td>NaN</td>\n",
       "      <td>$430,570</td>\n",
       "      <td>3 Ton 30 Kg</td>\n",
       "      <td>Sep 10 1997</td>\n",
       "      <td>J,D</td>\n",
       "      <td>basic</td>\n",
       "      <td>NaN</td>\n",
       "      <td>IN732054,IN732055,IN732056,IN732057,IN732058</td>\n",
       "      <td>2.67 meters</td>\n",
       "      <td>98 cm</td>\n",
       "      <td>26 cm</td>\n",
       "    </tr>\n",
       "    <tr>\n",
       "      <th>2</th>\n",
       "      <td>$270k</td>\n",
       "      <td>$213,070</td>\n",
       "      <td>3 Ton 40 Kg</td>\n",
       "      <td>Sep 05 2001</td>\n",
       "      <td>J,D</td>\n",
       "      <td>basic</td>\n",
       "      <td>NaN</td>\n",
       "      <td>IN732054,IN732059,IN732060</td>\n",
       "      <td>3.0 meters</td>\n",
       "      <td>93 cm</td>\n",
       "      <td>24 cm</td>\n",
       "    </tr>\n",
       "    <tr>\n",
       "      <th>3</th>\n",
       "      <td>NaN</td>\n",
       "      <td>$229,174</td>\n",
       "      <td>3 Ton 50 Kg</td>\n",
       "      <td>Dec 23 2016</td>\n",
       "      <td>U</td>\n",
       "      <td>advanced</td>\n",
       "      <td>M14123</td>\n",
       "      <td>IN732061,IN732062,IN732063</td>\n",
       "      <td>2.5 meters</td>\n",
       "      <td>102 cm</td>\n",
       "      <td>27 cm</td>\n",
       "    </tr>\n",
       "    <tr>\n",
       "      <th>4</th>\n",
       "      <td>$97k</td>\n",
       "      <td>$122,659</td>\n",
       "      <td>2 Ton 970 Kg</td>\n",
       "      <td>Jan 12 2000</td>\n",
       "      <td>D,R</td>\n",
       "      <td>advanced</td>\n",
       "      <td>NaN</td>\n",
       "      <td>IN732064,IN732065,IN732066</td>\n",
       "      <td>2.47 meters</td>\n",
       "      <td>101 cm</td>\n",
       "      <td>26 cm</td>\n",
       "    </tr>\n",
       "  </tbody>\n",
       "</table>\n",
       "</div>"
      ],
      "text/plain": [
       "    cost     price        weight purchase_date product_type product_level  \\\n",
       "0  $333k  $300,492   3 Ton 90 Kg   Dec 19 2008          Q,B      advanced   \n",
       "1    NaN  $430,570   3 Ton 30 Kg   Sep 10 1997          J,D         basic   \n",
       "2  $270k  $213,070   3 Ton 40 Kg   Sep 05 2001          J,D         basic   \n",
       "3    NaN  $229,174   3 Ton 50 Kg   Dec 23 2016            U      advanced   \n",
       "4   $97k  $122,659  2 Ton 970 Kg   Jan 12 2000          D,R      advanced   \n",
       "\n",
       "    maker                                    ingredient       height   width  \\\n",
       "0  M14122                             IN732052,IN732053  2.76 meters   97 cm   \n",
       "1     NaN  IN732054,IN732055,IN732056,IN732057,IN732058  2.67 meters   98 cm   \n",
       "2     NaN                    IN732054,IN732059,IN732060   3.0 meters   93 cm   \n",
       "3  M14123                    IN732061,IN732062,IN732063   2.5 meters  102 cm   \n",
       "4     NaN                    IN732064,IN732065,IN732066  2.47 meters  101 cm   \n",
       "\n",
       "   depth  \n",
       "0  26 cm  \n",
       "1  26 cm  \n",
       "2  24 cm  \n",
       "3  27 cm  \n",
       "4  26 cm  "
      ]
     },
     "execution_count": 3,
     "metadata": {},
     "output_type": "execute_result"
    }
   ],
   "source": [
    "df.head()"
   ]
  },
  {
   "cell_type": "markdown",
   "metadata": {
    "id": "kd0wevPx4mNY"
   },
   "source": [
    "# 1. Dtype"
   ]
  },
  {
   "cell_type": "code",
   "execution_count": 4,
   "metadata": {
    "id": "R4Bf9FWG9Tca",
    "outputId": "01b3f5cb-77b0-4366-e5d3-05e77a9b2e24"
   },
   "outputs": [
    {
     "name": "stdout",
     "output_type": "stream",
     "text": [
      "<class 'pandas.core.frame.DataFrame'>\n",
      "RangeIndex: 3197 entries, 0 to 3196\n",
      "Data columns (total 11 columns):\n",
      " #   Column         Non-Null Count  Dtype \n",
      "---  ------         --------------  ----- \n",
      " 0   cost           2216 non-null   object\n",
      " 1   price          3186 non-null   object\n",
      " 2   weight         3193 non-null   object\n",
      " 3   purchase_date  3196 non-null   object\n",
      " 4   product_type   3196 non-null   object\n",
      " 5   product_level  3196 non-null   object\n",
      " 6   maker          2373 non-null   object\n",
      " 7   ingredient     2941 non-null   object\n",
      " 8   height         3197 non-null   object\n",
      " 9   width          3193 non-null   object\n",
      " 10  depth          3193 non-null   object\n",
      "dtypes: object(11)\n",
      "memory usage: 274.9+ KB\n"
     ]
    }
   ],
   "source": [
    "df.info()"
   ]
  },
  {
   "cell_type": "code",
   "execution_count": 5,
   "metadata": {
    "id": "YVJ01wdZ9Tcb",
    "outputId": "c71c5d79-e759-4a50-cecd-52744f6a786a"
   },
   "outputs": [
    {
     "data": {
      "text/html": [
       "<div>\n",
       "<style scoped>\n",
       "    .dataframe tbody tr th:only-of-type {\n",
       "        vertical-align: middle;\n",
       "    }\n",
       "\n",
       "    .dataframe tbody tr th {\n",
       "        vertical-align: top;\n",
       "    }\n",
       "\n",
       "    .dataframe thead th {\n",
       "        text-align: right;\n",
       "    }\n",
       "</style>\n",
       "<table border=\"1\" class=\"dataframe\">\n",
       "  <thead>\n",
       "    <tr style=\"text-align: right;\">\n",
       "      <th></th>\n",
       "      <th>cost</th>\n",
       "      <th>price</th>\n",
       "      <th>weight</th>\n",
       "      <th>purchase_date</th>\n",
       "      <th>product_type</th>\n",
       "      <th>product_level</th>\n",
       "      <th>maker</th>\n",
       "      <th>ingredient</th>\n",
       "      <th>height</th>\n",
       "      <th>width</th>\n",
       "      <th>depth</th>\n",
       "    </tr>\n",
       "  </thead>\n",
       "  <tbody>\n",
       "    <tr>\n",
       "      <th>count</th>\n",
       "      <td>2216</td>\n",
       "      <td>3186</td>\n",
       "      <td>3193</td>\n",
       "      <td>3196</td>\n",
       "      <td>3196</td>\n",
       "      <td>3196</td>\n",
       "      <td>2373</td>\n",
       "      <td>2941</td>\n",
       "      <td>3197</td>\n",
       "      <td>3193</td>\n",
       "      <td>3193</td>\n",
       "    </tr>\n",
       "    <tr>\n",
       "      <th>unique</th>\n",
       "      <td>185</td>\n",
       "      <td>3157</td>\n",
       "      <td>119</td>\n",
       "      <td>1278</td>\n",
       "      <td>64</td>\n",
       "      <td>5</td>\n",
       "      <td>882</td>\n",
       "      <td>2833</td>\n",
       "      <td>161</td>\n",
       "      <td>41</td>\n",
       "      <td>13</td>\n",
       "    </tr>\n",
       "    <tr>\n",
       "      <th>top</th>\n",
       "      <td>$66k</td>\n",
       "      <td>$20,061</td>\n",
       "      <td>3 Ton 0 Kg</td>\n",
       "      <td>Oct 05 2001</td>\n",
       "      <td>D</td>\n",
       "      <td>advanced</td>\n",
       "      <td>M14196</td>\n",
       "      <td>IN732638</td>\n",
       "      <td>2.54 meters</td>\n",
       "      <td>99 cm</td>\n",
       "      <td>26 cm</td>\n",
       "    </tr>\n",
       "    <tr>\n",
       "      <th>freq</th>\n",
       "      <td>104</td>\n",
       "      <td>2</td>\n",
       "      <td>127</td>\n",
       "      <td>8</td>\n",
       "      <td>485</td>\n",
       "      <td>1323</td>\n",
       "      <td>17</td>\n",
       "      <td>8</td>\n",
       "      <td>63</td>\n",
       "      <td>268</td>\n",
       "      <td>903</td>\n",
       "    </tr>\n",
       "  </tbody>\n",
       "</table>\n",
       "</div>"
      ],
      "text/plain": [
       "        cost    price      weight purchase_date product_type product_level  \\\n",
       "count   2216     3186        3193          3196         3196          3196   \n",
       "unique   185     3157         119          1278           64             5   \n",
       "top     $66k  $20,061  3 Ton 0 Kg   Oct 05 2001            D      advanced   \n",
       "freq     104        2         127             8          485          1323   \n",
       "\n",
       "         maker ingredient       height  width  depth  \n",
       "count     2373       2941         3197   3193   3193  \n",
       "unique     882       2833          161     41     13  \n",
       "top     M14196   IN732638  2.54 meters  99 cm  26 cm  \n",
       "freq        17          8           63    268    903  "
      ]
     },
     "execution_count": 5,
     "metadata": {},
     "output_type": "execute_result"
    }
   ],
   "source": [
    "df.describe()"
   ]
  },
  {
   "cell_type": "code",
   "execution_count": 6,
   "metadata": {
    "id": "mKf-33Ul4mNZ",
    "outputId": "8b5db330-337d-4ce2-8fb2-ed7474787b1c"
   },
   "outputs": [
    {
     "data": {
      "text/plain": [
       "dtype('O')"
      ]
     },
     "execution_count": 6,
     "metadata": {},
     "output_type": "execute_result"
    }
   ],
   "source": [
    "df.cost.dtype"
   ]
  },
  {
   "cell_type": "markdown",
   "metadata": {
    "id": "fRFFjguy4mNa"
   },
   "source": [
    "<font color='red'>Question:</font> What is **dtype** for? What does **dtype('O')** mean?"
   ]
  },
  {
   "cell_type": "markdown",
   "metadata": {
    "id": "0b-6gFlR4mNa"
   },
   "source": [
    "### dtype is for data type. dtype('O') means this is a Python object, in Pandas, most of the time this means the data type is string or a mix of string, number and/or NaN."
   ]
  },
  {
   "cell_type": "code",
   "execution_count": 7,
   "metadata": {
    "id": "1CkcGNdV4mNb",
    "outputId": "93ffd608-e8a2-4fa1-d95c-e4d13f192262"
   },
   "outputs": [
    {
     "data": {
      "text/plain": [
       "0    $333k\n",
       "1      NaN\n",
       "2    $270k\n",
       "3      NaN\n",
       "4     $97k\n",
       "Name: cost, dtype: object"
      ]
     },
     "execution_count": 7,
     "metadata": {},
     "output_type": "execute_result"
    }
   ],
   "source": [
    "df.cost.head()"
   ]
  },
  {
   "cell_type": "code",
   "execution_count": 8,
   "metadata": {
    "id": "Jy6-M5dM4mNc",
    "outputId": "25ff5c56-9d0f-4549-d8c4-ff271bc76ca1"
   },
   "outputs": [
    {
     "data": {
      "text/plain": [
       "2216"
      ]
     },
     "execution_count": 8,
     "metadata": {},
     "output_type": "execute_result"
    }
   ],
   "source": [
    "df.cost.count()"
   ]
  },
  {
   "cell_type": "code",
   "execution_count": 9,
   "metadata": {
    "id": "FIu2IFAN4mNd",
    "outputId": "b48e6097-f13a-4abc-8839-08a7f0ce1bfe"
   },
   "outputs": [
    {
     "data": {
      "text/plain": [
       "3197"
      ]
     },
     "execution_count": 9,
     "metadata": {},
     "output_type": "execute_result"
    }
   ],
   "source": [
    "len(df.cost)"
   ]
  },
  {
   "cell_type": "markdown",
   "metadata": {
    "collapsed": true,
    "id": "XEin5fk94mNe"
   },
   "source": [
    "<font color='red'>Question:</font> What do \"count\" and \"len\" do? Why are their results different?"
   ]
  },
  {
   "cell_type": "markdown",
   "metadata": {
    "id": "-KOtufSw4mNe"
   },
   "source": [
    "### count counts the number of non-NaN rows while len counts the number of all rows including NaN. Since the cost column contains a significant number of NaN, it's not surprising that the two numbers are very different."
   ]
  },
  {
   "cell_type": "markdown",
   "metadata": {
    "id": "BnYx-aqc4mNf"
   },
   "source": [
    "# 2. Transform strings to numerical values"
   ]
  },
  {
   "cell_type": "markdown",
   "metadata": {
    "id": "UOEsAcrE4mNf"
   },
   "source": [
    "## 2.1 Function"
   ]
  },
  {
   "cell_type": "markdown",
   "metadata": {
    "id": "Z6gMEKRq4mNg"
   },
   "source": [
    "**Example:** A funcition which transform a string to a numerical value"
   ]
  },
  {
   "cell_type": "code",
   "execution_count": 10,
   "metadata": {
    "executionInfo": {
     "elapsed": 8,
     "status": "ok",
     "timestamp": 1637458481546,
     "user": {
      "displayName": "Zoey He",
      "photoUrl": "https://lh3.googleusercontent.com/a/default-user=s64",
      "userId": "15531607692958354289"
     },
     "user_tz": 300
    },
    "id": "P2Na_--m4mNg"
   },
   "outputs": [],
   "source": [
    "def cost2num_long(x):\n",
    "    \"\"\"\n",
    "    This function transform cost string to numerical value.\n",
    "    \"\"\"\n",
    "    if type(x) == str: # only works when x is a string\n",
    "        x = x.strip('$') # remove the dollar sign in the front of the substring\n",
    "        x = x.strip('k') # remove 'k' at the end of the substring\n",
    "    return float(x)*1000 # multiply the number with 1000"
   ]
  },
  {
   "cell_type": "markdown",
   "metadata": {
    "id": "dB15cNaG4mNh"
   },
   "source": [
    "**Example:** Test the function"
   ]
  },
  {
   "cell_type": "code",
   "execution_count": 11,
   "metadata": {
    "colab": {
     "base_uri": "https://localhost:8080/",
     "height": 287
    },
    "executionInfo": {
     "elapsed": 176,
     "status": "error",
     "timestamp": 1637458481715,
     "user": {
      "displayName": "Zoey He",
      "photoUrl": "https://lh3.googleusercontent.com/a/default-user=s64",
      "userId": "15531607692958354289"
     },
     "user_tz": 300
    },
    "id": "v51n-oTU4mNh",
    "outputId": "b0da1611-ff96-45c6-99a7-d9396b7c09cb"
   },
   "outputs": [],
   "source": [
    "#cost2num_long('')\n",
    "#cost2num_long('$1')\n",
    "#cost2num_long('$1M')"
   ]
  },
  {
   "cell_type": "markdown",
   "metadata": {
    "id": "8NhP-80y4mNi"
   },
   "source": [
    "**Example:** A short version of this function"
   ]
  },
  {
   "cell_type": "code",
   "execution_count": 7,
   "metadata": {
    "executionInfo": {
     "elapsed": 4,
     "status": "aborted",
     "timestamp": 1637458481714,
     "user": {
      "displayName": "Zoey He",
      "photoUrl": "https://lh3.googleusercontent.com/a/default-user=s64",
      "userId": "15531607692958354289"
     },
     "user_tz": 300
    },
    "id": "ZCn1n0nu4mNi"
   },
   "outputs": [],
   "source": [
    "def cost2num(x):\n",
    "    \"\"\"\n",
    "    This function transform cost string to numerical value.\n",
    "    \"\"\"\n",
    "    if type(x) == str: \n",
    "        x = x.strip('$').strip('k')\n",
    "    return float(x)*1000"
   ]
  },
  {
   "cell_type": "markdown",
   "metadata": {
    "id": "lS6Dd2-64mNj"
   },
   "source": [
    "## 2.2 Use above function for data transformation"
   ]
  },
  {
   "cell_type": "markdown",
   "metadata": {
    "id": "7GYeT19n4mNj"
   },
   "source": [
    "**Example**: Apply the function elementwise using **map**."
   ]
  },
  {
   "cell_type": "code",
   "execution_count": 8,
   "metadata": {},
   "outputs": [
    {
     "data": {
      "text/plain": [
       "0    $333k\n",
       "1      NaN\n",
       "2    $270k\n",
       "3      NaN\n",
       "4     $97k\n",
       "Name: cost, dtype: object"
      ]
     },
     "execution_count": 8,
     "metadata": {},
     "output_type": "execute_result"
    }
   ],
   "source": [
    "df.cost.head()"
   ]
  },
  {
   "cell_type": "code",
   "execution_count": 9,
   "metadata": {
    "colab": {
     "base_uri": "https://localhost:8080/",
     "height": 166
    },
    "executionInfo": {
     "elapsed": 167,
     "status": "error",
     "timestamp": 1637458904138,
     "user": {
      "displayName": "Zoey He",
      "photoUrl": "https://lh3.googleusercontent.com/a/default-user=s64",
      "userId": "15531607692958354289"
     },
     "user_tz": 300
    },
    "id": "20WH7c2i4mNk",
    "outputId": "0088c0cd-a281-48b0-eebc-832ffe054a47"
   },
   "outputs": [
    {
     "data": {
      "text/plain": [
       "0    333000.0\n",
       "1         NaN\n",
       "2    270000.0\n",
       "3         NaN\n",
       "4     97000.0\n",
       "Name: cost, dtype: float64"
      ]
     },
     "execution_count": 9,
     "metadata": {},
     "output_type": "execute_result"
    }
   ],
   "source": [
    "df.cost.map(cost2num).head()\n",
    "# elementwise. What are the elements in df.cost?"
   ]
  },
  {
   "cell_type": "code",
   "execution_count": 10,
   "metadata": {
    "colab": {
     "base_uri": "https://localhost:8080/",
     "height": 166
    },
    "executionInfo": {
     "elapsed": 20,
     "status": "error",
     "timestamp": 1637458904493,
     "user": {
      "displayName": "Zoey He",
      "photoUrl": "https://lh3.googleusercontent.com/a/default-user=s64",
      "userId": "15531607692958354289"
     },
     "user_tz": 300
    },
    "id": "8kvZjSEu9Tco",
    "outputId": "a2dd14b2-276d-402a-aa6f-a6a9f2d4151d"
   },
   "outputs": [
    {
     "data": {
      "text/plain": [
       "pandas.core.series.Series"
      ]
     },
     "execution_count": 10,
     "metadata": {},
     "output_type": "execute_result"
    }
   ],
   "source": [
    "type(df.cost.map(cost2num))"
   ]
  },
  {
   "cell_type": "code",
   "execution_count": 15,
   "metadata": {
    "executionInfo": {
     "elapsed": 8,
     "status": "aborted",
     "timestamp": 1637458904483,
     "user": {
      "displayName": "Zoey He",
      "photoUrl": "https://lh3.googleusercontent.com/a/default-user=s64",
      "userId": "15531607692958354289"
     },
     "user_tz": 300
    },
    "id": "UgJepJ5P9Tco"
   },
   "outputs": [],
   "source": [
    "## df.cost.map(function here)"
   ]
  },
  {
   "cell_type": "code",
   "execution_count": 16,
   "metadata": {},
   "outputs": [],
   "source": [
    "################## map() and apply() ★★★★\n",
    "# Series.map(func), Series.map(dict)\n",
    "# Series.apply(func), DataFrame.apply(func)"
   ]
  },
  {
   "cell_type": "code",
   "execution_count": 12,
   "metadata": {},
   "outputs": [
    {
     "data": {
      "text/html": [
       "<div>\n",
       "<style scoped>\n",
       "    .dataframe tbody tr th:only-of-type {\n",
       "        vertical-align: middle;\n",
       "    }\n",
       "\n",
       "    .dataframe tbody tr th {\n",
       "        vertical-align: top;\n",
       "    }\n",
       "\n",
       "    .dataframe thead th {\n",
       "        text-align: right;\n",
       "    }\n",
       "</style>\n",
       "<table border=\"1\" class=\"dataframe\">\n",
       "  <thead>\n",
       "    <tr style=\"text-align: right;\">\n",
       "      <th></th>\n",
       "      <th>a</th>\n",
       "      <th>b</th>\n",
       "    </tr>\n",
       "  </thead>\n",
       "  <tbody>\n",
       "    <tr>\n",
       "      <th>0</th>\n",
       "      <td>basic</td>\n",
       "      <td>10</td>\n",
       "    </tr>\n",
       "    <tr>\n",
       "      <th>1</th>\n",
       "      <td>good</td>\n",
       "      <td>20</td>\n",
       "    </tr>\n",
       "    <tr>\n",
       "      <th>2</th>\n",
       "      <td>super</td>\n",
       "      <td>23</td>\n",
       "    </tr>\n",
       "  </tbody>\n",
       "</table>\n",
       "</div>"
      ],
      "text/plain": [
       "       a   b\n",
       "0  basic  10\n",
       "1   good  20\n",
       "2  super  23"
      ]
     },
     "execution_count": 12,
     "metadata": {},
     "output_type": "execute_result"
    }
   ],
   "source": [
    "df2 = pd.DataFrame({\"a\":[\"basic\",\"good\",\"super\"], \"b\":[10,20,23]})\n",
    "df2"
   ]
  },
  {
   "cell_type": "code",
   "execution_count": 13,
   "metadata": {},
   "outputs": [
    {
     "data": {
      "text/html": [
       "<div>\n",
       "<style scoped>\n",
       "    .dataframe tbody tr th:only-of-type {\n",
       "        vertical-align: middle;\n",
       "    }\n",
       "\n",
       "    .dataframe tbody tr th {\n",
       "        vertical-align: top;\n",
       "    }\n",
       "\n",
       "    .dataframe thead th {\n",
       "        text-align: right;\n",
       "    }\n",
       "</style>\n",
       "<table border=\"1\" class=\"dataframe\">\n",
       "  <thead>\n",
       "    <tr style=\"text-align: right;\">\n",
       "      <th></th>\n",
       "      <th>a</th>\n",
       "      <th>b</th>\n",
       "    </tr>\n",
       "  </thead>\n",
       "  <tbody>\n",
       "    <tr>\n",
       "      <th>0</th>\n",
       "      <td>0</td>\n",
       "      <td>10</td>\n",
       "    </tr>\n",
       "    <tr>\n",
       "      <th>1</th>\n",
       "      <td>1</td>\n",
       "      <td>20</td>\n",
       "    </tr>\n",
       "    <tr>\n",
       "      <th>2</th>\n",
       "      <td>2</td>\n",
       "      <td>23</td>\n",
       "    </tr>\n",
       "  </tbody>\n",
       "</table>\n",
       "</div>"
      ],
      "text/plain": [
       "   a   b\n",
       "0  0  10\n",
       "1  1  20\n",
       "2  2  23"
      ]
     },
     "execution_count": 13,
     "metadata": {},
     "output_type": "execute_result"
    }
   ],
   "source": [
    "df2[\"a\"] = df2.a.map({\"basic\":0, \"good\":1, \"super\":2})\n",
    "df2\n",
    "# .map(dict) very useful when you work with categorical features"
   ]
  },
  {
   "cell_type": "code",
   "execution_count": 19,
   "metadata": {},
   "outputs": [],
   "source": [
    "def calc(x, y):\n",
    "    if \n",
    "    return x**2 + y/10"
   ]
  },
  {
   "cell_type": "code",
   "execution_count": 20,
   "metadata": {},
   "outputs": [
    {
     "data": {
      "text/html": [
       "<div>\n",
       "<style scoped>\n",
       "    .dataframe tbody tr th:only-of-type {\n",
       "        vertical-align: middle;\n",
       "    }\n",
       "\n",
       "    .dataframe tbody tr th {\n",
       "        vertical-align: top;\n",
       "    }\n",
       "\n",
       "    .dataframe thead th {\n",
       "        text-align: right;\n",
       "    }\n",
       "</style>\n",
       "<table border=\"1\" class=\"dataframe\">\n",
       "  <thead>\n",
       "    <tr style=\"text-align: right;\">\n",
       "      <th></th>\n",
       "      <th>a</th>\n",
       "      <th>b</th>\n",
       "      <th>new</th>\n",
       "    </tr>\n",
       "  </thead>\n",
       "  <tbody>\n",
       "    <tr>\n",
       "      <th>0</th>\n",
       "      <td>0</td>\n",
       "      <td>10</td>\n",
       "      <td>1.0</td>\n",
       "    </tr>\n",
       "    <tr>\n",
       "      <th>1</th>\n",
       "      <td>1</td>\n",
       "      <td>20</td>\n",
       "      <td>3.0</td>\n",
       "    </tr>\n",
       "    <tr>\n",
       "      <th>2</th>\n",
       "      <td>2</td>\n",
       "      <td>23</td>\n",
       "      <td>6.3</td>\n",
       "    </tr>\n",
       "  </tbody>\n",
       "</table>\n",
       "</div>"
      ],
      "text/plain": [
       "   a   b  new\n",
       "0  0  10  1.0\n",
       "1  1  20  3.0\n",
       "2  2  23  6.3"
      ]
     },
     "execution_count": 20,
     "metadata": {},
     "output_type": "execute_result"
    }
   ],
   "source": [
    "df2[\"new\"] = df2.apply(lambda x: calc(x.a, x.b), axis=1)   \n",
    "# x is the element. What are the elements of df2?\n",
    "# \"lambda\" allows you to define a function in line\n",
    "# same as: df2[\"new\"] = df2.apply(lambda x: (x.a)**2+(x.b)/10, axis=1)\n",
    "df2\n",
    "\n",
    "# .apply(lambda ) can be used for single and multiple columns, very powerful"
   ]
  },
  {
   "cell_type": "markdown",
   "metadata": {
    "id": "vKo27Bx84mNk"
   },
   "source": [
    "**Example**: Assign the new **Series** to a variable"
   ]
  },
  {
   "cell_type": "code",
   "execution_count": 21,
   "metadata": {
    "executionInfo": {
     "elapsed": 9,
     "status": "aborted",
     "timestamp": 1637458904484,
     "user": {
      "displayName": "Zoey He",
      "photoUrl": "https://lh3.googleusercontent.com/a/default-user=s64",
      "userId": "15531607692958354289"
     },
     "user_tz": 300
    },
    "id": "Wq_eFvdK4mNl"
   },
   "outputs": [],
   "source": [
    "cost = df.cost.map(cost2num)"
   ]
  },
  {
   "cell_type": "code",
   "execution_count": null,
   "metadata": {
    "executionInfo": {
     "elapsed": 10,
     "status": "aborted",
     "timestamp": 1637458904485,
     "user": {
      "displayName": "Zoey He",
      "photoUrl": "https://lh3.googleusercontent.com/a/default-user=s64",
      "userId": "15531607692958354289"
     },
     "user_tz": 300
    },
    "id": "5I8WYfIb4mNl"
   },
   "outputs": [],
   "source": []
  },
  {
   "cell_type": "markdown",
   "metadata": {
    "id": "a0wNRuOC4mNm"
   },
   "source": [
    "**Example**: Add the new **Series** to **DataFrame**"
   ]
  },
  {
   "cell_type": "code",
   "execution_count": 17,
   "metadata": {
    "executionInfo": {
     "elapsed": 11,
     "status": "aborted",
     "timestamp": 1637458904486,
     "user": {
      "displayName": "Zoey He",
      "photoUrl": "https://lh3.googleusercontent.com/a/default-user=s64",
      "userId": "15531607692958354289"
     },
     "user_tz": 300
    },
    "id": "FFBqi-fJ9Tcp"
   },
   "outputs": [
    {
     "data": {
      "text/plain": [
       "11"
      ]
     },
     "execution_count": 17,
     "metadata": {},
     "output_type": "execute_result"
    }
   ],
   "source": [
    "len(df.columns)"
   ]
  },
  {
   "cell_type": "code",
   "execution_count": 18,
   "metadata": {
    "executionInfo": {
     "elapsed": 10,
     "status": "aborted",
     "timestamp": 1637458904486,
     "user": {
      "displayName": "Zoey He",
      "photoUrl": "https://lh3.googleusercontent.com/a/default-user=s64",
      "userId": "15531607692958354289"
     },
     "user_tz": 300
    },
    "id": "SuOOkBgd4mNm"
   },
   "outputs": [],
   "source": [
    "df['cost_num'] = df.cost.map(cost2num)"
   ]
  },
  {
   "cell_type": "code",
   "execution_count": 19,
   "metadata": {
    "executionInfo": {
     "elapsed": 11,
     "status": "aborted",
     "timestamp": 1637458904487,
     "user": {
      "displayName": "Zoey He",
      "photoUrl": "https://lh3.googleusercontent.com/a/default-user=s64",
      "userId": "15531607692958354289"
     },
     "user_tz": 300
    },
    "id": "tM2jCw6E9Tcq"
   },
   "outputs": [
    {
     "data": {
      "text/plain": [
       "12"
      ]
     },
     "execution_count": 19,
     "metadata": {},
     "output_type": "execute_result"
    }
   ],
   "source": [
    "len(df.columns)"
   ]
  },
  {
   "cell_type": "code",
   "execution_count": 20,
   "metadata": {
    "executionInfo": {
     "elapsed": 12,
     "status": "aborted",
     "timestamp": 1637458904488,
     "user": {
      "displayName": "Zoey He",
      "photoUrl": "https://lh3.googleusercontent.com/a/default-user=s64",
      "userId": "15531607692958354289"
     },
     "user_tz": 300
    },
    "id": "4JYbadoB4mNn"
   },
   "outputs": [
    {
     "data": {
      "text/html": [
       "<div>\n",
       "<style scoped>\n",
       "    .dataframe tbody tr th:only-of-type {\n",
       "        vertical-align: middle;\n",
       "    }\n",
       "\n",
       "    .dataframe tbody tr th {\n",
       "        vertical-align: top;\n",
       "    }\n",
       "\n",
       "    .dataframe thead th {\n",
       "        text-align: right;\n",
       "    }\n",
       "</style>\n",
       "<table border=\"1\" class=\"dataframe\">\n",
       "  <thead>\n",
       "    <tr style=\"text-align: right;\">\n",
       "      <th></th>\n",
       "      <th>cost</th>\n",
       "      <th>price</th>\n",
       "      <th>weight</th>\n",
       "      <th>purchase_date</th>\n",
       "      <th>product_type</th>\n",
       "      <th>product_level</th>\n",
       "      <th>maker</th>\n",
       "      <th>ingredient</th>\n",
       "      <th>height</th>\n",
       "      <th>width</th>\n",
       "      <th>depth</th>\n",
       "      <th>cost_num</th>\n",
       "    </tr>\n",
       "  </thead>\n",
       "  <tbody>\n",
       "    <tr>\n",
       "      <th>0</th>\n",
       "      <td>$333k</td>\n",
       "      <td>$300,492</td>\n",
       "      <td>3 Ton 90 Kg</td>\n",
       "      <td>Dec 19 2008</td>\n",
       "      <td>Q,B</td>\n",
       "      <td>advanced</td>\n",
       "      <td>M14122</td>\n",
       "      <td>IN732052,IN732053</td>\n",
       "      <td>2.76 meters</td>\n",
       "      <td>97 cm</td>\n",
       "      <td>26 cm</td>\n",
       "      <td>333000.0</td>\n",
       "    </tr>\n",
       "    <tr>\n",
       "      <th>1</th>\n",
       "      <td>NaN</td>\n",
       "      <td>$430,570</td>\n",
       "      <td>3 Ton 30 Kg</td>\n",
       "      <td>Sep 10 1997</td>\n",
       "      <td>J,D</td>\n",
       "      <td>basic</td>\n",
       "      <td>NaN</td>\n",
       "      <td>IN732054,IN732055,IN732056,IN732057,IN732058</td>\n",
       "      <td>2.67 meters</td>\n",
       "      <td>98 cm</td>\n",
       "      <td>26 cm</td>\n",
       "      <td>NaN</td>\n",
       "    </tr>\n",
       "    <tr>\n",
       "      <th>2</th>\n",
       "      <td>$270k</td>\n",
       "      <td>$213,070</td>\n",
       "      <td>3 Ton 40 Kg</td>\n",
       "      <td>Sep 05 2001</td>\n",
       "      <td>J,D</td>\n",
       "      <td>basic</td>\n",
       "      <td>NaN</td>\n",
       "      <td>IN732054,IN732059,IN732060</td>\n",
       "      <td>3.0 meters</td>\n",
       "      <td>93 cm</td>\n",
       "      <td>24 cm</td>\n",
       "      <td>270000.0</td>\n",
       "    </tr>\n",
       "    <tr>\n",
       "      <th>3</th>\n",
       "      <td>NaN</td>\n",
       "      <td>$229,174</td>\n",
       "      <td>3 Ton 50 Kg</td>\n",
       "      <td>Dec 23 2016</td>\n",
       "      <td>U</td>\n",
       "      <td>advanced</td>\n",
       "      <td>M14123</td>\n",
       "      <td>IN732061,IN732062,IN732063</td>\n",
       "      <td>2.5 meters</td>\n",
       "      <td>102 cm</td>\n",
       "      <td>27 cm</td>\n",
       "      <td>NaN</td>\n",
       "    </tr>\n",
       "    <tr>\n",
       "      <th>4</th>\n",
       "      <td>$97k</td>\n",
       "      <td>$122,659</td>\n",
       "      <td>2 Ton 970 Kg</td>\n",
       "      <td>Jan 12 2000</td>\n",
       "      <td>D,R</td>\n",
       "      <td>advanced</td>\n",
       "      <td>NaN</td>\n",
       "      <td>IN732064,IN732065,IN732066</td>\n",
       "      <td>2.47 meters</td>\n",
       "      <td>101 cm</td>\n",
       "      <td>26 cm</td>\n",
       "      <td>97000.0</td>\n",
       "    </tr>\n",
       "  </tbody>\n",
       "</table>\n",
       "</div>"
      ],
      "text/plain": [
       "    cost     price        weight purchase_date product_type product_level  \\\n",
       "0  $333k  $300,492   3 Ton 90 Kg   Dec 19 2008          Q,B      advanced   \n",
       "1    NaN  $430,570   3 Ton 30 Kg   Sep 10 1997          J,D         basic   \n",
       "2  $270k  $213,070   3 Ton 40 Kg   Sep 05 2001          J,D         basic   \n",
       "3    NaN  $229,174   3 Ton 50 Kg   Dec 23 2016            U      advanced   \n",
       "4   $97k  $122,659  2 Ton 970 Kg   Jan 12 2000          D,R      advanced   \n",
       "\n",
       "    maker                                    ingredient       height   width  \\\n",
       "0  M14122                             IN732052,IN732053  2.76 meters   97 cm   \n",
       "1     NaN  IN732054,IN732055,IN732056,IN732057,IN732058  2.67 meters   98 cm   \n",
       "2     NaN                    IN732054,IN732059,IN732060   3.0 meters   93 cm   \n",
       "3  M14123                    IN732061,IN732062,IN732063   2.5 meters  102 cm   \n",
       "4     NaN                    IN732064,IN732065,IN732066  2.47 meters  101 cm   \n",
       "\n",
       "   depth  cost_num  \n",
       "0  26 cm  333000.0  \n",
       "1  26 cm       NaN  \n",
       "2  24 cm  270000.0  \n",
       "3  27 cm       NaN  \n",
       "4  26 cm   97000.0  "
      ]
     },
     "execution_count": 20,
     "metadata": {},
     "output_type": "execute_result"
    }
   ],
   "source": [
    "df.head()"
   ]
  },
  {
   "cell_type": "markdown",
   "metadata": {
    "id": "OrZMpIFb4mNo"
   },
   "source": [
    "**Example:** Change the values of this numerical column"
   ]
  },
  {
   "cell_type": "code",
   "execution_count": 21,
   "metadata": {
    "executionInfo": {
     "elapsed": 15,
     "status": "aborted",
     "timestamp": 1637458904491,
     "user": {
      "displayName": "Zoey He",
      "photoUrl": "https://lh3.googleusercontent.com/a/default-user=s64",
      "userId": "15531607692958354289"
     },
     "user_tz": 300
    },
    "id": "h_IpP0Nt4mNp"
   },
   "outputs": [
    {
     "data": {
      "text/plain": [
       "0    666000.0\n",
       "1         NaN\n",
       "2    540000.0\n",
       "3         NaN\n",
       "4    194000.0\n",
       "Name: cost_num, dtype: float64"
      ]
     },
     "execution_count": 21,
     "metadata": {},
     "output_type": "execute_result"
    }
   ],
   "source": [
    "(df.cost_num*2).head()"
   ]
  },
  {
   "cell_type": "markdown",
   "metadata": {
    "id": "7042m4G14mNp"
   },
   "source": [
    "**Knowledge**: Please note that this piece of data we are playing with are only a copy of the column in the dataframe. The above operation doesn't change anything in the dataframe"
   ]
  },
  {
   "cell_type": "code",
   "execution_count": 22,
   "metadata": {
    "executionInfo": {
     "elapsed": 13,
     "status": "aborted",
     "timestamp": 1637458904489,
     "user": {
      "displayName": "Zoey He",
      "photoUrl": "https://lh3.googleusercontent.com/a/default-user=s64",
      "userId": "15531607692958354289"
     },
     "user_tz": 300
    },
    "id": "TjFX5NEY9Tcr"
   },
   "outputs": [
    {
     "name": "stdout",
     "output_type": "stream",
     "text": [
      "List:\n",
      " [1, 2, 3, 1, 2, 3]\n",
      "Series:\n",
      " 0    2\n",
      "1    4\n",
      "2    6\n",
      "dtype: int64\n",
      "Array:\n",
      " [2 4 6]\n"
     ]
    }
   ],
   "source": [
    "a=[1,2,3]     \n",
    "print(\"List:\\n\", a*2)  # not elementwise for list\n",
    "a=pd.Series([1,2,3])\n",
    "print(\"Series:\\n\", a*2)  # elementwise for Series\n",
    "import numpy as np\n",
    "a=np.array([1,2,3])\n",
    "print(\"Array:\\n\", a*2)  # elementwise for array"
   ]
  },
  {
   "cell_type": "code",
   "execution_count": 23,
   "metadata": {
    "executionInfo": {
     "elapsed": 15,
     "status": "aborted",
     "timestamp": 1637458904492,
     "user": {
      "displayName": "Zoey He",
      "photoUrl": "https://lh3.googleusercontent.com/a/default-user=s64",
      "userId": "15531607692958354289"
     },
     "user_tz": 300
    },
    "id": "yxnafC6B4mNq"
   },
   "outputs": [
    {
     "data": {
      "text/plain": [
       "0    333000.0\n",
       "1         NaN\n",
       "2    270000.0\n",
       "3         NaN\n",
       "4     97000.0\n",
       "Name: cost_num, dtype: float64"
      ]
     },
     "execution_count": 23,
     "metadata": {},
     "output_type": "execute_result"
    }
   ],
   "source": [
    "df.cost_num.head()"
   ]
  },
  {
   "cell_type": "markdown",
   "metadata": {
    "id": "J919gbBb4mNq"
   },
   "source": [
    "# 3. Data Visualization"
   ]
  },
  {
   "cell_type": "code",
   "execution_count": 24,
   "metadata": {
    "id": "WbTx4Rpw4mNr"
   },
   "outputs": [],
   "source": [
    "%matplotlib inline "
   ]
  },
  {
   "cell_type": "markdown",
   "metadata": {
    "id": "nfyWalK14mNr"
   },
   "source": [
    "**Knowledge**: We are going to visualize data, matplotlib is built in pandas with this line, we don't need to import matplotlib explictly"
   ]
  },
  {
   "cell_type": "markdown",
   "metadata": {
    "id": "wElOoFkT4mNs"
   },
   "source": [
    "**Example:** Visulizing distribution"
   ]
  },
  {
   "cell_type": "code",
   "execution_count": 25,
   "metadata": {
    "id": "MtUC-kGj4mNt",
    "outputId": "824f703a-13a1-4f73-bfe9-31eb4ea8b670"
   },
   "outputs": [
    {
     "data": {
      "text/plain": [
       "<AxesSubplot:ylabel='Frequency'>"
      ]
     },
     "execution_count": 25,
     "metadata": {},
     "output_type": "execute_result"
    },
    {
     "data": {
      "image/png": "[encoded data removed]",
      "text/plain": [
       "<Figure size 432x288 with 1 Axes>"
      ]
     },
     "metadata": {
      "needs_background": "light"
     },
     "output_type": "display_data"
    }
   ],
   "source": [
    "df.cost_num.plot(kind='hist', bins=30)\n"
   ]
  },
  {
   "cell_type": "markdown",
   "metadata": {
    "id": "qQiPgi5N4mNu"
   },
   "source": [
    "**Example**: log the **counts** to reveal more details"
   ]
  },
  {
   "cell_type": "code",
   "execution_count": 26,
   "metadata": {
    "id": "zHVETR9x4mNv",
    "outputId": "bc3e420c-cbc9-4cc4-ebc7-8cfd1b52c925"
   },
   "outputs": [
    {
     "data": {
      "text/plain": [
       "<AxesSubplot:ylabel='Frequency'>"
      ]
     },
     "execution_count": 26,
     "metadata": {},
     "output_type": "execute_result"
    },
    {
     "data": {
      "image/png": "[encoded data removed]",
      "text/plain": [
       "<Figure size 432x288 with 1 Axes>"
      ]
     },
     "metadata": {
      "needs_background": "light"
     },
     "output_type": "display_data"
    }
   ],
   "source": [
    "df.cost_num.plot(kind='hist', bins=30, log=True) "
   ]
  },
  {
   "cell_type": "markdown",
   "metadata": {
    "id": "W8EReARG4mNv"
   },
   "source": [
    "**Example**: Log the **cost values** to remove the skewness"
   ]
  },
  {
   "cell_type": "code",
   "execution_count": 27,
   "metadata": {
    "id": "u_QAPDPv4mNw",
    "outputId": "2cc8f9b8-205e-4bf0-9569-c88d97cd2686"
   },
   "outputs": [
    {
     "data": {
      "text/plain": [
       "<AxesSubplot:ylabel='Frequency'>"
      ]
     },
     "execution_count": 27,
     "metadata": {},
     "output_type": "execute_result"
    },
    {
     "data": {
      "image/png": "[encoded data removed]",
      "text/plain": [
       "<Figure size 432x288 with 1 Axes>"
      ]
     },
     "metadata": {
      "needs_background": "light"
     },
     "output_type": "display_data"
    }
   ],
   "source": [
    "import numpy as np\n",
    "\n",
    "df.cost_num.map(np.log).plot(kind='hist', bins=30)"
   ]
  },
  {
   "cell_type": "markdown",
   "metadata": {
    "id": "bn8blbG24mNx"
   },
   "source": [
    "<font color='red'>Question:</font> What is **log-normal distribution**?"
   ]
  },
  {
   "cell_type": "markdown",
   "metadata": {
    "id": "SWdM9T7i4mNx"
   },
   "source": [
    "### A log-normal distribution is a continuous probability distribution of a random variable whose logarithm is normally distributed."
   ]
  },
  {
   "cell_type": "markdown",
   "metadata": {
    "id": "J0dcrbHW4mNy"
   },
   "source": [
    "<font color='red'>Assignment:</font> Transform **price**, **weight**, **height**, **width**, and **depth**; visualize their distributions"
   ]
  },
  {
   "cell_type": "code",
   "execution_count": 29,
   "metadata": {
    "id": "2GSn5Ygg4mNz"
   },
   "outputs": [],
   "source": [
    "def price2num(x):\n",
    "    \"\"\"\n",
    "    This function transform price string to numerical value.\n",
    "    \"\"\"\n",
    "    if type(x) == str: # only works when x is a string\n",
    "        x = x.strip('$') # remove the dollar sign at the front of the substring\n",
    "        x = x.replace(',', '') # remove ','\n",
    "    return float(x)"
   ]
  },
  {
   "cell_type": "code",
   "execution_count": 30,
   "metadata": {
    "colab": {
     "base_uri": "https://localhost:8080/",
     "height": 166
    },
    "executionInfo": {
     "elapsed": 53,
     "status": "error",
     "timestamp": 1636692920817,
     "user": {
      "displayName": "Zoey He",
      "photoUrl": "https://lh3.googleusercontent.com/a/default-user=s64",
      "userId": "15531607692958354289"
     },
     "user_tz": 300
    },
    "id": "bwf_7vP34mNz",
    "outputId": "213ca1d7-8c3c-4f2f-93fd-8d6b9d83ff99"
   },
   "outputs": [],
   "source": [
    "df['price'] = df.price.map(price2num)"
   ]
  },
  {
   "cell_type": "code",
   "execution_count": 31,
   "metadata": {
    "id": "py_DXz0g4mN0",
    "scrolled": true
   },
   "outputs": [
    {
     "data": {
      "text/html": [
       "<div>\n",
       "<style scoped>\n",
       "    .dataframe tbody tr th:only-of-type {\n",
       "        vertical-align: middle;\n",
       "    }\n",
       "\n",
       "    .dataframe tbody tr th {\n",
       "        vertical-align: top;\n",
       "    }\n",
       "\n",
       "    .dataframe thead th {\n",
       "        text-align: right;\n",
       "    }\n",
       "</style>\n",
       "<table border=\"1\" class=\"dataframe\">\n",
       "  <thead>\n",
       "    <tr style=\"text-align: right;\">\n",
       "      <th></th>\n",
       "      <th>cost</th>\n",
       "      <th>price</th>\n",
       "      <th>weight</th>\n",
       "      <th>purchase_date</th>\n",
       "      <th>product_type</th>\n",
       "      <th>product_level</th>\n",
       "      <th>maker</th>\n",
       "      <th>ingredient</th>\n",
       "      <th>height</th>\n",
       "      <th>width</th>\n",
       "      <th>depth</th>\n",
       "      <th>cost_num</th>\n",
       "    </tr>\n",
       "  </thead>\n",
       "  <tbody>\n",
       "    <tr>\n",
       "      <th>0</th>\n",
       "      <td>$333k</td>\n",
       "      <td>300492.0</td>\n",
       "      <td>3 Ton 90 Kg</td>\n",
       "      <td>Dec 19 2008</td>\n",
       "      <td>Q,B</td>\n",
       "      <td>advanced</td>\n",
       "      <td>M14122</td>\n",
       "      <td>IN732052,IN732053</td>\n",
       "      <td>2.76 meters</td>\n",
       "      <td>97 cm</td>\n",
       "      <td>26 cm</td>\n",
       "      <td>333000.0</td>\n",
       "    </tr>\n",
       "    <tr>\n",
       "      <th>1</th>\n",
       "      <td>NaN</td>\n",
       "      <td>430570.0</td>\n",
       "      <td>3 Ton 30 Kg</td>\n",
       "      <td>Sep 10 1997</td>\n",
       "      <td>J,D</td>\n",
       "      <td>basic</td>\n",
       "      <td>NaN</td>\n",
       "      <td>IN732054,IN732055,IN732056,IN732057,IN732058</td>\n",
       "      <td>2.67 meters</td>\n",
       "      <td>98 cm</td>\n",
       "      <td>26 cm</td>\n",
       "      <td>NaN</td>\n",
       "    </tr>\n",
       "    <tr>\n",
       "      <th>2</th>\n",
       "      <td>$270k</td>\n",
       "      <td>213070.0</td>\n",
       "      <td>3 Ton 40 Kg</td>\n",
       "      <td>Sep 05 2001</td>\n",
       "      <td>J,D</td>\n",
       "      <td>basic</td>\n",
       "      <td>NaN</td>\n",
       "      <td>IN732054,IN732059,IN732060</td>\n",
       "      <td>3.0 meters</td>\n",
       "      <td>93 cm</td>\n",
       "      <td>24 cm</td>\n",
       "      <td>270000.0</td>\n",
       "    </tr>\n",
       "    <tr>\n",
       "      <th>3</th>\n",
       "      <td>NaN</td>\n",
       "      <td>229174.0</td>\n",
       "      <td>3 Ton 50 Kg</td>\n",
       "      <td>Dec 23 2016</td>\n",
       "      <td>U</td>\n",
       "      <td>advanced</td>\n",
       "      <td>M14123</td>\n",
       "      <td>IN732061,IN732062,IN732063</td>\n",
       "      <td>2.5 meters</td>\n",
       "      <td>102 cm</td>\n",
       "      <td>27 cm</td>\n",
       "      <td>NaN</td>\n",
       "    </tr>\n",
       "    <tr>\n",
       "      <th>4</th>\n",
       "      <td>$97k</td>\n",
       "      <td>122659.0</td>\n",
       "      <td>2 Ton 970 Kg</td>\n",
       "      <td>Jan 12 2000</td>\n",
       "      <td>D,R</td>\n",
       "      <td>advanced</td>\n",
       "      <td>NaN</td>\n",
       "      <td>IN732064,IN732065,IN732066</td>\n",
       "      <td>2.47 meters</td>\n",
       "      <td>101 cm</td>\n",
       "      <td>26 cm</td>\n",
       "      <td>97000.0</td>\n",
       "    </tr>\n",
       "  </tbody>\n",
       "</table>\n",
       "</div>"
      ],
      "text/plain": [
       "    cost     price        weight purchase_date product_type product_level  \\\n",
       "0  $333k  300492.0   3 Ton 90 Kg   Dec 19 2008          Q,B      advanced   \n",
       "1    NaN  430570.0   3 Ton 30 Kg   Sep 10 1997          J,D         basic   \n",
       "2  $270k  213070.0   3 Ton 40 Kg   Sep 05 2001          J,D         basic   \n",
       "3    NaN  229174.0   3 Ton 50 Kg   Dec 23 2016            U      advanced   \n",
       "4   $97k  122659.0  2 Ton 970 Kg   Jan 12 2000          D,R      advanced   \n",
       "\n",
       "    maker                                    ingredient       height   width  \\\n",
       "0  M14122                             IN732052,IN732053  2.76 meters   97 cm   \n",
       "1     NaN  IN732054,IN732055,IN732056,IN732057,IN732058  2.67 meters   98 cm   \n",
       "2     NaN                    IN732054,IN732059,IN732060   3.0 meters   93 cm   \n",
       "3  M14123                    IN732061,IN732062,IN732063   2.5 meters  102 cm   \n",
       "4     NaN                    IN732064,IN732065,IN732066  2.47 meters  101 cm   \n",
       "\n",
       "   depth  cost_num  \n",
       "0  26 cm  333000.0  \n",
       "1  26 cm       NaN  \n",
       "2  24 cm  270000.0  \n",
       "3  27 cm       NaN  \n",
       "4  26 cm   97000.0  "
      ]
     },
     "execution_count": 31,
     "metadata": {},
     "output_type": "execute_result"
    }
   ],
   "source": [
    "df.head()"
   ]
  },
  {
   "cell_type": "code",
   "execution_count": 32,
   "metadata": {
    "id": "UMuDISXX4mN1"
   },
   "outputs": [],
   "source": [
    "def weight2num(x):\n",
    "    \"\"\"\n",
    "    This function transform weight string to numerical value. The unit kept is Ton\n",
    "    \"\"\"\n",
    "    if type(x) == str: # only works when x is a string\n",
    "        x = x.strip(' Kg') # remove the ' Kg' at the end of the substring\n",
    "        #x = x.replace(' Ton ','.')\n",
    "        x_list = x.split(' Ton ')\n",
    "        result = float(x_list[0])+float(x_list[1])*0.001\n",
    "        return result\n",
    "    return"
   ]
  },
  {
   "cell_type": "code",
   "execution_count": 33,
   "metadata": {
    "id": "oUcZREfS4mN2"
   },
   "outputs": [],
   "source": [
    "df['weight'] = df.weight.map(weight2num)"
   ]
  },
  {
   "cell_type": "code",
   "execution_count": 34,
   "metadata": {
    "id": "9idgdZ9N4mN2"
   },
   "outputs": [
    {
     "data": {
      "text/html": [
       "<div>\n",
       "<style scoped>\n",
       "    .dataframe tbody tr th:only-of-type {\n",
       "        vertical-align: middle;\n",
       "    }\n",
       "\n",
       "    .dataframe tbody tr th {\n",
       "        vertical-align: top;\n",
       "    }\n",
       "\n",
       "    .dataframe thead th {\n",
       "        text-align: right;\n",
       "    }\n",
       "</style>\n",
       "<table border=\"1\" class=\"dataframe\">\n",
       "  <thead>\n",
       "    <tr style=\"text-align: right;\">\n",
       "      <th></th>\n",
       "      <th>cost</th>\n",
       "      <th>price</th>\n",
       "      <th>weight</th>\n",
       "      <th>purchase_date</th>\n",
       "      <th>product_type</th>\n",
       "      <th>product_level</th>\n",
       "      <th>maker</th>\n",
       "      <th>ingredient</th>\n",
       "      <th>height</th>\n",
       "      <th>width</th>\n",
       "      <th>depth</th>\n",
       "      <th>cost_num</th>\n",
       "    </tr>\n",
       "  </thead>\n",
       "  <tbody>\n",
       "    <tr>\n",
       "      <th>0</th>\n",
       "      <td>$333k</td>\n",
       "      <td>300492.0</td>\n",
       "      <td>3.09</td>\n",
       "      <td>Dec 19 2008</td>\n",
       "      <td>Q,B</td>\n",
       "      <td>advanced</td>\n",
       "      <td>M14122</td>\n",
       "      <td>IN732052,IN732053</td>\n",
       "      <td>2.76 meters</td>\n",
       "      <td>97 cm</td>\n",
       "      <td>26 cm</td>\n",
       "      <td>333000.0</td>\n",
       "    </tr>\n",
       "    <tr>\n",
       "      <th>1</th>\n",
       "      <td>NaN</td>\n",
       "      <td>430570.0</td>\n",
       "      <td>3.03</td>\n",
       "      <td>Sep 10 1997</td>\n",
       "      <td>J,D</td>\n",
       "      <td>basic</td>\n",
       "      <td>NaN</td>\n",
       "      <td>IN732054,IN732055,IN732056,IN732057,IN732058</td>\n",
       "      <td>2.67 meters</td>\n",
       "      <td>98 cm</td>\n",
       "      <td>26 cm</td>\n",
       "      <td>NaN</td>\n",
       "    </tr>\n",
       "    <tr>\n",
       "      <th>2</th>\n",
       "      <td>$270k</td>\n",
       "      <td>213070.0</td>\n",
       "      <td>3.04</td>\n",
       "      <td>Sep 05 2001</td>\n",
       "      <td>J,D</td>\n",
       "      <td>basic</td>\n",
       "      <td>NaN</td>\n",
       "      <td>IN732054,IN732059,IN732060</td>\n",
       "      <td>3.0 meters</td>\n",
       "      <td>93 cm</td>\n",
       "      <td>24 cm</td>\n",
       "      <td>270000.0</td>\n",
       "    </tr>\n",
       "    <tr>\n",
       "      <th>3</th>\n",
       "      <td>NaN</td>\n",
       "      <td>229174.0</td>\n",
       "      <td>3.05</td>\n",
       "      <td>Dec 23 2016</td>\n",
       "      <td>U</td>\n",
       "      <td>advanced</td>\n",
       "      <td>M14123</td>\n",
       "      <td>IN732061,IN732062,IN732063</td>\n",
       "      <td>2.5 meters</td>\n",
       "      <td>102 cm</td>\n",
       "      <td>27 cm</td>\n",
       "      <td>NaN</td>\n",
       "    </tr>\n",
       "    <tr>\n",
       "      <th>4</th>\n",
       "      <td>$97k</td>\n",
       "      <td>122659.0</td>\n",
       "      <td>2.97</td>\n",
       "      <td>Jan 12 2000</td>\n",
       "      <td>D,R</td>\n",
       "      <td>advanced</td>\n",
       "      <td>NaN</td>\n",
       "      <td>IN732064,IN732065,IN732066</td>\n",
       "      <td>2.47 meters</td>\n",
       "      <td>101 cm</td>\n",
       "      <td>26 cm</td>\n",
       "      <td>97000.0</td>\n",
       "    </tr>\n",
       "  </tbody>\n",
       "</table>\n",
       "</div>"
      ],
      "text/plain": [
       "    cost     price  weight purchase_date product_type product_level   maker  \\\n",
       "0  $333k  300492.0    3.09   Dec 19 2008          Q,B      advanced  M14122   \n",
       "1    NaN  430570.0    3.03   Sep 10 1997          J,D         basic     NaN   \n",
       "2  $270k  213070.0    3.04   Sep 05 2001          J,D         basic     NaN   \n",
       "3    NaN  229174.0    3.05   Dec 23 2016            U      advanced  M14123   \n",
       "4   $97k  122659.0    2.97   Jan 12 2000          D,R      advanced     NaN   \n",
       "\n",
       "                                     ingredient       height   width  depth  \\\n",
       "0                             IN732052,IN732053  2.76 meters   97 cm  26 cm   \n",
       "1  IN732054,IN732055,IN732056,IN732057,IN732058  2.67 meters   98 cm  26 cm   \n",
       "2                    IN732054,IN732059,IN732060   3.0 meters   93 cm  24 cm   \n",
       "3                    IN732061,IN732062,IN732063   2.5 meters  102 cm  27 cm   \n",
       "4                    IN732064,IN732065,IN732066  2.47 meters  101 cm  26 cm   \n",
       "\n",
       "   cost_num  \n",
       "0  333000.0  \n",
       "1       NaN  \n",
       "2  270000.0  \n",
       "3       NaN  \n",
       "4   97000.0  "
      ]
     },
     "execution_count": 34,
     "metadata": {},
     "output_type": "execute_result"
    }
   ],
   "source": [
    "df.head()"
   ]
  },
  {
   "cell_type": "code",
   "execution_count": 35,
   "metadata": {
    "id": "lpowaGM14mN3"
   },
   "outputs": [],
   "source": [
    "def height2num(x):\n",
    "    \"\"\"\n",
    "    This function transform height string to numerical value. The unit kept is meters\n",
    "    \"\"\"\n",
    "    if type(x) == str: # only works when x is a string\n",
    "        x = x.strip(' meters') # remove the ' meters' at the end of the substring\n",
    "    return float(x)"
   ]
  },
  {
   "cell_type": "code",
   "execution_count": 36,
   "metadata": {
    "id": "NLov8A0A4mN3"
   },
   "outputs": [],
   "source": [
    "df['height'] = df.height.map(height2num)"
   ]
  },
  {
   "cell_type": "code",
   "execution_count": 37,
   "metadata": {
    "id": "AwaXqQ-l4mN4"
   },
   "outputs": [
    {
     "data": {
      "text/html": [
       "<div>\n",
       "<style scoped>\n",
       "    .dataframe tbody tr th:only-of-type {\n",
       "        vertical-align: middle;\n",
       "    }\n",
       "\n",
       "    .dataframe tbody tr th {\n",
       "        vertical-align: top;\n",
       "    }\n",
       "\n",
       "    .dataframe thead th {\n",
       "        text-align: right;\n",
       "    }\n",
       "</style>\n",
       "<table border=\"1\" class=\"dataframe\">\n",
       "  <thead>\n",
       "    <tr style=\"text-align: right;\">\n",
       "      <th></th>\n",
       "      <th>cost</th>\n",
       "      <th>price</th>\n",
       "      <th>weight</th>\n",
       "      <th>purchase_date</th>\n",
       "      <th>product_type</th>\n",
       "      <th>product_level</th>\n",
       "      <th>maker</th>\n",
       "      <th>ingredient</th>\n",
       "      <th>height</th>\n",
       "      <th>width</th>\n",
       "      <th>depth</th>\n",
       "      <th>cost_num</th>\n",
       "    </tr>\n",
       "  </thead>\n",
       "  <tbody>\n",
       "    <tr>\n",
       "      <th>0</th>\n",
       "      <td>$333k</td>\n",
       "      <td>300492.0</td>\n",
       "      <td>3.09</td>\n",
       "      <td>Dec 19 2008</td>\n",
       "      <td>Q,B</td>\n",
       "      <td>advanced</td>\n",
       "      <td>M14122</td>\n",
       "      <td>IN732052,IN732053</td>\n",
       "      <td>2.76</td>\n",
       "      <td>97 cm</td>\n",
       "      <td>26 cm</td>\n",
       "      <td>333000.0</td>\n",
       "    </tr>\n",
       "    <tr>\n",
       "      <th>1</th>\n",
       "      <td>NaN</td>\n",
       "      <td>430570.0</td>\n",
       "      <td>3.03</td>\n",
       "      <td>Sep 10 1997</td>\n",
       "      <td>J,D</td>\n",
       "      <td>basic</td>\n",
       "      <td>NaN</td>\n",
       "      <td>IN732054,IN732055,IN732056,IN732057,IN732058</td>\n",
       "      <td>2.67</td>\n",
       "      <td>98 cm</td>\n",
       "      <td>26 cm</td>\n",
       "      <td>NaN</td>\n",
       "    </tr>\n",
       "    <tr>\n",
       "      <th>2</th>\n",
       "      <td>$270k</td>\n",
       "      <td>213070.0</td>\n",
       "      <td>3.04</td>\n",
       "      <td>Sep 05 2001</td>\n",
       "      <td>J,D</td>\n",
       "      <td>basic</td>\n",
       "      <td>NaN</td>\n",
       "      <td>IN732054,IN732059,IN732060</td>\n",
       "      <td>3.00</td>\n",
       "      <td>93 cm</td>\n",
       "      <td>24 cm</td>\n",
       "      <td>270000.0</td>\n",
       "    </tr>\n",
       "    <tr>\n",
       "      <th>3</th>\n",
       "      <td>NaN</td>\n",
       "      <td>229174.0</td>\n",
       "      <td>3.05</td>\n",
       "      <td>Dec 23 2016</td>\n",
       "      <td>U</td>\n",
       "      <td>advanced</td>\n",
       "      <td>M14123</td>\n",
       "      <td>IN732061,IN732062,IN732063</td>\n",
       "      <td>2.50</td>\n",
       "      <td>102 cm</td>\n",
       "      <td>27 cm</td>\n",
       "      <td>NaN</td>\n",
       "    </tr>\n",
       "    <tr>\n",
       "      <th>4</th>\n",
       "      <td>$97k</td>\n",
       "      <td>122659.0</td>\n",
       "      <td>2.97</td>\n",
       "      <td>Jan 12 2000</td>\n",
       "      <td>D,R</td>\n",
       "      <td>advanced</td>\n",
       "      <td>NaN</td>\n",
       "      <td>IN732064,IN732065,IN732066</td>\n",
       "      <td>2.47</td>\n",
       "      <td>101 cm</td>\n",
       "      <td>26 cm</td>\n",
       "      <td>97000.0</td>\n",
       "    </tr>\n",
       "  </tbody>\n",
       "</table>\n",
       "</div>"
      ],
      "text/plain": [
       "    cost     price  weight purchase_date product_type product_level   maker  \\\n",
       "0  $333k  300492.0    3.09   Dec 19 2008          Q,B      advanced  M14122   \n",
       "1    NaN  430570.0    3.03   Sep 10 1997          J,D         basic     NaN   \n",
       "2  $270k  213070.0    3.04   Sep 05 2001          J,D         basic     NaN   \n",
       "3    NaN  229174.0    3.05   Dec 23 2016            U      advanced  M14123   \n",
       "4   $97k  122659.0    2.97   Jan 12 2000          D,R      advanced     NaN   \n",
       "\n",
       "                                     ingredient  height   width  depth  \\\n",
       "0                             IN732052,IN732053    2.76   97 cm  26 cm   \n",
       "1  IN732054,IN732055,IN732056,IN732057,IN732058    2.67   98 cm  26 cm   \n",
       "2                    IN732054,IN732059,IN732060    3.00   93 cm  24 cm   \n",
       "3                    IN732061,IN732062,IN732063    2.50  102 cm  27 cm   \n",
       "4                    IN732064,IN732065,IN732066    2.47  101 cm  26 cm   \n",
       "\n",
       "   cost_num  \n",
       "0  333000.0  \n",
       "1       NaN  \n",
       "2  270000.0  \n",
       "3       NaN  \n",
       "4   97000.0  "
      ]
     },
     "execution_count": 37,
     "metadata": {},
     "output_type": "execute_result"
    }
   ],
   "source": [
    "df.head()"
   ]
  },
  {
   "cell_type": "code",
   "execution_count": 38,
   "metadata": {
    "id": "kgzJW2724mN5"
   },
   "outputs": [],
   "source": [
    "def width2num(x):\n",
    "    \"\"\"\n",
    "    This function transform width string to numerical value. The unit kept is cm\n",
    "    \"\"\"\n",
    "    if type(x) == str: # only works when x is a string\n",
    "        x = x.strip(' cm') # remove the ' cm' at the end of the substring\n",
    "    return float(x)"
   ]
  },
  {
   "cell_type": "code",
   "execution_count": 39,
   "metadata": {
    "id": "1HfKhziQ4mN5"
   },
   "outputs": [],
   "source": [
    "df['width'] = df.width.map(width2num)"
   ]
  },
  {
   "cell_type": "code",
   "execution_count": 40,
   "metadata": {
    "id": "RsRRgjpz4mN6"
   },
   "outputs": [
    {
     "data": {
      "text/html": [
       "<div>\n",
       "<style scoped>\n",
       "    .dataframe tbody tr th:only-of-type {\n",
       "        vertical-align: middle;\n",
       "    }\n",
       "\n",
       "    .dataframe tbody tr th {\n",
       "        vertical-align: top;\n",
       "    }\n",
       "\n",
       "    .dataframe thead th {\n",
       "        text-align: right;\n",
       "    }\n",
       "</style>\n",
       "<table border=\"1\" class=\"dataframe\">\n",
       "  <thead>\n",
       "    <tr style=\"text-align: right;\">\n",
       "      <th></th>\n",
       "      <th>cost</th>\n",
       "      <th>price</th>\n",
       "      <th>weight</th>\n",
       "      <th>purchase_date</th>\n",
       "      <th>product_type</th>\n",
       "      <th>product_level</th>\n",
       "      <th>maker</th>\n",
       "      <th>ingredient</th>\n",
       "      <th>height</th>\n",
       "      <th>width</th>\n",
       "      <th>depth</th>\n",
       "      <th>cost_num</th>\n",
       "    </tr>\n",
       "  </thead>\n",
       "  <tbody>\n",
       "    <tr>\n",
       "      <th>0</th>\n",
       "      <td>$333k</td>\n",
       "      <td>300492.0</td>\n",
       "      <td>3.09</td>\n",
       "      <td>Dec 19 2008</td>\n",
       "      <td>Q,B</td>\n",
       "      <td>advanced</td>\n",
       "      <td>M14122</td>\n",
       "      <td>IN732052,IN732053</td>\n",
       "      <td>2.76</td>\n",
       "      <td>97.0</td>\n",
       "      <td>26 cm</td>\n",
       "      <td>333000.0</td>\n",
       "    </tr>\n",
       "    <tr>\n",
       "      <th>1</th>\n",
       "      <td>NaN</td>\n",
       "      <td>430570.0</td>\n",
       "      <td>3.03</td>\n",
       "      <td>Sep 10 1997</td>\n",
       "      <td>J,D</td>\n",
       "      <td>basic</td>\n",
       "      <td>NaN</td>\n",
       "      <td>IN732054,IN732055,IN732056,IN732057,IN732058</td>\n",
       "      <td>2.67</td>\n",
       "      <td>98.0</td>\n",
       "      <td>26 cm</td>\n",
       "      <td>NaN</td>\n",
       "    </tr>\n",
       "    <tr>\n",
       "      <th>2</th>\n",
       "      <td>$270k</td>\n",
       "      <td>213070.0</td>\n",
       "      <td>3.04</td>\n",
       "      <td>Sep 05 2001</td>\n",
       "      <td>J,D</td>\n",
       "      <td>basic</td>\n",
       "      <td>NaN</td>\n",
       "      <td>IN732054,IN732059,IN732060</td>\n",
       "      <td>3.00</td>\n",
       "      <td>93.0</td>\n",
       "      <td>24 cm</td>\n",
       "      <td>270000.0</td>\n",
       "    </tr>\n",
       "    <tr>\n",
       "      <th>3</th>\n",
       "      <td>NaN</td>\n",
       "      <td>229174.0</td>\n",
       "      <td>3.05</td>\n",
       "      <td>Dec 23 2016</td>\n",
       "      <td>U</td>\n",
       "      <td>advanced</td>\n",
       "      <td>M14123</td>\n",
       "      <td>IN732061,IN732062,IN732063</td>\n",
       "      <td>2.50</td>\n",
       "      <td>102.0</td>\n",
       "      <td>27 cm</td>\n",
       "      <td>NaN</td>\n",
       "    </tr>\n",
       "    <tr>\n",
       "      <th>4</th>\n",
       "      <td>$97k</td>\n",
       "      <td>122659.0</td>\n",
       "      <td>2.97</td>\n",
       "      <td>Jan 12 2000</td>\n",
       "      <td>D,R</td>\n",
       "      <td>advanced</td>\n",
       "      <td>NaN</td>\n",
       "      <td>IN732064,IN732065,IN732066</td>\n",
       "      <td>2.47</td>\n",
       "      <td>101.0</td>\n",
       "      <td>26 cm</td>\n",
       "      <td>97000.0</td>\n",
       "    </tr>\n",
       "  </tbody>\n",
       "</table>\n",
       "</div>"
      ],
      "text/plain": [
       "    cost     price  weight purchase_date product_type product_level   maker  \\\n",
       "0  $333k  300492.0    3.09   Dec 19 2008          Q,B      advanced  M14122   \n",
       "1    NaN  430570.0    3.03   Sep 10 1997          J,D         basic     NaN   \n",
       "2  $270k  213070.0    3.04   Sep 05 2001          J,D         basic     NaN   \n",
       "3    NaN  229174.0    3.05   Dec 23 2016            U      advanced  M14123   \n",
       "4   $97k  122659.0    2.97   Jan 12 2000          D,R      advanced     NaN   \n",
       "\n",
       "                                     ingredient  height  width  depth  \\\n",
       "0                             IN732052,IN732053    2.76   97.0  26 cm   \n",
       "1  IN732054,IN732055,IN732056,IN732057,IN732058    2.67   98.0  26 cm   \n",
       "2                    IN732054,IN732059,IN732060    3.00   93.0  24 cm   \n",
       "3                    IN732061,IN732062,IN732063    2.50  102.0  27 cm   \n",
       "4                    IN732064,IN732065,IN732066    2.47  101.0  26 cm   \n",
       "\n",
       "   cost_num  \n",
       "0  333000.0  \n",
       "1       NaN  \n",
       "2  270000.0  \n",
       "3       NaN  \n",
       "4   97000.0  "
      ]
     },
     "execution_count": 40,
     "metadata": {},
     "output_type": "execute_result"
    }
   ],
   "source": [
    "df.head()"
   ]
  },
  {
   "cell_type": "code",
   "execution_count": 41,
   "metadata": {
    "id": "3jc8viIt4mN6"
   },
   "outputs": [],
   "source": [
    "def depth2num(x):\n",
    "    \"\"\"\n",
    "    This function transform depth string to numerical value. The unit kept is cm\n",
    "    \"\"\"\n",
    "    if type(x) == str: # only works when x is a string\n",
    "        x = x.strip(' cm') # remove the ' cm' at the end of the substring\n",
    "    return float(x)"
   ]
  },
  {
   "cell_type": "code",
   "execution_count": 42,
   "metadata": {
    "id": "guVi6rQG4mN8"
   },
   "outputs": [],
   "source": [
    "df['depth'] = df.depth.map(depth2num)"
   ]
  },
  {
   "cell_type": "code",
   "execution_count": 43,
   "metadata": {
    "id": "aOLWfrfm4mN9",
    "scrolled": true
   },
   "outputs": [
    {
     "data": {
      "text/html": [
       "<div>\n",
       "<style scoped>\n",
       "    .dataframe tbody tr th:only-of-type {\n",
       "        vertical-align: middle;\n",
       "    }\n",
       "\n",
       "    .dataframe tbody tr th {\n",
       "        vertical-align: top;\n",
       "    }\n",
       "\n",
       "    .dataframe thead th {\n",
       "        text-align: right;\n",
       "    }\n",
       "</style>\n",
       "<table border=\"1\" class=\"dataframe\">\n",
       "  <thead>\n",
       "    <tr style=\"text-align: right;\">\n",
       "      <th></th>\n",
       "      <th>cost</th>\n",
       "      <th>price</th>\n",
       "      <th>weight</th>\n",
       "      <th>purchase_date</th>\n",
       "      <th>product_type</th>\n",
       "      <th>product_level</th>\n",
       "      <th>maker</th>\n",
       "      <th>ingredient</th>\n",
       "      <th>height</th>\n",
       "      <th>width</th>\n",
       "      <th>depth</th>\n",
       "      <th>cost_num</th>\n",
       "    </tr>\n",
       "  </thead>\n",
       "  <tbody>\n",
       "    <tr>\n",
       "      <th>0</th>\n",
       "      <td>$333k</td>\n",
       "      <td>300492.0</td>\n",
       "      <td>3.09</td>\n",
       "      <td>Dec 19 2008</td>\n",
       "      <td>Q,B</td>\n",
       "      <td>advanced</td>\n",
       "      <td>M14122</td>\n",
       "      <td>IN732052,IN732053</td>\n",
       "      <td>2.76</td>\n",
       "      <td>97.0</td>\n",
       "      <td>26.0</td>\n",
       "      <td>333000.0</td>\n",
       "    </tr>\n",
       "    <tr>\n",
       "      <th>1</th>\n",
       "      <td>NaN</td>\n",
       "      <td>430570.0</td>\n",
       "      <td>3.03</td>\n",
       "      <td>Sep 10 1997</td>\n",
       "      <td>J,D</td>\n",
       "      <td>basic</td>\n",
       "      <td>NaN</td>\n",
       "      <td>IN732054,IN732055,IN732056,IN732057,IN732058</td>\n",
       "      <td>2.67</td>\n",
       "      <td>98.0</td>\n",
       "      <td>26.0</td>\n",
       "      <td>NaN</td>\n",
       "    </tr>\n",
       "    <tr>\n",
       "      <th>2</th>\n",
       "      <td>$270k</td>\n",
       "      <td>213070.0</td>\n",
       "      <td>3.04</td>\n",
       "      <td>Sep 05 2001</td>\n",
       "      <td>J,D</td>\n",
       "      <td>basic</td>\n",
       "      <td>NaN</td>\n",
       "      <td>IN732054,IN732059,IN732060</td>\n",
       "      <td>3.00</td>\n",
       "      <td>93.0</td>\n",
       "      <td>24.0</td>\n",
       "      <td>270000.0</td>\n",
       "    </tr>\n",
       "    <tr>\n",
       "      <th>3</th>\n",
       "      <td>NaN</td>\n",
       "      <td>229174.0</td>\n",
       "      <td>3.05</td>\n",
       "      <td>Dec 23 2016</td>\n",
       "      <td>U</td>\n",
       "      <td>advanced</td>\n",
       "      <td>M14123</td>\n",
       "      <td>IN732061,IN732062,IN732063</td>\n",
       "      <td>2.50</td>\n",
       "      <td>102.0</td>\n",
       "      <td>27.0</td>\n",
       "      <td>NaN</td>\n",
       "    </tr>\n",
       "    <tr>\n",
       "      <th>4</th>\n",
       "      <td>$97k</td>\n",
       "      <td>122659.0</td>\n",
       "      <td>2.97</td>\n",
       "      <td>Jan 12 2000</td>\n",
       "      <td>D,R</td>\n",
       "      <td>advanced</td>\n",
       "      <td>NaN</td>\n",
       "      <td>IN732064,IN732065,IN732066</td>\n",
       "      <td>2.47</td>\n",
       "      <td>101.0</td>\n",
       "      <td>26.0</td>\n",
       "      <td>97000.0</td>\n",
       "    </tr>\n",
       "  </tbody>\n",
       "</table>\n",
       "</div>"
      ],
      "text/plain": [
       "    cost     price  weight purchase_date product_type product_level   maker  \\\n",
       "0  $333k  300492.0    3.09   Dec 19 2008          Q,B      advanced  M14122   \n",
       "1    NaN  430570.0    3.03   Sep 10 1997          J,D         basic     NaN   \n",
       "2  $270k  213070.0    3.04   Sep 05 2001          J,D         basic     NaN   \n",
       "3    NaN  229174.0    3.05   Dec 23 2016            U      advanced  M14123   \n",
       "4   $97k  122659.0    2.97   Jan 12 2000          D,R      advanced     NaN   \n",
       "\n",
       "                                     ingredient  height  width  depth  \\\n",
       "0                             IN732052,IN732053    2.76   97.0   26.0   \n",
       "1  IN732054,IN732055,IN732056,IN732057,IN732058    2.67   98.0   26.0   \n",
       "2                    IN732054,IN732059,IN732060    3.00   93.0   24.0   \n",
       "3                    IN732061,IN732062,IN732063    2.50  102.0   27.0   \n",
       "4                    IN732064,IN732065,IN732066    2.47  101.0   26.0   \n",
       "\n",
       "   cost_num  \n",
       "0  333000.0  \n",
       "1       NaN  \n",
       "2  270000.0  \n",
       "3       NaN  \n",
       "4   97000.0  "
      ]
     },
     "execution_count": 43,
     "metadata": {},
     "output_type": "execute_result"
    }
   ],
   "source": [
    "df.head()"
   ]
  },
  {
   "cell_type": "markdown",
   "metadata": {
    "id": "7IliHLUq4mN-"
   },
   "source": []
  },
  {
   "cell_type": "markdown",
   "metadata": {
    "id": "v0HiE7Qy4mN_"
   },
   "source": [
    "# Visulization"
   ]
  },
  {
   "cell_type": "markdown",
   "metadata": {
    "id": "COmwjJTE4mOA"
   },
   "source": [
    "## (1) price"
   ]
  },
  {
   "cell_type": "code",
   "execution_count": 44,
   "metadata": {
    "colab": {
     "base_uri": "https://localhost:8080/",
     "height": 166
    },
    "executionInfo": {
     "elapsed": 248,
     "status": "error",
     "timestamp": 1636693004000,
     "user": {
      "displayName": "Zoey He",
      "photoUrl": "https://lh3.googleusercontent.com/a/default-user=s64",
      "userId": "15531607692958354289"
     },
     "user_tz": 300
    },
    "id": "uvGNyTTR4mOA",
    "outputId": "9b9dc6c8-1f73-4552-c711-e3b997de6954"
   },
   "outputs": [
    {
     "data": {
      "text/plain": [
       "3158"
      ]
     },
     "execution_count": 44,
     "metadata": {},
     "output_type": "execute_result"
    }
   ],
   "source": [
    "len(df['price'].unique())"
   ]
  },
  {
   "cell_type": "code",
   "execution_count": 49,
   "metadata": {
    "colab": {
     "base_uri": "https://localhost:8080/",
     "height": 131
    },
    "executionInfo": {
     "elapsed": 28,
     "status": "error",
     "timestamp": 1636693004310,
     "user": {
      "displayName": "Zoey He",
      "photoUrl": "https://lh3.googleusercontent.com/a/default-user=s64",
      "userId": "15531607692958354289"
     },
     "user_tz": 300
    },
    "id": "QgV2OMgi4mOB",
    "outputId": "c8312918-bc6b-4f60-b443-3869c8562749"
   },
   "outputs": [
    {
     "data": {
      "text/plain": [
       "27.76766011517738"
      ]
     },
     "execution_count": 49,
     "metadata": {},
     "output_type": "execute_result"
    }
   ],
   "source": [
    "# Sturges' Rule: Optimal Bins = ⌈log(2)(n) + 1⌉\n",
    "1 + 3.322 * np.log(3158)  # = 1+log2(n)\n",
    "\n",
    "# https://www.zhihu.com/question/22689569\n",
    "# error in solution: \n",
    "# The base in 1+3.322*log(n) should be 10, \n",
    "# and n should be n_samples, not nunique (Sturges's rule is used for normal distribution)\n",
    "# https://accendoreliability.com/sturges-rule-method-selecting-number-bins-histogram/ \n",
    "#      the rule is good for n_samples 30~200\n",
    "\n",
    "# there is no \"right\" or \"wrong\" of bins. Sturges' rule is just a reference\n",
    "# too few bins --> can't get underline pattern of the dataset\n",
    "# too many bins --> get noise of the dataset"
   ]
  },
  {
   "cell_type": "code",
   "execution_count": 45,
   "metadata": {},
   "outputs": [
    {
     "data": {
      "text/plain": [
       "4.605170185988092"
      ]
     },
     "execution_count": 45,
     "metadata": {},
     "output_type": "execute_result"
    }
   ],
   "source": [
    "np.log(100)"
   ]
  },
  {
   "cell_type": "code",
   "execution_count": 46,
   "metadata": {
    "id": "JkCVntie4mOC",
    "scrolled": true
   },
   "outputs": [
    {
     "data": {
      "text/plain": [
       "<AxesSubplot:ylabel='Frequency'>"
      ]
     },
     "execution_count": 46,
     "metadata": {},
     "output_type": "execute_result"
    },
    {
     "data": {
      "image/png": "[encoded data removed]",
      "text/plain": [
       "<Figure size 432x288 with 1 Axes>"
      ]
     },
     "metadata": {
      "needs_background": "light"
     },
     "output_type": "display_data"
    }
   ],
   "source": [
    "df.price.map(np.log).plot(kind = 'hist', bins = 28)"
   ]
  },
  {
   "cell_type": "code",
   "execution_count": 47,
   "metadata": {
    "id": "4IQGrXfR4mOD"
   },
   "outputs": [
    {
     "data": {
      "text/plain": [
       "120"
      ]
     },
     "execution_count": 47,
     "metadata": {},
     "output_type": "execute_result"
    }
   ],
   "source": [
    "len(df['weight'].unique())"
   ]
  },
  {
   "cell_type": "code",
   "execution_count": 48,
   "metadata": {
    "id": "kgicnb2x4mOD"
   },
   "outputs": [
    {
     "data": {
      "text/plain": [
       "16.904047569521957"
      ]
     },
     "execution_count": 48,
     "metadata": {},
     "output_type": "execute_result"
    }
   ],
   "source": [
    "1 + 3.322 * np.log(120)"
   ]
  },
  {
   "cell_type": "code",
   "execution_count": 49,
   "metadata": {
    "id": "b2VxDzcV4mOE"
   },
   "outputs": [
    {
     "data": {
      "text/plain": [
       "Text(0.5, 0, 'Weight')"
      ]
     },
     "execution_count": 49,
     "metadata": {},
     "output_type": "execute_result"
    },
    {
     "data": {
      "image/png": "[encoded data removed]",
      "text/plain": [
       "<Figure size 432x288 with 1 Axes>"
      ]
     },
     "metadata": {
      "needs_background": "light"
     },
     "output_type": "display_data"
    }
   ],
   "source": [
    "df.weight.map(np.log).plot(kind = 'hist', bins = 18)\n",
    "import matplotlib.pyplot as plt\n",
    "plt.xlabel('Weight')"
   ]
  },
  {
   "cell_type": "code",
   "execution_count": 55,
   "metadata": {
    "id": "AIToHwQu4mOF"
   },
   "outputs": [
    {
     "data": {
      "text/plain": [
       "161"
      ]
     },
     "execution_count": 55,
     "metadata": {},
     "output_type": "execute_result"
    }
   ],
   "source": [
    "len(df['height'].unique())"
   ]
  },
  {
   "cell_type": "code",
   "execution_count": 56,
   "metadata": {
    "id": "bwrPmFOZ4mOG"
   },
   "outputs": [
    {
     "data": {
      "text/plain": [
       "17.880425300478386"
      ]
     },
     "execution_count": 56,
     "metadata": {},
     "output_type": "execute_result"
    }
   ],
   "source": [
    "1 + 3.322 * np.log(161)"
   ]
  },
  {
   "cell_type": "code",
   "execution_count": 57,
   "metadata": {
    "id": "xiuWzDoY4mOH"
   },
   "outputs": [
    {
     "data": {
      "text/plain": [
       "<AxesSubplot:ylabel='Frequency'>"
      ]
     },
     "execution_count": 57,
     "metadata": {},
     "output_type": "execute_result"
    },
    {
     "data": {
      "image/png": "[encoded data removed]",
      "text/plain": [
       "<Figure size 640x480 with 1 Axes>"
      ]
     },
     "metadata": {},
     "output_type": "display_data"
    }
   ],
   "source": [
    "df.height.map(np.log).plot(kind = 'hist', bins = 18)"
   ]
  },
  {
   "cell_type": "code",
   "execution_count": 58,
   "metadata": {
    "id": "diMnZHz04mOI"
   },
   "outputs": [
    {
     "data": {
      "text/plain": [
       "42"
      ]
     },
     "execution_count": 58,
     "metadata": {},
     "output_type": "execute_result"
    }
   ],
   "source": [
    "len(df['width'].unique())"
   ]
  },
  {
   "cell_type": "code",
   "execution_count": 59,
   "metadata": {
    "id": "fdubzOTl4mOJ"
   },
   "outputs": [
    {
     "data": {
      "text/plain": [
       "13.41653847193735"
      ]
     },
     "execution_count": 59,
     "metadata": {},
     "output_type": "execute_result"
    }
   ],
   "source": [
    "1 + 3.322 * np.log(42)"
   ]
  },
  {
   "cell_type": "code",
   "execution_count": 60,
   "metadata": {
    "id": "i6PT-22q4mOK"
   },
   "outputs": [
    {
     "data": {
      "text/plain": [
       "<AxesSubplot:ylabel='Frequency'>"
      ]
     },
     "execution_count": 60,
     "metadata": {},
     "output_type": "execute_result"
    },
    {
     "data": {
      "image/png": "[encoded data removed]",
      "text/plain": [
       "<Figure size 640x480 with 1 Axes>"
      ]
     },
     "metadata": {},
     "output_type": "display_data"
    }
   ],
   "source": [
    "df.width.map(np.log).plot(kind = 'hist', bins = 14)"
   ]
  },
  {
   "cell_type": "code",
   "execution_count": 61,
   "metadata": {
    "id": "r6dnGNfs4mOK"
   },
   "outputs": [
    {
     "data": {
      "text/plain": [
       "14"
      ]
     },
     "execution_count": 61,
     "metadata": {},
     "output_type": "execute_result"
    }
   ],
   "source": [
    "len(df['depth'].unique())"
   ]
  },
  {
   "cell_type": "code",
   "execution_count": 62,
   "metadata": {
    "id": "qWFHyQ904mOL"
   },
   "outputs": [
    {
     "data": {
      "text/plain": [
       "9.76694844898189"
      ]
     },
     "execution_count": 62,
     "metadata": {},
     "output_type": "execute_result"
    }
   ],
   "source": [
    "1 + 3.322 * np.log(14)"
   ]
  },
  {
   "cell_type": "code",
   "execution_count": 63,
   "metadata": {
    "id": "xWx2GUsZ4mOM"
   },
   "outputs": [
    {
     "data": {
      "text/plain": [
       "<AxesSubplot:ylabel='Frequency'>"
      ]
     },
     "execution_count": 63,
     "metadata": {},
     "output_type": "execute_result"
    },
    {
     "data": {
      "image/png": "[encoded data removed]",
      "text/plain": [
       "<Figure size 640x480 with 1 Axes>"
      ]
     },
     "metadata": {},
     "output_type": "display_data"
    }
   ],
   "source": [
    "df.depth.map(np.log).plot(kind = 'hist', bins = 12)"
   ]
  },
  {
   "cell_type": "markdown",
   "metadata": {
    "id": "bX1JDnCQ4mOM"
   },
   "source": []
  },
  {
   "cell_type": "markdown",
   "metadata": {
    "id": "g4eIAUD44mON"
   },
   "source": [
    "## Everything looks log-normal, except for weight, which seems to be right-skewed."
   ]
  },
  {
   "cell_type": "code",
   "execution_count": null,
   "metadata": {},
   "outputs": [],
   "source": []
  },
  {
   "cell_type": "code",
   "execution_count": 64,
   "metadata": {
    "id": "l1g2bKPm4mON"
   },
   "outputs": [],
   "source": [
    "import matplotlib.pyplot as plt"
   ]
  },
  {
   "cell_type": "code",
   "execution_count": 65,
   "metadata": {},
   "outputs": [
    {
     "data": {
      "image/png": "[encoded data removed]",
      "text/plain": [
       "<Figure size 640x480 with 4 Axes>"
      ]
     },
     "metadata": {},
     "output_type": "display_data"
    }
   ],
   "source": [
    "fig,axes = plt.subplots(nrows=2, ncols=2)\n",
    "\n",
    "axes[0][0].hist(df.height.map(np.log))\n",
    "axes[0][0].set_xlabel(\"log(height)\")\n",
    "axes[0][0].set_ylabel(\"counts\")\n",
    "\n",
    "axes[0][1].hist(df.width.map(np.log))\n",
    "axes[0][1].set_xlabel(\"log(width)\")\n",
    "\n",
    "axes[1][0].hist(df.depth.map(np.log))\n",
    "axes[1][0].set_xlabel(\"log(depth)\")\n",
    "axes[1][0].set_ylabel(\"counts\")\n",
    "\n",
    "axes[1][1].hist(df.weight.map(np.log))\n",
    "axes[1][1].set_xlabel(\"log(weight)\")\n",
    "\n",
    "plt.tight_layout();"
   ]
  },
  {
   "cell_type": "code",
   "execution_count": 66,
   "metadata": {},
   "outputs": [],
   "source": [
    "# use for-loop to plot\n",
    "# use function to plot"
   ]
  }
 ],
 "metadata": {
  "colab": {
   "name": "02_numerical_data_analysis_update.ipynb",
   "provenance": []
  },
  "kernelspec": {
   "display_name": "Python 3 (ipykernel)",
   "language": "python",
   "name": "python3"
  },
  "language_info": {
   "codemirror_mode": {
    "name": "ipython",
    "version": 3
   },
   "file_extension": ".py",
   "mimetype": "text/x-python",
   "name": "python",
   "nbconvert_exporter": "python",
   "pygments_lexer": "ipython3",
   "version": "3.9.12"
  }
 },
 "nbformat": 4,
 "nbformat_minor": 1
}

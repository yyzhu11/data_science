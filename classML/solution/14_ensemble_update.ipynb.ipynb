{
 "cells": [
  {
   "cell_type": "markdown",
   "metadata": {},
   "source": [
    "### What is ensemble?\n",
    "\n",
    "Ensemble learning is a general approach to machine learning that seeks better predictive performance by combining the predictions from multiple models.\n"
   ]
  },
  {
   "cell_type": "code",
   "execution_count": 1,
   "metadata": {},
   "outputs": [],
   "source": [
    "import pandas as pd\n",
    "\n",
    "df = pd.read_csv('./data/sales.csv')\n",
    "df.dropna(subset=['price'], inplace=True)"
   ]
  },
  {
   "cell_type": "code",
   "execution_count": 2,
   "metadata": {},
   "outputs": [
    {
     "data": {
      "text/html": [
       "<div>\n",
       "<style scoped>\n",
       "    .dataframe tbody tr th:only-of-type {\n",
       "        vertical-align: middle;\n",
       "    }\n",
       "\n",
       "    .dataframe tbody tr th {\n",
       "        vertical-align: top;\n",
       "    }\n",
       "\n",
       "    .dataframe thead th {\n",
       "        text-align: right;\n",
       "    }\n",
       "</style>\n",
       "<table border=\"1\" class=\"dataframe\">\n",
       "  <thead>\n",
       "    <tr style=\"text-align: right;\">\n",
       "      <th></th>\n",
       "      <th>cost</th>\n",
       "      <th>price</th>\n",
       "      <th>weight</th>\n",
       "      <th>purchase_date</th>\n",
       "      <th>product_type</th>\n",
       "      <th>product_level</th>\n",
       "      <th>maker</th>\n",
       "      <th>ingredient</th>\n",
       "      <th>height</th>\n",
       "      <th>width</th>\n",
       "      <th>depth</th>\n",
       "    </tr>\n",
       "  </thead>\n",
       "  <tbody>\n",
       "    <tr>\n",
       "      <th>0</th>\n",
       "      <td>$333k</td>\n",
       "      <td>$300,492</td>\n",
       "      <td>3 Ton 90 Kg</td>\n",
       "      <td>Dec 19 2008</td>\n",
       "      <td>Q,B</td>\n",
       "      <td>advanced</td>\n",
       "      <td>M14122</td>\n",
       "      <td>IN732052,IN732053</td>\n",
       "      <td>2.76 meters</td>\n",
       "      <td>97 cm</td>\n",
       "      <td>26 cm</td>\n",
       "    </tr>\n",
       "    <tr>\n",
       "      <th>1</th>\n",
       "      <td>NaN</td>\n",
       "      <td>$430,570</td>\n",
       "      <td>3 Ton 30 Kg</td>\n",
       "      <td>Sep 10 1997</td>\n",
       "      <td>J,D</td>\n",
       "      <td>basic</td>\n",
       "      <td>NaN</td>\n",
       "      <td>IN732054,IN732055,IN732056,IN732057,IN732058</td>\n",
       "      <td>2.67 meters</td>\n",
       "      <td>98 cm</td>\n",
       "      <td>26 cm</td>\n",
       "    </tr>\n",
       "    <tr>\n",
       "      <th>2</th>\n",
       "      <td>$270k</td>\n",
       "      <td>$213,070</td>\n",
       "      <td>3 Ton 40 Kg</td>\n",
       "      <td>Sep 05 2001</td>\n",
       "      <td>J,D</td>\n",
       "      <td>basic</td>\n",
       "      <td>NaN</td>\n",
       "      <td>IN732054,IN732059,IN732060</td>\n",
       "      <td>3.0 meters</td>\n",
       "      <td>93 cm</td>\n",
       "      <td>24 cm</td>\n",
       "    </tr>\n",
       "    <tr>\n",
       "      <th>3</th>\n",
       "      <td>NaN</td>\n",
       "      <td>$229,174</td>\n",
       "      <td>3 Ton 50 Kg</td>\n",
       "      <td>Dec 23 2016</td>\n",
       "      <td>U</td>\n",
       "      <td>advanced</td>\n",
       "      <td>M14123</td>\n",
       "      <td>IN732061,IN732062,IN732063</td>\n",
       "      <td>2.5 meters</td>\n",
       "      <td>102 cm</td>\n",
       "      <td>27 cm</td>\n",
       "    </tr>\n",
       "    <tr>\n",
       "      <th>4</th>\n",
       "      <td>$97k</td>\n",
       "      <td>$122,659</td>\n",
       "      <td>2 Ton 970 Kg</td>\n",
       "      <td>Jan 12 2000</td>\n",
       "      <td>D,R</td>\n",
       "      <td>advanced</td>\n",
       "      <td>NaN</td>\n",
       "      <td>IN732064,IN732065,IN732066</td>\n",
       "      <td>2.47 meters</td>\n",
       "      <td>101 cm</td>\n",
       "      <td>26 cm</td>\n",
       "    </tr>\n",
       "  </tbody>\n",
       "</table>\n",
       "</div>"
      ],
      "text/plain": [
       "    cost     price        weight purchase_date product_type product_level  \\\n",
       "0  $333k  $300,492   3 Ton 90 Kg   Dec 19 2008          Q,B      advanced   \n",
       "1    NaN  $430,570   3 Ton 30 Kg   Sep 10 1997          J,D         basic   \n",
       "2  $270k  $213,070   3 Ton 40 Kg   Sep 05 2001          J,D         basic   \n",
       "3    NaN  $229,174   3 Ton 50 Kg   Dec 23 2016            U      advanced   \n",
       "4   $97k  $122,659  2 Ton 970 Kg   Jan 12 2000          D,R      advanced   \n",
       "\n",
       "    maker                                    ingredient       height   width  \\\n",
       "0  M14122                             IN732052,IN732053  2.76 meters   97 cm   \n",
       "1     NaN  IN732054,IN732055,IN732056,IN732057,IN732058  2.67 meters   98 cm   \n",
       "2     NaN                    IN732054,IN732059,IN732060   3.0 meters   93 cm   \n",
       "3  M14123                    IN732061,IN732062,IN732063   2.5 meters  102 cm   \n",
       "4     NaN                    IN732064,IN732065,IN732066  2.47 meters  101 cm   \n",
       "\n",
       "   depth  \n",
       "0  26 cm  \n",
       "1  26 cm  \n",
       "2  24 cm  \n",
       "3  27 cm  \n",
       "4  26 cm  "
      ]
     },
     "execution_count": 2,
     "metadata": {},
     "output_type": "execute_result"
    }
   ],
   "source": [
    "df.head()"
   ]
  },
  {
   "cell_type": "code",
   "execution_count": 3,
   "metadata": {},
   "outputs": [],
   "source": [
    "df['year'] = pd.to_datetime(df.purchase_date).dt.year\n",
    "train_raw = df[df.year < 2015].reset_index(drop=True)\n",
    "test_raw = df[df.year >= 2015].reset_index(drop=True)"
   ]
  },
  {
   "cell_type": "markdown",
   "metadata": {},
   "source": [
    "# 1. Random Forest"
   ]
  },
  {
   "cell_type": "markdown",
   "metadata": {},
   "source": [
    "<font color='red'>Assignment:</font> Build a pipeline with **RandomForestRegressor** to predict **price** with **cost**, **weight**, **height**, **width**, **depth**, and **volume**."
   ]
  },
  {
   "cell_type": "code",
   "execution_count": 4,
   "metadata": {},
   "outputs": [],
   "source": [
    "from sklearn.ensemble import RandomForestRegressor\n",
    "from sklearn.pipeline import Pipeline\n",
    "from sklearn.preprocessing import MinMaxScaler\n",
    "from sklearn.metrics import mean_absolute_error, mean_squared_error, r2_score"
   ]
  },
  {
   "cell_type": "code",
   "execution_count": 5,
   "metadata": {},
   "outputs": [],
   "source": [
    "from sklearn.base import TransformerMixin\n",
    "\n",
    "class Transformer(TransformerMixin):\n",
    "    '''\n",
    "    A transformer class to extract numerical features\n",
    "    (cost, weight, height, width, and depth) and replace\n",
    "    the missing values with the averages in train data\n",
    "    '''\n",
    "\n",
    "    def __init__(self):  # maybe can use super() since it is inheritance?\n",
    "        self.mean = 0\n",
    "    \n",
    "    def fit(self, X, y=None):\n",
    "        '''\n",
    "        Get mean\n",
    "        Input: X datafrome\n",
    "        '''\n",
    "        df = pd.DataFrame()\n",
    "        df['cost'] = X['cost'].map(self.cost2num)\n",
    "        df['weight'] = X['weight'].map(self.weight2num)\n",
    "        df['height'] = X['height'].map(self.height2num)\n",
    "        df['width'] = X['width'].map(self.width2num)        \n",
    "        df['depth'] = X['depth'].map(self.depth2num)\n",
    "        df['volume'] = 100 * df['height'] * df['width'] * df['depth']\n",
    "        self.mean = df.mean()\n",
    "\n",
    "    def transform(self, X, y=None):\n",
    "        '''\n",
    "        Transform data and fill na with mean\n",
    "        Input: X dataframe\n",
    "        '''\n",
    "        df = pd.DataFrame()\n",
    "        df['cost'] = X['cost'].map(self.cost2num)\n",
    "        df['weight'] = X['weight'].map(self.weight2num)\n",
    "        df['height'] = X['height'].map(self.height2num)\n",
    "        df['width'] = X['width'].map(self.width2num)        \n",
    "        df['depth'] = X['depth'].map(self.depth2num)\n",
    "        df['volume'] = 100 * df['height'] * df['width'] * df['depth']\n",
    "        return df.fillna(self.mean)\n",
    " \n",
    "    def fit_transform(self, X, y=None):\n",
    "        '''\n",
    "        Combine fit and transform\n",
    "        Input: X dataframe\n",
    "        '''        \n",
    "        self.fit(X)\n",
    "        return self.transform(X)\n",
    "        \n",
    "    # Convert cost string to numeric (unit: $)        \n",
    "    def cost2num(self, x):\n",
    "        if type(x) == str:\n",
    "            x = x.strip('$').strip('k')\n",
    "            return float(x)*1000\n",
    "        else:\n",
    "            return x\n",
    "\n",
    "    # Convert weight string to numeric (unit: kg)\n",
    "    def weight2num(self, x):\n",
    "        if type(x) == str:\n",
    "            x = x.strip('Kg').strip().split(' Ton ')\n",
    "            return float(x[0])*1000+float(x[1])\n",
    "        else:\n",
    "            return x\n",
    "    \n",
    "    # Convert height string to numeric (unit: cm)\n",
    "    def height2num(self, x):\n",
    "        if type(x) == str:\n",
    "            x = x.strip('meters').strip()\n",
    "            return float(x)*100\n",
    "        else:\n",
    "            return x        \n",
    "    \n",
    "    # Convert width string to numeric (unit: cm)\n",
    "    def width2num(self, x):\n",
    "        if type(x) == str:\n",
    "            x = x.strip('cm').strip()\n",
    "            return float(x)\n",
    "        else:\n",
    "            return x   \n",
    "\n",
    "    # Convert depth string to numeric (unit: cm)\n",
    "    def depth2num(self, x):\n",
    "        if type(x) == str:\n",
    "            x = x.strip('cm').strip()\n",
    "            return float(x)\n",
    "        else:\n",
    "            return x   "
   ]
  },
  {
   "cell_type": "code",
   "execution_count": 6,
   "metadata": {},
   "outputs": [],
   "source": [
    "features = list(train_raw.columns)\n",
    "target = 'price'\n",
    "features.remove(target)"
   ]
  },
  {
   "cell_type": "code",
   "execution_count": 7,
   "metadata": {},
   "outputs": [],
   "source": [
    "def price2num(x):\n",
    "    if type(x) == str: \n",
    "        x = x.strip('$').replace(',', '')\n",
    "    return float(x)"
   ]
  },
  {
   "cell_type": "code",
   "execution_count": 8,
   "metadata": {},
   "outputs": [],
   "source": [
    "X_train = train_raw[features]\n",
    "y_train = train_raw[target].map(price2num)\n",
    "\n",
    "X_test = test_raw[features]\n",
    "y_test = test_raw[target].map(price2num)"
   ]
  },
  {
   "cell_type": "code",
   "execution_count": 9,
   "metadata": {},
   "outputs": [],
   "source": [
    "steps = [('tf', Transformer()),\n",
    "         ('tree', RandomForestRegressor())]\n",
    "model = Pipeline(steps)"
   ]
  },
  {
   "cell_type": "code",
   "execution_count": 10,
   "metadata": {},
   "outputs": [
    {
     "data": {
      "text/plain": [
       "Pipeline(steps=[('tf', <__main__.Transformer object at 0x000001F78F876E50>),\n",
       "                ('tree', RandomForestRegressor())])"
      ]
     },
     "execution_count": 10,
     "metadata": {},
     "output_type": "execute_result"
    }
   ],
   "source": [
    "model.fit(X_train, y_train)"
   ]
  },
  {
   "cell_type": "markdown",
   "metadata": {},
   "source": [
    "<font color='red'>Assignment:</font> Calculate the train/test scores."
   ]
  },
  {
   "cell_type": "code",
   "execution_count": 11,
   "metadata": {},
   "outputs": [],
   "source": [
    "y_train_pred = model.predict(X_train)"
   ]
  },
  {
   "cell_type": "code",
   "execution_count": 12,
   "metadata": {},
   "outputs": [
    {
     "name": "stdout",
     "output_type": "stream",
     "text": [
      "train MAE: 4.36e+04\n",
      "train MSE: 4.46e+09\n",
      "train R2: 0.895\n"
     ]
    }
   ],
   "source": [
    "print('train MAE: {0:.2e}'.format(mean_absolute_error(y_train, y_train_pred)))\n",
    "print('train MSE: {0:.2e}'.format(mean_squared_error(y_train, y_train_pred)))\n",
    "print('train R2: {0:.3f}'.format(r2_score(y_train, y_train_pred)))"
   ]
  },
  {
   "cell_type": "code",
   "execution_count": 13,
   "metadata": {},
   "outputs": [],
   "source": [
    "y_test_pred = model.predict(X_test)"
   ]
  },
  {
   "cell_type": "code",
   "execution_count": 14,
   "metadata": {},
   "outputs": [
    {
     "name": "stdout",
     "output_type": "stream",
     "text": [
      "test MAE: 1.28e+05\n",
      "test MSE: 5.44e+10\n",
      "test R2: 0.368\n"
     ]
    }
   ],
   "source": [
    "print('test MAE: {0:.2e}'.format(mean_absolute_error(y_test, y_test_pred)))\n",
    "print('test MSE: {0:.2e}'.format(mean_squared_error(y_test, y_test_pred)))\n",
    "print('test R2: {0:.3f}'.format(r2_score(y_test, y_test_pred)))"
   ]
  },
  {
   "cell_type": "markdown",
   "metadata": {},
   "source": [
    "<font color='red'>Assignment:</font> Plot the feature importance in a bar chart."
   ]
  },
  {
   "cell_type": "code",
   "execution_count": 15,
   "metadata": {},
   "outputs": [],
   "source": [
    "import matplotlib.pylab as plt\n",
    "%matplotlib inline"
   ]
  },
  {
   "cell_type": "code",
   "execution_count": 16,
   "metadata": {},
   "outputs": [],
   "source": [
    "importances = model.steps[1][1].feature_importances_"
   ]
  },
  {
   "cell_type": "code",
   "execution_count": 17,
   "metadata": {},
   "outputs": [
    {
     "data": {
      "text/plain": [
       "array([0.4639296 , 0.13484549, 0.11833494, 0.06969547, 0.02397702,\n",
       "       0.18921747])"
      ]
     },
     "execution_count": 17,
     "metadata": {},
     "output_type": "execute_result"
    }
   ],
   "source": [
    "importances"
   ]
  },
  {
   "cell_type": "code",
   "execution_count": 18,
   "metadata": {},
   "outputs": [
    {
     "data": {
      "text/plain": [
       "([<matplotlib.axis.XTick at 0x1f791476af0>,\n",
       "  <matplotlib.axis.XTick at 0x1f791476ac0>,\n",
       "  <matplotlib.axis.XTick at 0x1f79146b640>,\n",
       "  <matplotlib.axis.XTick at 0x1f7914be640>,\n",
       "  <matplotlib.axis.XTick at 0x1f7914beb50>,\n",
       "  <matplotlib.axis.XTick at 0x1f7914be820>],\n",
       " [Text(0, 0, 'cost'),\n",
       "  Text(1, 0, 'weight'),\n",
       "  Text(2, 0, 'height'),\n",
       "  Text(3, 0, 'width'),\n",
       "  Text(4, 0, 'depth'),\n",
       "  Text(5, 0, 'volume')])"
      ]
     },
     "execution_count": 18,
     "metadata": {},
     "output_type": "execute_result"
    },
    {
     "data": {
      "image/png": "[encoded data removed]",
      "text/plain": [
       "<Figure size 432x288 with 1 Axes>"
      ]
     },
     "metadata": {
      "needs_background": "light"
     },
     "output_type": "display_data"
    }
   ],
   "source": [
    "plt.bar(range(len(importances)), importances, color=\"r\", align = \"center\")\n",
    "plt.xticks(range(len(importances)), ['cost', 'weight', 'height', 'width', 'depth', 'volume'])"
   ]
  },
  {
   "cell_type": "markdown",
   "metadata": {},
   "source": [
    "### Why random forest?\n",
    "\n",
    "To overcome the overfitting issue of single decision trees, but keep the simplicity of decision tree algorithm. Fast and robust, can be used as baseline model."
   ]
  },
  {
   "cell_type": "markdown",
   "metadata": {},
   "source": [
    "<font color='red'>Question:</font> How does Random Forest work?"
   ]
  },
  {
   "cell_type": "markdown",
   "metadata": {},
   "source": [
    "### Random Forest is a supervised learning algorithm. It is an ensemble of Decision Trees, most of the time trained with the “bagging” method. Random forest builds multiple decision trees and merges the prediction results together to get a more accurate and stable prediction. Random Forest adds additional randomness to the model, while growing the trees. Instead of searching for the most important feature while splitting a node, it searches for the best feature among a random subset of features."
   ]
  },
  {
   "cell_type": "markdown",
   "metadata": {},
   "source": [
    "<font color='red'>Question:</font> Why is Random Forest better than a single decision tree?"
   ]
  },
  {
   "cell_type": "markdown",
   "metadata": {},
   "source": [
    "### An individual tree tends to overfit to the training data. The random forest takes an average of all the individual decision tree estimates, which leads to more robust overall predictions."
   ]
  },
  {
   "cell_type": "markdown",
   "metadata": {},
   "source": [
    "<font color='red'>Question:</font> How does Random Forest decrease model error? How does it affect bias and variance?"
   ]
  },
  {
   "cell_type": "markdown",
   "metadata": {},
   "source": [
    "### The basic idea behind Random Forest is to combine multiple decision trees in determining the final output rather than relying on individual decision trees. Each decision tree in the forest considers a random subset of features when forming nodes and only has access to a random set of the training data points. Therefore, Random Forest average together a number of weakly correlated trees to reduce variance in predictions.\n",
    "\n",
    "### Randomness comes from two sources:\n",
    "- Each decision tree in the forest considers a random subset of features\n",
    "- Each decision tree in the forest only has access to a random set of the training data points (see \"bagging\" below)\n",
    "\n",
    "### Each tree can be deep (low bias high variance), and the averaging process reduces variance while maintaining (to some extent) the low bias. There is trade-off between bias and variance."
   ]
  },
  {
   "cell_type": "markdown",
   "metadata": {},
   "source": [
    "<font color='red'>Question:</font> What is Bagging?"
   ]
  },
  {
   "cell_type": "markdown",
   "metadata": {},
   "source": [
    "### Bagging (Bootstrap Aggregating) is designed to reduce variance and help to avoid overfitting. Bagging uses the insight that a suitably large number of uncorrelated errors average out to zero. Bagging chooses multiple random samples of observations from the training data, with replacement, constructing a tree from each one. Since each tree learns from different data, they are fairly uncorrelated from one another. The final predicted value is the average value of all these decision trees. "
   ]
  },
  {
   "cell_type": "markdown",
   "metadata": {},
   "source": [
    "### What is bootstrap?\n",
    "\n",
    "Bootstrap is a resampling technique used to estimate statistics on a population by sampling a dataset with replacement. \n",
    "\n",
    "Why with replacement: https://stats.stackexchange.com/questions/171440/bootstrap-methodology-why-resample-with-replacement-instead-of-random-subsamp\n",
    "\n",
    "### What is out of bag (OOB) samples? What is out of bag score?\n",
    "\n",
    "While making the samples during bootstrapping, samples are chosen randomly and with replacement. The samples that are not chosen are of out bag samples.\n",
    "\n",
    "The OOB_score is computed as the number of correctly predicted rows from the out-of-bag sample."
   ]
  },
  {
   "cell_type": "markdown",
   "metadata": {},
   "source": [
    "<font color='red'>Assignment:</font> Tune hyperparameters with k-fold cross validation to optimize model performance."
   ]
  },
  {
   "cell_type": "code",
   "execution_count": 19,
   "metadata": {},
   "outputs": [],
   "source": [
    "from sklearn.model_selection import KFold\n",
    "from sklearn.model_selection import GridSearchCV\n",
    "from sklearn.metrics import make_scorer"
   ]
  },
  {
   "cell_type": "code",
   "execution_count": 20,
   "metadata": {},
   "outputs": [],
   "source": [
    "#don't write too long lines, it's hard to read  PEP8\n",
    "#the starting point should be close to sklearn default values\n",
    "#first do a coarse search\n",
    "#find out the variance/bias trend for each parameter, and know the direction to tune\n",
    "#then do a fine search\n",
    "#https://scikit-learn.org/stable/modules/generated/sklearn.ensemble.RandomForestClassifier.html\n",
    "parameters = {\n",
    "              'rf__max_depth': [3, 6, 9, 20, 50, 100], #default is None, which means infinity\n",
    "              'rf__min_samples_leaf': [1, 3, 5, 10, 20],\n",
    "              'rf__min_samples_split': [2, 3, 5, 8]\n",
    "             }"
   ]
  },
  {
   "cell_type": "code",
   "execution_count": 21,
   "metadata": {},
   "outputs": [],
   "source": [
    "scorer = make_scorer(mean_squared_error, greater_is_better = False)"
   ]
  },
  {
   "cell_type": "code",
   "execution_count": 22,
   "metadata": {},
   "outputs": [],
   "source": [
    "steps = [('tf', Transformer()),\n",
    "         ('rf', RandomForestRegressor(n_estimators=50,n_jobs=-1))]\n",
    "model = Pipeline(steps)"
   ]
  },
  {
   "cell_type": "code",
   "execution_count": 23,
   "metadata": {},
   "outputs": [],
   "source": [
    "model_gsv = GridSearchCV(model,\n",
    "                         parameters,\n",
    "                         cv = 3,\n",
    "                         scoring = scorer,\n",
    "                         n_jobs=-1,\n",
    "                         return_train_score=True)"
   ]
  },
  {
   "cell_type": "code",
   "execution_count": 24,
   "metadata": {},
   "outputs": [],
   "source": [
    "model_gsv = model_gsv.fit(X_train, y_train)"
   ]
  },
  {
   "cell_type": "code",
   "execution_count": 25,
   "metadata": {},
   "outputs": [
    {
     "data": {
      "text/plain": [
       "-27608175571.788025"
      ]
     },
     "execution_count": 25,
     "metadata": {},
     "output_type": "execute_result"
    }
   ],
   "source": [
    "model_gsv.best_score_"
   ]
  },
  {
   "cell_type": "code",
   "execution_count": 26,
   "metadata": {},
   "outputs": [
    {
     "data": {
      "text/plain": [
       "{'mean_fit_time': array([0.22366571, 0.3079985 , 0.23408333, 0.21958796, 0.26608531,\n",
       "        0.2703325 , 0.23666628, 0.26555943, 0.24017477, 0.26766809,\n",
       "        0.238331  , 0.26699917, 0.27699892, 0.25799823, 0.2763327 ,\n",
       "        0.25466426, 0.26000023, 0.2543327 , 0.25033188, 0.28466598,\n",
       "        0.26300224, 0.30233177, 0.31799936, 0.32333819, 0.31633258,\n",
       "        0.3613375 , 0.29136602, 0.32937264, 0.30066593, 0.33199946,\n",
       "        0.32499846, 0.31733282, 0.3263336 , 0.35499652, 0.30166411,\n",
       "        0.32500021, 0.27633365, 0.26499907, 0.30633235, 0.33333389,\n",
       "        0.31366595, 0.33000151, 0.35433133, 0.35299961, 0.33233333,\n",
       "        0.41366768, 0.33199747, 0.38066721, 0.3040007 , 0.35999997,\n",
       "        0.32800062, 0.30366715, 0.35133227, 0.30099781, 0.35422953,\n",
       "        0.31926878, 0.3326687 , 0.32733266, 0.29366565, 0.32099978,\n",
       "        0.42399955, 0.45666671, 0.42300042, 0.37733364, 0.42400058,\n",
       "        0.39700063, 0.44666449, 0.43333236, 0.43266694, 0.39900231,\n",
       "        0.31299686, 0.41066726, 0.36066699, 0.37933334, 0.41066527,\n",
       "        0.32466475, 0.33433278, 0.35066708, 0.33599989, 0.33334931,\n",
       "        0.37204719, 0.4866844 , 0.4638776 , 0.4575146 , 0.38299839,\n",
       "        0.4723328 , 0.37166476, 0.41267125, 0.42368491, 0.36967595,\n",
       "        0.33133332, 0.43033195, 0.35800234, 0.30033366, 0.35317834,\n",
       "        0.30951174, 0.28633412, 0.32700253, 0.3010029 , 0.30233415,\n",
       "        0.42499908, 0.51833344, 0.43766483, 0.3939995 , 0.38433226,\n",
       "        0.48933132, 0.32666532, 0.37799859, 0.39466723, 0.39633544,\n",
       "        0.40599767, 0.40500069, 0.38999963, 0.39133263, 0.31866519,\n",
       "        0.35966881, 0.3443319 , 0.31466508, 0.31899714, 0.26166638]),\n",
       " 'std_fit_time': array([0.01167267, 0.00648108, 0.01408172, 0.01265976, 0.01648106,\n",
       "        0.02638939, 0.02688648, 0.01948215, 0.01966583, 0.01389034,\n",
       "        0.00865256, 0.01593831, 0.01790799, 0.01022989, 0.02007252,\n",
       "        0.02683579, 0.01667291, 0.0038589 , 0.01388899, 0.01774435,\n",
       "        0.03144442, 0.01713361, 0.0268697 , 0.01818668, 0.01604921,\n",
       "        0.01180915, 0.02559083, 0.02265976, 0.02503721, 0.01080082,\n",
       "        0.01104425, 0.04076403, 0.05733209, 0.00779129, 0.02503611,\n",
       "        0.04130332, 0.03644323, 0.03639632, 0.00478445, 0.03353007,\n",
       "        0.03574127, 0.03275069, 0.03724098, 0.02342326, 0.01144729,\n",
       "        0.02216994, 0.02111699, 0.00731741, 0.00852654, 0.02899361,\n",
       "        0.02673144, 0.04079538, 0.07226984, 0.03293346, 0.03655629,\n",
       "        0.01517962, 0.03440897, 0.03125545, 0.03306919, 0.05219881,\n",
       "        0.078618  , 0.10165421, 0.08621278, 0.02821845, 0.03353509,\n",
       "        0.04463954, 0.06565337, 0.06343329, 0.04682925, 0.00778996,\n",
       "        0.04144659, 0.03923715, 0.0561806 , 0.01855151, 0.03198478,\n",
       "        0.02828873, 0.0240882 , 0.01438455, 0.02727645, 0.03644135,\n",
       "        0.01883072, 0.02361715, 0.04576289, 0.02608667, 0.04138368,\n",
       "        0.02438907, 0.03985587, 0.02590199, 0.01552163, 0.06753078,\n",
       "        0.02725622, 0.00330094, 0.09273732, 0.03785443, 0.03575218,\n",
       "        0.04327058, 0.0337144 , 0.0403056 , 0.03234052, 0.00449752,\n",
       "        0.03990811, 0.12605879, 0.10522865, 0.06011714, 0.05002864,\n",
       "        0.0662021 , 0.07375901, 0.02127466, 0.07121056, 0.07409481,\n",
       "        0.01845625, 0.04758795, 0.05657406, 0.03975197, 0.05519652,\n",
       "        0.03511085, 0.02704767, 0.01554177, 0.030242  , 0.03715158]),\n",
       " 'mean_score_time': array([0.05399919, 0.06333462, 0.05166705, 0.06133421, 0.05266762,\n",
       "        0.06499879, 0.04693143, 0.0449996 , 0.04766981, 0.04599849,\n",
       "        0.0520002 , 0.04966537, 0.05266841, 0.04966664, 0.05000075,\n",
       "        0.05633545, 0.04433664, 0.05233399, 0.0556674 , 0.05433313,\n",
       "        0.04766377, 0.06233525, 0.04400086, 0.08066281, 0.06633385,\n",
       "        0.07100709, 0.05633283, 0.05032651, 0.04500198, 0.0603346 ,\n",
       "        0.04799906, 0.08200041, 0.06366809, 0.05999978, 0.05233343,\n",
       "        0.05800064, 0.06000042, 0.04133455, 0.05633322, 0.0586648 ,\n",
       "        0.05200052, 0.05099805, 0.0586675 , 0.08733368, 0.05266539,\n",
       "        0.08799815, 0.06966766, 0.05399831, 0.07899833, 0.04666758,\n",
       "        0.0433317 , 0.05333106, 0.05466541, 0.05500269, 0.05450877,\n",
       "        0.0533336 , 0.05233057, 0.04966807, 0.0443329 , 0.11499866,\n",
       "        0.08499948, 0.06300004, 0.06633544, 0.06933236, 0.08899935,\n",
       "        0.08400035, 0.04066904, 0.12466915, 0.06566652, 0.052332  ,\n",
       "        0.06066505, 0.05500038, 0.08300432, 0.06366722, 0.05199949,\n",
       "        0.05300037, 0.06500045, 0.06366571, 0.0686667 , 0.08503079,\n",
       "        0.09133554, 0.07354323, 0.07499965, 0.08000032, 0.0793341 ,\n",
       "        0.04866807, 0.0549988 , 0.08034102, 0.05933332, 0.06400077,\n",
       "        0.09099976, 0.07366816, 0.04766504, 0.0438424 , 0.06268668,\n",
       "        0.0775098 , 0.04666193, 0.04766329, 0.05899707, 0.07166648,\n",
       "        0.0490009 , 0.06566588, 0.11933382, 0.05299997, 0.10633341,\n",
       "        0.05066562, 0.08833408, 0.05500277, 0.05366691, 0.05733132,\n",
       "        0.04933476, 0.05366699, 0.05133422, 0.04966847, 0.10266773,\n",
       "        0.06266459, 0.06033341, 0.06100241, 0.04433274, 0.03167137]),\n",
       " 'std_score_time': array([0.00787471, 0.01826316, 0.00249405, 0.01189646, 0.00899703,\n",
       "        0.02275847, 0.00459185, 0.00496685, 0.00464793, 0.0065314 ,\n",
       "        0.00571576, 0.00623567, 0.01161294, 0.00703953, 0.00571662,\n",
       "        0.00758675, 0.00411025, 0.00679967, 0.00758675, 0.00205424,\n",
       "        0.00169695, 0.02168287, 0.00141428, 0.02590092, 0.01497449,\n",
       "        0.01124132, 0.01126829, 0.00623766, 0.00374164, 0.01342364,\n",
       "        0.00282867, 0.03302661, 0.00872928, 0.00778872, 0.0017007 ,\n",
       "        0.01122497, 0.00496634, 0.00094471, 0.00518603, 0.01579892,\n",
       "        0.00828593, 0.00828734, 0.00679868, 0.03968448, 0.00124424,\n",
       "        0.04091193, 0.00946276, 0.00962691, 0.02899029, 0.00579238,\n",
       "        0.0018861 , 0.006016  , 0.00543398, 0.00424099, 0.00268613,\n",
       "        0.00169986, 0.00402869, 0.01228489, 0.00188486, 0.06416114,\n",
       "        0.03293315, 0.0217713 , 0.00684559, 0.01497448, 0.05530504,\n",
       "        0.05329913, 0.00169924, 0.02780911, 0.02651196, 0.01065782,\n",
       "        0.01667959, 0.01131384, 0.00081704, 0.0102075 , 0.00431996,\n",
       "        0.00282817, 0.01267548, 0.00946167, 0.00464193, 0.05725661,\n",
       "        0.04855148, 0.02578341, 0.03677826, 0.01551499, 0.00531315,\n",
       "        0.00654643, 0.00374383, 0.04319082, 0.01541331, 0.01576907,\n",
       "        0.04883465, 0.02026932, 0.00125329, 0.00437531, 0.0139174 ,\n",
       "        0.03185101, 0.00330032, 0.00758633, 0.00828492, 0.00543624,\n",
       "        0.00355895, 0.01579721, 0.0796214 , 0.01358853, 0.05883488,\n",
       "        0.01228452, 0.05846086, 0.00163463, 0.00402598, 0.00838313,\n",
       "        0.01108541, 0.00754221, 0.00402886, 0.00411029, 0.04014414,\n",
       "        0.00249672, 0.01037071, 0.01605963, 0.00124738, 0.00572786]),\n",
       " 'param_rf__max_depth': masked_array(data=[3, 3, 3, 3, 3, 3, 3, 3, 3, 3, 3, 3, 3, 3, 3, 3, 3, 3,\n",
       "                    3, 3, 6, 6, 6, 6, 6, 6, 6, 6, 6, 6, 6, 6, 6, 6, 6, 6,\n",
       "                    6, 6, 6, 6, 9, 9, 9, 9, 9, 9, 9, 9, 9, 9, 9, 9, 9, 9,\n",
       "                    9, 9, 9, 9, 9, 9, 20, 20, 20, 20, 20, 20, 20, 20, 20,\n",
       "                    20, 20, 20, 20, 20, 20, 20, 20, 20, 20, 20, 50, 50, 50,\n",
       "                    50, 50, 50, 50, 50, 50, 50, 50, 50, 50, 50, 50, 50, 50,\n",
       "                    50, 50, 50, 100, 100, 100, 100, 100, 100, 100, 100,\n",
       "                    100, 100, 100, 100, 100, 100, 100, 100, 100, 100, 100,\n",
       "                    100],\n",
       "              mask=[False, False, False, False, False, False, False, False,\n",
       "                    False, False, False, False, False, False, False, False,\n",
       "                    False, False, False, False, False, False, False, False,\n",
       "                    False, False, False, False, False, False, False, False,\n",
       "                    False, False, False, False, False, False, False, False,\n",
       "                    False, False, False, False, False, False, False, False,\n",
       "                    False, False, False, False, False, False, False, False,\n",
       "                    False, False, False, False, False, False, False, False,\n",
       "                    False, False, False, False, False, False, False, False,\n",
       "                    False, False, False, False, False, False, False, False,\n",
       "                    False, False, False, False, False, False, False, False,\n",
       "                    False, False, False, False, False, False, False, False,\n",
       "                    False, False, False, False, False, False, False, False,\n",
       "                    False, False, False, False, False, False, False, False,\n",
       "                    False, False, False, False, False, False, False, False],\n",
       "        fill_value='?',\n",
       "             dtype=object),\n",
       " 'param_rf__min_samples_leaf': masked_array(data=[1, 1, 1, 1, 3, 3, 3, 3, 5, 5, 5, 5, 10, 10, 10, 10, 20,\n",
       "                    20, 20, 20, 1, 1, 1, 1, 3, 3, 3, 3, 5, 5, 5, 5, 10, 10,\n",
       "                    10, 10, 20, 20, 20, 20, 1, 1, 1, 1, 3, 3, 3, 3, 5, 5,\n",
       "                    5, 5, 10, 10, 10, 10, 20, 20, 20, 20, 1, 1, 1, 1, 3, 3,\n",
       "                    3, 3, 5, 5, 5, 5, 10, 10, 10, 10, 20, 20, 20, 20, 1, 1,\n",
       "                    1, 1, 3, 3, 3, 3, 5, 5, 5, 5, 10, 10, 10, 10, 20, 20,\n",
       "                    20, 20, 1, 1, 1, 1, 3, 3, 3, 3, 5, 5, 5, 5, 10, 10, 10,\n",
       "                    10, 20, 20, 20, 20],\n",
       "              mask=[False, False, False, False, False, False, False, False,\n",
       "                    False, False, False, False, False, False, False, False,\n",
       "                    False, False, False, False, False, False, False, False,\n",
       "                    False, False, False, False, False, False, False, False,\n",
       "                    False, False, False, False, False, False, False, False,\n",
       "                    False, False, False, False, False, False, False, False,\n",
       "                    False, False, False, False, False, False, False, False,\n",
       "                    False, False, False, False, False, False, False, False,\n",
       "                    False, False, False, False, False, False, False, False,\n",
       "                    False, False, False, False, False, False, False, False,\n",
       "                    False, False, False, False, False, False, False, False,\n",
       "                    False, False, False, False, False, False, False, False,\n",
       "                    False, False, False, False, False, False, False, False,\n",
       "                    False, False, False, False, False, False, False, False,\n",
       "                    False, False, False, False, False, False, False, False],\n",
       "        fill_value='?',\n",
       "             dtype=object),\n",
       " 'param_rf__min_samples_split': masked_array(data=[2, 3, 5, 8, 2, 3, 5, 8, 2, 3, 5, 8, 2, 3, 5, 8, 2, 3,\n",
       "                    5, 8, 2, 3, 5, 8, 2, 3, 5, 8, 2, 3, 5, 8, 2, 3, 5, 8,\n",
       "                    2, 3, 5, 8, 2, 3, 5, 8, 2, 3, 5, 8, 2, 3, 5, 8, 2, 3,\n",
       "                    5, 8, 2, 3, 5, 8, 2, 3, 5, 8, 2, 3, 5, 8, 2, 3, 5, 8,\n",
       "                    2, 3, 5, 8, 2, 3, 5, 8, 2, 3, 5, 8, 2, 3, 5, 8, 2, 3,\n",
       "                    5, 8, 2, 3, 5, 8, 2, 3, 5, 8, 2, 3, 5, 8, 2, 3, 5, 8,\n",
       "                    2, 3, 5, 8, 2, 3, 5, 8, 2, 3, 5, 8],\n",
       "              mask=[False, False, False, False, False, False, False, False,\n",
       "                    False, False, False, False, False, False, False, False,\n",
       "                    False, False, False, False, False, False, False, False,\n",
       "                    False, False, False, False, False, False, False, False,\n",
       "                    False, False, False, False, False, False, False, False,\n",
       "                    False, False, False, False, False, False, False, False,\n",
       "                    False, False, False, False, False, False, False, False,\n",
       "                    False, False, False, False, False, False, False, False,\n",
       "                    False, False, False, False, False, False, False, False,\n",
       "                    False, False, False, False, False, False, False, False,\n",
       "                    False, False, False, False, False, False, False, False,\n",
       "                    False, False, False, False, False, False, False, False,\n",
       "                    False, False, False, False, False, False, False, False,\n",
       "                    False, False, False, False, False, False, False, False,\n",
       "                    False, False, False, False, False, False, False, False],\n",
       "        fill_value='?',\n",
       "             dtype=object),\n",
       " 'params': [{'rf__max_depth': 3,\n",
       "   'rf__min_samples_leaf': 1,\n",
       "   'rf__min_samples_split': 2},\n",
       "  {'rf__max_depth': 3, 'rf__min_samples_leaf': 1, 'rf__min_samples_split': 3},\n",
       "  {'rf__max_depth': 3, 'rf__min_samples_leaf': 1, 'rf__min_samples_split': 5},\n",
       "  {'rf__max_depth': 3, 'rf__min_samples_leaf': 1, 'rf__min_samples_split': 8},\n",
       "  {'rf__max_depth': 3, 'rf__min_samples_leaf': 3, 'rf__min_samples_split': 2},\n",
       "  {'rf__max_depth': 3, 'rf__min_samples_leaf': 3, 'rf__min_samples_split': 3},\n",
       "  {'rf__max_depth': 3, 'rf__min_samples_leaf': 3, 'rf__min_samples_split': 5},\n",
       "  {'rf__max_depth': 3, 'rf__min_samples_leaf': 3, 'rf__min_samples_split': 8},\n",
       "  {'rf__max_depth': 3, 'rf__min_samples_leaf': 5, 'rf__min_samples_split': 2},\n",
       "  {'rf__max_depth': 3, 'rf__min_samples_leaf': 5, 'rf__min_samples_split': 3},\n",
       "  {'rf__max_depth': 3, 'rf__min_samples_leaf': 5, 'rf__min_samples_split': 5},\n",
       "  {'rf__max_depth': 3, 'rf__min_samples_leaf': 5, 'rf__min_samples_split': 8},\n",
       "  {'rf__max_depth': 3, 'rf__min_samples_leaf': 10, 'rf__min_samples_split': 2},\n",
       "  {'rf__max_depth': 3, 'rf__min_samples_leaf': 10, 'rf__min_samples_split': 3},\n",
       "  {'rf__max_depth': 3, 'rf__min_samples_leaf': 10, 'rf__min_samples_split': 5},\n",
       "  {'rf__max_depth': 3, 'rf__min_samples_leaf': 10, 'rf__min_samples_split': 8},\n",
       "  {'rf__max_depth': 3, 'rf__min_samples_leaf': 20, 'rf__min_samples_split': 2},\n",
       "  {'rf__max_depth': 3, 'rf__min_samples_leaf': 20, 'rf__min_samples_split': 3},\n",
       "  {'rf__max_depth': 3, 'rf__min_samples_leaf': 20, 'rf__min_samples_split': 5},\n",
       "  {'rf__max_depth': 3, 'rf__min_samples_leaf': 20, 'rf__min_samples_split': 8},\n",
       "  {'rf__max_depth': 6, 'rf__min_samples_leaf': 1, 'rf__min_samples_split': 2},\n",
       "  {'rf__max_depth': 6, 'rf__min_samples_leaf': 1, 'rf__min_samples_split': 3},\n",
       "  {'rf__max_depth': 6, 'rf__min_samples_leaf': 1, 'rf__min_samples_split': 5},\n",
       "  {'rf__max_depth': 6, 'rf__min_samples_leaf': 1, 'rf__min_samples_split': 8},\n",
       "  {'rf__max_depth': 6, 'rf__min_samples_leaf': 3, 'rf__min_samples_split': 2},\n",
       "  {'rf__max_depth': 6, 'rf__min_samples_leaf': 3, 'rf__min_samples_split': 3},\n",
       "  {'rf__max_depth': 6, 'rf__min_samples_leaf': 3, 'rf__min_samples_split': 5},\n",
       "  {'rf__max_depth': 6, 'rf__min_samples_leaf': 3, 'rf__min_samples_split': 8},\n",
       "  {'rf__max_depth': 6, 'rf__min_samples_leaf': 5, 'rf__min_samples_split': 2},\n",
       "  {'rf__max_depth': 6, 'rf__min_samples_leaf': 5, 'rf__min_samples_split': 3},\n",
       "  {'rf__max_depth': 6, 'rf__min_samples_leaf': 5, 'rf__min_samples_split': 5},\n",
       "  {'rf__max_depth': 6, 'rf__min_samples_leaf': 5, 'rf__min_samples_split': 8},\n",
       "  {'rf__max_depth': 6, 'rf__min_samples_leaf': 10, 'rf__min_samples_split': 2},\n",
       "  {'rf__max_depth': 6, 'rf__min_samples_leaf': 10, 'rf__min_samples_split': 3},\n",
       "  {'rf__max_depth': 6, 'rf__min_samples_leaf': 10, 'rf__min_samples_split': 5},\n",
       "  {'rf__max_depth': 6, 'rf__min_samples_leaf': 10, 'rf__min_samples_split': 8},\n",
       "  {'rf__max_depth': 6, 'rf__min_samples_leaf': 20, 'rf__min_samples_split': 2},\n",
       "  {'rf__max_depth': 6, 'rf__min_samples_leaf': 20, 'rf__min_samples_split': 3},\n",
       "  {'rf__max_depth': 6, 'rf__min_samples_leaf': 20, 'rf__min_samples_split': 5},\n",
       "  {'rf__max_depth': 6, 'rf__min_samples_leaf': 20, 'rf__min_samples_split': 8},\n",
       "  {'rf__max_depth': 9, 'rf__min_samples_leaf': 1, 'rf__min_samples_split': 2},\n",
       "  {'rf__max_depth': 9, 'rf__min_samples_leaf': 1, 'rf__min_samples_split': 3},\n",
       "  {'rf__max_depth': 9, 'rf__min_samples_leaf': 1, 'rf__min_samples_split': 5},\n",
       "  {'rf__max_depth': 9, 'rf__min_samples_leaf': 1, 'rf__min_samples_split': 8},\n",
       "  {'rf__max_depth': 9, 'rf__min_samples_leaf': 3, 'rf__min_samples_split': 2},\n",
       "  {'rf__max_depth': 9, 'rf__min_samples_leaf': 3, 'rf__min_samples_split': 3},\n",
       "  {'rf__max_depth': 9, 'rf__min_samples_leaf': 3, 'rf__min_samples_split': 5},\n",
       "  {'rf__max_depth': 9, 'rf__min_samples_leaf': 3, 'rf__min_samples_split': 8},\n",
       "  {'rf__max_depth': 9, 'rf__min_samples_leaf': 5, 'rf__min_samples_split': 2},\n",
       "  {'rf__max_depth': 9, 'rf__min_samples_leaf': 5, 'rf__min_samples_split': 3},\n",
       "  {'rf__max_depth': 9, 'rf__min_samples_leaf': 5, 'rf__min_samples_split': 5},\n",
       "  {'rf__max_depth': 9, 'rf__min_samples_leaf': 5, 'rf__min_samples_split': 8},\n",
       "  {'rf__max_depth': 9, 'rf__min_samples_leaf': 10, 'rf__min_samples_split': 2},\n",
       "  {'rf__max_depth': 9, 'rf__min_samples_leaf': 10, 'rf__min_samples_split': 3},\n",
       "  {'rf__max_depth': 9, 'rf__min_samples_leaf': 10, 'rf__min_samples_split': 5},\n",
       "  {'rf__max_depth': 9, 'rf__min_samples_leaf': 10, 'rf__min_samples_split': 8},\n",
       "  {'rf__max_depth': 9, 'rf__min_samples_leaf': 20, 'rf__min_samples_split': 2},\n",
       "  {'rf__max_depth': 9, 'rf__min_samples_leaf': 20, 'rf__min_samples_split': 3},\n",
       "  {'rf__max_depth': 9, 'rf__min_samples_leaf': 20, 'rf__min_samples_split': 5},\n",
       "  {'rf__max_depth': 9, 'rf__min_samples_leaf': 20, 'rf__min_samples_split': 8},\n",
       "  {'rf__max_depth': 20, 'rf__min_samples_leaf': 1, 'rf__min_samples_split': 2},\n",
       "  {'rf__max_depth': 20, 'rf__min_samples_leaf': 1, 'rf__min_samples_split': 3},\n",
       "  {'rf__max_depth': 20, 'rf__min_samples_leaf': 1, 'rf__min_samples_split': 5},\n",
       "  {'rf__max_depth': 20, 'rf__min_samples_leaf': 1, 'rf__min_samples_split': 8},\n",
       "  {'rf__max_depth': 20, 'rf__min_samples_leaf': 3, 'rf__min_samples_split': 2},\n",
       "  {'rf__max_depth': 20, 'rf__min_samples_leaf': 3, 'rf__min_samples_split': 3},\n",
       "  {'rf__max_depth': 20, 'rf__min_samples_leaf': 3, 'rf__min_samples_split': 5},\n",
       "  {'rf__max_depth': 20, 'rf__min_samples_leaf': 3, 'rf__min_samples_split': 8},\n",
       "  {'rf__max_depth': 20, 'rf__min_samples_leaf': 5, 'rf__min_samples_split': 2},\n",
       "  {'rf__max_depth': 20, 'rf__min_samples_leaf': 5, 'rf__min_samples_split': 3},\n",
       "  {'rf__max_depth': 20, 'rf__min_samples_leaf': 5, 'rf__min_samples_split': 5},\n",
       "  {'rf__max_depth': 20, 'rf__min_samples_leaf': 5, 'rf__min_samples_split': 8},\n",
       "  {'rf__max_depth': 20,\n",
       "   'rf__min_samples_leaf': 10,\n",
       "   'rf__min_samples_split': 2},\n",
       "  {'rf__max_depth': 20,\n",
       "   'rf__min_samples_leaf': 10,\n",
       "   'rf__min_samples_split': 3},\n",
       "  {'rf__max_depth': 20,\n",
       "   'rf__min_samples_leaf': 10,\n",
       "   'rf__min_samples_split': 5},\n",
       "  {'rf__max_depth': 20,\n",
       "   'rf__min_samples_leaf': 10,\n",
       "   'rf__min_samples_split': 8},\n",
       "  {'rf__max_depth': 20,\n",
       "   'rf__min_samples_leaf': 20,\n",
       "   'rf__min_samples_split': 2},\n",
       "  {'rf__max_depth': 20,\n",
       "   'rf__min_samples_leaf': 20,\n",
       "   'rf__min_samples_split': 3},\n",
       "  {'rf__max_depth': 20,\n",
       "   'rf__min_samples_leaf': 20,\n",
       "   'rf__min_samples_split': 5},\n",
       "  {'rf__max_depth': 20,\n",
       "   'rf__min_samples_leaf': 20,\n",
       "   'rf__min_samples_split': 8},\n",
       "  {'rf__max_depth': 50, 'rf__min_samples_leaf': 1, 'rf__min_samples_split': 2},\n",
       "  {'rf__max_depth': 50, 'rf__min_samples_leaf': 1, 'rf__min_samples_split': 3},\n",
       "  {'rf__max_depth': 50, 'rf__min_samples_leaf': 1, 'rf__min_samples_split': 5},\n",
       "  {'rf__max_depth': 50, 'rf__min_samples_leaf': 1, 'rf__min_samples_split': 8},\n",
       "  {'rf__max_depth': 50, 'rf__min_samples_leaf': 3, 'rf__min_samples_split': 2},\n",
       "  {'rf__max_depth': 50, 'rf__min_samples_leaf': 3, 'rf__min_samples_split': 3},\n",
       "  {'rf__max_depth': 50, 'rf__min_samples_leaf': 3, 'rf__min_samples_split': 5},\n",
       "  {'rf__max_depth': 50, 'rf__min_samples_leaf': 3, 'rf__min_samples_split': 8},\n",
       "  {'rf__max_depth': 50, 'rf__min_samples_leaf': 5, 'rf__min_samples_split': 2},\n",
       "  {'rf__max_depth': 50, 'rf__min_samples_leaf': 5, 'rf__min_samples_split': 3},\n",
       "  {'rf__max_depth': 50, 'rf__min_samples_leaf': 5, 'rf__min_samples_split': 5},\n",
       "  {'rf__max_depth': 50, 'rf__min_samples_leaf': 5, 'rf__min_samples_split': 8},\n",
       "  {'rf__max_depth': 50,\n",
       "   'rf__min_samples_leaf': 10,\n",
       "   'rf__min_samples_split': 2},\n",
       "  {'rf__max_depth': 50,\n",
       "   'rf__min_samples_leaf': 10,\n",
       "   'rf__min_samples_split': 3},\n",
       "  {'rf__max_depth': 50,\n",
       "   'rf__min_samples_leaf': 10,\n",
       "   'rf__min_samples_split': 5},\n",
       "  {'rf__max_depth': 50,\n",
       "   'rf__min_samples_leaf': 10,\n",
       "   'rf__min_samples_split': 8},\n",
       "  {'rf__max_depth': 50,\n",
       "   'rf__min_samples_leaf': 20,\n",
       "   'rf__min_samples_split': 2},\n",
       "  {'rf__max_depth': 50,\n",
       "   'rf__min_samples_leaf': 20,\n",
       "   'rf__min_samples_split': 3},\n",
       "  {'rf__max_depth': 50,\n",
       "   'rf__min_samples_leaf': 20,\n",
       "   'rf__min_samples_split': 5},\n",
       "  {'rf__max_depth': 50,\n",
       "   'rf__min_samples_leaf': 20,\n",
       "   'rf__min_samples_split': 8},\n",
       "  {'rf__max_depth': 100,\n",
       "   'rf__min_samples_leaf': 1,\n",
       "   'rf__min_samples_split': 2},\n",
       "  {'rf__max_depth': 100,\n",
       "   'rf__min_samples_leaf': 1,\n",
       "   'rf__min_samples_split': 3},\n",
       "  {'rf__max_depth': 100,\n",
       "   'rf__min_samples_leaf': 1,\n",
       "   'rf__min_samples_split': 5},\n",
       "  {'rf__max_depth': 100,\n",
       "   'rf__min_samples_leaf': 1,\n",
       "   'rf__min_samples_split': 8},\n",
       "  {'rf__max_depth': 100,\n",
       "   'rf__min_samples_leaf': 3,\n",
       "   'rf__min_samples_split': 2},\n",
       "  {'rf__max_depth': 100,\n",
       "   'rf__min_samples_leaf': 3,\n",
       "   'rf__min_samples_split': 3},\n",
       "  {'rf__max_depth': 100,\n",
       "   'rf__min_samples_leaf': 3,\n",
       "   'rf__min_samples_split': 5},\n",
       "  {'rf__max_depth': 100,\n",
       "   'rf__min_samples_leaf': 3,\n",
       "   'rf__min_samples_split': 8},\n",
       "  {'rf__max_depth': 100,\n",
       "   'rf__min_samples_leaf': 5,\n",
       "   'rf__min_samples_split': 2},\n",
       "  {'rf__max_depth': 100,\n",
       "   'rf__min_samples_leaf': 5,\n",
       "   'rf__min_samples_split': 3},\n",
       "  {'rf__max_depth': 100,\n",
       "   'rf__min_samples_leaf': 5,\n",
       "   'rf__min_samples_split': 5},\n",
       "  {'rf__max_depth': 100,\n",
       "   'rf__min_samples_leaf': 5,\n",
       "   'rf__min_samples_split': 8},\n",
       "  {'rf__max_depth': 100,\n",
       "   'rf__min_samples_leaf': 10,\n",
       "   'rf__min_samples_split': 2},\n",
       "  {'rf__max_depth': 100,\n",
       "   'rf__min_samples_leaf': 10,\n",
       "   'rf__min_samples_split': 3},\n",
       "  {'rf__max_depth': 100,\n",
       "   'rf__min_samples_leaf': 10,\n",
       "   'rf__min_samples_split': 5},\n",
       "  {'rf__max_depth': 100,\n",
       "   'rf__min_samples_leaf': 10,\n",
       "   'rf__min_samples_split': 8},\n",
       "  {'rf__max_depth': 100,\n",
       "   'rf__min_samples_leaf': 20,\n",
       "   'rf__min_samples_split': 2},\n",
       "  {'rf__max_depth': 100,\n",
       "   'rf__min_samples_leaf': 20,\n",
       "   'rf__min_samples_split': 3},\n",
       "  {'rf__max_depth': 100,\n",
       "   'rf__min_samples_leaf': 20,\n",
       "   'rf__min_samples_split': 5},\n",
       "  {'rf__max_depth': 100,\n",
       "   'rf__min_samples_leaf': 20,\n",
       "   'rf__min_samples_split': 8}],\n",
       " 'split0_test_score': array([-2.61356238e+10, -2.60565144e+10, -2.59621559e+10, -2.65456186e+10,\n",
       "        -2.63513250e+10, -2.61335679e+10, -2.62435809e+10, -2.65872721e+10,\n",
       "        -2.64096939e+10, -2.61605760e+10, -2.64045020e+10, -2.63476392e+10,\n",
       "        -2.64197943e+10, -2.61251688e+10, -2.62378591e+10, -2.62077163e+10,\n",
       "        -2.59746258e+10, -2.60465832e+10, -2.60972039e+10, -2.61540038e+10,\n",
       "        -2.64982713e+10, -2.69537807e+10, -2.66458868e+10, -2.67352785e+10,\n",
       "        -2.70690630e+10, -2.65845733e+10, -2.69432165e+10, -2.65217614e+10,\n",
       "        -2.68946861e+10, -2.69753172e+10, -2.69844067e+10, -2.66860588e+10,\n",
       "        -2.65122953e+10, -2.65768539e+10, -2.67623930e+10, -2.68700914e+10,\n",
       "        -2.59560793e+10, -2.59299854e+10, -2.60483701e+10, -2.60704454e+10,\n",
       "        -2.75400517e+10, -2.83833024e+10, -2.77166748e+10, -2.77862606e+10,\n",
       "        -2.75548449e+10, -2.79507406e+10, -2.81662499e+10, -2.75355951e+10,\n",
       "        -2.80192502e+10, -2.82127595e+10, -2.77652566e+10, -2.77746129e+10,\n",
       "        -2.70230608e+10, -2.72566784e+10, -2.71714334e+10, -2.71222864e+10,\n",
       "        -2.62807148e+10, -2.64574905e+10, -2.62623699e+10, -2.64544632e+10,\n",
       "        -3.01283008e+10, -3.02766454e+10, -2.96391799e+10, -2.93533841e+10,\n",
       "        -2.87030351e+10, -2.87976514e+10, -2.88361240e+10, -2.86264205e+10,\n",
       "        -2.85005611e+10, -2.79606837e+10, -2.80755940e+10, -2.78853013e+10,\n",
       "        -2.74210362e+10, -2.76781961e+10, -2.76429915e+10, -2.74161839e+10,\n",
       "        -2.63645843e+10, -2.62487500e+10, -2.61358844e+10, -2.64726201e+10,\n",
       "        -3.03513357e+10, -3.05505519e+10, -2.92902287e+10, -2.88253384e+10,\n",
       "        -2.87908696e+10, -2.83811437e+10, -2.88564378e+10, -2.87913215e+10,\n",
       "        -2.79573601e+10, -2.84464152e+10, -2.80804293e+10, -2.79960433e+10,\n",
       "        -2.77365195e+10, -2.73924095e+10, -2.78110208e+10, -2.74494191e+10,\n",
       "        -2.61424874e+10, -2.63794147e+10, -2.64699608e+10, -2.64198905e+10,\n",
       "        -3.00944268e+10, -2.99280173e+10, -3.00622203e+10, -2.93336704e+10,\n",
       "        -2.86335597e+10, -2.88425396e+10, -2.90662171e+10, -2.89987187e+10,\n",
       "        -2.82964601e+10, -2.82030532e+10, -2.83805404e+10, -2.82408057e+10,\n",
       "        -2.75703836e+10, -2.72984744e+10, -2.70172880e+10, -2.77471952e+10,\n",
       "        -2.61348870e+10, -2.61340022e+10, -2.62502664e+10, -2.62130145e+10]),\n",
       " 'split1_test_score': array([-2.42401648e+10, -2.42208996e+10, -2.42470123e+10, -2.41624764e+10,\n",
       "        -2.44316142e+10, -2.42840326e+10, -2.41221671e+10, -2.41929074e+10,\n",
       "        -2.40230749e+10, -2.40938442e+10, -2.41461481e+10, -2.43463144e+10,\n",
       "        -2.42307964e+10, -2.42194668e+10, -2.43404577e+10, -2.40048305e+10,\n",
       "        -2.44742586e+10, -2.40924875e+10, -2.46230632e+10, -2.43310191e+10,\n",
       "        -2.50221187e+10, -2.47624624e+10, -2.53092866e+10, -2.48560174e+10,\n",
       "        -2.55740638e+10, -2.54774711e+10, -2.54164282e+10, -2.54610841e+10,\n",
       "        -2.46136261e+10, -2.44832155e+10, -2.46563958e+10, -2.49952647e+10,\n",
       "        -2.45070156e+10, -2.46165604e+10, -2.46373619e+10, -2.46249685e+10,\n",
       "        -2.41110261e+10, -2.42648381e+10, -2.44404124e+10, -2.42405638e+10,\n",
       "        -2.60011125e+10, -2.64434835e+10, -2.68383005e+10, -2.54544316e+10,\n",
       "        -2.59735005e+10, -2.60282385e+10, -2.62549639e+10, -2.61547604e+10,\n",
       "        -2.55571352e+10, -2.54926838e+10, -2.56396498e+10, -2.55509314e+10,\n",
       "        -2.47055424e+10, -2.49483139e+10, -2.47358170e+10, -2.48744366e+10,\n",
       "        -2.43846968e+10, -2.45179111e+10, -2.45741627e+10, -2.47759886e+10,\n",
       "        -2.81009660e+10, -2.87699565e+10, -2.82106271e+10, -2.73456913e+10,\n",
       "        -2.68929532e+10, -2.70917586e+10, -2.73304467e+10, -2.70079603e+10,\n",
       "        -2.62758085e+10, -2.60658672e+10, -2.61722444e+10, -2.61732597e+10,\n",
       "        -2.51681212e+10, -2.53150989e+10, -2.52977544e+10, -2.49675605e+10,\n",
       "        -2.49104624e+10, -2.44910824e+10, -2.44564967e+10, -2.45274343e+10,\n",
       "        -2.87617249e+10, -2.75403252e+10, -2.77803934e+10, -2.66793638e+10,\n",
       "        -2.70038340e+10, -2.71949833e+10, -2.68099263e+10, -2.64434940e+10,\n",
       "        -2.58272852e+10, -2.61211115e+10, -2.59502831e+10, -2.58270426e+10,\n",
       "        -2.50877660e+10, -2.51145968e+10, -2.49494580e+10, -2.52760398e+10,\n",
       "        -2.48185017e+10, -2.45775221e+10, -2.46488561e+10, -2.45229327e+10,\n",
       "        -2.85817816e+10, -2.79261515e+10, -2.77300030e+10, -2.75201659e+10,\n",
       "        -2.72547067e+10, -2.73539071e+10, -2.71833127e+10, -2.67751214e+10,\n",
       "        -2.61988543e+10, -2.59091153e+10, -2.58248838e+10, -2.58760252e+10,\n",
       "        -2.51292738e+10, -2.53080990e+10, -2.47558502e+10, -2.51202222e+10,\n",
       "        -2.43868898e+10, -2.46488671e+10, -2.44487795e+10, -2.45820137e+10]),\n",
       " 'split2_test_score': array([-3.31887842e+10, -3.33875608e+10, -3.33729453e+10, -3.32997605e+10,\n",
       "        -3.29278026e+10, -3.35171854e+10, -3.33578840e+10, -3.29021503e+10,\n",
       "        -3.30976034e+10, -3.33537013e+10, -3.31837929e+10, -3.30415614e+10,\n",
       "        -3.25357251e+10, -3.24798911e+10, -3.29090019e+10, -3.26672018e+10,\n",
       "        -3.36860643e+10, -3.34895428e+10, -3.34606980e+10, -3.34348875e+10,\n",
       "        -3.47080984e+10, -3.51541423e+10, -3.42660796e+10, -3.35606533e+10,\n",
       "        -3.42313073e+10, -3.43866790e+10, -3.41576194e+10, -3.35886512e+10,\n",
       "        -3.36518190e+10, -3.36227564e+10, -3.35256118e+10, -3.34335579e+10,\n",
       "        -3.30431354e+10, -3.27976541e+10, -3.31134946e+10, -3.26945713e+10,\n",
       "        -3.30614777e+10, -3.28488771e+10, -3.30829057e+10, -3.28244655e+10,\n",
       "        -3.63795529e+10, -3.64402225e+10, -3.62603767e+10, -3.49104459e+10,\n",
       "        -3.49259466e+10, -3.48454615e+10, -3.49104287e+10, -3.51390507e+10,\n",
       "        -3.42785986e+10, -3.40007352e+10, -3.43445711e+10, -3.41773479e+10,\n",
       "        -3.35480293e+10, -3.31948717e+10, -3.33458399e+10, -3.29456082e+10,\n",
       "        -3.34801613e+10, -3.32251586e+10, -3.32852250e+10, -3.31194780e+10,\n",
       "        -3.72545620e+10, -3.77017707e+10, -3.70228393e+10, -3.57675016e+10,\n",
       "        -3.61433386e+10, -3.62765069e+10, -3.56369659e+10, -3.55126467e+10,\n",
       "        -3.48408348e+10, -3.52131597e+10, -3.47178682e+10, -3.46836958e+10,\n",
       "        -3.28855608e+10, -3.29225168e+10, -3.33721062e+10, -3.31223929e+10,\n",
       "        -3.31291835e+10, -3.32517038e+10, -3.34868596e+10, -3.32665325e+10,\n",
       "        -3.73188501e+10, -3.77804163e+10, -3.72626704e+10, -3.52056808e+10,\n",
       "        -3.61368700e+10, -3.60491760e+10, -3.54584682e+10, -3.53074965e+10,\n",
       "        -3.45989287e+10, -3.43826180e+10, -3.43112455e+10, -3.46406394e+10,\n",
       "        -3.28043327e+10, -3.34132574e+10, -3.35722615e+10, -3.30360303e+10,\n",
       "        -3.27926853e+10, -3.32486482e+10, -3.32730589e+10, -3.29660905e+10,\n",
       "        -3.76668563e+10, -3.80929212e+10, -3.75646693e+10, -3.57570321e+10,\n",
       "        -3.59420431e+10, -3.58420035e+10, -3.60824444e+10, -3.56841665e+10,\n",
       "        -3.50322908e+10, -3.49422346e+10, -3.50033511e+10, -3.42923076e+10,\n",
       "        -3.35333254e+10, -3.32307987e+10, -3.34321640e+10, -3.31768064e+10,\n",
       "        -3.31962636e+10, -3.33934129e+10, -3.32447288e+10, -3.31393067e+10]),\n",
       " 'mean_test_score': array([-2.78548576e+10, -2.78883250e+10, -2.78607045e+10, -2.80026185e+10,\n",
       "        -2.79035806e+10, -2.79782620e+10, -2.79078773e+10, -2.78941099e+10,\n",
       "        -2.78434574e+10, -2.78693739e+10, -2.79114810e+10, -2.79118383e+10,\n",
       "        -2.77287719e+10, -2.76081756e+10, -2.78291062e+10, -2.76265829e+10,\n",
       "        -2.80449829e+10, -2.78762045e+10, -2.80603217e+10, -2.79733035e+10,\n",
       "        -2.87428295e+10, -2.89567951e+10, -2.87404177e+10, -2.83839831e+10,\n",
       "        -2.89581447e+10, -2.88162411e+10, -2.88390880e+10, -2.85238323e+10,\n",
       "        -2.83867104e+10, -2.83604297e+10, -2.83888047e+10, -2.83716271e+10,\n",
       "        -2.80208154e+10, -2.79970228e+10, -2.81710831e+10, -2.80632104e+10,\n",
       "        -2.77095277e+10, -2.76812335e+10, -2.78572294e+10, -2.77118249e+10,\n",
       "        -2.99735724e+10, -3.04223361e+10, -3.02717840e+10, -2.93837127e+10,\n",
       "        -2.94847640e+10, -2.96081468e+10, -2.97772142e+10, -2.96098021e+10,\n",
       "        -2.92849947e+10, -2.92353928e+10, -2.92498259e+10, -2.91676307e+10,\n",
       "        -2.84255442e+10, -2.84666213e+10, -2.84176968e+10, -2.83141104e+10,\n",
       "        -2.80485243e+10, -2.80668534e+10, -2.80405859e+10, -2.81166433e+10,\n",
       "        -3.18279430e+10, -3.22494575e+10, -3.16242154e+10, -3.08221923e+10,\n",
       "        -3.05797757e+10, -3.07219723e+10, -3.06011789e+10, -3.03823425e+10,\n",
       "        -2.98724014e+10, -2.97465702e+10, -2.96552355e+10, -2.95807523e+10,\n",
       "        -2.84915727e+10, -2.86386039e+10, -2.87709507e+10, -2.85020458e+10,\n",
       "        -2.81347434e+10, -2.79971787e+10, -2.80264136e+10, -2.80888623e+10,\n",
       "        -3.21439702e+10, -3.19570978e+10, -3.14444308e+10, -3.02367943e+10,\n",
       "        -3.06438579e+10, -3.05417677e+10, -3.03749441e+10, -3.01807707e+10,\n",
       "        -2.94611913e+10, -2.96500482e+10, -2.94473193e+10, -2.94879084e+10,\n",
       "        -2.85428727e+10, -2.86400879e+10, -2.87775801e+10, -2.85871631e+10,\n",
       "        -2.79178914e+10, -2.80685283e+10, -2.81306253e+10, -2.79696379e+10,\n",
       "        -3.21143549e+10, -3.19823633e+10, -3.17856309e+10, -3.08702895e+10,\n",
       "        -3.06101032e+10, -3.06794834e+10, -3.07773247e+10, -3.04860022e+10,\n",
       "        -2.98425351e+10, -2.96848011e+10, -2.97362584e+10, -2.94697129e+10,\n",
       "        -2.87443276e+10, -2.86124574e+10, -2.84017674e+10, -2.86814079e+10,\n",
       "        -2.79060135e+10, -2.80587607e+10, -2.79812582e+10, -2.79781116e+10]),\n",
       " 'std_test_score': array([3.85021827e+09, 3.96009819e+09, 3.96013708e+09, 3.86993773e+09,\n",
       "        3.63807894e+09, 3.98872996e+09, 3.94985475e+09, 3.67365367e+09,\n",
       "        3.84087883e+09, 3.96873037e+09, 3.84039888e+09, 3.71814196e+09,\n",
       "        3.51454378e+09, 3.53158453e+09, 3.67460091e+09, 3.67596297e+09,\n",
       "        4.03560197e+09, 4.04860450e+09, 3.86577470e+09, 3.93297965e+09,\n",
       "        4.26091394e+09, 4.47256844e+09, 3.94515147e+09, 3.73999478e+09,\n",
       "        3.77830988e+09, 3.96474066e+09, 3.81207312e+09, 3.60745085e+09,\n",
       "        3.83769332e+09, 3.85760757e+09, 3.75455266e+09, 3.64527579e+09,\n",
       "        3.64445332e+09, 3.48761934e+09, 3.60088066e+09, 3.40071287e+09,\n",
       "        3.85863376e+09, 3.71677135e+09, 3.75296786e+09, 3.69156128e+09,\n",
       "        4.57307506e+09, 4.32835159e+09, 4.24973080e+09, 4.02226650e+09,\n",
       "        3.90128302e+09, 3.78559568e+09, 3.71265152e+09, 3.95019991e+09,\n",
       "        3.67129068e+09, 3.54786969e+09, 3.70556998e+09, 3.65687838e+09,\n",
       "        3.74367137e+09, 3.47365326e+09, 3.62381044e+09, 3.40110628e+09,\n",
       "        3.91796986e+09, 3.73243234e+09, 3.77201898e+09, 3.60329348e+09,\n",
       "        3.92544413e+09, 3.90412751e+09, 3.86169612e+09, 3.59163569e+09,\n",
       "        4.00283430e+09, 3.98891452e+09, 3.61350517e+09, 3.68735401e+09,\n",
       "        3.62871679e+09, 3.94210459e+09, 3.66318368e+09, 3.67539530e+09,\n",
       "        3.24029369e+09, 3.17909727e+09, 3.39146069e+09, 3.41659138e+09,\n",
       "        3.58114895e+09, 3.78416650e+09, 3.92151660e+09, 3.74629939e+09,\n",
       "        3.71629314e+09, 4.29718084e+09, 4.16003482e+09, 3.62111184e+09,\n",
       "        3.95206787e+09, 3.92431768e+09, 3.69041235e+09, 3.74971657e+09,\n",
       "        3.73555565e+09, 3.47847399e+09, 3.54755450e+09, 3.74958831e+09,\n",
       "        3.20145850e+09, 3.50090160e+09, 3.58597851e+09, 3.26855822e+09,\n",
       "        3.48912078e+09, 3.73603491e+09, 3.71147529e+09, 3.61690625e+09,\n",
       "        3.97447925e+09, 4.39742763e+09, 4.19585298e+09, 3.53387322e+09,\n",
       "        3.81204198e+09, 3.70069517e+09, 3.82923432e+09, 3.78609566e+09,\n",
       "        3.76830296e+09, 3.83370957e+09, 3.86777663e+09, 3.54411360e+09,\n",
       "        3.52993193e+09, 3.36523463e+09, 3.67488708e+09, 3.35476796e+09,\n",
       "        3.80823089e+09, 3.82058390e+09, 3.79380462e+09, 3.70976115e+09]),\n",
       " 'rank_test_score': array([  9,  14,  11,  29,  16,  25,  18,  15,   8,  12,  19,  20,   6,\n",
       "          1,   7,   2,  33,  13,  36,  23,  65,  71,  64,  48,  72,  69,\n",
       "         70,  57,  49,  46,  50,  47,  30,  27,  44,  37,   4,   3,  10,\n",
       "          5,  94, 100,  97,  77,  81,  84,  91,  85,  76,  74,  75,  73,\n",
       "         53,  54,  52,  45,  34,  38,  32,  41, 115, 120, 113, 110, 103,\n",
       "        108, 104,  99,  93,  90,  87,  83,  55,  61,  67,  56,  43,  28,\n",
       "         31,  40, 119, 116, 112,  96, 106, 102,  98,  95,  79,  86,  78,\n",
       "         82,  58,  62,  68,  59,  21,  39,  42,  22, 118, 117, 114, 111,\n",
       "        105, 107, 109, 101,  92,  88,  89,  80,  66,  60,  51,  63,  17,\n",
       "         35,  26,  24]),\n",
       " 'split0_train_score': array([-2.48559647e+10, -2.47080723e+10, -2.49780985e+10, -2.48264450e+10,\n",
       "        -2.48286575e+10, -2.49178652e+10, -2.49740215e+10, -2.50849528e+10,\n",
       "        -2.50271480e+10, -2.51328102e+10, -2.49763916e+10, -2.52044688e+10,\n",
       "        -2.52686677e+10, -2.54045168e+10, -2.54527091e+10, -2.54046954e+10,\n",
       "        -2.59254501e+10, -2.58994239e+10, -2.59145149e+10, -2.59765792e+10,\n",
       "        -1.77460311e+10, -1.78796386e+10, -1.84515450e+10, -1.94817528e+10,\n",
       "        -1.92421463e+10, -1.93291901e+10, -1.95405837e+10, -1.98183154e+10,\n",
       "        -2.09391511e+10, -2.09227789e+10, -2.10191574e+10, -2.06668919e+10,\n",
       "        -2.26904602e+10, -2.27689863e+10, -2.25798192e+10, -2.26856511e+10,\n",
       "        -2.44838440e+10, -2.42774720e+10, -2.43713408e+10, -2.44271636e+10,\n",
       "        -1.15504839e+10, -1.17863036e+10, -1.31291385e+10, -1.43605042e+10,\n",
       "        -1.52674872e+10, -1.53773651e+10, -1.54233338e+10, -1.61547115e+10,\n",
       "        -1.79664758e+10, -1.79326827e+10, -1.80280303e+10, -1.82098003e+10,\n",
       "        -2.14778890e+10, -2.13677655e+10, -2.12107804e+10, -2.15109632e+10,\n",
       "        -2.37090478e+10, -2.36443534e+10, -2.37780107e+10, -2.36935743e+10,\n",
       "        -4.62030734e+09, -5.74339578e+09, -7.66735929e+09, -1.08518780e+10,\n",
       "        -1.21076134e+10, -1.22020759e+10, -1.22106670e+10, -1.35616684e+10,\n",
       "        -1.62577288e+10, -1.66340917e+10, -1.66691936e+10, -1.64188299e+10,\n",
       "        -2.09672225e+10, -2.09536236e+10, -2.07448081e+10, -2.07589835e+10,\n",
       "        -2.37708482e+10, -2.37932258e+10, -2.36750261e+10, -2.35858011e+10,\n",
       "        -4.68361783e+09, -5.53705280e+09, -7.62298441e+09, -1.07058921e+10,\n",
       "        -1.21041199e+10, -1.24875135e+10, -1.21743382e+10, -1.36881341e+10,\n",
       "        -1.65000284e+10, -1.65183885e+10, -1.65618353e+10, -1.66151002e+10,\n",
       "        -2.09649117e+10, -2.10399437e+10, -2.06901295e+10, -2.10334446e+10,\n",
       "        -2.38224896e+10, -2.36602414e+10, -2.36370714e+10, -2.36329466e+10,\n",
       "        -4.79041691e+09, -5.73245767e+09, -7.85615938e+09, -1.06994241e+10,\n",
       "        -1.21541377e+10, -1.22917867e+10, -1.22718124e+10, -1.33699835e+10,\n",
       "        -1.63850789e+10, -1.64578177e+10, -1.67662891e+10, -1.63604937e+10,\n",
       "        -2.09851416e+10, -2.08984182e+10, -2.10694373e+10, -2.09182909e+10,\n",
       "        -2.36061227e+10, -2.36792610e+10, -2.37161016e+10, -2.38505046e+10]),\n",
       " 'split1_train_score': array([-2.55466945e+10, -2.52657198e+10, -2.53057559e+10, -2.55090897e+10,\n",
       "        -2.56803181e+10, -2.57261191e+10, -2.53758300e+10, -2.56477850e+10,\n",
       "        -2.58739128e+10, -2.58058200e+10, -2.60331224e+10, -2.60604480e+10,\n",
       "        -2.66192175e+10, -2.67331936e+10, -2.66660055e+10, -2.66313965e+10,\n",
       "        -2.72443621e+10, -2.71970869e+10, -2.73200051e+10, -2.73365495e+10,\n",
       "        -1.77782303e+10, -1.74233007e+10, -1.77426110e+10, -1.89670011e+10,\n",
       "        -1.94217970e+10, -1.96264245e+10, -1.95354322e+10, -1.97049193e+10,\n",
       "        -2.11345619e+10, -2.13260738e+10, -2.11660267e+10, -2.10698637e+10,\n",
       "        -2.37649860e+10, -2.37160314e+10, -2.37652084e+10, -2.37200790e+10,\n",
       "        -2.54557838e+10, -2.54044949e+10, -2.54748793e+10, -2.54835615e+10,\n",
       "        -1.14505822e+10, -1.18875244e+10, -1.27084391e+10, -1.43423618e+10,\n",
       "        -1.54493962e+10, -1.53276948e+10, -1.55135890e+10, -1.62444016e+10,\n",
       "        -1.85102418e+10, -1.82857531e+10, -1.84095892e+10, -1.84999823e+10,\n",
       "        -2.24795016e+10, -2.22191972e+10, -2.23144417e+10, -2.22957326e+10,\n",
       "        -2.49705806e+10, -2.48351680e+10, -2.49760181e+10, -2.49560854e+10,\n",
       "        -5.21939025e+09, -5.76576186e+09, -7.76142264e+09, -1.05527050e+10,\n",
       "        -1.27218972e+10, -1.30393512e+10, -1.24870123e+10, -1.38963531e+10,\n",
       "        -1.67000953e+10, -1.67116380e+10, -1.68937369e+10, -1.67882562e+10,\n",
       "        -2.19720453e+10, -2.20206390e+10, -2.19240752e+10, -2.19331199e+10,\n",
       "        -2.49578215e+10, -2.47265059e+10, -2.48030833e+10, -2.48653289e+10,\n",
       "        -4.55410435e+09, -5.84000517e+09, -7.80317330e+09, -1.05182034e+10,\n",
       "        -1.24157809e+10, -1.26079551e+10, -1.29204882e+10, -1.39084329e+10,\n",
       "        -1.71322916e+10, -1.67761056e+10, -1.69056695e+10, -1.67909408e+10,\n",
       "        -2.19708272e+10, -2.17878489e+10, -2.21082281e+10, -2.19165270e+10,\n",
       "        -2.48504411e+10, -2.49247835e+10, -2.47784129e+10, -2.48721135e+10,\n",
       "        -5.14906104e+09, -5.93624233e+09, -7.99064605e+09, -1.05933325e+10,\n",
       "        -1.24601254e+10, -1.25153234e+10, -1.25014620e+10, -1.39663784e+10,\n",
       "        -1.68972754e+10, -1.69079894e+10, -1.70272648e+10, -1.71296281e+10,\n",
       "        -2.18844627e+10, -2.18867986e+10, -2.20033753e+10, -2.18917076e+10,\n",
       "        -2.49218489e+10, -2.47536930e+10, -2.48565912e+10, -2.49244400e+10]),\n",
       " 'split2_train_score': array([-2.19953080e+10, -2.16514816e+10, -2.16957803e+10, -2.22026681e+10,\n",
       "        -2.22748887e+10, -2.18778431e+10, -2.22659229e+10, -2.23627000e+10,\n",
       "        -2.26023094e+10, -2.23864698e+10, -2.23771437e+10, -2.24649478e+10,\n",
       "        -2.30079965e+10, -2.29491487e+10, -2.29958356e+10, -2.29855990e+10,\n",
       "        -2.33106377e+10, -2.32634593e+10, -2.33066415e+10, -2.33343372e+10,\n",
       "        -1.51461320e+10, -1.52652921e+10, -1.57996195e+10, -1.72742489e+10,\n",
       "        -1.72487873e+10, -1.73609574e+10, -1.73469471e+10, -1.78320471e+10,\n",
       "        -1.86032821e+10, -1.87951989e+10, -1.86846053e+10, -1.87696068e+10,\n",
       "        -2.05424486e+10, -2.07486390e+10, -2.06948770e+10, -2.06810560e+10,\n",
       "        -2.19604480e+10, -2.20234449e+10, -2.18974223e+10, -2.20246842e+10,\n",
       "        -9.79954481e+09, -1.02829413e+10, -1.15276558e+10, -1.35897648e+10,\n",
       "        -1.36758866e+10, -1.38245873e+10, -1.39714619e+10, -1.46936900e+10,\n",
       "        -1.63903858e+10, -1.64424497e+10, -1.62890213e+10, -1.65225255e+10,\n",
       "        -1.96481787e+10, -1.95995438e+10, -1.95271990e+10, -1.96405635e+10,\n",
       "        -2.15479826e+10, -2.16233408e+10, -2.15178132e+10, -2.14617258e+10,\n",
       "        -4.09568591e+09, -4.80827040e+09, -6.98343156e+09, -9.91904779e+09,\n",
       "        -1.10858017e+10, -1.13478249e+10, -1.12382686e+10, -1.25966993e+10,\n",
       "        -1.50841401e+10, -1.50325707e+10, -1.52543443e+10, -1.49989336e+10,\n",
       "        -1.91873743e+10, -1.90827718e+10, -1.91902760e+10, -1.92527343e+10,\n",
       "        -2.13641948e+10, -2.14208300e+10, -2.13710631e+10, -2.14245685e+10,\n",
       "        -4.30215177e+09, -4.93531073e+09, -6.75496984e+09, -9.96769083e+09,\n",
       "        -1.10871565e+10, -1.12423432e+10, -1.13028166e+10, -1.25171947e+10,\n",
       "        -1.49986744e+10, -1.49856452e+10, -1.50938421e+10, -1.50482564e+10,\n",
       "        -1.91012344e+10, -1.90129986e+10, -1.89690387e+10, -1.93257382e+10,\n",
       "        -2.13359315e+10, -2.14474385e+10, -2.13600637e+10, -2.14733601e+10,\n",
       "        -4.05255794e+09, -5.06310193e+09, -7.26647385e+09, -1.01340179e+10,\n",
       "        -1.12381822e+10, -1.11629077e+10, -1.15462200e+10, -1.26442076e+10,\n",
       "        -1.49081437e+10, -1.50625298e+10, -1.50731381e+10, -1.49134006e+10,\n",
       "        -1.91465485e+10, -1.91265226e+10, -1.92419324e+10, -1.90889822e+10,\n",
       "        -2.13889126e+10, -2.13481680e+10, -2.15125191e+10, -2.14748511e+10]),\n",
       " 'mean_train_score': array([-2.41326558e+10, -2.38750912e+10, -2.39932115e+10, -2.41794009e+10,\n",
       "        -2.42612881e+10, -2.41739424e+10, -2.42052581e+10, -2.43651459e+10,\n",
       "        -2.45011234e+10, -2.44417000e+10, -2.44622192e+10, -2.45766215e+10,\n",
       "        -2.49652939e+10, -2.50289531e+10, -2.50381834e+10, -2.50072303e+10,\n",
       "        -2.54934833e+10, -2.54533234e+10, -2.55137205e+10, -2.55491553e+10,\n",
       "        -1.68901311e+10, -1.68560771e+10, -1.73312585e+10, -1.85743343e+10,\n",
       "        -1.86375769e+10, -1.87721907e+10, -1.88076543e+10, -1.91184273e+10,\n",
       "        -2.02256650e+10, -2.03480172e+10, -2.02899298e+10, -2.01687875e+10,\n",
       "        -2.23326316e+10, -2.24112189e+10, -2.23466349e+10, -2.23622620e+10,\n",
       "        -2.39666919e+10, -2.39018039e+10, -2.39145475e+10, -2.39784698e+10,\n",
       "        -1.09335370e+10, -1.13189231e+10, -1.24550778e+10, -1.40975436e+10,\n",
       "        -1.47975900e+10, -1.48432158e+10, -1.49694615e+10, -1.56976010e+10,\n",
       "        -1.76223678e+10, -1.75536285e+10, -1.75755469e+10, -1.77441027e+10,\n",
       "        -2.12018565e+10, -2.10621688e+10, -2.10174737e+10, -2.11490864e+10,\n",
       "        -2.34092036e+10, -2.33676207e+10, -2.34239473e+10, -2.33704618e+10,\n",
       "        -4.64512783e+09, -5.43914268e+09, -7.47073783e+09, -1.04412103e+10,\n",
       "        -1.19717708e+10, -1.21964174e+10, -1.19786493e+10, -1.33515736e+10,\n",
       "        -1.60139881e+10, -1.61261001e+10, -1.62724249e+10, -1.60686732e+10,\n",
       "        -2.07088807e+10, -2.06856781e+10, -2.06197198e+10, -2.06482792e+10,\n",
       "        -2.33642881e+10, -2.33135206e+10, -2.32830575e+10, -2.32918995e+10,\n",
       "        -4.51329132e+09, -5.43745623e+09, -7.39370919e+09, -1.03972621e+10,\n",
       "        -1.18690191e+10, -1.21126039e+10, -1.21325477e+10, -1.33712539e+10,\n",
       "        -1.62103315e+10, -1.60933797e+10, -1.61871156e+10, -1.61514325e+10,\n",
       "        -2.06789911e+10, -2.06135971e+10, -2.05891321e+10, -2.07585699e+10,\n",
       "        -2.33362874e+10, -2.33441545e+10, -2.32585160e+10, -2.33261401e+10,\n",
       "        -4.66401196e+09, -5.57726731e+09, -7.70442642e+09, -1.04755915e+10,\n",
       "        -1.19508151e+10, -1.19900060e+10, -1.21064981e+10, -1.33268565e+10,\n",
       "        -1.60634993e+10, -1.61427790e+10, -1.62888973e+10, -1.61345075e+10,\n",
       "        -2.06720510e+10, -2.06372465e+10, -2.07715817e+10, -2.06329935e+10,\n",
       "        -2.33056281e+10, -2.32603740e+10, -2.33617373e+10, -2.34165986e+10]),\n",
       " 'std_train_score': array([1.53741525e+09, 1.58872540e+09, 1.63002711e+09, 1.42527319e+09,\n",
       "        1.44698961e+09, 1.65677856e+09, 1.38109338e+09, 1.43446561e+09,\n",
       "        1.38645197e+09, 1.47901180e+09, 1.53619120e+09, 1.53352526e+09,\n",
       "        1.48979996e+09, 1.56748950e+09, 1.52674173e+09, 1.51469329e+09,\n",
       "        1.63472595e+09, 1.63658401e+09, 1.66277858e+09, 1.66161455e+09,\n",
       "        1.23326367e+09, 1.14017801e+09, 1.12103684e+09, 9.43012484e+08,\n",
       "        9.84757467e+08, 1.00524344e+09, 1.03287814e+09, 9.10785412e+08,\n",
       "        1.14996846e+09, 1.11028381e+09, 1.13671831e+09, 1.00295448e+09,\n",
       "        1.33970590e+09, 1.23756551e+09, 1.26425602e+09, 1.26157324e+09,\n",
       "        1.47307565e+09, 1.40563618e+09, 1.49578177e+09, 1.44728543e+09,\n",
       "        8.02890091e+08, 7.33714366e+08, 6.77903937e+08, 3.59130231e+08,\n",
       "        7.96633162e+08, 7.20564441e+08, 7.06653609e+08, 7.10816015e+08,\n",
       "        8.98982796e+08, 7.98833922e+08, 9.22951047e+08, 8.71871386e+08,\n",
       "        1.17224651e+09, 1.09108144e+09, 1.14606749e+09, 1.11376145e+09,\n",
       "        1.41326435e+09, 1.32574362e+09, 1.43383310e+09, 1.44474646e+09,\n",
       "        4.59085980e+08, 4.46187506e+08, 3.46710760e+08, 3.88901326e+08,\n",
       "        6.74804643e+08, 6.90574304e+08, 5.35546037e+08, 5.50986909e+08,\n",
       "        6.81852849e+08, 7.73889858e+08, 7.25704716e+08, 7.71308854e+08,\n",
       "        1.15142046e+09, 1.21425202e+09, 1.11956829e+09, 1.09705917e+09,\n",
       "        1.49499310e+09, 1.39151262e+09, 1.42826707e+09, 1.41997459e+09,\n",
       "        1.58384271e+08, 3.75994340e+08, 4.57608256e+08, 3.13268139e+08,\n",
       "        5.67312363e+08, 6.17328587e+08, 6.61072458e+08, 6.10571174e+08,\n",
       "        8.94808678e+08, 7.90321220e+08, 7.85701714e+08, 7.83359434e+08,\n",
       "        1.18882396e+09, 1.17225626e+09, 1.28355699e+09, 1.07539567e+09,\n",
       "        1.47540705e+09, 1.43710713e+09, 1.42097527e+09, 1.40439281e+09,\n",
       "        4.56481775e+08, 3.72967002e+08, 3.14508623e+08, 2.45381680e+08,\n",
       "        5.19160481e+08, 5.91923872e+08, 4.07118655e+08, 5.40634737e+08,\n",
       "        8.43295613e+08, 7.85649378e+08, 8.66248588e+08, 9.18773989e+08,\n",
       "        1.13946268e+09, 1.14191037e+09, 1.14685952e+09, 1.16185580e+09,\n",
       "        1.45788256e+09, 1.42150151e+09, 1.38801659e+09, 1.44132388e+09])}"
      ]
     },
     "execution_count": 26,
     "metadata": {},
     "output_type": "execute_result"
    }
   ],
   "source": [
    "model_gsv.cv_results_"
   ]
  },
  {
   "cell_type": "code",
   "execution_count": 27,
   "metadata": {},
   "outputs": [
    {
     "data": {
      "text/plain": [
       "dict_keys(['mean_fit_time', 'std_fit_time', 'mean_score_time', 'std_score_time', 'param_rf__max_depth', 'param_rf__min_samples_leaf', 'param_rf__min_samples_split', 'params', 'split0_test_score', 'split1_test_score', 'split2_test_score', 'mean_test_score', 'std_test_score', 'rank_test_score', 'split0_train_score', 'split1_train_score', 'split2_train_score', 'mean_train_score', 'std_train_score'])"
      ]
     },
     "execution_count": 27,
     "metadata": {},
     "output_type": "execute_result"
    }
   ],
   "source": [
    "model_gsv.cv_results_.keys()"
   ]
  },
  {
   "cell_type": "code",
   "execution_count": 28,
   "metadata": {},
   "outputs": [
    {
     "data": {
      "text/plain": [
       "{'rf__max_depth': [3, 6, 9, 20, 50, 100],\n",
       " 'rf__min_samples_leaf': [1, 3, 5, 10, 20],\n",
       " 'rf__min_samples_split': [2, 3, 5, 8]}"
      ]
     },
     "execution_count": 28,
     "metadata": {},
     "output_type": "execute_result"
    }
   ],
   "source": [
    "model_gsv.param_grid"
   ]
  },
  {
   "cell_type": "code",
   "execution_count": 29,
   "metadata": {},
   "outputs": [],
   "source": [
    "#function previous student\n",
    "#this function doesn't support None as a parameter input\n",
    "import matplotlib.pyplot as plt\n",
    "import numpy as np\n",
    "def plot_search_results(grid):\n",
    "    \"\"\"\n",
    "    Params: \n",
    "        grid: A trained GridSearchCV object.\n",
    "    \"\"\"\n",
    "    ## Results from grid search\n",
    "    results = grid.cv_results_\n",
    "    means_test = results['mean_test_score']\n",
    "    stds_test = results['std_test_score']\n",
    "    means_train = results['mean_train_score']\n",
    "    stds_train = results['std_train_score']\n",
    "    params = grid.param_grid\n",
    "    \n",
    "    ## Getting indexes of values per hyper-parameter\n",
    "    masks=[]\n",
    "    masks_names= list(grid.best_params_.keys())\n",
    "    for p_k, p_v in grid.best_params_.items():\n",
    "        masks.append(list(results['param_'+p_k].data==p_v))              ##\n",
    "    \n",
    "    params=grid.param_grid   \n",
    "    ## Ploting results\n",
    "    fig, ax = plt.subplots(1,len(params),sharex='none', sharey='all',figsize=(20,5))\n",
    "    fig.suptitle('Score per parameter')\n",
    "    fig.text(0.04, 0.5, 'MEAN SCORE', va='center', rotation='vertical')\n",
    "    \n",
    "    pram_preformace_in_best = {}                         #{}\n",
    "\n",
    "    for i, p in enumerate(masks_names):\n",
    "        m = np.stack(masks[:i] + masks[i+1:])           ##\n",
    "        pram_preformace_in_best\n",
    "        best_parms_mask = m.all(axis=0)\n",
    "        best_index = np.where(best_parms_mask)[0]\n",
    "        #  best_index   [ 1  4  7 10 13 16 19 22]\n",
    "        #print(best_index)\n",
    "        \n",
    "        #print(params[p])\n",
    "        \n",
    "        x = np.array(params[p])\n",
    "        y_1 = np.array(means_test[best_index])\n",
    "        e_1 = np.array(stds_test[best_index])\n",
    "        y_2 = np.array(means_train[best_index])\n",
    "        e_2 = np.array(stds_train[best_index])\n",
    "        \n",
    "        ax[i].errorbar(x, y_1, e_1, linestyle='--', marker='o', label='test')\n",
    "        ax[i].errorbar(x, y_2, e_2, linestyle='-', marker='^',label='train' )\n",
    "        \n",
    "        ax[i].set_xlabel(p.upper())\n",
    "\n",
    "    plt.legend()\n",
    "    plt.show()"
   ]
  },
  {
   "cell_type": "code",
   "execution_count": 30,
   "metadata": {},
   "outputs": [
    {
     "data": {
      "image/png": "[encoded data removed]",
      "text/plain": [
       "<Figure size 1440x360 with 3 Axes>"
      ]
     },
     "metadata": {
      "needs_background": "light"
     },
     "output_type": "display_data"
    }
   ],
   "source": [
    "plot_search_results(model_gsv)"
   ]
  },
  {
   "cell_type": "code",
   "execution_count": 31,
   "metadata": {},
   "outputs": [
    {
     "data": {
      "text/plain": [
       "Pipeline(steps=[('tf', <__main__.Transformer object at 0x000001F79180C070>),\n",
       "                ('rf',\n",
       "                 RandomForestRegressor(max_depth=3, min_samples_leaf=10,\n",
       "                                       min_samples_split=3, n_estimators=50,\n",
       "                                       n_jobs=-1))])"
      ]
     },
     "execution_count": 31,
     "metadata": {},
     "output_type": "execute_result"
    }
   ],
   "source": [
    "model_gsv.best_estimator_"
   ]
  },
  {
   "cell_type": "code",
   "execution_count": 32,
   "metadata": {},
   "outputs": [
    {
     "name": "stdout",
     "output_type": "stream",
     "text": [
      "train MAE: 1.04e+05\n",
      "train MSE: 2.53e+10\n",
      "train R2: 0.406\n"
     ]
    }
   ],
   "source": [
    "y_train_pred = model_gsv.predict(X_train)\n",
    "print('train MAE: {0:.2e}'.format(mean_absolute_error(y_train, y_train_pred)))\n",
    "print('train MSE: {0:.2e}'.format(mean_squared_error(y_train, y_train_pred)))\n",
    "print('train R2: {0:.3f}'.format(r2_score(y_train, y_train_pred)))"
   ]
  },
  {
   "cell_type": "code",
   "execution_count": 33,
   "metadata": {},
   "outputs": [
    {
     "name": "stdout",
     "output_type": "stream",
     "text": [
      "test MAE: 1.30e+05\n",
      "test MSE: 5.49e+10\n",
      "test R2: 0.364\n"
     ]
    }
   ],
   "source": [
    "y_test_pred = model_gsv.predict(X_test)\n",
    "print('test MAE: {0:.2e}'.format(mean_absolute_error(y_test, y_test_pred)))\n",
    "print('test MSE: {0:.2e}'.format(mean_squared_error(y_test, y_test_pred)))\n",
    "print('test R2: {0:.3f}'.format(r2_score(y_test, y_test_pred)))"
   ]
  },
  {
   "cell_type": "markdown",
   "metadata": {},
   "source": [
    "<font color='red'>Question:</font> What are the hyper parameters which can effetively affect model performance? How do they affect the performance respectively?"
   ]
  },
  {
   "cell_type": "markdown",
   "metadata": {},
   "source": [
    "### I have tuned: \n",
    "### (1) n_estimators: the number of trees. The more the better until it becomes too many.\n",
    "Usually you don't need to tune n_estimators, it's always higher the better.\n",
    "Only drawback is training speed and prediction speed\n",
    "\n",
    "When tuning hyperparameter in RF you can keep some overfitting and increase n_estimators to deal with it later.\n",
    "### (2) (3) (4) are same as Decision Tree."
   ]
  },
  {
   "cell_type": "markdown",
   "metadata": {},
   "source": [
    "## Pros and cons of random forest models?\n",
    "Pros: \n",
    "- Relatively low bias and variance: still possible to overfit for noisy data. \n",
    "- Robust to outliers and non-linear data.\n",
    "- Parallelizable: multiple machines can share the working load and run the same forest simultaneously.\n",
    "\n",
    "Cons: \n",
    "- Time and space consuming with large datasets. \n",
    "- Model interpretability: they provide feature importance but it does not provide complete visibility into the coefficients as linear regression.\n",
    "\n",
    "Reading: https://medium.datadriveninvestor.com/random-forest-pros-and-cons-c1c42fb64f04\n"
   ]
  },
  {
   "cell_type": "markdown",
   "metadata": {},
   "source": [
    "# 2. Gradient Boosting Trees"
   ]
  },
  {
   "cell_type": "markdown",
   "metadata": {},
   "source": [
    "<font color='red'>Assignment:</font> Build a pipeline with **GradientBoostingRegressor** to predict **price** with **cost**, **weight**, **height**, **width**, **depth**, and **volume**."
   ]
  },
  {
   "cell_type": "code",
   "execution_count": 34,
   "metadata": {},
   "outputs": [],
   "source": [
    "from sklearn.ensemble import GradientBoostingRegressor"
   ]
  },
  {
   "cell_type": "code",
   "execution_count": 35,
   "metadata": {},
   "outputs": [],
   "source": [
    "steps = [('tf', Transformer()),\n",
    "         ('gbr', GradientBoostingRegressor())]\n",
    "model = Pipeline(steps)"
   ]
  },
  {
   "cell_type": "code",
   "execution_count": 36,
   "metadata": {},
   "outputs": [
    {
     "data": {
      "text/plain": [
       "Pipeline(steps=[('tf', <__main__.Transformer object at 0x000001F791C74B50>),\n",
       "                ('gbr', GradientBoostingRegressor())])"
      ]
     },
     "execution_count": 36,
     "metadata": {},
     "output_type": "execute_result"
    }
   ],
   "source": [
    "model.fit(X_train, y_train)"
   ]
  },
  {
   "cell_type": "markdown",
   "metadata": {},
   "source": [
    "<font color='red'>Assignment:</font> Calculate the train/test scores."
   ]
  },
  {
   "cell_type": "code",
   "execution_count": 37,
   "metadata": {},
   "outputs": [
    {
     "name": "stdout",
     "output_type": "stream",
     "text": [
      "train MAE: 9.34e+04\n",
      "train MSE: 1.89e+10\n",
      "train R2: 0.556\n"
     ]
    }
   ],
   "source": [
    "y_train_pred = model.predict(X_train)\n",
    "print('train MAE: {0:.2e}'.format(mean_absolute_error(y_train, y_train_pred)))\n",
    "print('train MSE: {0:.2e}'.format(mean_squared_error(y_train, y_train_pred)))\n",
    "print('train R2: {0:.3f}'.format(r2_score(y_train, y_train_pred)))"
   ]
  },
  {
   "cell_type": "code",
   "execution_count": 38,
   "metadata": {},
   "outputs": [
    {
     "name": "stdout",
     "output_type": "stream",
     "text": [
      "test MAE: 1.26e+05\n",
      "test MSE: 5.45e+10\n",
      "test R2: 0.368\n"
     ]
    }
   ],
   "source": [
    "y_test_pred = model.predict(X_test)\n",
    "print('test MAE: {0:.2e}'.format(mean_absolute_error(y_test, y_test_pred)))\n",
    "print('test MSE: {0:.2e}'.format(mean_squared_error(y_test, y_test_pred)))\n",
    "print('test R2: {0:.3f}'.format(r2_score(y_test, y_test_pred)))"
   ]
  },
  {
   "cell_type": "markdown",
   "metadata": {},
   "source": [
    "<font color='red'>Assignment:</font> Plot the feature importance in a bar chart."
   ]
  },
  {
   "cell_type": "code",
   "execution_count": 39,
   "metadata": {},
   "outputs": [
    {
     "data": {
      "text/plain": [
       "array([0.70646726, 0.07414937, 0.04424945, 0.01677208, 0.00183124,\n",
       "       0.1565306 ])"
      ]
     },
     "execution_count": 39,
     "metadata": {},
     "output_type": "execute_result"
    }
   ],
   "source": [
    "importances = model.steps[1][1].feature_importances_\n",
    "importances"
   ]
  },
  {
   "cell_type": "code",
   "execution_count": 40,
   "metadata": {},
   "outputs": [
    {
     "data": {
      "text/plain": [
       "([<matplotlib.axis.XTick at 0x1f791a55d30>,\n",
       "  <matplotlib.axis.XTick at 0x1f791a55d00>,\n",
       "  <matplotlib.axis.XTick at 0x1f791a56880>,\n",
       "  <matplotlib.axis.XTick at 0x1f791a856a0>,\n",
       "  <matplotlib.axis.XTick at 0x1f791a85a00>,\n",
       "  <matplotlib.axis.XTick at 0x1f791a85f10>],\n",
       " [Text(0, 0, 'cost'),\n",
       "  Text(1, 0, 'weight'),\n",
       "  Text(2, 0, 'height'),\n",
       "  Text(3, 0, 'width'),\n",
       "  Text(4, 0, 'depth'),\n",
       "  Text(5, 0, 'volume')])"
      ]
     },
     "execution_count": 40,
     "metadata": {},
     "output_type": "execute_result"
    },
    {
     "data": {
      "image/png": "[encoded data removed]",
      "text/plain": [
       "<Figure size 432x288 with 1 Axes>"
      ]
     },
     "metadata": {
      "needs_background": "light"
     },
     "output_type": "display_data"
    }
   ],
   "source": [
    "plt.bar(range(len(importances)), importances, color=\"r\", align = \"center\")\n",
    "plt.xticks(range(len(importances)), ['cost', 'weight', 'height', 'width', 'depth', 'volume'])"
   ]
  },
  {
   "cell_type": "markdown",
   "metadata": {},
   "source": [
    "<font color='red'>Question:</font> How does gradient boosting tree work? "
   ]
  },
  {
   "cell_type": "markdown",
   "metadata": {},
   "source": [
    "### (1) First model data with simple models and analyze data for errors. \n",
    "### (2) These errors signify data points that are difficult to fit by a simple model. \n",
    "### (3) Then for later models, we particularly focus on those hard to fit data to get them right using gradient descent. $y^{p}_{i} = y^{p}_{i} - 2\\alpha \\sum(y_{i} - y^{p}_{i})$\n",
    "### (4) In the end, we combine all the predictors by giving some weights to each predictor."
   ]
  },
  {
   "cell_type": "markdown",
   "metadata": {},
   "source": [
    "If you are curious to read more:\n",
    "\n",
    "Gradient boosting involves three elements: (1) a loss function to be optimized, (2) a weak learner to make predictions, and (3) an additive model to add weak learners to minimize the loss function. \n",
    "- The loss function used depends on the type of problem being solved. It must be differentiable. For example, regression may use a squared error.\n",
    "- Decision trees are used as the weak learner in gradient boosting. The outputs of sub-models (decision trees) are added together, allowing subsequent trees outputs to be added and \"correct\" the residuals in the predictions. Trees are constructed in a greedy manner, choosing the best split points based on purity scores like Gini or to minimize the loss. It is common to constrain the weak learners in specific ways, such as a maximum number of layers, nodes, splits or leaf nodes.\n",
    "- Trees are added one at a time, and existing trees in the model are not changed. A gradient descent procedure is used to minimize the loss when adding trees. After calculating the loss of exisitng trees, we add a tree to the model that reduces the loss (i.e., follow the gradient).  We do this by parameterizing the tree, then modify the parameters of the tree and move in the right direction by reducing the residual loss. The output for the new tree is then added to the output of the existing sequence of trees in an effort to correct or improve the final output of the model. A fixed number of trees are added or training stops once loss reaches an acceptable level or no longer improves on an external validation dataset.\n",
    "\n",
    "Ref: https://machinelearningmastery.com/gentle-introduction-gradient-boosting-algorithm-machine-learning/"
   ]
  },
  {
   "cell_type": "markdown",
   "metadata": {},
   "source": [
    "<font color='red'>Question:</font> What is boosting?"
   ]
  },
  {
   "cell_type": "markdown",
   "metadata": {},
   "source": [
    "### Boosting is an ensemble technique in which the predictors are not made independently, but sequentially. This technique employs the logic in which the subsequent predictors learn from the mistakes of the previous predictors.  Boosting algorithms seek to improve the prediction power by training a sequence of weak models, each compensating the weaknesses of its predecessors."
   ]
  },
  {
   "cell_type": "markdown",
   "metadata": {},
   "source": [
    "<font color='red'>Question:</font> Compare gradient boosting trees and random forest. What are the pros and cons of these two models?"
   ]
  },
  {
   "cell_type": "markdown",
   "metadata": {},
   "source": [
    "### Gradeint Boosting: pros: generally better performance, more accurate\n",
    "### Cons: easy to overfit, takes time to train and hard to tune\n",
    "### Random forest: pros: fast, OK performance, easy to tune\n",
    "### Cons: bias towards categorical features that has many levels, somewhat slow at prediction time"
   ]
  },
  {
   "cell_type": "markdown",
   "metadata": {},
   "source": [
    "<font color='red'>Assignment:</font> Tune hyperparameters with k-fold cross validation to optimize model performance."
   ]
  },
  {
   "cell_type": "code",
   "execution_count": 41,
   "metadata": {},
   "outputs": [],
   "source": [
    "from sklearn.model_selection import KFold\n",
    "from sklearn.model_selection import GridSearchCV\n",
    "from sklearn.metrics import make_scorer"
   ]
  },
  {
   "cell_type": "code",
   "execution_count": 42,
   "metadata": {},
   "outputs": [],
   "source": [
    "parameters = {'gbr__learning_rate': [0.1], \n",
    "              'gbr__n_estimators': [100, 300, 500], \n",
    "              'gbr__max_depth': [3, 5, 10], \n",
    "              'gbr__min_samples_leaf': range(30, 150, 30), \n",
    "              'gbr__min_samples_split': [2, 3, 5]}"
   ]
  },
  {
   "cell_type": "code",
   "execution_count": 43,
   "metadata": {},
   "outputs": [],
   "source": [
    "scorer = make_scorer(mean_squared_error, greater_is_better = False)"
   ]
  },
  {
   "cell_type": "code",
   "execution_count": 44,
   "metadata": {},
   "outputs": [],
   "source": [
    "steps = [('tf', Transformer()),\n",
    "         ('gbr', GradientBoostingRegressor())]\n",
    "model = Pipeline(steps)"
   ]
  },
  {
   "cell_type": "code",
   "execution_count": 45,
   "metadata": {},
   "outputs": [],
   "source": [
    "model_gsv = GridSearchCV(model, parameters, cv = 3, scoring = scorer, n_jobs=-1)"
   ]
  },
  {
   "cell_type": "code",
   "execution_count": 46,
   "metadata": {},
   "outputs": [],
   "source": [
    "model_gsv = model_gsv.fit(X_train, y_train)"
   ]
  },
  {
   "cell_type": "code",
   "execution_count": 47,
   "metadata": {},
   "outputs": [
    {
     "data": {
      "text/plain": [
       "{'gbr__learning_rate': 0.1,\n",
       " 'gbr__max_depth': 3,\n",
       " 'gbr__min_samples_leaf': 60,\n",
       " 'gbr__min_samples_split': 2,\n",
       " 'gbr__n_estimators': 100}"
      ]
     },
     "execution_count": 47,
     "metadata": {},
     "output_type": "execute_result"
    }
   ],
   "source": [
    "model_gsv.best_params_"
   ]
  },
  {
   "cell_type": "code",
   "execution_count": 48,
   "metadata": {},
   "outputs": [
    {
     "name": "stdout",
     "output_type": "stream",
     "text": [
      "train MAE: 1.00e+05\n",
      "train MSE: 2.39e+10\n",
      "train R2: 0.438\n"
     ]
    }
   ],
   "source": [
    "y_train_pred = model_gsv.predict(X_train)\n",
    "print('train MAE: {0:.2e}'.format(mean_absolute_error(y_train, y_train_pred)))\n",
    "print('train MSE: {0:.2e}'.format(mean_squared_error(y_train, y_train_pred)))\n",
    "print('train R2: {0:.3f}'.format(r2_score(y_train, y_train_pred)))"
   ]
  },
  {
   "cell_type": "code",
   "execution_count": 49,
   "metadata": {},
   "outputs": [
    {
     "name": "stdout",
     "output_type": "stream",
     "text": [
      "test MAE: 1.24e+05\n",
      "test MSE: 5.36e+10\n",
      "test R2: 0.378\n"
     ]
    }
   ],
   "source": [
    "y_test_pred = model_gsv.predict(X_test)\n",
    "print('test MAE: {0:.2e}'.format(mean_absolute_error(y_test, y_test_pred)))\n",
    "print('test MSE: {0:.2e}'.format(mean_squared_error(y_test, y_test_pred)))\n",
    "print('test R2: {0:.3f}'.format(r2_score(y_test, y_test_pred)))"
   ]
  },
  {
   "cell_type": "markdown",
   "metadata": {},
   "source": [
    "<font color='red'>Question:</font> What are the hyper parameters which can effetively affect model performance? How do they affect the performance respectively?"
   ]
  },
  {
   "cell_type": "markdown",
   "metadata": {},
   "source": [
    "### The only extra one is the learning_rate. Lower values are generally preferred as they make the model robust to the specific characteristics of tree and thus allowing it to generalize well. Lower values would require higher number of trees to model all the relations and will be computationally expensive."
   ]
  },
  {
   "cell_type": "markdown",
   "metadata": {},
   "source": [
    "Other common hyperparameters to tune, in addition to learning_rate:\n",
    "\n",
    "1. min_samples_split\n",
    "- Defines the minimum number of samples which are required in a node to be considered for splitting. \n",
    "- Used to control overfitting. Higher values prevent overfitting. Too high values can lead to under-fitting hence, it should be tuned using CV.\n",
    "\n",
    "2. max_depth\n",
    "- The maximum depth of a tree.\n",
    "- Used to control overfitting. Higher depth will allow model to learn relations very specific to a particular sample. Should be tuned using CV.\n",
    "\n",
    "3. n_estimators\n",
    "- The number of sequential trees to be modeled.\n",
    "- Though GBM is fairly robust at higher number of trees but it can still overfit at a point. Hence, this should be tuned using CV for a particular learning rate.\n",
    "\n",
    "4. subsample\n",
    "- The fraction of observations to be selected for each tree. Selection is done by random sampling.\n",
    "- Values slightly less than 1 make the model robust by reducing the variance. Typical values ~0.8 generally work fine but can be fine-tuned further.\n",
    "\n",
    "5. random_state\n",
    "- The random number seed so that same random numbers are generated every time. \n",
    "- This is important for parameter tuning. If we don’t fix the random number, then we’ll have different outcomes for subsequent runs on the same parameters and it becomes difficult to compare models. It can potentially result in overfitting to a particular random sample selected. We can try running models for different random samples, which is computationally expensive and generally not used.\n"
   ]
  },
  {
   "cell_type": "markdown",
   "metadata": {},
   "source": [
    "# 3. Xgboost,  XGB=GB + regularization + parallel"
   ]
  },
  {
   "cell_type": "markdown",
   "metadata": {},
   "source": [
    "<font color='red'>Assignment:</font> Build a pipeline with **XGBRegressor** to predict **price** with **cost**, **weight**, **height**, **width**, **depth**, and **volume**."
   ]
  },
  {
   "cell_type": "code",
   "execution_count": 50,
   "metadata": {},
   "outputs": [],
   "source": [
    "from xgboost.sklearn import XGBRegressor"
   ]
  },
  {
   "cell_type": "code",
   "execution_count": 51,
   "metadata": {},
   "outputs": [],
   "source": [
    "steps = [('tf', Transformer()),\n",
    "         ('xgbr', XGBRegressor())]     # https://xgboost.readthedocs.io/en/stable/python/python_api.html#\n",
    "model = Pipeline(steps)"
   ]
  },
  {
   "cell_type": "code",
   "execution_count": 52,
   "metadata": {},
   "outputs": [
    {
     "data": {
      "text/plain": [
       "Pipeline(steps=[('tf', <__main__.Transformer object at 0x000001F791A15640>),\n",
       "                ('xgbr',\n",
       "                 XGBRegressor(base_score=0.5, booster='gbtree',\n",
       "                              colsample_bylevel=1, colsample_bynode=1,\n",
       "                              colsample_bytree=1, gamma=0, gpu_id=-1,\n",
       "                              importance_type='gain',\n",
       "                              interaction_constraints='',\n",
       "                              learning_rate=0.300000012, max_delta_step=0,\n",
       "                              max_depth=6, min_child_weight=1, missing=nan,\n",
       "                              monotone_constraints='()', n_estimators=100,\n",
       "                              n_jobs=8, num_parallel_tree=1, random_state=0,\n",
       "                              reg_alpha=0, reg_lambda=1, scale_pos_weight=1,\n",
       "                              subsample=1, tree_method='exact',\n",
       "                              validate_parameters=1, verbosity=None))])"
      ]
     },
     "execution_count": 52,
     "metadata": {},
     "output_type": "execute_result"
    }
   ],
   "source": [
    "model.fit(X_train, y_train)    "
   ]
  },
  {
   "cell_type": "markdown",
   "metadata": {},
   "source": [
    "<font color='red'>Assignment:</font> Calculate the train/test scores."
   ]
  },
  {
   "cell_type": "code",
   "execution_count": 53,
   "metadata": {},
   "outputs": [
    {
     "name": "stdout",
     "output_type": "stream",
     "text": [
      "train MAE: 4.38e+04\n",
      "train MSE: 4.12e+09\n",
      "train R2: 0.903\n"
     ]
    }
   ],
   "source": [
    "y_train_pred = model.predict(X_train)\n",
    "print('train MAE: {0:.2e}'.format(mean_absolute_error(y_train, y_train_pred)))\n",
    "print('train MSE: {0:.2e}'.format(mean_squared_error(y_train, y_train_pred)))\n",
    "print('train R2: {0:.3f}'.format(r2_score(y_train, y_train_pred)))"
   ]
  },
  {
   "cell_type": "code",
   "execution_count": 54,
   "metadata": {},
   "outputs": [
    {
     "name": "stdout",
     "output_type": "stream",
     "text": [
      "test MAE: 1.35e+05\n",
      "test MSE: 5.87e+10\n",
      "test R2: 0.319\n"
     ]
    }
   ],
   "source": [
    "y_test_pred = model.predict(X_test)\n",
    "print('test MAE: {0:.2e}'.format(mean_absolute_error(y_test, y_test_pred)))\n",
    "print('test MSE: {0:.2e}'.format(mean_squared_error(y_test, y_test_pred)))\n",
    "print('test R2: {0:.3f}'.format(r2_score(y_test, y_test_pred)))"
   ]
  },
  {
   "cell_type": "markdown",
   "metadata": {},
   "source": [
    "<font color='red'>Assignment:</font> Plot the feature importance in a bar chart."
   ]
  },
  {
   "cell_type": "code",
   "execution_count": 55,
   "metadata": {},
   "outputs": [
    {
     "data": {
      "text/plain": [
       "array([0.3532355 , 0.09854586, 0.10043959, 0.18953238, 0.08759644,\n",
       "       0.17065029], dtype=float32)"
      ]
     },
     "execution_count": 55,
     "metadata": {},
     "output_type": "execute_result"
    }
   ],
   "source": [
    "importances = model.steps[1][1].feature_importances_\n",
    "importances"
   ]
  },
  {
   "cell_type": "code",
   "execution_count": 56,
   "metadata": {},
   "outputs": [
    {
     "data": {
      "text/plain": [
       "([<matplotlib.axis.XTick at 0x1f79184bdf0>,\n",
       "  <matplotlib.axis.XTick at 0x1f79184b040>,\n",
       "  <matplotlib.axis.XTick at 0x1f791a1b550>,\n",
       "  <matplotlib.axis.XTick at 0x1f791a28fd0>,\n",
       "  <matplotlib.axis.XTick at 0x1f791a28160>,\n",
       "  <matplotlib.axis.XTick at 0x1f791a28fa0>],\n",
       " [Text(0, 0, 'cost'),\n",
       "  Text(1, 0, 'weight'),\n",
       "  Text(2, 0, 'height'),\n",
       "  Text(3, 0, 'width'),\n",
       "  Text(4, 0, 'depth'),\n",
       "  Text(5, 0, 'volume')])"
      ]
     },
     "execution_count": 56,
     "metadata": {},
     "output_type": "execute_result"
    },
    {
     "data": {
      "image/png": "[encoded data removed]",
      "text/plain": [
       "<Figure size 432x288 with 1 Axes>"
      ]
     },
     "metadata": {
      "needs_background": "light"
     },
     "output_type": "display_data"
    }
   ],
   "source": [
    "plt.bar(range(len(importances)), importances, color=\"r\", align = \"center\")\n",
    "plt.xticks(range(len(importances)), ['cost', 'weight', 'height', 'width', 'depth', 'volume'])"
   ]
  },
  {
   "cell_type": "markdown",
   "metadata": {},
   "source": [
    "<font color='red'>Assignment:</font> Tune hyperparameters with k-fold cross validation to optimize model performance."
   ]
  },
  {
   "cell_type": "code",
   "execution_count": 57,
   "metadata": {},
   "outputs": [],
   "source": [
    "parameters = {'xgbr__gamma': [0.0, 0.1, 0.2, 0.3], \n",
    "              'xgbr__learning_rate': [0.05, 0.1], \n",
    "              'xgbr__n_estimators': [100, 300, 500], \n",
    "              'xgbr__max_depth': [3, 5, 10], \n",
    "              'xgbr__lambda': [0.5, 1, 5], \n",
    "              'xgbr__min_child_weight': [3, 5, 7]}"
   ]
  },
  {
   "cell_type": "code",
   "execution_count": 58,
   "metadata": {},
   "outputs": [],
   "source": [
    "scorer = make_scorer(mean_squared_error, greater_is_better = False)"
   ]
  },
  {
   "cell_type": "code",
   "execution_count": 59,
   "metadata": {},
   "outputs": [],
   "source": [
    "steps = [('tf', Transformer()),\n",
    "         ('xgbr', XGBRegressor())]\n",
    "model = Pipeline(steps)"
   ]
  },
  {
   "cell_type": "code",
   "execution_count": 60,
   "metadata": {},
   "outputs": [],
   "source": [
    "model_gsv = GridSearchCV(model, parameters, cv = 5, scoring = scorer)"
   ]
  },
  {
   "cell_type": "code",
   "execution_count": 61,
   "metadata": {},
   "outputs": [],
   "source": [
    "model_gsv = model_gsv.fit(X_train, y_train)"
   ]
  },
  {
   "cell_type": "code",
   "execution_count": 62,
   "metadata": {},
   "outputs": [
    {
     "data": {
      "text/plain": [
       "{'xgbr__gamma': 0.0,\n",
       " 'xgbr__lambda': 1,\n",
       " 'xgbr__learning_rate': 0.05,\n",
       " 'xgbr__max_depth': 3,\n",
       " 'xgbr__min_child_weight': 7,\n",
       " 'xgbr__n_estimators': 100}"
      ]
     },
     "execution_count": 62,
     "metadata": {},
     "output_type": "execute_result"
    }
   ],
   "source": [
    "model_gsv.best_params_"
   ]
  },
  {
   "cell_type": "code",
   "execution_count": 63,
   "metadata": {},
   "outputs": [
    {
     "name": "stdout",
     "output_type": "stream",
     "text": [
      "train MAE: 9.85e+04\n",
      "train MSE: 2.23e+10\n",
      "train R2: 0.476\n"
     ]
    }
   ],
   "source": [
    "y_train_pred = model_gsv.predict(X_train)\n",
    "print('train MAE: {0:.2e}'.format(mean_absolute_error(y_train, y_train_pred)))\n",
    "print('train MSE: {0:.2e}'.format(mean_squared_error(y_train, y_train_pred)))\n",
    "print('train R2: {0:.3f}'.format(r2_score(y_train, y_train_pred)))"
   ]
  },
  {
   "cell_type": "code",
   "execution_count": 64,
   "metadata": {},
   "outputs": [
    {
     "name": "stdout",
     "output_type": "stream",
     "text": [
      "test MAE: 1.24e+05\n",
      "test MSE: 5.44e+10\n",
      "test R2: 0.369\n"
     ]
    }
   ],
   "source": [
    "y_test_pred = model_gsv.predict(X_test)\n",
    "print('test MAE: {0:.2e}'.format(mean_absolute_error(y_test, y_test_pred)))\n",
    "print('test MSE: {0:.2e}'.format(mean_squared_error(y_test, y_test_pred)))\n",
    "print('test R2: {0:.3f}'.format(r2_score(y_test, y_test_pred)))"
   ]
  },
  {
   "cell_type": "markdown",
   "metadata": {},
   "source": [
    "<font color='red'>Question:</font> What are the hyper parameters which can effetively affect model performance? How do they affect the performance respectively?"
   ]
  },
  {
   "cell_type": "markdown",
   "metadata": {},
   "source": [
    "### The extras are:\n",
    "### (1) gamma: minimum loss reduction required to make a further partition on a leaf node of the tree. The larger gamma is, the more conservative the algorithm will be. (similar to min_impurity_decrease in RF model)\n",
    "### (2) min_child_weight: Minimum sum of hessian needed in a child. In linear regression task, this simply corresponds to minimum number of sample needed to be in each node. The larger min_child_weight is, the more conservative the algorithm will be.\n",
    "### (3) alpha: L1 regularization parameter\n",
    "### (4) lambda: L2 regularization parameter\n",
    "\n",
    "You may be asked about these hyperparameters as well... colsample_bylevel, colsample_bytree, colsample_bynode.\n",
    "https://stackoverflow.com/questions/51022822/subsample-colsample-bytree-colsample-bylevel-in-xgbclassifier-python-3-x"
   ]
  },
  {
   "cell_type": "markdown",
   "metadata": {},
   "source": [
    "<font color='red'>Question:</font> What is the relationship and difference between Xgboost and gradient boosting trees? Why Xgboost performs better than graident boosting trees?"
   ]
  },
  {
   "cell_type": "markdown",
   "metadata": {},
   "source": [
    "### Both xgboost and gbm follows the principle of gradient boosting. There are however, some difference in modeling details. Extreme gradient boosting uses parallel processing to **speed up** computing times and facilitate memory usage. Also, Xgboost uses regularization to control over-fitting, which gives it better performance. Furthermore, Xgboost uses sparse matrix and sparse structure algorithms to **speed up** the computation."
   ]
  }
 ],
 "metadata": {
  "kernelspec": {
   "display_name": "Python 3 (ipykernel)",
   "language": "python",
   "name": "python3"
  },
  "language_info": {
   "codemirror_mode": {
    "name": "ipython",
    "version": 3
   },
   "file_extension": ".py",
   "mimetype": "text/x-python",
   "name": "python",
   "nbconvert_exporter": "python",
   "pygments_lexer": "ipython3",
   "version": "3.8.15"
  },
  "toc": {
   "base_numbering": 1,
   "nav_menu": {},
   "number_sections": true,
   "sideBar": true,
   "skip_h1_title": false,
   "title_cell": "Table of Contents",
   "title_sidebar": "Contents",
   "toc_cell": false,
   "toc_position": {},
   "toc_section_display": true,
   "toc_window_display": false
  }
 },
 "nbformat": 4,
 "nbformat_minor": 4
}

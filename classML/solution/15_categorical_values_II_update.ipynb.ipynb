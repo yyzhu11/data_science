{
 "cells": [
  {
   "cell_type": "code",
   "execution_count": null,
   "metadata": {
    "id": "5UFd9S1Jv1f5"
   },
   "outputs": [],
   "source": [
    "import pandas as pd"
   ]
  },
  {
   "cell_type": "code",
   "execution_count": null,
   "metadata": {
    "id": "4brCts_yv1f9"
   },
   "outputs": [],
   "source": [
    "df = pd.read_csv('./data/sales.csv')"
   ]
  },
  {
   "cell_type": "code",
   "execution_count": null,
   "metadata": {
    "id": "rMu17_5nv1f9"
   },
   "outputs": [],
   "source": [
    "df.dropna(subset=['price'], inplace=True)"
   ]
  },
  {
   "cell_type": "code",
   "execution_count": null,
   "metadata": {
    "id": "qyFpW41lv1f-",
    "outputId": "5e4496df-08e3-44e7-fa49-393b4885e154"
   },
   "outputs": [
    {
     "data": {
      "text/html": [
       "<div>\n",
       "<style scoped>\n",
       "    .dataframe tbody tr th:only-of-type {\n",
       "        vertical-align: middle;\n",
       "    }\n",
       "\n",
       "    .dataframe tbody tr th {\n",
       "        vertical-align: top;\n",
       "    }\n",
       "\n",
       "    .dataframe thead th {\n",
       "        text-align: right;\n",
       "    }\n",
       "</style>\n",
       "<table border=\"1\" class=\"dataframe\">\n",
       "  <thead>\n",
       "    <tr style=\"text-align: right;\">\n",
       "      <th></th>\n",
       "      <th>cost</th>\n",
       "      <th>price</th>\n",
       "      <th>weight</th>\n",
       "      <th>purchase_date</th>\n",
       "      <th>product_type</th>\n",
       "      <th>product_level</th>\n",
       "      <th>maker</th>\n",
       "      <th>ingredient</th>\n",
       "      <th>height</th>\n",
       "      <th>width</th>\n",
       "      <th>depth</th>\n",
       "    </tr>\n",
       "  </thead>\n",
       "  <tbody>\n",
       "    <tr>\n",
       "      <th>0</th>\n",
       "      <td>$333k</td>\n",
       "      <td>$300,492</td>\n",
       "      <td>3 Ton 90 Kg</td>\n",
       "      <td>Dec 19 2008</td>\n",
       "      <td>Q,B</td>\n",
       "      <td>advanced</td>\n",
       "      <td>M14122</td>\n",
       "      <td>IN732052,IN732053</td>\n",
       "      <td>2.76 meters</td>\n",
       "      <td>97 cm</td>\n",
       "      <td>26 cm</td>\n",
       "    </tr>\n",
       "    <tr>\n",
       "      <th>1</th>\n",
       "      <td>NaN</td>\n",
       "      <td>$430,570</td>\n",
       "      <td>3 Ton 30 Kg</td>\n",
       "      <td>Sep 10 1997</td>\n",
       "      <td>J,D</td>\n",
       "      <td>basic</td>\n",
       "      <td>NaN</td>\n",
       "      <td>IN732054,IN732055,IN732056,IN732057,IN732058</td>\n",
       "      <td>2.67 meters</td>\n",
       "      <td>98 cm</td>\n",
       "      <td>26 cm</td>\n",
       "    </tr>\n",
       "    <tr>\n",
       "      <th>2</th>\n",
       "      <td>$270k</td>\n",
       "      <td>$213,070</td>\n",
       "      <td>3 Ton 40 Kg</td>\n",
       "      <td>Sep 05 2001</td>\n",
       "      <td>J,D</td>\n",
       "      <td>basic</td>\n",
       "      <td>NaN</td>\n",
       "      <td>IN732054,IN732059,IN732060</td>\n",
       "      <td>3.0 meters</td>\n",
       "      <td>93 cm</td>\n",
       "      <td>24 cm</td>\n",
       "    </tr>\n",
       "    <tr>\n",
       "      <th>3</th>\n",
       "      <td>NaN</td>\n",
       "      <td>$229,174</td>\n",
       "      <td>3 Ton 50 Kg</td>\n",
       "      <td>Dec 23 2016</td>\n",
       "      <td>U</td>\n",
       "      <td>advanced</td>\n",
       "      <td>M14123</td>\n",
       "      <td>IN732061,IN732062,IN732063</td>\n",
       "      <td>2.5 meters</td>\n",
       "      <td>102 cm</td>\n",
       "      <td>27 cm</td>\n",
       "    </tr>\n",
       "    <tr>\n",
       "      <th>4</th>\n",
       "      <td>$97k</td>\n",
       "      <td>$122,659</td>\n",
       "      <td>2 Ton 970 Kg</td>\n",
       "      <td>Jan 12 2000</td>\n",
       "      <td>D,R</td>\n",
       "      <td>advanced</td>\n",
       "      <td>NaN</td>\n",
       "      <td>IN732064,IN732065,IN732066</td>\n",
       "      <td>2.47 meters</td>\n",
       "      <td>101 cm</td>\n",
       "      <td>26 cm</td>\n",
       "    </tr>\n",
       "  </tbody>\n",
       "</table>\n",
       "</div>"
      ],
      "text/plain": [
       "    cost     price        weight purchase_date product_type product_level  \\\n",
       "0  $333k  $300,492   3 Ton 90 Kg   Dec 19 2008          Q,B      advanced   \n",
       "1    NaN  $430,570   3 Ton 30 Kg   Sep 10 1997          J,D         basic   \n",
       "2  $270k  $213,070   3 Ton 40 Kg   Sep 05 2001          J,D         basic   \n",
       "3    NaN  $229,174   3 Ton 50 Kg   Dec 23 2016            U      advanced   \n",
       "4   $97k  $122,659  2 Ton 970 Kg   Jan 12 2000          D,R      advanced   \n",
       "\n",
       "    maker                                    ingredient       height   width  \\\n",
       "0  M14122                             IN732052,IN732053  2.76 meters   97 cm   \n",
       "1     NaN  IN732054,IN732055,IN732056,IN732057,IN732058  2.67 meters   98 cm   \n",
       "2     NaN                    IN732054,IN732059,IN732060   3.0 meters   93 cm   \n",
       "3  M14123                    IN732061,IN732062,IN732063   2.5 meters  102 cm   \n",
       "4     NaN                    IN732064,IN732065,IN732066  2.47 meters  101 cm   \n",
       "\n",
       "   depth  \n",
       "0  26 cm  \n",
       "1  26 cm  \n",
       "2  24 cm  \n",
       "3  27 cm  \n",
       "4  26 cm  "
      ]
     },
     "execution_count": 4,
     "metadata": {},
     "output_type": "execute_result"
    }
   ],
   "source": [
    "df.head()"
   ]
  },
  {
   "cell_type": "code",
   "execution_count": null,
   "metadata": {
    "id": "4v3Y_LD5v1f_"
   },
   "outputs": [],
   "source": [
    "df['year'] = pd.to_datetime(df.purchase_date).dt.year\n",
    "\n",
    "train_raw = df[df.year < 2015].reset_index(drop=True)\n",
    "test_raw = df[df.year >= 2015].reset_index(drop=True)"
   ]
  },
  {
   "cell_type": "code",
   "execution_count": null,
   "metadata": {
    "id": "56i7JkKdv1gA"
   },
   "outputs": [],
   "source": [
    "from sklearn.pipeline import Pipeline\n",
    "from sklearn.linear_model import LinearRegression\n",
    "from sklearn.ensemble import RandomForestRegressor\n",
    "from sklearn.preprocessing import PolynomialFeatures\n",
    "from sklearn.preprocessing import MinMaxScaler\n",
    "from sklearn.metrics import mean_absolute_error, mean_squared_error, r2_score\n",
    "import matplotlib.pylab as plt\n",
    "%matplotlib inline"
   ]
  },
  {
   "cell_type": "code",
   "execution_count": null,
   "metadata": {
    "id": "E1PPf5Jiv1gB"
   },
   "outputs": [],
   "source": [
    "target = 'price'\n",
    "def price2num(x):\n",
    "    if type(x) == str: \n",
    "        x = x.strip('$').replace(',', '')\n",
    "    return float(x)"
   ]
  },
  {
   "cell_type": "code",
   "execution_count": null,
   "metadata": {
    "id": "k8TgQOA2v1gC"
   },
   "outputs": [],
   "source": [
    "y_train = train_raw[target].map(price2num)\n",
    "y_test = test_raw[target].map(price2num)"
   ]
  },
  {
   "cell_type": "markdown",
   "metadata": {
    "id": "bWSxmgn8v1gC"
   },
   "source": [
    "# 1. Dummy Transformer"
   ]
  },
  {
   "cell_type": "markdown",
   "metadata": {
    "id": "y9IE4n_tv1gE"
   },
   "source": [
    "<font color='red'>Assignment:</font> Build a **Dummy Value Transformer** and wrap it up with **LinearRegression** and **RandomForestRegressor** respectively to predict **price** using **product_type**. Compare the performance of these two models."
   ]
  },
  {
   "cell_type": "code",
   "execution_count": null,
   "metadata": {
    "id": "1jKmWIofv1gF"
   },
   "outputs": [],
   "source": [
    "class Dummy_Transformer(object):\n",
    "    \n",
    "    def fit(self, X, y=None):\n",
    "        self.keys = set(X)\n",
    "    \n",
    "    def transform(self, X, y=None):\n",
    "        res = {}\n",
    "        for key in self.keys:\n",
    "            res[key] = [0]*len(X)    \n",
    "        for i, item in enumerate(X):\n",
    "            if item in self.keys:\n",
    "                res[item][i] = 1\n",
    "        return pd.DataFrame(res)\n",
    "    \n",
    "    def fit_transform(self, X, y=None):\n",
    "        self.fit(X)\n",
    "        return self.transform(X)        "
   ]
  },
  {
   "cell_type": "code",
   "execution_count": null,
   "metadata": {
    "id": "VAou7QZvv1gG"
   },
   "outputs": [],
   "source": [
    "dummytf = Dummy_Transformer()"
   ]
  },
  {
   "cell_type": "code",
   "execution_count": null,
   "metadata": {
    "id": "KzHhYKBTv1gG",
    "outputId": "df1c0336-f6a6-4119-f082-c8584b737f04"
   },
   "outputs": [
    {
     "data": {
      "text/html": [
       "<div>\n",
       "<style scoped>\n",
       "    .dataframe tbody tr th:only-of-type {\n",
       "        vertical-align: middle;\n",
       "    }\n",
       "\n",
       "    .dataframe tbody tr th {\n",
       "        vertical-align: top;\n",
       "    }\n",
       "\n",
       "    .dataframe thead th {\n",
       "        text-align: right;\n",
       "    }\n",
       "</style>\n",
       "<table border=\"1\" class=\"dataframe\">\n",
       "  <thead>\n",
       "    <tr style=\"text-align: right;\">\n",
       "      <th></th>\n",
       "      <th>N,D</th>\n",
       "      <th>U,R</th>\n",
       "      <th>D</th>\n",
       "      <th>S</th>\n",
       "      <th>J</th>\n",
       "      <th>T,H</th>\n",
       "      <th>L</th>\n",
       "      <th>Q,N</th>\n",
       "      <th>D,A</th>\n",
       "      <th>K,H</th>\n",
       "      <th>...</th>\n",
       "      <th>F,D</th>\n",
       "      <th>L,A</th>\n",
       "      <th>T,A</th>\n",
       "      <th>R,V</th>\n",
       "      <th>Q,H</th>\n",
       "      <th>E</th>\n",
       "      <th>H,M</th>\n",
       "      <th>K,D</th>\n",
       "      <th>D,H</th>\n",
       "      <th>W</th>\n",
       "    </tr>\n",
       "  </thead>\n",
       "  <tbody>\n",
       "    <tr>\n",
       "      <th>0</th>\n",
       "      <td>0</td>\n",
       "      <td>0</td>\n",
       "      <td>0</td>\n",
       "      <td>0</td>\n",
       "      <td>0</td>\n",
       "      <td>0</td>\n",
       "      <td>0</td>\n",
       "      <td>0</td>\n",
       "      <td>0</td>\n",
       "      <td>0</td>\n",
       "      <td>...</td>\n",
       "      <td>0</td>\n",
       "      <td>0</td>\n",
       "      <td>0</td>\n",
       "      <td>0</td>\n",
       "      <td>0</td>\n",
       "      <td>0</td>\n",
       "      <td>0</td>\n",
       "      <td>0</td>\n",
       "      <td>0</td>\n",
       "      <td>0</td>\n",
       "    </tr>\n",
       "    <tr>\n",
       "      <th>1</th>\n",
       "      <td>0</td>\n",
       "      <td>0</td>\n",
       "      <td>0</td>\n",
       "      <td>0</td>\n",
       "      <td>0</td>\n",
       "      <td>0</td>\n",
       "      <td>0</td>\n",
       "      <td>0</td>\n",
       "      <td>0</td>\n",
       "      <td>0</td>\n",
       "      <td>...</td>\n",
       "      <td>0</td>\n",
       "      <td>0</td>\n",
       "      <td>0</td>\n",
       "      <td>0</td>\n",
       "      <td>0</td>\n",
       "      <td>0</td>\n",
       "      <td>0</td>\n",
       "      <td>0</td>\n",
       "      <td>0</td>\n",
       "      <td>0</td>\n",
       "    </tr>\n",
       "    <tr>\n",
       "      <th>2</th>\n",
       "      <td>0</td>\n",
       "      <td>0</td>\n",
       "      <td>0</td>\n",
       "      <td>0</td>\n",
       "      <td>0</td>\n",
       "      <td>0</td>\n",
       "      <td>0</td>\n",
       "      <td>0</td>\n",
       "      <td>0</td>\n",
       "      <td>0</td>\n",
       "      <td>...</td>\n",
       "      <td>0</td>\n",
       "      <td>0</td>\n",
       "      <td>0</td>\n",
       "      <td>0</td>\n",
       "      <td>0</td>\n",
       "      <td>0</td>\n",
       "      <td>0</td>\n",
       "      <td>0</td>\n",
       "      <td>0</td>\n",
       "      <td>0</td>\n",
       "    </tr>\n",
       "    <tr>\n",
       "      <th>3</th>\n",
       "      <td>0</td>\n",
       "      <td>0</td>\n",
       "      <td>0</td>\n",
       "      <td>0</td>\n",
       "      <td>0</td>\n",
       "      <td>0</td>\n",
       "      <td>0</td>\n",
       "      <td>0</td>\n",
       "      <td>0</td>\n",
       "      <td>0</td>\n",
       "      <td>...</td>\n",
       "      <td>0</td>\n",
       "      <td>0</td>\n",
       "      <td>0</td>\n",
       "      <td>0</td>\n",
       "      <td>0</td>\n",
       "      <td>0</td>\n",
       "      <td>0</td>\n",
       "      <td>0</td>\n",
       "      <td>0</td>\n",
       "      <td>0</td>\n",
       "    </tr>\n",
       "    <tr>\n",
       "      <th>4</th>\n",
       "      <td>0</td>\n",
       "      <td>0</td>\n",
       "      <td>0</td>\n",
       "      <td>0</td>\n",
       "      <td>0</td>\n",
       "      <td>0</td>\n",
       "      <td>0</td>\n",
       "      <td>0</td>\n",
       "      <td>0</td>\n",
       "      <td>0</td>\n",
       "      <td>...</td>\n",
       "      <td>0</td>\n",
       "      <td>0</td>\n",
       "      <td>0</td>\n",
       "      <td>0</td>\n",
       "      <td>0</td>\n",
       "      <td>0</td>\n",
       "      <td>0</td>\n",
       "      <td>0</td>\n",
       "      <td>0</td>\n",
       "      <td>0</td>\n",
       "    </tr>\n",
       "  </tbody>\n",
       "</table>\n",
       "<p>5 rows × 64 columns</p>\n",
       "</div>"
      ],
      "text/plain": [
       "   N,D  U,R  D  S  J  T,H  L  Q,N  D,A  K,H  ...  F,D  L,A  T,A  R,V  Q,H  E  \\\n",
       "0    0    0  0  0  0    0  0    0    0    0  ...    0    0    0    0    0  0   \n",
       "1    0    0  0  0  0    0  0    0    0    0  ...    0    0    0    0    0  0   \n",
       "2    0    0  0  0  0    0  0    0    0    0  ...    0    0    0    0    0  0   \n",
       "3    0    0  0  0  0    0  0    0    0    0  ...    0    0    0    0    0  0   \n",
       "4    0    0  0  0  0    0  0    0    0    0  ...    0    0    0    0    0  0   \n",
       "\n",
       "   H,M  K,D  D,H  W  \n",
       "0    0    0    0  0  \n",
       "1    0    0    0  0  \n",
       "2    0    0    0  0  \n",
       "3    0    0    0  0  \n",
       "4    0    0    0  0  \n",
       "\n",
       "[5 rows x 64 columns]"
      ]
     },
     "execution_count": 11,
     "metadata": {},
     "output_type": "execute_result"
    }
   ],
   "source": [
    "dummytf.fit_transform(df.product_type).head()"
   ]
  },
  {
   "cell_type": "code",
   "execution_count": null,
   "metadata": {
    "id": "ehDLZzi8v1gG",
    "outputId": "03f38d0c-61f5-4dba-b51a-165b7cefa6f9"
   },
   "outputs": [
    {
     "name": "stdout",
     "output_type": "stream",
     "text": [
      "train MAE: 1.25e+05\n",
      "train MSE: 3.54e+10\n",
      "train R2: 0.170\n",
      "test MAE: 1.46e+05\n",
      "test MSE: 6.43e+10\n",
      "test R2: 0.254\n"
     ]
    },
    {
     "data": {
      "text/plain": [
       "Text(0, 0.5, 'y_test_pred')"
      ]
     },
     "execution_count": 17,
     "metadata": {},
     "output_type": "execute_result"
    },
    {
     "data": {
      "image/png": "[encoded data removed]",
      "text/plain": [
       "<Figure size 432x288 with 1 Axes>"
      ]
     },
     "metadata": {
      "needs_background": "light"
     },
     "output_type": "display_data"
    }
   ],
   "source": [
    "steps = [('dummytf', Dummy_Transformer()),\n",
    "         ('lr', LinearRegression())]\n",
    "pipe = Pipeline(steps)\n",
    "\n",
    "model = pipe.fit(train_raw.product_type, y_train)\n",
    "\n",
    "y_train_pred = model.predict(train_raw.product_type)\n",
    "\n",
    "y_test_pred = model.predict(test_raw.product_type)\n",
    "\n",
    "print('train MAE: {0:.2e}'.format(mean_absolute_error(y_train, y_train_pred)))\n",
    "print('train MSE: {0:.2e}'.format(mean_squared_error(y_train, y_train_pred)))\n",
    "print('train R2: {0:.3f}'.format(r2_score(y_train, y_train_pred)))\n",
    "\n",
    "print('test MAE: {0:.2e}'.format(mean_absolute_error(y_test, y_test_pred)))\n",
    "print('test MSE: {0:.2e}'.format(mean_squared_error(y_test, y_test_pred)))\n",
    "print('test R2: {0:.3f}'.format(r2_score(y_test, y_test_pred)))\n",
    "\n",
    "plt.scatter(y_test, y_test_pred, alpha = 0.3)\n",
    "plt.xlabel('y_test')\n",
    "plt.ylabel('y_test_pred')"
   ]
  },
  {
   "cell_type": "code",
   "execution_count": null,
   "metadata": {
    "id": "e2AeSDtTv1gH",
    "outputId": "851231e2-79e5-486d-eea4-407d42853373"
   },
   "outputs": [
    {
     "name": "stdout",
     "output_type": "stream",
     "text": [
      "train MAE: 1.25e+05\n",
      "train MSE: 3.54e+10\n",
      "train R2: 0.170\n",
      "test MAE: 1.46e+05\n",
      "test MSE: 6.43e+10\n",
      "test R2: 0.254\n"
     ]
    },
    {
     "data": {
      "text/plain": [
       "Text(0, 0.5, 'y_test_pred')"
      ]
     },
     "execution_count": 18,
     "metadata": {},
     "output_type": "execute_result"
    },
    {
     "data": {
      "image/png": "[encoded data removed]",
      "text/plain": [
       "<Figure size 432x288 with 1 Axes>"
      ]
     },
     "metadata": {
      "needs_background": "light"
     },
     "output_type": "display_data"
    }
   ],
   "source": [
    "steps = [('dummytf', Dummy_Transformer()),\n",
    "         ('rf', RandomForestRegressor())]\n",
    "pipe = Pipeline(steps)\n",
    "\n",
    "model = pipe.fit(train_raw.product_type, y_train)\n",
    "\n",
    "y_train_pred = model.predict(train_raw.product_type)\n",
    "\n",
    "y_test_pred = model.predict(test_raw.product_type)\n",
    "\n",
    "print('train MAE: {0:.2e}'.format(mean_absolute_error(y_train, y_train_pred)))\n",
    "print('train MSE: {0:.2e}'.format(mean_squared_error(y_train, y_train_pred)))\n",
    "print('train R2: {0:.3f}'.format(r2_score(y_train, y_train_pred)))\n",
    "\n",
    "print('test MAE: {0:.2e}'.format(mean_absolute_error(y_test, y_test_pred)))\n",
    "print('test MSE: {0:.2e}'.format(mean_squared_error(y_test, y_test_pred)))\n",
    "print('test R2: {0:.3f}'.format(r2_score(y_test, y_test_pred)))\n",
    "\n",
    "plt.scatter(y_test, y_test_pred, alpha = 0.3)\n",
    "plt.xlabel('y_test')\n",
    "plt.ylabel('y_test_pred')"
   ]
  },
  {
   "cell_type": "code",
   "execution_count": null,
   "metadata": {
    "id": "_clww6eXv1gI",
    "outputId": "23b3bd87-b5ca-49d7-bf48-75750637c2d6"
   },
   "outputs": [
    {
     "data": {
      "text/plain": [
       "<BarContainer object of 64 artists>"
      ]
     },
     "execution_count": 20,
     "metadata": {},
     "output_type": "execute_result"
    },
    {
     "data": {
      "image/png": "[encoded data removed]",
      "text/plain": [
       "<Figure size 432x288 with 1 Axes>"
      ]
     },
     "metadata": {
      "needs_background": "light"
     },
     "output_type": "display_data"
    }
   ],
   "source": [
    "importances = model.steps[1][1].feature_importances_\n",
    "plt.bar(range(len(importances)), importances, color=\"r\", align = \"center\")"
   ]
  },
  {
   "cell_type": "code",
   "execution_count": null,
   "metadata": {
    "id": "hktI7l6qv1gI"
   },
   "outputs": [],
   "source": [
    "# split the types\n",
    "\n",
    "class Dummy_Transformer:\n",
    "    \n",
    "    def __init__(self):\n",
    "        self.keys = None\n",
    "        \n",
    "    def fit(self, X, y=None):\n",
    "        # Input: X, Series\n",
    "        types = set()\n",
    "        for x in X:\n",
    "            x = set(x.split(','))\n",
    "            types = types | x\n",
    "        self.keys = types\n",
    "    \n",
    "    def transform(self, X, y=None):\n",
    "        # Input: X, Series\n",
    "        # Output: DataFrame\n",
    "        res = {}\n",
    "        for key in self.keys:\n",
    "            res[key] = [0]*len(X)\n",
    "        for i in range(len(X)):\n",
    "            row = X.iloc[i].split(',')\n",
    "            for j in row:\n",
    "                res[j][i] = 1\n",
    "        return pd.DataFrame(res)\n",
    "    \n",
    "    def fit_transform(self, X, y=None):\n",
    "        self.fit(X)\n",
    "        return self.transform(X)"
   ]
  },
  {
   "cell_type": "code",
   "execution_count": null,
   "metadata": {
    "id": "EK7KcxYEv1gJ"
   },
   "outputs": [],
   "source": [
    "dummytf = Dummy_Transformer()"
   ]
  },
  {
   "cell_type": "code",
   "execution_count": null,
   "metadata": {
    "id": "LuV_FVG0v1gJ",
    "outputId": "5e590f67-4552-437b-affb-e52e4a02f618"
   },
   "outputs": [
    {
     "data": {
      "text/html": [
       "<div>\n",
       "<style scoped>\n",
       "    .dataframe tbody tr th:only-of-type {\n",
       "        vertical-align: middle;\n",
       "    }\n",
       "\n",
       "    .dataframe tbody tr th {\n",
       "        vertical-align: top;\n",
       "    }\n",
       "\n",
       "    .dataframe thead th {\n",
       "        text-align: right;\n",
       "    }\n",
       "</style>\n",
       "<table border=\"1\" class=\"dataframe\">\n",
       "  <thead>\n",
       "    <tr style=\"text-align: right;\">\n",
       "      <th></th>\n",
       "      <th>I</th>\n",
       "      <th>D</th>\n",
       "      <th>J</th>\n",
       "      <th>S</th>\n",
       "      <th>L</th>\n",
       "      <th>F</th>\n",
       "      <th>C</th>\n",
       "      <th>K</th>\n",
       "      <th>U</th>\n",
       "      <th>R</th>\n",
       "      <th>...</th>\n",
       "      <th>T</th>\n",
       "      <th>P</th>\n",
       "      <th>Q</th>\n",
       "      <th>G</th>\n",
       "      <th>O</th>\n",
       "      <th>A</th>\n",
       "      <th>V</th>\n",
       "      <th>H</th>\n",
       "      <th>E</th>\n",
       "      <th>W</th>\n",
       "    </tr>\n",
       "  </thead>\n",
       "  <tbody>\n",
       "    <tr>\n",
       "      <th>0</th>\n",
       "      <td>0</td>\n",
       "      <td>0</td>\n",
       "      <td>0</td>\n",
       "      <td>0</td>\n",
       "      <td>0</td>\n",
       "      <td>0</td>\n",
       "      <td>0</td>\n",
       "      <td>0</td>\n",
       "      <td>0</td>\n",
       "      <td>0</td>\n",
       "      <td>...</td>\n",
       "      <td>0</td>\n",
       "      <td>0</td>\n",
       "      <td>1</td>\n",
       "      <td>0</td>\n",
       "      <td>0</td>\n",
       "      <td>0</td>\n",
       "      <td>0</td>\n",
       "      <td>0</td>\n",
       "      <td>0</td>\n",
       "      <td>0</td>\n",
       "    </tr>\n",
       "    <tr>\n",
       "      <th>1</th>\n",
       "      <td>0</td>\n",
       "      <td>1</td>\n",
       "      <td>1</td>\n",
       "      <td>0</td>\n",
       "      <td>0</td>\n",
       "      <td>0</td>\n",
       "      <td>0</td>\n",
       "      <td>0</td>\n",
       "      <td>0</td>\n",
       "      <td>0</td>\n",
       "      <td>...</td>\n",
       "      <td>0</td>\n",
       "      <td>0</td>\n",
       "      <td>0</td>\n",
       "      <td>0</td>\n",
       "      <td>0</td>\n",
       "      <td>0</td>\n",
       "      <td>0</td>\n",
       "      <td>0</td>\n",
       "      <td>0</td>\n",
       "      <td>0</td>\n",
       "    </tr>\n",
       "    <tr>\n",
       "      <th>2</th>\n",
       "      <td>0</td>\n",
       "      <td>1</td>\n",
       "      <td>1</td>\n",
       "      <td>0</td>\n",
       "      <td>0</td>\n",
       "      <td>0</td>\n",
       "      <td>0</td>\n",
       "      <td>0</td>\n",
       "      <td>0</td>\n",
       "      <td>0</td>\n",
       "      <td>...</td>\n",
       "      <td>0</td>\n",
       "      <td>0</td>\n",
       "      <td>0</td>\n",
       "      <td>0</td>\n",
       "      <td>0</td>\n",
       "      <td>0</td>\n",
       "      <td>0</td>\n",
       "      <td>0</td>\n",
       "      <td>0</td>\n",
       "      <td>0</td>\n",
       "    </tr>\n",
       "    <tr>\n",
       "      <th>3</th>\n",
       "      <td>0</td>\n",
       "      <td>0</td>\n",
       "      <td>0</td>\n",
       "      <td>0</td>\n",
       "      <td>0</td>\n",
       "      <td>0</td>\n",
       "      <td>0</td>\n",
       "      <td>0</td>\n",
       "      <td>1</td>\n",
       "      <td>0</td>\n",
       "      <td>...</td>\n",
       "      <td>0</td>\n",
       "      <td>0</td>\n",
       "      <td>0</td>\n",
       "      <td>0</td>\n",
       "      <td>0</td>\n",
       "      <td>0</td>\n",
       "      <td>0</td>\n",
       "      <td>0</td>\n",
       "      <td>0</td>\n",
       "      <td>0</td>\n",
       "    </tr>\n",
       "    <tr>\n",
       "      <th>4</th>\n",
       "      <td>0</td>\n",
       "      <td>1</td>\n",
       "      <td>0</td>\n",
       "      <td>0</td>\n",
       "      <td>0</td>\n",
       "      <td>0</td>\n",
       "      <td>0</td>\n",
       "      <td>0</td>\n",
       "      <td>0</td>\n",
       "      <td>1</td>\n",
       "      <td>...</td>\n",
       "      <td>0</td>\n",
       "      <td>0</td>\n",
       "      <td>0</td>\n",
       "      <td>0</td>\n",
       "      <td>0</td>\n",
       "      <td>0</td>\n",
       "      <td>0</td>\n",
       "      <td>0</td>\n",
       "      <td>0</td>\n",
       "      <td>0</td>\n",
       "    </tr>\n",
       "  </tbody>\n",
       "</table>\n",
       "<p>5 rows × 23 columns</p>\n",
       "</div>"
      ],
      "text/plain": [
       "   I  D  J  S  L  F  C  K  U  R  ...  T  P  Q  G  O  A  V  H  E  W\n",
       "0  0  0  0  0  0  0  0  0  0  0  ...  0  0  1  0  0  0  0  0  0  0\n",
       "1  0  1  1  0  0  0  0  0  0  0  ...  0  0  0  0  0  0  0  0  0  0\n",
       "2  0  1  1  0  0  0  0  0  0  0  ...  0  0  0  0  0  0  0  0  0  0\n",
       "3  0  0  0  0  0  0  0  0  1  0  ...  0  0  0  0  0  0  0  0  0  0\n",
       "4  0  1  0  0  0  0  0  0  0  1  ...  0  0  0  0  0  0  0  0  0  0\n",
       "\n",
       "[5 rows x 23 columns]"
      ]
     },
     "execution_count": 25,
     "metadata": {},
     "output_type": "execute_result"
    }
   ],
   "source": [
    "dummytf.fit_transform(df.product_type).head()"
   ]
  },
  {
   "cell_type": "code",
   "execution_count": null,
   "metadata": {
    "id": "pc-LBBWIv1gJ",
    "outputId": "a5663d2f-c7fd-4ab4-94b2-0cb2bb887735"
   },
   "outputs": [
    {
     "name": "stdout",
     "output_type": "stream",
     "text": [
      "train MAE: 1.30e+05\n",
      "train MSE: 3.74e+10\n",
      "train R2: 0.123\n",
      "test MAE: 1.48e+05\n",
      "test MSE: 6.79e+10\n",
      "test R2: 0.213\n"
     ]
    },
    {
     "data": {
      "text/plain": [
       "Text(0, 0.5, 'y_test_pred')"
      ]
     },
     "execution_count": 26,
     "metadata": {},
     "output_type": "execute_result"
    },
    {
     "data": {
      "image/png": "[encoded data removed]",
      "text/plain": [
       "<Figure size 432x288 with 1 Axes>"
      ]
     },
     "metadata": {
      "needs_background": "light"
     },
     "output_type": "display_data"
    }
   ],
   "source": [
    "steps = [('dummytf', Dummy_Transformer()),\n",
    "         ('lr', LinearRegression())]\n",
    "pipe = Pipeline(steps)\n",
    "\n",
    "model = pipe.fit(train_raw.product_type, y_train)\n",
    "\n",
    "y_train_pred = model.predict(train_raw.product_type)\n",
    "\n",
    "y_test_pred = model.predict(test_raw.product_type)\n",
    "\n",
    "print('train MAE: {0:.2e}'.format(mean_absolute_error(y_train, y_train_pred)))\n",
    "print('train MSE: {0:.2e}'.format(mean_squared_error(y_train, y_train_pred)))\n",
    "print('train R2: {0:.3f}'.format(r2_score(y_train, y_train_pred)))\n",
    "\n",
    "print('test MAE: {0:.2e}'.format(mean_absolute_error(y_test, y_test_pred)))\n",
    "print('test MSE: {0:.2e}'.format(mean_squared_error(y_test, y_test_pred)))\n",
    "print('test R2: {0:.3f}'.format(r2_score(y_test, y_test_pred)))\n",
    "\n",
    "plt.scatter(y_test, y_test_pred, alpha = 0.3)\n",
    "plt.xlabel('y_test')\n",
    "plt.ylabel('y_test_pred')"
   ]
  },
  {
   "cell_type": "code",
   "execution_count": null,
   "metadata": {
    "id": "OzqxUi6Ev1gK",
    "outputId": "13032209-e69e-4918-df05-4810c03f54db"
   },
   "outputs": [
    {
     "name": "stdout",
     "output_type": "stream",
     "text": [
      "train MAE: 1.25e+05\n",
      "train MSE: 3.54e+10\n",
      "train R2: 0.170\n",
      "test MAE: 1.46e+05\n",
      "test MSE: 6.42e+10\n",
      "test R2: 0.255\n"
     ]
    },
    {
     "data": {
      "text/plain": [
       "Text(0, 0.5, 'y_test_pred')"
      ]
     },
     "execution_count": 28,
     "metadata": {},
     "output_type": "execute_result"
    },
    {
     "data": {
      "image/png": "[encoded data removed]",
      "text/plain": [
       "<Figure size 432x288 with 1 Axes>"
      ]
     },
     "metadata": {
      "needs_background": "light"
     },
     "output_type": "display_data"
    }
   ],
   "source": [
    "steps = [('dummytf', Dummy_Transformer()),\n",
    "         ('rf', RandomForestRegressor())]\n",
    "pipe = Pipeline(steps)\n",
    "\n",
    "model = pipe.fit(train_raw.product_type, y_train)\n",
    "\n",
    "y_train_pred = model.predict(train_raw.product_type)\n",
    "\n",
    "y_test_pred = model.predict(test_raw.product_type)\n",
    "\n",
    "print('train MAE: {0:.2e}'.format(mean_absolute_error(y_train, y_train_pred)))\n",
    "print('train MSE: {0:.2e}'.format(mean_squared_error(y_train, y_train_pred)))\n",
    "print('train R2: {0:.3f}'.format(r2_score(y_train, y_train_pred)))\n",
    "\n",
    "print('test MAE: {0:.2e}'.format(mean_absolute_error(y_test, y_test_pred)))\n",
    "print('test MSE: {0:.2e}'.format(mean_squared_error(y_test, y_test_pred)))\n",
    "print('test R2: {0:.3f}'.format(r2_score(y_test, y_test_pred)))\n",
    "\n",
    "plt.scatter(y_test, y_test_pred, alpha = 0.3)\n",
    "plt.xlabel('y_test')\n",
    "plt.ylabel('y_test_pred')"
   ]
  },
  {
   "cell_type": "markdown",
   "metadata": {
    "id": "NnuO1DXDv1gL"
   },
   "source": [
    "# 2. Frequence Transformer"
   ]
  },
  {
   "cell_type": "markdown",
   "metadata": {
    "id": "Lr73JPS9v1gL"
   },
   "source": [
    "<font color='red'>Assignment:</font> Repeat above steps using **Frequence Transformer**."
   ]
  },
  {
   "cell_type": "code",
   "execution_count": null,
   "metadata": {
    "id": "na5M7GUvv1gL"
   },
   "outputs": [],
   "source": [
    "level_dict_f = {}\n",
    "keys = list(df.product_type.unique())\n",
    "values = []\n",
    "for i in range(len(keys)):\n",
    "    values.append(df[df['product_type'] == keys[i]]['product_type'].count())"
   ]
  },
  {
   "cell_type": "code",
   "execution_count": null,
   "metadata": {
    "id": "kMX2GCE2v1gL",
    "outputId": "e67f7fdf-e7a6-4841-ac0c-99275a7dd378"
   },
   "outputs": [
    {
     "data": {
      "text/plain": [
       "{'Q,B': 26,\n",
       " 'J,D': 96,\n",
       " 'U': 179,\n",
       " 'D,R': 166,\n",
       " 'H': 225,\n",
       " 'S': 19,\n",
       " 'B,A': 66,\n",
       " 'K,D': 27,\n",
       " 'N': 203,\n",
       " 'U,A': 55,\n",
       " 'D': 485,\n",
       " 'H,A': 39,\n",
       " 'G': 22,\n",
       " 'D,A': 81,\n",
       " 'T,H': 54,\n",
       " 'D,H': 94,\n",
       " 'F': 17,\n",
       " 'A': 135,\n",
       " 'Q,A': 10,\n",
       " 'W': 15,\n",
       " 'F,D': 42,\n",
       " 'R': 62,\n",
       " 'P,H': 44,\n",
       " 'C': 201,\n",
       " 'Q,H': 39,\n",
       " 'U,H': 59,\n",
       " 'J': 33,\n",
       " 'N,D': 30,\n",
       " 'F,H': 46,\n",
       " 'Q,D': 7,\n",
       " 'V,H': 14,\n",
       " 'W,D': 4,\n",
       " 'S,N': 30,\n",
       " 'N,U': 28,\n",
       " 'F,U': 21,\n",
       " 'P,P': 23,\n",
       " 'S,A': 48,\n",
       " 'U,R': 14,\n",
       " 'J,B': 67,\n",
       " 'I,M': 6,\n",
       " 'B,D': 8,\n",
       " 'H,M': 11,\n",
       " 'S,U': 29,\n",
       " 'K,H': 17,\n",
       " 'S,B': 25,\n",
       " 'T,D': 36,\n",
       " 'F,A': 20,\n",
       " 'K': 50,\n",
       " 'V': 22,\n",
       " 'N,A': 29,\n",
       " 'B': 24,\n",
       " 'R,V': 2,\n",
       " 'E': 11,\n",
       " 'U,D': 8,\n",
       " 'L,A': 8,\n",
       " 'L': 5,\n",
       " 'K,A': 6,\n",
       " 'S,D': 16,\n",
       " 'Q,N': 8,\n",
       " 'T,A': 3,\n",
       " 'O': 2,\n",
       " 'B,R': 1,\n",
       " 'N,L': 3,\n",
       " 'K,S': 10}"
      ]
     },
     "execution_count": 30,
     "metadata": {},
     "output_type": "execute_result"
    }
   ],
   "source": [
    "level_dict_f = dict(zip(keys, values))\n",
    "level_dict_f"
   ]
  },
  {
   "cell_type": "code",
   "execution_count": null,
   "metadata": {
    "id": "enFCNiiZv1gM"
   },
   "outputs": [],
   "source": [
    "class Freq_Transformer(object):\n",
    "        \n",
    "    def transform(self, X, y=None):\n",
    "        df = pd.DataFrame()\n",
    "        df['product_type'] = X.product_type.map(self.type2freq)\n",
    "        return df\n",
    "    \n",
    "    def fit_transform(self, X, y=None):\n",
    "        return self.transform(X)\n",
    "\n",
    "    def type2freq(self, x):\n",
    "        return level_dict_f[x]  "
   ]
  },
  {
   "cell_type": "code",
   "execution_count": null,
   "metadata": {
    "id": "Lp35ZWLXv1gM",
    "outputId": "5edb8ab4-4f14-4ba2-ff66-6d75583e1f2e"
   },
   "outputs": [
    {
     "data": {
      "text/html": [
       "<div>\n",
       "<style scoped>\n",
       "    .dataframe tbody tr th:only-of-type {\n",
       "        vertical-align: middle;\n",
       "    }\n",
       "\n",
       "    .dataframe tbody tr th {\n",
       "        vertical-align: top;\n",
       "    }\n",
       "\n",
       "    .dataframe thead th {\n",
       "        text-align: right;\n",
       "    }\n",
       "</style>\n",
       "<table border=\"1\" class=\"dataframe\">\n",
       "  <thead>\n",
       "    <tr style=\"text-align: right;\">\n",
       "      <th></th>\n",
       "      <th>product_type</th>\n",
       "    </tr>\n",
       "  </thead>\n",
       "  <tbody>\n",
       "    <tr>\n",
       "      <th>0</th>\n",
       "      <td>26</td>\n",
       "    </tr>\n",
       "    <tr>\n",
       "      <th>1</th>\n",
       "      <td>96</td>\n",
       "    </tr>\n",
       "    <tr>\n",
       "      <th>2</th>\n",
       "      <td>96</td>\n",
       "    </tr>\n",
       "    <tr>\n",
       "      <th>3</th>\n",
       "      <td>166</td>\n",
       "    </tr>\n",
       "    <tr>\n",
       "      <th>4</th>\n",
       "      <td>225</td>\n",
       "    </tr>\n",
       "  </tbody>\n",
       "</table>\n",
       "</div>"
      ],
      "text/plain": [
       "   product_type\n",
       "0            26\n",
       "1            96\n",
       "2            96\n",
       "3           166\n",
       "4           225"
      ]
     },
     "execution_count": 35,
     "metadata": {},
     "output_type": "execute_result"
    }
   ],
   "source": [
    "# Quick test of Freq_Transformer\n",
    "ftf = Freq_Transformer()\n",
    "ftf.fit_transform(train_raw).head()"
   ]
  },
  {
   "cell_type": "code",
   "execution_count": null,
   "metadata": {
    "id": "_u-gcKhKv1gM",
    "outputId": "d24ff619-b5f9-4d35-c686-440cf07efd40"
   },
   "outputs": [
    {
     "name": "stdout",
     "output_type": "stream",
     "text": [
      "train MAE: 1.36e+05\n",
      "train MSE: 4.23e+10\n",
      "train R2: 0.006\n",
      "test MAE: 1.68e+05\n",
      "test MSE: 8.63e+10\n",
      "test R2: -0.001\n"
     ]
    },
    {
     "data": {
      "text/plain": [
       "Text(0, 0.5, 'y_test_pred')"
      ]
     },
     "execution_count": 37,
     "metadata": {},
     "output_type": "execute_result"
    },
    {
     "data": {
      "image/png": "[encoded data removed]",
      "text/plain": [
       "<Figure size 432x288 with 1 Axes>"
      ]
     },
     "metadata": {
      "needs_background": "light"
     },
     "output_type": "display_data"
    }
   ],
   "source": [
    "steps = [('ftf', Freq_Transformer()),\n",
    "         ('lr', LinearRegression())]\n",
    "pipe = Pipeline(steps)\n",
    "\n",
    "model = pipe.fit(train_raw, y_train)\n",
    "\n",
    "y_train_pred = model.predict(train_raw)\n",
    "\n",
    "y_test_pred = model.predict(test_raw)\n",
    "\n",
    "print('train MAE: {0:.2e}'.format(mean_absolute_error(y_train, y_train_pred)))\n",
    "print('train MSE: {0:.2e}'.format(mean_squared_error(y_train, y_train_pred)))\n",
    "print('train R2: {0:.3f}'.format(r2_score(y_train, y_train_pred)))\n",
    "\n",
    "print('test MAE: {0:.2e}'.format(mean_absolute_error(y_test, y_test_pred)))\n",
    "print('test MSE: {0:.2e}'.format(mean_squared_error(y_test, y_test_pred)))\n",
    "print('test R2: {0:.3f}'.format(r2_score(y_test, y_test_pred)))\n",
    "\n",
    "plt.scatter(y_test, y_test_pred, alpha = 0.3)\n",
    "plt.xlabel('y_test')\n",
    "plt.ylabel('y_test_pred')"
   ]
  },
  {
   "cell_type": "code",
   "execution_count": null,
   "metadata": {
    "id": "Ce_sFYh3v1gN",
    "outputId": "9dcc24e0-bc00-4a14-d8b2-98c3018388fc"
   },
   "outputs": [
    {
     "name": "stdout",
     "output_type": "stream",
     "text": [
      "train MAE: 1.26e+05\n",
      "train MSE: 3.57e+10\n",
      "train R2: 0.161\n",
      "test MAE: 1.47e+05\n",
      "test MSE: 6.57e+10\n",
      "test R2: 0.237\n"
     ]
    },
    {
     "data": {
      "text/plain": [
       "Text(0, 0.5, 'y_test_pred')"
      ]
     },
     "execution_count": 38,
     "metadata": {},
     "output_type": "execute_result"
    },
    {
     "data": {
      "image/png": "[encoded data removed]",
      "text/plain": [
       "<Figure size 432x288 with 1 Axes>"
      ]
     },
     "metadata": {
      "needs_background": "light"
     },
     "output_type": "display_data"
    }
   ],
   "source": [
    "steps = [('ftf', Freq_Transformer()),\n",
    "         ('rf', RandomForestRegressor())]\n",
    "pipe = Pipeline(steps)\n",
    "\n",
    "model = pipe.fit(train_raw, y_train)\n",
    "\n",
    "y_train_pred = model.predict(train_raw)\n",
    "\n",
    "y_test_pred = model.predict(test_raw)\n",
    "\n",
    "print('train MAE: {0:.2e}'.format(mean_absolute_error(y_train, y_train_pred)))\n",
    "print('train MSE: {0:.2e}'.format(mean_squared_error(y_train, y_train_pred)))\n",
    "print('train R2: {0:.3f}'.format(r2_score(y_train, y_train_pred)))\n",
    "\n",
    "print('test MAE: {0:.2e}'.format(mean_absolute_error(y_test, y_test_pred)))\n",
    "print('test MSE: {0:.2e}'.format(mean_squared_error(y_test, y_test_pred)))\n",
    "print('test R2: {0:.3f}'.format(r2_score(y_test, y_test_pred)))\n",
    "\n",
    "plt.scatter(y_test, y_test_pred, alpha = 0.3)\n",
    "plt.xlabel('y_test')\n",
    "plt.ylabel('y_test_pred')"
   ]
  },
  {
   "cell_type": "markdown",
   "metadata": {
    "id": "OOb4hbymv1gN"
   },
   "source": [
    "# 3. Label Encoder"
   ]
  },
  {
   "cell_type": "code",
   "execution_count": null,
   "metadata": {
    "id": "mThnaXIJv1gN"
   },
   "outputs": [],
   "source": [
    "from sklearn.preprocessing import LabelEncoder"
   ]
  },
  {
   "cell_type": "markdown",
   "metadata": {
    "id": "BWDNvQsSv1gN"
   },
   "source": [
    "<font color='red'>Question:</font> What does **LabelEncoder** do?"
   ]
  },
  {
   "cell_type": "markdown",
   "metadata": {
    "id": "4WcO2RCYv1gN"
   },
   "source": [
    "LabelEncoder is one way to convert categorical (or numerical values) into numerical values, specifically, to values between 0 and n_classes-1. (vs One Hot is just Dummy transformer).\n",
    "\n",
    "It is not a very common encoding method for features."
   ]
  },
  {
   "cell_type": "markdown",
   "metadata": {
    "id": "rOja_Z9dv1gO"
   },
   "source": [
    "**Example:** The **LabelEncoder** module in **sklearn** can't be used in a **Pipeline** dicrectly, because it only takes one variable (X) as input. We can build a new module which is a **child class** of the **sklearn** module for **Pipeline**. You don't have to understand it now."
   ]
  },
  {
   "cell_type": "code",
   "execution_count": null,
   "metadata": {
    "id": "KD858_PCv1gO"
   },
   "outputs": [],
   "source": [
    "class newLabelEncoder(LabelEncoder):\n",
    "    \n",
    "    def fit(self, X, y=None):\n",
    "        return super().fit(X)\n",
    "    \n",
    "    def transform(self, X, y=None):\n",
    "        return pd.DataFrame({'label': super().transform(X)})\n",
    "    \n",
    "    def fit_transform(self, X, y=None):\n",
    "        return pd.DataFrame({'label': super().fit_transform(X)})"
   ]
  },
  {
   "cell_type": "markdown",
   "metadata": {
    "id": "Dd75p3HMv1gO"
   },
   "source": [
    "<font color='red'>Assignment:</font> Wrap up **newLabelEncoder** with **LinearRegression** and **RandomForestRegressor** respectively to predict **price** using **product_type**. Compare the performance of these two models."
   ]
  },
  {
   "cell_type": "code",
   "execution_count": null,
   "metadata": {
    "id": "4QdpVaBjv1gO"
   },
   "outputs": [],
   "source": [
    "le = LabelEncoder()"
   ]
  },
  {
   "cell_type": "code",
   "execution_count": null,
   "metadata": {
    "id": "XEM7f9Jmv1gP",
    "outputId": "1cc38868-a182-4473-edfe-b2c6e7a5d8c1"
   },
   "outputs": [
    {
     "data": {
      "text/plain": [
       "array([40, 23, 23, ..., 22, 44, 31])"
      ]
     },
     "execution_count": 42,
     "metadata": {},
     "output_type": "execute_result"
    }
   ],
   "source": [
    "le.fit_transform(train_raw.product_type)"
   ]
  },
  {
   "cell_type": "code",
   "execution_count": null,
   "metadata": {
    "id": "GCqC4TSnv1gP",
    "outputId": "f2148e9a-acf3-46f6-f831-c62f83e9bd2e"
   },
   "outputs": [
    {
     "name": "stdout",
     "output_type": "stream",
     "text": [
      "train MAE: 1.36e+05\n",
      "train MSE: 4.25e+10\n",
      "train R2: 0.002\n",
      "test MAE: 1.69e+05\n",
      "test MSE: 8.65e+10\n",
      "test R2: -0.003\n"
     ]
    },
    {
     "data": {
      "text/plain": [
       "Text(0, 0.5, 'y_test_pred')"
      ]
     },
     "execution_count": 47,
     "metadata": {},
     "output_type": "execute_result"
    },
    {
     "data": {
      "image/png": "[encoded data removed]",
      "text/plain": [
       "<Figure size 432x288 with 1 Axes>"
      ]
     },
     "metadata": {
      "needs_background": "light"
     },
     "output_type": "display_data"
    }
   ],
   "source": [
    "steps = [('nle', newLabelEncoder()),\n",
    "         ('lr', LinearRegression())]\n",
    "pipe = Pipeline(steps)\n",
    "\n",
    "model = pipe.fit(train_raw.product_type, y_train)\n",
    "\n",
    "y_train_pred = model.predict(train_raw.product_type)\n",
    "\n",
    "y_test_pred = model.predict(test_raw.product_type)\n",
    "\n",
    "print('train MAE: {0:.2e}'.format(mean_absolute_error(y_train, y_train_pred)))\n",
    "print('train MSE: {0:.2e}'.format(mean_squared_error(y_train, y_train_pred)))\n",
    "print('train R2: {0:.3f}'.format(r2_score(y_train, y_train_pred)))\n",
    "\n",
    "print('test MAE: {0:.2e}'.format(mean_absolute_error(y_test, y_test_pred)))\n",
    "print('test MSE: {0:.2e}'.format(mean_squared_error(y_test, y_test_pred)))\n",
    "print('test R2: {0:.3f}'.format(r2_score(y_test, y_test_pred)))\n",
    "\n",
    "plt.scatter(y_test, y_test_pred, alpha = 0.3)\n",
    "plt.xlabel('y_test')\n",
    "plt.ylabel('y_test_pred')"
   ]
  },
  {
   "cell_type": "code",
   "execution_count": null,
   "metadata": {
    "id": "n2HBIMZbv1gP",
    "outputId": "91839eb7-9192-43b1-af34-bf9884f3f21f"
   },
   "outputs": [
    {
     "name": "stdout",
     "output_type": "stream",
     "text": [
      "train MAE: 1.25e+05\n",
      "train MSE: 3.54e+10\n",
      "train R2: 0.170\n",
      "test MAE: 1.46e+05\n",
      "test MSE: 6.43e+10\n",
      "test R2: 0.254\n"
     ]
    },
    {
     "data": {
      "text/plain": [
       "Text(0, 0.5, 'y_test_pred')"
      ]
     },
     "execution_count": 48,
     "metadata": {},
     "output_type": "execute_result"
    },
    {
     "data": {
      "image/png": "[encoded data removed]",
      "text/plain": [
       "<Figure size 432x288 with 1 Axes>"
      ]
     },
     "metadata": {
      "needs_background": "light"
     },
     "output_type": "display_data"
    }
   ],
   "source": [
    "steps = [('nle', newLabelEncoder()),\n",
    "         ('rf', RandomForestRegressor())]\n",
    "pipe = Pipeline(steps)\n",
    "\n",
    "model = pipe.fit(train_raw.product_type, y_train)\n",
    "\n",
    "y_train_pred = model.predict(train_raw.product_type)\n",
    "\n",
    "y_test_pred = model.predict(test_raw.product_type)\n",
    "\n",
    "print('train MAE: {0:.2e}'.format(mean_absolute_error(y_train, y_train_pred)))\n",
    "print('train MSE: {0:.2e}'.format(mean_squared_error(y_train, y_train_pred)))\n",
    "print('train R2: {0:.3f}'.format(r2_score(y_train, y_train_pred)))\n",
    "\n",
    "print('test MAE: {0:.2e}'.format(mean_absolute_error(y_test, y_test_pred)))\n",
    "print('test MSE: {0:.2e}'.format(mean_squared_error(y_test, y_test_pred)))\n",
    "print('test R2: {0:.3f}'.format(r2_score(y_test, y_test_pred)))\n",
    "\n",
    "plt.scatter(y_test, y_test_pred, alpha = 0.3)\n",
    "plt.xlabel('y_test')\n",
    "plt.ylabel('y_test_pred')"
   ]
  },
  {
   "cell_type": "markdown",
   "metadata": {
    "id": "YDx8nvrDv1gP"
   },
   "source": [
    "<font color='red'>Question:</font> Do you think it is a good idea to use Lable Encoder in linear regression? Why does it work for tree-based models?"
   ]
  },
  {
   "cell_type": "markdown",
   "metadata": {
    "id": "vN5DKleWv1gQ"
   },
   "source": [
    "### It is not a good idea to use Label Encoder for linear regression. It implies ordinal relation among the feature entries which is not always true. It works for tree-based models because of the random combinations of feature entires waters down the ordinal effect. \n",
    "### In general, One Hot is better. However, if the number of levels in the categorical feature is big,  we might have memory issue storing the matrix. Label Encoder uses much less disk space. \n",
    "## One Hot Combined with PCA to reduce dimension of features is a good idea.\n",
    "also can check on feature importance ranking from the emsemble trees, and remove non-important features"
   ]
  }
 ],
 "metadata": {
  "colab": {
   "name": "15_categorical_values_II_X.ipynb",
   "provenance": []
  },
  "kernelspec": {
   "display_name": "Python 3 (ipykernel)",
   "language": "python",
   "name": "python3"
  },
  "language_info": {
   "codemirror_mode": {
    "name": "ipython",
    "version": 3
   },
   "file_extension": ".py",
   "mimetype": "text/x-python",
   "name": "python",
   "nbconvert_exporter": "python",
   "pygments_lexer": "ipython3",
   "version": "3.9.12"
  },
  "toc": {
   "base_numbering": 1,
   "nav_menu": {},
   "number_sections": true,
   "sideBar": true,
   "skip_h1_title": false,
   "title_cell": "Table of Contents",
   "title_sidebar": "Contents",
   "toc_cell": false,
   "toc_position": {},
   "toc_section_display": true,
   "toc_window_display": false
  }
 },
 "nbformat": 4,
 "nbformat_minor": 1
}

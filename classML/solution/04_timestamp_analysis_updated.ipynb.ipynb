{
 "cells": [
  {
   "cell_type": "code",
   "execution_count": 7,
   "metadata": {
    "id": "r3BK7Og4of-O"
   },
   "outputs": [],
   "source": [
    "import pandas as pd\n",
    "%matplotlib inline"
   ]
  },
  {
   "cell_type": "code",
   "execution_count": 8,
   "metadata": {
    "id": "YSXtfN-nof-3"
   },
   "outputs": [],
   "source": [
    "pd.set_option('display.max_columns', None)\n",
    "# pd.set_option('display.max_rows', None)\n",
    "\n",
    "import warnings\n",
    "warnings.filterwarnings('ignore')"
   ]
  },
  {
   "cell_type": "code",
   "execution_count": 9,
   "metadata": {
    "id": "ydJCvGg9of-6"
   },
   "outputs": [],
   "source": [
    "# df = pd.read_csv('../data/sales.csv')\n",
    "df = pd.read_csv('sales.csv')"
   ]
  },
  {
   "cell_type": "code",
   "execution_count": 10,
   "metadata": {
    "id": "sJRr9oZwof-9",
    "outputId": "d8920ad7-bf57-4e36-e755-c8a0fa380c51"
   },
   "outputs": [
    {
     "data": {
      "text/html": [
       "<div>\n",
       "<style scoped>\n",
       "    .dataframe tbody tr th:only-of-type {\n",
       "        vertical-align: middle;\n",
       "    }\n",
       "\n",
       "    .dataframe tbody tr th {\n",
       "        vertical-align: top;\n",
       "    }\n",
       "\n",
       "    .dataframe thead th {\n",
       "        text-align: right;\n",
       "    }\n",
       "</style>\n",
       "<table border=\"1\" class=\"dataframe\">\n",
       "  <thead>\n",
       "    <tr style=\"text-align: right;\">\n",
       "      <th></th>\n",
       "      <th>cost</th>\n",
       "      <th>price</th>\n",
       "      <th>weight</th>\n",
       "      <th>purchase_date</th>\n",
       "      <th>product_type</th>\n",
       "      <th>product_level</th>\n",
       "      <th>maker</th>\n",
       "      <th>ingredient</th>\n",
       "      <th>height</th>\n",
       "      <th>width</th>\n",
       "      <th>depth</th>\n",
       "    </tr>\n",
       "  </thead>\n",
       "  <tbody>\n",
       "    <tr>\n",
       "      <th>0</th>\n",
       "      <td>$333k</td>\n",
       "      <td>$300,492</td>\n",
       "      <td>3 Ton 90 Kg</td>\n",
       "      <td>Dec 19 2008</td>\n",
       "      <td>Q,B</td>\n",
       "      <td>advanced</td>\n",
       "      <td>M14122</td>\n",
       "      <td>IN732052,IN732053</td>\n",
       "      <td>2.76 meters</td>\n",
       "      <td>97 cm</td>\n",
       "      <td>26 cm</td>\n",
       "    </tr>\n",
       "    <tr>\n",
       "      <th>1</th>\n",
       "      <td>NaN</td>\n",
       "      <td>$430,570</td>\n",
       "      <td>3 Ton 30 Kg</td>\n",
       "      <td>Sep 10 1997</td>\n",
       "      <td>J,D</td>\n",
       "      <td>basic</td>\n",
       "      <td>NaN</td>\n",
       "      <td>IN732054,IN732055,IN732056,IN732057,IN732058</td>\n",
       "      <td>2.67 meters</td>\n",
       "      <td>98 cm</td>\n",
       "      <td>26 cm</td>\n",
       "    </tr>\n",
       "    <tr>\n",
       "      <th>2</th>\n",
       "      <td>$270k</td>\n",
       "      <td>$213,070</td>\n",
       "      <td>3 Ton 40 Kg</td>\n",
       "      <td>Sep 05 2001</td>\n",
       "      <td>J,D</td>\n",
       "      <td>basic</td>\n",
       "      <td>NaN</td>\n",
       "      <td>IN732054,IN732059,IN732060</td>\n",
       "      <td>3.0 meters</td>\n",
       "      <td>93 cm</td>\n",
       "      <td>24 cm</td>\n",
       "    </tr>\n",
       "    <tr>\n",
       "      <th>3</th>\n",
       "      <td>NaN</td>\n",
       "      <td>$229,174</td>\n",
       "      <td>3 Ton 50 Kg</td>\n",
       "      <td>Dec 23 2016</td>\n",
       "      <td>U</td>\n",
       "      <td>advanced</td>\n",
       "      <td>M14123</td>\n",
       "      <td>IN732061,IN732062,IN732063</td>\n",
       "      <td>2.5 meters</td>\n",
       "      <td>102 cm</td>\n",
       "      <td>27 cm</td>\n",
       "    </tr>\n",
       "    <tr>\n",
       "      <th>4</th>\n",
       "      <td>$97k</td>\n",
       "      <td>$122,659</td>\n",
       "      <td>2 Ton 970 Kg</td>\n",
       "      <td>Jan 12 2000</td>\n",
       "      <td>D,R</td>\n",
       "      <td>advanced</td>\n",
       "      <td>NaN</td>\n",
       "      <td>IN732064,IN732065,IN732066</td>\n",
       "      <td>2.47 meters</td>\n",
       "      <td>101 cm</td>\n",
       "      <td>26 cm</td>\n",
       "    </tr>\n",
       "  </tbody>\n",
       "</table>\n",
       "</div>"
      ],
      "text/plain": [
       "    cost     price        weight purchase_date product_type product_level  \\\n",
       "0  $333k  $300,492   3 Ton 90 Kg   Dec 19 2008          Q,B      advanced   \n",
       "1    NaN  $430,570   3 Ton 30 Kg   Sep 10 1997          J,D         basic   \n",
       "2  $270k  $213,070   3 Ton 40 Kg   Sep 05 2001          J,D         basic   \n",
       "3    NaN  $229,174   3 Ton 50 Kg   Dec 23 2016            U      advanced   \n",
       "4   $97k  $122,659  2 Ton 970 Kg   Jan 12 2000          D,R      advanced   \n",
       "\n",
       "    maker                                    ingredient       height   width  \\\n",
       "0  M14122                             IN732052,IN732053  2.76 meters   97 cm   \n",
       "1     NaN  IN732054,IN732055,IN732056,IN732057,IN732058  2.67 meters   98 cm   \n",
       "2     NaN                    IN732054,IN732059,IN732060   3.0 meters   93 cm   \n",
       "3  M14123                    IN732061,IN732062,IN732063   2.5 meters  102 cm   \n",
       "4     NaN                    IN732064,IN732065,IN732066  2.47 meters  101 cm   \n",
       "\n",
       "   depth  \n",
       "0  26 cm  \n",
       "1  26 cm  \n",
       "2  24 cm  \n",
       "3  27 cm  \n",
       "4  26 cm  "
      ]
     },
     "execution_count": 10,
     "metadata": {},
     "output_type": "execute_result"
    }
   ],
   "source": [
    "df.head()"
   ]
  },
  {
   "cell_type": "markdown",
   "metadata": {
    "id": "Ul6A8mf-of_F"
   },
   "source": [
    "# 1. Obtaining Datetime objects"
   ]
  },
  {
   "cell_type": "code",
   "execution_count": null,
   "metadata": {
    "id": "vDUCa3ShM09K"
   },
   "outputs": [],
   "source": []
  },
  {
   "cell_type": "markdown",
   "metadata": {
    "id": "S4UKD2GDof_N"
   },
   "source": [
    "<font color='red'>Question:</font> What is the type of **purchase_date**?"
   ]
  },
  {
   "cell_type": "code",
   "execution_count": 11,
   "metadata": {
    "id": "nd59RmP2of_Q",
    "outputId": "d6aee725-a867-43f2-8046-78dbc4ef41cd"
   },
   "outputs": [
    {
     "data": {
      "text/plain": [
       "str"
      ]
     },
     "execution_count": 11,
     "metadata": {},
     "output_type": "execute_result"
    }
   ],
   "source": [
    "type(df.purchase_date[0])"
   ]
  },
  {
   "cell_type": "code",
   "execution_count": 12,
   "metadata": {
    "id": "SILAfGEuof_W",
    "outputId": "e5fa2a24-03e6-418b-f8c6-2877d1bac710"
   },
   "outputs": [
    {
     "data": {
      "text/plain": [
       "pandas.core.series.Series"
      ]
     },
     "execution_count": 12,
     "metadata": {},
     "output_type": "execute_result"
    }
   ],
   "source": [
    "# need to index !!!\n",
    "type(df.purchase_date)"
   ]
  },
  {
   "cell_type": "code",
   "execution_count": 13,
   "metadata": {
    "id": "5ncX4yZ0of_b",
    "outputId": "67806741-69ea-4f36-c07f-0a068463c5af"
   },
   "outputs": [
    {
     "data": {
      "text/plain": [
       "dtype('O')"
      ]
     },
     "execution_count": 13,
     "metadata": {},
     "output_type": "execute_result"
    }
   ],
   "source": [
    "# dtype is not specific enough\n",
    "df['purchase_date'].dtype"
   ]
  },
  {
   "cell_type": "markdown",
   "metadata": {
    "id": "1DdM5LnAof_f"
   },
   "source": [
    "<font color='red'>Assignment:</font> Use **pandas.to_datetime** to **transform df.purchase_date** in to a series of datetime object and assign it to a variable **purchase_date**."
   ]
  },
  {
   "cell_type": "code",
   "execution_count": 14,
   "metadata": {
    "id": "2LulSiGdof_i",
    "outputId": "2fe0a881-8354-4c32-9289-8031df9428c8"
   },
   "outputs": [
    {
     "data": {
      "text/plain": [
       "0      2008-12-19\n",
       "1      1997-09-10\n",
       "2      2001-09-05\n",
       "3      2016-12-23\n",
       "4      2000-01-12\n",
       "          ...    \n",
       "3192   2016-11-25\n",
       "3193   2007-05-25\n",
       "3194   2016-12-16\n",
       "3195   2002-04-12\n",
       "3196   2003-06-13\n",
       "Name: purchase_date, Length: 3197, dtype: datetime64[ns]"
      ]
     },
     "execution_count": 14,
     "metadata": {},
     "output_type": "execute_result"
    }
   ],
   "source": [
    "purchase_date = pd.to_datetime(df.purchase_date)\n",
    "purchase_date"
   ]
  },
  {
   "cell_type": "markdown",
   "metadata": {
    "id": "qAOZSZ9lof_l"
   },
   "source": [
    "<font color='red'>Assignment:</font> What is the earliest date in the datetime series."
   ]
  },
  {
   "cell_type": "code",
   "execution_count": 15,
   "metadata": {
    "id": "xhci3LKXof_n",
    "outputId": "dacaf320-c98d-4d94-e179-b4b8d9bb593d"
   },
   "outputs": [
    {
     "data": {
      "text/plain": [
       "Timestamp('1996-08-09 00:00:00')"
      ]
     },
     "execution_count": 15,
     "metadata": {},
     "output_type": "execute_result"
    }
   ],
   "source": [
    "sorted(purchase_date)[0]"
   ]
  },
  {
   "cell_type": "code",
   "execution_count": 16,
   "metadata": {
    "id": "wDMtRvHFof_r",
    "outputId": "94551a1a-f4b8-4bb9-a0de-ea202e679256"
   },
   "outputs": [
    {
     "data": {
      "text/plain": [
       "1361   1996-08-09\n",
       "Name: purchase_date, dtype: datetime64[ns]"
      ]
     },
     "execution_count": 16,
     "metadata": {},
     "output_type": "execute_result"
    }
   ],
   "source": [
    "purchase_date.nsmallest(1)"
   ]
  },
  {
   "cell_type": "code",
   "execution_count": 17,
   "metadata": {
    "id": "8ZBbGDehof_t",
    "outputId": "b7f042e5-a8af-40f0-b9f7-ff934395c790"
   },
   "outputs": [
    {
     "data": {
      "text/plain": [
       "Timestamp('1996-08-09 00:00:00')"
      ]
     },
     "execution_count": 17,
     "metadata": {},
     "output_type": "execute_result"
    }
   ],
   "source": [
    "purchase_date.min()"
   ]
  },
  {
   "cell_type": "markdown",
   "metadata": {
    "id": "hBbVrpgVof_v"
   },
   "source": [
    "<font color='red'>Assignment:</font> What is the latest date in the datetime series."
   ]
  },
  {
   "cell_type": "code",
   "execution_count": 18,
   "metadata": {
    "id": "BHF_jCzEof_y",
    "outputId": "8d1550dd-468f-4f46-aa74-26a999de19ad"
   },
   "outputs": [
    {
     "data": {
      "text/plain": [
       "Timestamp('2017-10-06 00:00:00')"
      ]
     },
     "execution_count": 18,
     "metadata": {},
     "output_type": "execute_result"
    }
   ],
   "source": [
    "sorted(purchase_date, reverse = True)[0]"
   ]
  },
  {
   "cell_type": "code",
   "execution_count": 19,
   "metadata": {
    "id": "TUrApkvCof_3",
    "outputId": "cb928d86-4502-4f88-d9cf-d57b336c56d5"
   },
   "outputs": [
    {
     "data": {
      "text/plain": [
       "3134   2017-10-06\n",
       "Name: purchase_date, dtype: datetime64[ns]"
      ]
     },
     "execution_count": 19,
     "metadata": {},
     "output_type": "execute_result"
    }
   ],
   "source": [
    "purchase_date.nlargest(1)"
   ]
  },
  {
   "cell_type": "code",
   "execution_count": 20,
   "metadata": {
    "id": "w4wS09oCof_6",
    "outputId": "9028b831-4835-4621-cdf0-b4e9940ffbaf"
   },
   "outputs": [
    {
     "data": {
      "text/plain": [
       "Timestamp('2017-10-06 00:00:00')"
      ]
     },
     "execution_count": 20,
     "metadata": {},
     "output_type": "execute_result"
    }
   ],
   "source": [
    "purchase_date.max()"
   ]
  },
  {
   "cell_type": "markdown",
   "metadata": {
    "id": "8OLYRQ4iof_9"
   },
   "source": [
    "# 2. Time series"
   ]
  },
  {
   "cell_type": "markdown",
   "metadata": {
    "id": "0iHYNZugof__"
   },
   "source": [
    "**Example:** Generate time series of **price**."
   ]
  },
  {
   "cell_type": "code",
   "execution_count": 21,
   "metadata": {
    "id": "YuOOix0LogAA"
   },
   "outputs": [],
   "source": [
    "price = df.price.map(lambda x: x if type(x) == float else float(x.strip('$').replace(',', '')))"
   ]
  },
  {
   "cell_type": "markdown",
   "metadata": {
    "id": "sfUM2AEvogAC"
   },
   "source": [
    "https://towardsdatascience.com/introduction-to-pandas-apply-applymap-and-map-5d3e044e93ff"
   ]
  },
  {
   "cell_type": "code",
   "execution_count": 22,
   "metadata": {
    "id": "FnKJtiP6ogAE",
    "outputId": "723b4f8c-9b11-42ed-8ce5-25b972745ab1"
   },
   "outputs": [
    {
     "data": {
      "text/plain": [
       "0    300492.0\n",
       "1    430570.0\n",
       "2    213070.0\n",
       "3    229174.0\n",
       "4    122659.0\n",
       "Name: price, dtype: float64"
      ]
     },
     "execution_count": 22,
     "metadata": {},
     "output_type": "execute_result"
    }
   ],
   "source": [
    "price.head()"
   ]
  },
  {
   "cell_type": "code",
   "execution_count": 23,
   "metadata": {
    "id": "l3paz2O0ogAG"
   },
   "outputs": [],
   "source": [
    "price.index = purchase_date"
   ]
  },
  {
   "cell_type": "code",
   "execution_count": 24,
   "metadata": {
    "id": "jEogYK3jogAI",
    "outputId": "4fffe551-df7e-43bb-cef6-2dc69f05a772"
   },
   "outputs": [
    {
     "data": {
      "text/plain": [
       "purchase_date\n",
       "2008-12-19    300492.0\n",
       "1997-09-10    430570.0\n",
       "2001-09-05    213070.0\n",
       "2016-12-23    229174.0\n",
       "2000-01-12    122659.0\n",
       "Name: price, dtype: float64"
      ]
     },
     "execution_count": 24,
     "metadata": {},
     "output_type": "execute_result"
    }
   ],
   "source": [
    "price.head()"
   ]
  },
  {
   "cell_type": "markdown",
   "metadata": {
    "id": "M85FJaS0ogAK"
   },
   "source": [
    "**Example**: Visualize the time series."
   ]
  },
  {
   "cell_type": "code",
   "execution_count": 25,
   "metadata": {
    "id": "sV5ZEUJVogAL",
    "outputId": "8d5eac3a-eda3-4669-f5bc-7dc7fbcc9cba"
   },
   "outputs": [
    {
     "data": {
      "text/plain": [
       "<AxesSubplot:xlabel='purchase_date'>"
      ]
     },
     "execution_count": 25,
     "metadata": {},
     "output_type": "execute_result"
    },
    {
     "data": {
      "image/png": "[encoded data removed]",
      "text/plain": [
       "<Figure size 432x288 with 1 Axes>"
      ]
     },
     "metadata": {
      "needs_background": "light"
     },
     "output_type": "display_data"
    }
   ],
   "source": [
    "price.dropna().plot()"
   ]
  },
  {
   "cell_type": "markdown",
   "metadata": {
    "id": "iL08eH_WogAM"
   },
   "source": [
    "<font color='red'>Question:</font> Why do we need **dropna()** here?"
   ]
  },
  {
   "cell_type": "code",
   "execution_count": 26,
   "metadata": {
    "id": "lG2DMOOAogAN",
    "outputId": "d92af446-e181-4b9c-c375-f6e55efdd216"
   },
   "outputs": [
    {
     "data": {
      "text/plain": [
       "11"
      ]
     },
     "execution_count": 26,
     "metadata": {},
     "output_type": "execute_result"
    }
   ],
   "source": [
    "price.isnull().sum()"
   ]
  },
  {
   "cell_type": "markdown",
   "metadata": {
    "id": "oOGmWyjRogAO"
   },
   "source": [
    "### Becuase 'price' column has 11 NaN entries, which can not be plotted."
   ]
  },
  {
   "cell_type": "markdown",
   "metadata": {
    "id": "uFdT54nPogAP"
   },
   "source": [
    "# 3. Time Series Aggregation"
   ]
  },
  {
   "cell_type": "markdown",
   "metadata": {
    "id": "SX-yhtaGogAQ"
   },
   "source": [
    "## 3.1 Resample"
   ]
  },
  {
   "cell_type": "markdown",
   "metadata": {
    "id": "x2gMPFDRogAQ"
   },
   "source": [
    "**Example**: Get montly counts of purchase events."
   ]
  },
  {
   "cell_type": "markdown",
   "metadata": {
    "id": "sE-mX3HsogAR"
   },
   "source": [
    "##### <font color='red'>Question:</font> why no dropna here?"
   ]
  },
  {
   "cell_type": "code",
   "execution_count": 27,
   "metadata": {
    "id": "NO4pwa02ogAS",
    "outputId": "b2d04cbe-9af8-4c48-ffcf-d08e61363db9"
   },
   "outputs": [
    {
     "data": {
      "text/plain": [
       "<AxesSubplot:title={'center':'Monthly Counts'}, xlabel='purchase_date'>"
      ]
     },
     "execution_count": 27,
     "metadata": {},
     "output_type": "execute_result"
    },
    {
     "data": {
      "image/png": "[encoded data removed]",
      "text/plain": [
       "<Figure size 432x288 with 1 Axes>"
      ]
     },
     "metadata": {
      "needs_background": "light"
     },
     "output_type": "display_data"
    }
   ],
   "source": [
    "price.resample('M').count().plot(title='Monthly Counts')"
   ]
  },
  {
   "cell_type": "code",
   "execution_count": 28,
   "metadata": {
    "id": "LjO2e4JKogAT",
    "outputId": "0cfbe5e7-619d-4a02-b379-2299a05f5644"
   },
   "outputs": [
    {
     "data": {
      "text/plain": [
       "purchase_date\n",
       "1996-08-09    103343.0\n",
       "1996-09-27    138381.0\n",
       "1996-10-04     45701.0\n",
       "1996-10-11    262119.0\n",
       "1996-10-11    126383.0\n",
       "                ...   \n",
       "2017-10-04         NaN\n",
       "2017-10-04         NaN\n",
       "2017-10-04    174400.0\n",
       "2017-10-06    192231.0\n",
       "NaT                NaN\n",
       "Name: price, Length: 3197, dtype: float64"
      ]
     },
     "execution_count": 28,
     "metadata": {},
     "output_type": "execute_result"
    }
   ],
   "source": [
    "price.sort_index()"
   ]
  },
  {
   "cell_type": "code",
   "execution_count": 29,
   "metadata": {
    "id": "RkTCGzEMogAU",
    "outputId": "6122d04f-aa2e-4cdb-aa1a-d53797ce4ac8"
   },
   "outputs": [
    {
     "data": {
      "text/plain": [
       "purchase_date\n",
       "1996-08-09    1\n",
       "1996-08-10    0\n",
       "1996-08-11    0\n",
       "1996-08-12    0\n",
       "1996-08-13    0\n",
       "             ..\n",
       "2017-10-02    0\n",
       "2017-10-03    0\n",
       "2017-10-04    1\n",
       "2017-10-05    0\n",
       "2017-10-06    1\n",
       "Name: price, Length: 7729, dtype: int64"
      ]
     },
     "execution_count": 29,
     "metadata": {},
     "output_type": "execute_result"
    }
   ],
   "source": [
    "# resample will sort by default\n",
    "price.resample('D').count()"
   ]
  },
  {
   "cell_type": "markdown",
   "metadata": {
    "id": "Coi-E4kFogAV"
   },
   "source": [
    "<font color='red'>Assignment:</font> Get monthly price mean and median, respectively."
   ]
  },
  {
   "cell_type": "code",
   "execution_count": 30,
   "metadata": {
    "id": "epyhTZ0zogAW",
    "outputId": "6cb2ac38-744a-4488-b874-be6b109b853e"
   },
   "outputs": [
    {
     "data": {
      "text/plain": [
       "purchase_date\n",
       "1996-08-31    103343.000000\n",
       "1996-09-30    138381.000000\n",
       "1996-10-31    105156.818182\n",
       "1996-11-30     76611.153846\n",
       "1996-12-31     94739.615385\n",
       "                  ...      \n",
       "2017-06-30     93203.647059\n",
       "2017-07-31    140474.307692\n",
       "2017-08-31    217683.000000\n",
       "2017-09-30    117562.153846\n",
       "2017-10-31    183315.500000\n",
       "Name: price, Length: 255, dtype: float64"
      ]
     },
     "execution_count": 30,
     "metadata": {},
     "output_type": "execute_result"
    }
   ],
   "source": [
    "price.resample(\"M\").mean()"
   ]
  },
  {
   "cell_type": "code",
   "execution_count": 31,
   "metadata": {
    "id": "H7LwSFcsogAX",
    "outputId": "0b4b9ddd-1a68-434f-ac1e-831c1a7ad05c",
    "scrolled": true
   },
   "outputs": [
    {
     "data": {
      "text/plain": [
       "<AxesSubplot:title={'center':'Montly Price Mean'}, xlabel='purchase_date'>"
      ]
     },
     "execution_count": 31,
     "metadata": {},
     "output_type": "execute_result"
    },
    {
     "data": {
      "image/png": "[encoded data removed]",
      "text/plain": [
       "<Figure size 432x288 with 1 Axes>"
      ]
     },
     "metadata": {
      "needs_background": "light"
     },
     "output_type": "display_data"
    }
   ],
   "source": [
    "# price.resample('M').mean()\n",
    "price.resample(\"M\").mean().plot(title=\"Montly Price Mean\")"
   ]
  },
  {
   "cell_type": "code",
   "execution_count": 32,
   "metadata": {
    "id": "px_tvBC1ogAZ",
    "outputId": "4fe58efe-9914-49be-8a39-bb25779eab44",
    "scrolled": true
   },
   "outputs": [
    {
     "data": {
      "text/plain": [
       "<AxesSubplot:title={'center':'Montly Price Median'}, xlabel='purchase_date'>"
      ]
     },
     "execution_count": 32,
     "metadata": {},
     "output_type": "execute_result"
    },
    {
     "data": {
      "image/png": "[encoded data removed]",
      "text/plain": [
       "<Figure size 432x288 with 1 Axes>"
      ]
     },
     "metadata": {
      "needs_background": "light"
     },
     "output_type": "display_data"
    }
   ],
   "source": [
    "# price.resample('M').median()\n",
    "price.resample(\"M\").median().plot(title=\"Montly Price Median\")"
   ]
  },
  {
   "cell_type": "markdown",
   "metadata": {
    "id": "3U5TtnoQogAb"
   },
   "source": [
    "<font color='red'>Assignment:</font> Get bi-weekly price mean and median, respectively."
   ]
  },
  {
   "cell_type": "code",
   "execution_count": 33,
   "metadata": {
    "id": "KUNdsc-dogAc",
    "outputId": "0ded24a6-2280-4a1d-b8a1-d19f63da8446"
   },
   "outputs": [
    {
     "data": {
      "text/plain": [
       "<AxesSubplot:title={'center':'Bi-weekly Price Mean'}, xlabel='purchase_date'>"
      ]
     },
     "execution_count": 33,
     "metadata": {},
     "output_type": "execute_result"
    },
    {
     "data": {
      "image/png": "[encoded data removed]",
      "text/plain": [
       "<Figure size 432x288 with 1 Axes>"
      ]
     },
     "metadata": {
      "needs_background": "light"
     },
     "output_type": "display_data"
    }
   ],
   "source": [
    "# price.resample('2W').mean()\n",
    "price.resample(\"2W\").mean().plot(title=\"Bi-weekly Price Mean\")"
   ]
  },
  {
   "cell_type": "code",
   "execution_count": 34,
   "metadata": {
    "id": "CSa1UA_HogAd",
    "outputId": "6f6154e5-66f5-4e97-f0dd-8f9c248e8d6d"
   },
   "outputs": [
    {
     "data": {
      "text/plain": [
       "<AxesSubplot:title={'center':'Bi-weekly Price Median'}, xlabel='purchase_date'>"
      ]
     },
     "execution_count": 34,
     "metadata": {},
     "output_type": "execute_result"
    },
    {
     "data": {
      "image/png": "[encoded data removed]",
      "text/plain": [
       "<Figure size 432x288 with 1 Axes>"
      ]
     },
     "metadata": {
      "needs_background": "light"
     },
     "output_type": "display_data"
    }
   ],
   "source": [
    "# price.resample('2W').median()\n",
    "price.resample(\"2W\").median().plot(title=\"Bi-weekly Price Median\")"
   ]
  },
  {
   "cell_type": "code",
   "execution_count": 35,
   "metadata": {
    "id": "yUHFZ_0mogAe",
    "outputId": "6ca1ca57-d89a-4c06-9f33-ac7cbaa47d64"
   },
   "outputs": [
    {
     "data": {
      "text/plain": [
       "purchase_date\n",
       "1996-07-31    103343.000000\n",
       "1996-08-15              NaN\n",
       "1996-08-31              NaN\n",
       "1996-09-15    138381.000000\n",
       "1996-09-30    175711.000000\n",
       "                  ...      \n",
       "2017-07-31    138621.200000\n",
       "2017-08-15    274155.714286\n",
       "2017-08-31    148914.142857\n",
       "2017-09-15     80984.833333\n",
       "2017-09-30    183315.500000\n",
       "Name: price, Length: 509, dtype: float64"
      ]
     },
     "execution_count": 35,
     "metadata": {},
     "output_type": "execute_result"
    }
   ],
   "source": [
    "# bi-weekly is different from semi-month\n",
    "price.resample('SM').mean()"
   ]
  },
  {
   "cell_type": "code",
   "execution_count": 36,
   "metadata": {
    "id": "rNPyCfbSogAg",
    "outputId": "66580926-84ec-40d7-a7a3-f9db6a5aeed4"
   },
   "outputs": [
    {
     "data": {
      "text/plain": [
       "purchase_date\n",
       "1996-08-09    103343.000000\n",
       "1996-08-23              NaN\n",
       "1996-09-06              NaN\n",
       "1996-09-20    138381.000000\n",
       "1996-10-04    175711.000000\n",
       "                  ...      \n",
       "2017-08-11    385915.750000\n",
       "2017-08-25    138948.909091\n",
       "2017-09-08     11656.000000\n",
       "2017-09-22    127399.400000\n",
       "2017-10-06    192231.000000\n",
       "Name: price, Length: 553, dtype: float64"
      ]
     },
     "execution_count": 36,
     "metadata": {},
     "output_type": "execute_result"
    }
   ],
   "source": [
    "# bi-weekly is different from semi-month\n",
    "price.resample('14D').mean()"
   ]
  },
  {
   "cell_type": "markdown",
   "metadata": {
    "id": "CrO8iwbgogAi"
   },
   "source": [
    "https://pandas.pydata.org/docs/user_guide/timeseries.html#timeseries-offset-aliases"
   ]
  },
  {
   "cell_type": "markdown",
   "metadata": {
    "id": "DkeEel_YogAj"
   },
   "source": [
    "<font color='red'>Assignment:</font> Get monthly **profit** mean and median, respectively."
   ]
  },
  {
   "cell_type": "code",
   "execution_count": 37,
   "metadata": {
    "id": "GyIR3wb2ogAk"
   },
   "outputs": [],
   "source": [
    "cost = df.cost.map(lambda x: x if type(x) == float else 1000*float(x.strip('$').strip('k')))"
   ]
  },
  {
   "cell_type": "code",
   "execution_count": 38,
   "metadata": {
    "id": "7Lg5VYUJogAm"
   },
   "outputs": [],
   "source": [
    "cost.index = purchase_date"
   ]
  },
  {
   "cell_type": "code",
   "execution_count": 39,
   "metadata": {
    "id": "amYYUS3kogAn"
   },
   "outputs": [],
   "source": [
    "profit = price - cost"
   ]
  },
  {
   "cell_type": "code",
   "execution_count": 40,
   "metadata": {
    "id": "IqJ47EM4ogAo",
    "outputId": "7f04c077-3275-4c56-b20f-ffd4128ec652"
   },
   "outputs": [
    {
     "data": {
      "text/plain": [
       "purchase_date\n",
       "1996-08-31             NaN\n",
       "1996-09-30             NaN\n",
       "1996-10-31   -95299.000000\n",
       "1996-11-30    53287.000000\n",
       "1996-12-31    66760.000000\n",
       "                  ...     \n",
       "2017-06-30    11728.363636\n",
       "2017-07-31    10765.300000\n",
       "2017-08-31    65528.444444\n",
       "2017-09-30     7084.500000\n",
       "2017-10-31   -75184.500000\n",
       "Length: 255, dtype: float64"
      ]
     },
     "execution_count": 40,
     "metadata": {},
     "output_type": "execute_result"
    }
   ],
   "source": [
    "profit.resample('M').mean()"
   ]
  },
  {
   "cell_type": "code",
   "execution_count": 41,
   "metadata": {
    "id": "2-vFYA91ogAp",
    "outputId": "fca7a5e4-a524-436a-93ef-6f82cdee2853"
   },
   "outputs": [
    {
     "data": {
      "text/plain": [
       "purchase_date\n",
       "1996-08-31        NaN\n",
       "1996-09-30        NaN\n",
       "1996-10-31   -95299.0\n",
       "1996-11-30    53287.0\n",
       "1996-12-31    66760.0\n",
       "               ...   \n",
       "2017-06-30   -23867.0\n",
       "2017-07-31    17397.5\n",
       "2017-08-31    82128.0\n",
       "2017-09-30    -1756.5\n",
       "2017-10-31   -75184.5\n",
       "Length: 255, dtype: float64"
      ]
     },
     "execution_count": 41,
     "metadata": {},
     "output_type": "execute_result"
    }
   ],
   "source": [
    "profit.resample('M').median()"
   ]
  },
  {
   "cell_type": "markdown",
   "metadata": {
    "id": "sjG3aYWsogAq"
   },
   "source": [
    "##### <font color='red'>Question:</font> how about the missing? Should I fillna in price and cost before calculating the profit?"
   ]
  },
  {
   "cell_type": "code",
   "execution_count": 42,
   "metadata": {
    "id": "AS2BMIlfogAr",
    "outputId": "ab8f5eca-ebcb-487a-b9fd-d4e278bf9c1e"
   },
   "outputs": [
    {
     "data": {
      "text/plain": [
       "purchase_date\n",
       "1996-08-31    -65889.851986\n",
       "1996-09-30    -30851.851986\n",
       "1996-10-31    -95299.000000\n",
       "1996-11-30   -102613.851986\n",
       "1996-12-31    -85506.851986\n",
       "                  ...      \n",
       "2017-06-30    -37413.000000\n",
       "2017-07-31      8047.000000\n",
       "2017-08-31     44631.148014\n",
       "2017-09-30     -1756.500000\n",
       "2017-10-31   -110682.363151\n",
       "Length: 255, dtype: float64"
      ]
     },
     "execution_count": 42,
     "metadata": {},
     "output_type": "execute_result"
    }
   ],
   "source": [
    "# fillna in price and cost, then calculate profit\n",
    "profit_fillna = (price.fillna(price.mean()) - cost.fillna(cost.mean()))\n",
    "profit_fillna.resample('M').median()"
   ]
  },
  {
   "cell_type": "code",
   "execution_count": 43,
   "metadata": {
    "id": "DUwwuIveogAs",
    "outputId": "59cb5bf4-46fd-4314-e436-793d2075d463"
   },
   "outputs": [
    {
     "data": {
      "text/plain": [
       "purchase_date\n",
       "1996-12-06     30358.0\n",
       "1996-12-06     20648.0\n",
       "1996-12-06    104481.0\n",
       "1996-12-06     11583.0\n",
       "1996-12-13     83726.0\n",
       "1996-12-13    163218.0\n",
       "1996-12-20     80039.0\n",
       "1996-12-20     32051.0\n",
       "1996-12-20    105676.0\n",
       "1996-12-20     10321.0\n",
       "1996-12-20    392466.0\n",
       "1996-12-27     16612.0\n",
       "1996-12-27    180436.0\n",
       "Name: price, dtype: float64"
      ]
     },
     "execution_count": 43,
     "metadata": {},
     "output_type": "execute_result"
    }
   ],
   "source": [
    "price[(price.index>='1996-12')&(price.index<'1997-01')].sort_index()"
   ]
  },
  {
   "cell_type": "code",
   "execution_count": 44,
   "metadata": {
    "id": "RX-Vz0J3ogAt",
    "outputId": "832bcaca-ac7e-4fb3-ed87-c84aeb72df19"
   },
   "outputs": [
    {
     "data": {
      "text/plain": [
       "purchase_date\n",
       "1996-12-06        NaN\n",
       "1996-12-06        NaN\n",
       "1996-12-06    26000.0\n",
       "1996-12-06        NaN\n",
       "1996-12-13        NaN\n",
       "1996-12-13        NaN\n",
       "1996-12-20    25000.0\n",
       "1996-12-20        NaN\n",
       "1996-12-20        NaN\n",
       "1996-12-20        NaN\n",
       "1996-12-20        NaN\n",
       "1996-12-27        NaN\n",
       "1996-12-27        NaN\n",
       "Name: cost, dtype: float64"
      ]
     },
     "execution_count": 44,
     "metadata": {},
     "output_type": "execute_result"
    }
   ],
   "source": [
    "cost[(cost.index>='1996-12')&(cost.index<'1997-01')].sort_index()"
   ]
  },
  {
   "cell_type": "code",
   "execution_count": 45,
   "metadata": {
    "id": "o2d6lZmwogAu",
    "outputId": "61b2f031-8753-419f-97c4-2042b20f1bcc"
   },
   "outputs": [
    {
     "data": {
      "text/plain": [
       "purchase_date\n",
       "1996-12-06        NaN\n",
       "1996-12-06        NaN\n",
       "1996-12-06    78481.0\n",
       "1996-12-06        NaN\n",
       "1996-12-13        NaN\n",
       "1996-12-13        NaN\n",
       "1996-12-20    55039.0\n",
       "1996-12-20        NaN\n",
       "1996-12-20        NaN\n",
       "1996-12-20        NaN\n",
       "1996-12-20        NaN\n",
       "1996-12-27        NaN\n",
       "1996-12-27        NaN\n",
       "dtype: float64"
      ]
     },
     "execution_count": 45,
     "metadata": {},
     "output_type": "execute_result"
    }
   ],
   "source": [
    "profit[(profit.index>='1996-12')&(profit.index<'1997-01')].sort_index()"
   ]
  },
  {
   "cell_type": "code",
   "execution_count": 46,
   "metadata": {
    "id": "FH9dsdQ-ogAv",
    "outputId": "2194554b-c772-489f-d900-ac32e2cf5a7c"
   },
   "outputs": [
    {
     "data": {
      "text/plain": [
       "purchase_date\n",
       "1996-12-06   -138874.851986\n",
       "1996-12-06   -148584.851986\n",
       "1996-12-06     78481.000000\n",
       "1996-12-06   -157649.851986\n",
       "1996-12-13    -85506.851986\n",
       "1996-12-13     -6014.851986\n",
       "1996-12-20     55039.000000\n",
       "1996-12-20   -137181.851986\n",
       "1996-12-20    -63556.851986\n",
       "1996-12-20   -158911.851986\n",
       "1996-12-20    223233.148014\n",
       "1996-12-27   -152620.851986\n",
       "1996-12-27     11203.148014\n",
       "dtype: float64"
      ]
     },
     "execution_count": 46,
     "metadata": {},
     "output_type": "execute_result"
    }
   ],
   "source": [
    "# nan in cost is filled by a large value\n",
    "profit_fillna[(profit_fillna.index>='1996-12')&(profit_fillna.index<'1997-01')].sort_index()"
   ]
  },
  {
   "cell_type": "markdown",
   "metadata": {
    "id": "TJ0YEZr0ogAw"
   },
   "source": [
    "##### You can fillna here, but needs to be more careful."
   ]
  },
  {
   "cell_type": "markdown",
   "metadata": {
    "id": "0gCDRuCyogAx"
   },
   "source": [
    "## 3.2 Rolling"
   ]
  },
  {
   "cell_type": "markdown",
   "metadata": {
    "id": "eQ5jttxHogAx"
   },
   "source": [
    "\\<font color='red'>Assignment:</font> Get seven-day rolling average of profit."
   ]
  },
  {
   "cell_type": "markdown",
   "metadata": {
    "id": "c9Y8qqfIogAy"
   },
   "source": [
    "**what is rolling (moving) average?**\n",
    "![image.png](attachment:image.png)\n",
    "\n",
    "**two steps:**\n",
    "1. list the profit of each day, ordered and aggregated (could have multiple sales in one day) - resample function\n",
    "2. calculate rolling average - rolling function"
   ]
  },
  {
   "cell_type": "code",
   "execution_count": 47,
   "metadata": {
    "colab": {
     "base_uri": "https://localhost:8080/",
     "height": 183
    },
    "executionInfo": {
     "elapsed": 65,
     "status": "error",
     "timestamp": 1636765345791,
     "user": {
      "displayName": "Zoey He",
      "photoUrl": "https://lh3.googleusercontent.com/a/default-user=s64",
      "userId": "15531607692958354289"
     },
     "user_tz": 300
    },
    "id": "412FCX4eogAz",
    "outputId": "e9f8f268-5d86-486f-bea9-2edeaaf955da"
   },
   "outputs": [
    {
     "data": {
      "text/plain": [
       "purchase_date\n",
       "1996-10-04    -95299.0\n",
       "1996-11-01     21886.0\n",
       "1996-11-29     84688.0\n",
       "1996-12-06     78481.0\n",
       "1996-12-20     55039.0\n",
       "                ...   \n",
       "2017-09-22     30775.0\n",
       "2017-09-29    105934.0\n",
       "2017-09-29    -15842.0\n",
       "2017-10-04   -220600.0\n",
       "2017-10-06     70231.0\n",
       "Length: 2211, dtype: float64"
      ]
     },
     "execution_count": 47,
     "metadata": {},
     "output_type": "execute_result"
    }
   ],
   "source": [
    "# multiple sales single day - 2017-09-29\n",
    "profit.sort_index().dropna()"
   ]
  },
  {
   "cell_type": "code",
   "execution_count": 48,
   "metadata": {
    "id": "FtFVog5wogA0"
   },
   "outputs": [
    {
     "data": {
      "text/plain": [
       "purchase_date\n",
       "1996-10-04    -95299.000000\n",
       "1996-11-01     21886.000000\n",
       "1996-11-29     84688.000000\n",
       "1996-12-06     78481.000000\n",
       "1996-12-20     55039.000000\n",
       "                  ...      \n",
       "2017-09-22     30775.000000\n",
       "2017-09-29    105934.000000\n",
       "2017-09-29     45046.000000\n",
       "2017-10-04    -43502.666667\n",
       "2017-10-06    -75184.500000\n",
       "Length: 2211, dtype: float64"
      ]
     },
     "execution_count": 48,
     "metadata": {},
     "output_type": "execute_result"
    }
   ],
   "source": [
    "# if no aggregation, will be multiple values for the same day - 2017-09-29\n",
    "profit.sort_index().dropna().rolling('7D').mean()"
   ]
  },
  {
   "cell_type": "code",
   "execution_count": 49,
   "metadata": {
    "id": "6ejqvko3ogA1"
   },
   "outputs": [
    {
     "data": {
      "text/plain": [
       "purchase_date\n",
       "1996-08-09        0.0\n",
       "1996-09-27        0.0\n",
       "1996-10-04   -95299.0\n",
       "1996-10-11        0.0\n",
       "1996-10-25        0.0\n",
       "               ...   \n",
       "2017-09-15     -203.0\n",
       "2017-09-22    30775.0\n",
       "2017-09-29    90092.0\n",
       "2017-10-04   -65254.0\n",
       "2017-10-06   -75184.5\n",
       "Length: 1278, dtype: float64"
      ]
     },
     "execution_count": 49,
     "metadata": {},
     "output_type": "execute_result"
    }
   ],
   "source": [
    "# must include every single day, resample, rather than groupby\n",
    "profit.groupby(level=0).sum().rolling('7D').mean()"
   ]
  },
  {
   "cell_type": "code",
   "execution_count": 50,
   "metadata": {
    "id": "L_SQBwSGogA2"
   },
   "outputs": [
    {
     "data": {
      "text/plain": [
       "purchase_date\n",
       "1996-08-09         0.0\n",
       "1996-09-27         0.0\n",
       "1996-10-04    -95299.0\n",
       "1996-10-11         0.0\n",
       "1996-10-25         0.0\n",
       "                ...   \n",
       "2017-09-15      -203.0\n",
       "2017-09-22     30775.0\n",
       "2017-09-29     90092.0\n",
       "2017-10-04   -220600.0\n",
       "2017-10-06     70231.0\n",
       "Length: 1278, dtype: float64"
      ]
     },
     "execution_count": 50,
     "metadata": {},
     "output_type": "execute_result"
    }
   ],
   "source": [
    "# the '-75184.5' is /2 not /7 of the last 7 days\n",
    "profit.groupby(level=0).sum()"
   ]
  },
  {
   "cell_type": "code",
   "execution_count": 51,
   "metadata": {
    "id": "rFnG1ihpogA3"
   },
   "outputs": [
    {
     "data": {
      "text/plain": [
       "purchase_date\n",
       "1996-08-09         0.0\n",
       "1996-08-10         0.0\n",
       "1996-08-11         0.0\n",
       "1996-08-12         0.0\n",
       "1996-08-13         0.0\n",
       "                ...   \n",
       "2017-10-02         0.0\n",
       "2017-10-03         0.0\n",
       "2017-10-04   -220600.0\n",
       "2017-10-05         0.0\n",
       "2017-10-06     70231.0\n",
       "Length: 7729, dtype: float64"
      ]
     },
     "execution_count": 51,
     "metadata": {},
     "output_type": "execute_result"
    }
   ],
   "source": [
    "# list the daily profit, ordered and aggregated (sum, not mean!!!)\n",
    "profit.resample('D').sum()"
   ]
  },
  {
   "cell_type": "code",
   "execution_count": 52,
   "metadata": {
    "id": "XMyJ3yAjogA4"
   },
   "outputs": [
    {
     "data": {
      "text/plain": [
       "182317.63684871313"
      ]
     },
     "execution_count": 52,
     "metadata": {},
     "output_type": "execute_result"
    }
   ],
   "source": [
    "price.aggregate('mean')"
   ]
  },
  {
   "cell_type": "code",
   "execution_count": 53,
   "metadata": {
    "id": "szl-pGyJogA5"
   },
   "outputs": [
    {
     "data": {
      "text/plain": [
       "182317.63684871313"
      ]
     },
     "execution_count": 53,
     "metadata": {},
     "output_type": "execute_result"
    }
   ],
   "source": [
    "price.agg('mean')"
   ]
  },
  {
   "cell_type": "code",
   "execution_count": 54,
   "metadata": {
    "id": "bW9yYKBwogA6"
   },
   "outputs": [
    {
     "data": {
      "text/plain": [
       "182317.63684871313"
      ]
     },
     "execution_count": 54,
     "metadata": {},
     "output_type": "execute_result"
    }
   ],
   "source": [
    "price.mean()"
   ]
  },
  {
   "cell_type": "code",
   "execution_count": 55,
   "metadata": {
    "id": "Xsh1XFTjogA7"
   },
   "outputs": [
    {
     "data": {
      "text/plain": [
       "purchase_date\n",
       "1996-08-09             NaN\n",
       "1996-08-10             NaN\n",
       "1996-08-11             NaN\n",
       "1996-08-12             NaN\n",
       "1996-08-13             NaN\n",
       "                  ...     \n",
       "2017-10-02    12870.285714\n",
       "2017-10-03    12870.285714\n",
       "2017-10-04   -18644.000000\n",
       "2017-10-05   -18644.000000\n",
       "2017-10-06   -21481.285714\n",
       "Length: 7729, dtype: float64"
      ]
     },
     "execution_count": 55,
     "metadata": {},
     "output_type": "execute_result"
    }
   ],
   "source": [
    "# window = 7\n",
    "profit.resample('D').sum().rolling(7).mean()"
   ]
  },
  {
   "cell_type": "code",
   "execution_count": 56,
   "metadata": {
    "id": "uhF7uONOogA8"
   },
   "outputs": [
    {
     "data": {
      "text/plain": [
       "purchase_date\n",
       "1996-08-09        0.000000\n",
       "1996-08-10        0.000000\n",
       "1996-08-11        0.000000\n",
       "1996-08-12        0.000000\n",
       "1996-08-13        0.000000\n",
       "                  ...     \n",
       "2017-10-02    12870.285714\n",
       "2017-10-03    12870.285714\n",
       "2017-10-04   -18644.000000\n",
       "2017-10-05   -18644.000000\n",
       "2017-10-06   -21481.285714\n",
       "Length: 7729, dtype: float64"
      ]
     },
     "execution_count": 56,
     "metadata": {},
     "output_type": "execute_result"
    }
   ],
   "source": [
    "# window = '7D'\n",
    "profit.resample('D').sum().rolling('7D').mean()"
   ]
  },
  {
   "cell_type": "markdown",
   "metadata": {
    "id": "zcUQmdBOogA9"
   },
   "source": [
    "##### <font color='red'>Question:</font> why rolling 7 and '7D' have different head rows?\n",
    "\n",
    "https://pandas.pydata.org/docs/reference/api/pandas.DataFrame.rolling.html\n",
    "\n",
    "**min_periods**"
   ]
  },
  {
   "cell_type": "markdown",
   "metadata": {
    "id": "Ci5LXX-uogA-"
   },
   "source": [
    "## 3.3 Cumulative"
   ]
  },
  {
   "cell_type": "markdown",
   "metadata": {
    "id": "kHu2aLnKogA-"
   },
   "source": [
    "<font color='red'>Assignment:</font> Get cumulative sum of profit."
   ]
  },
  {
   "cell_type": "markdown",
   "metadata": {
    "id": "Rb5miaZDogA_"
   },
   "source": [
    "**Tips**\n",
    "1. cumulative sum is not sum\n",
    "2. don't forgot to resample first (otherwise duplicate records of the same day)"
   ]
  },
  {
   "cell_type": "code",
   "execution_count": 57,
   "metadata": {
    "id": "hc1LXxttogBA",
    "outputId": "0cfe8df4-c0c9-447e-c7f9-7f2c89f11b29"
   },
   "outputs": [
    {
     "data": {
      "text/plain": [
       "purchase_date\n",
       "1996-08-09            0.0\n",
       "1996-08-10            0.0\n",
       "1996-08-11            0.0\n",
       "1996-08-12            0.0\n",
       "1996-08-13            0.0\n",
       "                 ...     \n",
       "2017-10-02    110569758.0\n",
       "2017-10-03    110569758.0\n",
       "2017-10-04    110349158.0\n",
       "2017-10-05    110349158.0\n",
       "2017-10-06    110419389.0\n",
       "Length: 7729, dtype: float64"
      ]
     },
     "execution_count": 57,
     "metadata": {},
     "output_type": "execute_result"
    }
   ],
   "source": [
    "profit.resample('D').sum().cumsum()"
   ]
  },
  {
   "cell_type": "code",
   "execution_count": 58,
   "metadata": {
    "id": "7podkhCKogBA",
    "outputId": "69b7d978-89f2-43af-a2a1-7f54aed93dbc"
   },
   "outputs": [
    {
     "data": {
      "text/plain": [
       "<AxesSubplot:title={'center':'Cumulative Sum Profit'}, xlabel='purchase_date'>"
      ]
     },
     "execution_count": 58,
     "metadata": {},
     "output_type": "execute_result"
    },
    {
     "data": {
      "image/png": "[encoded data removed]",
      "text/plain": [
       "<Figure size 432x288 with 1 Axes>"
      ]
     },
     "metadata": {
      "needs_background": "light"
     },
     "output_type": "display_data"
    }
   ],
   "source": [
    "profit.resample(\"D\").sum().cumsum().plot(title=\"Cumulative Sum Profit\")"
   ]
  },
  {
   "cell_type": "code",
   "execution_count": 59,
   "metadata": {
    "id": "EJNl2CfhogBC",
    "outputId": "7f21562e-5d6e-4e18-aa93-4ece793fc66b"
   },
   "outputs": [
    {
     "data": {
      "text/plain": [
       "<AxesSubplot:title={'center':'Cumulative Sum Profit'}, xlabel='purchase_date'>"
      ]
     },
     "execution_count": 59,
     "metadata": {},
     "output_type": "execute_result"
    },
    {
     "data": {
      "image/png": "[encoded data removed]",
      "text/plain": [
       "<Figure size 432x288 with 1 Axes>"
      ]
     },
     "metadata": {
      "needs_background": "light"
     },
     "output_type": "display_data"
    }
   ],
   "source": [
    "# profit with price and cost filled nan, cost over-estimated\n",
    "profit_fillna.resample(\"D\").sum().cumsum().plot(title=\"Cumulative Sum Profit\")"
   ]
  },
  {
   "cell_type": "markdown",
   "metadata": {
    "id": "h3Mp4_AWogBD"
   },
   "source": [
    "##### This is the so-called 'business sense'"
   ]
  },
  {
   "cell_type": "markdown",
   "metadata": {
    "id": "ggo0qDHBogBD"
   },
   "source": [
    "## 3.4 Time features"
   ]
  },
  {
   "cell_type": "markdown",
   "metadata": {
    "id": "I2bozwabogBE"
   },
   "source": [
    "**Example:** Get weekday from the datetime series."
   ]
  },
  {
   "cell_type": "code",
   "execution_count": 60,
   "metadata": {
    "id": "9IPNUpyZogBF"
   },
   "outputs": [],
   "source": [
    "weekday = purchase_date.dt.weekday"
   ]
  },
  {
   "cell_type": "code",
   "execution_count": 61,
   "metadata": {
    "id": "-TXsrR8CogBF",
    "outputId": "2e8c7141-2865-4b75-e81f-a3ab22f7b70e"
   },
   "outputs": [
    {
     "data": {
      "text/plain": [
       "0    4.0\n",
       "1    2.0\n",
       "2    2.0\n",
       "3    4.0\n",
       "4    2.0\n",
       "Name: purchase_date, dtype: float64"
      ]
     },
     "execution_count": 61,
     "metadata": {},
     "output_type": "execute_result"
    }
   ],
   "source": [
    "weekday.head() # Monday=0, Sunday=6"
   ]
  },
  {
   "cell_type": "markdown",
   "metadata": {
    "id": "3WaksBaEogBG"
   },
   "source": [
    "**Example:** Get averaged price for each weekday."
   ]
  },
  {
   "cell_type": "code",
   "execution_count": 62,
   "metadata": {
    "id": "fanQ5WrhogBH"
   },
   "outputs": [],
   "source": [
    "df_tmp = pd.DataFrame({'price': price.values, 'weekday': weekday})"
   ]
  },
  {
   "cell_type": "code",
   "execution_count": 63,
   "metadata": {
    "id": "jFyzlK8sogBI",
    "outputId": "c65d4017-3252-4520-cad8-5d52d4e2dab3"
   },
   "outputs": [
    {
     "data": {
      "text/html": [
       "<div>\n",
       "<style scoped>\n",
       "    .dataframe tbody tr th:only-of-type {\n",
       "        vertical-align: middle;\n",
       "    }\n",
       "\n",
       "    .dataframe tbody tr th {\n",
       "        vertical-align: top;\n",
       "    }\n",
       "\n",
       "    .dataframe thead th {\n",
       "        text-align: right;\n",
       "    }\n",
       "</style>\n",
       "<table border=\"1\" class=\"dataframe\">\n",
       "  <thead>\n",
       "    <tr style=\"text-align: right;\">\n",
       "      <th></th>\n",
       "      <th>price</th>\n",
       "      <th>weekday</th>\n",
       "    </tr>\n",
       "  </thead>\n",
       "  <tbody>\n",
       "    <tr>\n",
       "      <th>0</th>\n",
       "      <td>300492.0</td>\n",
       "      <td>4.0</td>\n",
       "    </tr>\n",
       "    <tr>\n",
       "      <th>1</th>\n",
       "      <td>430570.0</td>\n",
       "      <td>2.0</td>\n",
       "    </tr>\n",
       "    <tr>\n",
       "      <th>2</th>\n",
       "      <td>213070.0</td>\n",
       "      <td>2.0</td>\n",
       "    </tr>\n",
       "    <tr>\n",
       "      <th>3</th>\n",
       "      <td>229174.0</td>\n",
       "      <td>4.0</td>\n",
       "    </tr>\n",
       "    <tr>\n",
       "      <th>4</th>\n",
       "      <td>122659.0</td>\n",
       "      <td>2.0</td>\n",
       "    </tr>\n",
       "  </tbody>\n",
       "</table>\n",
       "</div>"
      ],
      "text/plain": [
       "      price  weekday\n",
       "0  300492.0      4.0\n",
       "1  430570.0      2.0\n",
       "2  213070.0      2.0\n",
       "3  229174.0      4.0\n",
       "4  122659.0      2.0"
      ]
     },
     "execution_count": 63,
     "metadata": {},
     "output_type": "execute_result"
    }
   ],
   "source": [
    "df_tmp.head()"
   ]
  },
  {
   "cell_type": "markdown",
   "metadata": {
    "id": "TyZ72ggeogBJ"
   },
   "source": [
    "<font color='red'>Question:</font> Why do we need **.values** for **price** here?"
   ]
  },
  {
   "cell_type": "markdown",
   "metadata": {
    "id": "R5tlaFLIogBK"
   },
   "source": [
    "### It returns the Series as an array ???"
   ]
  },
  {
   "cell_type": "code",
   "execution_count": 64,
   "metadata": {
    "id": "AktYR93xogBL",
    "scrolled": true
   },
   "outputs": [],
   "source": [
    "# pd.DataFrame({'price': price, 'weekday': weekday})"
   ]
  },
  {
   "cell_type": "code",
   "execution_count": 65,
   "metadata": {
    "colab": {
     "base_uri": "https://localhost:8080/",
     "height": 166
    },
    "executionInfo": {
     "elapsed": 69,
     "status": "error",
     "timestamp": 1636767015725,
     "user": {
      "displayName": "Zoey He",
      "photoUrl": "https://lh3.googleusercontent.com/a/default-user=s64",
      "userId": "15531607692958354289"
     },
     "user_tz": 300
    },
    "id": "-AzHdfWkogBM",
    "outputId": "96e935c1-99b8-4d2d-9f39-e64e83f3d5ca"
   },
   "outputs": [
    {
     "data": {
      "text/plain": [
       "0       4.0\n",
       "1       2.0\n",
       "2       2.0\n",
       "3       4.0\n",
       "4       2.0\n",
       "       ... \n",
       "3192    4.0\n",
       "3193    4.0\n",
       "3194    4.0\n",
       "3195    4.0\n",
       "3196    4.0\n",
       "Name: purchase_date, Length: 3197, dtype: float64"
      ]
     },
     "execution_count": 65,
     "metadata": {},
     "output_type": "execute_result"
    }
   ],
   "source": [
    "weekday"
   ]
  },
  {
   "cell_type": "code",
   "execution_count": 66,
   "metadata": {
    "id": "nEGsyHi2ogBN"
   },
   "outputs": [
    {
     "data": {
      "text/plain": [
       "purchase_date\n",
       "2008-12-19     300492.0\n",
       "1997-09-10     430570.0\n",
       "2001-09-05     213070.0\n",
       "2016-12-23     229174.0\n",
       "2000-01-12     122659.0\n",
       "                ...    \n",
       "2016-11-25      93349.0\n",
       "2007-05-25      40384.0\n",
       "2016-12-16    1074844.0\n",
       "2002-04-12      55931.0\n",
       "2003-06-13      44370.0\n",
       "Name: price, Length: 3197, dtype: float64"
      ]
     },
     "execution_count": 66,
     "metadata": {},
     "output_type": "execute_result"
    }
   ],
   "source": [
    "price"
   ]
  },
  {
   "cell_type": "code",
   "execution_count": 67,
   "metadata": {
    "id": "U0xRcAM_ogBP"
   },
   "outputs": [
    {
     "data": {
      "text/plain": [
       "1918"
      ]
     },
     "execution_count": 67,
     "metadata": {},
     "output_type": "execute_result"
    }
   ],
   "source": [
    "price.index.duplicated().sum()"
   ]
  },
  {
   "cell_type": "code",
   "execution_count": 68,
   "metadata": {
    "id": "SEg0xjJjogBQ"
   },
   "outputs": [
    {
     "data": {
      "text/plain": [
       "purchase_date\n",
       "1996-08-09    103343.0\n",
       "1996-09-27    138381.0\n",
       "1996-10-04     45701.0\n",
       "1996-10-11    262119.0\n",
       "1996-10-11    126383.0\n",
       "                ...   \n",
       "2017-10-04         NaN\n",
       "2017-10-04         NaN\n",
       "2017-10-04    174400.0\n",
       "2017-10-06    192231.0\n",
       "NaT                NaN\n",
       "Name: price, Length: 3197, dtype: float64"
      ]
     },
     "execution_count": 68,
     "metadata": {},
     "output_type": "execute_result"
    }
   ],
   "source": [
    "price.sort_index()"
   ]
  },
  {
   "cell_type": "code",
   "execution_count": 69,
   "metadata": {
    "id": "LuHCAB-GogBS"
   },
   "outputs": [
    {
     "data": {
      "text/plain": [
       "purchase_date\n",
       "2008-12-19    4.0\n",
       "1997-09-10    2.0\n",
       "2001-09-05    2.0\n",
       "2016-12-23    4.0\n",
       "2000-01-12    2.0\n",
       "             ... \n",
       "2016-11-25    4.0\n",
       "2007-05-25    4.0\n",
       "2016-12-16    4.0\n",
       "2002-04-12    4.0\n",
       "2003-06-13    4.0\n",
       "Name: purchase_date, Length: 3197, dtype: float64"
      ]
     },
     "execution_count": 69,
     "metadata": {},
     "output_type": "execute_result"
    }
   ],
   "source": [
    "# another sulotion\n",
    "temp = weekday.copy() # can I do without .copy()? object v.s. reference (view)\n",
    "temp.index = purchase_date\n",
    "temp"
   ]
  },
  {
   "cell_type": "markdown",
   "metadata": {
    "id": "FDJ7rpIKogBT"
   },
   "source": [
    "https://www.dataquest.io/blog/settingwithcopywarning/"
   ]
  },
  {
   "cell_type": "code",
   "execution_count": 70,
   "metadata": {
    "id": "X6JmkkC_ogBU",
    "scrolled": false
   },
   "outputs": [
    {
     "data": {
      "text/html": [
       "<div>\n",
       "<style scoped>\n",
       "    .dataframe tbody tr th:only-of-type {\n",
       "        vertical-align: middle;\n",
       "    }\n",
       "\n",
       "    .dataframe tbody tr th {\n",
       "        vertical-align: top;\n",
       "    }\n",
       "\n",
       "    .dataframe thead th {\n",
       "        text-align: right;\n",
       "    }\n",
       "</style>\n",
       "<table border=\"1\" class=\"dataframe\">\n",
       "  <thead>\n",
       "    <tr style=\"text-align: right;\">\n",
       "      <th></th>\n",
       "      <th>price</th>\n",
       "      <th>weekday</th>\n",
       "    </tr>\n",
       "    <tr>\n",
       "      <th>purchase_date</th>\n",
       "      <th></th>\n",
       "      <th></th>\n",
       "    </tr>\n",
       "  </thead>\n",
       "  <tbody>\n",
       "    <tr>\n",
       "      <th>2008-12-19</th>\n",
       "      <td>300492.0</td>\n",
       "      <td>4.0</td>\n",
       "    </tr>\n",
       "    <tr>\n",
       "      <th>1997-09-10</th>\n",
       "      <td>430570.0</td>\n",
       "      <td>2.0</td>\n",
       "    </tr>\n",
       "    <tr>\n",
       "      <th>2001-09-05</th>\n",
       "      <td>213070.0</td>\n",
       "      <td>2.0</td>\n",
       "    </tr>\n",
       "    <tr>\n",
       "      <th>2016-12-23</th>\n",
       "      <td>229174.0</td>\n",
       "      <td>4.0</td>\n",
       "    </tr>\n",
       "    <tr>\n",
       "      <th>2000-01-12</th>\n",
       "      <td>122659.0</td>\n",
       "      <td>2.0</td>\n",
       "    </tr>\n",
       "  </tbody>\n",
       "</table>\n",
       "</div>"
      ],
      "text/plain": [
       "                  price  weekday\n",
       "purchase_date                   \n",
       "2008-12-19     300492.0      4.0\n",
       "1997-09-10     430570.0      2.0\n",
       "2001-09-05     213070.0      2.0\n",
       "2016-12-23     229174.0      4.0\n",
       "2000-01-12     122659.0      2.0"
      ]
     },
     "execution_count": 70,
     "metadata": {},
     "output_type": "execute_result"
    }
   ],
   "source": [
    "pd.DataFrame({'price': price, 'weekday': temp}).head()"
   ]
  },
  {
   "cell_type": "markdown",
   "metadata": {
    "id": "03ZT12NyogBV"
   },
   "source": [
    "https://pandas.pydata.org/pandas-docs/dev/user_guide/duplicates.html"
   ]
  },
  {
   "cell_type": "code",
   "execution_count": 71,
   "metadata": {
    "id": "6cxzFSofogBW"
   },
   "outputs": [
    {
     "data": {
      "text/plain": [
       "<AxesSubplot:xlabel='weekday'>"
      ]
     },
     "execution_count": 71,
     "metadata": {},
     "output_type": "execute_result"
    },
    {
     "data": {
      "image/png": "[encoded data removed]",
      "text/plain": [
       "<Figure size 432x288 with 1 Axes>"
      ]
     },
     "metadata": {
      "needs_background": "light"
     },
     "output_type": "display_data"
    }
   ],
   "source": [
    "# very useful plot for time series data analysis\n",
    "df_tmp.groupby('weekday').mean().plot(kind='bar')"
   ]
  },
  {
   "cell_type": "markdown",
   "metadata": {
    "id": "uS8v2CfJogBZ"
   },
   "source": [
    "<font color='red'>Assignment:</font> Get profit median for each month."
   ]
  },
  {
   "cell_type": "markdown",
   "metadata": {
    "id": "1jL3FmfJogBa"
   },
   "source": [
    "##### some of you didn't get the question"
   ]
  },
  {
   "cell_type": "code",
   "execution_count": 72,
   "metadata": {
    "id": "5H2pOCKyogBi"
   },
   "outputs": [],
   "source": [
    "profit_month = pd.DataFrame({'profit': profit.values, 'month': purchase_date.dt.month})"
   ]
  },
  {
   "cell_type": "code",
   "execution_count": 73,
   "metadata": {
    "id": "t0CEHj9GogBj"
   },
   "outputs": [
    {
     "data": {
      "text/html": [
       "<div>\n",
       "<style scoped>\n",
       "    .dataframe tbody tr th:only-of-type {\n",
       "        vertical-align: middle;\n",
       "    }\n",
       "\n",
       "    .dataframe tbody tr th {\n",
       "        vertical-align: top;\n",
       "    }\n",
       "\n",
       "    .dataframe thead th {\n",
       "        text-align: right;\n",
       "    }\n",
       "</style>\n",
       "<table border=\"1\" class=\"dataframe\">\n",
       "  <thead>\n",
       "    <tr style=\"text-align: right;\">\n",
       "      <th></th>\n",
       "      <th>profit</th>\n",
       "      <th>month</th>\n",
       "    </tr>\n",
       "  </thead>\n",
       "  <tbody>\n",
       "    <tr>\n",
       "      <th>0</th>\n",
       "      <td>-32508.0</td>\n",
       "      <td>12.0</td>\n",
       "    </tr>\n",
       "    <tr>\n",
       "      <th>1</th>\n",
       "      <td>NaN</td>\n",
       "      <td>9.0</td>\n",
       "    </tr>\n",
       "    <tr>\n",
       "      <th>2</th>\n",
       "      <td>-56930.0</td>\n",
       "      <td>9.0</td>\n",
       "    </tr>\n",
       "    <tr>\n",
       "      <th>3</th>\n",
       "      <td>NaN</td>\n",
       "      <td>12.0</td>\n",
       "    </tr>\n",
       "    <tr>\n",
       "      <th>4</th>\n",
       "      <td>25659.0</td>\n",
       "      <td>1.0</td>\n",
       "    </tr>\n",
       "  </tbody>\n",
       "</table>\n",
       "</div>"
      ],
      "text/plain": [
       "    profit  month\n",
       "0 -32508.0   12.0\n",
       "1      NaN    9.0\n",
       "2 -56930.0    9.0\n",
       "3      NaN   12.0\n",
       "4  25659.0    1.0"
      ]
     },
     "execution_count": 73,
     "metadata": {},
     "output_type": "execute_result"
    }
   ],
   "source": [
    "profit_month.head()"
   ]
  },
  {
   "cell_type": "code",
   "execution_count": 74,
   "metadata": {
    "id": "Olc64L8CogBk"
   },
   "outputs": [
    {
     "data": {
      "text/plain": [
       "<AxesSubplot:xlabel='month'>"
      ]
     },
     "execution_count": 74,
     "metadata": {},
     "output_type": "execute_result"
    },
    {
     "data": {
      "image/png": "[encoded data removed]",
      "text/plain": [
       "<Figure size 432x288 with 1 Axes>"
      ]
     },
     "metadata": {
      "needs_background": "light"
     },
     "output_type": "display_data"
    }
   ],
   "source": [
    "profit_month.groupby('month').median().plot(kind = 'bar')"
   ]
  },
  {
   "cell_type": "markdown",
   "metadata": {
    "id": "jAzVc--PogBm"
   },
   "source": [
    "* name a few time series data?\n",
    "\n",
    "1. stock price\n",
    "2. sensor"
   ]
  },
  {
   "cell_type": "code",
   "execution_count": null,
   "metadata": {
    "id": "um095EXbogBn"
   },
   "outputs": [],
   "source": []
  }
 ],
 "metadata": {
  "colab": {
   "name": "04_timestamp_analysis_updated.ipynb",
   "provenance": []
  },
  "kernelspec": {
   "display_name": "Python 3 (ipykernel)",
   "language": "python",
   "name": "python3"
  },
  "language_info": {
   "codemirror_mode": {
    "name": "ipython",
    "version": 3
   },
   "file_extension": ".py",
   "mimetype": "text/x-python",
   "name": "python",
   "nbconvert_exporter": "python",
   "pygments_lexer": "ipython3",
   "version": "3.9.12"
  }
 },
 "nbformat": 4,
 "nbformat_minor": 1
}

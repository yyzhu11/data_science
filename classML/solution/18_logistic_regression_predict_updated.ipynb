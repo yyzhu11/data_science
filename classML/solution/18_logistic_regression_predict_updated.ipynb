{
 "cells": [
  {
   "cell_type": "code",
   "execution_count": null,
   "metadata": {
    "ExecuteTime": {
     "end_time": "2021-06-11T19:29:42.135290Z",
     "start_time": "2021-06-11T19:29:42.131290Z"
    },
    "id": "mWm_61PmNu6P"
   },
   "outputs": [],
   "source": [
    "import pandas as pd"
   ]
  },
  {
   "cell_type": "code",
   "execution_count": null,
   "metadata": {
    "ExecuteTime": {
     "end_time": "2021-06-11T19:29:42.304883Z",
     "start_time": "2021-06-11T19:29:42.273842Z"
    },
    "id": "1ymBm5d3Nu6T"
   },
   "outputs": [],
   "source": [
    "# df = pd.read_csv('../data/sales.csv')\n",
    "df = pd.read_csv('sales.csv')\n",
    "df.dropna(subset=['price'], inplace=True)"
   ]
  },
  {
   "cell_type": "code",
   "execution_count": null,
   "metadata": {
    "ExecuteTime": {
     "end_time": "2021-06-11T19:29:42.417371Z",
     "start_time": "2021-06-11T19:29:42.404358Z"
    },
    "id": "2XxrzS4CNu6V",
    "outputId": "0e5db42f-a83a-4729-ead4-f5654d5d5733"
   },
   "outputs": [
    {
     "data": {
      "text/html": [
       "<div>\n",
       "<style scoped>\n",
       "    .dataframe tbody tr th:only-of-type {\n",
       "        vertical-align: middle;\n",
       "    }\n",
       "\n",
       "    .dataframe tbody tr th {\n",
       "        vertical-align: top;\n",
       "    }\n",
       "\n",
       "    .dataframe thead th {\n",
       "        text-align: right;\n",
       "    }\n",
       "</style>\n",
       "<table border=\"1\" class=\"dataframe\">\n",
       "  <thead>\n",
       "    <tr style=\"text-align: right;\">\n",
       "      <th></th>\n",
       "      <th>cost</th>\n",
       "      <th>price</th>\n",
       "      <th>weight</th>\n",
       "      <th>purchase_date</th>\n",
       "      <th>product_type</th>\n",
       "      <th>product_level</th>\n",
       "      <th>maker</th>\n",
       "      <th>ingredient</th>\n",
       "      <th>height</th>\n",
       "      <th>width</th>\n",
       "      <th>depth</th>\n",
       "    </tr>\n",
       "  </thead>\n",
       "  <tbody>\n",
       "    <tr>\n",
       "      <th>0</th>\n",
       "      <td>$333k</td>\n",
       "      <td>$300,492</td>\n",
       "      <td>3 Ton 90 Kg</td>\n",
       "      <td>Dec 19 2008</td>\n",
       "      <td>Q,B</td>\n",
       "      <td>advanced</td>\n",
       "      <td>M14122</td>\n",
       "      <td>IN732052,IN732053</td>\n",
       "      <td>2.76 meters</td>\n",
       "      <td>97 cm</td>\n",
       "      <td>26 cm</td>\n",
       "    </tr>\n",
       "    <tr>\n",
       "      <th>1</th>\n",
       "      <td>NaN</td>\n",
       "      <td>$430,570</td>\n",
       "      <td>3 Ton 30 Kg</td>\n",
       "      <td>Sep 10 1997</td>\n",
       "      <td>J,D</td>\n",
       "      <td>basic</td>\n",
       "      <td>NaN</td>\n",
       "      <td>IN732054,IN732055,IN732056,IN732057,IN732058</td>\n",
       "      <td>2.67 meters</td>\n",
       "      <td>98 cm</td>\n",
       "      <td>26 cm</td>\n",
       "    </tr>\n",
       "    <tr>\n",
       "      <th>2</th>\n",
       "      <td>$270k</td>\n",
       "      <td>$213,070</td>\n",
       "      <td>3 Ton 40 Kg</td>\n",
       "      <td>Sep 05 2001</td>\n",
       "      <td>J,D</td>\n",
       "      <td>basic</td>\n",
       "      <td>NaN</td>\n",
       "      <td>IN732054,IN732059,IN732060</td>\n",
       "      <td>3.0 meters</td>\n",
       "      <td>93 cm</td>\n",
       "      <td>24 cm</td>\n",
       "    </tr>\n",
       "    <tr>\n",
       "      <th>3</th>\n",
       "      <td>NaN</td>\n",
       "      <td>$229,174</td>\n",
       "      <td>3 Ton 50 Kg</td>\n",
       "      <td>Dec 23 2016</td>\n",
       "      <td>U</td>\n",
       "      <td>advanced</td>\n",
       "      <td>M14123</td>\n",
       "      <td>IN732061,IN732062,IN732063</td>\n",
       "      <td>2.5 meters</td>\n",
       "      <td>102 cm</td>\n",
       "      <td>27 cm</td>\n",
       "    </tr>\n",
       "    <tr>\n",
       "      <th>4</th>\n",
       "      <td>$97k</td>\n",
       "      <td>$122,659</td>\n",
       "      <td>2 Ton 970 Kg</td>\n",
       "      <td>Jan 12 2000</td>\n",
       "      <td>D,R</td>\n",
       "      <td>advanced</td>\n",
       "      <td>NaN</td>\n",
       "      <td>IN732064,IN732065,IN732066</td>\n",
       "      <td>2.47 meters</td>\n",
       "      <td>101 cm</td>\n",
       "      <td>26 cm</td>\n",
       "    </tr>\n",
       "  </tbody>\n",
       "</table>\n",
       "</div>"
      ],
      "text/plain": [
       "    cost     price        weight purchase_date product_type product_level  \\\n",
       "0  $333k  $300,492   3 Ton 90 Kg   Dec 19 2008          Q,B      advanced   \n",
       "1    NaN  $430,570   3 Ton 30 Kg   Sep 10 1997          J,D         basic   \n",
       "2  $270k  $213,070   3 Ton 40 Kg   Sep 05 2001          J,D         basic   \n",
       "3    NaN  $229,174   3 Ton 50 Kg   Dec 23 2016            U      advanced   \n",
       "4   $97k  $122,659  2 Ton 970 Kg   Jan 12 2000          D,R      advanced   \n",
       "\n",
       "    maker                                    ingredient       height   width  \\\n",
       "0  M14122                             IN732052,IN732053  2.76 meters   97 cm   \n",
       "1     NaN  IN732054,IN732055,IN732056,IN732057,IN732058  2.67 meters   98 cm   \n",
       "2     NaN                    IN732054,IN732059,IN732060   3.0 meters   93 cm   \n",
       "3  M14123                    IN732061,IN732062,IN732063   2.5 meters  102 cm   \n",
       "4     NaN                    IN732064,IN732065,IN732066  2.47 meters  101 cm   \n",
       "\n",
       "   depth  \n",
       "0  26 cm  \n",
       "1  26 cm  \n",
       "2  24 cm  \n",
       "3  27 cm  \n",
       "4  26 cm  "
      ]
     },
     "execution_count": 3,
     "metadata": {},
     "output_type": "execute_result"
    }
   ],
   "source": [
    "df.head()"
   ]
  },
  {
   "cell_type": "code",
   "execution_count": null,
   "metadata": {
    "ExecuteTime": {
     "end_time": "2021-06-11T19:29:42.777999Z",
     "start_time": "2021-06-11T19:29:42.538379Z"
    },
    "id": "R2n21Me5Nu6Y"
   },
   "outputs": [],
   "source": [
    "df['year'] = pd.to_datetime(df.purchase_date).dt.year\n",
    "train_raw = df[df.year < 2015]\n",
    "test_raw = df[df.year >= 2015]"
   ]
  },
  {
   "cell_type": "markdown",
   "metadata": {
    "id": "Jp7cNZRENu6Y"
   },
   "source": [
    "# 1. Model building"
   ]
  },
  {
   "cell_type": "markdown",
   "metadata": {
    "id": "YQ9NqrkENu6a"
   },
   "source": [
    "<font color='red'>Assignment:</font> Get **luxury** (**price** higher than 500k dollars) as targets for training and testing and assign them to variables **y_train** and **y_test**, respectively."
   ]
  },
  {
   "cell_type": "code",
   "execution_count": null,
   "metadata": {
    "ExecuteTime": {
     "end_time": "2021-06-11T19:29:43.060744Z",
     "start_time": "2021-06-11T19:29:43.057747Z"
    },
    "id": "lW7tNnDrNu6b"
   },
   "outputs": [],
   "source": [
    "# train_raw['price'] = train_raw['price'].map(lambda x: x if type(x) is float else float(x.strip('$').replace(',', '')))\n",
    "# test_raw['price'] = test_raw['price'].map(lambda x: x if type(x) is float else float(x.strip('$').replace(',', '')))"
   ]
  },
  {
   "cell_type": "code",
   "execution_count": null,
   "metadata": {
    "ExecuteTime": {
     "end_time": "2021-06-11T19:29:43.204746Z",
     "start_time": "2021-06-11T19:29:43.202745Z"
    },
    "id": "fdQ7bEkRNu6c"
   },
   "outputs": [],
   "source": [
    "# train_raw['luxury'] = ''\n",
    "# test_raw['luxury'] = ''\n",
    "# train_raw['luxury'].values[:] = 0\n",
    "# test_raw['luxury'].values[:] = 0\n",
    "# train_raw['luxury'][train_raw[train_raw.price > 500000].index] = 1\n",
    "# test_raw['luxury'][test_raw[test_raw.price > 500000].index] = 1"
   ]
  },
  {
   "cell_type": "code",
   "execution_count": null,
   "metadata": {
    "ExecuteTime": {
     "end_time": "2021-06-11T19:29:43.365239Z",
     "start_time": "2021-06-11T19:29:43.363236Z"
    },
    "id": "ufHk9zfTNu6d"
   },
   "outputs": [],
   "source": [
    "# y_train = train_raw.luxury\n",
    "# y_test = test_raw.luxury"
   ]
  },
  {
   "cell_type": "code",
   "execution_count": null,
   "metadata": {
    "ExecuteTime": {
     "end_time": "2021-06-11T19:29:43.532959Z",
     "start_time": "2021-06-11T19:29:43.522982Z"
    },
    "id": "__drY7h8Nu6e"
   },
   "outputs": [],
   "source": [
    "# Train and test data\n",
    "\n",
    "features = list(df.columns)\n",
    "target = [\"price\", \"luxury\"]\n",
    "features = [fea for fea in features if fea not in target]\n",
    "\n",
    "X_train = train_raw[features]\n",
    "X_test = test_raw[features]\n",
    "\n",
    "y_train = train_raw[\"price\"].map(lambda x: 1 if float(x.strip(\"$\").replace(\",\", \"\")) > 500000 else 0)\n",
    "y_test = test_raw[\"price\"].map(lambda x: 1 if float(x.strip(\"$\").replace(\",\", \"\")) > 500000 else 0)"
   ]
  },
  {
   "cell_type": "markdown",
   "metadata": {
    "id": "YYFSQjqRNu6f"
   },
   "source": [
    "<font color='red'>Assignment:</font> Build a transformation class to extract, preprocess, and transform **cost**; wrap up this class with **MinMaxScaler** and **LogisticRegression** to build a classification pipeline."
   ]
  },
  {
   "cell_type": "code",
   "execution_count": null,
   "metadata": {
    "ExecuteTime": {
     "end_time": "2021-06-11T19:29:43.881605Z",
     "start_time": "2021-06-11T19:29:43.874603Z"
    },
    "id": "Nsfl8AJUNu6f"
   },
   "outputs": [],
   "source": [
    "class Cost_Transformer(object):\n",
    "    \n",
    "    def fit(self, X, y=None):\n",
    "        df = pd.DataFrame()\n",
    "        df['cost'] = X.cost.map(self.cost2num)\n",
    "        self.mean = df.mean()\n",
    "        \n",
    "    def transform(self, X, y=None):\n",
    "        df = pd.DataFrame()\n",
    "        df['cost'] = X.cost.map(self.cost2num)\n",
    "        return df.fillna(self.mean)\n",
    "    \n",
    "    def fit_transform(self, X, y=None):\n",
    "        self.fit(X)\n",
    "        return self.transform(X)\n",
    "\n",
    "    def cost2num(self, x):\n",
    "        if type(x) == str: \n",
    "            x = x.strip('$').strip('k')\n",
    "            return float(x)*1000\n",
    "        else:\n",
    "            return x"
   ]
  },
  {
   "cell_type": "code",
   "execution_count": null,
   "metadata": {
    "ExecuteTime": {
     "end_time": "2021-06-11T19:29:44.054227Z",
     "start_time": "2021-06-11T19:29:44.051226Z"
    },
    "id": "X9gpgzXQNu6g"
   },
   "outputs": [],
   "source": [
    "from sklearn.pipeline import Pipeline\n",
    "from sklearn.linear_model import LogisticRegression\n",
    "from sklearn.preprocessing import MinMaxScaler"
   ]
  },
  {
   "cell_type": "code",
   "execution_count": null,
   "metadata": {
    "ExecuteTime": {
     "end_time": "2021-06-11T19:29:44.272151Z",
     "start_time": "2021-06-11T19:29:44.252134Z"
    },
    "id": "POUitDHyNu6g"
   },
   "outputs": [],
   "source": [
    "steps = [('ctf', Cost_Transformer()),\n",
    "         ('rescale', MinMaxScaler()),\n",
    "         ('logr', LogisticRegression())]\n",
    "model = Pipeline(steps)\n",
    "model = model.fit(train_raw, y_train)"
   ]
  },
  {
   "cell_type": "markdown",
   "metadata": {
    "id": "02p1lL92Nu6h"
   },
   "source": [
    "#### <font color='red'>Note:</font> is rescale necessary here?"
   ]
  },
  {
   "cell_type": "markdown",
   "metadata": {
    "id": "HhPK1fzcNu6h"
   },
   "source": [
    "<font color='red'>Question:</font> What is logistic regression? Is logistic regression a regression algorithm?"
   ]
  },
  {
   "cell_type": "markdown",
   "metadata": {
    "id": "X6xqL1yONu6i"
   },
   "source": [
    "### Logistic Regression is used when the dependent variable(target) is categorical. It measures the relationship between the categorical dependent variable and one or more independent variables by estimating probabilities using a logistic/sigmoid function. Logistic regression is indeed a regression algorithm, it becomes classification when added a decision rule."
   ]
  },
  {
   "cell_type": "markdown",
   "metadata": {
    "id": "A-5jYlqiNu6j"
   },
   "source": [
    "<font color='red'>Question:</font> Is logistic regression a linear algorithm? What is the relationship between logistic regression and linear regression?"
   ]
  },
  {
   "cell_type": "markdown",
   "metadata": {
    "id": "HmfTKsZGNu6j"
   },
   "source": [
    "### Logistic regression is a linear method, but the predictions are transformed using the logistic function. Formulas for the two methods are:\n",
    "### (1) Linear: $y = a_{0} + a_{1}x + ...$\n",
    "### (2) Logistic: $p = \\frac{e^{b_{0} + b_{1}x}}{1 + e^{b_{0} + b_{1}x}}$"
   ]
  },
  {
   "cell_type": "markdown",
   "metadata": {
    "id": "suVhd8MCNu6j"
   },
   "source": [
    "<font color='red'>Question:</font> What is sigmoid function? What is it for?"
   ]
  },
  {
   "cell_type": "markdown",
   "metadata": {
    "id": "5eYgZq_5Nu6k"
   },
   "source": [
    "### Sigmoid funciton has the shape of an 'S', its formula is: $\\frac{1}{1 + e^{-x}}$. The sigmoid function is used mostly used in classification type problem since we need to scale the data in some given specific range with a threshold."
   ]
  },
  {
   "cell_type": "markdown",
   "metadata": {
    "id": "Va03BO8FNu6k"
   },
   "source": [
    "# 2. Predicting"
   ]
  },
  {
   "cell_type": "markdown",
   "metadata": {
    "id": "tHbN6zYINu6k"
   },
   "source": [
    "## 2.1 Prediction with default settings"
   ]
  },
  {
   "cell_type": "markdown",
   "metadata": {
    "id": "Wxe5B2ZvNu6l"
   },
   "source": [
    "<font color='red'>Assignment:</font> Use the **predict** function of the model to make predictions for the training set and test set, and assign the outputs to **y_train_pred** and **y_test_pred**, respectively."
   ]
  },
  {
   "cell_type": "code",
   "execution_count": null,
   "metadata": {
    "ExecuteTime": {
     "end_time": "2021-06-11T19:29:46.035157Z",
     "start_time": "2021-06-11T19:29:46.026161Z"
    },
    "id": "l__uLGgcNu6m"
   },
   "outputs": [],
   "source": [
    "y_train_pred = model.predict(train_raw)"
   ]
  },
  {
   "cell_type": "code",
   "execution_count": null,
   "metadata": {
    "ExecuteTime": {
     "end_time": "2021-06-11T19:29:46.232420Z",
     "start_time": "2021-06-11T19:29:46.226420Z"
    },
    "id": "9U76HUzTNu6n"
   },
   "outputs": [],
   "source": [
    "y_test_pred = model.predict(test_raw)"
   ]
  },
  {
   "cell_type": "markdown",
   "metadata": {
    "id": "pB2cQMwpNu6n"
   },
   "source": [
    "<font color='red'>Question:</font> What are the shapes of **y_train_pred** and **y_test_pred**? What do the values in **y_train_pred** and **y_test_pred** mean?"
   ]
  },
  {
   "cell_type": "code",
   "execution_count": null,
   "metadata": {
    "ExecuteTime": {
     "end_time": "2021-06-11T19:29:46.712644Z",
     "start_time": "2021-06-11T19:29:46.707644Z"
    },
    "id": "HT5lnTdlNu6n",
    "outputId": "430a1030-45ca-495e-abaf-78e616e79fac"
   },
   "outputs": [
    {
     "data": {
      "text/plain": [
       "(2757,)"
      ]
     },
     "execution_count": 14,
     "metadata": {},
     "output_type": "execute_result"
    }
   ],
   "source": [
    "y_train_pred.shape"
   ]
  },
  {
   "cell_type": "code",
   "execution_count": null,
   "metadata": {
    "ExecuteTime": {
     "end_time": "2021-06-11T19:29:46.961071Z",
     "start_time": "2021-06-11T19:29:46.955066Z"
    },
    "id": "PIlH_gLeNu6o",
    "outputId": "3a4caa63-452f-4943-8d19-e0f95e893a72"
   },
   "outputs": [
    {
     "data": {
      "text/plain": [
       "(429,)"
      ]
     },
     "execution_count": 15,
     "metadata": {},
     "output_type": "execute_result"
    }
   ],
   "source": [
    "y_test_pred.shape"
   ]
  },
  {
   "cell_type": "code",
   "execution_count": null,
   "metadata": {
    "ExecuteTime": {
     "end_time": "2021-06-11T19:29:47.160553Z",
     "start_time": "2021-06-11T19:29:47.156553Z"
    },
    "id": "3_4l8gGMNu6o",
    "outputId": "4019d82b-51a9-4602-9434-7b0b872d6eac"
   },
   "outputs": [
    {
     "data": {
      "text/plain": [
       "array([0, 0, 0, 0, 0, 0, 0, 0, 0, 0, 0, 0, 0, 0, 0, 0, 0, 0, 0, 0, 0, 0,\n",
       "       0, 0, 0, 0, 0, 0, 0, 1, 0, 0, 0, 1, 0, 0, 0, 0, 0, 0, 0, 0, 0, 0,\n",
       "       0, 0, 0, 0, 0, 0, 0, 0, 0, 0, 0, 0, 0, 0, 1, 0, 0, 0, 0, 0, 0, 0,\n",
       "       0, 0, 0, 0, 0, 0, 0, 0, 0, 0, 0, 0, 0, 0, 0, 0, 0, 0, 0, 0, 0, 0,\n",
       "       0, 0, 0, 0, 1, 0, 0, 0, 0, 0, 1, 0, 0, 0, 0, 0, 0, 0, 0, 0, 0, 0,\n",
       "       1, 0, 0, 0, 0, 0, 0, 0, 0, 0, 0, 0, 0, 0, 0, 0, 0, 0, 0, 0, 0, 0,\n",
       "       0, 0, 0, 0, 0, 0, 0, 0, 0, 0, 0, 0, 0, 0, 0, 0, 0, 0, 0, 0, 0, 0,\n",
       "       0, 0, 0, 0, 0, 0, 0, 0, 0, 0, 0, 0, 0, 0, 0, 0, 0, 0, 0, 0, 0, 0,\n",
       "       0, 0, 0, 0, 0, 0, 0, 0, 0, 0, 0, 1, 0, 0, 0, 0, 0, 0, 0, 0, 0, 0,\n",
       "       0, 0, 0, 0, 0, 0, 0, 0, 0, 0, 0, 0, 0, 0, 0, 0, 0, 0, 0, 0, 0, 0,\n",
       "       0, 0, 0, 0, 0, 0, 0, 0, 0, 0, 0, 0, 0, 0, 0, 0, 0, 0, 0, 0, 0, 0,\n",
       "       0, 0, 0, 0, 0, 0, 0, 0, 0, 0, 0, 0, 0, 0, 0, 0, 0, 0, 0, 0, 0, 0,\n",
       "       0, 0, 0, 0, 0, 0, 0, 0, 0, 0, 0, 0, 0, 1, 0, 0, 0, 1, 1, 0, 0, 0,\n",
       "       0, 0, 0, 0, 0, 0, 0, 0, 0, 0, 0, 0, 0, 0, 0, 0, 0, 0, 0, 0, 0, 0,\n",
       "       0, 0, 0, 0, 0, 0, 0, 0, 0, 0, 0, 0, 0, 0, 0, 0, 0, 0, 0, 0, 0, 0,\n",
       "       0, 0, 0, 0, 0, 0, 0, 0, 0, 0, 0, 0, 0, 0, 0, 0, 0, 0, 0, 0, 0, 0,\n",
       "       0, 0, 1, 0, 0, 0, 0, 0, 0, 0, 0, 0, 0, 0, 0, 0, 0, 0, 0, 0, 0, 0,\n",
       "       0, 0, 0, 0, 0, 0, 0, 0, 0, 0, 0, 0, 0, 0, 0, 0, 0, 0, 0, 0, 0, 1,\n",
       "       0, 0, 0, 1, 0, 0, 0, 0, 0, 0, 0, 0, 0, 0, 0, 0, 0, 0, 0, 0, 0, 0,\n",
       "       0, 0, 0, 0, 0, 0, 0, 0, 1, 0, 0], dtype=int64)"
      ]
     },
     "execution_count": 16,
     "metadata": {},
     "output_type": "execute_result"
    }
   ],
   "source": [
    "y_test_pred"
   ]
  },
  {
   "cell_type": "markdown",
   "metadata": {
    "id": "bLJ98LL7Nu6o"
   },
   "source": [
    "### 1 means we predict that this is a luxury product (price > 500K), 0 means otherwise."
   ]
  },
  {
   "cell_type": "markdown",
   "metadata": {
    "id": "OUj3nV4WNu6o"
   },
   "source": [
    "<font color='red'>Assignment:</font> Calculate the training and testing accuracy scores."
   ]
  },
  {
   "cell_type": "code",
   "execution_count": null,
   "metadata": {
    "ExecuteTime": {
     "end_time": "2021-06-11T19:29:48.032400Z",
     "start_time": "2021-06-11T19:29:48.026427Z"
    },
    "id": "Xp6Z9eslNu6p",
    "outputId": "8a0b61f3-9f80-43ac-d3b8-706f388c7c4b"
   },
   "outputs": [
    {
     "data": {
      "text/plain": [
       "0.9397896264055132"
      ]
     },
     "execution_count": 17,
     "metadata": {},
     "output_type": "execute_result"
    }
   ],
   "source": [
    "from sklearn.metrics import accuracy_score\n",
    "\n",
    "accuracy_score(y_train, y_train_pred)"
   ]
  },
  {
   "cell_type": "code",
   "execution_count": null,
   "metadata": {
    "ExecuteTime": {
     "end_time": "2021-06-11T19:29:48.382291Z",
     "start_time": "2021-06-11T19:29:48.378290Z"
    },
    "id": "soCmHTJ-Nu6p",
    "outputId": "daac0c2d-08fc-46fa-c1ca-f53e89b4f83c"
   },
   "outputs": [
    {
     "data": {
      "text/plain": [
       "0.9067599067599068"
      ]
     },
     "execution_count": 18,
     "metadata": {},
     "output_type": "execute_result"
    }
   ],
   "source": [
    "accuracy_score(y_test, y_test_pred)"
   ]
  },
  {
   "cell_type": "markdown",
   "metadata": {
    "id": "hXYHFGbpNu6p"
   },
   "source": [
    "<font color='red'>Assignment:</font> Calculate the precision, recall, and f1 scores. You can use classification report."
   ]
  },
  {
   "cell_type": "code",
   "execution_count": null,
   "metadata": {
    "ExecuteTime": {
     "end_time": "2021-06-11T19:29:49.045686Z",
     "start_time": "2021-06-11T19:29:49.035686Z"
    },
    "id": "IE4fzTvUNu6p",
    "outputId": "395d0cc7-9936-49e8-b953-f8360c2978bb"
   },
   "outputs": [
    {
     "name": "stdout",
     "output_type": "stream",
     "text": [
      "              precision    recall  f1-score   support\n",
      "\n",
      "           0       0.94      0.99      0.97      2573\n",
      "           1       0.70      0.17      0.27       184\n",
      "\n",
      "    accuracy                           0.94      2757\n",
      "   macro avg       0.82      0.58      0.62      2757\n",
      "weighted avg       0.93      0.94      0.92      2757\n",
      "\n"
     ]
    }
   ],
   "source": [
    "from sklearn.metrics import classification_report\n",
    "\n",
    "print(classification_report(y_train, y_train_pred, labels=[0, 1]))"
   ]
  },
  {
   "cell_type": "code",
   "execution_count": null,
   "metadata": {
    "ExecuteTime": {
     "end_time": "2021-06-11T19:29:49.499429Z",
     "start_time": "2021-06-11T19:29:49.490456Z"
    },
    "id": "1AxQNUVPNu6q",
    "outputId": "c9a1144a-d491-4c26-fb0b-e5e7ac2abf5f"
   },
   "outputs": [
    {
     "name": "stdout",
     "output_type": "stream",
     "text": [
      "              precision    recall  f1-score   support\n",
      "\n",
      "           0       0.91      0.99      0.95       383\n",
      "           1       0.71      0.22      0.33        46\n",
      "\n",
      "    accuracy                           0.91       429\n",
      "   macro avg       0.81      0.60      0.64       429\n",
      "weighted avg       0.89      0.91      0.88       429\n",
      "\n"
     ]
    }
   ],
   "source": [
    "print(classification_report(y_test, y_test_pred, labels=[0, 1]))"
   ]
  },
  {
   "cell_type": "markdown",
   "metadata": {
    "id": "5-nUJV1FNu6q"
   },
   "source": [
    "<font color='red'>Assignment:</font> Get the confusion matrix."
   ]
  },
  {
   "cell_type": "code",
   "execution_count": null,
   "metadata": {
    "ExecuteTime": {
     "end_time": "2021-06-11T19:29:50.060151Z",
     "start_time": "2021-06-11T19:29:50.051126Z"
    },
    "id": "flGkI_N1Nu6q",
    "outputId": "4cefb11a-65d1-42fb-f98c-432c93410d2e"
   },
   "outputs": [
    {
     "data": {
      "text/plain": [
       "array([[2560,   13],\n",
       "       [ 153,   31]], dtype=int64)"
      ]
     },
     "execution_count": 21,
     "metadata": {},
     "output_type": "execute_result"
    }
   ],
   "source": [
    "from sklearn.metrics import confusion_matrix\n",
    "\n",
    "confusion_matrix(y_train, y_train_pred)"
   ]
  },
  {
   "cell_type": "code",
   "execution_count": null,
   "metadata": {
    "ExecuteTime": {
     "end_time": "2021-06-11T19:29:50.609396Z",
     "start_time": "2021-06-11T19:29:50.603397Z"
    },
    "id": "mTlF9tXMNu6r",
    "outputId": "6e8b113e-a46e-48ae-b245-59bc64847e85"
   },
   "outputs": [
    {
     "data": {
      "text/plain": [
       "array([[379,   4],\n",
       "       [ 36,  10]], dtype=int64)"
      ]
     },
     "execution_count": 22,
     "metadata": {},
     "output_type": "execute_result"
    }
   ],
   "source": [
    "confusion_matrix(y_test, y_test_pred)"
   ]
  },
  {
   "cell_type": "markdown",
   "metadata": {
    "id": "xw5tC_4sNu6r"
   },
   "source": [
    "#### <font color='red'>Note:</font> prediction is biased to the majority class due to data imbalance !!!"
   ]
  },
  {
   "cell_type": "markdown",
   "metadata": {
    "id": "IJDeZFXqNu6r"
   },
   "source": [
    "<font color='red'>Question:</font> Is this model better than the all-positive and all-negative models?"
   ]
  },
  {
   "cell_type": "markdown",
   "metadata": {
    "id": "26WRBsLZNu6r"
   },
   "source": [
    "### I think this model is better than the naive models."
   ]
  },
  {
   "cell_type": "markdown",
   "metadata": {
    "id": "MnLs1xatNu6r"
   },
   "source": [
    "## 2.2 Prediction with balanced class weights"
   ]
  },
  {
   "cell_type": "markdown",
   "metadata": {
    "id": "SMrL7_q5Nu6s"
   },
   "source": [
    "<font color='red'>Assignment:</font> Set class_weight in Logistic Regression and retrain the model."
   ]
  },
  {
   "cell_type": "code",
   "execution_count": null,
   "metadata": {
    "ExecuteTime": {
     "end_time": "2021-06-11T19:29:51.755360Z",
     "start_time": "2021-06-11T19:29:51.738358Z"
    },
    "id": "1bT9rQs7Nu6s"
   },
   "outputs": [],
   "source": [
    "steps = [('ctf', Cost_Transformer()),\n",
    "         ('rescale', MinMaxScaler()),\n",
    "         ('logr', LogisticRegression(class_weight = 'balanced'))]\n",
    "model = Pipeline(steps)\n",
    "model = model.fit(train_raw, y_train)"
   ]
  },
  {
   "cell_type": "code",
   "execution_count": null,
   "metadata": {
    "ExecuteTime": {
     "end_time": "2021-06-11T19:29:51.957526Z",
     "start_time": "2021-06-11T19:29:51.947524Z"
    },
    "id": "0252swcvNu6s"
   },
   "outputs": [],
   "source": [
    "y_train_pred = model.predict(train_raw)\n",
    "y_test_pred = model.predict(test_raw)"
   ]
  },
  {
   "cell_type": "markdown",
   "metadata": {
    "id": "FQATc2QnNu6s"
   },
   "source": [
    "<font color='red'>Assignment:</font> Re-calcualte all the above metrics and confusion matrix."
   ]
  },
  {
   "cell_type": "code",
   "execution_count": null,
   "metadata": {
    "ExecuteTime": {
     "end_time": "2021-06-11T19:29:52.369198Z",
     "start_time": "2021-06-11T19:29:52.363196Z"
    },
    "id": "ytQTi5VUNu6s",
    "outputId": "ef928201-5114-466d-aeb6-a54480ba3f60"
   },
   "outputs": [
    {
     "data": {
      "text/plain": [
       "0.8581791802684077"
      ]
     },
     "execution_count": 25,
     "metadata": {},
     "output_type": "execute_result"
    }
   ],
   "source": [
    "accuracy_score(y_train, y_train_pred)"
   ]
  },
  {
   "cell_type": "code",
   "execution_count": null,
   "metadata": {
    "ExecuteTime": {
     "end_time": "2021-06-11T19:29:52.576361Z",
     "start_time": "2021-06-11T19:29:52.571361Z"
    },
    "id": "L_u5lWADNu6s",
    "outputId": "65f029c7-9ec0-439f-b70a-a72718a431e2"
   },
   "outputs": [
    {
     "data": {
      "text/plain": [
       "0.8717948717948718"
      ]
     },
     "execution_count": 26,
     "metadata": {},
     "output_type": "execute_result"
    }
   ],
   "source": [
    "accuracy_score(y_test, y_test_pred)"
   ]
  },
  {
   "cell_type": "code",
   "execution_count": null,
   "metadata": {
    "ExecuteTime": {
     "end_time": "2021-06-11T19:29:52.814411Z",
     "start_time": "2021-06-11T19:29:52.802390Z"
    },
    "id": "e8lOhIUDNu6t",
    "outputId": "62dc8360-93f4-4ef3-d7c6-d30ff1b3b7ac"
   },
   "outputs": [
    {
     "name": "stdout",
     "output_type": "stream",
     "text": [
      "              precision    recall  f1-score   support\n",
      "\n",
      "           0       0.98      0.87      0.92      2573\n",
      "           1       0.28      0.71      0.40       184\n",
      "\n",
      "    accuracy                           0.86      2757\n",
      "   macro avg       0.63      0.79      0.66      2757\n",
      "weighted avg       0.93      0.86      0.88      2757\n",
      "\n"
     ]
    }
   ],
   "source": [
    "print(classification_report(y_train, y_train_pred, labels=[0, 1]))"
   ]
  },
  {
   "cell_type": "code",
   "execution_count": null,
   "metadata": {
    "ExecuteTime": {
     "end_time": "2021-06-11T19:29:53.026582Z",
     "start_time": "2021-06-11T19:29:53.018579Z"
    },
    "id": "mmHju53GNu6t",
    "outputId": "4e699080-3ac6-40b1-b95e-db71ce3dbb7f"
   },
   "outputs": [
    {
     "name": "stdout",
     "output_type": "stream",
     "text": [
      "              precision    recall  f1-score   support\n",
      "\n",
      "           0       0.97      0.89      0.92       383\n",
      "           1       0.44      0.76      0.56        46\n",
      "\n",
      "    accuracy                           0.87       429\n",
      "   macro avg       0.71      0.82      0.74       429\n",
      "weighted avg       0.91      0.87      0.89       429\n",
      "\n"
     ]
    }
   ],
   "source": [
    "print(classification_report(y_test, y_test_pred, labels=[0, 1]))"
   ]
  },
  {
   "cell_type": "code",
   "execution_count": null,
   "metadata": {
    "ExecuteTime": {
     "end_time": "2021-06-11T19:29:53.225041Z",
     "start_time": "2021-06-11T19:29:53.219034Z"
    },
    "id": "5tq09jvDNu6t",
    "outputId": "b16de953-8804-430d-9f8a-db79176e4a42"
   },
   "outputs": [
    {
     "data": {
      "text/plain": [
       "array([[2236,  337],\n",
       "       [  54,  130]], dtype=int64)"
      ]
     },
     "execution_count": 29,
     "metadata": {},
     "output_type": "execute_result"
    }
   ],
   "source": [
    "confusion_matrix(y_train, y_train_pred)"
   ]
  },
  {
   "cell_type": "code",
   "execution_count": null,
   "metadata": {
    "ExecuteTime": {
     "end_time": "2021-06-11T19:29:53.554038Z",
     "start_time": "2021-06-11T19:29:53.547036Z"
    },
    "id": "zpoM35IDNu6t",
    "outputId": "8468053a-99ee-455e-f035-7e1179496f6a"
   },
   "outputs": [
    {
     "data": {
      "text/plain": [
       "array([[339,  44],\n",
       "       [ 11,  35]], dtype=int64)"
      ]
     },
     "execution_count": 30,
     "metadata": {},
     "output_type": "execute_result"
    }
   ],
   "source": [
    "confusion_matrix(y_test, y_test_pred)"
   ]
  },
  {
   "cell_type": "markdown",
   "metadata": {
    "id": "eukuRONQNu6u"
   },
   "source": [
    "#### <font color='red'>Note:</font> now prediction is more aligned with truth"
   ]
  },
  {
   "cell_type": "markdown",
   "metadata": {
    "id": "BVXi5joUNu6u"
   },
   "source": [
    "<font color='red'>Question:</font> Do you see any difference? Why is the difference?"
   ]
  },
  {
   "cell_type": "markdown",
   "metadata": {
    "id": "esw3DxmZNu6u"
   },
   "source": [
    "### After we balance the data class distribution, the accuracy and precision decreased, which is to be expected. The recall increased because of the decreasing in fn. The new confusion matrix really shows that the data is much more balanced now therefore the classification model works in a more reasonable way."
   ]
  },
  {
   "cell_type": "markdown",
   "metadata": {
    "id": "qtk7_vkoNu6u"
   },
   "source": [
    "<font color='red'>Question:</font> Which results are more reasonable? Why?"
   ]
  },
  {
   "cell_type": "markdown",
   "metadata": {
    "id": "0EMMt88zNu6u"
   },
   "source": [
    "### The balanced result is more reasonable. Standard classifier algorithms like Decision Tree and Logistic Regression have a bias towards classes which have small number of instances. They tend to only predict the majority class data. The features of the minority class are treated as noise and are often ignored. Thus, there is a high probability of misclassification of the minority class as compared to the majority class. Therefore, we need to balance the data class distribution first before building any model."
   ]
  },
  {
   "cell_type": "markdown",
   "metadata": {
    "id": "ke4reWyFNu6v"
   },
   "source": [
    "<font color='red'>Question:</font> What are the other methods to deal with imbalanced data?"
   ]
  },
  {
   "cell_type": "markdown",
   "metadata": {
    "id": "n3WjD__4Nu6v"
   },
   "source": [
    "### (1) Random Up-sampling and down-sampling the training data\n",
    "### (2) Cluster-based Up-sampling\n",
    "### (3) Modifying existing classification algorithms to make them appropriate for imbalanced data sets. The approach involves constructing several two stage classifiers from the original data and then aggregate their predictions. (Bagging based and Boosting based)"
   ]
  },
  {
   "cell_type": "code",
   "execution_count": null,
   "metadata": {
    "id": "0bRFBag9Nu6v"
   },
   "outputs": [],
   "source": []
  }
 ],
 "metadata": {
  "colab": {
   "name": "18_logistic_regression_predict_updated.ipynb",
   "provenance": []
  },
  "kernelspec": {
   "display_name": "Python 3 (ipykernel)",
   "language": "python",
   "name": "python3"
  },
  "language_info": {
   "codemirror_mode": {
    "name": "ipython",
    "version": 3
   },
   "file_extension": ".py",
   "mimetype": "text/x-python",
   "name": "python",
   "nbconvert_exporter": "python",
   "pygments_lexer": "ipython3",
   "version": "3.9.12"
  },
  "varInspector": {
   "cols": {
    "lenName": 16,
    "lenType": 16,
    "lenVar": 40
   },
   "kernels_config": {
    "python": {
     "delete_cmd_postfix": "",
     "delete_cmd_prefix": "del ",
     "library": "var_list.py",
     "varRefreshCmd": "print(var_dic_list())"
    },
    "r": {
     "delete_cmd_postfix": ") ",
     "delete_cmd_prefix": "rm(",
     "library": "var_list.r",
     "varRefreshCmd": "cat(var_dic_list()) "
    }
   },
   "types_to_exclude": [
    "module",
    "function",
    "builtin_function_or_method",
    "instance",
    "_Feature"
   ],
   "window_display": false
  }
 },
 "nbformat": 4,
 "nbformat_minor": 1
}

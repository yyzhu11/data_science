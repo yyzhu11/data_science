{
 "cells": [
  {
   "cell_type": "markdown",
   "metadata": {
    "id": "NAU219AzA-sD"
   },
   "source": [
    "## From this notebook, we are going to build forcasting models to predict sale price."
   ]
  },
  {
   "cell_type": "code",
   "execution_count": 1,
   "metadata": {
    "id": "06wupD7HA-sI"
   },
   "outputs": [],
   "source": [
    "import pandas as pd"
   ]
  },
  {
   "cell_type": "code",
   "execution_count": 2,
   "metadata": {
    "id": "DBiuBc1SA-sJ"
   },
   "outputs": [],
   "source": [
    "# df = pd.read_csv('../data/sales.csv')\n",
    "df = pd.read_csv('sales.csv')"
   ]
  },
  {
   "cell_type": "code",
   "execution_count": 3,
   "metadata": {
    "id": "5V9jU9l0A-sK"
   },
   "outputs": [],
   "source": [
    "df.dropna(subset=['price'], inplace=True)"
   ]
  },
  {
   "cell_type": "code",
   "execution_count": 4,
   "metadata": {
    "id": "zjX9B2RFA-sK",
    "outputId": "90db1b6d-4a48-4b17-bd6b-31313a32c428"
   },
   "outputs": [
    {
     "data": {
      "text/html": [
       "<div>\n",
       "<style scoped>\n",
       "    .dataframe tbody tr th:only-of-type {\n",
       "        vertical-align: middle;\n",
       "    }\n",
       "\n",
       "    .dataframe tbody tr th {\n",
       "        vertical-align: top;\n",
       "    }\n",
       "\n",
       "    .dataframe thead th {\n",
       "        text-align: right;\n",
       "    }\n",
       "</style>\n",
       "<table border=\"1\" class=\"dataframe\">\n",
       "  <thead>\n",
       "    <tr style=\"text-align: right;\">\n",
       "      <th></th>\n",
       "      <th>cost</th>\n",
       "      <th>price</th>\n",
       "      <th>weight</th>\n",
       "      <th>purchase_date</th>\n",
       "      <th>product_type</th>\n",
       "      <th>product_level</th>\n",
       "      <th>maker</th>\n",
       "      <th>ingredient</th>\n",
       "      <th>height</th>\n",
       "      <th>width</th>\n",
       "      <th>depth</th>\n",
       "    </tr>\n",
       "  </thead>\n",
       "  <tbody>\n",
       "    <tr>\n",
       "      <th>0</th>\n",
       "      <td>$333k</td>\n",
       "      <td>$300,492</td>\n",
       "      <td>3 Ton 90 Kg</td>\n",
       "      <td>Dec 19 2008</td>\n",
       "      <td>Q,B</td>\n",
       "      <td>advanced</td>\n",
       "      <td>M14122</td>\n",
       "      <td>IN732052,IN732053</td>\n",
       "      <td>2.76 meters</td>\n",
       "      <td>97 cm</td>\n",
       "      <td>26 cm</td>\n",
       "    </tr>\n",
       "    <tr>\n",
       "      <th>1</th>\n",
       "      <td>NaN</td>\n",
       "      <td>$430,570</td>\n",
       "      <td>3 Ton 30 Kg</td>\n",
       "      <td>Sep 10 1997</td>\n",
       "      <td>J,D</td>\n",
       "      <td>basic</td>\n",
       "      <td>NaN</td>\n",
       "      <td>IN732054,IN732055,IN732056,IN732057,IN732058</td>\n",
       "      <td>2.67 meters</td>\n",
       "      <td>98 cm</td>\n",
       "      <td>26 cm</td>\n",
       "    </tr>\n",
       "    <tr>\n",
       "      <th>2</th>\n",
       "      <td>$270k</td>\n",
       "      <td>$213,070</td>\n",
       "      <td>3 Ton 40 Kg</td>\n",
       "      <td>Sep 05 2001</td>\n",
       "      <td>J,D</td>\n",
       "      <td>basic</td>\n",
       "      <td>NaN</td>\n",
       "      <td>IN732054,IN732059,IN732060</td>\n",
       "      <td>3.0 meters</td>\n",
       "      <td>93 cm</td>\n",
       "      <td>24 cm</td>\n",
       "    </tr>\n",
       "    <tr>\n",
       "      <th>3</th>\n",
       "      <td>NaN</td>\n",
       "      <td>$229,174</td>\n",
       "      <td>3 Ton 50 Kg</td>\n",
       "      <td>Dec 23 2016</td>\n",
       "      <td>U</td>\n",
       "      <td>advanced</td>\n",
       "      <td>M14123</td>\n",
       "      <td>IN732061,IN732062,IN732063</td>\n",
       "      <td>2.5 meters</td>\n",
       "      <td>102 cm</td>\n",
       "      <td>27 cm</td>\n",
       "    </tr>\n",
       "    <tr>\n",
       "      <th>4</th>\n",
       "      <td>$97k</td>\n",
       "      <td>$122,659</td>\n",
       "      <td>2 Ton 970 Kg</td>\n",
       "      <td>Jan 12 2000</td>\n",
       "      <td>D,R</td>\n",
       "      <td>advanced</td>\n",
       "      <td>NaN</td>\n",
       "      <td>IN732064,IN732065,IN732066</td>\n",
       "      <td>2.47 meters</td>\n",
       "      <td>101 cm</td>\n",
       "      <td>26 cm</td>\n",
       "    </tr>\n",
       "  </tbody>\n",
       "</table>\n",
       "</div>"
      ],
      "text/plain": [
       "    cost     price        weight purchase_date product_type product_level  \\\n",
       "0  $333k  $300,492   3 Ton 90 Kg   Dec 19 2008          Q,B      advanced   \n",
       "1    NaN  $430,570   3 Ton 30 Kg   Sep 10 1997          J,D         basic   \n",
       "2  $270k  $213,070   3 Ton 40 Kg   Sep 05 2001          J,D         basic   \n",
       "3    NaN  $229,174   3 Ton 50 Kg   Dec 23 2016            U      advanced   \n",
       "4   $97k  $122,659  2 Ton 970 Kg   Jan 12 2000          D,R      advanced   \n",
       "\n",
       "    maker                                    ingredient       height   width  \\\n",
       "0  M14122                             IN732052,IN732053  2.76 meters   97 cm   \n",
       "1     NaN  IN732054,IN732055,IN732056,IN732057,IN732058  2.67 meters   98 cm   \n",
       "2     NaN                    IN732054,IN732059,IN732060   3.0 meters   93 cm   \n",
       "3  M14123                    IN732061,IN732062,IN732063   2.5 meters  102 cm   \n",
       "4     NaN                    IN732064,IN732065,IN732066  2.47 meters  101 cm   \n",
       "\n",
       "   depth  \n",
       "0  26 cm  \n",
       "1  26 cm  \n",
       "2  24 cm  \n",
       "3  27 cm  \n",
       "4  26 cm  "
      ]
     },
     "execution_count": 4,
     "metadata": {},
     "output_type": "execute_result"
    }
   ],
   "source": [
    "df.head()"
   ]
  },
  {
   "cell_type": "markdown",
   "metadata": {
    "id": "Y7aubR8dA-sL"
   },
   "source": [
    "# 1. Data Split"
   ]
  },
  {
   "cell_type": "markdown",
   "metadata": {
    "id": "xeSdqHP_A-sL"
   },
   "source": [
    "<font color='red'>Assignment:</font> Split the DataFrame into two parts. One contains the sales happened before 2015. The other contains the sales happened not earlier than 2015. Name these two parts **train_raw** and **test_raw**, respectively."
   ]
  },
  {
   "cell_type": "code",
   "execution_count": 5,
   "metadata": {
    "id": "R8K3ITtRA-sM"
   },
   "outputs": [],
   "source": [
    "df['purchase_date'] = pd.to_datetime(df['purchase_date'])"
   ]
  },
  {
   "cell_type": "code",
   "execution_count": 6,
   "metadata": {
    "id": "saP0ALLVA-sN",
    "outputId": "f954d7d9-4529-437e-8436-c01b7f1e76d5"
   },
   "outputs": [
    {
     "data": {
      "text/html": [
       "<div>\n",
       "<style scoped>\n",
       "    .dataframe tbody tr th:only-of-type {\n",
       "        vertical-align: middle;\n",
       "    }\n",
       "\n",
       "    .dataframe tbody tr th {\n",
       "        vertical-align: top;\n",
       "    }\n",
       "\n",
       "    .dataframe thead th {\n",
       "        text-align: right;\n",
       "    }\n",
       "</style>\n",
       "<table border=\"1\" class=\"dataframe\">\n",
       "  <thead>\n",
       "    <tr style=\"text-align: right;\">\n",
       "      <th></th>\n",
       "      <th>cost</th>\n",
       "      <th>price</th>\n",
       "      <th>weight</th>\n",
       "      <th>purchase_date</th>\n",
       "      <th>product_type</th>\n",
       "      <th>product_level</th>\n",
       "      <th>maker</th>\n",
       "      <th>ingredient</th>\n",
       "      <th>height</th>\n",
       "      <th>width</th>\n",
       "      <th>depth</th>\n",
       "    </tr>\n",
       "  </thead>\n",
       "  <tbody>\n",
       "    <tr>\n",
       "      <th>0</th>\n",
       "      <td>$333k</td>\n",
       "      <td>$300,492</td>\n",
       "      <td>3 Ton 90 Kg</td>\n",
       "      <td>2008-12-19</td>\n",
       "      <td>Q,B</td>\n",
       "      <td>advanced</td>\n",
       "      <td>M14122</td>\n",
       "      <td>IN732052,IN732053</td>\n",
       "      <td>2.76 meters</td>\n",
       "      <td>97 cm</td>\n",
       "      <td>26 cm</td>\n",
       "    </tr>\n",
       "    <tr>\n",
       "      <th>1</th>\n",
       "      <td>NaN</td>\n",
       "      <td>$430,570</td>\n",
       "      <td>3 Ton 30 Kg</td>\n",
       "      <td>1997-09-10</td>\n",
       "      <td>J,D</td>\n",
       "      <td>basic</td>\n",
       "      <td>NaN</td>\n",
       "      <td>IN732054,IN732055,IN732056,IN732057,IN732058</td>\n",
       "      <td>2.67 meters</td>\n",
       "      <td>98 cm</td>\n",
       "      <td>26 cm</td>\n",
       "    </tr>\n",
       "    <tr>\n",
       "      <th>2</th>\n",
       "      <td>$270k</td>\n",
       "      <td>$213,070</td>\n",
       "      <td>3 Ton 40 Kg</td>\n",
       "      <td>2001-09-05</td>\n",
       "      <td>J,D</td>\n",
       "      <td>basic</td>\n",
       "      <td>NaN</td>\n",
       "      <td>IN732054,IN732059,IN732060</td>\n",
       "      <td>3.0 meters</td>\n",
       "      <td>93 cm</td>\n",
       "      <td>24 cm</td>\n",
       "    </tr>\n",
       "    <tr>\n",
       "      <th>3</th>\n",
       "      <td>NaN</td>\n",
       "      <td>$229,174</td>\n",
       "      <td>3 Ton 50 Kg</td>\n",
       "      <td>2016-12-23</td>\n",
       "      <td>U</td>\n",
       "      <td>advanced</td>\n",
       "      <td>M14123</td>\n",
       "      <td>IN732061,IN732062,IN732063</td>\n",
       "      <td>2.5 meters</td>\n",
       "      <td>102 cm</td>\n",
       "      <td>27 cm</td>\n",
       "    </tr>\n",
       "    <tr>\n",
       "      <th>4</th>\n",
       "      <td>$97k</td>\n",
       "      <td>$122,659</td>\n",
       "      <td>2 Ton 970 Kg</td>\n",
       "      <td>2000-01-12</td>\n",
       "      <td>D,R</td>\n",
       "      <td>advanced</td>\n",
       "      <td>NaN</td>\n",
       "      <td>IN732064,IN732065,IN732066</td>\n",
       "      <td>2.47 meters</td>\n",
       "      <td>101 cm</td>\n",
       "      <td>26 cm</td>\n",
       "    </tr>\n",
       "  </tbody>\n",
       "</table>\n",
       "</div>"
      ],
      "text/plain": [
       "    cost     price        weight purchase_date product_type product_level  \\\n",
       "0  $333k  $300,492   3 Ton 90 Kg    2008-12-19          Q,B      advanced   \n",
       "1    NaN  $430,570   3 Ton 30 Kg    1997-09-10          J,D         basic   \n",
       "2  $270k  $213,070   3 Ton 40 Kg    2001-09-05          J,D         basic   \n",
       "3    NaN  $229,174   3 Ton 50 Kg    2016-12-23            U      advanced   \n",
       "4   $97k  $122,659  2 Ton 970 Kg    2000-01-12          D,R      advanced   \n",
       "\n",
       "    maker                                    ingredient       height   width  \\\n",
       "0  M14122                             IN732052,IN732053  2.76 meters   97 cm   \n",
       "1     NaN  IN732054,IN732055,IN732056,IN732057,IN732058  2.67 meters   98 cm   \n",
       "2     NaN                    IN732054,IN732059,IN732060   3.0 meters   93 cm   \n",
       "3  M14123                    IN732061,IN732062,IN732063   2.5 meters  102 cm   \n",
       "4     NaN                    IN732064,IN732065,IN732066  2.47 meters  101 cm   \n",
       "\n",
       "   depth  \n",
       "0  26 cm  \n",
       "1  26 cm  \n",
       "2  24 cm  \n",
       "3  27 cm  \n",
       "4  26 cm  "
      ]
     },
     "execution_count": 6,
     "metadata": {},
     "output_type": "execute_result"
    }
   ],
   "source": [
    "df.head()"
   ]
  },
  {
   "cell_type": "code",
   "execution_count": 7,
   "metadata": {
    "id": "tjX8TexeA-sN"
   },
   "outputs": [],
   "source": [
    "train_raw = df[df['purchase_date'] < '2015-01-01']"
   ]
  },
  {
   "cell_type": "code",
   "execution_count": 8,
   "metadata": {
    "id": "9s7_-Z3jA-sO",
    "outputId": "9d08fb53-10d3-4073-8acb-276179b85e25"
   },
   "outputs": [
    {
     "data": {
      "text/plain": [
       "2757"
      ]
     },
     "execution_count": 8,
     "metadata": {},
     "output_type": "execute_result"
    }
   ],
   "source": [
    "len(train_raw)"
   ]
  },
  {
   "cell_type": "code",
   "execution_count": 9,
   "metadata": {
    "id": "RJHAq2ClA-sP"
   },
   "outputs": [],
   "source": [
    "test_raw = df[df['purchase_date'] >= '2015-01-01']"
   ]
  },
  {
   "cell_type": "code",
   "execution_count": 10,
   "metadata": {
    "id": "NzgtoYndA-sQ",
    "outputId": "1b0704d9-6c3d-4f24-cc10-ffc4f6ec0916"
   },
   "outputs": [
    {
     "data": {
      "text/plain": [
       "429"
      ]
     },
     "execution_count": 10,
     "metadata": {},
     "output_type": "execute_result"
    }
   ],
   "source": [
    "len(test_raw)"
   ]
  },
  {
   "cell_type": "markdown",
   "metadata": {
    "id": "8MgjkLqSA-sR"
   },
   "source": [
    "<font color='red'>Question:</font> Why do we want to split data in this way?"
   ]
  },
  {
   "cell_type": "markdown",
   "metadata": {
    "id": "vbNAu3lSA-sR"
   },
   "source": [
    "## Since the goal is to forcast future price, we aim at using past sales (the older sales) to predict the future sales (the more recent sales). ???"
   ]
  },
  {
   "cell_type": "markdown",
   "metadata": {
    "id": "lDGkDCE2A-sS"
   },
   "source": []
  },
  {
   "cell_type": "markdown",
   "metadata": {
    "id": "Exix7ShMA-sS"
   },
   "source": [
    "# 2. Generate Targets"
   ]
  },
  {
   "cell_type": "markdown",
   "metadata": {
    "id": "h4CruqsBA-sS"
   },
   "source": [
    "<font color='red'>Assignment:</font> Transform the **price** columns in **train_raw** and **test_raw** into two numerical series. Name them as **y_train** and **y_test**."
   ]
  },
  {
   "cell_type": "code",
   "execution_count": 12,
   "metadata": {
    "id": "O_dPu2l3A-sS"
   },
   "outputs": [],
   "source": [
    "y_train = train_raw.price.map(lambda x: x if type(x) == float else float(x.strip('$').replace(',', '')))"
   ]
  },
  {
   "cell_type": "code",
   "execution_count": 13,
   "metadata": {
    "id": "puWawTnmA-sT"
   },
   "outputs": [],
   "source": [
    "y_test = test_raw.price.map(lambda x: x if type(x) == float else float(x.strip('$').replace(',', '')))"
   ]
  },
  {
   "cell_type": "code",
   "execution_count": 14,
   "metadata": {
    "id": "-to-ByofA-sT",
    "outputId": "948aae6a-9df2-4be0-ecfc-54c41ecd70bd"
   },
   "outputs": [
    {
     "data": {
      "text/html": [
       "<div>\n",
       "<style scoped>\n",
       "    .dataframe tbody tr th:only-of-type {\n",
       "        vertical-align: middle;\n",
       "    }\n",
       "\n",
       "    .dataframe tbody tr th {\n",
       "        vertical-align: top;\n",
       "    }\n",
       "\n",
       "    .dataframe thead th {\n",
       "        text-align: right;\n",
       "    }\n",
       "</style>\n",
       "<table border=\"1\" class=\"dataframe\">\n",
       "  <thead>\n",
       "    <tr style=\"text-align: right;\">\n",
       "      <th></th>\n",
       "      <th>cost</th>\n",
       "      <th>price</th>\n",
       "      <th>weight</th>\n",
       "      <th>purchase_date</th>\n",
       "      <th>product_type</th>\n",
       "      <th>product_level</th>\n",
       "      <th>maker</th>\n",
       "      <th>ingredient</th>\n",
       "      <th>height</th>\n",
       "      <th>width</th>\n",
       "      <th>depth</th>\n",
       "    </tr>\n",
       "  </thead>\n",
       "  <tbody>\n",
       "    <tr>\n",
       "      <th>0</th>\n",
       "      <td>$333k</td>\n",
       "      <td>$300,492</td>\n",
       "      <td>3 Ton 90 Kg</td>\n",
       "      <td>2008-12-19</td>\n",
       "      <td>Q,B</td>\n",
       "      <td>advanced</td>\n",
       "      <td>M14122</td>\n",
       "      <td>IN732052,IN732053</td>\n",
       "      <td>2.76 meters</td>\n",
       "      <td>97 cm</td>\n",
       "      <td>26 cm</td>\n",
       "    </tr>\n",
       "    <tr>\n",
       "      <th>1</th>\n",
       "      <td>NaN</td>\n",
       "      <td>$430,570</td>\n",
       "      <td>3 Ton 30 Kg</td>\n",
       "      <td>1997-09-10</td>\n",
       "      <td>J,D</td>\n",
       "      <td>basic</td>\n",
       "      <td>NaN</td>\n",
       "      <td>IN732054,IN732055,IN732056,IN732057,IN732058</td>\n",
       "      <td>2.67 meters</td>\n",
       "      <td>98 cm</td>\n",
       "      <td>26 cm</td>\n",
       "    </tr>\n",
       "    <tr>\n",
       "      <th>2</th>\n",
       "      <td>$270k</td>\n",
       "      <td>$213,070</td>\n",
       "      <td>3 Ton 40 Kg</td>\n",
       "      <td>2001-09-05</td>\n",
       "      <td>J,D</td>\n",
       "      <td>basic</td>\n",
       "      <td>NaN</td>\n",
       "      <td>IN732054,IN732059,IN732060</td>\n",
       "      <td>3.0 meters</td>\n",
       "      <td>93 cm</td>\n",
       "      <td>24 cm</td>\n",
       "    </tr>\n",
       "    <tr>\n",
       "      <th>4</th>\n",
       "      <td>$97k</td>\n",
       "      <td>$122,659</td>\n",
       "      <td>2 Ton 970 Kg</td>\n",
       "      <td>2000-01-12</td>\n",
       "      <td>D,R</td>\n",
       "      <td>advanced</td>\n",
       "      <td>NaN</td>\n",
       "      <td>IN732064,IN732065,IN732066</td>\n",
       "      <td>2.47 meters</td>\n",
       "      <td>101 cm</td>\n",
       "      <td>26 cm</td>\n",
       "    </tr>\n",
       "    <tr>\n",
       "      <th>5</th>\n",
       "      <td>$59k</td>\n",
       "      <td>$60,320</td>\n",
       "      <td>2 Ton 930 Kg</td>\n",
       "      <td>2011-08-19</td>\n",
       "      <td>H</td>\n",
       "      <td>super advanced</td>\n",
       "      <td>M14124</td>\n",
       "      <td>IN732067,IN732068,IN732069,IN732070,IN732071,I...</td>\n",
       "      <td>2.71 meters</td>\n",
       "      <td>96 cm</td>\n",
       "      <td>25 cm</td>\n",
       "    </tr>\n",
       "    <tr>\n",
       "      <th>...</th>\n",
       "      <td>...</td>\n",
       "      <td>...</td>\n",
       "      <td>...</td>\n",
       "      <td>...</td>\n",
       "      <td>...</td>\n",
       "      <td>...</td>\n",
       "      <td>...</td>\n",
       "      <td>...</td>\n",
       "      <td>...</td>\n",
       "      <td>...</td>\n",
       "      <td>...</td>\n",
       "    </tr>\n",
       "    <tr>\n",
       "      <th>3190</th>\n",
       "      <td>$254k</td>\n",
       "      <td>$255,179</td>\n",
       "      <td>3 Ton 40 Kg</td>\n",
       "      <td>2012-04-20</td>\n",
       "      <td>D</td>\n",
       "      <td>intermediate</td>\n",
       "      <td>M14261</td>\n",
       "      <td>IN732220,IN732456,IN733681,IN732831,IN733123,I...</td>\n",
       "      <td>2.02 meters</td>\n",
       "      <td>113 cm</td>\n",
       "      <td>30 cm</td>\n",
       "    </tr>\n",
       "    <tr>\n",
       "      <th>3191</th>\n",
       "      <td>$91k</td>\n",
       "      <td>$144,631</td>\n",
       "      <td>2 Ton 890 Kg</td>\n",
       "      <td>2002-07-12</td>\n",
       "      <td>D</td>\n",
       "      <td>advanced</td>\n",
       "      <td>M14904</td>\n",
       "      <td>IN732503,IN732583,IN732373,IN732338,IN732347,I...</td>\n",
       "      <td>2.52 meters</td>\n",
       "      <td>99 cm</td>\n",
       "      <td>26 cm</td>\n",
       "    </tr>\n",
       "    <tr>\n",
       "      <th>3193</th>\n",
       "      <td>NaN</td>\n",
       "      <td>$40,384</td>\n",
       "      <td>2 Ton 830 Kg</td>\n",
       "      <td>2007-05-25</td>\n",
       "      <td>J,B</td>\n",
       "      <td>intermediate</td>\n",
       "      <td>M14578</td>\n",
       "      <td>IN732832,IN732166,IN733162,IN733785,IN732069,I...</td>\n",
       "      <td>2.15 meters</td>\n",
       "      <td>106 cm</td>\n",
       "      <td>28 cm</td>\n",
       "    </tr>\n",
       "    <tr>\n",
       "      <th>3195</th>\n",
       "      <td>$44k</td>\n",
       "      <td>$55,931</td>\n",
       "      <td>2 Ton 950 Kg</td>\n",
       "      <td>2002-04-12</td>\n",
       "      <td>R</td>\n",
       "      <td>advanced</td>\n",
       "      <td>M14341</td>\n",
       "      <td>IN732587</td>\n",
       "      <td>2.52 meters</td>\n",
       "      <td>100 cm</td>\n",
       "      <td>26 cm</td>\n",
       "    </tr>\n",
       "    <tr>\n",
       "      <th>3196</th>\n",
       "      <td>$128k</td>\n",
       "      <td>$44,370</td>\n",
       "      <td>2 Ton 980 Kg</td>\n",
       "      <td>2003-06-13</td>\n",
       "      <td>N</td>\n",
       "      <td>super advanced</td>\n",
       "      <td>NaN</td>\n",
       "      <td>NaN</td>\n",
       "      <td>2.96 meters</td>\n",
       "      <td>92 cm</td>\n",
       "      <td>24 cm</td>\n",
       "    </tr>\n",
       "  </tbody>\n",
       "</table>\n",
       "<p>2757 rows × 11 columns</p>\n",
       "</div>"
      ],
      "text/plain": [
       "       cost     price        weight purchase_date product_type  \\\n",
       "0     $333k  $300,492   3 Ton 90 Kg    2008-12-19          Q,B   \n",
       "1       NaN  $430,570   3 Ton 30 Kg    1997-09-10          J,D   \n",
       "2     $270k  $213,070   3 Ton 40 Kg    2001-09-05          J,D   \n",
       "4      $97k  $122,659  2 Ton 970 Kg    2000-01-12          D,R   \n",
       "5      $59k   $60,320  2 Ton 930 Kg    2011-08-19            H   \n",
       "...     ...       ...           ...           ...          ...   \n",
       "3190  $254k  $255,179   3 Ton 40 Kg    2012-04-20            D   \n",
       "3191   $91k  $144,631  2 Ton 890 Kg    2002-07-12            D   \n",
       "3193    NaN   $40,384  2 Ton 830 Kg    2007-05-25          J,B   \n",
       "3195   $44k   $55,931  2 Ton 950 Kg    2002-04-12            R   \n",
       "3196  $128k   $44,370  2 Ton 980 Kg    2003-06-13            N   \n",
       "\n",
       "       product_level   maker  \\\n",
       "0           advanced  M14122   \n",
       "1              basic     NaN   \n",
       "2              basic     NaN   \n",
       "4           advanced     NaN   \n",
       "5     super advanced  M14124   \n",
       "...              ...     ...   \n",
       "3190    intermediate  M14261   \n",
       "3191        advanced  M14904   \n",
       "3193    intermediate  M14578   \n",
       "3195        advanced  M14341   \n",
       "3196  super advanced     NaN   \n",
       "\n",
       "                                             ingredient       height   width  \\\n",
       "0                                     IN732052,IN732053  2.76 meters   97 cm   \n",
       "1          IN732054,IN732055,IN732056,IN732057,IN732058  2.67 meters   98 cm   \n",
       "2                            IN732054,IN732059,IN732060   3.0 meters   93 cm   \n",
       "4                            IN732064,IN732065,IN732066  2.47 meters  101 cm   \n",
       "5     IN732067,IN732068,IN732069,IN732070,IN732071,I...  2.71 meters   96 cm   \n",
       "...                                                 ...          ...     ...   \n",
       "3190  IN732220,IN732456,IN733681,IN732831,IN733123,I...  2.02 meters  113 cm   \n",
       "3191  IN732503,IN732583,IN732373,IN732338,IN732347,I...  2.52 meters   99 cm   \n",
       "3193  IN732832,IN732166,IN733162,IN733785,IN732069,I...  2.15 meters  106 cm   \n",
       "3195                                           IN732587  2.52 meters  100 cm   \n",
       "3196                                                NaN  2.96 meters   92 cm   \n",
       "\n",
       "      depth  \n",
       "0     26 cm  \n",
       "1     26 cm  \n",
       "2     24 cm  \n",
       "4     26 cm  \n",
       "5     25 cm  \n",
       "...     ...  \n",
       "3190  30 cm  \n",
       "3191  26 cm  \n",
       "3193  28 cm  \n",
       "3195  26 cm  \n",
       "3196  24 cm  \n",
       "\n",
       "[2757 rows x 11 columns]"
      ]
     },
     "execution_count": 14,
     "metadata": {},
     "output_type": "execute_result"
    }
   ],
   "source": [
    "train_raw"
   ]
  },
  {
   "cell_type": "markdown",
   "metadata": {
    "id": "e9x90S6BA-sU"
   },
   "source": [
    "## <font color='blue'>Question: Why do we use series all the time instead of modifying the dataframe directly?</font>"
   ]
  },
  {
   "cell_type": "markdown",
   "metadata": {
    "id": "vlCvI1ieA-sU"
   },
   "source": [
    "# 3. Simplest Models"
   ]
  },
  {
   "cell_type": "markdown",
   "metadata": {
    "id": "PVs6xTMpA-sU"
   },
   "source": [
    "## 3.1 Random Guess Model"
   ]
  },
  {
   "cell_type": "markdown",
   "metadata": {
    "id": "34sGbE6pA-sU"
   },
   "source": [
    "### 3.1.1 Model Building"
   ]
  },
  {
   "cell_type": "markdown",
   "metadata": {
    "id": "hVnjJB6GA-sU"
   },
   "source": [
    "**Example:** Class for random guess model."
   ]
  },
  {
   "cell_type": "code",
   "execution_count": 17,
   "metadata": {
    "id": "5axp8UpZA-sV"
   },
   "outputs": [],
   "source": [
    "import numpy as np\n",
    "\n",
    "class random_guess(object):\n",
    "    \"\"\"\n",
    "    This class provides random values between the minimum and maximum \n",
    "    of y_train as predictions.\n",
    "    \"\"\"\n",
    "    \n",
    "    def fit(self, y_train):\n",
    "        self.y_min = min(y_train)\n",
    "        self.y_max = max(y_train)\n",
    "        \n",
    "    def predict(self, y_test):\n",
    "        length = len(y_test)\n",
    "        return np.random.uniform(self.y_min, self.y_max, length)"
   ]
  },
  {
   "cell_type": "markdown",
   "metadata": {
    "id": "6rPJAbV1A-sV"
   },
   "source": [
    "**Example:** Initialize model"
   ]
  },
  {
   "cell_type": "code",
   "execution_count": null,
   "metadata": {
    "id": "BCIAr5bPA-sV"
   },
   "outputs": [],
   "source": [
    "model = random_guess() # creat an instance/object of the random_guess class"
   ]
  },
  {
   "cell_type": "markdown",
   "metadata": {
    "id": "3D5mXXJbA-sV"
   },
   "source": [
    "**Example:** Train the model using **y_train**"
   ]
  },
  {
   "cell_type": "code",
   "execution_count": null,
   "metadata": {
    "id": "tKS5vz6zA-sV"
   },
   "outputs": [],
   "source": [
    "model.fit(y_train)"
   ]
  },
  {
   "cell_type": "markdown",
   "metadata": {
    "id": "vUDU1xl9A-sW"
   },
   "source": [
    "### 3.1.2 Training Loss"
   ]
  },
  {
   "cell_type": "markdown",
   "metadata": {
    "id": "2oCLA5fYA-sW"
   },
   "source": [
    "**Example:** Make prediction using the **training data**"
   ]
  },
  {
   "cell_type": "code",
   "execution_count": null,
   "metadata": {
    "id": "_-XdEPPoA-sW"
   },
   "outputs": [],
   "source": [
    "y_train_pred = model.predict(y_train)"
   ]
  },
  {
   "cell_type": "markdown",
   "metadata": {
    "id": "uwo2LfVZA-sW"
   },
   "source": [
    "**Example:** Visualize the difference between predictions and ground truth"
   ]
  },
  {
   "cell_type": "code",
   "execution_count": null,
   "metadata": {
    "id": "vXzVKFsuA-sW"
   },
   "outputs": [],
   "source": [
    "import matplotlib.pylab as plt\n",
    "%matplotlib inline"
   ]
  },
  {
   "cell_type": "code",
   "execution_count": null,
   "metadata": {
    "id": "F75Dxkw0A-sW",
    "outputId": "6d0c4f1c-47a6-4e47-958f-5237eaaf0316"
   },
   "outputs": [
    {
     "data": {
      "text/plain": [
       "Text(0, 0.5, 'y_train_pred')"
      ]
     },
     "execution_count": 19,
     "metadata": {},
     "output_type": "execute_result"
    },
    {
     "data": {
      "image/png": "[encoded data removed]",
      "text/plain": [
       "<Figure size 432x288 with 1 Axes>"
      ]
     },
     "metadata": {
      "needs_background": "light"
     },
     "output_type": "display_data"
    }
   ],
   "source": [
    "plt.scatter(y_train, y_train_pred, alpha=0.3)\n",
    "plt.xlabel('y_train')\n",
    "plt.ylabel('y_train_pred')"
   ]
  },
  {
   "cell_type": "markdown",
   "metadata": {
    "id": "CBQKL4G7A-sX"
   },
   "source": [
    "**Example:** Calculate the **training loss**"
   ]
  },
  {
   "cell_type": "code",
   "execution_count": 21,
   "metadata": {
    "id": "SVw1-ZcwA-sX"
   },
   "outputs": [],
   "source": [
    "from sklearn.metrics import mean_absolute_error, mean_squared_error, r2_score"
   ]
  },
  {
   "cell_type": "code",
   "execution_count": null,
   "metadata": {
    "id": "xdznWbstA-sX",
    "outputId": "6f190769-12fa-4473-b9ac-c0574e99e6b4"
   },
   "outputs": [
    {
     "name": "stdout",
     "output_type": "stream",
     "text": [
      "train MAE: 1.02e+06\n",
      "train MSE: 1.49e+12\n",
      "train R2: -33.876\n"
     ]
    }
   ],
   "source": [
    "print('train MAE: {0:.2e}'.format(mean_absolute_error(y_train, y_train_pred)))\n",
    "print('train MSE: {0:.2e}'.format(mean_squared_error(y_train, y_train_pred)))\n",
    "print('train R2: {0:.3f}'.format(r2_score(y_train, y_train_pred)))"
   ]
  },
  {
   "cell_type": "markdown",
   "metadata": {
    "id": "N87mPnWuA-sX"
   },
   "source": [
    "<font color='red'>Question:</font> What is a metric?"
   ]
  },
  {
   "cell_type": "markdown",
   "metadata": {
    "id": "e6RRalVCA-sX"
   },
   "source": [
    "### A measure for quantitatively comparing or assessing"
   ]
  },
  {
   "cell_type": "markdown",
   "metadata": {
    "id": "jjyoFGTyA-sY"
   },
   "source": [
    "<font color='red'>Question:</font> How these metrics are calculated? What do they measure?"
   ]
  },
  {
   "cell_type": "markdown",
   "metadata": {
    "id": "gorNe9HHA-sY"
   },
   "source": [
    "### Mean absolute error (MAE) is a measure of difference between two variables. -- MAE robust to outliers \n",
    "### $ MAE = \\frac{\\sum_{i = 1}^{n} |y_i - \\hat{y}_i|}{n} $"
   ]
  },
  {
   "cell_type": "markdown",
   "metadata": {
    "id": "or0fqxECA-sY"
   },
   "source": [
    "### Mean squared error (MSE) measures the average of the squares of the errors. It's good to use MSE if the data has a lot of outliers. The square will emphasize on the outlier errors. -- MSE to check outliers\n",
    "### $ MSE = \\frac{\\sum_{i = 1}^{n} |y_i - \\hat{y}_i|^2}{n} $"
   ]
  },
  {
   "cell_type": "markdown",
   "metadata": {
    "id": "ihiFXihZA-sY"
   },
   "source": [
    "### R squared represents the proportion of the variance for a dependent variable that's explained by an independent variable or variables in a regression model. It does not take into consideration any biases that might be present in the data. Sometimes a good model might have a low R squared value while a not so great model can have a high R squared value.\n",
    "### $ R^2 = 1 - \\frac{\\sum_{i = 1}^{n}(y_{i} - \\hat{y}_{i})^{2}}{\\sum_{i = 1}^{n}(y_{i} - mean(y_{i}))^{2}} $"
   ]
  },
  {
   "cell_type": "markdown",
   "metadata": {
    "id": "xIv_u41PA-sY"
   },
   "source": [
    "1. https://medium.com/usf-msds/choosing-the-right-metric-for-machine-learning-models-part-1-a99d7d7414e4\n",
    "2. https://towardsdatascience.com/what-are-the-best-metrics-to-evaluate-your-regression-model-418ca481755b"
   ]
  },
  {
   "cell_type": "markdown",
   "metadata": {
    "id": "2OVSPkUgA-sZ"
   },
   "source": [
    "##### <font color='red'>Question:</font> what's the range of R2?"
   ]
  },
  {
   "cell_type": "markdown",
   "metadata": {
    "id": "zjRbcVGeA-sZ"
   },
   "source": [
    "### 3.1.3 Test loss"
   ]
  },
  {
   "cell_type": "markdown",
   "metadata": {
    "id": "_G6H42wqA-sZ"
   },
   "source": [
    "**Example:** Make prediction using the **test data**"
   ]
  },
  {
   "cell_type": "code",
   "execution_count": null,
   "metadata": {
    "id": "TulWKFVwA-sZ"
   },
   "outputs": [],
   "source": [
    "y_pred_test = model.predict(y_test)"
   ]
  },
  {
   "cell_type": "markdown",
   "metadata": {
    "id": "HyakZkSvA-sZ"
   },
   "source": [
    "<font color='red'>Assignment:</font> Visualize the difference between predictions and ground truth."
   ]
  },
  {
   "cell_type": "code",
   "execution_count": null,
   "metadata": {
    "id": "RTj7TyZBA-sZ",
    "outputId": "b8aa5b93-cd31-4430-9f9f-2b3cc23f9061"
   },
   "outputs": [
    {
     "data": {
      "text/plain": [
       "Text(0, 0.5, 'y_pred_test')"
      ]
     },
     "execution_count": 23,
     "metadata": {},
     "output_type": "execute_result"
    },
    {
     "data": {
      "image/png": "[encoded data removed]",
      "text/plain": [
       "<Figure size 432x288 with 1 Axes>"
      ]
     },
     "metadata": {
      "needs_background": "light"
     },
     "output_type": "display_data"
    }
   ],
   "source": [
    "plt.scatter(y_test, y_pred_test, alpha = 0.3)\n",
    "plt.xlabel('y_test')\n",
    "plt.ylabel('y_pred_test')"
   ]
  },
  {
   "cell_type": "markdown",
   "metadata": {
    "id": "bS_-JwzaA-sa"
   },
   "source": [
    "<font color='red'>Assignment:</font> Calculate the test loss."
   ]
  },
  {
   "cell_type": "code",
   "execution_count": null,
   "metadata": {
    "id": "KL92t1JjA-sa",
    "outputId": "ed25d783-c85c-4b73-f651-103977a61ea3"
   },
   "outputs": [
    {
     "name": "stdout",
     "output_type": "stream",
     "text": [
      "test MAE: 9.92e+05\n",
      "test MSE: 1.41e+12\n",
      "test R2: -15.352\n"
     ]
    }
   ],
   "source": [
    "print('test MAE: {0:.2e}'.format(mean_absolute_error(y_test, y_pred_test)))\n",
    "print('test MSE: {0:.2e}'.format(mean_squared_error(y_test, y_pred_test)))\n",
    "print('test R2: {0:.3f}'.format(r2_score(y_test, y_pred_test)))"
   ]
  },
  {
   "cell_type": "markdown",
   "metadata": {
    "id": "tqY31AAlA-sa"
   },
   "source": [
    "### This model clearly is not great."
   ]
  },
  {
   "cell_type": "markdown",
   "metadata": {
    "id": "ddN2KRvAA-sa"
   },
   "source": [
    "## 3.2 Mean Model"
   ]
  },
  {
   "cell_type": "markdown",
   "metadata": {
    "id": "a6eDqWkgA-sa"
   },
   "source": [
    "### <font color = 'blue'>Need help with Class</font>"
   ]
  },
  {
   "cell_type": "markdown",
   "metadata": {
    "id": "PLyx80qhA-sa"
   },
   "source": [
    "<font color='red'>Assignment:</font> Build a class providing the mean of **y_train** as predictions."
   ]
  },
  {
   "cell_type": "code",
   "execution_count": null,
   "metadata": {
    "id": "wjx6PWGgA-sb"
   },
   "outputs": [],
   "source": [
    "import numpy as np\n",
    "\n",
    "class mean_predict(object):\n",
    "    \"\"\"\n",
    "    This class provides the mean of y_train as predictions.\n",
    "    \"\"\"\n",
    "    \n",
    "#     def fit(self, y_train):\n",
    "#         self.y_mean = sum(y_train)/len(y_train)\n",
    "        \n",
    "#     def predict(self, y_test):\n",
    "#         length = len(y_test)\n",
    "#         return self.y_mean*np.ones(length)\n",
    "    \n",
    "    def fit(self, y_train):\n",
    "        y_train_valid = y_train.dropna() # NaN has been dropped already\n",
    "        self.y_mean = np.mean(y_train_valid)\n",
    "        \n",
    "    def predict(self,y_test):\n",
    "        n = len(y_test)\n",
    "        return [self.y_mean]*n"
   ]
  },
  {
   "cell_type": "markdown",
   "metadata": {
    "id": "3vpbvBiZA-sb"
   },
   "source": [
    "<font color='red'>Assignment:</font> Train a model, make prediction, visulize the comparision between prediction and ground truth, and calculate train/test loss."
   ]
  },
  {
   "cell_type": "code",
   "execution_count": null,
   "metadata": {
    "colab": {
     "base_uri": "https://localhost:8080/",
     "height": 166
    },
    "executionInfo": {
     "elapsed": 239,
     "status": "error",
     "timestamp": 1635393012956,
     "user": {
      "displayName": "Zoey He",
      "photoUrl": "https://lh3.googleusercontent.com/a/default-user=s64",
      "userId": "15531607692958354289"
     },
     "user_tz": 240
    },
    "id": "qgcRG6drA-sb",
    "outputId": "44d1e81e-96ef-4c5b-b805-cbdaf1a5a2c6"
   },
   "outputs": [
    {
     "ename": "NameError",
     "evalue": "ignored",
     "output_type": "error",
     "traceback": [
      "\u001b[0;31m---------------------------------------------------------------------------\u001b[0m",
      "\u001b[0;31mNameError\u001b[0m                                 Traceback (most recent call last)",
      "\u001b[0;32m<ipython-input-1-080005fb4035>\u001b[0m in \u001b[0;36m<module>\u001b[0;34m()\u001b[0m\n\u001b[0;32m----> 1\u001b[0;31m \u001b[0mmodel_mean\u001b[0m \u001b[0;34m=\u001b[0m \u001b[0mmean_predict\u001b[0m\u001b[0;34m(\u001b[0m\u001b[0;34m)\u001b[0m\u001b[0;34m\u001b[0m\u001b[0;34m\u001b[0m\u001b[0m\n\u001b[0m",
      "\u001b[0;31mNameError\u001b[0m: name 'mean_predict' is not defined"
     ]
    }
   ],
   "source": [
    "model_mean = mean_predict() "
   ]
  },
  {
   "cell_type": "markdown",
   "metadata": {
    "id": "lmwa-scdA-sb"
   },
   "source": [
    "### <font color='red'>Fit on train data, never on test data</font>"
   ]
  },
  {
   "cell_type": "code",
   "execution_count": null,
   "metadata": {
    "id": "WqlVQljmA-sb"
   },
   "outputs": [],
   "source": [
    "model_mean.fit(y_train)"
   ]
  },
  {
   "cell_type": "code",
   "execution_count": null,
   "metadata": {
    "id": "VfMOjtflA-sb"
   },
   "outputs": [],
   "source": [
    "# model_mean.y_mean"
   ]
  },
  {
   "cell_type": "markdown",
   "metadata": {
    "id": "IdSqS4iAA-sb"
   },
   "source": [
    "### <font color='red'>Predict on test data</font>"
   ]
  },
  {
   "cell_type": "code",
   "execution_count": null,
   "metadata": {
    "id": "0oAO4W9HA-sb"
   },
   "outputs": [],
   "source": [
    "y_mean_pred = model_mean.predict(y_test)"
   ]
  },
  {
   "cell_type": "code",
   "execution_count": null,
   "metadata": {
    "id": "cucEueZzA-sc",
    "outputId": "c9a539d7-c642-450b-9586-b127743b8da4"
   },
   "outputs": [
    {
     "data": {
      "text/plain": [
       "Text(0, 0.5, 'y_mean_pred')"
      ]
     },
     "execution_count": 30,
     "metadata": {},
     "output_type": "execute_result"
    },
    {
     "data": {
      "image/png": "[encoded data removed]",
      "text/plain": [
       "<Figure size 432x288 with 1 Axes>"
      ]
     },
     "metadata": {
      "needs_background": "light"
     },
     "output_type": "display_data"
    }
   ],
   "source": [
    "plt.scatter(y_test, y_mean_pred, alpha = 0.3)\n",
    "plt.xlabel('y_test')\n",
    "plt.ylabel('y_mean_pred')"
   ]
  },
  {
   "cell_type": "code",
   "execution_count": null,
   "metadata": {
    "id": "A1ZP07dKA-sc",
    "outputId": "461bc09d-5734-4d42-e934-7939ff19fe5f"
   },
   "outputs": [
    {
     "name": "stdout",
     "output_type": "stream",
     "text": [
      "test MAE: 1.70e+05\n",
      "test MSE: 8.73e+10\n",
      "test R2: -0.013\n"
     ]
    }
   ],
   "source": [
    "print('test MAE: {0:.2e}'.format(mean_absolute_error(y_test, y_mean_pred)))\n",
    "print('test MSE: {0:.2e}'.format(mean_squared_error(y_test, y_mean_pred)))\n",
    "print('test R2: {0:.3f}'.format(r2_score(y_test, y_mean_pred))) # test R2 should not be 0"
   ]
  },
  {
   "cell_type": "markdown",
   "metadata": {
    "id": "Mp2cTVrsA-sc"
   },
   "source": [
    "##### 1. calculate test loss !\n",
    "### 2. <font color='red'>only fit train data !!!</font> test data is supposed to be unknown, only operation on test data is predict, otherwise there will be data leakage "
   ]
  },
  {
   "cell_type": "markdown",
   "metadata": {
    "id": "141Xvq6pA-sc"
   },
   "source": [
    "<font color='red'>Question:</font> Is the mean-value model better than random guess?"
   ]
  },
  {
   "cell_type": "markdown",
   "metadata": {
    "id": "n-mRvdskA-sc"
   },
   "source": [
    "### This is still a pretty bad model. I think the two models are both terrible, although from the errors and R squared value, it seems to be improving."
   ]
  },
  {
   "cell_type": "markdown",
   "metadata": {
    "id": "stY5c7JMA-sc"
   },
   "source": [
    "##### <font color='red'>One more example on class</font>"
   ]
  },
  {
   "cell_type": "code",
   "execution_count": 11,
   "metadata": {
    "id": "NFSqvmOPA-sd"
   },
   "outputs": [],
   "source": [
    "class mean_guess(object):\n",
    "    \"\"\"\n",
    "    This class provides mean values of y_train as predictions.\n",
    "    \n",
    "    \"\"\"\n",
    "    \n",
    "    def fit(self, y_train):\n",
    "        self.y_train_mean = [np.mean(y_train)]*len(y_train)\n",
    "        \n",
    "    def predict(self, y_test):\n",
    "        self.test=[np.mean(y_train)]*len(y_test)\n",
    "        return self.test"
   ]
  },
  {
   "cell_type": "code",
   "execution_count": 15,
   "metadata": {
    "id": "kGg-T4hXA-sd"
   },
   "outputs": [],
   "source": [
    "model = mean_guess()"
   ]
  },
  {
   "cell_type": "code",
   "execution_count": 18,
   "metadata": {
    "id": "HcYmu44hA-sd"
   },
   "outputs": [],
   "source": [
    "model.fit(y_train)"
   ]
  },
  {
   "cell_type": "code",
   "execution_count": 19,
   "metadata": {
    "id": "-4C7RzlDA-sd"
   },
   "outputs": [],
   "source": [
    "y_train_pred=model.predict(y_train)"
   ]
  },
  {
   "cell_type": "code",
   "execution_count": 22,
   "metadata": {
    "id": "4bshjBEoA-sd",
    "outputId": "391e3b95-5e31-4277-f61b-66ad983ba466"
   },
   "outputs": [
    {
     "data": {
      "text/plain": [
       "0.0"
      ]
     },
     "execution_count": 22,
     "metadata": {},
     "output_type": "execute_result"
    }
   ],
   "source": [
    "r2_score(y_train, y_train_pred)"
   ]
  },
  {
   "cell_type": "code",
   "execution_count": 23,
   "metadata": {
    "id": "q1aoOYhYA-sd"
   },
   "outputs": [],
   "source": [
    "y_test_pred=model.predict(y_test)"
   ]
  },
  {
   "cell_type": "code",
   "execution_count": 24,
   "metadata": {
    "id": "WFg-lTnnA-sd",
    "outputId": "78f4d44e-3e8c-4a6d-9970-7ba31ec1ae60"
   },
   "outputs": [
    {
     "data": {
      "text/plain": [
       "-0.012704870440639171"
      ]
     },
     "execution_count": 24,
     "metadata": {},
     "output_type": "execute_result"
    }
   ],
   "source": [
    "r2_score(y_test, y_test_pred)"
   ]
  },
  {
   "cell_type": "code",
   "execution_count": null,
   "metadata": {
    "id": "42o5kkUSA-sd"
   },
   "outputs": [],
   "source": []
  }
 ],
 "metadata": {
  "colab": {
   "name": "05_simplest_regression_models_updated.ipynb",
   "provenance": []
  },
  "kernelspec": {
   "display_name": "Python 3 (ipykernel)",
   "language": "python",
   "name": "python3"
  },
  "language_info": {
   "codemirror_mode": {
    "name": "ipython",
    "version": 3
   },
   "file_extension": ".py",
   "mimetype": "text/x-python",
   "name": "python",
   "nbconvert_exporter": "python",
   "pygments_lexer": "ipython3",
   "version": "3.9.12"
  }
 },
 "nbformat": 4,
 "nbformat_minor": 1
}

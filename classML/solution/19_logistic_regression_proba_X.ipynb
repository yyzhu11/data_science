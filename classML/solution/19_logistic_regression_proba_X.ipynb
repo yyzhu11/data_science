{
 "cells": [
  {
   "cell_type": "code",
   "execution_count": 1,
   "metadata": {},
   "outputs": [],
   "source": [
    "import pandas as pd"
   ]
  },
  {
   "cell_type": "code",
   "execution_count": 2,
   "metadata": {},
   "outputs": [],
   "source": [
    "df = pd.read_csv('../data/sales.csv')\n",
    "df.dropna(subset=['price'], inplace=True)"
   ]
  },
  {
   "cell_type": "code",
   "execution_count": 3,
   "metadata": {},
   "outputs": [
    {
     "data": {
      "text/html": [
       "<div>\n",
       "<style scoped>\n",
       "    .dataframe tbody tr th:only-of-type {\n",
       "        vertical-align: middle;\n",
       "    }\n",
       "\n",
       "    .dataframe tbody tr th {\n",
       "        vertical-align: top;\n",
       "    }\n",
       "\n",
       "    .dataframe thead th {\n",
       "        text-align: right;\n",
       "    }\n",
       "</style>\n",
       "<table border=\"1\" class=\"dataframe\">\n",
       "  <thead>\n",
       "    <tr style=\"text-align: right;\">\n",
       "      <th></th>\n",
       "      <th>cost</th>\n",
       "      <th>price</th>\n",
       "      <th>weight</th>\n",
       "      <th>purchase_date</th>\n",
       "      <th>product_type</th>\n",
       "      <th>product_level</th>\n",
       "      <th>maker</th>\n",
       "      <th>ingredient</th>\n",
       "      <th>height</th>\n",
       "      <th>width</th>\n",
       "      <th>depth</th>\n",
       "    </tr>\n",
       "  </thead>\n",
       "  <tbody>\n",
       "    <tr>\n",
       "      <th>0</th>\n",
       "      <td>$333k</td>\n",
       "      <td>$300,492</td>\n",
       "      <td>3 Ton 90 Kg</td>\n",
       "      <td>Dec 19 2008</td>\n",
       "      <td>Q,B</td>\n",
       "      <td>advanced</td>\n",
       "      <td>M14122</td>\n",
       "      <td>IN732052,IN732053</td>\n",
       "      <td>2.76 meters</td>\n",
       "      <td>97 cm</td>\n",
       "      <td>26 cm</td>\n",
       "    </tr>\n",
       "    <tr>\n",
       "      <th>1</th>\n",
       "      <td>NaN</td>\n",
       "      <td>$430,570</td>\n",
       "      <td>3 Ton 30 Kg</td>\n",
       "      <td>Sep 10 1997</td>\n",
       "      <td>J,D</td>\n",
       "      <td>basic</td>\n",
       "      <td>NaN</td>\n",
       "      <td>IN732054,IN732055,IN732056,IN732057,IN732058</td>\n",
       "      <td>2.67 meters</td>\n",
       "      <td>98 cm</td>\n",
       "      <td>26 cm</td>\n",
       "    </tr>\n",
       "    <tr>\n",
       "      <th>2</th>\n",
       "      <td>$270k</td>\n",
       "      <td>$213,070</td>\n",
       "      <td>3 Ton 40 Kg</td>\n",
       "      <td>Sep 05 2001</td>\n",
       "      <td>J,D</td>\n",
       "      <td>basic</td>\n",
       "      <td>NaN</td>\n",
       "      <td>IN732054,IN732059,IN732060</td>\n",
       "      <td>3.0 meters</td>\n",
       "      <td>93 cm</td>\n",
       "      <td>24 cm</td>\n",
       "    </tr>\n",
       "    <tr>\n",
       "      <th>3</th>\n",
       "      <td>NaN</td>\n",
       "      <td>$229,174</td>\n",
       "      <td>3 Ton 50 Kg</td>\n",
       "      <td>Dec 23 2016</td>\n",
       "      <td>U</td>\n",
       "      <td>advanced</td>\n",
       "      <td>M14123</td>\n",
       "      <td>IN732061,IN732062,IN732063</td>\n",
       "      <td>2.5 meters</td>\n",
       "      <td>102 cm</td>\n",
       "      <td>27 cm</td>\n",
       "    </tr>\n",
       "    <tr>\n",
       "      <th>4</th>\n",
       "      <td>$97k</td>\n",
       "      <td>$122,659</td>\n",
       "      <td>2 Ton 970 Kg</td>\n",
       "      <td>Jan 12 2000</td>\n",
       "      <td>D,R</td>\n",
       "      <td>advanced</td>\n",
       "      <td>NaN</td>\n",
       "      <td>IN732064,IN732065,IN732066</td>\n",
       "      <td>2.47 meters</td>\n",
       "      <td>101 cm</td>\n",
       "      <td>26 cm</td>\n",
       "    </tr>\n",
       "  </tbody>\n",
       "</table>\n",
       "</div>"
      ],
      "text/plain": [
       "    cost     price        weight purchase_date product_type product_level  \\\n",
       "0  $333k  $300,492   3 Ton 90 Kg   Dec 19 2008          Q,B      advanced   \n",
       "1    NaN  $430,570   3 Ton 30 Kg   Sep 10 1997          J,D         basic   \n",
       "2  $270k  $213,070   3 Ton 40 Kg   Sep 05 2001          J,D         basic   \n",
       "3    NaN  $229,174   3 Ton 50 Kg   Dec 23 2016            U      advanced   \n",
       "4   $97k  $122,659  2 Ton 970 Kg   Jan 12 2000          D,R      advanced   \n",
       "\n",
       "    maker                                    ingredient       height   width  \\\n",
       "0  M14122                             IN732052,IN732053  2.76 meters   97 cm   \n",
       "1     NaN  IN732054,IN732055,IN732056,IN732057,IN732058  2.67 meters   98 cm   \n",
       "2     NaN                    IN732054,IN732059,IN732060   3.0 meters   93 cm   \n",
       "3  M14123                    IN732061,IN732062,IN732063   2.5 meters  102 cm   \n",
       "4     NaN                    IN732064,IN732065,IN732066  2.47 meters  101 cm   \n",
       "\n",
       "   depth  \n",
       "0  26 cm  \n",
       "1  26 cm  \n",
       "2  24 cm  \n",
       "3  27 cm  \n",
       "4  26 cm  "
      ]
     },
     "execution_count": 3,
     "metadata": {},
     "output_type": "execute_result"
    }
   ],
   "source": [
    "df.head()"
   ]
  },
  {
   "cell_type": "code",
   "execution_count": 4,
   "metadata": {},
   "outputs": [],
   "source": [
    "df['year'] = pd.to_datetime(df.purchase_date).dt.year\n",
    "train_raw = df[df.year < 2015]\n",
    "test_raw = df[df.year >= 2015]"
   ]
  },
  {
   "cell_type": "markdown",
   "metadata": {},
   "source": [
    "# 1. Model building"
   ]
  },
  {
   "cell_type": "markdown",
   "metadata": {},
   "source": [
    "<font color='red'>Assignment:</font> Get **luxury** (**price** higher than 500k dollars) as targets, and build a end-to-end model to predict wheather a product is **luxury** using **cost** values."
   ]
  },
  {
   "cell_type": "code",
   "execution_count": 5,
   "metadata": {},
   "outputs": [],
   "source": [
    "# Train and test data\n",
    "\n",
    "features = list(df.columns)\n",
    "target = [\"price\", \"luxury\"]\n",
    "features = [fea for fea in features if fea not in target]\n",
    "\n",
    "X_train = train_raw[features]\n",
    "X_test = test_raw[features]\n",
    "\n",
    "y_train = train_raw[\"price\"].map(lambda x: 1 if float(x.strip(\"$\").replace(\",\", \"\")) > 500000 else 0)\n",
    "y_test = test_raw[\"price\"].map(lambda x: 1 if float(x.strip(\"$\").replace(\",\", \"\")) > 500000 else 0)"
   ]
  },
  {
   "cell_type": "code",
   "execution_count": 6,
   "metadata": {},
   "outputs": [],
   "source": [
    "class Cost_Transformer(object):\n",
    "    \n",
    "    def fit(self, X, y=None):\n",
    "        df = pd.DataFrame()\n",
    "        df['cost'] = X.cost.map(self.cost2num)\n",
    "        self.mean = df.mean()\n",
    "        \n",
    "    def transform(self, X, y=None):\n",
    "        df = pd.DataFrame()\n",
    "        df['cost'] = X.cost.map(self.cost2num)\n",
    "        return df.fillna(self.mean)\n",
    "    \n",
    "    def fit_transform(self, X, y=None):\n",
    "        self.fit(X)\n",
    "        return self.transform(X)\n",
    "\n",
    "    def cost2num(self, x):\n",
    "        if type(x) == str: \n",
    "            x = x.strip('$').strip('k')\n",
    "            return float(x)*1000\n",
    "        else:\n",
    "            return x"
   ]
  },
  {
   "cell_type": "code",
   "execution_count": 7,
   "metadata": {},
   "outputs": [],
   "source": [
    "from sklearn.pipeline import Pipeline\n",
    "from sklearn.linear_model import LogisticRegression\n",
    "from sklearn.preprocessing import MinMaxScaler"
   ]
  },
  {
   "cell_type": "code",
   "execution_count": 8,
   "metadata": {},
   "outputs": [],
   "source": [
    "steps = [('ctf', Cost_Transformer()),\n",
    "         ('rescale', MinMaxScaler()),\n",
    "         ('logr', LogisticRegression(class_weight='balanced'))]\n",
    "model = Pipeline(steps)\n",
    "model = model.fit(train_raw, y_train)"
   ]
  },
  {
   "cell_type": "code",
   "execution_count": 9,
   "metadata": {},
   "outputs": [],
   "source": [
    "y_train_pred = model.predict(train_raw)\n",
    "y_test_pred = model.predict(test_raw)"
   ]
  },
  {
   "cell_type": "code",
   "execution_count": 11,
   "metadata": {},
   "outputs": [
    {
     "name": "stdout",
     "output_type": "stream",
     "text": [
      "              precision    recall  f1-score   support\n",
      "\n",
      "           0       0.98      0.87      0.92      2573\n",
      "           1       0.28      0.71      0.40       184\n",
      "\n",
      "    accuracy                           0.86      2757\n",
      "   macro avg       0.63      0.79      0.66      2757\n",
      "weighted avg       0.93      0.86      0.88      2757\n",
      "\n",
      "              precision    recall  f1-score   support\n",
      "\n",
      "           0       0.97      0.89      0.92       383\n",
      "           1       0.44      0.76      0.56        46\n",
      "\n",
      "    accuracy                           0.87       429\n",
      "   macro avg       0.71      0.82      0.74       429\n",
      "weighted avg       0.91      0.87      0.89       429\n",
      "\n"
     ]
    }
   ],
   "source": [
    "from sklearn.metrics import classification_report\n",
    "\n",
    "print(classification_report(y_train, y_train_pred))\n",
    "print(classification_report(y_test, y_test_pred))"
   ]
  },
  {
   "cell_type": "markdown",
   "metadata": {},
   "source": [
    "# 2. Probability"
   ]
  },
  {
   "cell_type": "markdown",
   "metadata": {},
   "source": [
    "## 2.1 Predict_proba"
   ]
  },
  {
   "cell_type": "markdown",
   "metadata": {},
   "source": [
    "<font color='red'>Assignment:</font> Use the **predict_proba** function of the model to make predictions for the training and testing sets and assign the outputs to variables **y_train_proba** and **y_test_proba**."
   ]
  },
  {
   "cell_type": "code",
   "execution_count": 12,
   "metadata": {},
   "outputs": [],
   "source": [
    "y_train_proba = model.predict_proba(train_raw)"
   ]
  },
  {
   "cell_type": "code",
   "execution_count": 13,
   "metadata": {},
   "outputs": [],
   "source": [
    "y_test_proba = model.predict_proba(test_raw)"
   ]
  },
  {
   "cell_type": "markdown",
   "metadata": {},
   "source": [
    "<font color='red'>Question:</font> What are the shapes of **y_train_proba** and **y_test_proba**? Why are they different from the outputs obtained with the **predict** function? Which parts of **y_train_proba** and **y_test_proba** should we care about in this case? "
   ]
  },
  {
   "cell_type": "code",
   "execution_count": 14,
   "metadata": {},
   "outputs": [
    {
     "name": "stdout",
     "output_type": "stream",
     "text": [
      "(2757, 2)\n",
      "(429, 2)\n"
     ]
    }
   ],
   "source": [
    "print(y_train_proba.shape)\n",
    "print(y_test_proba.shape)"
   ]
  },
  {
   "cell_type": "code",
   "execution_count": 15,
   "metadata": {},
   "outputs": [
    {
     "data": {
      "text/plain": [
       "array([0, 1], dtype=int64)"
      ]
     },
     "execution_count": 15,
     "metadata": {},
     "output_type": "execute_result"
    }
   ],
   "source": [
    "model.classes_"
   ]
  },
  {
   "cell_type": "code",
   "execution_count": 16,
   "metadata": {},
   "outputs": [
    {
     "data": {
      "text/plain": [
       "array([[0.66162999, 0.33837001],\n",
       "       [0.67508952, 0.32491048],\n",
       "       [0.67508952, 0.32491048],\n",
       "       [0.66162999, 0.33837001],\n",
       "       [0.89338056, 0.10661944],\n",
       "       [0.88365903, 0.11634097],\n",
       "       [0.89615435, 0.10384565],\n",
       "       [0.73991718, 0.26008282],\n",
       "       [0.83948254, 0.16051746],\n",
       "       [0.66162999, 0.33837001],\n",
       "       [0.80358939, 0.19641061],\n",
       "       [0.66162999, 0.33837001],\n",
       "       [0.66162999, 0.33837001],\n",
       "       [0.80358939, 0.19641061],\n",
       "       [0.04875918, 0.95124082],\n",
       "       [0.41364604, 0.58635396],\n",
       "       [0.85227839, 0.14772161],\n",
       "       [0.75656138, 0.24343862],\n",
       "       [0.66162999, 0.33837001],\n",
       "       [0.66162999, 0.33837001],\n",
       "       [0.61447294, 0.38552706],\n",
       "       [0.80358939, 0.19641061],\n",
       "       [0.66162999, 0.33837001],\n",
       "       [0.88861252, 0.11138748],\n",
       "       [0.56703201, 0.43296799],\n",
       "       [0.15013482, 0.84986518],\n",
       "       [0.69624844, 0.30375156],\n",
       "       [0.66162999, 0.33837001],\n",
       "       [0.1713027 , 0.8286973 ],\n",
       "       [0.00433921, 0.99566079],\n",
       "       [0.83948254, 0.16051746],\n",
       "       [0.81421306, 0.18578694],\n",
       "       [0.66162999, 0.33837001],\n",
       "       [0.00433921, 0.99566079],\n",
       "       [0.66162999, 0.33837001],\n",
       "       [0.66162999, 0.33837001],\n",
       "       [0.66162999, 0.33837001],\n",
       "       [0.66162999, 0.33837001],\n",
       "       [0.30779319, 0.69220681],\n",
       "       [0.88665364, 0.11334636],\n",
       "       [0.66162999, 0.33837001],\n",
       "       [0.05658552, 0.94341448],\n",
       "       [0.66162999, 0.33837001],\n",
       "       [0.84853073, 0.15146927],\n",
       "       [0.65541209, 0.34458791],\n",
       "       [0.88059594, 0.11940406],\n",
       "       [0.52812795, 0.47187205],\n",
       "       [0.89338056, 0.10661944],\n",
       "       [0.88958081, 0.11041919],\n",
       "       [0.73991718, 0.26008282],\n",
       "       [0.83948254, 0.16051746],\n",
       "       [0.89615435, 0.10384565],\n",
       "       [0.80358939, 0.19641061],\n",
       "       [0.73991718, 0.26008282],\n",
       "       [0.76724849, 0.23275151],\n",
       "       [0.66162999, 0.33837001],\n",
       "       [0.83948254, 0.16051746],\n",
       "       [0.66162999, 0.33837001],\n",
       "       [0.00433921, 0.99566079],\n",
       "       [0.04875918, 0.95124082],\n",
       "       [0.66162999, 0.33837001],\n",
       "       [0.66162999, 0.33837001],\n",
       "       [0.67508952, 0.32491048],\n",
       "       [0.66162999, 0.33837001],\n",
       "       [0.68151782, 0.31848218],\n",
       "       [0.66162999, 0.33837001],\n",
       "       [0.3422383 , 0.6577617 ],\n",
       "       [0.76194617, 0.23805383],\n",
       "       [0.76724849, 0.23275151],\n",
       "       [0.76724849, 0.23275151],\n",
       "       [0.66162999, 0.33837001],\n",
       "       [0.63972583, 0.36027417],\n",
       "       [0.66162999, 0.33837001],\n",
       "       [0.8774634 , 0.1225366 ],\n",
       "       [0.04875918, 0.95124082],\n",
       "       [0.61911503, 0.38088497],\n",
       "       [0.2469624 , 0.7530376 ],\n",
       "       [0.79412318, 0.20587682],\n",
       "       [0.66162999, 0.33837001],\n",
       "       [0.66162999, 0.33837001],\n",
       "       [0.66162999, 0.33837001],\n",
       "       [0.41364604, 0.58635396],\n",
       "       [0.66162999, 0.33837001],\n",
       "       [0.05658552, 0.94341448],\n",
       "       [0.76194617, 0.23805383],\n",
       "       [0.8774634 , 0.1225366 ],\n",
       "       [0.88665364, 0.11334636],\n",
       "       [0.52812795, 0.47187205],\n",
       "       [0.66162999, 0.33837001],\n",
       "       [0.73991718, 0.26008282],\n",
       "       [0.86650741, 0.13349259],\n",
       "       [0.82721295, 0.17278705],\n",
       "       [0.0385541 , 0.9614459 ],\n",
       "       [0.79412318, 0.20587682],\n",
       "       [0.63972583, 0.36027417],\n",
       "       [0.85954358, 0.14045642],\n",
       "       [0.11427623, 0.88572377],\n",
       "       [0.66162999, 0.33837001],\n",
       "       [0.03642846, 0.96357154],\n",
       "       [0.19323559, 0.80676441],\n",
       "       [0.66162999, 0.33837001],\n",
       "       [0.82296148, 0.17703852],\n",
       "       [0.66162999, 0.33837001],\n",
       "       [0.73991718, 0.26008282],\n",
       "       [0.66162999, 0.33837001],\n",
       "       [0.66162999, 0.33837001],\n",
       "       [0.67508952, 0.32491048],\n",
       "       [0.66162999, 0.33837001],\n",
       "       [0.66162999, 0.33837001],\n",
       "       [0.67508952, 0.32491048],\n",
       "       [0.02686918, 0.97313082],\n",
       "       [0.54521892, 0.45478108],\n",
       "       [0.73991718, 0.26008282],\n",
       "       [0.66162999, 0.33837001],\n",
       "       [0.1028799 , 0.8971201 ],\n",
       "       [0.66162999, 0.33837001],\n",
       "       [0.90151101, 0.09848899],\n",
       "       [0.66162999, 0.33837001],\n",
       "       [0.11427623, 0.88572377],\n",
       "       [0.06558146, 0.93441854],\n",
       "       [0.59806594, 0.40193406],\n",
       "       [0.61911503, 0.38088497],\n",
       "       [0.90494408, 0.09505592],\n",
       "       [0.66162999, 0.33837001],\n",
       "       [0.04875918, 0.95124082],\n",
       "       [0.66162999, 0.33837001],\n",
       "       [0.83138325, 0.16861675],\n",
       "       [0.66162999, 0.33837001],\n",
       "       [0.66162999, 0.33837001],\n",
       "       [0.870986  , 0.129014  ],\n",
       "       [0.870986  , 0.129014  ],\n",
       "       [0.66162999, 0.33837001],\n",
       "       [0.30779319, 0.69220681],\n",
       "       [0.66162999, 0.33837001],\n",
       "       [0.66162999, 0.33837001],\n",
       "       [0.76724849, 0.23275151],\n",
       "       [0.13116863, 0.86883137],\n",
       "       [0.72647232, 0.27352768],\n",
       "       [0.76724849, 0.23275151],\n",
       "       [0.86306273, 0.13693727],\n",
       "       [0.45219851, 0.54780149],\n",
       "       [0.75109458, 0.24890542],\n",
       "       [0.10019248, 0.89980752],\n",
       "       [0.66162999, 0.33837001],\n",
       "       [0.27536354, 0.72463646],\n",
       "       [0.87426041, 0.12573959],\n",
       "       [0.30779319, 0.69220681],\n",
       "       [0.89338056, 0.10661944],\n",
       "       [0.05658552, 0.94341448],\n",
       "       [0.49133325, 0.50866675],\n",
       "       [0.66162999, 0.33837001],\n",
       "       [0.04236375, 0.95763625],\n",
       "       [0.8774634 , 0.1225366 ],\n",
       "       [0.05658552, 0.94341448],\n",
       "       [0.67508952, 0.32491048],\n",
       "       [0.67508952, 0.32491048],\n",
       "       [0.66162999, 0.33837001],\n",
       "       [0.66162999, 0.33837001],\n",
       "       [0.60512677, 0.39487323],\n",
       "       [0.66162999, 0.33837001],\n",
       "       [0.19323559, 0.80676441],\n",
       "       [0.89338056, 0.10661944],\n",
       "       [0.73991718, 0.26008282],\n",
       "       [0.83948254, 0.16051746],\n",
       "       [0.60512677, 0.39487323],\n",
       "       [0.04079852, 0.95920148],\n",
       "       [0.08689035, 0.91310965],\n",
       "       [0.85954358, 0.14045642],\n",
       "       [0.73991718, 0.26008282],\n",
       "       [0.8774634 , 0.1225366 ],\n",
       "       [0.44491155, 0.55508845],\n",
       "       [0.85954358, 0.14045642],\n",
       "       [0.60512677, 0.39487323],\n",
       "       [0.66162999, 0.33837001],\n",
       "       [0.85594908, 0.14405092],\n",
       "       [0.52812795, 0.47187205],\n",
       "       [0.85227839, 0.14772161],\n",
       "       [0.89338056, 0.10661944],\n",
       "       [0.66162999, 0.33837001],\n",
       "       [0.60512677, 0.39487323],\n",
       "       [0.66162999, 0.33837001],\n",
       "       [0.66162999, 0.33837001],\n",
       "       [0.85227839, 0.14772161],\n",
       "       [0.73991718, 0.26008282],\n",
       "       [0.08689035, 0.91310965],\n",
       "       [0.86072496, 0.13927504],\n",
       "       [0.66162999, 0.33837001],\n",
       "       [0.03642846, 0.96357154],\n",
       "       [0.66162999, 0.33837001],\n",
       "       [0.83948254, 0.16051746],\n",
       "       [0.66162999, 0.33837001],\n",
       "       [0.59806594, 0.40193406],\n",
       "       [0.66162999, 0.33837001],\n",
       "       [0.83948254, 0.16051746],\n",
       "       [0.88365903, 0.11634097],\n",
       "       [0.66162999, 0.33837001],\n",
       "       [0.66162999, 0.33837001],\n",
       "       [0.66162999, 0.33837001],\n",
       "       [0.88264566, 0.11735434],\n",
       "       [0.77929795, 0.22070205],\n",
       "       [0.81862833, 0.18137167],\n",
       "       [0.49869744, 0.50130256],\n",
       "       [0.86650741, 0.13349259],\n",
       "       [0.2469624 , 0.7530376 ],\n",
       "       [0.08689035, 0.91310965],\n",
       "       [0.89338056, 0.10661944],\n",
       "       [0.80819765, 0.19180235],\n",
       "       [0.66162999, 0.33837001],\n",
       "       [0.88365903, 0.11634097],\n",
       "       [0.60512677, 0.39487323],\n",
       "       [0.81862833, 0.18137167],\n",
       "       [0.66162999, 0.33837001],\n",
       "       [0.67508952, 0.32491048],\n",
       "       [0.66162999, 0.33837001],\n",
       "       [0.66162999, 0.33837001],\n",
       "       [0.84853073, 0.15146927],\n",
       "       [0.66162999, 0.33837001],\n",
       "       [0.66162999, 0.33837001],\n",
       "       [0.16176371, 0.83823629],\n",
       "       [0.88264566, 0.11735434],\n",
       "       [0.66162999, 0.33837001],\n",
       "       [0.66162999, 0.33837001],\n",
       "       [0.86650741, 0.13349259],\n",
       "       [0.1713027 , 0.8286973 ],\n",
       "       [0.66162999, 0.33837001],\n",
       "       [0.66162999, 0.33837001],\n",
       "       [0.66162999, 0.33837001],\n",
       "       [0.89338056, 0.10661944],\n",
       "       [0.70856336, 0.29143664],\n",
       "       [0.89338056, 0.10661944],\n",
       "       [0.88059594, 0.11940406],\n",
       "       [0.80358939, 0.19641061],\n",
       "       [0.63972583, 0.36027417],\n",
       "       [0.08689035, 0.91310965],\n",
       "       [0.870986  , 0.129014  ],\n",
       "       [0.8774634 , 0.1225366 ],\n",
       "       [0.79412318, 0.20587682],\n",
       "       [0.66162999, 0.33837001],\n",
       "       [0.14277084, 0.85722916],\n",
       "       [0.66162999, 0.33837001],\n",
       "       [0.56703201, 0.43296799],\n",
       "       [0.79889796, 0.20110204],\n",
       "       [0.39238602, 0.60761398],\n",
       "       [0.67508952, 0.32491048],\n",
       "       [0.27536354, 0.72463646],\n",
       "       [0.76724849, 0.23275151],\n",
       "       [0.66162999, 0.33837001],\n",
       "       [0.80358939, 0.19641061],\n",
       "       [0.870986  , 0.129014  ],\n",
       "       [0.85954358, 0.14045642],\n",
       "       [0.66162999, 0.33837001],\n",
       "       [0.66162999, 0.33837001],\n",
       "       [0.84853073, 0.15146927],\n",
       "       [0.73991718, 0.26008282],\n",
       "       [0.28928948, 0.71071052],\n",
       "       [0.83948254, 0.16051746],\n",
       "       [0.66162999, 0.33837001],\n",
       "       [0.66162999, 0.33837001],\n",
       "       [0.81862833, 0.18137167],\n",
       "       [0.67508952, 0.32491048],\n",
       "       [0.66162999, 0.33837001],\n",
       "       [0.2469624 , 0.7530376 ],\n",
       "       [0.84470531, 0.15529469],\n",
       "       [0.66162999, 0.33837001],\n",
       "       [0.85954358, 0.14045642],\n",
       "       [0.81421306, 0.18578694],\n",
       "       [0.83948254, 0.16051746],\n",
       "       [0.3422383 , 0.6577617 ],\n",
       "       [0.73991718, 0.26008282],\n",
       "       [0.66162999, 0.33837001],\n",
       "       [0.66162999, 0.33837001],\n",
       "       [0.79412318, 0.20587682],\n",
       "       [0.8774634 , 0.1225366 ],\n",
       "       [0.79412318, 0.20587682],\n",
       "       [0.73991718, 0.26008282],\n",
       "       [0.79412318, 0.20587682],\n",
       "       [0.66162999, 0.33837001],\n",
       "       [0.00507373, 0.99492627],\n",
       "       [0.66162999, 0.33837001],\n",
       "       [0.56703201, 0.43296799],\n",
       "       [0.66162999, 0.33837001],\n",
       "       [0.03129755, 0.96870245],\n",
       "       [0.00507373, 0.99492627],\n",
       "       [0.66162999, 0.33837001],\n",
       "       [0.79412318, 0.20587682],\n",
       "       [0.89338056, 0.10661944],\n",
       "       [0.52812795, 0.47187205],\n",
       "       [0.80358939, 0.19641061],\n",
       "       [0.66162999, 0.33837001],\n",
       "       [0.04236375, 0.95763625],\n",
       "       [0.60512677, 0.39487323],\n",
       "       [0.66162999, 0.33837001],\n",
       "       [0.68787773, 0.31212227],\n",
       "       [0.83948254, 0.16051746],\n",
       "       [0.54521892, 0.45478108],\n",
       "       [0.1713027 , 0.8286973 ],\n",
       "       [0.13116863, 0.86883137],\n",
       "       [0.07520668, 0.92479332],\n",
       "       [0.66162999, 0.33837001],\n",
       "       [0.75109458, 0.24890542],\n",
       "       [0.71460936, 0.28539064],\n",
       "       [0.66162999, 0.33837001],\n",
       "       [0.66162999, 0.33837001],\n",
       "       [0.5060622 , 0.4939378 ],\n",
       "       [0.11427623, 0.88572377],\n",
       "       [0.81421306, 0.18578694],\n",
       "       [0.80358939, 0.19641061],\n",
       "       [0.88264566, 0.11735434],\n",
       "       [0.67508952, 0.32491048],\n",
       "       [0.79889796, 0.20110204],\n",
       "       [0.66162999, 0.33837001],\n",
       "       [0.60512677, 0.39487323],\n",
       "       [0.8774634 , 0.1225366 ],\n",
       "       [0.89615435, 0.10384565],\n",
       "       [0.66162999, 0.33837001],\n",
       "       [0.66162999, 0.33837001],\n",
       "       [0.66162999, 0.33837001],\n",
       "       [0.73991718, 0.26008282],\n",
       "       [0.88264566, 0.11735434],\n",
       "       [0.66162999, 0.33837001],\n",
       "       [0.66162999, 0.33837001],\n",
       "       [0.66162999, 0.33837001],\n",
       "       [0.66162999, 0.33837001],\n",
       "       [0.85954358, 0.14045642],\n",
       "       [0.66162999, 0.33837001],\n",
       "       [0.2469624 , 0.7530376 ],\n",
       "       [0.86876293, 0.13123707],\n",
       "       [0.88059594, 0.11940406],\n",
       "       [0.63972583, 0.36027417],\n",
       "       [0.66162999, 0.33837001],\n",
       "       [0.870986  , 0.129014  ],\n",
       "       [0.66162999, 0.33837001],\n",
       "       [0.8774634 , 0.1225366 ],\n",
       "       [0.90662014, 0.09337986],\n",
       "       [0.81862833, 0.18137167],\n",
       "       [0.89338056, 0.10661944],\n",
       "       [0.70856336, 0.29143664],\n",
       "       [0.81862833, 0.18137167],\n",
       "       [0.66162999, 0.33837001],\n",
       "       [0.89338056, 0.10661944],\n",
       "       [0.73991718, 0.26008282],\n",
       "       [0.71460936, 0.28539064],\n",
       "       [0.66162999, 0.33837001],\n",
       "       [0.83138325, 0.16861675],\n",
       "       [0.06558146, 0.93441854],\n",
       "       [0.21891502, 0.78108498],\n",
       "       [0.66162999, 0.33837001],\n",
       "       [0.66162999, 0.33837001],\n",
       "       [0.66162999, 0.33837001],\n",
       "       [0.76724849, 0.23275151],\n",
       "       [0.67508952, 0.32491048],\n",
       "       [0.04236375, 0.95763625],\n",
       "       [0.37843077, 0.62156923],\n",
       "       [0.89796793, 0.10203207],\n",
       "       [0.03642846, 0.96357154],\n",
       "       [0.66162999, 0.33837001],\n",
       "       [0.83948254, 0.16051746],\n",
       "       [0.66162999, 0.33837001],\n",
       "       [0.77246797, 0.22753203],\n",
       "       [0.37843077, 0.62156923],\n",
       "       [0.49133325, 0.50866675],\n",
       "       [0.25808253, 0.74191747],\n",
       "       [0.77246797, 0.22753203],\n",
       "       [0.66162999, 0.33837001],\n",
       "       [0.66162999, 0.33837001],\n",
       "       [0.81862833, 0.18137167],\n",
       "       [0.66162999, 0.33837001],\n",
       "       [0.73991718, 0.26008282],\n",
       "       [0.31410517, 0.68589483],\n",
       "       [0.870986  , 0.129014  ],\n",
       "       [0.66162999, 0.33837001],\n",
       "       [0.88059594, 0.11940406],\n",
       "       [0.8774634 , 0.1225366 ],\n",
       "       [0.66162999, 0.33837001],\n",
       "       [0.66162999, 0.33837001],\n",
       "       [0.66162999, 0.33837001],\n",
       "       [0.66162999, 0.33837001],\n",
       "       [0.13116863, 0.86883137],\n",
       "       [0.870986  , 0.129014  ],\n",
       "       [0.8774634 , 0.1225366 ],\n",
       "       [0.49133325, 0.50866675],\n",
       "       [0.84211147, 0.15788853],\n",
       "       [0.85227839, 0.14772161],\n",
       "       [0.49869744, 0.50130256],\n",
       "       [0.85954358, 0.14045642],\n",
       "       [0.66162999, 0.33837001],\n",
       "       [0.89338056, 0.10661944],\n",
       "       [0.76724849, 0.23275151],\n",
       "       [0.82721295, 0.17278705],\n",
       "       [0.66162999, 0.33837001],\n",
       "       [0.66162999, 0.33837001],\n",
       "       [0.66162999, 0.33837001],\n",
       "       [0.66162999, 0.33837001],\n",
       "       [0.82296148, 0.17703852],\n",
       "       [0.84080141, 0.15919859],\n",
       "       [0.02686918, 0.97313082],\n",
       "       [0.66162999, 0.33837001],\n",
       "       [0.76724849, 0.23275151],\n",
       "       [0.30779319, 0.69220681],\n",
       "       [0.01479758, 0.98520242],\n",
       "       [0.66162999, 0.33837001],\n",
       "       [0.1713027 , 0.8286973 ],\n",
       "       [0.66162999, 0.33837001],\n",
       "       [0.66162999, 0.33837001],\n",
       "       [0.66162999, 0.33837001],\n",
       "       [0.66162999, 0.33837001],\n",
       "       [0.89244156, 0.10755844],\n",
       "       [0.56703201, 0.43296799],\n",
       "       [0.76724849, 0.23275151],\n",
       "       [0.90409598, 0.09590402],\n",
       "       [0.78926494, 0.21073506],\n",
       "       [0.66162999, 0.33837001],\n",
       "       [0.66162999, 0.33837001],\n",
       "       [0.89886415, 0.10113585],\n",
       "       [0.06558146, 0.93441854],\n",
       "       [0.66162999, 0.33837001],\n",
       "       [0.66162999, 0.33837001],\n",
       "       [0.8774634 , 0.1225366 ],\n",
       "       [0.85954358, 0.14045642],\n",
       "       [0.66162999, 0.33837001],\n",
       "       [0.76724849, 0.23275151],\n",
       "       [0.75109458, 0.24890542],\n",
       "       [0.66162999, 0.33837001],\n",
       "       [0.66162999, 0.33837001],\n",
       "       [0.87426041, 0.12573959],\n",
       "       [0.66162999, 0.33837001],\n",
       "       [0.0385541 , 0.9614459 ],\n",
       "       [0.66162999, 0.33837001],\n",
       "       [0.66162999, 0.33837001]])"
      ]
     },
     "execution_count": 16,
     "metadata": {},
     "output_type": "execute_result"
    }
   ],
   "source": [
    "y_test_proba"
   ]
  },
  {
   "cell_type": "markdown",
   "metadata": {},
   "source": [
    "### The output from predict is the values of 0 or 1 while the output of predict_prob has two columns: the first column is the probability of predicting 0, the second column is the probability of predicting 1.\n",
    "### Most of the time we care about the second column, probability of 1."
   ]
  },
  {
   "cell_type": "markdown",
   "metadata": {},
   "source": [
    "<font color='red'>Question:</font> What is the range of the values in **y_train_proba** and **y_test_proba**? What do the values mean?"
   ]
  },
  {
   "cell_type": "code",
   "execution_count": 17,
   "metadata": {},
   "outputs": [
    {
     "name": "stdout",
     "output_type": "stream",
     "text": [
      "The range of y_train_proba is: ( 0.0009317947071890709 , 0.9990682052928109 )\n"
     ]
    }
   ],
   "source": [
    "import numpy as np\n",
    "\n",
    "print('The range of y_train_proba is: (', np.min(y_train_proba), ',', np.max(y_train_proba), ')')"
   ]
  },
  {
   "cell_type": "code",
   "execution_count": 18,
   "metadata": {},
   "outputs": [
    {
     "name": "stdout",
     "output_type": "stream",
     "text": [
      "The range of y_train_proba is: ( 0.09337985566062992 , 0.9990682052928109 )\n"
     ]
    }
   ],
   "source": [
    "# correct way\n",
    "print('The range of y_train_proba is: (', np.min(y_train_proba[:,1]), ',', np.max(y_train_proba[:,1]), ')')"
   ]
  },
  {
   "cell_type": "code",
   "execution_count": 19,
   "metadata": {},
   "outputs": [
    {
     "name": "stdout",
     "output_type": "stream",
     "text": [
      "The range of y_test_proba is: ( 0.004339213460594404 , 0.9956607865394056 )\n"
     ]
    }
   ],
   "source": [
    "print('The range of y_test_proba is: (', np.min(y_test_proba), ',', np.max(y_test_proba), ')')"
   ]
  },
  {
   "cell_type": "code",
   "execution_count": 20,
   "metadata": {},
   "outputs": [
    {
     "name": "stdout",
     "output_type": "stream",
     "text": [
      "The range of y_train_proba is: ( 0.09337985566062992 , 0.9956607865394056 )\n"
     ]
    }
   ],
   "source": [
    "# correct way\n",
    "print('The range of y_test_proba is: (', np.min(y_test_proba[:,1]), ',', np.max(y_test_proba[:,1]), ')')"
   ]
  },
  {
   "cell_type": "markdown",
   "metadata": {},
   "source": [
    "## 2.2 Threshold"
   ]
  },
  {
   "cell_type": "markdown",
   "metadata": {},
   "source": [
    "<font color='red'>Assignment:</font> Plot **y_test_proba** versus **cost** and compare it with the plot of **y_test** versus **cost**."
   ]
  },
  {
   "cell_type": "code",
   "execution_count": 21,
   "metadata": {},
   "outputs": [],
   "source": [
    "import matplotlib.pylab as plt\n",
    "%matplotlib inline"
   ]
  },
  {
   "cell_type": "code",
   "execution_count": 22,
   "metadata": {},
   "outputs": [],
   "source": [
    "costtrans = Cost_Transformer()"
   ]
  },
  {
   "cell_type": "code",
   "execution_count": 23,
   "metadata": {},
   "outputs": [],
   "source": [
    "cost = costtrans.fit_transform(test_raw)"
   ]
  },
  {
   "cell_type": "code",
   "execution_count": 24,
   "metadata": {},
   "outputs": [
    {
     "data": {
      "text/plain": [
       "<matplotlib.collections.PathCollection at 0x22274779a30>"
      ]
     },
     "execution_count": 24,
     "metadata": {},
     "output_type": "execute_result"
    },
    {
     "data": {
      "image/png": "[encoded data removed]",
      "text/plain": [
       "<Figure size 432x288 with 1 Axes>"
      ]
     },
     "metadata": {
      "needs_background": "light"
     },
     "output_type": "display_data"
    }
   ],
   "source": [
    "plt.scatter(cost, y_test)\n",
    "plt.scatter(cost, y_test_proba[:, 1])"
   ]
  },
  {
   "cell_type": "markdown",
   "metadata": {},
   "source": [
    "<font color='red'>Assignment:</font> Calculate **y_test_pred** using **predict** function. Plot **y_test_proba** versus **cost** and compare it with the plot of **y_test_pred** versus **cost**."
   ]
  },
  {
   "cell_type": "code",
   "execution_count": 25,
   "metadata": {},
   "outputs": [
    {
     "data": {
      "text/plain": [
       "<matplotlib.collections.PathCollection at 0x22274ac5430>"
      ]
     },
     "execution_count": 25,
     "metadata": {},
     "output_type": "execute_result"
    },
    {
     "data": {
      "image/png": "[encoded data removed]",
      "text/plain": [
       "<Figure size 432x288 with 1 Axes>"
      ]
     },
     "metadata": {
      "needs_background": "light"
     },
     "output_type": "display_data"
    }
   ],
   "source": [
    "plt.scatter(cost, y_test_pred)\n",
    "plt.scatter(cost, y_test_proba[:, 1])"
   ]
  },
  {
   "cell_type": "markdown",
   "metadata": {},
   "source": [
    "<font color='red'>Question:</font> How can we transform **y_test_proba** to **y_test_pred**? What is the default threshold?"
   ]
  },
  {
   "cell_type": "markdown",
   "metadata": {},
   "source": [
    "### We can transform y_test_proba to y_test_pred by comparing the probabilities with a specified threshold (1 if larger than threshold, otherwise 0). The default threshold is 0.5."
   ]
  },
  {
   "cell_type": "code",
   "execution_count": 26,
   "metadata": {},
   "outputs": [
    {
     "data": {
      "text/plain": [
       "True"
      ]
     },
     "execution_count": 26,
     "metadata": {},
     "output_type": "execute_result"
    }
   ],
   "source": [
    "y_test_proba_tfm = np.zeros(len(y_test_proba), dtype=int)\n",
    "y_test_proba_tfm[y_test_proba[:,0]<=0.5] = 1\n",
    "np.array_equiv(y_test_proba_tfm, y_test_pred) "
   ]
  },
  {
   "cell_type": "markdown",
   "metadata": {},
   "source": [
    "<font color='red'>Assignment:</font> Change the threshold value applied in the transformation from **y_test_proba** to **y_test_pred**, and visualize how the threshold value changes **precision**, **recall**, and **f1 score**. "
   ]
  },
  {
   "cell_type": "code",
   "execution_count": 34,
   "metadata": {},
   "outputs": [
    {
     "data": {
      "image/png": "[encoded data removed]",
      "text/plain": [
       "<Figure size 432x288 with 1 Axes>"
      ]
     },
     "metadata": {
      "needs_background": "light"
     },
     "output_type": "display_data"
    }
   ],
   "source": [
    "from sklearn.metrics import precision_score, recall_score, f1_score\n",
    "\n",
    "thresholds = np.linspace(0.01,0.99,10)\n",
    "# thresholds = np.linspace(0, 1, 10)\n",
    "\n",
    "precision = []\n",
    "recall = []\n",
    "f1 = []\n",
    "\n",
    "for t in thresholds:\n",
    "    y_test_proba_tfm = np.zeros(len(y_test_proba), dtype=int)\n",
    "    y_test_proba_tfm[y_test_proba[:,1]>t] = 1\n",
    "#     y_test_proba_tfm = (y_test_proba[:, 1] > t).astype(int)\n",
    "    precision.append(precision_score(y_test, y_test_proba_tfm, average=ave))\n",
    "    recall.append(recall_score(y_test, y_test_proba_tfm, average=ave))\n",
    "    f1.append(f1_score(y_test, y_test_proba_tfm, average=ave))\n",
    "\n",
    "plt.plot(thresholds, precision, label = \"precision\")\n",
    "plt.plot(thresholds, recall, label = \"recall\")\n",
    "plt.plot(thresholds, f1, label = \"f1_score\")\n",
    "plt.xlabel('Thresholds')\n",
    "plt.ylabel('Scores')\n",
    "plt.ylim([0,1])\n",
    "plt.legend()\n",
    "plt.show()"
   ]
  },
  {
   "cell_type": "markdown",
   "metadata": {},
   "source": [
    "**Answer:** As the threshold increases, precision for positive prediction increases, recall decreases, and f1 score first increases and then decreases. This makes sense because the higher the threshold, the higher probability is required to label a sample as True, so fewer and fewer samples are going to be labeled true, decreasing both TP and FP, increasing precision but lowering recall."
   ]
  },
  {
   "cell_type": "markdown",
   "metadata": {},
   "source": [
    "<font color='red'>Question:</font> What threshold value would you like to choose? How do we decide which threshold to choose? Could you provide some examples?"
   ]
  },
  {
   "cell_type": "markdown",
   "metadata": {},
   "source": [
    "### I would choose 0.8-0.85 (cross point). It's the optimal choice based on all three scores."
   ]
  },
  {
   "cell_type": "markdown",
   "metadata": {},
   "source": [
    "Because there is always a tradeoff between precision and recall, one needs to choose the threshold by weighting the tradeoff according to their practical insight into the field of application.\n",
    "\n",
    "For example, if the model is for screening cancer (not for invasive treatment), you might prioritize recall over precision because you don't want to miss the opportunity to treat the disease as early as possible. <br>\n",
    "At the other end of the spectrum you have a situation where precision is more important than recall. You would like to have less False Positives in trade off to have more False Negatives. Meaning, getting a False Positive is very costly, and a False Negative is not as much. Say you need to predict whether a capital project is worth investing or not. It is ok to miss a good opportunity as projects come and go, but you really don't want to make a substantial investment on bad projects."
   ]
  },
  {
   "cell_type": "markdown",
   "metadata": {},
   "source": [
    "<font color='red'>Question:</font> Is the threshold a hyper parameter? What kind of dataset should we use to find the threshold?"
   ]
  },
  {
   "cell_type": "markdown",
   "metadata": {},
   "source": [
    "### The threshold is not a hyper parameter. It does not change the result of the prediction. It only changes how to define yes or no. \n",
    "### Train dataset"
   ]
  },
  {
   "cell_type": "markdown",
   "metadata": {},
   "source": [
    "## 2.3 ROC AUC"
   ]
  },
  {
   "cell_type": "markdown",
   "metadata": {},
   "source": [
    "<font color='red'>Assignment:</font> Calculate the train and test **roc_auc_score**s. "
   ]
  },
  {
   "cell_type": "code",
   "execution_count": 35,
   "metadata": {},
   "outputs": [
    {
     "name": "stdout",
     "output_type": "stream",
     "text": [
      "roc_auc_score for the train set: 0.854\n",
      "roc_auc_score for the test set: 0.879\n"
     ]
    }
   ],
   "source": [
    "from sklearn.metrics import roc_auc_score\n",
    "\n",
    "print('roc_auc_score for the train set: {0:.3f}'.\n",
    "      format(roc_auc_score(y_train, y_train_proba[:, 1])))\n",
    "print('roc_auc_score for the test set: {0:.3f}'.\n",
    "      format(roc_auc_score(y_test, y_test_proba[:, 1])))"
   ]
  },
  {
   "cell_type": "markdown",
   "metadata": {},
   "source": [
    "<font color='red'>Question:</font> What do **ROC** and **AUC** stand for? "
   ]
  },
  {
   "cell_type": "markdown",
   "metadata": {},
   "source": [
    "### ROC stands for Receiver Operating Characteristics and AUC stands Area Under Curve."
   ]
  },
  {
   "cell_type": "markdown",
   "metadata": {},
   "source": [
    "- ROC curves make it easy to identify the best threshold for making a decision.\n",
    "- AUC can help decide which classification method is better."
   ]
  },
  {
   "cell_type": "markdown",
   "metadata": {},
   "source": [
    "<font color='red'>Assignment:</font> Plot the ROC curve of test scores, use the **roc_curve** module in sklearn to obtain relevant data. "
   ]
  },
  {
   "cell_type": "code",
   "execution_count": 38,
   "metadata": {},
   "outputs": [],
   "source": [
    "from sklearn.metrics import roc_curve\n",
    "\n",
    "fpr, tpr, thres = roc_curve(y_test, y_test_proba[:,1], pos_label=1)"
   ]
  },
  {
   "cell_type": "code",
   "execution_count": 39,
   "metadata": {},
   "outputs": [
    {
     "name": "stdout",
     "output_type": "stream",
     "text": [
      "(86,)\n",
      "(86,)\n",
      "(86,)\n"
     ]
    }
   ],
   "source": [
    "print(fpr.shape)\n",
    "print(tpr.shape)\n",
    "print(thres.shape)"
   ]
  },
  {
   "cell_type": "code",
   "execution_count": 40,
   "metadata": {},
   "outputs": [
    {
     "data": {
      "text/plain": [
       "array([1.99566079, 0.99566079, 0.99492627, 0.98520242, 0.97313082,\n",
       "       0.96870245, 0.96357154, 0.9614459 , 0.95920148, 0.95763625,\n",
       "       0.94341448, 0.93441854, 0.92479332, 0.91310965, 0.89980752,\n",
       "       0.8971201 , 0.88572377, 0.86883137, 0.85722916, 0.84986518,\n",
       "       0.83823629, 0.8286973 , 0.80676441, 0.78108498, 0.7530376 ,\n",
       "       0.74191747, 0.72463646, 0.71071052, 0.69220681, 0.68589483,\n",
       "       0.6577617 , 0.62156923, 0.60761398, 0.58635396, 0.55508845,\n",
       "       0.54780149, 0.50866675, 0.50130256, 0.4939378 , 0.47187205,\n",
       "       0.45478108, 0.43296799, 0.40193406, 0.39487323, 0.38552706,\n",
       "       0.38088497, 0.36027417, 0.34458791, 0.33837001, 0.32491048,\n",
       "       0.30375156, 0.28539064, 0.27352768, 0.26008282, 0.24890542,\n",
       "       0.24343862, 0.23805383, 0.23275151, 0.22753203, 0.21073506,\n",
       "       0.20587682, 0.20110204, 0.19641061, 0.19180235, 0.18578694,\n",
       "       0.18137167, 0.16861675, 0.16051746, 0.15529469, 0.15146927,\n",
       "       0.14772161, 0.14405092, 0.14045642, 0.13693727, 0.13349259,\n",
       "       0.13123707, 0.129014  , 0.12573959, 0.1225366 , 0.11735434,\n",
       "       0.11634097, 0.11334636, 0.10755844, 0.10661944, 0.10384565,\n",
       "       0.09337986])"
      ]
     },
     "execution_count": 40,
     "metadata": {},
     "output_type": "execute_result"
    }
   ],
   "source": [
    "thres"
   ]
  },
  {
   "cell_type": "code",
   "execution_count": 37,
   "metadata": {},
   "outputs": [
    {
     "data": {
      "text/plain": [
       "Text(0, 0.5, 'True Positive rate')"
      ]
     },
     "execution_count": 37,
     "metadata": {},
     "output_type": "execute_result"
    },
    {
     "data": {
      "image/png": "[encoded data removed]",
      "text/plain": [
       "<Figure size 432x288 with 1 Axes>"
      ]
     },
     "metadata": {
      "needs_background": "light"
     },
     "output_type": "display_data"
    }
   ],
   "source": [
    "# roc curve for tpr = fpr \n",
    "random_probs = [0 for i in range(len(y_test))]\n",
    "p_fpr, p_tpr, _ = roc_curve(y_test, random_probs, pos_label=1)\n",
    "\n",
    "# plot roc curves\n",
    "plt.plot(fpr, tpr)\n",
    "plt.plot(p_fpr, p_tpr, linestyle='--', color='blue')\n",
    "plt.title('ROC Curve of Test Set')\n",
    "plt.xlabel('False Positive Rate')\n",
    "plt.ylabel('True Positive rate')"
   ]
  },
  {
   "cell_type": "markdown",
   "metadata": {},
   "source": [
    "<font color='red'>Question:</font> What are the x and y axes? "
   ]
  },
  {
   "cell_type": "markdown",
   "metadata": {},
   "source": [
    "### The x axes is the false positive rate and the y axes is the true positive rate."
   ]
  },
  {
   "cell_type": "markdown",
   "metadata": {},
   "source": [
    "The ROC curve is produced by calculating and plotting the true positive rate against the false positive rate for a single classifier at a variety of thresholds. \n",
    "- x axis: false positive rate; calculated as FP/(FP+TN); same as 1-specificity\n",
    "- y axis: true positive rate; calculated as TP/(TP+FN); same as sensitivy\n",
    "\n",
    "#### Find the best threshold: top left point : https://towardsdatascience.com/optimal-threshold-for-imbalanced-classification-5884e870c293"
   ]
  },
  {
   "cell_type": "markdown",
   "metadata": {},
   "source": [
    "<font color='red'>Question:</font> What is the range of **roc_auc_score**? What does it mean when **roc_auc_score** is greater than, equal to, or less than 0.5?"
   ]
  },
  {
   "cell_type": "markdown",
   "metadata": {},
   "source": [
    "### The range is between 0 and 1. \n",
    "### When the score is 0, it means the classifier is perfectly incorrect, it is predicting the incorrect choice 100% of the time. If the score is 1, it means the classifier is perfectly correct. If the score is 0.5, it means the predictor makes random guesses."
   ]
  },
  {
   "cell_type": "markdown",
   "metadata": {},
   "source": [
    "## 2.4 Log Loss"
   ]
  },
  {
   "cell_type": "markdown",
   "metadata": {},
   "source": [
    "**Knowledge:** The loss function for logistic regression is called **log loss** or **cross entropy**. \n",
    "\n",
    "Difference between loss function and cost  function?: Often used interchangebly. The loss function is associated with every training example, and the cost function is the average value of the loss function over all the training samples."
   ]
  },
  {
   "cell_type": "markdown",
   "metadata": {},
   "source": [
    "<font color='red'>Assignment:</font> Calculate the train and test log loss."
   ]
  },
  {
   "cell_type": "code",
   "execution_count": 41,
   "metadata": {},
   "outputs": [
    {
     "name": "stdout",
     "output_type": "stream",
     "text": [
      "log loss for the train set: 0.459\n",
      "log loss for the test set: 0.473\n"
     ]
    }
   ],
   "source": [
    "from sklearn.metrics import log_loss\n",
    "\n",
    "print('log loss for the train set: {0:.3f}'.\n",
    "      format(log_loss(y_train, y_train_proba)))\n",
    "print('log loss for the test set: {0:.3f}'.\n",
    "      format(log_loss(y_test, y_test_proba)))"
   ]
  },
  {
   "cell_type": "markdown",
   "metadata": {},
   "source": [
    "<font color='red'>Question:</font> Which of these following terms are sensitive to base rates: **log loss**, **ROC AUC**, and **threshold**?"
   ]
  },
  {
   "cell_type": "markdown",
   "metadata": {},
   "source": [
    "### log loss, because when your data is imbalanced, the minority class samples will be treated as noise, therefore log loss is sensitive to the base rate (contribution/penalty from the minority class is low, thus need to balance class_weight)\n",
    "### threshold as well...\n",
    "### ROC_AUC, very different from others. It tries to tell you if this model is capable to distinguish positive class from negative class. Insensitive to base rate or threshold. "
   ]
  },
  {
   "cell_type": "markdown",
   "metadata": {},
   "source": [
    "<font color='red'>Question:</font> If you are assigned to build a classification model to help increasing the response rate in direct mail marketing, what will be the target for you model? Which metrics will you use to evaluate the performance of your model?"
   ]
  },
  {
   "cell_type": "markdown",
   "metadata": {},
   "source": [
    "### Target: The probability of whether or not the customer will respond.\n",
    "### Metrics: Use ROC AUC to compare different models; then use Precision or Recall depending on specific business needs."
   ]
  },
  {
   "cell_type": "markdown",
   "metadata": {},
   "source": [
    "# 3. Correlation between features and target"
   ]
  },
  {
   "cell_type": "markdown",
   "metadata": {},
   "source": [
    "<font color='red'>Assignment:</font> Plot the distributions of **cost** values for positive and negative **luxury** items, respectively, in one figure. Use the data in the training set."
   ]
  },
  {
   "cell_type": "code",
   "execution_count": 43,
   "metadata": {},
   "outputs": [],
   "source": [
    "# Plot cost distribution\n",
    "\n",
    "data = {\n",
    "    \"cost\": model[0].transform(X_train)[\"cost\"],\n",
    "    \"luxury\": train_raw[\"price\"].map(lambda x: 1 if float(x.strip(\"$\").replace(\",\", \"\")) > 500000 else 0)\n",
    "}\n",
    "cost_by_lux = pd.DataFrame(data).groupby(\"luxury\")"
   ]
  },
  {
   "cell_type": "code",
   "execution_count": 44,
   "metadata": {},
   "outputs": [
    {
     "data": {
      "image/png": "[encoded data removed]",
      "text/plain": [
       "<Figure size 432x288 with 1 Axes>"
      ]
     },
     "metadata": {
      "needs_background": "light"
     },
     "output_type": "display_data"
    }
   ],
   "source": [
    "len_0 = len(cost_by_lux.get_group(0))\n",
    "len_1 = len(cost_by_lux.get_group(1))\n",
    "n_bins_0 = 1 + int(np.log2(len_0))\n",
    "n_bins_1= 1 + int(np.log2(len_1))\n",
    "\n",
    "plt.hist(cost_by_lux.get_group(0)[\"cost\"], log=True, label=\"Not luxury\", bins=n_bins_0)\n",
    "plt.hist(cost_by_lux.get_group(1)[\"cost\"], log=True, label=\"Luxury\", bins=n_bins_1)\n",
    "plt.xlabel(\"Cost\")\n",
    "plt.ylabel(\"Frequency\")\n",
    "plt.title(\"Log Distribution of Cost\")\n",
    "plt.legend(loc=\"best\")\n",
    "plt.show()"
   ]
  },
  {
   "cell_type": "code",
   "execution_count": 46,
   "metadata": {},
   "outputs": [
    {
     "data": {
      "text/plain": [
       "<matplotlib.collections.PathCollection at 0x22274e6dbe0>"
      ]
     },
     "execution_count": 46,
     "metadata": {},
     "output_type": "execute_result"
    },
    {
     "data": {
      "image/png": "[encoded data removed]",
      "text/plain": [
       "<Figure size 432x288 with 1 Axes>"
      ]
     },
     "metadata": {
      "needs_background": "light"
     },
     "output_type": "display_data"
    }
   ],
   "source": [
    "# not a good example\n",
    "costtrans = Cost_Transformer()\n",
    "cost = costtrans.fit_transform(train_raw)\n",
    "ind_1 = np.where(y_train == 1)\n",
    "ind_0 = np.where(y_train == 0)\n",
    "plt.scatter(np.ones(len(ind_1[0])), [cost.values[i] for i in ind_1])\n",
    "plt.scatter(np.zeros(len(ind_0[0])), [cost.values[i] for i in ind_0])"
   ]
  },
  {
   "cell_type": "code",
   "execution_count": 52,
   "metadata": {},
   "outputs": [
    {
     "data": {
      "text/plain": [
       "<AxesSubplot:xlabel='price', ylabel='cost'>"
      ]
     },
     "execution_count": 52,
     "metadata": {},
     "output_type": "execute_result"
    },
    {
     "data": {
      "image/png": "[encoded data removed]",
      "text/plain": [
       "<Figure size 432x288 with 1 Axes>"
      ]
     },
     "metadata": {
      "needs_background": "light"
     },
     "output_type": "display_data"
    }
   ],
   "source": [
    "import seaborn as sns\n",
    "costtrans = Cost_Transformer()\n",
    "cost = costtrans.fit_transform(train_raw)\n",
    "cost_price = pd.concat([cost, y_train], axis=1)\n",
    "\n",
    "sns.boxplot(x='price', y='cost', data=cost_price)"
   ]
  },
  {
   "cell_type": "markdown",
   "metadata": {},
   "source": [
    "#### <font color='red'>Note:</font> luxury defined by price, not cost; here cost is a feature."
   ]
  },
  {
   "cell_type": "markdown",
   "metadata": {},
   "source": [
    "<font color='red'>Question:</font> From the above figure, can you tell how good **cost** is a predictor for luxury?"
   ]
  },
  {
   "cell_type": "markdown",
   "metadata": {},
   "source": [
    "### As the cost ditribution of non-luxury samples is skewed to low cost, while cost of luxury samples is centered at medium cost. These two classes are decently seperated by cost, thus cost is a good predictor for luxury."
   ]
  },
  {
   "cell_type": "markdown",
   "metadata": {},
   "source": [
    "#### <font color='red'>Note:</font> this is a very good analysis for classification problems, to check if a feature is a good indicator or not"
   ]
  },
  {
   "cell_type": "markdown",
   "metadata": {},
   "source": [
    "**Example:** Mannualy calculate the ROC AUC score of cost predictor. We can use this method to estimate the importance of a feature, before we use it in a model."
   ]
  },
  {
   "cell_type": "code",
   "execution_count": 53,
   "metadata": {},
   "outputs": [
    {
     "data": {
      "text/html": [
       "<div>\n",
       "<style scoped>\n",
       "    .dataframe tbody tr th:only-of-type {\n",
       "        vertical-align: middle;\n",
       "    }\n",
       "\n",
       "    .dataframe tbody tr th {\n",
       "        vertical-align: top;\n",
       "    }\n",
       "\n",
       "    .dataframe thead th {\n",
       "        text-align: right;\n",
       "    }\n",
       "</style>\n",
       "<table border=\"1\" class=\"dataframe\">\n",
       "  <thead>\n",
       "    <tr style=\"text-align: right;\">\n",
       "      <th></th>\n",
       "      <th>cost</th>\n",
       "      <th>price</th>\n",
       "    </tr>\n",
       "  </thead>\n",
       "  <tbody>\n",
       "    <tr>\n",
       "      <th>0</th>\n",
       "      <td>333000.000000</td>\n",
       "      <td>0</td>\n",
       "    </tr>\n",
       "    <tr>\n",
       "      <th>1</th>\n",
       "      <td>166184.183143</td>\n",
       "      <td>0</td>\n",
       "    </tr>\n",
       "    <tr>\n",
       "      <th>2</th>\n",
       "      <td>270000.000000</td>\n",
       "      <td>0</td>\n",
       "    </tr>\n",
       "    <tr>\n",
       "      <th>4</th>\n",
       "      <td>97000.000000</td>\n",
       "      <td>0</td>\n",
       "    </tr>\n",
       "    <tr>\n",
       "      <th>5</th>\n",
       "      <td>59000.000000</td>\n",
       "      <td>0</td>\n",
       "    </tr>\n",
       "  </tbody>\n",
       "</table>\n",
       "</div>"
      ],
      "text/plain": [
       "            cost  price\n",
       "0  333000.000000      0\n",
       "1  166184.183143      0\n",
       "2  270000.000000      0\n",
       "4   97000.000000      0\n",
       "5   59000.000000      0"
      ]
     },
     "execution_count": 53,
     "metadata": {},
     "output_type": "execute_result"
    }
   ],
   "source": [
    "# preparation\n",
    "train = Cost_Transformer().fit_transform(train_raw)\n",
    "train['price'] = y_train\n",
    "train.head()"
   ]
  },
  {
   "cell_type": "code",
   "execution_count": 54,
   "metadata": {},
   "outputs": [],
   "source": [
    "# number of positive data points\n",
    "num_pos = sum(train.price)\n",
    "# number of negative data points\n",
    "num_neg = len(train) - num_pos\n",
    "# thresholds\n",
    "ths = sorted(list(train.cost.unique()))"
   ]
  },
  {
   "cell_type": "code",
   "execution_count": 55,
   "metadata": {},
   "outputs": [],
   "source": [
    "tprs = []\n",
    "fprs = []\n",
    "auc = 0.0\n",
    "tpr0 = 1.0\n",
    "fpr0 = 1.0\n",
    "for th in ths:\n",
    "    # true positive rates\n",
    "    true_pos = sum(train[train['cost'] >= th]['price'])\n",
    "    tpr = true_pos / num_pos\n",
    "    tprs.append(tpr)\n",
    "    \n",
    "    # false positive rates\n",
    "    false_pos = sum(train['cost'] >= th) - true_pos\n",
    "    fpr = false_pos / num_neg\n",
    "    fprs.append(fpr)\n",
    "    \n",
    "    # area under curve\n",
    "    auc += (fpr0 - fpr) * (tpr0 + tpr)/2.0\n",
    "    fpr0 = fpr\n",
    "    tpr0 = tpr\n",
    "    "
   ]
  },
  {
   "cell_type": "code",
   "execution_count": 56,
   "metadata": {},
   "outputs": [
    {
     "data": {
      "text/plain": [
       "Text(0, 0.5, 'true positive rate')"
      ]
     },
     "execution_count": 56,
     "metadata": {},
     "output_type": "execute_result"
    },
    {
     "data": {
      "image/png": "[encoded data removed]",
      "text/plain": [
       "<Figure size 432x288 with 1 Axes>"
      ]
     },
     "metadata": {
      "needs_background": "light"
     },
     "output_type": "display_data"
    }
   ],
   "source": [
    "plt.plot(fprs, tprs)\n",
    "plt.text(0.8, 0.2, 'auc={0:.2f}'.format(auc))\n",
    "plt.xlabel('false positive rate')\n",
    "plt.ylabel('true positive rate')"
   ]
  }
 ],
 "metadata": {
  "kernelspec": {
   "display_name": "Python 3 (ipykernel)",
   "language": "python",
   "name": "python3"
  },
  "language_info": {
   "codemirror_mode": {
    "name": "ipython",
    "version": 3
   },
   "file_extension": ".py",
   "mimetype": "text/x-python",
   "name": "python",
   "nbconvert_exporter": "python",
   "pygments_lexer": "ipython3",
   "version": "3.8.15"
  },
  "toc": {
   "base_numbering": 1,
   "nav_menu": {},
   "number_sections": true,
   "sideBar": true,
   "skip_h1_title": false,
   "title_cell": "Table of Contents",
   "title_sidebar": "Contents",
   "toc_cell": false,
   "toc_position": {},
   "toc_section_display": true,
   "toc_window_display": false
  }
 },
 "nbformat": 4,
 "nbformat_minor": 4
}
